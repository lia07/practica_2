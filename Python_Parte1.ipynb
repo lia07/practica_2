{
  "nbformat": 4,
  "nbformat_minor": 0,
  "metadata": {
    "colab": {
      "provenance": [],
      "authorship_tag": "ABX9TyOOE1IXQj13mSaXdUY+DPwZ",
      "include_colab_link": true
    },
    "kernelspec": {
      "name": "python3",
      "display_name": "Python 3"
    }
  },
  "cells": [
    {
      "cell_type": "markdown",
      "metadata": {
        "id": "view-in-github",
        "colab_type": "text"
      },
      "source": [
        "<a href=\"https://colab.research.google.com/github/lia07/practica_2/blob/master/Python_Parte1.ipynb\" target=\"_parent\"><img src=\"https://colab.research.google.com/assets/colab-badge.svg\" alt=\"Open In Colab\"/></a>"
      ]
    },
    {
      "cell_type": "markdown",
      "metadata": {
        "id": "MCKGzgoRdCyq"
      },
      "source": [
        "Hola Mundo"
      ]
    },
    {
      "cell_type": "code",
      "metadata": {
        "id": "y-F-PitTc1Kp",
        "colab": {
          "base_uri": "https://localhost:8080/"
        },
        "outputId": "fb4a3616-c126-4ad7-a390-69f64b09e18d"
      },
      "source": [
        "print('Hola mundo')\n",
        "print(\"Bienvenidos al curso\")"
      ],
      "execution_count": null,
      "outputs": [
        {
          "output_type": "stream",
          "text": [
            "Hola mundo\n",
            "Bienvenidos al curso\n"
          ],
          "name": "stdout"
        }
      ]
    },
    {
      "cell_type": "code",
      "metadata": {
        "id": "CUsdnzgwds-m"
      },
      "source": [
        "print('Hola mundo\\nBienvenidos al curso...')"
      ],
      "execution_count": null,
      "outputs": []
    },
    {
      "cell_type": "code",
      "metadata": {
        "id": "eaZbi1UQdZHR"
      },
      "source": [
        "#como cadena\n",
        "print('nuevo 5')"
      ],
      "execution_count": null,
      "outputs": []
    },
    {
      "cell_type": "markdown",
      "metadata": {
        "id": "eytw_evrcNmW"
      },
      "source": []
    },
    {
      "cell_type": "code",
      "metadata": {
        "colab": {
          "base_uri": "https://localhost:8080/"
        },
        "id": "WpS_8xkodI8J",
        "outputId": "ebc24dd2-ce67-4fe3-f550-aab1570a37bf"
      },
      "source": [
        "#la diferencia es el tipo de \n",
        "# \"5\" como cadena, mensaje\n",
        "print(\"5\")\n",
        "# es un numero intero\n",
        "print(5)"
      ],
      "execution_count": null,
      "outputs": [
        {
          "output_type": "stream",
          "text": [
            "5\n",
            "5\n"
          ],
          "name": "stdout"
        }
      ]
    },
    {
      "cell_type": "code",
      "metadata": {
        "colab": {
          "base_uri": "https://localhost:8080/"
        },
        "id": "39MWQgVyeKKw",
        "outputId": "03969e6e-3001-4ec4-b695-1a124093f426"
      },
      "source": [
        "print(5 + 6)\n",
        "print(\"2\" + \"2\")"
      ],
      "execution_count": null,
      "outputs": [
        {
          "output_type": "stream",
          "text": [
            "11\n",
            "22\n"
          ],
          "name": "stdout"
        }
      ]
    },
    {
      "cell_type": "code",
      "metadata": {
        "colab": {
          "base_uri": "https://localhost:8080/"
        },
        "id": "c6lhUTyyejBF",
        "outputId": "8c7a92a4-ff9b-4eaa-8b70-aa74066a345a"
      },
      "source": [
        "print(\"5\", 9)"
      ],
      "execution_count": null,
      "outputs": [
        {
          "output_type": "stream",
          "text": [
            "hola 9\n"
          ],
          "name": "stdout"
        }
      ]
    },
    {
      "cell_type": "code",
      "metadata": {
        "colab": {
          "base_uri": "https://localhost:8080/"
        },
        "id": "ZmNL4e5NhjPA",
        "outputId": "011d5d3c-2516-4d9b-c75c-7829250a6e54"
      },
      "source": [
        "print(\"Hola mundo\" + str(77))"
      ],
      "execution_count": null,
      "outputs": [
        {
          "output_type": "stream",
          "text": [
            "Hola mundo77\n"
          ],
          "name": "stdout"
        }
      ]
    },
    {
      "cell_type": "code",
      "metadata": {
        "colab": {
          "base_uri": "https://localhost:8080/"
        },
        "id": "WMc9i2KNlk4C",
        "outputId": "1a496ac4-0c33-42cd-8fbe-0e4df678b2af"
      },
      "source": [
        "print('La suma es:', 5, '+', 9, 'es:', 5+9)"
      ],
      "execution_count": null,
      "outputs": [
        {
          "output_type": "stream",
          "text": [
            "La suma es: 5 + 9 es: 14\n"
          ],
          "name": "stdout"
        }
      ]
    },
    {
      "cell_type": "code",
      "metadata": {
        "colab": {
          "base_uri": "https://localhost:8080/"
        },
        "id": "YmV8jzyH2RhJ",
        "outputId": "e4beccc2-b440-4183-aeb3-df6ef2463b71"
      },
      "source": [
        "a = 4\n",
        "def San():\n",
        "  global a\n",
        "  a  = 9\n",
        "print(a)"
      ],
      "execution_count": null,
      "outputs": [
        {
          "output_type": "stream",
          "text": [
            "4\n"
          ],
          "name": "stdout"
        }
      ]
    },
    {
      "cell_type": "markdown",
      "metadata": {
        "id": "RZL7H78flT8o"
      },
      "source": [
        "Comentarios"
      ]
    },
    {
      "cell_type": "code",
      "metadata": {
        "id": "KlMiLRaklN5R"
      },
      "source": [
        "#comentarios"
      ],
      "execution_count": null,
      "outputs": []
    },
    {
      "cell_type": "markdown",
      "metadata": {
        "id": "danzVpTqeXEw"
      },
      "source": [
        "Asignacion de valores o Variables\n",
        "\n",
        "> 3 tipos de datos:\n",
        "Los numericos, textos y booleanos\n",
        "\n"
      ]
    },
    {
      "cell_type": "code",
      "metadata": {
        "id": "SffZhv-ieRP7"
      },
      "source": [
        "#Asignacion de valores/variables\n",
        "print(5 + 1)\n",
        "numero = 10\n",
        "print(numero)\n",
        "print(type(numero))"
      ],
      "execution_count": null,
      "outputs": []
    },
    {
      "cell_type": "code",
      "metadata": {
        "id": "u0SgRIJFihuK",
        "colab": {
          "base_uri": "https://localhost:8080/"
        },
        "outputId": "1f69fef2-09c0-4db4-82e0-e8abf7285f4c"
      },
      "source": [
        "#cadena = \"Gladys\"\n",
        "#cadena = \"Estoy \"estudiando\"\"  error\n",
        "cadena = \"Estoy 'estudiando'\"\n",
        "print(cadena)\n",
        "print(type(cadena))"
      ],
      "execution_count": null,
      "outputs": [
        {
          "output_type": "stream",
          "text": [
            "Estoy 'estudiando'\n",
            "<class 'str'>\n"
          ],
          "name": "stdout"
        }
      ]
    },
    {
      "cell_type": "code",
      "metadata": {
        "colab": {
          "base_uri": "https://localhost:8080/"
        },
        "id": "oSzUIeBhWx5T",
        "outputId": "7b1ced6f-7d3e-4354-d66a-0d1566df92a5"
      },
      "source": [
        "#tipo de datos boolianos\n",
        "valor = True\n",
        "print(valor)\n",
        "print(type(valor))"
      ],
      "execution_count": null,
      "outputs": [
        {
          "output_type": "stream",
          "text": [
            "True\n",
            "<class 'bool'>\n"
          ],
          "name": "stdout"
        }
      ]
    },
    {
      "cell_type": "code",
      "metadata": {
        "id": "jI9Z6GNDWxRg"
      },
      "source": [
        "#asignar  una variable y almacenar en otra variable \n",
        "num1 = 5\n",
        "num2 = 5.1\n",
        "suma = num1 + num2\n",
        "print(suma)"
      ],
      "execution_count": null,
      "outputs": []
    },
    {
      "cell_type": "code",
      "metadata": {
        "id": "JaCHWH04Xq2S"
      },
      "source": [
        "#asignar  una variable y almacenar en otra variable \n",
        "num1 = 5\n",
        "num2 = 5.1\n",
        "suma = num1 + num2 * 10 / 5\n",
        "print(suma)"
      ],
      "execution_count": null,
      "outputs": []
    },
    {
      "cell_type": "code",
      "metadata": {
        "colab": {
          "base_uri": "https://localhost:8080/"
        },
        "id": "2aIV6EQIYLdZ",
        "outputId": "f4726f0b-2989-4637-da5b-5fe87aac520a"
      },
      "source": [
        "#asignar  una variable y almacenar en otra variable \n",
        "num1 = 5\n",
        "num2 = 5.1\n",
        "suma = (num1 + num2) * 10 / 5\n",
        "print(suma)"
      ],
      "execution_count": null,
      "outputs": [
        {
          "output_type": "stream",
          "text": [
            "20.2\n"
          ],
          "name": "stdout"
        }
      ]
    },
    {
      "cell_type": "code",
      "metadata": {
        "id": "9dET_MBTYQyN"
      },
      "source": [
        "#asignar  una variable y almacenar en otra variable \n",
        "#mostrar en pantalla\n",
        "num1 = 5\n",
        "num2 = 5.1\n",
        "resultado = num1 + num2 * 10 / 5\n",
        "print(\"El resultado es: \", resultado)"
      ],
      "execution_count": null,
      "outputs": []
    },
    {
      "cell_type": "markdown",
      "metadata": {
        "id": "z2lScGKHY3rs"
      },
      "source": [
        "Tipado dinámico"
      ]
    },
    {
      "cell_type": "code",
      "metadata": {
        "id": "fD-TptYyY6vo"
      },
      "source": [
        "# tipado dinamico\n",
        "valor = 10\n",
        "print(valor)\n",
        "valor = \"Gladys\"\n",
        "print(valor)"
      ],
      "execution_count": null,
      "outputs": []
    },
    {
      "cell_type": "markdown",
      "metadata": {
        "id": "zgCUCNXoWwWY"
      },
      "source": [
        "Comentarios"
      ]
    },
    {
      "cell_type": "code",
      "metadata": {
        "id": "UPmGJDVZWzf8"
      },
      "source": [
        "#comentario\n",
        "valor = 5\n",
        "print(valor)\n",
        "valor = \"Gladys\"\n",
        "print(valor)"
      ],
      "execution_count": null,
      "outputs": []
    },
    {
      "cell_type": "markdown",
      "metadata": {
        "id": "Ja7p9KxLYu4K"
      },
      "source": [
        "Operadores aritmeticos (suma, resta, multiplicacion, division, modulo, exponenciacion)"
      ]
    },
    {
      "cell_type": "code",
      "metadata": {
        "colab": {
          "base_uri": "https://localhost:8080/"
        },
        "id": "pGzNmlFpYyC0",
        "outputId": "8e2712da-1674-4312-d7af-6a36e143f818"
      },
      "source": [
        "#operadores aritmeticos\n",
        "#suma\n",
        "\n",
        "resultado = 10 + 5\n",
        "print(resultado)"
      ],
      "execution_count": null,
      "outputs": [
        {
          "output_type": "stream",
          "text": [
            "15\n"
          ],
          "name": "stdout"
        }
      ]
    },
    {
      "cell_type": "code",
      "metadata": {
        "id": "GmWdZ0EhbZhP"
      },
      "source": [
        "#suma\n",
        "numero1 = 2\n",
        "numero2 = 3 \n",
        "resultado = numero1 + numero2\n",
        "print(resultado)\n"
      ],
      "execution_count": null,
      "outputs": []
    },
    {
      "cell_type": "code",
      "metadata": {
        "id": "Bw3q-_25cdIS"
      },
      "source": [
        "#resta\n",
        "numero1 = 2\n",
        "numero2 = 3 \n",
        "resultado = numero1 - numero2\n",
        "print(resultado)\n"
      ],
      "execution_count": null,
      "outputs": []
    },
    {
      "cell_type": "code",
      "metadata": {
        "colab": {
          "base_uri": "https://localhost:8080/"
        },
        "id": "PyIIPb3mdBKo",
        "outputId": "df9c2d79-6f65-4e51-ada5-774d6a7a0959"
      },
      "source": [
        "#multiplicación\n",
        "numero1 = 10\n",
        "numero2 = 5\n",
        "resultado = numero1 * numero2\n",
        "print(resultado)\n"
      ],
      "execution_count": null,
      "outputs": [
        {
          "output_type": "stream",
          "text": [
            "50\n"
          ],
          "name": "stdout"
        }
      ]
    },
    {
      "cell_type": "code",
      "metadata": {
        "id": "ofmfgbh5dM6T"
      },
      "source": [
        "#multiplicación\n",
        "numero1 = 10\n",
        "numero2 = 3\n",
        "resultado = numero1 * numero2\n",
        "print(resultado)"
      ],
      "execution_count": null,
      "outputs": []
    },
    {
      "cell_type": "code",
      "metadata": {
        "colab": {
          "base_uri": "https://localhost:8080/"
        },
        "id": "eBf7H_4idb1O",
        "outputId": "2e1e39f5-1fbd-4849-83b6-6e5418d807b1"
      },
      "source": [
        "#division donde el resultado es con decimal\n",
        "numero1 = 10\n",
        "numero2 = 3\n",
        "resultado = numero1 / numero2\n",
        "print(resultado)"
      ],
      "execution_count": null,
      "outputs": [
        {
          "output_type": "stream",
          "text": [
            "3.3333333333333335\n"
          ],
          "name": "stdout"
        }
      ]
    },
    {
      "cell_type": "code",
      "metadata": {
        "colab": {
          "base_uri": "https://localhost:8080/"
        },
        "id": "04mn3ETodQlv",
        "outputId": "c6bf0bcc-f5e7-4a4c-8d7b-677e4852bdd2"
      },
      "source": [
        "#division donde el resultado entero\n",
        "#division entera en python\n",
        "numero1 = 10\n",
        "numero2 = 3\n",
        "resultado = numero1 // numero2\n",
        "print(resultado)"
      ],
      "execution_count": null,
      "outputs": [
        {
          "output_type": "stream",
          "text": [
            "3\n"
          ],
          "name": "stdout"
        }
      ]
    },
    {
      "cell_type": "code",
      "metadata": {
        "id": "thfrO5xSdom6"
      },
      "source": [
        "#módulo, el resultado es el residuo(resto de la division)\n",
        "numero1 = 10\n",
        "numero2 = 3\n",
        "resultado = numero1 % numero2\n",
        "print(resultado)"
      ],
      "execution_count": null,
      "outputs": []
    },
    {
      "cell_type": "code",
      "metadata": {
        "colab": {
          "base_uri": "https://localhost:8080/"
        },
        "id": "Z0ksp3hmelZx",
        "outputId": "00c6599d-4374-4d2f-b54c-260ffda6d8d7"
      },
      "source": [
        "#exponienciacion\n",
        "#regla de prioridad\n",
        "numero1 = 2\n",
        "numero2 = 5\n",
        "resultado = numero1 ** numero2\n",
        "print(resultado)"
      ],
      "execution_count": null,
      "outputs": [
        {
          "output_type": "stream",
          "text": [
            "32\n"
          ],
          "name": "stdout"
        }
      ]
    },
    {
      "cell_type": "code",
      "metadata": {
        "id": "AXU6RwlsfeLt"
      },
      "source": [
        "#Exponenciacion\n",
        "#reglas de prioridad\n",
        "resultado = 3**3 *(13/5 - (2*4)) \n",
        "print(resultado)"
      ],
      "execution_count": null,
      "outputs": []
    },
    {
      "cell_type": "code",
      "metadata": {
        "id": "QX6IW3MQdA0O"
      },
      "source": [],
      "execution_count": null,
      "outputs": []
    },
    {
      "cell_type": "code",
      "metadata": {
        "id": "aezWYt6ejruz"
      },
      "source": [
        "#Exponenciacion\n",
        "#reglas de prioridad\n",
        "resultado = 3**2 *(13/5 - (2*3)) \n",
        "print(resultado)"
      ],
      "execution_count": null,
      "outputs": []
    },
    {
      "cell_type": "markdown",
      "metadata": {
        "id": "hqdPVBPLwbGv"
      },
      "source": [
        "Sintaxis Básicos"
      ]
    },
    {
      "cell_type": "code",
      "metadata": {
        "id": "mOePTqqjo_z_"
      },
      "source": [
        "def main():\n",
        "\n",
        "  nombre = \"Python\"\n",
        "  print(\"Hola\", nombre)\n",
        "\n",
        "if __name__ == '__main__':\n",
        "  main()"
      ],
      "execution_count": null,
      "outputs": []
    },
    {
      "cell_type": "markdown",
      "metadata": {
        "id": "QIsjqIHc7cZH"
      },
      "source": [
        "2.1.1.11 Funcion print()"
      ]
    },
    {
      "cell_type": "code",
      "metadata": {
        "colab": {
          "base_uri": "https://localhost:8080/"
        },
        "id": "9cwgkU41Wzk1",
        "outputId": "9a263eeb-6f3d-47cd-abf3-b082c8f96584"
      },
      "source": [
        "# Barra diagonal inversa como la n forman un símbolo especial denominado \n",
        "#carácter de nueva línea \n",
        "print(\"La araña subio a su telaraña.\\n\")\n",
        "print()\n",
        "print(\"Vino la lluvia\\ny se la llevo.\")"
      ],
      "execution_count": null,
      "outputs": [
        {
          "output_type": "stream",
          "text": [
            "La araña subio a su telaraña.\n",
            "\n",
            "\n",
            "Vino la lluvia\n",
            "y se la llevo.\n"
          ],
          "name": "stdout"
        }
      ]
    },
    {
      "cell_type": "markdown",
      "metadata": {
        "id": "pEDm94CoXCcV"
      },
      "source": [
        "2.1.1.13 Funcion print() utilizando argumentos multiples"
      ]
    },
    {
      "cell_type": "code",
      "metadata": {
        "colab": {
          "base_uri": "https://localhost:8080/"
        },
        "id": "NLAVa9OEXDlQ",
        "outputId": "06879706-00b8-4372-f62c-c0b867d87064"
      },
      "source": [
        "print(\"La Witsi Witsi Arañar\",  \"subió\",  \"a su telaraña.\")"
      ],
      "execution_count": null,
      "outputs": [
        {
          "output_type": "stream",
          "text": [
            "La Witsi Witsi Arañarsubióa su telaraña.\n"
          ],
          "name": "stdout"
        }
      ]
    },
    {
      "cell_type": "markdown",
      "metadata": {
        "id": "Xq2kk4iiXUN_"
      },
      "source": [
        "2.1.1.15 Los argumentos de palabra clave"
      ]
    },
    {
      "cell_type": "code",
      "metadata": {
        "colab": {
          "base_uri": "https://localhost:8080/"
        },
        "id": "V_fohCe_XpaZ",
        "outputId": "681b80e3-2fb5-43dc-a523-3e1aab2a1c3e"
      },
      "source": [
        "print(\"Mi nombre es\", \"Python.\", end=\" \")\n",
        "print(\"Monty Python.\")\n",
        "prnt()"
      ],
      "execution_count": null,
      "outputs": [
        {
          "output_type": "stream",
          "text": [
            "Mi nombre es Python. Monty Python.\n"
          ],
          "name": "stdout"
        }
      ]
    },
    {
      "cell_type": "code",
      "metadata": {
        "colab": {
          "base_uri": "https://localhost:8080/"
        },
        "id": "1VzsktpaeQZP",
        "outputId": "1206c5c4-6c49-4cc0-acb3-806c83d51b72"
      },
      "source": [
        "print(\"Mi nombre es \", end=\"\")\n",
        "print(\"Monty Python.\")"
      ],
      "execution_count": null,
      "outputs": [
        {
          "output_type": "stream",
          "text": [
            "Mi nombre es Monty Python.\n"
          ],
          "name": "stdout"
        }
      ]
    },
    {
      "cell_type": "code",
      "metadata": {
        "id": "Xuzi6q5s69AC"
      },
      "source": [],
      "execution_count": null,
      "outputs": []
    },
    {
      "cell_type": "code",
      "metadata": {
        "colab": {
          "base_uri": "https://localhost:8080/"
        },
        "id": "GmzeZgzXfEeM",
        "outputId": "ea8ea6c2-b049-4d36-f625-8ee2673b65d1"
      },
      "source": [
        "print(\"Mi nombre es \", end=\" \")\n",
        "print(\"Monty Python.\")"
      ],
      "execution_count": null,
      "outputs": [
        {
          "output_type": "stream",
          "text": [
            "Mi nombre es  Monty Python.\n"
          ],
          "name": "stdout"
        }
      ]
    },
    {
      "cell_type": "markdown",
      "metadata": {
        "id": "z9Z4rybliTKt"
      },
      "source": [
        "2.1.1.17 La función print() - Los argumentos de palabras clave"
      ]
    },
    {
      "cell_type": "code",
      "metadata": {
        "colab": {
          "base_uri": "https://localhost:8080/"
        },
        "id": "BvrJDfH8iYrO",
        "outputId": "ba3adb8c-193a-4b45-f08c-b3789b1b48ef"
      },
      "source": [
        "print(\"Mi\", \"nombre\", \"es\", \"Monty\", \"Python.\", sep=\"-\")"
      ],
      "execution_count": null,
      "outputs": [
        {
          "output_type": "stream",
          "text": [
            "Mi-nombre-es-Monty-Python.\n"
          ],
          "name": "stdout"
        }
      ]
    },
    {
      "cell_type": "code",
      "metadata": {
        "colab": {
          "base_uri": "https://localhost:8080/"
        },
        "id": "HQFS7hj5j6WE",
        "outputId": "3bc70d18-b5a3-4317-b36a-a79d310ed679"
      },
      "source": [
        "print(\"Mi\", \"nombre\", \"es\", \"Monty\", \"Python.\", sep=\"-\")\n",
        "print(\"Mi\", \"nombre\", \"es\", \"Monty\", \"Python.\", sep=\" \")\n",
        "print(\"Mi\", \"nombre\", \"es\", \"Monty\", \"Python.\", sep=\" \")\n",
        "print(\"Mi\", \"nombre\" \"es\" \"Monty\", \"Python.\")\n",
        "\n",
        "#print(\"Mi\", \"nombre\", \"es\", \"Monty\", \"Python.\", end=\"\")"
      ],
      "execution_count": null,
      "outputs": [
        {
          "output_type": "stream",
          "text": [
            "Mi-nombre-es-Monty-Python.\n",
            "Mi nombre es Monty Python.\n",
            "Mi nombre es Monty Python.\n",
            "Mi nombreesMonty Python.\n"
          ],
          "name": "stdout"
        }
      ]
    },
    {
      "cell_type": "markdown",
      "metadata": {
        "id": "DBEeYEgklK2w"
      },
      "source": [
        "2.1.1.18 La funcion print() Los argumentos de palabras clave"
      ]
    },
    {
      "cell_type": "code",
      "metadata": {
        "colab": {
          "base_uri": "https://localhost:8080/"
        },
        "id": "CCwQy34HlTsC",
        "outputId": "2aae380d-c026-4ee9-f3f8-fc067008ed06"
      },
      "source": [
        "print(\"Mi\", \"nombre\", \"es\", sep=\"_\", end=\"*\")\n",
        "print(\"Monty\", \"Python.\", sep=\"*\", end=\"*\\n\")"
      ],
      "execution_count": null,
      "outputs": [
        {
          "output_type": "stream",
          "text": [
            "Mi_nombre_es*Monty*Python.*\n"
          ],
          "name": "stdout"
        }
      ]
    },
    {
      "cell_type": "code",
      "metadata": {
        "colab": {
          "base_uri": "https://localhost:8080/"
        },
        "id": "zw9QUhJbmQdJ",
        "outputId": "45aa2e7c-1f35-4a99-e10f-6f1c35f8c53e"
      },
      "source": [
        "print(\"Mi\", \"nombre\", \"es\", sep=\"_\", end=\" \")\n",
        "print(\"Monty\", \"Python.\", sep=\"\", end=\"*\\n\")"
      ],
      "execution_count": null,
      "outputs": [
        {
          "output_type": "stream",
          "text": [
            "Mi_nombre_es MontyPython.*\n"
          ],
          "name": "stdout"
        }
      ]
    },
    {
      "cell_type": "code",
      "metadata": {
        "colab": {
          "base_uri": "https://localhost:8080/"
        },
        "id": "o1e7G18doAir",
        "outputId": "44b86c33-594d-4a80-edec-76f026174e83"
      },
      "source": [
        "#Laboratorio\n",
        "print(\"Fundamentos\",\"Programación\",\"\\nen\", sep =\"-\", end=\"\")\n",
        "print(\"Python\")"
      ],
      "execution_count": null,
      "outputs": [
        {
          "output_type": "stream",
          "text": [
            "Fundamentos-Programación-\n",
            "enPython\n"
          ],
          "name": "stdout"
        }
      ]
    },
    {
      "cell_type": "code",
      "metadata": {
        "id": "yVqUZHlwoaXm"
      },
      "source": [
        "#Laboratorio\n",
        "print(\"    *\")\n",
        "print(\"   * *\")\n",
        "print(\"  *   *\")\n",
        "print(\" *     *\")\n",
        "print(\"***   ***\")\n",
        "print(\"  *   *\")\n",
        "print(\"  *   *\")\n",
        "print(\"  *****\")"
      ],
      "execution_count": null,
      "outputs": []
    },
    {
      "cell_type": "markdown",
      "metadata": {
        "id": "yGji2qrMqwbY"
      },
      "source": [
        "2.1.2.2 Literales - los datos en si mismos"
      ]
    },
    {
      "cell_type": "code",
      "metadata": {
        "colab": {
          "base_uri": "https://localhost:8080/"
        },
        "id": "wtgS5UTPq1Hj",
        "outputId": "25bff1a2-7485-48db-89fe-47eb6dccc577"
      },
      "source": [
        "#cadena (string)\n",
        "print(\"2\")\n",
        "#entero\n",
        "print(2)"
      ],
      "execution_count": null,
      "outputs": [
        {
          "output_type": "stream",
          "text": [
            "2\n",
            "2\n"
          ],
          "name": "stdout"
        }
      ]
    },
    {
      "cell_type": "markdown",
      "metadata": {
        "id": "XjZT8XNbvAjG"
      },
      "source": [
        "2.1.2.10 Valores Booleanos"
      ]
    },
    {
      "cell_type": "code",
      "metadata": {
        "colab": {
          "base_uri": "https://localhost:8080/"
        },
        "id": "5ASpvtPNu6X-",
        "outputId": "9ce56186-b927-419e-e5dd-14eba40d675d"
      },
      "source": [
        "print(True > False)\n",
        "print(True < False)"
      ],
      "execution_count": null,
      "outputs": [
        {
          "output_type": "stream",
          "text": [
            "True\n",
            "False\n"
          ],
          "name": "stdout"
        }
      ]
    },
    {
      "cell_type": "code",
      "metadata": {
        "colab": {
          "base_uri": "https://localhost:8080/"
        },
        "id": "eDGj6py3zHYg",
        "outputId": "65ea0153-8e8d-4c64-e75b-bc998cfccf51"
      },
      "source": [
        "var = 1\n",
        "print(var)"
      ],
      "execution_count": null,
      "outputs": [
        {
          "output_type": "stream",
          "text": [
            "1\n"
          ],
          "name": "stdout"
        }
      ]
    },
    {
      "cell_type": "markdown",
      "metadata": {
        "id": "4iWRQM_dG84a"
      },
      "source": [
        "MÓDULO III\n",
        "\n",
        "*  Valores booleanos.\n",
        "*  Instrucciones if-elif-else.\n",
        "*  Bucles while y for.\n",
        "*  Control de flujo.\n",
        "*  Operaciones lógicas y bit a bit.\n",
        "*  Listas y arreglos.\n",
        "\n",
        "\n",
        "\n",
        "\n",
        "\n"
      ]
    },
    {
      "cell_type": "markdown",
      "metadata": {
        "id": "8JYCdNmKes5i"
      },
      "source": [
        "Valores booleanos\n",
        "\n",
        "*   Igualdad\n",
        "\n",
        "\n"
      ]
    },
    {
      "cell_type": "code",
      "metadata": {
        "id": "TVj-74HvtMKY",
        "colab": {
          "base_uri": "https://localhost:8080/"
        },
        "outputId": "3b0d7abc-2b87-4893-f8b0-eafeb3cafd20"
      },
      "source": [
        "# asignando 0 a var\n",
        "var = 0 \n",
        "print(var == 0)\n",
        "# asignando 1 a var\n",
        "var = 1 \n",
        "print(var == 0)"
      ],
      "execution_count": null,
      "outputs": [
        {
          "output_type": "stream",
          "text": [
            "True\n",
            "False\n"
          ],
          "name": "stdout"
        }
      ]
    },
    {
      "cell_type": "markdown",
      "metadata": {
        "id": "bnaA13VShC2T"
      },
      "source": [
        "Desigualdad"
      ]
    },
    {
      "cell_type": "code",
      "metadata": {
        "id": "y103pcGohGCG"
      },
      "source": [
        "# asignando 0 a var\n",
        "var = 0 \n",
        "print(var != 0)\n",
        "# asignando 1 a var\n",
        "var = 1 \n",
        "print(var != 0)"
      ],
      "execution_count": null,
      "outputs": []
    },
    {
      "cell_type": "markdown",
      "metadata": {
        "id": "iS3y1Wvoh81j"
      },
      "source": [
        "Operador de comparacion: Mayor que"
      ]
    },
    {
      "cell_type": "code",
      "metadata": {
        "colab": {
          "base_uri": "https://localhost:8080/"
        },
        "id": "eopsZfGAi1gk",
        "outputId": "e5960b10-8528-4625-c92b-6bc894add2c7"
      },
      "source": [
        "# mayor que\n",
        "a  = 6\n",
        "b = 5\n",
        "a > b"
      ],
      "execution_count": null,
      "outputs": [
        {
          "output_type": "execute_result",
          "data": {
            "text/plain": [
              "True"
            ]
          },
          "metadata": {
            "tags": []
          },
          "execution_count": 53
        }
      ]
    },
    {
      "cell_type": "code",
      "metadata": {
        "colab": {
          "base_uri": "https://localhost:8080/"
        },
        "id": "wr9IO-2X3vUF",
        "outputId": "9a632191-e577-490b-e53f-c5802fcabda4"
      },
      "source": [
        "# mayor que\n",
        "x = 7\n",
        "y = 1\n",
        "x < y"
      ],
      "execution_count": null,
      "outputs": [
        {
          "output_type": "execute_result",
          "data": {
            "text/plain": [
              "False"
            ]
          },
          "metadata": {
            "tags": []
          },
          "execution_count": 12
        }
      ]
    },
    {
      "cell_type": "markdown",
      "metadata": {
        "id": "cW1Uc0sNjJ4m"
      },
      "source": [
        "Operadores de Comparación: Mayor o igual que"
      ]
    },
    {
      "cell_type": "code",
      "metadata": {
        "colab": {
          "base_uri": "https://localhost:8080/"
        },
        "id": "ly1S49YC67AB",
        "outputId": "93bdaf5c-2e3c-4d4c-a788-c20b7da092bf"
      },
      "source": [
        "#operadores relacionales\n",
        "a = 4\n",
        "b = 6\n",
        "c = 10\n",
        "resultado = (a + b) == c\n",
        "print(resultado)"
      ],
      "execution_count": null,
      "outputs": [
        {
          "output_type": "stream",
          "text": [
            "True\n"
          ],
          "name": "stdout"
        }
      ]
    },
    {
      "cell_type": "code",
      "metadata": {
        "colab": {
          "base_uri": "https://localhost:8080/"
        },
        "id": "ORyWiI6b7-Pj",
        "outputId": "df45d31d-6627-4599-bc9f-df693136d61d"
      },
      "source": [
        "# operadores relacionales\n",
        "a = 4\n",
        "b = 6\n",
        "c = 10\n",
        "resultado = (a + b) != c\n",
        "print(resultado)"
      ],
      "execution_count": null,
      "outputs": [
        {
          "output_type": "stream",
          "text": [
            "False\n"
          ],
          "name": "stdout"
        }
      ]
    },
    {
      "cell_type": "markdown",
      "metadata": {
        "id": "YG1Eq9OBt0oD"
      },
      "source": [
        "Convertir un tipo de dato a otro"
      ]
    },
    {
      "cell_type": "code",
      "metadata": {
        "id": "X3kAa5j20iCE"
      },
      "source": [
        "datoA = int(input('Ingresa un numero:'))\n",
        "datoB = int(input('Ingresa otro numero:'))\n",
        "print(datoA, datoB)"
      ],
      "execution_count": null,
      "outputs": []
    },
    {
      "cell_type": "code",
      "metadata": {
        "colab": {
          "base_uri": "https://localhost:8080/"
        },
        "id": "7ujo-rYut5mi",
        "outputId": "6cac38f6-86c8-4100-9be4-82a4a615e537"
      },
      "source": [
        "# convertir tipo de moneda a otro\n",
        "pesos = input('¿Cuantos pesos bolivianos tienes:? ')\n",
        "pesos = float(pesos)\n",
        "valor_dolar = 7\n",
        "dolares = pesos / valor_dolar\n",
        "#mostrar dcon 2 decimales\n",
        "dolares = round(dolares, 2)\n",
        "#convertir a cadena(string)\n",
        "dolares = str(dolares)\n",
        "print('Tienes $' + dolares + 'dolares')"
      ],
      "execution_count": null,
      "outputs": [
        {
          "output_type": "stream",
          "text": [
            "¿Cuantos pesos bolivianos tienes:? 200\n",
            "Tienes $28.57dolares\n"
          ],
          "name": "stdout"
        }
      ]
    },
    {
      "cell_type": "markdown",
      "metadata": {
        "id": "lb7fn0yOpf3o"
      },
      "source": [
        "Salida de datos por consola"
      ]
    },
    {
      "cell_type": "code",
      "metadata": {
        "id": "Hhlnan2jpixx"
      },
      "source": [
        "#salida\n",
        "nombre = 'Gladys'\n",
        "edad = 25\n",
        "#f nueva dorma para la salida de datos en consola en python\n",
        "print(f 'Hola {nombre} tienes {edad} años ')"
      ],
      "execution_count": null,
      "outputs": []
    },
    {
      "cell_type": "code",
      "metadata": {
        "id": "aH0bL1iLrOtO"
      },
      "source": [
        "#salida\n",
        "nombre = 'Gladys'\n",
        "edad = 25\n",
        "#f nueva forma para la salida de datos en consola en python\n",
        "print(f 'Hola {nombre} tienes {edad} años ')"
      ],
      "execution_count": null,
      "outputs": []
    },
    {
      "cell_type": "markdown",
      "metadata": {
        "id": "fGJcvhi0r01k"
      },
      "source": [
        "Entrada de datos"
      ]
    },
    {
      "cell_type": "code",
      "metadata": {
        "id": "j7D64-eUr3gD"
      },
      "source": [
        "# entrada de datos en python\n",
        "nombre = input('Dijite su nombre: ')\n",
        "print(f 'El numero es {numero + 1}')"
      ],
      "execution_count": null,
      "outputs": []
    },
    {
      "cell_type": "code",
      "metadata": {
        "id": "WGjzFjWJrzqP"
      },
      "source": [
        "# funciones integradas de tipo cadena(str)\n",
        "num = str(20.95)\n",
        "print(num)"
      ],
      "execution_count": null,
      "outputs": []
    },
    {
      "cell_type": "code",
      "metadata": {
        "id": "pV8HzdWt1cQ0"
      },
      "source": [
        "# Funciones integradas binarias\n",
        "num = bin(10)\n",
        "print(num)"
      ],
      "execution_count": null,
      "outputs": []
    },
    {
      "cell_type": "code",
      "metadata": {
        "id": "GgwW8ggz1u45"
      },
      "source": [
        "# Funciones integradas exadecimal\n",
        "num = hex(10)\n",
        "print(num)"
      ],
      "execution_count": null,
      "outputs": []
    },
    {
      "cell_type": "code",
      "metadata": {
        "id": "5xdsXIrG10dm"
      },
      "source": [
        "# Funciones integradas int para convertir a entero\n",
        "#num = int('10', 2)\n",
        "num = int('0xa', 16)\n",
        "print(num)"
      ],
      "execution_count": null,
      "outputs": []
    },
    {
      "cell_type": "code",
      "metadata": {
        "id": "XaArOo6-2Y-k"
      },
      "source": [
        "#round dedondea a un numero\n",
        "num = roun('5.5')\n",
        "print(num)"
      ],
      "execution_count": null,
      "outputs": []
    },
    {
      "cell_type": "code",
      "metadata": {
        "id": "TXtAvG4S2vs-"
      },
      "source": [
        "#lend cuenta cuantos caracteres tiene tu cadena\n",
        "#a esta funcion se le pasa una cadena\n",
        "num = lend('Gladys')\n",
        "print(num)"
      ],
      "execution_count": null,
      "outputs": []
    },
    {
      "cell_type": "code",
      "metadata": {
        "id": "rJ5xjp4735tQ"
      },
      "source": [
        "#ejercicio 1\n",
        "a = float(input('a -> '))\n",
        "b = float(input('b -> '))\n",
        "c = float(input('c -> '))\n",
        "\n",
        "resultado = (a**3 * (b**2 - 2*a*c))/(2*b) \n",
        "print(f'el resulltado es : {resultado}')\n"
      ],
      "execution_count": null,
      "outputs": []
    },
    {
      "cell_type": "code",
      "metadata": {
        "id": "G6XR1yAW5gzU"
      },
      "source": [
        "#¿Cuál es la salida del siguiente fragmento de código?\n",
        "x = \"1\"\n",
        "\n",
        "if x == 1:\n",
        "    print(\"uno\")\n",
        "elif x == \"1\":\n",
        "    if int (x)> 1:\n",
        "        print(\"dos\")\n",
        "    elif int (x) < 1:\n",
        "        print(\"tres\")\n",
        "    else:\n",
        "        print(\"cuatro\")\n",
        "if int (x) == 1:\n",
        "    print(\"cinco\")\n",
        "else:\n",
        "    print(\"seis\")  "
      ],
      "execution_count": null,
      "outputs": []
    },
    {
      "cell_type": "markdown",
      "metadata": {
        "id": "-D_beF68gikt"
      },
      "source": [
        "Condiciones y ejecución condicional"
      ]
    },
    {
      "cell_type": "code",
      "metadata": {
        "colab": {
          "base_uri": "https://localhost:8080/"
        },
        "id": "yW40Zz_f-ZGU",
        "outputId": "f2e8a7fb-9541-4fe8-abb9-5481a6d876bc"
      },
      "source": [
        "datoA = int(input('Ingresa un numero:'))\n",
        "datoB = int(input('Ingresa otro numero:'))\n",
        "print(datoA, datoB)"
      ],
      "execution_count": null,
      "outputs": [
        {
          "output_type": "stream",
          "text": [
            "Ingresa un numero:7\n",
            "Ingresa otro numero:4\n",
            "7 4\n"
          ],
          "name": "stdout"
        }
      ]
    },
    {
      "cell_type": "code",
      "metadata": {
        "id": "W5UeZw5nAr8s",
        "colab": {
          "base_uri": "https://localhost:8080/"
        },
        "outputId": "1bd9438b-96fa-4457-e533-228dcbb2d3d1"
      },
      "source": [
        "datoA = int(input('Ingresa un numero:'))\n",
        "datoB = int(input('Ingresa otro numero:'))\n",
        "\n",
        "if(datoA < datoB):\n",
        "  print(datoA)"
      ],
      "execution_count": null,
      "outputs": [
        {
          "output_type": "stream",
          "text": [
            "Ingresa un numero:5\n",
            "Ingresa otro numero:6\n",
            "5\n"
          ],
          "name": "stdout"
        }
      ]
    },
    {
      "cell_type": "code",
      "metadata": {
        "id": "ObqLHXdDBM7J"
      },
      "source": [
        "datoA = int(input('Ingresa un numero:'))\n",
        "datoB = int(input('Ingresa otro numero:'))\n",
        "\n",
        "if datoA > datoB :\n",
        "  print(datoA)"
      ],
      "execution_count": null,
      "outputs": []
    },
    {
      "cell_type": "code",
      "metadata": {
        "colab": {
          "base_uri": "https://localhost:8080/"
        },
        "id": "SBwmPMNAJJTF",
        "outputId": "8ce91603-02ef-45dd-ce8c-dc39149cd939"
      },
      "source": [
        "num = int(input('Ingrese el valor del numero:'))\n",
        "if num > 5 :\n",
        "  print('El numero es mayor de 5')"
      ],
      "execution_count": null,
      "outputs": [
        {
          "output_type": "stream",
          "text": [
            "Ingrese el valor del numero:8\n",
            "El numero es mayor de 5\n"
          ],
          "name": "stdout"
        }
      ]
    },
    {
      "cell_type": "code",
      "metadata": {
        "id": "wD-dKXA7XalF"
      },
      "source": [
        "#condicionales para mas condiciones if-else-elif\n",
        "numero = int(input('Dijite un numero: '))\n",
        "if numero >0:\n",
        "  print('El numero es positivo')\n",
        "elif numero == 0:\n",
        "  print('El numero es cero ')\n",
        "else:\n",
        "  print('El numro es negativo')\n",
        "#print('Fin del programa')"
      ],
      "execution_count": null,
      "outputs": []
    },
    {
      "cell_type": "markdown",
      "metadata": {
        "id": "2fQRZ6cd2Zdp"
      },
      "source": [
        "Condicional if, else"
      ]
    },
    {
      "cell_type": "code",
      "metadata": {
        "colab": {
          "base_uri": "https://localhost:8080/"
        },
        "id": "J4k9gq0MM9Eh",
        "outputId": "f44895a2-18ac-4f7b-9315-0883693f35c3"
      },
      "source": [
        "numero = int(input('numero es: '))\n",
        "if numero % 2 == 0:\n",
        "  print('es par')\n",
        "else:\n",
        "  print('es impar')"
      ],
      "execution_count": null,
      "outputs": [
        {
          "output_type": "stream",
          "text": [
            "numero es: 5\n",
            "es impar\n"
          ],
          "name": "stdout"
        }
      ]
    },
    {
      "cell_type": "code",
      "metadata": {
        "id": "m4d-qqHqVTOd"
      },
      "source": [
        "edad = int(input(\"¿Cuántos años tiene?: \"))\n",
        "if edad < 18:\n",
        "    print(\"Es usted menor de edad\")\n",
        "if edad >= 18:\n",
        "    print(\"Es usted mayor de edad\")\n",
        "print(\"¡Hasta la próxima!\")"
      ],
      "execution_count": null,
      "outputs": []
    },
    {
      "cell_type": "code",
      "metadata": {
        "id": "l0fG1YRSWRv1"
      },
      "source": [
        "edad = int(input(\"¿Cuántos años tiene?: \"))\n",
        "if edad >= 18:\n",
        "    print(\"Es usted mayor de edad\")\n",
        "elif edad < 0:\n",
        "    print(\"No se puede tener una edad negativa\")\n",
        "else:\n",
        "    print(\"Es usted menor de edad\")"
      ],
      "execution_count": null,
      "outputs": []
    },
    {
      "cell_type": "code",
      "metadata": {
        "id": "dtQtyrn-2b6L"
      },
      "source": [
        "edad = int(input('Escribe tu edad: '))\n",
        "if edad > 17:\n",
        "  print('Eres mayor de edad')\n",
        "else:\n",
        "  print('Eres menor de edad')"
      ],
      "execution_count": null,
      "outputs": []
    },
    {
      "cell_type": "code",
      "metadata": {
        "id": "4puk6LvlWv-U"
      },
      "source": [
        "edad = int(input(\"¿Cuántos años tiene?: \"))\n",
        "if edad < 0:\n",
        "    print(\"No se puede tener una edad negativa\")\n",
        "elif edad >= 0 and edad < 18:\n",
        "    print(\"Es usted menor de edad\")\n",
        "else:\n",
        "    print(\"Es usted mayor de edad\")"
      ],
      "execution_count": null,
      "outputs": []
    },
    {
      "cell_type": "markdown",
      "metadata": {
        "id": "4UuOJYAuRRH1"
      },
      "source": [
        "Condicional if-else-elif"
      ]
    },
    {
      "cell_type": "code",
      "metadata": {
        "id": "NyPUn0Z9xkAl"
      },
      "source": [
        "numero = int(input('Escribe tu numero'))\n",
        "if numero > 5:\n",
        "  print('Es mayor a 5')\n",
        "elif numero == 5:\n",
        "  print('Es igual a 5')\n",
        "else:\n",
        "  print('Es menor a 5')"
      ],
      "execution_count": null,
      "outputs": []
    },
    {
      "cell_type": "code",
      "metadata": {
        "id": "OQDkZIhGUxCP"
      },
      "source": [
        "numero = int(input(\"Escriba un número positivo: \"))\n",
        "if numero < 0:\n",
        "    print(\"¡Le pedi escribir un número positivo!\")\n",
        "print(f\"Ha escrito el número {numero}\")"
      ],
      "execution_count": null,
      "outputs": []
    },
    {
      "cell_type": "markdown",
      "metadata": {
        "id": "t7LnzOJyUib1"
      },
      "source": [
        "Ejemplo"
      ]
    },
    {
      "cell_type": "code",
      "metadata": {
        "id": "ZhT_-nu31RTy"
      },
      "source": [
        "menu = \"\"\"\n",
        "Bienvenido al conversor de monedas\n",
        "\n",
        "1. Pesos bolivianos\n",
        "2. Pesos argentinos\n",
        "3. Pesos mexicanos\n",
        "Elige una opcion:\n",
        "\"\"\"\n",
        "\n",
        "opcion = int(input(menu))\n",
        "\n",
        "if opcion == 1:\n",
        "  pesos = input('¿Cuantos pesos bolivianos tienes:? ')\n",
        "  pesos = float(pesos)\n",
        "  valor_dolar = 7\n",
        "  dolares = pesos / valor_dolar\n",
        "  dolares = round(dolares, 2)\n",
        "  dolares = str(dolares)\n",
        "  print('Tienes $' + dolares + 'dolares')\n",
        "elif opcion == 2:\n",
        "  pesos = input('¿Cuantos pesos argentinos tienes:? ')\n",
        "  pesos = float(pesos)\n",
        "  valor_dolar = 65\n",
        "  dolares = pesos / valor_dolar\n",
        "  dolares = round(dolares, 2)\n",
        "  dolares = str(dolares)\n",
        "  print('Tienes $' + dolares + 'dolares')\n",
        "elif opcion == 3:\n",
        "  pesos = input('¿Cuantos pesos mexicanos tienes:? ')\n",
        "  pesos = float(pesos)\n",
        "  valor_dolar = 25\n",
        "  dolares = pesos / valor_dolar\n",
        "  dolares = round(dolares, 2)\n",
        "  dolares = str(dolares)\n",
        "  print('Tienes $' + dolares + 'dolares')\n",
        "else:\n",
        "  print('Ingresa una opcion correcta')"
      ],
      "execution_count": null,
      "outputs": []
    },
    {
      "cell_type": "markdown",
      "metadata": {
        "id": "w6_2ePFgRu2I"
      },
      "source": [
        "Ciclo while"
      ]
    },
    {
      "cell_type": "code",
      "metadata": {
        "id": "mYV4QRbtUSUq"
      },
      "source": [
        "var = 0\n",
        "while var < 10:\n",
        "  print(var)"
      ],
      "execution_count": null,
      "outputs": []
    },
    {
      "cell_type": "code",
      "metadata": {
        "id": "AhRW6n8KTvbO"
      },
      "source": [
        "var = 0\n",
        "while var < 10:\n",
        "  print(var)\n",
        "  var = var + 1\n",
        "print('Fin')"
      ],
      "execution_count": null,
      "outputs": []
    },
    {
      "cell_type": "code",
      "metadata": {
        "id": "hC5LOG1XCPjW"
      },
      "source": [
        "x = 2\n",
        "while x < 10:\n",
        "  print(x)\n",
        "  x = x+1"
      ],
      "execution_count": null,
      "outputs": []
    },
    {
      "cell_type": "code",
      "metadata": {
        "id": "MvftXXmJTOS_"
      },
      "source": [
        "numero = 0\n",
        "print('Tabla del 3')\n",
        "while numero <= 10:\n",
        "  print(f'{numero * 3}')\n",
        "  numero += 1\n",
        "print('Fin')"
      ],
      "execution_count": null,
      "outputs": []
    },
    {
      "cell_type": "code",
      "metadata": {
        "id": "jw8qeWkiigyW"
      },
      "source": [
        "#bucle \n",
        "#contador = 2\n",
        "#print('2 elevado a' + str(contador) + ' igual a: ' + str(2**contador))\n",
        "#contador = 3\n",
        "#print('2 elevado a' + str(contador) + ' igual a: ' + str(2**contador))\n",
        "#contador = 4\n",
        "#print('2 elevado a' + str(contador) + ' igual a: ' + str(2**contador))\n",
        "\n",
        "def run():\n",
        "  LIMITE = 1000\n",
        "  contador = 0\n",
        "  potencia_2 = 2**contador\n",
        "  while potencia_2 < LIMITE:\n",
        "    print('2 elevado a' + str(contador) + ' igual a: ' + str(2**contador))\n",
        "\n",
        "\n",
        "if __name__ == '__main__':\n",
        "  run()"
      ],
      "execution_count": null,
      "outputs": []
    },
    {
      "cell_type": "code",
      "metadata": {
        "id": "NvU9YtPjiZDq"
      },
      "source": [
        "#bucle \n",
        "#contador = 2\n",
        "#print('2 elevado a' + str(contador) + ' igual a: ' + str(2**contador))\n",
        "#contador = 3\n",
        "#print('2 elevado a' + str(contador) + ' igual a: ' + str(2**contador))\n",
        "#contador = 4\n",
        "#print('2 elevado a' + str(contador) + ' igual a: ' + str(2**contador))\n",
        "\n",
        "def run():\n",
        "  LIMITE = 1000\n",
        "  \n",
        "  contador = 0\n",
        "  potencia_2 = 2**contador\n",
        "  while potencia_2 < LIMITE:\n",
        "    print('2 elevado a' + str(contador) + ' igual a: ' + str(2**contador))\n",
        "    contador = contador + 1\n",
        "    potencia_2 = 2**contador\n",
        "\n",
        "\n",
        "if __name__ == '__main__':\n",
        "  run()"
      ],
      "execution_count": null,
      "outputs": []
    },
    {
      "cell_type": "markdown",
      "metadata": {
        "id": "d8As8uhFRxZw"
      },
      "source": [
        "Ciclo for"
      ]
    },
    {
      "cell_type": "code",
      "metadata": {
        "id": "U7PcSvoYoh9b"
      },
      "source": [
        "#Un bucle definido y simple\n",
        "for i in [5, 4, 3, 2, 1]:\n",
        "  print(i)\n",
        "print('Fin')"
      ],
      "execution_count": null,
      "outputs": []
    },
    {
      "cell_type": "code",
      "metadata": {
        "id": "53tvV1N5ppFL"
      },
      "source": [
        "estudiantes = ['Estudiante1', 'Estudinate2', 'Estudiante3']\n",
        "for estudiantes in estudiantes:\n",
        "  print('Feliz navidad: ', estudiantes)\n",
        "print('Fin')"
      ],
      "execution_count": null,
      "outputs": []
    },
    {
      "cell_type": "code",
      "metadata": {
        "id": "sddkiG2tDApK"
      },
      "source": [
        "palabras = \"Gladys\"\n",
        "for letra in palabras:\n",
        "  print(letra)"
      ],
      "execution_count": null,
      "outputs": []
    },
    {
      "cell_type": "code",
      "metadata": {
        "id": "VG55UzhdEL10"
      },
      "source": [
        "#operacion de dos en dos\n",
        "palabras = \"Gladys\"\n",
        "for i in range(0,50,2):\n",
        "  print(i)"
      ],
      "execution_count": null,
      "outputs": []
    },
    {
      "cell_type": "code",
      "metadata": {
        "id": "NjGdeR3YDp6P"
      },
      "source": [
        "x = 2\n",
        "while x < 10:\n",
        "  print(x)\n",
        "  x = x+1\n"
      ],
      "execution_count": null,
      "outputs": []
    },
    {
      "cell_type": "code",
      "metadata": {
        "id": "5CL9Ocovem8P"
      },
      "source": [
        "#bucle \n",
        "contador = 0\n",
        "print('2 elevado a' + str(contador) + ' igual a: ' + str(2**contador))"
      ],
      "execution_count": null,
      "outputs": []
    },
    {
      "cell_type": "code",
      "metadata": {
        "id": "3bgtGuAqg9G4"
      },
      "source": [
        "#bucle while\n",
        "''' contador = 1\n",
        "print(contador)\n",
        "while contador = contador + 1:\n",
        "  print(contador) '''\n",
        "\n",
        "#bucle for\n",
        "for contador in range(1000):\n",
        "  print(contador)\n"
      ],
      "execution_count": null,
      "outputs": []
    },
    {
      "cell_type": "code",
      "metadata": {
        "id": "r7u2-9m3fhkt"
      },
      "source": [
        "a  = range(1000)\n",
        "print(a)\n",
        "#for contador in range(1000):\n",
        "#  print(contador)"
      ],
      "execution_count": null,
      "outputs": []
    },
    {
      "cell_type": "code",
      "metadata": {
        "id": "htOx2aPuj0sG"
      },
      "source": [
        "#lista\n",
        "a  = list(range(1000))\n",
        "print(a)"
      ],
      "execution_count": null,
      "outputs": []
    },
    {
      "cell_type": "code",
      "metadata": {
        "id": "z4MEkJQ8kyuZ"
      },
      "source": [
        "#lista\n",
        "#a  = list(range(1000))\n",
        "#print(a)\n",
        "\n",
        "for contador in range(1000):\n",
        "  print(contador)"
      ],
      "execution_count": null,
      "outputs": []
    },
    {
      "cell_type": "code",
      "metadata": {
        "id": "0E8Df1x4kFn3"
      },
      "source": [
        "#lista\n",
        "#a  = list(range(1000))\n",
        "#print(a)\n",
        "\n",
        "for contador in range(1001):\n",
        "  print(contador)"
      ],
      "execution_count": null,
      "outputs": []
    },
    {
      "cell_type": "code",
      "metadata": {
        "id": "nQppHlg3knwW"
      },
      "source": [
        "#lista\n",
        "#a  = list(range(1000))\n",
        "#print(a)\n",
        "\n",
        "for contador in range(1, 1001):\n",
        "  print(contador)"
      ],
      "execution_count": null,
      "outputs": []
    },
    {
      "cell_type": "code",
      "metadata": {
        "id": "KG--11iHk-gw"
      },
      "source": [
        "#lista\n",
        "#a  = list(range(1000))\n",
        "#print(a)\n",
        "\n",
        "#for contador in range(1001):\n",
        "#  print(contador)\n",
        "for i in range(10):\n",
        "  print(11 * i)\n"
      ],
      "execution_count": null,
      "outputs": []
    },
    {
      "cell_type": "code",
      "metadata": {
        "id": "q5CR9-1yRzPS",
        "colab": {
          "base_uri": "https://localhost:8080/"
        },
        "outputId": "19100014-9066-4a10-b2c8-92869a41f2d7"
      },
      "source": [
        "print('Comienzo')\n",
        "for i in[0, 1, 2]:\n",
        "  print('Hola', end = ' ')\n",
        "print()\n",
        "print('Fin')"
      ],
      "execution_count": null,
      "outputs": [
        {
          "output_type": "stream",
          "text": [
            "Comienzo\n",
            "Hola Hola Hola \n",
            "Fin\n"
          ],
          "name": "stdout"
        }
      ]
    },
    {
      "cell_type": "code",
      "metadata": {
        "id": "DbGYDutMTosR"
      },
      "source": [
        "def run():\n",
        "  nombre = input('Escribe tu nombre: ')\n",
        "  for letra in nombre:\n",
        "    print(letra)\n",
        "\n",
        "if __name__ == '__main__':\n",
        "  run()\n",
        "  "
      ],
      "execution_count": null,
      "outputs": []
    },
    {
      "cell_type": "code",
      "metadata": {
        "id": "DDkVcKBzUKVf"
      },
      "source": [
        "def run():\n",
        "  #nombre = input('Escribe tu nombre: ')\n",
        "  #for letra in nombre:\n",
        "  # print(letra)\n",
        "\n",
        "\n",
        "  frase = input('Escriba una frase: ')\n",
        "  for caracter in frase:\n",
        "    print(caracter.upper())\n",
        "\n",
        "\n",
        "if __name__ == '__main__':\n",
        "  run()\n",
        "\n"
      ],
      "execution_count": null,
      "outputs": []
    },
    {
      "cell_type": "code",
      "metadata": {
        "id": "rSdyCLMLPCUo"
      },
      "source": [
        "#imprimir solamente numeros pares entre el rango de 0-999\n",
        "#continue(salto)\n",
        "def run():\n",
        "  for contador in range(1000):\n",
        "    if contador % 2!=0:\n",
        "      continue\n",
        "    print(contador)\n",
        "\n",
        "\n",
        "if __name__ == '__main__':\n",
        "  run()"
      ],
      "execution_count": null,
      "outputs": []
    },
    {
      "cell_type": "code",
      "metadata": {
        "id": "FQoMeTJ9VWru"
      },
      "source": [
        "def run():\n",
        "  pass\n",
        "\n",
        "\n",
        "if __name__"
      ],
      "execution_count": null,
      "outputs": []
    },
    {
      "cell_type": "code",
      "metadata": {
        "id": "PdLAjRMVROPW"
      },
      "source": [
        "# palabra break(se corta el ciclo)\n",
        "def run():\n",
        "  for i in range(10000):\n",
        "    print(i)\n",
        "    if i == 5678:\n",
        "      break\n",
        "    \n",
        "\n",
        "if __name__ == '__main__':\n",
        "  run()"
      ],
      "execution_count": null,
      "outputs": []
    },
    {
      "cell_type": "code",
      "metadata": {
        "id": "ri5vdEp3Uoyv"
      },
      "source": [
        "# palabra (break)\n",
        "def run():\n",
        "  texto = input('Escribe un texto: ')\n",
        "  for letra in texto:\n",
        "    if letra == 'o':\n",
        "      break\n",
        "    print(letra)  \n",
        "\n",
        "\n",
        "if __name__ == '__main__':\n",
        "  run()"
      ],
      "execution_count": null,
      "outputs": []
    },
    {
      "cell_type": "code",
      "metadata": {
        "id": "obRK3jRRIaIB"
      },
      "source": [
        "# Ejemplo:\n",
        "#Si el numero es primo o no\n",
        "\n",
        "\n"
      ],
      "execution_count": null,
      "outputs": []
    },
    {
      "cell_type": "code",
      "metadata": {
        "id": "x8LMUiE0Zfms",
        "colab": {
          "base_uri": "https://localhost:8080/"
        },
        "outputId": "2fcb8401-f336-4748-b178-bb2cf8f67749"
      },
      "source": [
        "def es_primo(numero):\n",
        "  contador = 0\n",
        "  for i in range(1, numero + 1):\n",
        "    if i == 1 or i == numero:\n",
        "      continue\n",
        "    if numero % i ==0:\n",
        "      contador +=1\n",
        "  if contador == 0:\n",
        "    return True\n",
        "  else:\n",
        "    return False\n",
        "\n",
        "def run():\n",
        "  numero = int(input('Escribe un numero: '))\n",
        "  if es_primo(numero):\n",
        "    print('Es primo')\n",
        "  else:\n",
        "    print('No es primo')\n",
        "\n",
        "\n",
        "if __name__ == '__main__':\n",
        "  run()"
      ],
      "execution_count": null,
      "outputs": [
        {
          "output_type": "stream",
          "text": [
            "Escribe un numero: 10\n",
            "No es primo\n"
          ],
          "name": "stdout"
        }
      ]
    },
    {
      "cell_type": "code",
      "metadata": {
        "id": "rmOWOrAeGSqY"
      },
      "source": [
        "# def es_primo(numero):\n",
        "#   contador = 0\n",
        "#   for i in range(1, numero + 1):\n",
        "#     if i == 1 or i == numero:\n",
        "#       continue\n",
        "#     if numero % i ==0:\n",
        "#       contador +=1\n",
        "#   if contador == 0:\n",
        "#     return True\n",
        "#   else:\n",
        "#     return False\n",
        "\n",
        "def run():\n",
        "  numero = int(input('Escribe un numero: '))\n",
        "  if es_primo(numero):\n",
        "    print('Es primo')\n",
        "  else:\n",
        "    print('No es primo')\n",
        "\n",
        "\n",
        "if __name__ == '__main__':\n",
        "  run()"
      ],
      "execution_count": null,
      "outputs": []
    },
    {
      "cell_type": "code",
      "metadata": {
        "id": "Q0re21sb5Wk-",
        "colab": {
          "base_uri": "https://localhost:8080/"
        },
        "outputId": "426d65a7-0483-4361-a6d6-e9f45d810477"
      },
      "source": [
        "# Ejercicio: Adivina el numero(Juego)\n",
        "# la computadora piensa en un numero aleatorio entre 1 al 100\n",
        "import random\n",
        "\n",
        "\n",
        "def run():\n",
        "  numero_aleatorio = random.randint(1, 100)\n",
        "  numero_elegido = int(input('Elige un numero del 1 al 100: '))\n",
        "  while numero_elegido != numero_aleatorio:\n",
        "    if numero_elegido < numero_aleatorio:\n",
        "      print('Buscar un numero mas grande')\n",
        "    else:\n",
        "      print('Buscar un numero mas pequeño')\n",
        "    numero_elegido = int(input('Elige otro numero: '))\n",
        "\n",
        "  print('¡Ganaste!')\n",
        "\n",
        "\n",
        "\n",
        "if __name__ == '__main__':\n",
        "  run()"
      ],
      "execution_count": null,
      "outputs": [
        {
          "output_type": "stream",
          "text": [
            "Elige un numero del 1 al 100: 15\n",
            "Buscar un numero mas grande\n",
            "Elige otro numero: 55\n",
            "Buscar un numero mas pequeño\n"
          ],
          "name": "stdout"
        }
      ]
    },
    {
      "cell_type": "markdown",
      "metadata": {
        "id": "FaI-zQhL_6nq"
      },
      "source": [
        "Listas"
      ]
    },
    {
      "cell_type": "code",
      "metadata": {
        "id": "7ybilBIP_6GO",
        "colab": {
          "base_uri": "https://localhost:8080/"
        },
        "outputId": "15eff9ad-7233-4851-9946-6db7fc9d36b6"
      },
      "source": [
        "#Ejemplo\n",
        "def strangeListFunction(n):\n",
        "    strangeList = []\n",
        "    \n",
        "    for i in range(0, n):\n",
        "        strangeList.insert(0, i)\n",
        "    \n",
        "    return strangeList\n",
        "\n",
        "print(strangeListFunction(5))"
      ],
      "execution_count": null,
      "outputs": [
        {
          "output_type": "stream",
          "text": [
            "[4, 3, 2, 1, 0]\n"
          ],
          "name": "stdout"
        }
      ]
    },
    {
      "cell_type": "code",
      "metadata": {
        "id": "4NP1YTZphm7g"
      },
      "source": [
        "#Ejemplo\n",
        "def sumaDeLista(lst):\n",
        "    sum = 0\n",
        "    \n",
        "    for elem in lst:\n",
        "        sum += elem\n",
        "    \n",
        "    return sum\n",
        "print(sumaDeLista([5, 4, 3]))"
      ],
      "execution_count": null,
      "outputs": []
    },
    {
      "cell_type": "markdown",
      "metadata": {
        "id": "L9mc9AIGMzOv"
      },
      "source": [
        "MODULO IV\n",
        "Funciones\n",
        "Tuplas\n",
        "Diccionarios y procesamiento de datos"
      ]
    },
    {
      "cell_type": "markdown",
      "metadata": {
        "id": "JbUuXEC5eFgB"
      },
      "source": [
        "Funciones"
      ]
    },
    {
      "cell_type": "markdown",
      "metadata": {
        "id": "-Xd7xczdeIhi"
      },
      "source": [
        "**Tuplas**"
      ]
    },
    {
      "cell_type": "code",
      "metadata": {
        "colab": {
          "base_uri": "https://localhost:8080/"
        },
        "id": "fVWUaGhmM1A9",
        "outputId": "d5be21d3-c41e-4807-877f-6c10b5531d9f"
      },
      "source": [
        "#Tuplas(inmutables)\n",
        "#Ejemplo: cambiar valores a una tupla\n",
        "x = (\"apple\", \"banana\", \"cherry\")\n",
        "y = list(x)\n",
        "y[1] = \"kiwi\"\n",
        "x = tuple(y)\n",
        "\n",
        "print(x)"
      ],
      "execution_count": null,
      "outputs": [
        {
          "output_type": "stream",
          "text": [
            "('apple', 'kiwi', 'cherry')\n"
          ],
          "name": "stdout"
        }
      ]
    },
    {
      "cell_type": "code",
      "metadata": {
        "colab": {
          "base_uri": "https://localhost:8080/"
        },
        "id": "7ZQA9gQxRKUs",
        "outputId": "dc4466d3-9afa-4abc-bb02-f750e7ba0066"
      },
      "source": [
        "# Para poder hacer cambios en una tupla:\n",
        "\n",
        "# convertirmos la tupla en una lista\n",
        "# agregamos o quitamos el elemento\n",
        "# convertirmos la lista en una tupla\n",
        "\n",
        "fruits = (\"apple\", \"pear\", \"orange\", \"peach\")\n",
        "\n",
        "fruit_to_list = list(fruits)\n",
        "fruit_to_list[0] = \"berry\"\n",
        "\n",
        "fruits = tuple(fruit_to_list)\n",
        "\n",
        "print(fruits)\n",
        "print(type(fruits))"
      ],
      "execution_count": null,
      "outputs": [
        {
          "output_type": "stream",
          "text": [
            "('berry', 'pear', 'orange', 'peach')\n",
            "<class 'tuple'>\n"
          ],
          "name": "stdout"
        }
      ]
    },
    {
      "cell_type": "markdown",
      "metadata": {
        "id": "-pwTCapLRDI2"
      },
      "source": [
        "Funciones"
      ]
    },
    {
      "cell_type": "code",
      "metadata": {
        "id": "KK1kGvmLerTf"
      },
      "source": [
        "def mensaje(que, numero):\n",
        "    print(\"Ingresa\", que, \"número\", numero)"
      ],
      "execution_count": null,
      "outputs": []
    },
    {
      "cell_type": "code",
      "metadata": {
        "id": "cpafkIZWej7A"
      },
      "source": [
        "def miFuncion(a, b, c):\n",
        "    print(a, b, c)\n",
        "\n",
        "miFuncion(1, 2, 3)"
      ],
      "execution_count": null,
      "outputs": []
    },
    {
      "cell_type": "code",
      "metadata": {
        "colab": {
          "base_uri": "https://localhost:8080/"
        },
        "id": "kcywb8F8fUek",
        "outputId": "81f5cfa7-74e8-4115-be3e-1135a4ed4aff"
      },
      "source": [
        "def mensaje(que, numero):\n",
        "    print(\"Ingresa\", que, \"número\", numero)\n",
        "\n",
        "mensaje(\"teléfono\", 11)\n",
        "mensaje(\"precio\", 5)\n",
        "mensaje(\"número\", \"número\")"
      ],
      "execution_count": null,
      "outputs": [
        {
          "output_type": "stream",
          "text": [
            "Ingresa teléfono número 11\n",
            "Ingresa precio número 5\n",
            "Ingresa número número número\n"
          ],
          "name": "stdout"
        }
      ]
    },
    {
      "cell_type": "code",
      "metadata": {
        "id": "TUU29ZFkiee2"
      },
      "source": [
        "#Ejemplo: Indice de Masa Corporal (IMC)\n",
        "def imc(peso, altura):\n",
        "    return peso / altura ** 2\n",
        "\n",
        "print(imc(52.5, 1.65))"
      ],
      "execution_count": null,
      "outputs": []
    },
    {
      "cell_type": "code",
      "metadata": {
        "id": "U3uW5-n6H8S4"
      },
      "source": [
        "def saludo():\n",
        "  print(\"Hola mundo\")\n",
        "\n",
        "for i in range(0, 50, 3):\n",
        "  print(i)"
      ],
      "execution_count": null,
      "outputs": []
    },
    {
      "cell_type": "code",
      "metadata": {
        "id": "EGGTpk73IUAQ"
      },
      "source": [
        "def saludo():\n",
        "  print(\"Hola mundo\")\n",
        "\n",
        "for i in range(50, 0, -1):\n",
        "  print(i)"
      ],
      "execution_count": null,
      "outputs": []
    },
    {
      "cell_type": "code",
      "metadata": {
        "id": "UtasdBSB68XO"
      },
      "source": [
        "def imprimir_mensaje():\n",
        "  print('Mensaje especial: ')\n",
        "  print('¡Estoy aprendiendo a usar funciones!')\n",
        "imprimir_mensaje()\n",
        "imprimir_mensaje()\n",
        "imprimir_mensaje()\n",
        "#print('Mensjae especial: ')\n",
        "#print('¡Estoy aprendiendo a usar funciones!')\n",
        "#print('Mensjae especial: ')\n",
        "#print('¡Estoy aprendiendo a usar funciones!')\n",
        "#print('Mensjae especial: ')\n",
        "#print('¡Estoy aprendiendo a usar funciones!')"
      ],
      "execution_count": null,
      "outputs": []
    },
    {
      "cell_type": "code",
      "metadata": {
        "id": "zVZsLDjsXq0b"
      },
      "source": [
        "def es_palindromo(palabra):\n",
        "    palabra = palabra.replace(' ', '').lower()\n",
        "    \n",
        "    if palabra[::] == palabra[::-1]:\n",
        "        return True\n",
        "    else:\n",
        "        return False\n",
        "        \n",
        "\n",
        "def run():\n",
        "    palabra = input('Ingrese una palabra: ')\n",
        "    if es_palindromo(palabra):\n",
        "        print('Es palindromo')\n",
        "    else:\n",
        "        print('No es palindromo')\n",
        "\n",
        "\n",
        "if __name__ == \"__main__\":\n",
        "    run()"
      ],
      "execution_count": null,
      "outputs": []
    },
    {
      "cell_type": "code",
      "metadata": {
        "colab": {
          "base_uri": "https://localhost:8080/"
        },
        "id": "RVle3719YVLG",
        "outputId": "f3bc8339-6a6d-4d49-f567-6311cb198694"
      },
      "source": [
        "def palindromo(palabra):\n",
        "  palabra = palabra.replace(' ', ' ')\n",
        "  palabra = palabra.lower()\n",
        "  palabra_invertida = palabra[::-1]\n",
        "  if palabra == palabra_invertida:\n",
        "    return True\n",
        "  else:\n",
        "    return False\n",
        "\n",
        "\n",
        "def run():\n",
        "    palabra = input('Escribe una palabra: ')\n",
        "    es_palindromo = palindromo(palabra)\n",
        "    if es_palindromo == True:\n",
        "      print('Es palindromo')\n",
        "    else:\n",
        "      print('No es palindromo')\n",
        "\n",
        "\n",
        "if __name__ == '__main__':\n",
        "      run()"
      ],
      "execution_count": null,
      "outputs": [
        {
          "output_type": "stream",
          "text": [
            "Escribe una palabra: python\n",
            "No es palindromo\n"
          ],
          "name": "stdout"
        }
      ]
    },
    {
      "cell_type": "code",
      "metadata": {
        "id": "nOszS81oZ4Rc"
      },
      "source": [
        "def run():\n",
        "    palabra = str(input(\"Escribe un palabra: \")).lower().replace(' ', '')\n",
        "    if palabra[::] == palabra[::-1]:\n",
        "        print('Es palíndromo')\n",
        "    else:\n",
        "        print('No es palíndromo')\n",
        "\n",
        "\n",
        "if __name__ == '__main__':\n",
        "    run()"
      ],
      "execution_count": null,
      "outputs": []
    },
    {
      "cell_type": "code",
      "metadata": {
        "id": "INV-Qx-XHBSe",
        "colab": {
          "base_uri": "https://localhost:8080/"
        },
        "outputId": "7be90eba-d59d-4a16-ff42-ebf7f5bf4044"
      },
      "source": [
        "x = 1\n",
        "while x < 4 :\n",
        "    print(x)\n",
        "    x = x + 1"
      ],
      "execution_count": null,
      "outputs": [
        {
          "output_type": "stream",
          "text": [
            "1\n",
            "2\n",
            "3\n"
          ],
          "name": "stdout"
        }
      ]
    },
    {
      "cell_type": "code",
      "metadata": {
        "colab": {
          "base_uri": "https://localhost:8080/"
        },
        "id": "8pXK2sR292_p",
        "outputId": "84b54c9e-d48a-42ef-9cc8-5c8b89e144e8"
      },
      "source": [
        "def retorno(a=3):\n",
        "  print(a)\n",
        "retorno(9)\n"
      ],
      "execution_count": null,
      "outputs": [
        {
          "output_type": "stream",
          "text": [
            "9\n"
          ],
          "name": "stdout"
        }
      ]
    },
    {
      "cell_type": "code",
      "metadata": {
        "colab": {
          "base_uri": "https://localhost:8080/"
        },
        "id": "AyqQxsxhAmHQ",
        "outputId": "2f9fcc17-bc5a-4d72-c63a-3f804cba6844"
      },
      "source": [
        "a = [1, 4, 4, 5]\n",
        "a=set(a)\n",
        "print(a)"
      ],
      "execution_count": null,
      "outputs": [
        {
          "output_type": "stream",
          "text": [
            "{1, 4, 5}\n"
          ],
          "name": "stdout"
        }
      ]
    },
    {
      "cell_type": "markdown",
      "metadata": {
        "id": "2ih3ZXlQdFv3"
      },
      "source": [
        "Diccionario"
      ]
    },
    {
      "cell_type": "code",
      "metadata": {
        "id": "V6f8k0HGhBM2"
      },
      "source": [
        "# Metodos diccionario\n",
        "# variable.keys('devuelve_el_nombre_llave')\n",
        "# variable.values('devuelve_el_valor_de_la_llave)\n",
        "# variables.items('devuelve_tanto_el_nombre_como_el_valor')"
      ],
      "execution_count": null,
      "outputs": []
    },
    {
      "cell_type": "code",
      "metadata": {
        "colab": {
          "base_uri": "https://localhost:8080/"
        },
        "id": "apOLTVMo7bDX",
        "outputId": "6f824fbf-d08b-409a-df7b-010094b75be1"
      },
      "source": [
        "#Ejemplo:\n",
        "dict = {\"gato\" : \"cat\", \"perro\" : \"dog\", \"caballo\" : \"horse\"}\n",
        "\n",
        "for key in dict.keys():\n",
        "    print(key, \"->\", dict[key])"
      ],
      "execution_count": null,
      "outputs": [
        {
          "output_type": "stream",
          "text": [
            "gato -> cat\n",
            "perro -> dog\n",
            "caballo -> horse\n"
          ],
          "name": "stdout"
        }
      ]
    },
    {
      "cell_type": "code",
      "metadata": {
        "colab": {
          "base_uri": "https://localhost:8080/"
        },
        "id": "LS03bh0FdHr-",
        "outputId": "e7feb525-7fa8-40a0-ae20-968af6c3ca82"
      },
      "source": [
        "#Ejemplo, los diccionarios requieren de varias lineas\n",
        "\n",
        "def run():\n",
        "  mi_diccionario = {\n",
        "      'llave1': 1,\n",
        "      'llave2': 2,\n",
        "      'llave3': 3,\n",
        "  }\n",
        "\n",
        "  print(mi_diccionario)\n",
        "\n",
        "if __name__ == '__main__':\n",
        "  run()"
      ],
      "execution_count": null,
      "outputs": [
        {
          "output_type": "stream",
          "text": [
            "{'llave1': 1, 'llave2': 2, 'llave3': 3}\n"
          ],
          "name": "stdout"
        }
      ]
    },
    {
      "cell_type": "code",
      "metadata": {
        "id": "VCF0nAKdeeQt",
        "colab": {
          "base_uri": "https://localhost:8080/"
        },
        "outputId": "495e1960-6d83-43a7-f309-8e267ffec598"
      },
      "source": [
        "#Ejemplo, los diccionarios requieren de varias lineas\n",
        "\n",
        "def run():\n",
        "  mi_diccionario = {\n",
        "      'llave1': 1,\n",
        "      'llave2': 2,\n",
        "      'llave3': 3,\n",
        "  }\n",
        "\n",
        "  print(mi_diccionario['llave1'])\n",
        "  print(mi_diccionario['llave2'])\n",
        "  print(mi_diccionario['llave3'])\n",
        "\n",
        "if __name__ == '__main__':\n",
        "  run()"
      ],
      "execution_count": null,
      "outputs": [
        {
          "output_type": "stream",
          "text": [
            "1\n",
            "2\n",
            "3\n"
          ],
          "name": "stdout"
        }
      ]
    },
    {
      "cell_type": "code",
      "metadata": {
        "id": "V4p2GCwDfu7U"
      },
      "source": [
        "Inmutables:\n",
        "Strings (Texto)\n",
        "Int (Número entero)\n",
        "Float (Número de coma flotante)\n",
        "Decimal (Número decimal)\n",
        "Complex (Complejo)\n",
        "Bool (Booleano)\n",
        "Tuple (Tupla)\n",
        "Frozenset (Conjunto congelado)\n",
        "Bytes (8 bits)\n",
        "Range (Rango)\n",
        "None (Nulo)\n",
        "*************\n",
        "Mutables:\n",
        "List (Listado)\n",
        "Dict (Diccionario)\n",
        "Set (Conjunto)\n",
        "Bytearray (array de bits)\n",
        "MemoryView (Vista de la memoria)"
      ],
      "execution_count": null,
      "outputs": []
    },
    {
      "cell_type": "code",
      "metadata": {
        "id": "3H39JsT2eqjW",
        "colab": {
          "base_uri": "https://localhost:8080/"
        },
        "outputId": "413fa0e6-bfc2-48b5-e575-7caeec762759"
      },
      "source": [
        "#Ejemplo \n",
        "\n",
        "def run():\n",
        "  mi_diccionario = {\n",
        "      'llave1': 1,\n",
        "      'llave2': 2,\n",
        "      'llave3': 3,\n",
        "  }\n",
        "\n",
        "  # print(mi_diccionario['llave1'])\n",
        "  # print(mi_diccionario['llave2'])\n",
        "  # print(mi_diccionario['llave3'])\n",
        "  poblacion_paises = {\n",
        "      'Bolivia': 114485,\n",
        "      'Brasil': 210147125,\n",
        "      'Colombia': 50372424\n",
        "  }\n",
        "\n",
        "  # print(poblacion_paises['Bolivia'])\n",
        "\n",
        "  for pais in poblacion_paises.keys():\n",
        "    print(pais)\n",
        "if __name__ == '__main__':\n",
        "  run()"
      ],
      "execution_count": null,
      "outputs": [
        {
          "output_type": "stream",
          "text": [
            "Bolivia\n",
            "Brasil\n",
            "Colombia\n"
          ],
          "name": "stdout"
        }
      ]
    },
    {
      "cell_type": "code",
      "metadata": {
        "colab": {
          "base_uri": "https://localhost:8080/"
        },
        "id": "uAoKVqnT20ZS",
        "outputId": "61f546f2-1d7c-41ee-bbd2-5b0943020ec6"
      },
      "source": [
        "#Ejemplo \n",
        "\n",
        "def run():\n",
        "  mi_diccionario = {\n",
        "      'llave1': 1,\n",
        "      'llave2': 2,\n",
        "      'llave3': 3,\n",
        "  }\n",
        "\n",
        " \n",
        "  poblacion_paises = {\n",
        "      'Bolivia': 114485,\n",
        "      'Brasil': 210147125,\n",
        "      'Colombia': 50372424\n",
        "  }\n",
        "\n",
        "\n",
        "  for pais in poblacion_paises.keys():\n",
        "    print(pais)\n",
        "if __name__ == '__main__':\n",
        "  run()"
      ],
      "execution_count": null,
      "outputs": [
        {
          "output_type": "stream",
          "text": [
            "Bolivia\n",
            "Brasil\n",
            "Colombia\n"
          ],
          "name": "stdout"
        }
      ]
    },
    {
      "cell_type": "code",
      "metadata": {
        "colab": {
          "base_uri": "https://localhost:8080/"
        },
        "id": "k0HCPcDLguMp",
        "outputId": "94bc07f1-8339-4a6d-9c80-7ff40c1cfdab"
      },
      "source": [
        "#Ejemplo\n",
        "\n",
        "def run():\n",
        "  mi_diccionario = {\n",
        "      'llave1': 1,\n",
        "      'llave2': 2,\n",
        "      'llave3': 3,\n",
        "  }\n",
        "\n",
        "  # print(mi_diccionario['llave1'])\n",
        "  # print(mi_diccionario['llave2'])\n",
        "  # print(mi_diccionario['llave3'])\n",
        "  poblacion_paises = {\n",
        "      'Bolivia': 114485,\n",
        "      'Brasil': 210147125,\n",
        "      'Colombia': 50372424\n",
        "  }\n",
        "\n",
        "  # print(poblacion_paises['Bolivia'])\n",
        "\n",
        "  for pais in poblacion_paises.values():\n",
        "    print(pais)\n",
        "\n",
        "if __name__ == '__main__':\n",
        "  run()"
      ],
      "execution_count": null,
      "outputs": [
        {
          "output_type": "stream",
          "text": [
            "114485\n",
            "210147125\n",
            "50372424\n"
          ],
          "name": "stdout"
        }
      ]
    },
    {
      "cell_type": "code",
      "metadata": {
        "colab": {
          "base_uri": "https://localhost:8080/"
        },
        "id": "FoWfPJOoCPt-",
        "outputId": "f230af38-4dd2-4fbf-82cd-56e030a8dfff"
      },
      "source": [
        "def run():\n",
        "  mi_diccionario = {\n",
        "      'llave1': 1,\n",
        "      'llave2': 2,\n",
        "      'llave3': 3,\n",
        "  }\n",
        "\n",
        "\n",
        "  poblacion_paises = {\n",
        "      'Bolivia': 114485,\n",
        "      'Brasil': 210147125,\n",
        "      'Colombia': 50372424\n",
        "  }\n",
        "  \n",
        "\n",
        "  for pais in poblacion_paises.values():\n",
        "    print(pais)\n",
        "\n",
        "if __name__ == '__main__':\n",
        "  run()"
      ],
      "execution_count": null,
      "outputs": [
        {
          "output_type": "stream",
          "text": [
            "114485\n",
            "210147125\n",
            "50372424\n"
          ],
          "name": "stdout"
        }
      ]
    },
    {
      "cell_type": "code",
      "metadata": {
        "colab": {
          "base_uri": "https://localhost:8080/"
        },
        "id": "tyghe6A2EXaz",
        "outputId": "2e65a634-44e1-43fd-f16c-233be080ca65"
      },
      "source": [
        "#asignar un nuevo valor a una clave\n",
        "\n",
        "dict = {\"gato\" : \"chat\", \"perro\" : \"chien\", \"caballo\" : \"cheval\"}\n",
        "\n",
        "dict['gato'] = 'minou'\n",
        "print(dict)"
      ],
      "execution_count": null,
      "outputs": [
        {
          "output_type": "stream",
          "text": [
            "{'gato': 'minou', 'perro': 'chien', 'caballo': 'cheval'}\n"
          ],
          "name": "stdout"
        }
      ]
    },
    {
      "cell_type": "code",
      "metadata": {
        "id": "UOvIHTBXFcOY",
        "colab": {
          "base_uri": "https://localhost:8080/"
        },
        "outputId": "d4131829-2645-4d67-a533-e056fabcd4ad"
      },
      "source": [
        "\n",
        "dict = {\"gato\" : \"chat\", \"perro\" : \"chien\", \"caballo\" : \"cheval\"}\n",
        "\n",
        "dict['cisne'] = 'cygne'\n",
        "print(dict)"
      ],
      "execution_count": null,
      "outputs": [
        {
          "output_type": "stream",
          "text": [
            "{'gato': 'chat', 'perro': 'chien', 'caballo': 'cheval', 'cisne': 'cygne'}\n"
          ],
          "name": "stdout"
        }
      ]
    },
    {
      "cell_type": "code",
      "metadata": {
        "colab": {
          "base_uri": "https://localhost:8080/"
        },
        "id": "KMti3lBhhNiA",
        "outputId": "1a35f204-af3e-4e41-cb60-42a54c222787"
      },
      "source": [
        "#Ejemplo, los diccinarios requieren de varias lineas\n",
        "\n",
        "def run():\n",
        "  mi_diccionario = {\n",
        "      'llave1': 1,\n",
        "      'llave2': 2,\n",
        "      'llave3': 3,\n",
        "  }\n",
        "\n",
        "  # print(mi_diccionario['llave1'])\n",
        "  # print(mi_diccionario['llave2'])\n",
        "  # print(mi_diccionario['llave3'])\n",
        "  poblacion_paises = {\n",
        "      'Bolivia': 116335,\n",
        "      'Brasil': 210147125,\n",
        "      'Colombia': 50372424\n",
        "  }\n",
        "\n",
        "  # print(poblacion_paises['Bolivia'])\n",
        "\n",
        "  for pais in poblacion_paises.items():\n",
        "    print(pais)\n",
        "\n",
        "if __name__ == '__main__':\n",
        "  run()"
      ],
      "execution_count": null,
      "outputs": [
        {
          "output_type": "stream",
          "text": [
            "('Bolivia', 114485)\n",
            "('Brasil', 210147125)\n",
            "('Colombia', 50372424)\n"
          ],
          "name": "stdout"
        }
      ]
    },
    {
      "cell_type": "code",
      "metadata": {
        "colab": {
          "base_uri": "https://localhost:8080/"
        },
        "id": "qr6xm10bBTsx",
        "outputId": "ccaaf82d-9bfe-4ae6-c7cc-bd632e960b0d"
      },
      "source": [
        "#Ejemplo, los diccinarios requieren de varias lineas\n",
        "\n",
        "def run():\n",
        "  mi_diccionario = {\n",
        "      'llave1': 1,\n",
        "      'llave2': 2,\n",
        "      'llave3': 3,\n",
        "  }\n",
        "\n",
        "  poblacion_paises = {\n",
        "      'Bolivia': 116335,\n",
        "      'Brasil': 210147125,\n",
        "      'Colombia': 50372424\n",
        "  }\n",
        "\n",
        "\n",
        "  for pais in poblacion_paises.items():\n",
        "    print(pais)\n",
        "\n",
        "if __name__ == '__main__':\n",
        "  run()"
      ],
      "execution_count": null,
      "outputs": [
        {
          "output_type": "stream",
          "text": [
            "('Bolivia', 116335)\n",
            "('Brasil', 210147125)\n",
            "('Colombia', 50372424)\n"
          ],
          "name": "stdout"
        }
      ]
    },
    {
      "cell_type": "code",
      "metadata": {
        "id": "35i_YJMOh3f9",
        "colab": {
          "base_uri": "https://localhost:8080/"
        },
        "outputId": "8aae06fc-b0c8-4394-9f91-3d98a545b1a6"
      },
      "source": [
        "#Ejemplo, los diccinarios requieren de varias lineas\n",
        "\n",
        "def run():\n",
        "  mi_diccionario = {\n",
        "      'llave1': 1,\n",
        "      'llave2': 2,\n",
        "      'llave3': 3,\n",
        "  }\n",
        "\n",
        "  # print(mi_diccionario['llave1'])\n",
        "  # print(mi_diccionario['llave2'])\n",
        "  # print(mi_diccionario['llave3'])\n",
        "  poblacion_paises = {\n",
        "      'Bolivia': 114485,\n",
        "      'Brasil': 210147125,\n",
        "      'Colombia': 50372424\n",
        "  }\n",
        "\n",
        "  # print(poblacion_paises['Bolivia'])\n",
        "\n",
        "  for pais, poblacion in poblacion_paises.items():\n",
        "    print(pais + ' tiene ' + str(poblacion) + '  habitantes')\n",
        "\n",
        "if __name__ == '__main__':\n",
        "  run()"
      ],
      "execution_count": null,
      "outputs": [
        {
          "output_type": "stream",
          "text": [
            "Bolivia  tiene 114485  habitantes\n",
            "Brasil  tiene 210147125  habitantes\n",
            "Colombia  tiene 50372424  habitantes\n"
          ],
          "name": "stdout"
        }
      ]
    },
    {
      "cell_type": "code",
      "metadata": {
        "id": "JhWhu-YBqyoI"
      },
      "source": [
        "#Ejemplo\n",
        "def run():\n",
        "    poblacion_paises = {\n",
        "        'Argentina': 44938712,\n",
        "        'Brasil': 210147125,\n",
        "        'Colombia': 50372424,\n",
        "    }\n",
        "\n",
        "    print(\"¿De qué pais quieres saber la población?: \")\n",
        "    print(\"Países Disponibles: -Argentina-,-Brasil-,-Colombia-\")\n",
        "    pais = input()\n",
        "    pais = pais.capitalize()\n",
        "\n",
        "    if pais == 'Argentina':\n",
        "        print(\"Argentina: \" + str(poblacion_paises['Argentina']))\n",
        "    elif pais == 'Brasil':\n",
        "        print(\"Brasil: \" + str(poblacion_paises['Brasil']))\n",
        "    elif pais == 'Colombia':\n",
        "        print(\"Colombia: \" + str(poblacion_paises['Colombia']))\n",
        "    else:\n",
        "        print(\"Escoja un país disponible.\")\n",
        "\n",
        "   \n",
        "\n",
        "if __name__ == \"__main__\":\n",
        "    run()"
      ],
      "execution_count": null,
      "outputs": []
    },
    {
      "cell_type": "markdown",
      "metadata": {
        "id": "bm_hPUT7R6mY"
      },
      "source": [
        "PYTHON PARTE2"
      ]
    },
    {
      "cell_type": "code",
      "metadata": {
        "id": "y3sn1hqfR-_P"
      },
      "source": [
        "\n",
        "\n",
        "def sumar(a, b):\n",
        "    return a + b\n",
        "\n",
        "def restar(a, b):\n",
        "    return a - b\n",
        "\n",
        "def mult(a, b):\n",
        "    return a * b\n",
        "\n",
        "def div(a, b):\n",
        "    return a / b"
      ],
      "execution_count": null,
      "outputs": []
    },
    {
      "cell_type": "markdown",
      "metadata": {
        "id": "wHNgfSLya_Pa"
      },
      "source": []
    },
    {
      "cell_type": "code",
      "metadata": {
        "id": "RtomNrLUumZ0"
      },
      "source": [
        "# Primer metodo\n",
        "import math\n",
        "print(math.sin(math.pi/2))"
      ],
      "execution_count": null,
      "outputs": []
    },
    {
      "cell_type": "code",
      "metadata": {
        "id": "zhp-uphNu6Dt"
      },
      "source": [
        "# Primer metodo\n",
        "import math\n",
        "\n",
        "def sin(x):\n",
        "    if 2 * x == pi:\n",
        "        return 0.99999999\n",
        "    else:\n",
        "        return None\n",
        "\n",
        "pi = 3.14\n",
        "\n",
        "print(sin(pi/2))\n",
        "print(math.sin(math.pi/2))"
      ],
      "execution_count": null,
      "outputs": []
    },
    {
      "cell_type": "code",
      "metadata": {
        "id": "BeZOS41gulY9"
      },
      "source": [
        "#Segundo metodo"
      ],
      "execution_count": null,
      "outputs": []
    },
    {
      "cell_type": "code",
      "metadata": {
        "colab": {
          "base_uri": "https://localhost:8080/"
        },
        "id": "LAdzHv4khFzC",
        "outputId": "50a5453d-87cb-4eaa-ee38-c9c805a8d601"
      },
      "source": [
        "from math import pi, radians, degrees, sin, cos, tan, asin\n",
        "\n",
        "ad = 90\n",
        "ar = radians(ad)\n",
        "ad = degrees(ar)\n",
        "\n",
        "print(ad == 90.)\n",
        "print(ar == pi / 2.)\n",
        "print(sin(ar) / cos(ar) == tan(ar))\n",
        "print(asin(sin(ar)) == ar)"
      ],
      "execution_count": null,
      "outputs": [
        {
          "output_type": "stream",
          "text": [
            "True\n",
            "True\n",
            "True\n",
            "True\n"
          ],
          "name": "stdout"
        }
      ]
    },
    {
      "cell_type": "code",
      "metadata": {
        "id": "2TU2VQPjCgZG"
      },
      "source": [
        "#tercer metodo\n",
        "from module import *"
      ],
      "execution_count": null,
      "outputs": []
    },
    {
      "cell_type": "code",
      "metadata": {
        "colab": {
          "base_uri": "https://localhost:8080/"
        },
        "id": "WVa0sy9rHq0X",
        "outputId": "f78dd846-3ad4-40eb-cfb5-66f61a40b50f"
      },
      "source": [
        "# Ejemplo\n",
        "from random import random\n",
        "\n",
        "for i in range(5):\n",
        "    print(random())"
      ],
      "execution_count": null,
      "outputs": [
        {
          "output_type": "stream",
          "text": [
            "0.7020907895095503\n",
            "0.5781202729272592\n",
            "0.34081078934632303\n",
            "0.8453814708601038\n",
            "0.44221172857294444\n"
          ],
          "name": "stdout"
        }
      ]
    },
    {
      "cell_type": "code",
      "metadata": {
        "id": "1dNiWuBWSZwk"
      },
      "source": [
        "\n",
        "#Ejemplo\n",
        "import random\n",
        "\n",
        "def run():\n",
        "    numerorandom = random.randint(1, 100)\n",
        "    numeroelegido = int(input(\"Introduce un numero: \"))\n",
        "    vidas = 5\n",
        "    while numerorandom != numeroelegido :\n",
        "        if numerorandom < numeroelegido : \n",
        "            print(\"Elige un numero mas pequeño.\")\n",
        "            vidas -= 1\n",
        "        elif numerorandom > numeroelegido : \n",
        "            print(\"Elige un numero mas grande.\")\n",
        "            vidas -= 1\n",
        "        if vidas == 0 :\n",
        "            print(\"GAME OVER\")\n",
        "            break\n",
        "        print(\"Tienes\", vidas, \"vidas\")\n",
        "        numeroelegido = int(input(\"Introduce numero: \"))\n",
        "    if numerorandom == numeroelegido : \n",
        "        print(\"FELICIDADES GANASTE\")\n",
        "\n",
        "if __name__ == \"__main__\" : \n",
        "    run()"
      ],
      "execution_count": null,
      "outputs": []
    },
    {
      "cell_type": "code",
      "metadata": {
        "id": "CcYFX056ZHfn"
      },
      "source": [
        "# Ejercicio: Adivina el numero(Juego)\n",
        "# la computadora piensa en un numero aleatorio entre 1 al 100\n",
        "import random\n",
        "\n",
        "\n",
        "def run():\n",
        "  numero_aleatorio = random.randint(1, 100)\n",
        "  numero_elegido = int(input('Elige un numero del 1 al 100: '))\n",
        "  while numero_elegido != numero_aleatorio:\n",
        "    if numero_elegido < numero_aleatorio:\n",
        "      print('Buscar un numero mas grande')\n",
        "    else:\n",
        "      print('Buscar un numero mas pequeño')\n",
        "    numero_elegido = int(input('Elige otro numero: '))\n",
        "\n",
        "  print('¡Ganaste!')\n",
        "\n",
        "\n",
        "\n",
        "if __name__ == '__main__':\n",
        "  run()"
      ],
      "execution_count": null,
      "outputs": []
    },
    {
      "cell_type": "markdown",
      "metadata": {
        "id": "Ey28KsJv7dkH"
      },
      "source": [
        "LIBRERIA MATPLOTLIB"
      ]
    },
    {
      "cell_type": "code",
      "metadata": {
        "id": "Kw7qXnih7l9N"
      },
      "source": [
        "import matplotlib.pyplot as plt\n",
        "import matplotlib.pyplot as plt\n",
        "import numpy as np\n",
        "\n",
        "paises = ['España', 'Bolivia', 'Colombia', 'Peru', 'Chile', 'Venezuela']\n",
        "ventas = [25, 32, 34, 20, 25, 44]"
      ],
      "execution_count": null,
      "outputs": []
    },
    {
      "cell_type": "markdown",
      "metadata": {
        "id": "tgXolX8A-A55"
      },
      "source": [
        "Grafico de Barra"
      ]
    },
    {
      "cell_type": "code",
      "metadata": {
        "id": "nhdhKlrs8hjM",
        "colab": {
          "base_uri": "https://localhost:8080/",
          "height": 279
        },
        "outputId": "977239ae-2299-4ee2-8fd8-7cf1460481c3"
      },
      "source": [
        "fig, ax = plt.subplots()\n",
        "#colocamos una etiqueta en el eje y\n",
        "ax.set_ylabel('ventas')\n",
        "#colocamos una etiqueta en el eje x\n",
        "#colocamos una etiqueta en el eje y\n",
        "ax.set_xlabel('paises')\n",
        "plt.bar(paises, ventas)\n",
        "plt.show()"
      ],
      "execution_count": null,
      "outputs": [
        {
          "output_type": "display_data",
          "data": {
            "image/png": "[encoded data removed]",
            "text/plain": [
              "<Figure size 432x288 with 1 Axes>"
            ]
          },
          "metadata": {
            "tags": [],
            "needs_background": "light"
          }
        }
      ]
    },
    {
      "cell_type": "markdown",
      "metadata": {
        "id": "u85cWIOO-MlS"
      },
      "source": [
        "Grafico tipo pastel"
      ]
    },
    {
      "cell_type": "code",
      "metadata": {
        "id": "KuJs9jan-U3b",
        "colab": {
          "base_uri": "https://localhost:8080/",
          "height": 248
        },
        "outputId": "a8a28f4f-4dbc-49a8-9ec7-a0825a6a4091"
      },
      "source": [
        "medios_transporte = 'Vehiculos', 'Motocicletas', 'Metro', 'Bicicleta'\n",
        "# declaramos el tamaño de cada rebanada y la sumatoria de todos debe dar 100%\n",
        "sizes = [45, 30, 25, 10]\n",
        "#en este punto señalamos que posicion se debe resaltarse  y el valor si se coloca o si se omite\n",
        "explode = (0.1, 0.2, 0, 0)\n",
        "fig1, ax1 = plt.subplots()\n",
        "#creamos el grafico aádiendo los valores\n",
        "ax1.pie(sizes, explode = explode, labels = medios_transporte, shadow = True, startangle = 90)\n",
        "#señalamos  la forma en este caso 'iqual' es para dar forma circular\n",
        "ax1.axis('equal')\n",
        "plt.title = ('Principal medio de transporte')\n",
        "plt.legend()\n",
        "plt.savefig('grafica pastel.png')\n",
        "plt.show()\n",
        "\n"
      ],
      "execution_count": null,
      "outputs": [
        {
          "output_type": "display_data",
          "data": {
            "image/png": "[encoded data removed]",
            "text/plain": [
              "<Figure size 432x288 with 1 Axes>"
            ]
          },
          "metadata": {
            "tags": []
          }
        }
      ]
    },
    {
      "cell_type": "markdown",
      "metadata": {
        "id": "sj1Ktkq8l1gx"
      },
      "source": [
        "Hispograma 100 runs"
      ]
    },
    {
      "cell_type": "code",
      "metadata": {
        "id": "m8YSLrDTHQ6b"
      },
      "source": [
        "# distrubution\n",
        "import numpy as np\n",
        "import matplotlib.pyplot as plt\n",
        "np.random.seed(123)\n",
        "final_tails = []\n",
        "for x in range(100):\n",
        "  tails = [0]\n",
        "  for x in range(10):\n",
        "    coin = np.random.randint(0, 2)\n",
        "    tails.append(tails[x] + coin)\n",
        "  final_tails.append(tails[-1])\n",
        "plt.hist(final_tails, bins = 10)\n",
        "plt.show()"
      ],
      "execution_count": null,
      "outputs": []
    },
    {
      "cell_type": "markdown",
      "metadata": {
        "id": "72Pqf0bjSo2H"
      },
      "source": [
        "Numpy, matplotlib"
      ]
    },
    {
      "cell_type": "code",
      "metadata": {
        "id": "kkWDxdzQSbiu"
      },
      "source": [
        "# numpy and matplotlib imported, seed set.\n",
        "import numpy as np\n",
        "# initialize and populate all_walks\n",
        "all_walks = []\n",
        "for i in range(10) :\n",
        "    random_walk = [0]\n",
        "    for x in range(100) :\n",
        "        step = random_walk[-1]\n",
        "        dice = np.random.randint(1,7)\n",
        "        if dice <= 2:\n",
        "            step = max(0, step - 1)\n",
        "        elif dice <= 5:\n",
        "            step = step + 1\n",
        "        else:\n",
        "            step = step + np.random.randint(1,7)\n",
        "        random_walk.append(step)\n",
        "    all_walks.append(random_walk)\n",
        "# Convert all_walks to Numpy array: np_aw\n",
        "np_aw = np.array(all_walks)\n",
        "# Plot np_aw and show\n",
        "plt.plot(np_aw)\n",
        "plt.show()\n",
        "# Clear the figure\n",
        "plt.clf()\n",
        "# Transpose np_aw: np_aw_t\n",
        "np_aw_t = np.transpose(np_aw)\n",
        "# Plot np_aw_t and show\n",
        "plt.plot(np_aw_t)\n",
        "plt.show()"
      ],
      "execution_count": null,
      "outputs": []
    },
    {
      "cell_type": "code",
      "metadata": {
        "colab": {
          "base_uri": "https://localhost:8080/",
          "height": 265
        },
        "id": "EmGWnPm-UPkE",
        "outputId": "c91cc282-0792-4e9c-f399-f60d3574fd24"
      },
      "source": [
        "# numpy and matplotlib imported, seed set\n",
        "import numpy as np\n",
        "import matplotlib.pyplot as plt \n",
        "np.random.seed(123)\n",
        "# Simulate random walk 250 times\n",
        "all_walks = []\n",
        "for i in range(250) :\n",
        "    random_walk = [0]\n",
        "    for x in range(100) :\n",
        "        step = random_walk[-1]\n",
        "        dice = np.random.randint(1,7)\n",
        "        if dice <= 2:\n",
        "            step = max(0, step - 1)\n",
        "        elif dice <= 5:\n",
        "            step = step + 1\n",
        "        else:\n",
        "            step = step + np.random.randint(1,7)\n",
        "\n",
        "        # Implement clumsiness\n",
        "        if np.random.rand() <= 0.001 :\n",
        "            step = 0\n",
        "\n",
        "        random_walk.append(step)\n",
        "    all_walks.append(random_walk)\n",
        "\n",
        "# Create and plot np_aw_t\n",
        "np_aw_t = np.transpose(np.array(all_walks))\n",
        "plt.plot(np_aw_t)\n",
        "plt.show()"
      ],
      "execution_count": null,
      "outputs": [
        {
          "output_type": "display_data",
          "data": {
            "image/png": "[encoded data removed]",
            "text/plain": [
              "<Figure size 432x288 with 1 Axes>"
            ]
          },
          "metadata": {
            "tags": [],
            "needs_background": "light"
          }
        }
      ]
    },
    {
      "cell_type": "code",
      "metadata": {
        "colab": {
          "base_uri": "https://localhost:8080/",
          "height": 265
        },
        "id": "bwj0JcyNWhf_",
        "outputId": "f74ccdde-2590-4e21-c6ed-1e4f0048a3ae"
      },
      "source": [
        "# numpy and matplotlib imported, seed set\n",
        "import numpy as np\n",
        "import matplotlib.pyplot as plt\n",
        "# Simulate random walk 500 times\n",
        "all_walks = []\n",
        "for i in range(500) :\n",
        "    random_walk = [0]\n",
        "    for x in range(100) :\n",
        "        step = random_walk[-1]\n",
        "        dice = np.random.randint(1,7)\n",
        "        if dice <= 2:\n",
        "            step = max(0, step - 1)\n",
        "        elif dice <= 5:\n",
        "            step = step + 1\n",
        "        else:\n",
        "            step = step + np.random.randint(1,7)\n",
        "        if np.random.rand() <= 0.001 :\n",
        "            step = 0\n",
        "        random_walk.append(step)\n",
        "    all_walks.append(random_walk)\n",
        "\n",
        "# Create and plot np_aw_t\n",
        "np_aw_t = np.transpose(np.array(all_walks))\n",
        "\n",
        "# Select last row from np_aw_t: ends\n",
        "ends = np.array(np_aw_t[-1])\n",
        "\n",
        "# Plot histogram of ends, display plot\n",
        "plt.hist(ends)\n",
        "plt.show()"
      ],
      "execution_count": null,
      "outputs": [
        {
          "output_type": "display_data",
          "data": {
            "image/png": "[encoded data removed]",
            "text/plain": [
              "<Figure size 432x288 with 1 Axes>"
            ]
          },
          "metadata": {
            "tags": [],
            "needs_background": "light"
          }
        }
      ]
    },
    {
      "cell_type": "code",
      "metadata": {
        "colab": {
          "base_uri": "https://localhost:8080/"
        },
        "id": "VtpHxfTfWxzG",
        "outputId": "9a3214c4-2530-4c24-c782-817519d7c3e9"
      },
      "source": [
        "# Numpy is imported; seed is set\n",
        "import numpy as np\n",
        "# Initialize all_walks (don't change this line)\n",
        "all_walks = []\n",
        "\n",
        "# Simulate random walk 10 times\n",
        "for i in range(10) :\n",
        "\n",
        "    # Code from before\n",
        "    random_walk = [0]\n",
        "    for x in range(100) :\n",
        "        step = random_walk[-1]\n",
        "        dice = np.random.randint(1,7)\n",
        "\n",
        "        if dice <= 2:\n",
        "            step = max(0, step - 1)\n",
        "        elif dice <= 5:\n",
        "            step = step + 1\n",
        "        else:\n",
        "            step = step + np.random.randint(1,7)\n",
        "        random_walk.append(step)\n",
        "\n",
        "    # Append random_walk to all_walks\n",
        "        all_walks.append(random_walk)\n",
        "\n",
        "# Print all_walks\n",
        "print(all_walks)"
      ],
      "execution_count": null,
      "outputs": [
        {
          "output_type": "stream",
          "text": [
            "[[0, 1, 2, 1, 0, 0, 0, 1, 0, 1, 0, 1, 0, 0, 0, 0, 1, 2, 3, 4, 5, 6, 5, 6, 7, 8, 12, 13, 14, 15, 16, 17, 16, 17, 16, 17, 16, 17, 16, 17, 18, 19, 20, 21, 22, 24, 25, 24, 25, 30, 31, 30, 29, 28, 29, 28, 29, 28, 29, 30, 31, 32, 33, 34, 35, 36, 35, 36, 40, 41, 42, 43, 44, 45, 44, 45, 44, 50, 51, 57, 58, 57, 58, 59, 60, 59, 60, 63, 64, 63, 66, 65, 66, 65, 66, 65, 66, 67, 68, 69, 68], [0, 1, 2, 1, 0, 0, 0, 1, 0, 1, 0, 1, 0, 0, 0, 0, 1, 2, 3, 4, 5, 6, 5, 6, 7, 8, 12, 13, 14, 15, 16, 17, 16, 17, 16, 17, 16, 17, 16, 17, 18, 19, 20, 21, 22, 24, 25, 24, 25, 30, 31, 30, 29, 28, 29, 28, 29, 28, 29, 30, 31, 32, 33, 34, 35, 36, 35, 36, 40, 41, 42, 43, 44, 45, 44, 45, 44, 50, 51, 57, 58, 57, 58, 59, 60, 59, 60, 63, 64, 63, 66, 65, 66, 65, 66, 65, 66, 67, 68, 69, 68], [0, 1, 2, 1, 0, 0, 0, 1, 0, 1, 0, 1, 0, 0, 0, 0, 1, 2, 3, 4, 5, 6, 5, 6, 7, 8, 12, 13, 14, 15, 16, 17, 16, 17, 16, 17, 16, 17, 16, 17, 18, 19, 20, 21, 22, 24, 25, 24, 25, 30, 31, 30, 29, 28, 29, 28, 29, 28, 29, 30, 31, 32, 33, 34, 35, 36, 35, 36, 40, 41, 42, 43, 44, 45, 44, 45, 44, 50, 51, 57, 58, 57, 58, 59, 60, 59, 60, 63, 64, 63, 66, 65, 66, 65, 66, 65, 66, 67, 68, 69, 68], [0, 1, 2, 1, 0, 0, 0, 1, 0, 1, 0, 1, 0, 0, 0, 0, 1, 2, 3, 4, 5, 6, 5, 6, 7, 8, 12, 13, 14, 15, 16, 17, 16, 17, 16, 17, 16, 17, 16, 17, 18, 19, 20, 21, 22, 24, 25, 24, 25, 30, 31, 30, 29, 28, 29, 28, 29, 28, 29, 30, 31, 32, 33, 34, 35, 36, 35, 36, 40, 41, 42, 43, 44, 45, 44, 45, 44, 50, 51, 57, 58, 57, 58, 59, 60, 59, 60, 63, 64, 63, 66, 65, 66, 65, 66, 65, 66, 67, 68, 69, 68], [0, 1, 2, 1, 0, 0, 0, 1, 0, 1, 0, 1, 0, 0, 0, 0, 1, 2, 3, 4, 5, 6, 5, 6, 7, 8, 12, 13, 14, 15, 16, 17, 16, 17, 16, 17, 16, 17, 16, 17, 18, 19, 20, 21, 22, 24, 25, 24, 25, 30, 31, 30, 29, 28, 29, 28, 29, 28, 29, 30, 31, 32, 33, 34, 35, 36, 35, 36, 40, 41, 42, 43, 44, 45, 44, 45, 44, 50, 51, 57, 58, 57, 58, 59, 60, 59, 60, 63, 64, 63, 66, 65, 66, 65, 66, 65, 66, 67, 68, 69, 68], [0, 1, 2, 1, 0, 0, 0, 1, 0, 1, 0, 1, 0, 0, 0, 0, 1, 2, 3, 4, 5, 6, 5, 6, 7, 8, 12, 13, 14, 15, 16, 17, 16, 17, 16, 17, 16, 17, 16, 17, 18, 19, 20, 21, 22, 24, 25, 24, 25, 30, 31, 30, 29, 28, 29, 28, 29, 28, 29, 30, 31, 32, 33, 34, 35, 36, 35, 36, 40, 41, 42, 43, 44, 45, 44, 45, 44, 50, 51, 57, 58, 57, 58, 59, 60, 59, 60, 63, 64, 63, 66, 65, 66, 65, 66, 65, 66, 67, 68, 69, 68], [0, 1, 2, 1, 0, 0, 0, 1, 0, 1, 0, 1, 0, 0, 0, 0, 1, 2, 3, 4, 5, 6, 5, 6, 7, 8, 12, 13, 14, 15, 16, 17, 16, 17, 16, 17, 16, 17, 16, 17, 18, 19, 20, 21, 22, 24, 25, 24, 25, 30, 31, 30, 29, 28, 29, 28, 29, 28, 29, 30, 31, 32, 33, 34, 35, 36, 35, 36, 40, 41, 42, 43, 44, 45, 44, 45, 44, 50, 51, 57, 58, 57, 58, 59, 60, 59, 60, 63, 64, 63, 66, 65, 66, 65, 66, 65, 66, 67, 68, 69, 68], [0, 1, 2, 1, 0, 0, 0, 1, 0, 1, 0, 1, 0, 0, 0, 0, 1, 2, 3, 4, 5, 6, 5, 6, 7, 8, 12, 13, 14, 15, 16, 17, 16, 17, 16, 17, 16, 17, 16, 17, 18, 19, 20, 21, 22, 24, 25, 24, 25, 30, 31, 30, 29, 28, 29, 28, 29, 28, 29, 30, 31, 32, 33, 34, 35, 36, 35, 36, 40, 41, 42, 43, 44, 45, 44, 45, 44, 50, 51, 57, 58, 57, 58, 59, 60, 59, 60, 63, 64, 63, 66, 65, 66, 65, 66, 65, 66, 67, 68, 69, 68], [0, 1, 2, 1, 0, 0, 0, 1, 0, 1, 0, 1, 0, 0, 0, 0, 1, 2, 3, 4, 5, 6, 5, 6, 7, 8, 12, 13, 14, 15, 16, 17, 16, 17, 16, 17, 16, 17, 16, 17, 18, 19, 20, 21, 22, 24, 25, 24, 25, 30, 31, 30, 29, 28, 29, 28, 29, 28, 29, 30, 31, 32, 33, 34, 35, 36, 35, 36, 40, 41, 42, 43, 44, 45, 44, 45, 44, 50, 51, 57, 58, 57, 58, 59, 60, 59, 60, 63, 64, 63, 66, 65, 66, 65, 66, 65, 66, 67, 68, 69, 68], [0, 1, 2, 1, 0, 0, 0, 1, 0, 1, 0, 1, 0, 0, 0, 0, 1, 2, 3, 4, 5, 6, 5, 6, 7, 8, 12, 13, 14, 15, 16, 17, 16, 17, 16, 17, 16, 17, 16, 17, 18, 19, 20, 21, 22, 24, 25, 24, 25, 30, 31, 30, 29, 28, 29, 28, 29, 28, 29, 30, 31, 32, 33, 34, 35, 36, 35, 36, 40, 41, 42, 43, 44, 45, 44, 45, 44, 50, 51, 57, 58, 57, 58, 59, 60, 59, 60, 63, 64, 63, 66, 65, 66, 65, 66, 65, 66, 67, 68, 69, 68], [0, 1, 2, 1, 0, 0, 0, 1, 0, 1, 0, 1, 0, 0, 0, 0, 1, 2, 3, 4, 5, 6, 5, 6, 7, 8, 12, 13, 14, 15, 16, 17, 16, 17, 16, 17, 16, 17, 16, 17, 18, 19, 20, 21, 22, 24, 25, 24, 25, 30, 31, 30, 29, 28, 29, 28, 29, 28, 29, 30, 31, 32, 33, 34, 35, 36, 35, 36, 40, 41, 42, 43, 44, 45, 44, 45, 44, 50, 51, 57, 58, 57, 58, 59, 60, 59, 60, 63, 64, 63, 66, 65, 66, 65, 66, 65, 66, 67, 68, 69, 68], [0, 1, 2, 1, 0, 0, 0, 1, 0, 1, 0, 1, 0, 0, 0, 0, 1, 2, 3, 4, 5, 6, 5, 6, 7, 8, 12, 13, 14, 15, 16, 17, 16, 17, 16, 17, 16, 17, 16, 17, 18, 19, 20, 21, 22, 24, 25, 24, 25, 30, 31, 30, 29, 28, 29, 28, 29, 28, 29, 30, 31, 32, 33, 34, 35, 36, 35, 36, 40, 41, 42, 43, 44, 45, 44, 45, 44, 50, 51, 57, 58, 57, 58, 59, 60, 59, 60, 63, 64, 63, 66, 65, 66, 65, 66, 65, 66, 67, 68, 69, 68], [0, 1, 2, 1, 0, 0, 0, 1, 0, 1, 0, 1, 0, 0, 0, 0, 1, 2, 3, 4, 5, 6, 5, 6, 7, 8, 12, 13, 14, 15, 16, 17, 16, 17, 16, 17, 16, 17, 16, 17, 18, 19, 20, 21, 22, 24, 25, 24, 25, 30, 31, 30, 29, 28, 29, 28, 29, 28, 29, 30, 31, 32, 33, 34, 35, 36, 35, 36, 40, 41, 42, 43, 44, 45, 44, 45, 44, 50, 51, 57, 58, 57, 58, 59, 60, 59, 60, 63, 64, 63, 66, 65, 66, 65, 66, 65, 66, 67, 68, 69, 68], [0, 1, 2, 1, 0, 0, 0, 1, 0, 1, 0, 1, 0, 0, 0, 0, 1, 2, 3, 4, 5, 6, 5, 6, 7, 8, 12, 13, 14, 15, 16, 17, 16, 17, 16, 17, 16, 17, 16, 17, 18, 19, 20, 21, 22, 24, 25, 24, 25, 30, 31, 30, 29, 28, 29, 28, 29, 28, 29, 30, 31, 32, 33, 34, 35, 36, 35, 36, 40, 41, 42, 43, 44, 45, 44, 45, 44, 50, 51, 57, 58, 57, 58, 59, 60, 59, 60, 63, 64, 63, 66, 65, 66, 65, 66, 65, 66, 67, 68, 69, 68], [0, 1, 2, 1, 0, 0, 0, 1, 0, 1, 0, 1, 0, 0, 0, 0, 1, 2, 3, 4, 5, 6, 5, 6, 7, 8, 12, 13, 14, 15, 16, 17, 16, 17, 16, 17, 16, 17, 16, 17, 18, 19, 20, 21, 22, 24, 25, 24, 25, 30, 31, 30, 29, 28, 29, 28, 29, 28, 29, 30, 31, 32, 33, 34, 35, 36, 35, 36, 40, 41, 42, 43, 44, 45, 44, 45, 44, 50, 51, 57, 58, 57, 58, 59, 60, 59, 60, 63, 64, 63, 66, 65, 66, 65, 66, 65, 66, 67, 68, 69, 68], [0, 1, 2, 1, 0, 0, 0, 1, 0, 1, 0, 1, 0, 0, 0, 0, 1, 2, 3, 4, 5, 6, 5, 6, 7, 8, 12, 13, 14, 15, 16, 17, 16, 17, 16, 17, 16, 17, 16, 17, 18, 19, 20, 21, 22, 24, 25, 24, 25, 30, 31, 30, 29, 28, 29, 28, 29, 28, 29, 30, 31, 32, 33, 34, 35, 36, 35, 36, 40, 41, 42, 43, 44, 45, 44, 45, 44, 50, 51, 57, 58, 57, 58, 59, 60, 59, 60, 63, 64, 63, 66, 65, 66, 65, 66, 65, 66, 67, 68, 69, 68], [0, 1, 2, 1, 0, 0, 0, 1, 0, 1, 0, 1, 0, 0, 0, 0, 1, 2, 3, 4, 5, 6, 5, 6, 7, 8, 12, 13, 14, 15, 16, 17, 16, 17, 16, 17, 16, 17, 16, 17, 18, 19, 20, 21, 22, 24, 25, 24, 25, 30, 31, 30, 29, 28, 29, 28, 29, 28, 29, 30, 31, 32, 33, 34, 35, 36, 35, 36, 40, 41, 42, 43, 44, 45, 44, 45, 44, 50, 51, 57, 58, 57, 58, 59, 60, 59, 60, 63, 64, 63, 66, 65, 66, 65, 66, 65, 66, 67, 68, 69, 68], [0, 1, 2, 1, 0, 0, 0, 1, 0, 1, 0, 1, 0, 0, 0, 0, 1, 2, 3, 4, 5, 6, 5, 6, 7, 8, 12, 13, 14, 15, 16, 17, 16, 17, 16, 17, 16, 17, 16, 17, 18, 19, 20, 21, 22, 24, 25, 24, 25, 30, 31, 30, 29, 28, 29, 28, 29, 28, 29, 30, 31, 32, 33, 34, 35, 36, 35, 36, 40, 41, 42, 43, 44, 45, 44, 45, 44, 50, 51, 57, 58, 57, 58, 59, 60, 59, 60, 63, 64, 63, 66, 65, 66, 65, 66, 65, 66, 67, 68, 69, 68], [0, 1, 2, 1, 0, 0, 0, 1, 0, 1, 0, 1, 0, 0, 0, 0, 1, 2, 3, 4, 5, 6, 5, 6, 7, 8, 12, 13, 14, 15, 16, 17, 16, 17, 16, 17, 16, 17, 16, 17, 18, 19, 20, 21, 22, 24, 25, 24, 25, 30, 31, 30, 29, 28, 29, 28, 29, 28, 29, 30, 31, 32, 33, 34, 35, 36, 35, 36, 40, 41, 42, 43, 44, 45, 44, 45, 44, 50, 51, 57, 58, 57, 58, 59, 60, 59, 60, 63, 64, 63, 66, 65, 66, 65, 66, 65, 66, 67, 68, 69, 68], [0, 1, 2, 1, 0, 0, 0, 1, 0, 1, 0, 1, 0, 0, 0, 0, 1, 2, 3, 4, 5, 6, 5, 6, 7, 8, 12, 13, 14, 15, 16, 17, 16, 17, 16, 17, 16, 17, 16, 17, 18, 19, 20, 21, 22, 24, 25, 24, 25, 30, 31, 30, 29, 28, 29, 28, 29, 28, 29, 30, 31, 32, 33, 34, 35, 36, 35, 36, 40, 41, 42, 43, 44, 45, 44, 45, 44, 50, 51, 57, 58, 57, 58, 59, 60, 59, 60, 63, 64, 63, 66, 65, 66, 65, 66, 65, 66, 67, 68, 69, 68], [0, 1, 2, 1, 0, 0, 0, 1, 0, 1, 0, 1, 0, 0, 0, 0, 1, 2, 3, 4, 5, 6, 5, 6, 7, 8, 12, 13, 14, 15, 16, 17, 16, 17, 16, 17, 16, 17, 16, 17, 18, 19, 20, 21, 22, 24, 25, 24, 25, 30, 31, 30, 29, 28, 29, 28, 29, 28, 29, 30, 31, 32, 33, 34, 35, 36, 35, 36, 40, 41, 42, 43, 44, 45, 44, 45, 44, 50, 51, 57, 58, 57, 58, 59, 60, 59, 60, 63, 64, 63, 66, 65, 66, 65, 66, 65, 66, 67, 68, 69, 68], [0, 1, 2, 1, 0, 0, 0, 1, 0, 1, 0, 1, 0, 0, 0, 0, 1, 2, 3, 4, 5, 6, 5, 6, 7, 8, 12, 13, 14, 15, 16, 17, 16, 17, 16, 17, 16, 17, 16, 17, 18, 19, 20, 21, 22, 24, 25, 24, 25, 30, 31, 30, 29, 28, 29, 28, 29, 28, 29, 30, 31, 32, 33, 34, 35, 36, 35, 36, 40, 41, 42, 43, 44, 45, 44, 45, 44, 50, 51, 57, 58, 57, 58, 59, 60, 59, 60, 63, 64, 63, 66, 65, 66, 65, 66, 65, 66, 67, 68, 69, 68], [0, 1, 2, 1, 0, 0, 0, 1, 0, 1, 0, 1, 0, 0, 0, 0, 1, 2, 3, 4, 5, 6, 5, 6, 7, 8, 12, 13, 14, 15, 16, 17, 16, 17, 16, 17, 16, 17, 16, 17, 18, 19, 20, 21, 22, 24, 25, 24, 25, 30, 31, 30, 29, 28, 29, 28, 29, 28, 29, 30, 31, 32, 33, 34, 35, 36, 35, 36, 40, 41, 42, 43, 44, 45, 44, 45, 44, 50, 51, 57, 58, 57, 58, 59, 60, 59, 60, 63, 64, 63, 66, 65, 66, 65, 66, 65, 66, 67, 68, 69, 68], [0, 1, 2, 1, 0, 0, 0, 1, 0, 1, 0, 1, 0, 0, 0, 0, 1, 2, 3, 4, 5, 6, 5, 6, 7, 8, 12, 13, 14, 15, 16, 17, 16, 17, 16, 17, 16, 17, 16, 17, 18, 19, 20, 21, 22, 24, 25, 24, 25, 30, 31, 30, 29, 28, 29, 28, 29, 28, 29, 30, 31, 32, 33, 34, 35, 36, 35, 36, 40, 41, 42, 43, 44, 45, 44, 45, 44, 50, 51, 57, 58, 57, 58, 59, 60, 59, 60, 63, 64, 63, 66, 65, 66, 65, 66, 65, 66, 67, 68, 69, 68], [0, 1, 2, 1, 0, 0, 0, 1, 0, 1, 0, 1, 0, 0, 0, 0, 1, 2, 3, 4, 5, 6, 5, 6, 7, 8, 12, 13, 14, 15, 16, 17, 16, 17, 16, 17, 16, 17, 16, 17, 18, 19, 20, 21, 22, 24, 25, 24, 25, 30, 31, 30, 29, 28, 29, 28, 29, 28, 29, 30, 31, 32, 33, 34, 35, 36, 35, 36, 40, 41, 42, 43, 44, 45, 44, 45, 44, 50, 51, 57, 58, 57, 58, 59, 60, 59, 60, 63, 64, 63, 66, 65, 66, 65, 66, 65, 66, 67, 68, 69, 68], [0, 1, 2, 1, 0, 0, 0, 1, 0, 1, 0, 1, 0, 0, 0, 0, 1, 2, 3, 4, 5, 6, 5, 6, 7, 8, 12, 13, 14, 15, 16, 17, 16, 17, 16, 17, 16, 17, 16, 17, 18, 19, 20, 21, 22, 24, 25, 24, 25, 30, 31, 30, 29, 28, 29, 28, 29, 28, 29, 30, 31, 32, 33, 34, 35, 36, 35, 36, 40, 41, 42, 43, 44, 45, 44, 45, 44, 50, 51, 57, 58, 57, 58, 59, 60, 59, 60, 63, 64, 63, 66, 65, 66, 65, 66, 65, 66, 67, 68, 69, 68], [0, 1, 2, 1, 0, 0, 0, 1, 0, 1, 0, 1, 0, 0, 0, 0, 1, 2, 3, 4, 5, 6, 5, 6, 7, 8, 12, 13, 14, 15, 16, 17, 16, 17, 16, 17, 16, 17, 16, 17, 18, 19, 20, 21, 22, 24, 25, 24, 25, 30, 31, 30, 29, 28, 29, 28, 29, 28, 29, 30, 31, 32, 33, 34, 35, 36, 35, 36, 40, 41, 42, 43, 44, 45, 44, 45, 44, 50, 51, 57, 58, 57, 58, 59, 60, 59, 60, 63, 64, 63, 66, 65, 66, 65, 66, 65, 66, 67, 68, 69, 68], [0, 1, 2, 1, 0, 0, 0, 1, 0, 1, 0, 1, 0, 0, 0, 0, 1, 2, 3, 4, 5, 6, 5, 6, 7, 8, 12, 13, 14, 15, 16, 17, 16, 17, 16, 17, 16, 17, 16, 17, 18, 19, 20, 21, 22, 24, 25, 24, 25, 30, 31, 30, 29, 28, 29, 28, 29, 28, 29, 30, 31, 32, 33, 34, 35, 36, 35, 36, 40, 41, 42, 43, 44, 45, 44, 45, 44, 50, 51, 57, 58, 57, 58, 59, 60, 59, 60, 63, 64, 63, 66, 65, 66, 65, 66, 65, 66, 67, 68, 69, 68], [0, 1, 2, 1, 0, 0, 0, 1, 0, 1, 0, 1, 0, 0, 0, 0, 1, 2, 3, 4, 5, 6, 5, 6, 7, 8, 12, 13, 14, 15, 16, 17, 16, 17, 16, 17, 16, 17, 16, 17, 18, 19, 20, 21, 22, 24, 25, 24, 25, 30, 31, 30, 29, 28, 29, 28, 29, 28, 29, 30, 31, 32, 33, 34, 35, 36, 35, 36, 40, 41, 42, 43, 44, 45, 44, 45, 44, 50, 51, 57, 58, 57, 58, 59, 60, 59, 60, 63, 64, 63, 66, 65, 66, 65, 66, 65, 66, 67, 68, 69, 68], [0, 1, 2, 1, 0, 0, 0, 1, 0, 1, 0, 1, 0, 0, 0, 0, 1, 2, 3, 4, 5, 6, 5, 6, 7, 8, 12, 13, 14, 15, 16, 17, 16, 17, 16, 17, 16, 17, 16, 17, 18, 19, 20, 21, 22, 24, 25, 24, 25, 30, 31, 30, 29, 28, 29, 28, 29, 28, 29, 30, 31, 32, 33, 34, 35, 36, 35, 36, 40, 41, 42, 43, 44, 45, 44, 45, 44, 50, 51, 57, 58, 57, 58, 59, 60, 59, 60, 63, 64, 63, 66, 65, 66, 65, 66, 65, 66, 67, 68, 69, 68], [0, 1, 2, 1, 0, 0, 0, 1, 0, 1, 0, 1, 0, 0, 0, 0, 1, 2, 3, 4, 5, 6, 5, 6, 7, 8, 12, 13, 14, 15, 16, 17, 16, 17, 16, 17, 16, 17, 16, 17, 18, 19, 20, 21, 22, 24, 25, 24, 25, 30, 31, 30, 29, 28, 29, 28, 29, 28, 29, 30, 31, 32, 33, 34, 35, 36, 35, 36, 40, 41, 42, 43, 44, 45, 44, 45, 44, 50, 51, 57, 58, 57, 58, 59, 60, 59, 60, 63, 64, 63, 66, 65, 66, 65, 66, 65, 66, 67, 68, 69, 68], [0, 1, 2, 1, 0, 0, 0, 1, 0, 1, 0, 1, 0, 0, 0, 0, 1, 2, 3, 4, 5, 6, 5, 6, 7, 8, 12, 13, 14, 15, 16, 17, 16, 17, 16, 17, 16, 17, 16, 17, 18, 19, 20, 21, 22, 24, 25, 24, 25, 30, 31, 30, 29, 28, 29, 28, 29, 28, 29, 30, 31, 32, 33, 34, 35, 36, 35, 36, 40, 41, 42, 43, 44, 45, 44, 45, 44, 50, 51, 57, 58, 57, 58, 59, 60, 59, 60, 63, 64, 63, 66, 65, 66, 65, 66, 65, 66, 67, 68, 69, 68], [0, 1, 2, 1, 0, 0, 0, 1, 0, 1, 0, 1, 0, 0, 0, 0, 1, 2, 3, 4, 5, 6, 5, 6, 7, 8, 12, 13, 14, 15, 16, 17, 16, 17, 16, 17, 16, 17, 16, 17, 18, 19, 20, 21, 22, 24, 25, 24, 25, 30, 31, 30, 29, 28, 29, 28, 29, 28, 29, 30, 31, 32, 33, 34, 35, 36, 35, 36, 40, 41, 42, 43, 44, 45, 44, 45, 44, 50, 51, 57, 58, 57, 58, 59, 60, 59, 60, 63, 64, 63, 66, 65, 66, 65, 66, 65, 66, 67, 68, 69, 68], [0, 1, 2, 1, 0, 0, 0, 1, 0, 1, 0, 1, 0, 0, 0, 0, 1, 2, 3, 4, 5, 6, 5, 6, 7, 8, 12, 13, 14, 15, 16, 17, 16, 17, 16, 17, 16, 17, 16, 17, 18, 19, 20, 21, 22, 24, 25, 24, 25, 30, 31, 30, 29, 28, 29, 28, 29, 28, 29, 30, 31, 32, 33, 34, 35, 36, 35, 36, 40, 41, 42, 43, 44, 45, 44, 45, 44, 50, 51, 57, 58, 57, 58, 59, 60, 59, 60, 63, 64, 63, 66, 65, 66, 65, 66, 65, 66, 67, 68, 69, 68], [0, 1, 2, 1, 0, 0, 0, 1, 0, 1, 0, 1, 0, 0, 0, 0, 1, 2, 3, 4, 5, 6, 5, 6, 7, 8, 12, 13, 14, 15, 16, 17, 16, 17, 16, 17, 16, 17, 16, 17, 18, 19, 20, 21, 22, 24, 25, 24, 25, 30, 31, 30, 29, 28, 29, 28, 29, 28, 29, 30, 31, 32, 33, 34, 35, 36, 35, 36, 40, 41, 42, 43, 44, 45, 44, 45, 44, 50, 51, 57, 58, 57, 58, 59, 60, 59, 60, 63, 64, 63, 66, 65, 66, 65, 66, 65, 66, 67, 68, 69, 68], [0, 1, 2, 1, 0, 0, 0, 1, 0, 1, 0, 1, 0, 0, 0, 0, 1, 2, 3, 4, 5, 6, 5, 6, 7, 8, 12, 13, 14, 15, 16, 17, 16, 17, 16, 17, 16, 17, 16, 17, 18, 19, 20, 21, 22, 24, 25, 24, 25, 30, 31, 30, 29, 28, 29, 28, 29, 28, 29, 30, 31, 32, 33, 34, 35, 36, 35, 36, 40, 41, 42, 43, 44, 45, 44, 45, 44, 50, 51, 57, 58, 57, 58, 59, 60, 59, 60, 63, 64, 63, 66, 65, 66, 65, 66, 65, 66, 67, 68, 69, 68], [0, 1, 2, 1, 0, 0, 0, 1, 0, 1, 0, 1, 0, 0, 0, 0, 1, 2, 3, 4, 5, 6, 5, 6, 7, 8, 12, 13, 14, 15, 16, 17, 16, 17, 16, 17, 16, 17, 16, 17, 18, 19, 20, 21, 22, 24, 25, 24, 25, 30, 31, 30, 29, 28, 29, 28, 29, 28, 29, 30, 31, 32, 33, 34, 35, 36, 35, 36, 40, 41, 42, 43, 44, 45, 44, 45, 44, 50, 51, 57, 58, 57, 58, 59, 60, 59, 60, 63, 64, 63, 66, 65, 66, 65, 66, 65, 66, 67, 68, 69, 68], [0, 1, 2, 1, 0, 0, 0, 1, 0, 1, 0, 1, 0, 0, 0, 0, 1, 2, 3, 4, 5, 6, 5, 6, 7, 8, 12, 13, 14, 15, 16, 17, 16, 17, 16, 17, 16, 17, 16, 17, 18, 19, 20, 21, 22, 24, 25, 24, 25, 30, 31, 30, 29, 28, 29, 28, 29, 28, 29, 30, 31, 32, 33, 34, 35, 36, 35, 36, 40, 41, 42, 43, 44, 45, 44, 45, 44, 50, 51, 57, 58, 57, 58, 59, 60, 59, 60, 63, 64, 63, 66, 65, 66, 65, 66, 65, 66, 67, 68, 69, 68], [0, 1, 2, 1, 0, 0, 0, 1, 0, 1, 0, 1, 0, 0, 0, 0, 1, 2, 3, 4, 5, 6, 5, 6, 7, 8, 12, 13, 14, 15, 16, 17, 16, 17, 16, 17, 16, 17, 16, 17, 18, 19, 20, 21, 22, 24, 25, 24, 25, 30, 31, 30, 29, 28, 29, 28, 29, 28, 29, 30, 31, 32, 33, 34, 35, 36, 35, 36, 40, 41, 42, 43, 44, 45, 44, 45, 44, 50, 51, 57, 58, 57, 58, 59, 60, 59, 60, 63, 64, 63, 66, 65, 66, 65, 66, 65, 66, 67, 68, 69, 68], [0, 1, 2, 1, 0, 0, 0, 1, 0, 1, 0, 1, 0, 0, 0, 0, 1, 2, 3, 4, 5, 6, 5, 6, 7, 8, 12, 13, 14, 15, 16, 17, 16, 17, 16, 17, 16, 17, 16, 17, 18, 19, 20, 21, 22, 24, 25, 24, 25, 30, 31, 30, 29, 28, 29, 28, 29, 28, 29, 30, 31, 32, 33, 34, 35, 36, 35, 36, 40, 41, 42, 43, 44, 45, 44, 45, 44, 50, 51, 57, 58, 57, 58, 59, 60, 59, 60, 63, 64, 63, 66, 65, 66, 65, 66, 65, 66, 67, 68, 69, 68], [0, 1, 2, 1, 0, 0, 0, 1, 0, 1, 0, 1, 0, 0, 0, 0, 1, 2, 3, 4, 5, 6, 5, 6, 7, 8, 12, 13, 14, 15, 16, 17, 16, 17, 16, 17, 16, 17, 16, 17, 18, 19, 20, 21, 22, 24, 25, 24, 25, 30, 31, 30, 29, 28, 29, 28, 29, 28, 29, 30, 31, 32, 33, 34, 35, 36, 35, 36, 40, 41, 42, 43, 44, 45, 44, 45, 44, 50, 51, 57, 58, 57, 58, 59, 60, 59, 60, 63, 64, 63, 66, 65, 66, 65, 66, 65, 66, 67, 68, 69, 68], [0, 1, 2, 1, 0, 0, 0, 1, 0, 1, 0, 1, 0, 0, 0, 0, 1, 2, 3, 4, 5, 6, 5, 6, 7, 8, 12, 13, 14, 15, 16, 17, 16, 17, 16, 17, 16, 17, 16, 17, 18, 19, 20, 21, 22, 24, 25, 24, 25, 30, 31, 30, 29, 28, 29, 28, 29, 28, 29, 30, 31, 32, 33, 34, 35, 36, 35, 36, 40, 41, 42, 43, 44, 45, 44, 45, 44, 50, 51, 57, 58, 57, 58, 59, 60, 59, 60, 63, 64, 63, 66, 65, 66, 65, 66, 65, 66, 67, 68, 69, 68], [0, 1, 2, 1, 0, 0, 0, 1, 0, 1, 0, 1, 0, 0, 0, 0, 1, 2, 3, 4, 5, 6, 5, 6, 7, 8, 12, 13, 14, 15, 16, 17, 16, 17, 16, 17, 16, 17, 16, 17, 18, 19, 20, 21, 22, 24, 25, 24, 25, 30, 31, 30, 29, 28, 29, 28, 29, 28, 29, 30, 31, 32, 33, 34, 35, 36, 35, 36, 40, 41, 42, 43, 44, 45, 44, 45, 44, 50, 51, 57, 58, 57, 58, 59, 60, 59, 60, 63, 64, 63, 66, 65, 66, 65, 66, 65, 66, 67, 68, 69, 68], [0, 1, 2, 1, 0, 0, 0, 1, 0, 1, 0, 1, 0, 0, 0, 0, 1, 2, 3, 4, 5, 6, 5, 6, 7, 8, 12, 13, 14, 15, 16, 17, 16, 17, 16, 17, 16, 17, 16, 17, 18, 19, 20, 21, 22, 24, 25, 24, 25, 30, 31, 30, 29, 28, 29, 28, 29, 28, 29, 30, 31, 32, 33, 34, 35, 36, 35, 36, 40, 41, 42, 43, 44, 45, 44, 45, 44, 50, 51, 57, 58, 57, 58, 59, 60, 59, 60, 63, 64, 63, 66, 65, 66, 65, 66, 65, 66, 67, 68, 69, 68], [0, 1, 2, 1, 0, 0, 0, 1, 0, 1, 0, 1, 0, 0, 0, 0, 1, 2, 3, 4, 5, 6, 5, 6, 7, 8, 12, 13, 14, 15, 16, 17, 16, 17, 16, 17, 16, 17, 16, 17, 18, 19, 20, 21, 22, 24, 25, 24, 25, 30, 31, 30, 29, 28, 29, 28, 29, 28, 29, 30, 31, 32, 33, 34, 35, 36, 35, 36, 40, 41, 42, 43, 44, 45, 44, 45, 44, 50, 51, 57, 58, 57, 58, 59, 60, 59, 60, 63, 64, 63, 66, 65, 66, 65, 66, 65, 66, 67, 68, 69, 68], [0, 1, 2, 1, 0, 0, 0, 1, 0, 1, 0, 1, 0, 0, 0, 0, 1, 2, 3, 4, 5, 6, 5, 6, 7, 8, 12, 13, 14, 15, 16, 17, 16, 17, 16, 17, 16, 17, 16, 17, 18, 19, 20, 21, 22, 24, 25, 24, 25, 30, 31, 30, 29, 28, 29, 28, 29, 28, 29, 30, 31, 32, 33, 34, 35, 36, 35, 36, 40, 41, 42, 43, 44, 45, 44, 45, 44, 50, 51, 57, 58, 57, 58, 59, 60, 59, 60, 63, 64, 63, 66, 65, 66, 65, 66, 65, 66, 67, 68, 69, 68], [0, 1, 2, 1, 0, 0, 0, 1, 0, 1, 0, 1, 0, 0, 0, 0, 1, 2, 3, 4, 5, 6, 5, 6, 7, 8, 12, 13, 14, 15, 16, 17, 16, 17, 16, 17, 16, 17, 16, 17, 18, 19, 20, 21, 22, 24, 25, 24, 25, 30, 31, 30, 29, 28, 29, 28, 29, 28, 29, 30, 31, 32, 33, 34, 35, 36, 35, 36, 40, 41, 42, 43, 44, 45, 44, 45, 44, 50, 51, 57, 58, 57, 58, 59, 60, 59, 60, 63, 64, 63, 66, 65, 66, 65, 66, 65, 66, 67, 68, 69, 68], [0, 1, 2, 1, 0, 0, 0, 1, 0, 1, 0, 1, 0, 0, 0, 0, 1, 2, 3, 4, 5, 6, 5, 6, 7, 8, 12, 13, 14, 15, 16, 17, 16, 17, 16, 17, 16, 17, 16, 17, 18, 19, 20, 21, 22, 24, 25, 24, 25, 30, 31, 30, 29, 28, 29, 28, 29, 28, 29, 30, 31, 32, 33, 34, 35, 36, 35, 36, 40, 41, 42, 43, 44, 45, 44, 45, 44, 50, 51, 57, 58, 57, 58, 59, 60, 59, 60, 63, 64, 63, 66, 65, 66, 65, 66, 65, 66, 67, 68, 69, 68], [0, 1, 2, 1, 0, 0, 0, 1, 0, 1, 0, 1, 0, 0, 0, 0, 1, 2, 3, 4, 5, 6, 5, 6, 7, 8, 12, 13, 14, 15, 16, 17, 16, 17, 16, 17, 16, 17, 16, 17, 18, 19, 20, 21, 22, 24, 25, 24, 25, 30, 31, 30, 29, 28, 29, 28, 29, 28, 29, 30, 31, 32, 33, 34, 35, 36, 35, 36, 40, 41, 42, 43, 44, 45, 44, 45, 44, 50, 51, 57, 58, 57, 58, 59, 60, 59, 60, 63, 64, 63, 66, 65, 66, 65, 66, 65, 66, 67, 68, 69, 68], [0, 1, 2, 1, 0, 0, 0, 1, 0, 1, 0, 1, 0, 0, 0, 0, 1, 2, 3, 4, 5, 6, 5, 6, 7, 8, 12, 13, 14, 15, 16, 17, 16, 17, 16, 17, 16, 17, 16, 17, 18, 19, 20, 21, 22, 24, 25, 24, 25, 30, 31, 30, 29, 28, 29, 28, 29, 28, 29, 30, 31, 32, 33, 34, 35, 36, 35, 36, 40, 41, 42, 43, 44, 45, 44, 45, 44, 50, 51, 57, 58, 57, 58, 59, 60, 59, 60, 63, 64, 63, 66, 65, 66, 65, 66, 65, 66, 67, 68, 69, 68], [0, 1, 2, 1, 0, 0, 0, 1, 0, 1, 0, 1, 0, 0, 0, 0, 1, 2, 3, 4, 5, 6, 5, 6, 7, 8, 12, 13, 14, 15, 16, 17, 16, 17, 16, 17, 16, 17, 16, 17, 18, 19, 20, 21, 22, 24, 25, 24, 25, 30, 31, 30, 29, 28, 29, 28, 29, 28, 29, 30, 31, 32, 33, 34, 35, 36, 35, 36, 40, 41, 42, 43, 44, 45, 44, 45, 44, 50, 51, 57, 58, 57, 58, 59, 60, 59, 60, 63, 64, 63, 66, 65, 66, 65, 66, 65, 66, 67, 68, 69, 68], [0, 1, 2, 1, 0, 0, 0, 1, 0, 1, 0, 1, 0, 0, 0, 0, 1, 2, 3, 4, 5, 6, 5, 6, 7, 8, 12, 13, 14, 15, 16, 17, 16, 17, 16, 17, 16, 17, 16, 17, 18, 19, 20, 21, 22, 24, 25, 24, 25, 30, 31, 30, 29, 28, 29, 28, 29, 28, 29, 30, 31, 32, 33, 34, 35, 36, 35, 36, 40, 41, 42, 43, 44, 45, 44, 45, 44, 50, 51, 57, 58, 57, 58, 59, 60, 59, 60, 63, 64, 63, 66, 65, 66, 65, 66, 65, 66, 67, 68, 69, 68], [0, 1, 2, 1, 0, 0, 0, 1, 0, 1, 0, 1, 0, 0, 0, 0, 1, 2, 3, 4, 5, 6, 5, 6, 7, 8, 12, 13, 14, 15, 16, 17, 16, 17, 16, 17, 16, 17, 16, 17, 18, 19, 20, 21, 22, 24, 25, 24, 25, 30, 31, 30, 29, 28, 29, 28, 29, 28, 29, 30, 31, 32, 33, 34, 35, 36, 35, 36, 40, 41, 42, 43, 44, 45, 44, 45, 44, 50, 51, 57, 58, 57, 58, 59, 60, 59, 60, 63, 64, 63, 66, 65, 66, 65, 66, 65, 66, 67, 68, 69, 68], [0, 1, 2, 1, 0, 0, 0, 1, 0, 1, 0, 1, 0, 0, 0, 0, 1, 2, 3, 4, 5, 6, 5, 6, 7, 8, 12, 13, 14, 15, 16, 17, 16, 17, 16, 17, 16, 17, 16, 17, 18, 19, 20, 21, 22, 24, 25, 24, 25, 30, 31, 30, 29, 28, 29, 28, 29, 28, 29, 30, 31, 32, 33, 34, 35, 36, 35, 36, 40, 41, 42, 43, 44, 45, 44, 45, 44, 50, 51, 57, 58, 57, 58, 59, 60, 59, 60, 63, 64, 63, 66, 65, 66, 65, 66, 65, 66, 67, 68, 69, 68], [0, 1, 2, 1, 0, 0, 0, 1, 0, 1, 0, 1, 0, 0, 0, 0, 1, 2, 3, 4, 5, 6, 5, 6, 7, 8, 12, 13, 14, 15, 16, 17, 16, 17, 16, 17, 16, 17, 16, 17, 18, 19, 20, 21, 22, 24, 25, 24, 25, 30, 31, 30, 29, 28, 29, 28, 29, 28, 29, 30, 31, 32, 33, 34, 35, 36, 35, 36, 40, 41, 42, 43, 44, 45, 44, 45, 44, 50, 51, 57, 58, 57, 58, 59, 60, 59, 60, 63, 64, 63, 66, 65, 66, 65, 66, 65, 66, 67, 68, 69, 68], [0, 1, 2, 1, 0, 0, 0, 1, 0, 1, 0, 1, 0, 0, 0, 0, 1, 2, 3, 4, 5, 6, 5, 6, 7, 8, 12, 13, 14, 15, 16, 17, 16, 17, 16, 17, 16, 17, 16, 17, 18, 19, 20, 21, 22, 24, 25, 24, 25, 30, 31, 30, 29, 28, 29, 28, 29, 28, 29, 30, 31, 32, 33, 34, 35, 36, 35, 36, 40, 41, 42, 43, 44, 45, 44, 45, 44, 50, 51, 57, 58, 57, 58, 59, 60, 59, 60, 63, 64, 63, 66, 65, 66, 65, 66, 65, 66, 67, 68, 69, 68], [0, 1, 2, 1, 0, 0, 0, 1, 0, 1, 0, 1, 0, 0, 0, 0, 1, 2, 3, 4, 5, 6, 5, 6, 7, 8, 12, 13, 14, 15, 16, 17, 16, 17, 16, 17, 16, 17, 16, 17, 18, 19, 20, 21, 22, 24, 25, 24, 25, 30, 31, 30, 29, 28, 29, 28, 29, 28, 29, 30, 31, 32, 33, 34, 35, 36, 35, 36, 40, 41, 42, 43, 44, 45, 44, 45, 44, 50, 51, 57, 58, 57, 58, 59, 60, 59, 60, 63, 64, 63, 66, 65, 66, 65, 66, 65, 66, 67, 68, 69, 68], [0, 1, 2, 1, 0, 0, 0, 1, 0, 1, 0, 1, 0, 0, 0, 0, 1, 2, 3, 4, 5, 6, 5, 6, 7, 8, 12, 13, 14, 15, 16, 17, 16, 17, 16, 17, 16, 17, 16, 17, 18, 19, 20, 21, 22, 24, 25, 24, 25, 30, 31, 30, 29, 28, 29, 28, 29, 28, 29, 30, 31, 32, 33, 34, 35, 36, 35, 36, 40, 41, 42, 43, 44, 45, 44, 45, 44, 50, 51, 57, 58, 57, 58, 59, 60, 59, 60, 63, 64, 63, 66, 65, 66, 65, 66, 65, 66, 67, 68, 69, 68], [0, 1, 2, 1, 0, 0, 0, 1, 0, 1, 0, 1, 0, 0, 0, 0, 1, 2, 3, 4, 5, 6, 5, 6, 7, 8, 12, 13, 14, 15, 16, 17, 16, 17, 16, 17, 16, 17, 16, 17, 18, 19, 20, 21, 22, 24, 25, 24, 25, 30, 31, 30, 29, 28, 29, 28, 29, 28, 29, 30, 31, 32, 33, 34, 35, 36, 35, 36, 40, 41, 42, 43, 44, 45, 44, 45, 44, 50, 51, 57, 58, 57, 58, 59, 60, 59, 60, 63, 64, 63, 66, 65, 66, 65, 66, 65, 66, 67, 68, 69, 68], [0, 1, 2, 1, 0, 0, 0, 1, 0, 1, 0, 1, 0, 0, 0, 0, 1, 2, 3, 4, 5, 6, 5, 6, 7, 8, 12, 13, 14, 15, 16, 17, 16, 17, 16, 17, 16, 17, 16, 17, 18, 19, 20, 21, 22, 24, 25, 24, 25, 30, 31, 30, 29, 28, 29, 28, 29, 28, 29, 30, 31, 32, 33, 34, 35, 36, 35, 36, 40, 41, 42, 43, 44, 45, 44, 45, 44, 50, 51, 57, 58, 57, 58, 59, 60, 59, 60, 63, 64, 63, 66, 65, 66, 65, 66, 65, 66, 67, 68, 69, 68], [0, 1, 2, 1, 0, 0, 0, 1, 0, 1, 0, 1, 0, 0, 0, 0, 1, 2, 3, 4, 5, 6, 5, 6, 7, 8, 12, 13, 14, 15, 16, 17, 16, 17, 16, 17, 16, 17, 16, 17, 18, 19, 20, 21, 22, 24, 25, 24, 25, 30, 31, 30, 29, 28, 29, 28, 29, 28, 29, 30, 31, 32, 33, 34, 35, 36, 35, 36, 40, 41, 42, 43, 44, 45, 44, 45, 44, 50, 51, 57, 58, 57, 58, 59, 60, 59, 60, 63, 64, 63, 66, 65, 66, 65, 66, 65, 66, 67, 68, 69, 68], [0, 1, 2, 1, 0, 0, 0, 1, 0, 1, 0, 1, 0, 0, 0, 0, 1, 2, 3, 4, 5, 6, 5, 6, 7, 8, 12, 13, 14, 15, 16, 17, 16, 17, 16, 17, 16, 17, 16, 17, 18, 19, 20, 21, 22, 24, 25, 24, 25, 30, 31, 30, 29, 28, 29, 28, 29, 28, 29, 30, 31, 32, 33, 34, 35, 36, 35, 36, 40, 41, 42, 43, 44, 45, 44, 45, 44, 50, 51, 57, 58, 57, 58, 59, 60, 59, 60, 63, 64, 63, 66, 65, 66, 65, 66, 65, 66, 67, 68, 69, 68], [0, 1, 2, 1, 0, 0, 0, 1, 0, 1, 0, 1, 0, 0, 0, 0, 1, 2, 3, 4, 5, 6, 5, 6, 7, 8, 12, 13, 14, 15, 16, 17, 16, 17, 16, 17, 16, 17, 16, 17, 18, 19, 20, 21, 22, 24, 25, 24, 25, 30, 31, 30, 29, 28, 29, 28, 29, 28, 29, 30, 31, 32, 33, 34, 35, 36, 35, 36, 40, 41, 42, 43, 44, 45, 44, 45, 44, 50, 51, 57, 58, 57, 58, 59, 60, 59, 60, 63, 64, 63, 66, 65, 66, 65, 66, 65, 66, 67, 68, 69, 68], [0, 1, 2, 1, 0, 0, 0, 1, 0, 1, 0, 1, 0, 0, 0, 0, 1, 2, 3, 4, 5, 6, 5, 6, 7, 8, 12, 13, 14, 15, 16, 17, 16, 17, 16, 17, 16, 17, 16, 17, 18, 19, 20, 21, 22, 24, 25, 24, 25, 30, 31, 30, 29, 28, 29, 28, 29, 28, 29, 30, 31, 32, 33, 34, 35, 36, 35, 36, 40, 41, 42, 43, 44, 45, 44, 45, 44, 50, 51, 57, 58, 57, 58, 59, 60, 59, 60, 63, 64, 63, 66, 65, 66, 65, 66, 65, 66, 67, 68, 69, 68], [0, 1, 2, 1, 0, 0, 0, 1, 0, 1, 0, 1, 0, 0, 0, 0, 1, 2, 3, 4, 5, 6, 5, 6, 7, 8, 12, 13, 14, 15, 16, 17, 16, 17, 16, 17, 16, 17, 16, 17, 18, 19, 20, 21, 22, 24, 25, 24, 25, 30, 31, 30, 29, 28, 29, 28, 29, 28, 29, 30, 31, 32, 33, 34, 35, 36, 35, 36, 40, 41, 42, 43, 44, 45, 44, 45, 44, 50, 51, 57, 58, 57, 58, 59, 60, 59, 60, 63, 64, 63, 66, 65, 66, 65, 66, 65, 66, 67, 68, 69, 68], [0, 1, 2, 1, 0, 0, 0, 1, 0, 1, 0, 1, 0, 0, 0, 0, 1, 2, 3, 4, 5, 6, 5, 6, 7, 8, 12, 13, 14, 15, 16, 17, 16, 17, 16, 17, 16, 17, 16, 17, 18, 19, 20, 21, 22, 24, 25, 24, 25, 30, 31, 30, 29, 28, 29, 28, 29, 28, 29, 30, 31, 32, 33, 34, 35, 36, 35, 36, 40, 41, 42, 43, 44, 45, 44, 45, 44, 50, 51, 57, 58, 57, 58, 59, 60, 59, 60, 63, 64, 63, 66, 65, 66, 65, 66, 65, 66, 67, 68, 69, 68], [0, 1, 2, 1, 0, 0, 0, 1, 0, 1, 0, 1, 0, 0, 0, 0, 1, 2, 3, 4, 5, 6, 5, 6, 7, 8, 12, 13, 14, 15, 16, 17, 16, 17, 16, 17, 16, 17, 16, 17, 18, 19, 20, 21, 22, 24, 25, 24, 25, 30, 31, 30, 29, 28, 29, 28, 29, 28, 29, 30, 31, 32, 33, 34, 35, 36, 35, 36, 40, 41, 42, 43, 44, 45, 44, 45, 44, 50, 51, 57, 58, 57, 58, 59, 60, 59, 60, 63, 64, 63, 66, 65, 66, 65, 66, 65, 66, 67, 68, 69, 68], [0, 1, 2, 1, 0, 0, 0, 1, 0, 1, 0, 1, 0, 0, 0, 0, 1, 2, 3, 4, 5, 6, 5, 6, 7, 8, 12, 13, 14, 15, 16, 17, 16, 17, 16, 17, 16, 17, 16, 17, 18, 19, 20, 21, 22, 24, 25, 24, 25, 30, 31, 30, 29, 28, 29, 28, 29, 28, 29, 30, 31, 32, 33, 34, 35, 36, 35, 36, 40, 41, 42, 43, 44, 45, 44, 45, 44, 50, 51, 57, 58, 57, 58, 59, 60, 59, 60, 63, 64, 63, 66, 65, 66, 65, 66, 65, 66, 67, 68, 69, 68], [0, 1, 2, 1, 0, 0, 0, 1, 0, 1, 0, 1, 0, 0, 0, 0, 1, 2, 3, 4, 5, 6, 5, 6, 7, 8, 12, 13, 14, 15, 16, 17, 16, 17, 16, 17, 16, 17, 16, 17, 18, 19, 20, 21, 22, 24, 25, 24, 25, 30, 31, 30, 29, 28, 29, 28, 29, 28, 29, 30, 31, 32, 33, 34, 35, 36, 35, 36, 40, 41, 42, 43, 44, 45, 44, 45, 44, 50, 51, 57, 58, 57, 58, 59, 60, 59, 60, 63, 64, 63, 66, 65, 66, 65, 66, 65, 66, 67, 68, 69, 68], [0, 1, 2, 1, 0, 0, 0, 1, 0, 1, 0, 1, 0, 0, 0, 0, 1, 2, 3, 4, 5, 6, 5, 6, 7, 8, 12, 13, 14, 15, 16, 17, 16, 17, 16, 17, 16, 17, 16, 17, 18, 19, 20, 21, 22, 24, 25, 24, 25, 30, 31, 30, 29, 28, 29, 28, 29, 28, 29, 30, 31, 32, 33, 34, 35, 36, 35, 36, 40, 41, 42, 43, 44, 45, 44, 45, 44, 50, 51, 57, 58, 57, 58, 59, 60, 59, 60, 63, 64, 63, 66, 65, 66, 65, 66, 65, 66, 67, 68, 69, 68], [0, 1, 2, 1, 0, 0, 0, 1, 0, 1, 0, 1, 0, 0, 0, 0, 1, 2, 3, 4, 5, 6, 5, 6, 7, 8, 12, 13, 14, 15, 16, 17, 16, 17, 16, 17, 16, 17, 16, 17, 18, 19, 20, 21, 22, 24, 25, 24, 25, 30, 31, 30, 29, 28, 29, 28, 29, 28, 29, 30, 31, 32, 33, 34, 35, 36, 35, 36, 40, 41, 42, 43, 44, 45, 44, 45, 44, 50, 51, 57, 58, 57, 58, 59, 60, 59, 60, 63, 64, 63, 66, 65, 66, 65, 66, 65, 66, 67, 68, 69, 68], [0, 1, 2, 1, 0, 0, 0, 1, 0, 1, 0, 1, 0, 0, 0, 0, 1, 2, 3, 4, 5, 6, 5, 6, 7, 8, 12, 13, 14, 15, 16, 17, 16, 17, 16, 17, 16, 17, 16, 17, 18, 19, 20, 21, 22, 24, 25, 24, 25, 30, 31, 30, 29, 28, 29, 28, 29, 28, 29, 30, 31, 32, 33, 34, 35, 36, 35, 36, 40, 41, 42, 43, 44, 45, 44, 45, 44, 50, 51, 57, 58, 57, 58, 59, 60, 59, 60, 63, 64, 63, 66, 65, 66, 65, 66, 65, 66, 67, 68, 69, 68], [0, 1, 2, 1, 0, 0, 0, 1, 0, 1, 0, 1, 0, 0, 0, 0, 1, 2, 3, 4, 5, 6, 5, 6, 7, 8, 12, 13, 14, 15, 16, 17, 16, 17, 16, 17, 16, 17, 16, 17, 18, 19, 20, 21, 22, 24, 25, 24, 25, 30, 31, 30, 29, 28, 29, 28, 29, 28, 29, 30, 31, 32, 33, 34, 35, 36, 35, 36, 40, 41, 42, 43, 44, 45, 44, 45, 44, 50, 51, 57, 58, 57, 58, 59, 60, 59, 60, 63, 64, 63, 66, 65, 66, 65, 66, 65, 66, 67, 68, 69, 68], [0, 1, 2, 1, 0, 0, 0, 1, 0, 1, 0, 1, 0, 0, 0, 0, 1, 2, 3, 4, 5, 6, 5, 6, 7, 8, 12, 13, 14, 15, 16, 17, 16, 17, 16, 17, 16, 17, 16, 17, 18, 19, 20, 21, 22, 24, 25, 24, 25, 30, 31, 30, 29, 28, 29, 28, 29, 28, 29, 30, 31, 32, 33, 34, 35, 36, 35, 36, 40, 41, 42, 43, 44, 45, 44, 45, 44, 50, 51, 57, 58, 57, 58, 59, 60, 59, 60, 63, 64, 63, 66, 65, 66, 65, 66, 65, 66, 67, 68, 69, 68], [0, 1, 2, 1, 0, 0, 0, 1, 0, 1, 0, 1, 0, 0, 0, 0, 1, 2, 3, 4, 5, 6, 5, 6, 7, 8, 12, 13, 14, 15, 16, 17, 16, 17, 16, 17, 16, 17, 16, 17, 18, 19, 20, 21, 22, 24, 25, 24, 25, 30, 31, 30, 29, 28, 29, 28, 29, 28, 29, 30, 31, 32, 33, 34, 35, 36, 35, 36, 40, 41, 42, 43, 44, 45, 44, 45, 44, 50, 51, 57, 58, 57, 58, 59, 60, 59, 60, 63, 64, 63, 66, 65, 66, 65, 66, 65, 66, 67, 68, 69, 68], [0, 1, 2, 1, 0, 0, 0, 1, 0, 1, 0, 1, 0, 0, 0, 0, 1, 2, 3, 4, 5, 6, 5, 6, 7, 8, 12, 13, 14, 15, 16, 17, 16, 17, 16, 17, 16, 17, 16, 17, 18, 19, 20, 21, 22, 24, 25, 24, 25, 30, 31, 30, 29, 28, 29, 28, 29, 28, 29, 30, 31, 32, 33, 34, 35, 36, 35, 36, 40, 41, 42, 43, 44, 45, 44, 45, 44, 50, 51, 57, 58, 57, 58, 59, 60, 59, 60, 63, 64, 63, 66, 65, 66, 65, 66, 65, 66, 67, 68, 69, 68], [0, 1, 2, 1, 0, 0, 0, 1, 0, 1, 0, 1, 0, 0, 0, 0, 1, 2, 3, 4, 5, 6, 5, 6, 7, 8, 12, 13, 14, 15, 16, 17, 16, 17, 16, 17, 16, 17, 16, 17, 18, 19, 20, 21, 22, 24, 25, 24, 25, 30, 31, 30, 29, 28, 29, 28, 29, 28, 29, 30, 31, 32, 33, 34, 35, 36, 35, 36, 40, 41, 42, 43, 44, 45, 44, 45, 44, 50, 51, 57, 58, 57, 58, 59, 60, 59, 60, 63, 64, 63, 66, 65, 66, 65, 66, 65, 66, 67, 68, 69, 68], [0, 1, 2, 1, 0, 0, 0, 1, 0, 1, 0, 1, 0, 0, 0, 0, 1, 2, 3, 4, 5, 6, 5, 6, 7, 8, 12, 13, 14, 15, 16, 17, 16, 17, 16, 17, 16, 17, 16, 17, 18, 19, 20, 21, 22, 24, 25, 24, 25, 30, 31, 30, 29, 28, 29, 28, 29, 28, 29, 30, 31, 32, 33, 34, 35, 36, 35, 36, 40, 41, 42, 43, 44, 45, 44, 45, 44, 50, 51, 57, 58, 57, 58, 59, 60, 59, 60, 63, 64, 63, 66, 65, 66, 65, 66, 65, 66, 67, 68, 69, 68], [0, 1, 2, 1, 0, 0, 0, 1, 0, 1, 0, 1, 0, 0, 0, 0, 1, 2, 3, 4, 5, 6, 5, 6, 7, 8, 12, 13, 14, 15, 16, 17, 16, 17, 16, 17, 16, 17, 16, 17, 18, 19, 20, 21, 22, 24, 25, 24, 25, 30, 31, 30, 29, 28, 29, 28, 29, 28, 29, 30, 31, 32, 33, 34, 35, 36, 35, 36, 40, 41, 42, 43, 44, 45, 44, 45, 44, 50, 51, 57, 58, 57, 58, 59, 60, 59, 60, 63, 64, 63, 66, 65, 66, 65, 66, 65, 66, 67, 68, 69, 68], [0, 1, 2, 1, 0, 0, 0, 1, 0, 1, 0, 1, 0, 0, 0, 0, 1, 2, 3, 4, 5, 6, 5, 6, 7, 8, 12, 13, 14, 15, 16, 17, 16, 17, 16, 17, 16, 17, 16, 17, 18, 19, 20, 21, 22, 24, 25, 24, 25, 30, 31, 30, 29, 28, 29, 28, 29, 28, 29, 30, 31, 32, 33, 34, 35, 36, 35, 36, 40, 41, 42, 43, 44, 45, 44, 45, 44, 50, 51, 57, 58, 57, 58, 59, 60, 59, 60, 63, 64, 63, 66, 65, 66, 65, 66, 65, 66, 67, 68, 69, 68], [0, 1, 2, 1, 0, 0, 0, 1, 0, 1, 0, 1, 0, 0, 0, 0, 1, 2, 3, 4, 5, 6, 5, 6, 7, 8, 12, 13, 14, 15, 16, 17, 16, 17, 16, 17, 16, 17, 16, 17, 18, 19, 20, 21, 22, 24, 25, 24, 25, 30, 31, 30, 29, 28, 29, 28, 29, 28, 29, 30, 31, 32, 33, 34, 35, 36, 35, 36, 40, 41, 42, 43, 44, 45, 44, 45, 44, 50, 51, 57, 58, 57, 58, 59, 60, 59, 60, 63, 64, 63, 66, 65, 66, 65, 66, 65, 66, 67, 68, 69, 68], [0, 1, 2, 1, 0, 0, 0, 1, 0, 1, 0, 1, 0, 0, 0, 0, 1, 2, 3, 4, 5, 6, 5, 6, 7, 8, 12, 13, 14, 15, 16, 17, 16, 17, 16, 17, 16, 17, 16, 17, 18, 19, 20, 21, 22, 24, 25, 24, 25, 30, 31, 30, 29, 28, 29, 28, 29, 28, 29, 30, 31, 32, 33, 34, 35, 36, 35, 36, 40, 41, 42, 43, 44, 45, 44, 45, 44, 50, 51, 57, 58, 57, 58, 59, 60, 59, 60, 63, 64, 63, 66, 65, 66, 65, 66, 65, 66, 67, 68, 69, 68], [0, 1, 2, 1, 0, 0, 0, 1, 0, 1, 0, 1, 0, 0, 0, 0, 1, 2, 3, 4, 5, 6, 5, 6, 7, 8, 12, 13, 14, 15, 16, 17, 16, 17, 16, 17, 16, 17, 16, 17, 18, 19, 20, 21, 22, 24, 25, 24, 25, 30, 31, 30, 29, 28, 29, 28, 29, 28, 29, 30, 31, 32, 33, 34, 35, 36, 35, 36, 40, 41, 42, 43, 44, 45, 44, 45, 44, 50, 51, 57, 58, 57, 58, 59, 60, 59, 60, 63, 64, 63, 66, 65, 66, 65, 66, 65, 66, 67, 68, 69, 68], [0, 1, 2, 1, 0, 0, 0, 1, 0, 1, 0, 1, 0, 0, 0, 0, 1, 2, 3, 4, 5, 6, 5, 6, 7, 8, 12, 13, 14, 15, 16, 17, 16, 17, 16, 17, 16, 17, 16, 17, 18, 19, 20, 21, 22, 24, 25, 24, 25, 30, 31, 30, 29, 28, 29, 28, 29, 28, 29, 30, 31, 32, 33, 34, 35, 36, 35, 36, 40, 41, 42, 43, 44, 45, 44, 45, 44, 50, 51, 57, 58, 57, 58, 59, 60, 59, 60, 63, 64, 63, 66, 65, 66, 65, 66, 65, 66, 67, 68, 69, 68], [0, 1, 2, 1, 0, 0, 0, 1, 0, 1, 0, 1, 0, 0, 0, 0, 1, 2, 3, 4, 5, 6, 5, 6, 7, 8, 12, 13, 14, 15, 16, 17, 16, 17, 16, 17, 16, 17, 16, 17, 18, 19, 20, 21, 22, 24, 25, 24, 25, 30, 31, 30, 29, 28, 29, 28, 29, 28, 29, 30, 31, 32, 33, 34, 35, 36, 35, 36, 40, 41, 42, 43, 44, 45, 44, 45, 44, 50, 51, 57, 58, 57, 58, 59, 60, 59, 60, 63, 64, 63, 66, 65, 66, 65, 66, 65, 66, 67, 68, 69, 68], [0, 1, 2, 1, 0, 0, 0, 1, 0, 1, 0, 1, 0, 0, 0, 0, 1, 2, 3, 4, 5, 6, 5, 6, 7, 8, 12, 13, 14, 15, 16, 17, 16, 17, 16, 17, 16, 17, 16, 17, 18, 19, 20, 21, 22, 24, 25, 24, 25, 30, 31, 30, 29, 28, 29, 28, 29, 28, 29, 30, 31, 32, 33, 34, 35, 36, 35, 36, 40, 41, 42, 43, 44, 45, 44, 45, 44, 50, 51, 57, 58, 57, 58, 59, 60, 59, 60, 63, 64, 63, 66, 65, 66, 65, 66, 65, 66, 67, 68, 69, 68], [0, 1, 2, 1, 0, 0, 0, 1, 0, 1, 0, 1, 0, 0, 0, 0, 1, 2, 3, 4, 5, 6, 5, 6, 7, 8, 12, 13, 14, 15, 16, 17, 16, 17, 16, 17, 16, 17, 16, 17, 18, 19, 20, 21, 22, 24, 25, 24, 25, 30, 31, 30, 29, 28, 29, 28, 29, 28, 29, 30, 31, 32, 33, 34, 35, 36, 35, 36, 40, 41, 42, 43, 44, 45, 44, 45, 44, 50, 51, 57, 58, 57, 58, 59, 60, 59, 60, 63, 64, 63, 66, 65, 66, 65, 66, 65, 66, 67, 68, 69, 68], [0, 1, 2, 1, 0, 0, 0, 1, 0, 1, 0, 1, 0, 0, 0, 0, 1, 2, 3, 4, 5, 6, 5, 6, 7, 8, 12, 13, 14, 15, 16, 17, 16, 17, 16, 17, 16, 17, 16, 17, 18, 19, 20, 21, 22, 24, 25, 24, 25, 30, 31, 30, 29, 28, 29, 28, 29, 28, 29, 30, 31, 32, 33, 34, 35, 36, 35, 36, 40, 41, 42, 43, 44, 45, 44, 45, 44, 50, 51, 57, 58, 57, 58, 59, 60, 59, 60, 63, 64, 63, 66, 65, 66, 65, 66, 65, 66, 67, 68, 69, 68], [0, 1, 2, 1, 0, 0, 0, 1, 0, 1, 0, 1, 0, 0, 0, 0, 1, 2, 3, 4, 5, 6, 5, 6, 7, 8, 12, 13, 14, 15, 16, 17, 16, 17, 16, 17, 16, 17, 16, 17, 18, 19, 20, 21, 22, 24, 25, 24, 25, 30, 31, 30, 29, 28, 29, 28, 29, 28, 29, 30, 31, 32, 33, 34, 35, 36, 35, 36, 40, 41, 42, 43, 44, 45, 44, 45, 44, 50, 51, 57, 58, 57, 58, 59, 60, 59, 60, 63, 64, 63, 66, 65, 66, 65, 66, 65, 66, 67, 68, 69, 68], [0, 1, 2, 1, 0, 0, 0, 1, 0, 1, 0, 1, 0, 0, 0, 0, 1, 2, 3, 4, 5, 6, 5, 6, 7, 8, 12, 13, 14, 15, 16, 17, 16, 17, 16, 17, 16, 17, 16, 17, 18, 19, 20, 21, 22, 24, 25, 24, 25, 30, 31, 30, 29, 28, 29, 28, 29, 28, 29, 30, 31, 32, 33, 34, 35, 36, 35, 36, 40, 41, 42, 43, 44, 45, 44, 45, 44, 50, 51, 57, 58, 57, 58, 59, 60, 59, 60, 63, 64, 63, 66, 65, 66, 65, 66, 65, 66, 67, 68, 69, 68], [0, 1, 2, 1, 0, 0, 0, 1, 0, 1, 0, 1, 0, 0, 0, 0, 1, 2, 3, 4, 5, 6, 5, 6, 7, 8, 12, 13, 14, 15, 16, 17, 16, 17, 16, 17, 16, 17, 16, 17, 18, 19, 20, 21, 22, 24, 25, 24, 25, 30, 31, 30, 29, 28, 29, 28, 29, 28, 29, 30, 31, 32, 33, 34, 35, 36, 35, 36, 40, 41, 42, 43, 44, 45, 44, 45, 44, 50, 51, 57, 58, 57, 58, 59, 60, 59, 60, 63, 64, 63, 66, 65, 66, 65, 66, 65, 66, 67, 68, 69, 68], [0, 1, 2, 1, 0, 0, 0, 1, 0, 1, 0, 1, 0, 0, 0, 0, 1, 2, 3, 4, 5, 6, 5, 6, 7, 8, 12, 13, 14, 15, 16, 17, 16, 17, 16, 17, 16, 17, 16, 17, 18, 19, 20, 21, 22, 24, 25, 24, 25, 30, 31, 30, 29, 28, 29, 28, 29, 28, 29, 30, 31, 32, 33, 34, 35, 36, 35, 36, 40, 41, 42, 43, 44, 45, 44, 45, 44, 50, 51, 57, 58, 57, 58, 59, 60, 59, 60, 63, 64, 63, 66, 65, 66, 65, 66, 65, 66, 67, 68, 69, 68], [0, 1, 2, 1, 0, 0, 0, 1, 0, 1, 0, 1, 0, 0, 0, 0, 1, 2, 3, 4, 5, 6, 5, 6, 7, 8, 12, 13, 14, 15, 16, 17, 16, 17, 16, 17, 16, 17, 16, 17, 18, 19, 20, 21, 22, 24, 25, 24, 25, 30, 31, 30, 29, 28, 29, 28, 29, 28, 29, 30, 31, 32, 33, 34, 35, 36, 35, 36, 40, 41, 42, 43, 44, 45, 44, 45, 44, 50, 51, 57, 58, 57, 58, 59, 60, 59, 60, 63, 64, 63, 66, 65, 66, 65, 66, 65, 66, 67, 68, 69, 68], [0, 1, 2, 1, 0, 0, 0, 1, 0, 1, 0, 1, 0, 0, 0, 0, 1, 2, 3, 4, 5, 6, 5, 6, 7, 8, 12, 13, 14, 15, 16, 17, 16, 17, 16, 17, 16, 17, 16, 17, 18, 19, 20, 21, 22, 24, 25, 24, 25, 30, 31, 30, 29, 28, 29, 28, 29, 28, 29, 30, 31, 32, 33, 34, 35, 36, 35, 36, 40, 41, 42, 43, 44, 45, 44, 45, 44, 50, 51, 57, 58, 57, 58, 59, 60, 59, 60, 63, 64, 63, 66, 65, 66, 65, 66, 65, 66, 67, 68, 69, 68], [0, 1, 2, 1, 0, 0, 0, 1, 0, 1, 0, 1, 0, 0, 0, 0, 1, 2, 3, 4, 5, 6, 5, 6, 7, 8, 12, 13, 14, 15, 16, 17, 16, 17, 16, 17, 16, 17, 16, 17, 18, 19, 20, 21, 22, 24, 25, 24, 25, 30, 31, 30, 29, 28, 29, 28, 29, 28, 29, 30, 31, 32, 33, 34, 35, 36, 35, 36, 40, 41, 42, 43, 44, 45, 44, 45, 44, 50, 51, 57, 58, 57, 58, 59, 60, 59, 60, 63, 64, 63, 66, 65, 66, 65, 66, 65, 66, 67, 68, 69, 68], [0, 1, 2, 1, 0, 0, 0, 1, 0, 1, 0, 1, 0, 0, 0, 0, 1, 2, 3, 4, 5, 6, 5, 6, 7, 8, 12, 13, 14, 15, 16, 17, 16, 17, 16, 17, 16, 17, 16, 17, 18, 19, 20, 21, 22, 24, 25, 24, 25, 30, 31, 30, 29, 28, 29, 28, 29, 28, 29, 30, 31, 32, 33, 34, 35, 36, 35, 36, 40, 41, 42, 43, 44, 45, 44, 45, 44, 50, 51, 57, 58, 57, 58, 59, 60, 59, 60, 63, 64, 63, 66, 65, 66, 65, 66, 65, 66, 67, 68, 69, 68], [0, 1, 2, 1, 0, 0, 0, 1, 0, 1, 0, 1, 0, 0, 0, 0, 1, 2, 3, 4, 5, 6, 5, 6, 7, 8, 12, 13, 14, 15, 16, 17, 16, 17, 16, 17, 16, 17, 16, 17, 18, 19, 20, 21, 22, 24, 25, 24, 25, 30, 31, 30, 29, 28, 29, 28, 29, 28, 29, 30, 31, 32, 33, 34, 35, 36, 35, 36, 40, 41, 42, 43, 44, 45, 44, 45, 44, 50, 51, 57, 58, 57, 58, 59, 60, 59, 60, 63, 64, 63, 66, 65, 66, 65, 66, 65, 66, 67, 68, 69, 68], [0, 1, 2, 1, 0, 0, 0, 1, 0, 1, 0, 1, 0, 0, 0, 0, 1, 2, 3, 4, 5, 6, 5, 6, 7, 8, 12, 13, 14, 15, 16, 17, 16, 17, 16, 17, 16, 17, 16, 17, 18, 19, 20, 21, 22, 24, 25, 24, 25, 30, 31, 30, 29, 28, 29, 28, 29, 28, 29, 30, 31, 32, 33, 34, 35, 36, 35, 36, 40, 41, 42, 43, 44, 45, 44, 45, 44, 50, 51, 57, 58, 57, 58, 59, 60, 59, 60, 63, 64, 63, 66, 65, 66, 65, 66, 65, 66, 67, 68, 69, 68], [0, 1, 2, 1, 0, 0, 0, 1, 0, 1, 0, 1, 0, 0, 0, 0, 1, 2, 3, 4, 5, 6, 5, 6, 7, 8, 12, 13, 14, 15, 16, 17, 16, 17, 16, 17, 16, 17, 16, 17, 18, 19, 20, 21, 22, 24, 25, 24, 25, 30, 31, 30, 29, 28, 29, 28, 29, 28, 29, 30, 31, 32, 33, 34, 35, 36, 35, 36, 40, 41, 42, 43, 44, 45, 44, 45, 44, 50, 51, 57, 58, 57, 58, 59, 60, 59, 60, 63, 64, 63, 66, 65, 66, 65, 66, 65, 66, 67, 68, 69, 68], [0, 1, 2, 1, 0, 0, 0, 1, 0, 1, 0, 1, 0, 0, 0, 0, 1, 2, 3, 4, 5, 6, 5, 6, 7, 8, 12, 13, 14, 15, 16, 17, 16, 17, 16, 17, 16, 17, 16, 17, 18, 19, 20, 21, 22, 24, 25, 24, 25, 30, 31, 30, 29, 28, 29, 28, 29, 28, 29, 30, 31, 32, 33, 34, 35, 36, 35, 36, 40, 41, 42, 43, 44, 45, 44, 45, 44, 50, 51, 57, 58, 57, 58, 59, 60, 59, 60, 63, 64, 63, 66, 65, 66, 65, 66, 65, 66, 67, 68, 69, 68], [0, 0, 1, 2, 1, 2, 7, 8, 7, 8, 9, 10, 11, 12, 13, 14, 15, 16, 15, 16, 15, 14, 15, 19, 18, 24, 25, 24, 25, 27, 26, 25, 26, 27, 26, 25, 26, 25, 24, 27, 26, 27, 28, 29, 30, 31, 32, 31, 37, 36, 37, 43, 44, 43, 44, 49, 48, 47, 46, 47, 48, 47, 46, 45, 46, 47, 48, 49, 48, 49, 50, 51, 50, 51, 55, 56, 62, 63, 69, 70, 71, 72, 73, 72, 73, 74, 79, 80, 79, 78, 79, 80, 81, 82, 83, 88, 87, 86, 87, 88, 94], [0, 0, 1, 2, 1, 2, 7, 8, 7, 8, 9, 10, 11, 12, 13, 14, 15, 16, 15, 16, 15, 14, 15, 19, 18, 24, 25, 24, 25, 27, 26, 25, 26, 27, 26, 25, 26, 25, 24, 27, 26, 27, 28, 29, 30, 31, 32, 31, 37, 36, 37, 43, 44, 43, 44, 49, 48, 47, 46, 47, 48, 47, 46, 45, 46, 47, 48, 49, 48, 49, 50, 51, 50, 51, 55, 56, 62, 63, 69, 70, 71, 72, 73, 72, 73, 74, 79, 80, 79, 78, 79, 80, 81, 82, 83, 88, 87, 86, 87, 88, 94], [0, 0, 1, 2, 1, 2, 7, 8, 7, 8, 9, 10, 11, 12, 13, 14, 15, 16, 15, 16, 15, 14, 15, 19, 18, 24, 25, 24, 25, 27, 26, 25, 26, 27, 26, 25, 26, 25, 24, 27, 26, 27, 28, 29, 30, 31, 32, 31, 37, 36, 37, 43, 44, 43, 44, 49, 48, 47, 46, 47, 48, 47, 46, 45, 46, 47, 48, 49, 48, 49, 50, 51, 50, 51, 55, 56, 62, 63, 69, 70, 71, 72, 73, 72, 73, 74, 79, 80, 79, 78, 79, 80, 81, 82, 83, 88, 87, 86, 87, 88, 94], [0, 0, 1, 2, 1, 2, 7, 8, 7, 8, 9, 10, 11, 12, 13, 14, 15, 16, 15, 16, 15, 14, 15, 19, 18, 24, 25, 24, 25, 27, 26, 25, 26, 27, 26, 25, 26, 25, 24, 27, 26, 27, 28, 29, 30, 31, 32, 31, 37, 36, 37, 43, 44, 43, 44, 49, 48, 47, 46, 47, 48, 47, 46, 45, 46, 47, 48, 49, 48, 49, 50, 51, 50, 51, 55, 56, 62, 63, 69, 70, 71, 72, 73, 72, 73, 74, 79, 80, 79, 78, 79, 80, 81, 82, 83, 88, 87, 86, 87, 88, 94], [0, 0, 1, 2, 1, 2, 7, 8, 7, 8, 9, 10, 11, 12, 13, 14, 15, 16, 15, 16, 15, 14, 15, 19, 18, 24, 25, 24, 25, 27, 26, 25, 26, 27, 26, 25, 26, 25, 24, 27, 26, 27, 28, 29, 30, 31, 32, 31, 37, 36, 37, 43, 44, 43, 44, 49, 48, 47, 46, 47, 48, 47, 46, 45, 46, 47, 48, 49, 48, 49, 50, 51, 50, 51, 55, 56, 62, 63, 69, 70, 71, 72, 73, 72, 73, 74, 79, 80, 79, 78, 79, 80, 81, 82, 83, 88, 87, 86, 87, 88, 94], [0, 0, 1, 2, 1, 2, 7, 8, 7, 8, 9, 10, 11, 12, 13, 14, 15, 16, 15, 16, 15, 14, 15, 19, 18, 24, 25, 24, 25, 27, 26, 25, 26, 27, 26, 25, 26, 25, 24, 27, 26, 27, 28, 29, 30, 31, 32, 31, 37, 36, 37, 43, 44, 43, 44, 49, 48, 47, 46, 47, 48, 47, 46, 45, 46, 47, 48, 49, 48, 49, 50, 51, 50, 51, 55, 56, 62, 63, 69, 70, 71, 72, 73, 72, 73, 74, 79, 80, 79, 78, 79, 80, 81, 82, 83, 88, 87, 86, 87, 88, 94], [0, 0, 1, 2, 1, 2, 7, 8, 7, 8, 9, 10, 11, 12, 13, 14, 15, 16, 15, 16, 15, 14, 15, 19, 18, 24, 25, 24, 25, 27, 26, 25, 26, 27, 26, 25, 26, 25, 24, 27, 26, 27, 28, 29, 30, 31, 32, 31, 37, 36, 37, 43, 44, 43, 44, 49, 48, 47, 46, 47, 48, 47, 46, 45, 46, 47, 48, 49, 48, 49, 50, 51, 50, 51, 55, 56, 62, 63, 69, 70, 71, 72, 73, 72, 73, 74, 79, 80, 79, 78, 79, 80, 81, 82, 83, 88, 87, 86, 87, 88, 94], [0, 0, 1, 2, 1, 2, 7, 8, 7, 8, 9, 10, 11, 12, 13, 14, 15, 16, 15, 16, 15, 14, 15, 19, 18, 24, 25, 24, 25, 27, 26, 25, 26, 27, 26, 25, 26, 25, 24, 27, 26, 27, 28, 29, 30, 31, 32, 31, 37, 36, 37, 43, 44, 43, 44, 49, 48, 47, 46, 47, 48, 47, 46, 45, 46, 47, 48, 49, 48, 49, 50, 51, 50, 51, 55, 56, 62, 63, 69, 70, 71, 72, 73, 72, 73, 74, 79, 80, 79, 78, 79, 80, 81, 82, 83, 88, 87, 86, 87, 88, 94], [0, 0, 1, 2, 1, 2, 7, 8, 7, 8, 9, 10, 11, 12, 13, 14, 15, 16, 15, 16, 15, 14, 15, 19, 18, 24, 25, 24, 25, 27, 26, 25, 26, 27, 26, 25, 26, 25, 24, 27, 26, 27, 28, 29, 30, 31, 32, 31, 37, 36, 37, 43, 44, 43, 44, 49, 48, 47, 46, 47, 48, 47, 46, 45, 46, 47, 48, 49, 48, 49, 50, 51, 50, 51, 55, 56, 62, 63, 69, 70, 71, 72, 73, 72, 73, 74, 79, 80, 79, 78, 79, 80, 81, 82, 83, 88, 87, 86, 87, 88, 94], [0, 0, 1, 2, 1, 2, 7, 8, 7, 8, 9, 10, 11, 12, 13, 14, 15, 16, 15, 16, 15, 14, 15, 19, 18, 24, 25, 24, 25, 27, 26, 25, 26, 27, 26, 25, 26, 25, 24, 27, 26, 27, 28, 29, 30, 31, 32, 31, 37, 36, 37, 43, 44, 43, 44, 49, 48, 47, 46, 47, 48, 47, 46, 45, 46, 47, 48, 49, 48, 49, 50, 51, 50, 51, 55, 56, 62, 63, 69, 70, 71, 72, 73, 72, 73, 74, 79, 80, 79, 78, 79, 80, 81, 82, 83, 88, 87, 86, 87, 88, 94], [0, 0, 1, 2, 1, 2, 7, 8, 7, 8, 9, 10, 11, 12, 13, 14, 15, 16, 15, 16, 15, 14, 15, 19, 18, 24, 25, 24, 25, 27, 26, 25, 26, 27, 26, 25, 26, 25, 24, 27, 26, 27, 28, 29, 30, 31, 32, 31, 37, 36, 37, 43, 44, 43, 44, 49, 48, 47, 46, 47, 48, 47, 46, 45, 46, 47, 48, 49, 48, 49, 50, 51, 50, 51, 55, 56, 62, 63, 69, 70, 71, 72, 73, 72, 73, 74, 79, 80, 79, 78, 79, 80, 81, 82, 83, 88, 87, 86, 87, 88, 94], [0, 0, 1, 2, 1, 2, 7, 8, 7, 8, 9, 10, 11, 12, 13, 14, 15, 16, 15, 16, 15, 14, 15, 19, 18, 24, 25, 24, 25, 27, 26, 25, 26, 27, 26, 25, 26, 25, 24, 27, 26, 27, 28, 29, 30, 31, 32, 31, 37, 36, 37, 43, 44, 43, 44, 49, 48, 47, 46, 47, 48, 47, 46, 45, 46, 47, 48, 49, 48, 49, 50, 51, 50, 51, 55, 56, 62, 63, 69, 70, 71, 72, 73, 72, 73, 74, 79, 80, 79, 78, 79, 80, 81, 82, 83, 88, 87, 86, 87, 88, 94], [0, 0, 1, 2, 1, 2, 7, 8, 7, 8, 9, 10, 11, 12, 13, 14, 15, 16, 15, 16, 15, 14, 15, 19, 18, 24, 25, 24, 25, 27, 26, 25, 26, 27, 26, 25, 26, 25, 24, 27, 26, 27, 28, 29, 30, 31, 32, 31, 37, 36, 37, 43, 44, 43, 44, 49, 48, 47, 46, 47, 48, 47, 46, 45, 46, 47, 48, 49, 48, 49, 50, 51, 50, 51, 55, 56, 62, 63, 69, 70, 71, 72, 73, 72, 73, 74, 79, 80, 79, 78, 79, 80, 81, 82, 83, 88, 87, 86, 87, 88, 94], [0, 0, 1, 2, 1, 2, 7, 8, 7, 8, 9, 10, 11, 12, 13, 14, 15, 16, 15, 16, 15, 14, 15, 19, 18, 24, 25, 24, 25, 27, 26, 25, 26, 27, 26, 25, 26, 25, 24, 27, 26, 27, 28, 29, 30, 31, 32, 31, 37, 36, 37, 43, 44, 43, 44, 49, 48, 47, 46, 47, 48, 47, 46, 45, 46, 47, 48, 49, 48, 49, 50, 51, 50, 51, 55, 56, 62, 63, 69, 70, 71, 72, 73, 72, 73, 74, 79, 80, 79, 78, 79, 80, 81, 82, 83, 88, 87, 86, 87, 88, 94], [0, 0, 1, 2, 1, 2, 7, 8, 7, 8, 9, 10, 11, 12, 13, 14, 15, 16, 15, 16, 15, 14, 15, 19, 18, 24, 25, 24, 25, 27, 26, 25, 26, 27, 26, 25, 26, 25, 24, 27, 26, 27, 28, 29, 30, 31, 32, 31, 37, 36, 37, 43, 44, 43, 44, 49, 48, 47, 46, 47, 48, 47, 46, 45, 46, 47, 48, 49, 48, 49, 50, 51, 50, 51, 55, 56, 62, 63, 69, 70, 71, 72, 73, 72, 73, 74, 79, 80, 79, 78, 79, 80, 81, 82, 83, 88, 87, 86, 87, 88, 94], [0, 0, 1, 2, 1, 2, 7, 8, 7, 8, 9, 10, 11, 12, 13, 14, 15, 16, 15, 16, 15, 14, 15, 19, 18, 24, 25, 24, 25, 27, 26, 25, 26, 27, 26, 25, 26, 25, 24, 27, 26, 27, 28, 29, 30, 31, 32, 31, 37, 36, 37, 43, 44, 43, 44, 49, 48, 47, 46, 47, 48, 47, 46, 45, 46, 47, 48, 49, 48, 49, 50, 51, 50, 51, 55, 56, 62, 63, 69, 70, 71, 72, 73, 72, 73, 74, 79, 80, 79, 78, 79, 80, 81, 82, 83, 88, 87, 86, 87, 88, 94], [0, 0, 1, 2, 1, 2, 7, 8, 7, 8, 9, 10, 11, 12, 13, 14, 15, 16, 15, 16, 15, 14, 15, 19, 18, 24, 25, 24, 25, 27, 26, 25, 26, 27, 26, 25, 26, 25, 24, 27, 26, 27, 28, 29, 30, 31, 32, 31, 37, 36, 37, 43, 44, 43, 44, 49, 48, 47, 46, 47, 48, 47, 46, 45, 46, 47, 48, 49, 48, 49, 50, 51, 50, 51, 55, 56, 62, 63, 69, 70, 71, 72, 73, 72, 73, 74, 79, 80, 79, 78, 79, 80, 81, 82, 83, 88, 87, 86, 87, 88, 94], [0, 0, 1, 2, 1, 2, 7, 8, 7, 8, 9, 10, 11, 12, 13, 14, 15, 16, 15, 16, 15, 14, 15, 19, 18, 24, 25, 24, 25, 27, 26, 25, 26, 27, 26, 25, 26, 25, 24, 27, 26, 27, 28, 29, 30, 31, 32, 31, 37, 36, 37, 43, 44, 43, 44, 49, 48, 47, 46, 47, 48, 47, 46, 45, 46, 47, 48, 49, 48, 49, 50, 51, 50, 51, 55, 56, 62, 63, 69, 70, 71, 72, 73, 72, 73, 74, 79, 80, 79, 78, 79, 80, 81, 82, 83, 88, 87, 86, 87, 88, 94], [0, 0, 1, 2, 1, 2, 7, 8, 7, 8, 9, 10, 11, 12, 13, 14, 15, 16, 15, 16, 15, 14, 15, 19, 18, 24, 25, 24, 25, 27, 26, 25, 26, 27, 26, 25, 26, 25, 24, 27, 26, 27, 28, 29, 30, 31, 32, 31, 37, 36, 37, 43, 44, 43, 44, 49, 48, 47, 46, 47, 48, 47, 46, 45, 46, 47, 48, 49, 48, 49, 50, 51, 50, 51, 55, 56, 62, 63, 69, 70, 71, 72, 73, 72, 73, 74, 79, 80, 79, 78, 79, 80, 81, 82, 83, 88, 87, 86, 87, 88, 94], [0, 0, 1, 2, 1, 2, 7, 8, 7, 8, 9, 10, 11, 12, 13, 14, 15, 16, 15, 16, 15, 14, 15, 19, 18, 24, 25, 24, 25, 27, 26, 25, 26, 27, 26, 25, 26, 25, 24, 27, 26, 27, 28, 29, 30, 31, 32, 31, 37, 36, 37, 43, 44, 43, 44, 49, 48, 47, 46, 47, 48, 47, 46, 45, 46, 47, 48, 49, 48, 49, 50, 51, 50, 51, 55, 56, 62, 63, 69, 70, 71, 72, 73, 72, 73, 74, 79, 80, 79, 78, 79, 80, 81, 82, 83, 88, 87, 86, 87, 88, 94], [0, 0, 1, 2, 1, 2, 7, 8, 7, 8, 9, 10, 11, 12, 13, 14, 15, 16, 15, 16, 15, 14, 15, 19, 18, 24, 25, 24, 25, 27, 26, 25, 26, 27, 26, 25, 26, 25, 24, 27, 26, 27, 28, 29, 30, 31, 32, 31, 37, 36, 37, 43, 44, 43, 44, 49, 48, 47, 46, 47, 48, 47, 46, 45, 46, 47, 48, 49, 48, 49, 50, 51, 50, 51, 55, 56, 62, 63, 69, 70, 71, 72, 73, 72, 73, 74, 79, 80, 79, 78, 79, 80, 81, 82, 83, 88, 87, 86, 87, 88, 94], [0, 0, 1, 2, 1, 2, 7, 8, 7, 8, 9, 10, 11, 12, 13, 14, 15, 16, 15, 16, 15, 14, 15, 19, 18, 24, 25, 24, 25, 27, 26, 25, 26, 27, 26, 25, 26, 25, 24, 27, 26, 27, 28, 29, 30, 31, 32, 31, 37, 36, 37, 43, 44, 43, 44, 49, 48, 47, 46, 47, 48, 47, 46, 45, 46, 47, 48, 49, 48, 49, 50, 51, 50, 51, 55, 56, 62, 63, 69, 70, 71, 72, 73, 72, 73, 74, 79, 80, 79, 78, 79, 80, 81, 82, 83, 88, 87, 86, 87, 88, 94], [0, 0, 1, 2, 1, 2, 7, 8, 7, 8, 9, 10, 11, 12, 13, 14, 15, 16, 15, 16, 15, 14, 15, 19, 18, 24, 25, 24, 25, 27, 26, 25, 26, 27, 26, 25, 26, 25, 24, 27, 26, 27, 28, 29, 30, 31, 32, 31, 37, 36, 37, 43, 44, 43, 44, 49, 48, 47, 46, 47, 48, 47, 46, 45, 46, 47, 48, 49, 48, 49, 50, 51, 50, 51, 55, 56, 62, 63, 69, 70, 71, 72, 73, 72, 73, 74, 79, 80, 79, 78, 79, 80, 81, 82, 83, 88, 87, 86, 87, 88, 94], [0, 0, 1, 2, 1, 2, 7, 8, 7, 8, 9, 10, 11, 12, 13, 14, 15, 16, 15, 16, 15, 14, 15, 19, 18, 24, 25, 24, 25, 27, 26, 25, 26, 27, 26, 25, 26, 25, 24, 27, 26, 27, 28, 29, 30, 31, 32, 31, 37, 36, 37, 43, 44, 43, 44, 49, 48, 47, 46, 47, 48, 47, 46, 45, 46, 47, 48, 49, 48, 49, 50, 51, 50, 51, 55, 56, 62, 63, 69, 70, 71, 72, 73, 72, 73, 74, 79, 80, 79, 78, 79, 80, 81, 82, 83, 88, 87, 86, 87, 88, 94], [0, 0, 1, 2, 1, 2, 7, 8, 7, 8, 9, 10, 11, 12, 13, 14, 15, 16, 15, 16, 15, 14, 15, 19, 18, 24, 25, 24, 25, 27, 26, 25, 26, 27, 26, 25, 26, 25, 24, 27, 26, 27, 28, 29, 30, 31, 32, 31, 37, 36, 37, 43, 44, 43, 44, 49, 48, 47, 46, 47, 48, 47, 46, 45, 46, 47, 48, 49, 48, 49, 50, 51, 50, 51, 55, 56, 62, 63, 69, 70, 71, 72, 73, 72, 73, 74, 79, 80, 79, 78, 79, 80, 81, 82, 83, 88, 87, 86, 87, 88, 94], [0, 0, 1, 2, 1, 2, 7, 8, 7, 8, 9, 10, 11, 12, 13, 14, 15, 16, 15, 16, 15, 14, 15, 19, 18, 24, 25, 24, 25, 27, 26, 25, 26, 27, 26, 25, 26, 25, 24, 27, 26, 27, 28, 29, 30, 31, 32, 31, 37, 36, 37, 43, 44, 43, 44, 49, 48, 47, 46, 47, 48, 47, 46, 45, 46, 47, 48, 49, 48, 49, 50, 51, 50, 51, 55, 56, 62, 63, 69, 70, 71, 72, 73, 72, 73, 74, 79, 80, 79, 78, 79, 80, 81, 82, 83, 88, 87, 86, 87, 88, 94], [0, 0, 1, 2, 1, 2, 7, 8, 7, 8, 9, 10, 11, 12, 13, 14, 15, 16, 15, 16, 15, 14, 15, 19, 18, 24, 25, 24, 25, 27, 26, 25, 26, 27, 26, 25, 26, 25, 24, 27, 26, 27, 28, 29, 30, 31, 32, 31, 37, 36, 37, 43, 44, 43, 44, 49, 48, 47, 46, 47, 48, 47, 46, 45, 46, 47, 48, 49, 48, 49, 50, 51, 50, 51, 55, 56, 62, 63, 69, 70, 71, 72, 73, 72, 73, 74, 79, 80, 79, 78, 79, 80, 81, 82, 83, 88, 87, 86, 87, 88, 94], [0, 0, 1, 2, 1, 2, 7, 8, 7, 8, 9, 10, 11, 12, 13, 14, 15, 16, 15, 16, 15, 14, 15, 19, 18, 24, 25, 24, 25, 27, 26, 25, 26, 27, 26, 25, 26, 25, 24, 27, 26, 27, 28, 29, 30, 31, 32, 31, 37, 36, 37, 43, 44, 43, 44, 49, 48, 47, 46, 47, 48, 47, 46, 45, 46, 47, 48, 49, 48, 49, 50, 51, 50, 51, 55, 56, 62, 63, 69, 70, 71, 72, 73, 72, 73, 74, 79, 80, 79, 78, 79, 80, 81, 82, 83, 88, 87, 86, 87, 88, 94], [0, 0, 1, 2, 1, 2, 7, 8, 7, 8, 9, 10, 11, 12, 13, 14, 15, 16, 15, 16, 15, 14, 15, 19, 18, 24, 25, 24, 25, 27, 26, 25, 26, 27, 26, 25, 26, 25, 24, 27, 26, 27, 28, 29, 30, 31, 32, 31, 37, 36, 37, 43, 44, 43, 44, 49, 48, 47, 46, 47, 48, 47, 46, 45, 46, 47, 48, 49, 48, 49, 50, 51, 50, 51, 55, 56, 62, 63, 69, 70, 71, 72, 73, 72, 73, 74, 79, 80, 79, 78, 79, 80, 81, 82, 83, 88, 87, 86, 87, 88, 94], [0, 0, 1, 2, 1, 2, 7, 8, 7, 8, 9, 10, 11, 12, 13, 14, 15, 16, 15, 16, 15, 14, 15, 19, 18, 24, 25, 24, 25, 27, 26, 25, 26, 27, 26, 25, 26, 25, 24, 27, 26, 27, 28, 29, 30, 31, 32, 31, 37, 36, 37, 43, 44, 43, 44, 49, 48, 47, 46, 47, 48, 47, 46, 45, 46, 47, 48, 49, 48, 49, 50, 51, 50, 51, 55, 56, 62, 63, 69, 70, 71, 72, 73, 72, 73, 74, 79, 80, 79, 78, 79, 80, 81, 82, 83, 88, 87, 86, 87, 88, 94], [0, 0, 1, 2, 1, 2, 7, 8, 7, 8, 9, 10, 11, 12, 13, 14, 15, 16, 15, 16, 15, 14, 15, 19, 18, 24, 25, 24, 25, 27, 26, 25, 26, 27, 26, 25, 26, 25, 24, 27, 26, 27, 28, 29, 30, 31, 32, 31, 37, 36, 37, 43, 44, 43, 44, 49, 48, 47, 46, 47, 48, 47, 46, 45, 46, 47, 48, 49, 48, 49, 50, 51, 50, 51, 55, 56, 62, 63, 69, 70, 71, 72, 73, 72, 73, 74, 79, 80, 79, 78, 79, 80, 81, 82, 83, 88, 87, 86, 87, 88, 94], [0, 0, 1, 2, 1, 2, 7, 8, 7, 8, 9, 10, 11, 12, 13, 14, 15, 16, 15, 16, 15, 14, 15, 19, 18, 24, 25, 24, 25, 27, 26, 25, 26, 27, 26, 25, 26, 25, 24, 27, 26, 27, 28, 29, 30, 31, 32, 31, 37, 36, 37, 43, 44, 43, 44, 49, 48, 47, 46, 47, 48, 47, 46, 45, 46, 47, 48, 49, 48, 49, 50, 51, 50, 51, 55, 56, 62, 63, 69, 70, 71, 72, 73, 72, 73, 74, 79, 80, 79, 78, 79, 80, 81, 82, 83, 88, 87, 86, 87, 88, 94], [0, 0, 1, 2, 1, 2, 7, 8, 7, 8, 9, 10, 11, 12, 13, 14, 15, 16, 15, 16, 15, 14, 15, 19, 18, 24, 25, 24, 25, 27, 26, 25, 26, 27, 26, 25, 26, 25, 24, 27, 26, 27, 28, 29, 30, 31, 32, 31, 37, 36, 37, 43, 44, 43, 44, 49, 48, 47, 46, 47, 48, 47, 46, 45, 46, 47, 48, 49, 48, 49, 50, 51, 50, 51, 55, 56, 62, 63, 69, 70, 71, 72, 73, 72, 73, 74, 79, 80, 79, 78, 79, 80, 81, 82, 83, 88, 87, 86, 87, 88, 94], [0, 0, 1, 2, 1, 2, 7, 8, 7, 8, 9, 10, 11, 12, 13, 14, 15, 16, 15, 16, 15, 14, 15, 19, 18, 24, 25, 24, 25, 27, 26, 25, 26, 27, 26, 25, 26, 25, 24, 27, 26, 27, 28, 29, 30, 31, 32, 31, 37, 36, 37, 43, 44, 43, 44, 49, 48, 47, 46, 47, 48, 47, 46, 45, 46, 47, 48, 49, 48, 49, 50, 51, 50, 51, 55, 56, 62, 63, 69, 70, 71, 72, 73, 72, 73, 74, 79, 80, 79, 78, 79, 80, 81, 82, 83, 88, 87, 86, 87, 88, 94], [0, 0, 1, 2, 1, 2, 7, 8, 7, 8, 9, 10, 11, 12, 13, 14, 15, 16, 15, 16, 15, 14, 15, 19, 18, 24, 25, 24, 25, 27, 26, 25, 26, 27, 26, 25, 26, 25, 24, 27, 26, 27, 28, 29, 30, 31, 32, 31, 37, 36, 37, 43, 44, 43, 44, 49, 48, 47, 46, 47, 48, 47, 46, 45, 46, 47, 48, 49, 48, 49, 50, 51, 50, 51, 55, 56, 62, 63, 69, 70, 71, 72, 73, 72, 73, 74, 79, 80, 79, 78, 79, 80, 81, 82, 83, 88, 87, 86, 87, 88, 94], [0, 0, 1, 2, 1, 2, 7, 8, 7, 8, 9, 10, 11, 12, 13, 14, 15, 16, 15, 16, 15, 14, 15, 19, 18, 24, 25, 24, 25, 27, 26, 25, 26, 27, 26, 25, 26, 25, 24, 27, 26, 27, 28, 29, 30, 31, 32, 31, 37, 36, 37, 43, 44, 43, 44, 49, 48, 47, 46, 47, 48, 47, 46, 45, 46, 47, 48, 49, 48, 49, 50, 51, 50, 51, 55, 56, 62, 63, 69, 70, 71, 72, 73, 72, 73, 74, 79, 80, 79, 78, 79, 80, 81, 82, 83, 88, 87, 86, 87, 88, 94], [0, 0, 1, 2, 1, 2, 7, 8, 7, 8, 9, 10, 11, 12, 13, 14, 15, 16, 15, 16, 15, 14, 15, 19, 18, 24, 25, 24, 25, 27, 26, 25, 26, 27, 26, 25, 26, 25, 24, 27, 26, 27, 28, 29, 30, 31, 32, 31, 37, 36, 37, 43, 44, 43, 44, 49, 48, 47, 46, 47, 48, 47, 46, 45, 46, 47, 48, 49, 48, 49, 50, 51, 50, 51, 55, 56, 62, 63, 69, 70, 71, 72, 73, 72, 73, 74, 79, 80, 79, 78, 79, 80, 81, 82, 83, 88, 87, 86, 87, 88, 94], [0, 0, 1, 2, 1, 2, 7, 8, 7, 8, 9, 10, 11, 12, 13, 14, 15, 16, 15, 16, 15, 14, 15, 19, 18, 24, 25, 24, 25, 27, 26, 25, 26, 27, 26, 25, 26, 25, 24, 27, 26, 27, 28, 29, 30, 31, 32, 31, 37, 36, 37, 43, 44, 43, 44, 49, 48, 47, 46, 47, 48, 47, 46, 45, 46, 47, 48, 49, 48, 49, 50, 51, 50, 51, 55, 56, 62, 63, 69, 70, 71, 72, 73, 72, 73, 74, 79, 80, 79, 78, 79, 80, 81, 82, 83, 88, 87, 86, 87, 88, 94], [0, 0, 1, 2, 1, 2, 7, 8, 7, 8, 9, 10, 11, 12, 13, 14, 15, 16, 15, 16, 15, 14, 15, 19, 18, 24, 25, 24, 25, 27, 26, 25, 26, 27, 26, 25, 26, 25, 24, 27, 26, 27, 28, 29, 30, 31, 32, 31, 37, 36, 37, 43, 44, 43, 44, 49, 48, 47, 46, 47, 48, 47, 46, 45, 46, 47, 48, 49, 48, 49, 50, 51, 50, 51, 55, 56, 62, 63, 69, 70, 71, 72, 73, 72, 73, 74, 79, 80, 79, 78, 79, 80, 81, 82, 83, 88, 87, 86, 87, 88, 94], [0, 0, 1, 2, 1, 2, 7, 8, 7, 8, 9, 10, 11, 12, 13, 14, 15, 16, 15, 16, 15, 14, 15, 19, 18, 24, 25, 24, 25, 27, 26, 25, 26, 27, 26, 25, 26, 25, 24, 27, 26, 27, 28, 29, 30, 31, 32, 31, 37, 36, 37, 43, 44, 43, 44, 49, 48, 47, 46, 47, 48, 47, 46, 45, 46, 47, 48, 49, 48, 49, 50, 51, 50, 51, 55, 56, 62, 63, 69, 70, 71, 72, 73, 72, 73, 74, 79, 80, 79, 78, 79, 80, 81, 82, 83, 88, 87, 86, 87, 88, 94], [0, 0, 1, 2, 1, 2, 7, 8, 7, 8, 9, 10, 11, 12, 13, 14, 15, 16, 15, 16, 15, 14, 15, 19, 18, 24, 25, 24, 25, 27, 26, 25, 26, 27, 26, 25, 26, 25, 24, 27, 26, 27, 28, 29, 30, 31, 32, 31, 37, 36, 37, 43, 44, 43, 44, 49, 48, 47, 46, 47, 48, 47, 46, 45, 46, 47, 48, 49, 48, 49, 50, 51, 50, 51, 55, 56, 62, 63, 69, 70, 71, 72, 73, 72, 73, 74, 79, 80, 79, 78, 79, 80, 81, 82, 83, 88, 87, 86, 87, 88, 94], [0, 0, 1, 2, 1, 2, 7, 8, 7, 8, 9, 10, 11, 12, 13, 14, 15, 16, 15, 16, 15, 14, 15, 19, 18, 24, 25, 24, 25, 27, 26, 25, 26, 27, 26, 25, 26, 25, 24, 27, 26, 27, 28, 29, 30, 31, 32, 31, 37, 36, 37, 43, 44, 43, 44, 49, 48, 47, 46, 47, 48, 47, 46, 45, 46, 47, 48, 49, 48, 49, 50, 51, 50, 51, 55, 56, 62, 63, 69, 70, 71, 72, 73, 72, 73, 74, 79, 80, 79, 78, 79, 80, 81, 82, 83, 88, 87, 86, 87, 88, 94], [0, 0, 1, 2, 1, 2, 7, 8, 7, 8, 9, 10, 11, 12, 13, 14, 15, 16, 15, 16, 15, 14, 15, 19, 18, 24, 25, 24, 25, 27, 26, 25, 26, 27, 26, 25, 26, 25, 24, 27, 26, 27, 28, 29, 30, 31, 32, 31, 37, 36, 37, 43, 44, 43, 44, 49, 48, 47, 46, 47, 48, 47, 46, 45, 46, 47, 48, 49, 48, 49, 50, 51, 50, 51, 55, 56, 62, 63, 69, 70, 71, 72, 73, 72, 73, 74, 79, 80, 79, 78, 79, 80, 81, 82, 83, 88, 87, 86, 87, 88, 94], [0, 0, 1, 2, 1, 2, 7, 8, 7, 8, 9, 10, 11, 12, 13, 14, 15, 16, 15, 16, 15, 14, 15, 19, 18, 24, 25, 24, 25, 27, 26, 25, 26, 27, 26, 25, 26, 25, 24, 27, 26, 27, 28, 29, 30, 31, 32, 31, 37, 36, 37, 43, 44, 43, 44, 49, 48, 47, 46, 47, 48, 47, 46, 45, 46, 47, 48, 49, 48, 49, 50, 51, 50, 51, 55, 56, 62, 63, 69, 70, 71, 72, 73, 72, 73, 74, 79, 80, 79, 78, 79, 80, 81, 82, 83, 88, 87, 86, 87, 88, 94], [0, 0, 1, 2, 1, 2, 7, 8, 7, 8, 9, 10, 11, 12, 13, 14, 15, 16, 15, 16, 15, 14, 15, 19, 18, 24, 25, 24, 25, 27, 26, 25, 26, 27, 26, 25, 26, 25, 24, 27, 26, 27, 28, 29, 30, 31, 32, 31, 37, 36, 37, 43, 44, 43, 44, 49, 48, 47, 46, 47, 48, 47, 46, 45, 46, 47, 48, 49, 48, 49, 50, 51, 50, 51, 55, 56, 62, 63, 69, 70, 71, 72, 73, 72, 73, 74, 79, 80, 79, 78, 79, 80, 81, 82, 83, 88, 87, 86, 87, 88, 94], [0, 0, 1, 2, 1, 2, 7, 8, 7, 8, 9, 10, 11, 12, 13, 14, 15, 16, 15, 16, 15, 14, 15, 19, 18, 24, 25, 24, 25, 27, 26, 25, 26, 27, 26, 25, 26, 25, 24, 27, 26, 27, 28, 29, 30, 31, 32, 31, 37, 36, 37, 43, 44, 43, 44, 49, 48, 47, 46, 47, 48, 47, 46, 45, 46, 47, 48, 49, 48, 49, 50, 51, 50, 51, 55, 56, 62, 63, 69, 70, 71, 72, 73, 72, 73, 74, 79, 80, 79, 78, 79, 80, 81, 82, 83, 88, 87, 86, 87, 88, 94], [0, 0, 1, 2, 1, 2, 7, 8, 7, 8, 9, 10, 11, 12, 13, 14, 15, 16, 15, 16, 15, 14, 15, 19, 18, 24, 25, 24, 25, 27, 26, 25, 26, 27, 26, 25, 26, 25, 24, 27, 26, 27, 28, 29, 30, 31, 32, 31, 37, 36, 37, 43, 44, 43, 44, 49, 48, 47, 46, 47, 48, 47, 46, 45, 46, 47, 48, 49, 48, 49, 50, 51, 50, 51, 55, 56, 62, 63, 69, 70, 71, 72, 73, 72, 73, 74, 79, 80, 79, 78, 79, 80, 81, 82, 83, 88, 87, 86, 87, 88, 94], [0, 0, 1, 2, 1, 2, 7, 8, 7, 8, 9, 10, 11, 12, 13, 14, 15, 16, 15, 16, 15, 14, 15, 19, 18, 24, 25, 24, 25, 27, 26, 25, 26, 27, 26, 25, 26, 25, 24, 27, 26, 27, 28, 29, 30, 31, 32, 31, 37, 36, 37, 43, 44, 43, 44, 49, 48, 47, 46, 47, 48, 47, 46, 45, 46, 47, 48, 49, 48, 49, 50, 51, 50, 51, 55, 56, 62, 63, 69, 70, 71, 72, 73, 72, 73, 74, 79, 80, 79, 78, 79, 80, 81, 82, 83, 88, 87, 86, 87, 88, 94], [0, 0, 1, 2, 1, 2, 7, 8, 7, 8, 9, 10, 11, 12, 13, 14, 15, 16, 15, 16, 15, 14, 15, 19, 18, 24, 25, 24, 25, 27, 26, 25, 26, 27, 26, 25, 26, 25, 24, 27, 26, 27, 28, 29, 30, 31, 32, 31, 37, 36, 37, 43, 44, 43, 44, 49, 48, 47, 46, 47, 48, 47, 46, 45, 46, 47, 48, 49, 48, 49, 50, 51, 50, 51, 55, 56, 62, 63, 69, 70, 71, 72, 73, 72, 73, 74, 79, 80, 79, 78, 79, 80, 81, 82, 83, 88, 87, 86, 87, 88, 94], [0, 0, 1, 2, 1, 2, 7, 8, 7, 8, 9, 10, 11, 12, 13, 14, 15, 16, 15, 16, 15, 14, 15, 19, 18, 24, 25, 24, 25, 27, 26, 25, 26, 27, 26, 25, 26, 25, 24, 27, 26, 27, 28, 29, 30, 31, 32, 31, 37, 36, 37, 43, 44, 43, 44, 49, 48, 47, 46, 47, 48, 47, 46, 45, 46, 47, 48, 49, 48, 49, 50, 51, 50, 51, 55, 56, 62, 63, 69, 70, 71, 72, 73, 72, 73, 74, 79, 80, 79, 78, 79, 80, 81, 82, 83, 88, 87, 86, 87, 88, 94], [0, 0, 1, 2, 1, 2, 7, 8, 7, 8, 9, 10, 11, 12, 13, 14, 15, 16, 15, 16, 15, 14, 15, 19, 18, 24, 25, 24, 25, 27, 26, 25, 26, 27, 26, 25, 26, 25, 24, 27, 26, 27, 28, 29, 30, 31, 32, 31, 37, 36, 37, 43, 44, 43, 44, 49, 48, 47, 46, 47, 48, 47, 46, 45, 46, 47, 48, 49, 48, 49, 50, 51, 50, 51, 55, 56, 62, 63, 69, 70, 71, 72, 73, 72, 73, 74, 79, 80, 79, 78, 79, 80, 81, 82, 83, 88, 87, 86, 87, 88, 94], [0, 0, 1, 2, 1, 2, 7, 8, 7, 8, 9, 10, 11, 12, 13, 14, 15, 16, 15, 16, 15, 14, 15, 19, 18, 24, 25, 24, 25, 27, 26, 25, 26, 27, 26, 25, 26, 25, 24, 27, 26, 27, 28, 29, 30, 31, 32, 31, 37, 36, 37, 43, 44, 43, 44, 49, 48, 47, 46, 47, 48, 47, 46, 45, 46, 47, 48, 49, 48, 49, 50, 51, 50, 51, 55, 56, 62, 63, 69, 70, 71, 72, 73, 72, 73, 74, 79, 80, 79, 78, 79, 80, 81, 82, 83, 88, 87, 86, 87, 88, 94], [0, 0, 1, 2, 1, 2, 7, 8, 7, 8, 9, 10, 11, 12, 13, 14, 15, 16, 15, 16, 15, 14, 15, 19, 18, 24, 25, 24, 25, 27, 26, 25, 26, 27, 26, 25, 26, 25, 24, 27, 26, 27, 28, 29, 30, 31, 32, 31, 37, 36, 37, 43, 44, 43, 44, 49, 48, 47, 46, 47, 48, 47, 46, 45, 46, 47, 48, 49, 48, 49, 50, 51, 50, 51, 55, 56, 62, 63, 69, 70, 71, 72, 73, 72, 73, 74, 79, 80, 79, 78, 79, 80, 81, 82, 83, 88, 87, 86, 87, 88, 94], [0, 0, 1, 2, 1, 2, 7, 8, 7, 8, 9, 10, 11, 12, 13, 14, 15, 16, 15, 16, 15, 14, 15, 19, 18, 24, 25, 24, 25, 27, 26, 25, 26, 27, 26, 25, 26, 25, 24, 27, 26, 27, 28, 29, 30, 31, 32, 31, 37, 36, 37, 43, 44, 43, 44, 49, 48, 47, 46, 47, 48, 47, 46, 45, 46, 47, 48, 49, 48, 49, 50, 51, 50, 51, 55, 56, 62, 63, 69, 70, 71, 72, 73, 72, 73, 74, 79, 80, 79, 78, 79, 80, 81, 82, 83, 88, 87, 86, 87, 88, 94], [0, 0, 1, 2, 1, 2, 7, 8, 7, 8, 9, 10, 11, 12, 13, 14, 15, 16, 15, 16, 15, 14, 15, 19, 18, 24, 25, 24, 25, 27, 26, 25, 26, 27, 26, 25, 26, 25, 24, 27, 26, 27, 28, 29, 30, 31, 32, 31, 37, 36, 37, 43, 44, 43, 44, 49, 48, 47, 46, 47, 48, 47, 46, 45, 46, 47, 48, 49, 48, 49, 50, 51, 50, 51, 55, 56, 62, 63, 69, 70, 71, 72, 73, 72, 73, 74, 79, 80, 79, 78, 79, 80, 81, 82, 83, 88, 87, 86, 87, 88, 94], [0, 0, 1, 2, 1, 2, 7, 8, 7, 8, 9, 10, 11, 12, 13, 14, 15, 16, 15, 16, 15, 14, 15, 19, 18, 24, 25, 24, 25, 27, 26, 25, 26, 27, 26, 25, 26, 25, 24, 27, 26, 27, 28, 29, 30, 31, 32, 31, 37, 36, 37, 43, 44, 43, 44, 49, 48, 47, 46, 47, 48, 47, 46, 45, 46, 47, 48, 49, 48, 49, 50, 51, 50, 51, 55, 56, 62, 63, 69, 70, 71, 72, 73, 72, 73, 74, 79, 80, 79, 78, 79, 80, 81, 82, 83, 88, 87, 86, 87, 88, 94], [0, 0, 1, 2, 1, 2, 7, 8, 7, 8, 9, 10, 11, 12, 13, 14, 15, 16, 15, 16, 15, 14, 15, 19, 18, 24, 25, 24, 25, 27, 26, 25, 26, 27, 26, 25, 26, 25, 24, 27, 26, 27, 28, 29, 30, 31, 32, 31, 37, 36, 37, 43, 44, 43, 44, 49, 48, 47, 46, 47, 48, 47, 46, 45, 46, 47, 48, 49, 48, 49, 50, 51, 50, 51, 55, 56, 62, 63, 69, 70, 71, 72, 73, 72, 73, 74, 79, 80, 79, 78, 79, 80, 81, 82, 83, 88, 87, 86, 87, 88, 94], [0, 0, 1, 2, 1, 2, 7, 8, 7, 8, 9, 10, 11, 12, 13, 14, 15, 16, 15, 16, 15, 14, 15, 19, 18, 24, 25, 24, 25, 27, 26, 25, 26, 27, 26, 25, 26, 25, 24, 27, 26, 27, 28, 29, 30, 31, 32, 31, 37, 36, 37, 43, 44, 43, 44, 49, 48, 47, 46, 47, 48, 47, 46, 45, 46, 47, 48, 49, 48, 49, 50, 51, 50, 51, 55, 56, 62, 63, 69, 70, 71, 72, 73, 72, 73, 74, 79, 80, 79, 78, 79, 80, 81, 82, 83, 88, 87, 86, 87, 88, 94], [0, 0, 1, 2, 1, 2, 7, 8, 7, 8, 9, 10, 11, 12, 13, 14, 15, 16, 15, 16, 15, 14, 15, 19, 18, 24, 25, 24, 25, 27, 26, 25, 26, 27, 26, 25, 26, 25, 24, 27, 26, 27, 28, 29, 30, 31, 32, 31, 37, 36, 37, 43, 44, 43, 44, 49, 48, 47, 46, 47, 48, 47, 46, 45, 46, 47, 48, 49, 48, 49, 50, 51, 50, 51, 55, 56, 62, 63, 69, 70, 71, 72, 73, 72, 73, 74, 79, 80, 79, 78, 79, 80, 81, 82, 83, 88, 87, 86, 87, 88, 94], [0, 0, 1, 2, 1, 2, 7, 8, 7, 8, 9, 10, 11, 12, 13, 14, 15, 16, 15, 16, 15, 14, 15, 19, 18, 24, 25, 24, 25, 27, 26, 25, 26, 27, 26, 25, 26, 25, 24, 27, 26, 27, 28, 29, 30, 31, 32, 31, 37, 36, 37, 43, 44, 43, 44, 49, 48, 47, 46, 47, 48, 47, 46, 45, 46, 47, 48, 49, 48, 49, 50, 51, 50, 51, 55, 56, 62, 63, 69, 70, 71, 72, 73, 72, 73, 74, 79, 80, 79, 78, 79, 80, 81, 82, 83, 88, 87, 86, 87, 88, 94], [0, 0, 1, 2, 1, 2, 7, 8, 7, 8, 9, 10, 11, 12, 13, 14, 15, 16, 15, 16, 15, 14, 15, 19, 18, 24, 25, 24, 25, 27, 26, 25, 26, 27, 26, 25, 26, 25, 24, 27, 26, 27, 28, 29, 30, 31, 32, 31, 37, 36, 37, 43, 44, 43, 44, 49, 48, 47, 46, 47, 48, 47, 46, 45, 46, 47, 48, 49, 48, 49, 50, 51, 50, 51, 55, 56, 62, 63, 69, 70, 71, 72, 73, 72, 73, 74, 79, 80, 79, 78, 79, 80, 81, 82, 83, 88, 87, 86, 87, 88, 94], [0, 0, 1, 2, 1, 2, 7, 8, 7, 8, 9, 10, 11, 12, 13, 14, 15, 16, 15, 16, 15, 14, 15, 19, 18, 24, 25, 24, 25, 27, 26, 25, 26, 27, 26, 25, 26, 25, 24, 27, 26, 27, 28, 29, 30, 31, 32, 31, 37, 36, 37, 43, 44, 43, 44, 49, 48, 47, 46, 47, 48, 47, 46, 45, 46, 47, 48, 49, 48, 49, 50, 51, 50, 51, 55, 56, 62, 63, 69, 70, 71, 72, 73, 72, 73, 74, 79, 80, 79, 78, 79, 80, 81, 82, 83, 88, 87, 86, 87, 88, 94], [0, 0, 1, 2, 1, 2, 7, 8, 7, 8, 9, 10, 11, 12, 13, 14, 15, 16, 15, 16, 15, 14, 15, 19, 18, 24, 25, 24, 25, 27, 26, 25, 26, 27, 26, 25, 26, 25, 24, 27, 26, 27, 28, 29, 30, 31, 32, 31, 37, 36, 37, 43, 44, 43, 44, 49, 48, 47, 46, 47, 48, 47, 46, 45, 46, 47, 48, 49, 48, 49, 50, 51, 50, 51, 55, 56, 62, 63, 69, 70, 71, 72, 73, 72, 73, 74, 79, 80, 79, 78, 79, 80, 81, 82, 83, 88, 87, 86, 87, 88, 94], [0, 0, 1, 2, 1, 2, 7, 8, 7, 8, 9, 10, 11, 12, 13, 14, 15, 16, 15, 16, 15, 14, 15, 19, 18, 24, 25, 24, 25, 27, 26, 25, 26, 27, 26, 25, 26, 25, 24, 27, 26, 27, 28, 29, 30, 31, 32, 31, 37, 36, 37, 43, 44, 43, 44, 49, 48, 47, 46, 47, 48, 47, 46, 45, 46, 47, 48, 49, 48, 49, 50, 51, 50, 51, 55, 56, 62, 63, 69, 70, 71, 72, 73, 72, 73, 74, 79, 80, 79, 78, 79, 80, 81, 82, 83, 88, 87, 86, 87, 88, 94], [0, 0, 1, 2, 1, 2, 7, 8, 7, 8, 9, 10, 11, 12, 13, 14, 15, 16, 15, 16, 15, 14, 15, 19, 18, 24, 25, 24, 25, 27, 26, 25, 26, 27, 26, 25, 26, 25, 24, 27, 26, 27, 28, 29, 30, 31, 32, 31, 37, 36, 37, 43, 44, 43, 44, 49, 48, 47, 46, 47, 48, 47, 46, 45, 46, 47, 48, 49, 48, 49, 50, 51, 50, 51, 55, 56, 62, 63, 69, 70, 71, 72, 73, 72, 73, 74, 79, 80, 79, 78, 79, 80, 81, 82, 83, 88, 87, 86, 87, 88, 94], [0, 0, 1, 2, 1, 2, 7, 8, 7, 8, 9, 10, 11, 12, 13, 14, 15, 16, 15, 16, 15, 14, 15, 19, 18, 24, 25, 24, 25, 27, 26, 25, 26, 27, 26, 25, 26, 25, 24, 27, 26, 27, 28, 29, 30, 31, 32, 31, 37, 36, 37, 43, 44, 43, 44, 49, 48, 47, 46, 47, 48, 47, 46, 45, 46, 47, 48, 49, 48, 49, 50, 51, 50, 51, 55, 56, 62, 63, 69, 70, 71, 72, 73, 72, 73, 74, 79, 80, 79, 78, 79, 80, 81, 82, 83, 88, 87, 86, 87, 88, 94], [0, 0, 1, 2, 1, 2, 7, 8, 7, 8, 9, 10, 11, 12, 13, 14, 15, 16, 15, 16, 15, 14, 15, 19, 18, 24, 25, 24, 25, 27, 26, 25, 26, 27, 26, 25, 26, 25, 24, 27, 26, 27, 28, 29, 30, 31, 32, 31, 37, 36, 37, 43, 44, 43, 44, 49, 48, 47, 46, 47, 48, 47, 46, 45, 46, 47, 48, 49, 48, 49, 50, 51, 50, 51, 55, 56, 62, 63, 69, 70, 71, 72, 73, 72, 73, 74, 79, 80, 79, 78, 79, 80, 81, 82, 83, 88, 87, 86, 87, 88, 94], [0, 0, 1, 2, 1, 2, 7, 8, 7, 8, 9, 10, 11, 12, 13, 14, 15, 16, 15, 16, 15, 14, 15, 19, 18, 24, 25, 24, 25, 27, 26, 25, 26, 27, 26, 25, 26, 25, 24, 27, 26, 27, 28, 29, 30, 31, 32, 31, 37, 36, 37, 43, 44, 43, 44, 49, 48, 47, 46, 47, 48, 47, 46, 45, 46, 47, 48, 49, 48, 49, 50, 51, 50, 51, 55, 56, 62, 63, 69, 70, 71, 72, 73, 72, 73, 74, 79, 80, 79, 78, 79, 80, 81, 82, 83, 88, 87, 86, 87, 88, 94], [0, 0, 1, 2, 1, 2, 7, 8, 7, 8, 9, 10, 11, 12, 13, 14, 15, 16, 15, 16, 15, 14, 15, 19, 18, 24, 25, 24, 25, 27, 26, 25, 26, 27, 26, 25, 26, 25, 24, 27, 26, 27, 28, 29, 30, 31, 32, 31, 37, 36, 37, 43, 44, 43, 44, 49, 48, 47, 46, 47, 48, 47, 46, 45, 46, 47, 48, 49, 48, 49, 50, 51, 50, 51, 55, 56, 62, 63, 69, 70, 71, 72, 73, 72, 73, 74, 79, 80, 79, 78, 79, 80, 81, 82, 83, 88, 87, 86, 87, 88, 94], [0, 0, 1, 2, 1, 2, 7, 8, 7, 8, 9, 10, 11, 12, 13, 14, 15, 16, 15, 16, 15, 14, 15, 19, 18, 24, 25, 24, 25, 27, 26, 25, 26, 27, 26, 25, 26, 25, 24, 27, 26, 27, 28, 29, 30, 31, 32, 31, 37, 36, 37, 43, 44, 43, 44, 49, 48, 47, 46, 47, 48, 47, 46, 45, 46, 47, 48, 49, 48, 49, 50, 51, 50, 51, 55, 56, 62, 63, 69, 70, 71, 72, 73, 72, 73, 74, 79, 80, 79, 78, 79, 80, 81, 82, 83, 88, 87, 86, 87, 88, 94], [0, 0, 1, 2, 1, 2, 7, 8, 7, 8, 9, 10, 11, 12, 13, 14, 15, 16, 15, 16, 15, 14, 15, 19, 18, 24, 25, 24, 25, 27, 26, 25, 26, 27, 26, 25, 26, 25, 24, 27, 26, 27, 28, 29, 30, 31, 32, 31, 37, 36, 37, 43, 44, 43, 44, 49, 48, 47, 46, 47, 48, 47, 46, 45, 46, 47, 48, 49, 48, 49, 50, 51, 50, 51, 55, 56, 62, 63, 69, 70, 71, 72, 73, 72, 73, 74, 79, 80, 79, 78, 79, 80, 81, 82, 83, 88, 87, 86, 87, 88, 94], [0, 0, 1, 2, 1, 2, 7, 8, 7, 8, 9, 10, 11, 12, 13, 14, 15, 16, 15, 16, 15, 14, 15, 19, 18, 24, 25, 24, 25, 27, 26, 25, 26, 27, 26, 25, 26, 25, 24, 27, 26, 27, 28, 29, 30, 31, 32, 31, 37, 36, 37, 43, 44, 43, 44, 49, 48, 47, 46, 47, 48, 47, 46, 45, 46, 47, 48, 49, 48, 49, 50, 51, 50, 51, 55, 56, 62, 63, 69, 70, 71, 72, 73, 72, 73, 74, 79, 80, 79, 78, 79, 80, 81, 82, 83, 88, 87, 86, 87, 88, 94], [0, 0, 1, 2, 1, 2, 7, 8, 7, 8, 9, 10, 11, 12, 13, 14, 15, 16, 15, 16, 15, 14, 15, 19, 18, 24, 25, 24, 25, 27, 26, 25, 26, 27, 26, 25, 26, 25, 24, 27, 26, 27, 28, 29, 30, 31, 32, 31, 37, 36, 37, 43, 44, 43, 44, 49, 48, 47, 46, 47, 48, 47, 46, 45, 46, 47, 48, 49, 48, 49, 50, 51, 50, 51, 55, 56, 62, 63, 69, 70, 71, 72, 73, 72, 73, 74, 79, 80, 79, 78, 79, 80, 81, 82, 83, 88, 87, 86, 87, 88, 94], [0, 0, 1, 2, 1, 2, 7, 8, 7, 8, 9, 10, 11, 12, 13, 14, 15, 16, 15, 16, 15, 14, 15, 19, 18, 24, 25, 24, 25, 27, 26, 25, 26, 27, 26, 25, 26, 25, 24, 27, 26, 27, 28, 29, 30, 31, 32, 31, 37, 36, 37, 43, 44, 43, 44, 49, 48, 47, 46, 47, 48, 47, 46, 45, 46, 47, 48, 49, 48, 49, 50, 51, 50, 51, 55, 56, 62, 63, 69, 70, 71, 72, 73, 72, 73, 74, 79, 80, 79, 78, 79, 80, 81, 82, 83, 88, 87, 86, 87, 88, 94], [0, 0, 1, 2, 1, 2, 7, 8, 7, 8, 9, 10, 11, 12, 13, 14, 15, 16, 15, 16, 15, 14, 15, 19, 18, 24, 25, 24, 25, 27, 26, 25, 26, 27, 26, 25, 26, 25, 24, 27, 26, 27, 28, 29, 30, 31, 32, 31, 37, 36, 37, 43, 44, 43, 44, 49, 48, 47, 46, 47, 48, 47, 46, 45, 46, 47, 48, 49, 48, 49, 50, 51, 50, 51, 55, 56, 62, 63, 69, 70, 71, 72, 73, 72, 73, 74, 79, 80, 79, 78, 79, 80, 81, 82, 83, 88, 87, 86, 87, 88, 94], [0, 0, 1, 2, 1, 2, 7, 8, 7, 8, 9, 10, 11, 12, 13, 14, 15, 16, 15, 16, 15, 14, 15, 19, 18, 24, 25, 24, 25, 27, 26, 25, 26, 27, 26, 25, 26, 25, 24, 27, 26, 27, 28, 29, 30, 31, 32, 31, 37, 36, 37, 43, 44, 43, 44, 49, 48, 47, 46, 47, 48, 47, 46, 45, 46, 47, 48, 49, 48, 49, 50, 51, 50, 51, 55, 56, 62, 63, 69, 70, 71, 72, 73, 72, 73, 74, 79, 80, 79, 78, 79, 80, 81, 82, 83, 88, 87, 86, 87, 88, 94], [0, 0, 1, 2, 1, 2, 7, 8, 7, 8, 9, 10, 11, 12, 13, 14, 15, 16, 15, 16, 15, 14, 15, 19, 18, 24, 25, 24, 25, 27, 26, 25, 26, 27, 26, 25, 26, 25, 24, 27, 26, 27, 28, 29, 30, 31, 32, 31, 37, 36, 37, 43, 44, 43, 44, 49, 48, 47, 46, 47, 48, 47, 46, 45, 46, 47, 48, 49, 48, 49, 50, 51, 50, 51, 55, 56, 62, 63, 69, 70, 71, 72, 73, 72, 73, 74, 79, 80, 79, 78, 79, 80, 81, 82, 83, 88, 87, 86, 87, 88, 94], [0, 0, 1, 2, 1, 2, 7, 8, 7, 8, 9, 10, 11, 12, 13, 14, 15, 16, 15, 16, 15, 14, 15, 19, 18, 24, 25, 24, 25, 27, 26, 25, 26, 27, 26, 25, 26, 25, 24, 27, 26, 27, 28, 29, 30, 31, 32, 31, 37, 36, 37, 43, 44, 43, 44, 49, 48, 47, 46, 47, 48, 47, 46, 45, 46, 47, 48, 49, 48, 49, 50, 51, 50, 51, 55, 56, 62, 63, 69, 70, 71, 72, 73, 72, 73, 74, 79, 80, 79, 78, 79, 80, 81, 82, 83, 88, 87, 86, 87, 88, 94], [0, 0, 1, 2, 1, 2, 7, 8, 7, 8, 9, 10, 11, 12, 13, 14, 15, 16, 15, 16, 15, 14, 15, 19, 18, 24, 25, 24, 25, 27, 26, 25, 26, 27, 26, 25, 26, 25, 24, 27, 26, 27, 28, 29, 30, 31, 32, 31, 37, 36, 37, 43, 44, 43, 44, 49, 48, 47, 46, 47, 48, 47, 46, 45, 46, 47, 48, 49, 48, 49, 50, 51, 50, 51, 55, 56, 62, 63, 69, 70, 71, 72, 73, 72, 73, 74, 79, 80, 79, 78, 79, 80, 81, 82, 83, 88, 87, 86, 87, 88, 94], [0, 0, 1, 2, 1, 2, 7, 8, 7, 8, 9, 10, 11, 12, 13, 14, 15, 16, 15, 16, 15, 14, 15, 19, 18, 24, 25, 24, 25, 27, 26, 25, 26, 27, 26, 25, 26, 25, 24, 27, 26, 27, 28, 29, 30, 31, 32, 31, 37, 36, 37, 43, 44, 43, 44, 49, 48, 47, 46, 47, 48, 47, 46, 45, 46, 47, 48, 49, 48, 49, 50, 51, 50, 51, 55, 56, 62, 63, 69, 70, 71, 72, 73, 72, 73, 74, 79, 80, 79, 78, 79, 80, 81, 82, 83, 88, 87, 86, 87, 88, 94], [0, 0, 1, 2, 1, 2, 7, 8, 7, 8, 9, 10, 11, 12, 13, 14, 15, 16, 15, 16, 15, 14, 15, 19, 18, 24, 25, 24, 25, 27, 26, 25, 26, 27, 26, 25, 26, 25, 24, 27, 26, 27, 28, 29, 30, 31, 32, 31, 37, 36, 37, 43, 44, 43, 44, 49, 48, 47, 46, 47, 48, 47, 46, 45, 46, 47, 48, 49, 48, 49, 50, 51, 50, 51, 55, 56, 62, 63, 69, 70, 71, 72, 73, 72, 73, 74, 79, 80, 79, 78, 79, 80, 81, 82, 83, 88, 87, 86, 87, 88, 94], [0, 0, 1, 2, 1, 2, 7, 8, 7, 8, 9, 10, 11, 12, 13, 14, 15, 16, 15, 16, 15, 14, 15, 19, 18, 24, 25, 24, 25, 27, 26, 25, 26, 27, 26, 25, 26, 25, 24, 27, 26, 27, 28, 29, 30, 31, 32, 31, 37, 36, 37, 43, 44, 43, 44, 49, 48, 47, 46, 47, 48, 47, 46, 45, 46, 47, 48, 49, 48, 49, 50, 51, 50, 51, 55, 56, 62, 63, 69, 70, 71, 72, 73, 72, 73, 74, 79, 80, 79, 78, 79, 80, 81, 82, 83, 88, 87, 86, 87, 88, 94], [0, 0, 1, 2, 1, 2, 7, 8, 7, 8, 9, 10, 11, 12, 13, 14, 15, 16, 15, 16, 15, 14, 15, 19, 18, 24, 25, 24, 25, 27, 26, 25, 26, 27, 26, 25, 26, 25, 24, 27, 26, 27, 28, 29, 30, 31, 32, 31, 37, 36, 37, 43, 44, 43, 44, 49, 48, 47, 46, 47, 48, 47, 46, 45, 46, 47, 48, 49, 48, 49, 50, 51, 50, 51, 55, 56, 62, 63, 69, 70, 71, 72, 73, 72, 73, 74, 79, 80, 79, 78, 79, 80, 81, 82, 83, 88, 87, 86, 87, 88, 94], [0, 0, 1, 2, 1, 2, 7, 8, 7, 8, 9, 10, 11, 12, 13, 14, 15, 16, 15, 16, 15, 14, 15, 19, 18, 24, 25, 24, 25, 27, 26, 25, 26, 27, 26, 25, 26, 25, 24, 27, 26, 27, 28, 29, 30, 31, 32, 31, 37, 36, 37, 43, 44, 43, 44, 49, 48, 47, 46, 47, 48, 47, 46, 45, 46, 47, 48, 49, 48, 49, 50, 51, 50, 51, 55, 56, 62, 63, 69, 70, 71, 72, 73, 72, 73, 74, 79, 80, 79, 78, 79, 80, 81, 82, 83, 88, 87, 86, 87, 88, 94], [0, 0, 1, 2, 1, 2, 7, 8, 7, 8, 9, 10, 11, 12, 13, 14, 15, 16, 15, 16, 15, 14, 15, 19, 18, 24, 25, 24, 25, 27, 26, 25, 26, 27, 26, 25, 26, 25, 24, 27, 26, 27, 28, 29, 30, 31, 32, 31, 37, 36, 37, 43, 44, 43, 44, 49, 48, 47, 46, 47, 48, 47, 46, 45, 46, 47, 48, 49, 48, 49, 50, 51, 50, 51, 55, 56, 62, 63, 69, 70, 71, 72, 73, 72, 73, 74, 79, 80, 79, 78, 79, 80, 81, 82, 83, 88, 87, 86, 87, 88, 94], [0, 0, 1, 2, 1, 2, 7, 8, 7, 8, 9, 10, 11, 12, 13, 14, 15, 16, 15, 16, 15, 14, 15, 19, 18, 24, 25, 24, 25, 27, 26, 25, 26, 27, 26, 25, 26, 25, 24, 27, 26, 27, 28, 29, 30, 31, 32, 31, 37, 36, 37, 43, 44, 43, 44, 49, 48, 47, 46, 47, 48, 47, 46, 45, 46, 47, 48, 49, 48, 49, 50, 51, 50, 51, 55, 56, 62, 63, 69, 70, 71, 72, 73, 72, 73, 74, 79, 80, 79, 78, 79, 80, 81, 82, 83, 88, 87, 86, 87, 88, 94], [0, 0, 1, 2, 1, 2, 7, 8, 7, 8, 9, 10, 11, 12, 13, 14, 15, 16, 15, 16, 15, 14, 15, 19, 18, 24, 25, 24, 25, 27, 26, 25, 26, 27, 26, 25, 26, 25, 24, 27, 26, 27, 28, 29, 30, 31, 32, 31, 37, 36, 37, 43, 44, 43, 44, 49, 48, 47, 46, 47, 48, 47, 46, 45, 46, 47, 48, 49, 48, 49, 50, 51, 50, 51, 55, 56, 62, 63, 69, 70, 71, 72, 73, 72, 73, 74, 79, 80, 79, 78, 79, 80, 81, 82, 83, 88, 87, 86, 87, 88, 94], [0, 0, 1, 2, 1, 2, 7, 8, 7, 8, 9, 10, 11, 12, 13, 14, 15, 16, 15, 16, 15, 14, 15, 19, 18, 24, 25, 24, 25, 27, 26, 25, 26, 27, 26, 25, 26, 25, 24, 27, 26, 27, 28, 29, 30, 31, 32, 31, 37, 36, 37, 43, 44, 43, 44, 49, 48, 47, 46, 47, 48, 47, 46, 45, 46, 47, 48, 49, 48, 49, 50, 51, 50, 51, 55, 56, 62, 63, 69, 70, 71, 72, 73, 72, 73, 74, 79, 80, 79, 78, 79, 80, 81, 82, 83, 88, 87, 86, 87, 88, 94], [0, 0, 1, 2, 1, 2, 7, 8, 7, 8, 9, 10, 11, 12, 13, 14, 15, 16, 15, 16, 15, 14, 15, 19, 18, 24, 25, 24, 25, 27, 26, 25, 26, 27, 26, 25, 26, 25, 24, 27, 26, 27, 28, 29, 30, 31, 32, 31, 37, 36, 37, 43, 44, 43, 44, 49, 48, 47, 46, 47, 48, 47, 46, 45, 46, 47, 48, 49, 48, 49, 50, 51, 50, 51, 55, 56, 62, 63, 69, 70, 71, 72, 73, 72, 73, 74, 79, 80, 79, 78, 79, 80, 81, 82, 83, 88, 87, 86, 87, 88, 94], [0, 0, 1, 2, 1, 2, 7, 8, 7, 8, 9, 10, 11, 12, 13, 14, 15, 16, 15, 16, 15, 14, 15, 19, 18, 24, 25, 24, 25, 27, 26, 25, 26, 27, 26, 25, 26, 25, 24, 27, 26, 27, 28, 29, 30, 31, 32, 31, 37, 36, 37, 43, 44, 43, 44, 49, 48, 47, 46, 47, 48, 47, 46, 45, 46, 47, 48, 49, 48, 49, 50, 51, 50, 51, 55, 56, 62, 63, 69, 70, 71, 72, 73, 72, 73, 74, 79, 80, 79, 78, 79, 80, 81, 82, 83, 88, 87, 86, 87, 88, 94], [0, 0, 1, 2, 1, 2, 7, 8, 7, 8, 9, 10, 11, 12, 13, 14, 15, 16, 15, 16, 15, 14, 15, 19, 18, 24, 25, 24, 25, 27, 26, 25, 26, 27, 26, 25, 26, 25, 24, 27, 26, 27, 28, 29, 30, 31, 32, 31, 37, 36, 37, 43, 44, 43, 44, 49, 48, 47, 46, 47, 48, 47, 46, 45, 46, 47, 48, 49, 48, 49, 50, 51, 50, 51, 55, 56, 62, 63, 69, 70, 71, 72, 73, 72, 73, 74, 79, 80, 79, 78, 79, 80, 81, 82, 83, 88, 87, 86, 87, 88, 94], [0, 0, 1, 2, 1, 2, 7, 8, 7, 8, 9, 10, 11, 12, 13, 14, 15, 16, 15, 16, 15, 14, 15, 19, 18, 24, 25, 24, 25, 27, 26, 25, 26, 27, 26, 25, 26, 25, 24, 27, 26, 27, 28, 29, 30, 31, 32, 31, 37, 36, 37, 43, 44, 43, 44, 49, 48, 47, 46, 47, 48, 47, 46, 45, 46, 47, 48, 49, 48, 49, 50, 51, 50, 51, 55, 56, 62, 63, 69, 70, 71, 72, 73, 72, 73, 74, 79, 80, 79, 78, 79, 80, 81, 82, 83, 88, 87, 86, 87, 88, 94], [0, 0, 1, 2, 1, 2, 7, 8, 7, 8, 9, 10, 11, 12, 13, 14, 15, 16, 15, 16, 15, 14, 15, 19, 18, 24, 25, 24, 25, 27, 26, 25, 26, 27, 26, 25, 26, 25, 24, 27, 26, 27, 28, 29, 30, 31, 32, 31, 37, 36, 37, 43, 44, 43, 44, 49, 48, 47, 46, 47, 48, 47, 46, 45, 46, 47, 48, 49, 48, 49, 50, 51, 50, 51, 55, 56, 62, 63, 69, 70, 71, 72, 73, 72, 73, 74, 79, 80, 79, 78, 79, 80, 81, 82, 83, 88, 87, 86, 87, 88, 94], [0, 0, 1, 2, 1, 2, 7, 8, 7, 8, 9, 10, 11, 12, 13, 14, 15, 16, 15, 16, 15, 14, 15, 19, 18, 24, 25, 24, 25, 27, 26, 25, 26, 27, 26, 25, 26, 25, 24, 27, 26, 27, 28, 29, 30, 31, 32, 31, 37, 36, 37, 43, 44, 43, 44, 49, 48, 47, 46, 47, 48, 47, 46, 45, 46, 47, 48, 49, 48, 49, 50, 51, 50, 51, 55, 56, 62, 63, 69, 70, 71, 72, 73, 72, 73, 74, 79, 80, 79, 78, 79, 80, 81, 82, 83, 88, 87, 86, 87, 88, 94], [0, 0, 1, 2, 1, 2, 7, 8, 7, 8, 9, 10, 11, 12, 13, 14, 15, 16, 15, 16, 15, 14, 15, 19, 18, 24, 25, 24, 25, 27, 26, 25, 26, 27, 26, 25, 26, 25, 24, 27, 26, 27, 28, 29, 30, 31, 32, 31, 37, 36, 37, 43, 44, 43, 44, 49, 48, 47, 46, 47, 48, 47, 46, 45, 46, 47, 48, 49, 48, 49, 50, 51, 50, 51, 55, 56, 62, 63, 69, 70, 71, 72, 73, 72, 73, 74, 79, 80, 79, 78, 79, 80, 81, 82, 83, 88, 87, 86, 87, 88, 94], [0, 0, 1, 2, 1, 2, 7, 8, 7, 8, 9, 10, 11, 12, 13, 14, 15, 16, 15, 16, 15, 14, 15, 19, 18, 24, 25, 24, 25, 27, 26, 25, 26, 27, 26, 25, 26, 25, 24, 27, 26, 27, 28, 29, 30, 31, 32, 31, 37, 36, 37, 43, 44, 43, 44, 49, 48, 47, 46, 47, 48, 47, 46, 45, 46, 47, 48, 49, 48, 49, 50, 51, 50, 51, 55, 56, 62, 63, 69, 70, 71, 72, 73, 72, 73, 74, 79, 80, 79, 78, 79, 80, 81, 82, 83, 88, 87, 86, 87, 88, 94], [0, 0, 1, 2, 1, 2, 7, 8, 7, 8, 9, 10, 11, 12, 13, 14, 15, 16, 15, 16, 15, 14, 15, 19, 18, 24, 25, 24, 25, 27, 26, 25, 26, 27, 26, 25, 26, 25, 24, 27, 26, 27, 28, 29, 30, 31, 32, 31, 37, 36, 37, 43, 44, 43, 44, 49, 48, 47, 46, 47, 48, 47, 46, 45, 46, 47, 48, 49, 48, 49, 50, 51, 50, 51, 55, 56, 62, 63, 69, 70, 71, 72, 73, 72, 73, 74, 79, 80, 79, 78, 79, 80, 81, 82, 83, 88, 87, 86, 87, 88, 94], [0, 0, 1, 2, 1, 2, 7, 8, 7, 8, 9, 10, 11, 12, 13, 14, 15, 16, 15, 16, 15, 14, 15, 19, 18, 24, 25, 24, 25, 27, 26, 25, 26, 27, 26, 25, 26, 25, 24, 27, 26, 27, 28, 29, 30, 31, 32, 31, 37, 36, 37, 43, 44, 43, 44, 49, 48, 47, 46, 47, 48, 47, 46, 45, 46, 47, 48, 49, 48, 49, 50, 51, 50, 51, 55, 56, 62, 63, 69, 70, 71, 72, 73, 72, 73, 74, 79, 80, 79, 78, 79, 80, 81, 82, 83, 88, 87, 86, 87, 88, 94], [0, 0, 1, 2, 1, 2, 7, 8, 7, 8, 9, 10, 11, 12, 13, 14, 15, 16, 15, 16, 15, 14, 15, 19, 18, 24, 25, 24, 25, 27, 26, 25, 26, 27, 26, 25, 26, 25, 24, 27, 26, 27, 28, 29, 30, 31, 32, 31, 37, 36, 37, 43, 44, 43, 44, 49, 48, 47, 46, 47, 48, 47, 46, 45, 46, 47, 48, 49, 48, 49, 50, 51, 50, 51, 55, 56, 62, 63, 69, 70, 71, 72, 73, 72, 73, 74, 79, 80, 79, 78, 79, 80, 81, 82, 83, 88, 87, 86, 87, 88, 94], [0, 0, 1, 2, 1, 2, 7, 8, 7, 8, 9, 10, 11, 12, 13, 14, 15, 16, 15, 16, 15, 14, 15, 19, 18, 24, 25, 24, 25, 27, 26, 25, 26, 27, 26, 25, 26, 25, 24, 27, 26, 27, 28, 29, 30, 31, 32, 31, 37, 36, 37, 43, 44, 43, 44, 49, 48, 47, 46, 47, 48, 47, 46, 45, 46, 47, 48, 49, 48, 49, 50, 51, 50, 51, 55, 56, 62, 63, 69, 70, 71, 72, 73, 72, 73, 74, 79, 80, 79, 78, 79, 80, 81, 82, 83, 88, 87, 86, 87, 88, 94], [0, 1, 2, 1, 5, 4, 5, 4, 5, 6, 5, 4, 5, 8, 9, 10, 9, 10, 9, 10, 11, 12, 11, 12, 13, 14, 15, 16, 17, 21, 22, 23, 24, 23, 24, 23, 24, 25, 26, 27, 28, 29, 28, 30, 29, 28, 29, 30, 29, 30, 29, 30, 31, 32, 33, 34, 33, 34, 35, 36, 37, 36, 37, 36, 35, 36, 37, 40, 41, 44, 45, 44, 43, 44, 43, 44, 43, 42, 43, 44, 45, 47, 48, 47, 48, 47, 52, 54, 53, 54, 57, 58, 59, 60, 65, 66, 65, 66, 68, 67, 66], [0, 1, 2, 1, 5, 4, 5, 4, 5, 6, 5, 4, 5, 8, 9, 10, 9, 10, 9, 10, 11, 12, 11, 12, 13, 14, 15, 16, 17, 21, 22, 23, 24, 23, 24, 23, 24, 25, 26, 27, 28, 29, 28, 30, 29, 28, 29, 30, 29, 30, 29, 30, 31, 32, 33, 34, 33, 34, 35, 36, 37, 36, 37, 36, 35, 36, 37, 40, 41, 44, 45, 44, 43, 44, 43, 44, 43, 42, 43, 44, 45, 47, 48, 47, 48, 47, 52, 54, 53, 54, 57, 58, 59, 60, 65, 66, 65, 66, 68, 67, 66], [0, 1, 2, 1, 5, 4, 5, 4, 5, 6, 5, 4, 5, 8, 9, 10, 9, 10, 9, 10, 11, 12, 11, 12, 13, 14, 15, 16, 17, 21, 22, 23, 24, 23, 24, 23, 24, 25, 26, 27, 28, 29, 28, 30, 29, 28, 29, 30, 29, 30, 29, 30, 31, 32, 33, 34, 33, 34, 35, 36, 37, 36, 37, 36, 35, 36, 37, 40, 41, 44, 45, 44, 43, 44, 43, 44, 43, 42, 43, 44, 45, 47, 48, 47, 48, 47, 52, 54, 53, 54, 57, 58, 59, 60, 65, 66, 65, 66, 68, 67, 66], [0, 1, 2, 1, 5, 4, 5, 4, 5, 6, 5, 4, 5, 8, 9, 10, 9, 10, 9, 10, 11, 12, 11, 12, 13, 14, 15, 16, 17, 21, 22, 23, 24, 23, 24, 23, 24, 25, 26, 27, 28, 29, 28, 30, 29, 28, 29, 30, 29, 30, 29, 30, 31, 32, 33, 34, 33, 34, 35, 36, 37, 36, 37, 36, 35, 36, 37, 40, 41, 44, 45, 44, 43, 44, 43, 44, 43, 42, 43, 44, 45, 47, 48, 47, 48, 47, 52, 54, 53, 54, 57, 58, 59, 60, 65, 66, 65, 66, 68, 67, 66], [0, 1, 2, 1, 5, 4, 5, 4, 5, 6, 5, 4, 5, 8, 9, 10, 9, 10, 9, 10, 11, 12, 11, 12, 13, 14, 15, 16, 17, 21, 22, 23, 24, 23, 24, 23, 24, 25, 26, 27, 28, 29, 28, 30, 29, 28, 29, 30, 29, 30, 29, 30, 31, 32, 33, 34, 33, 34, 35, 36, 37, 36, 37, 36, 35, 36, 37, 40, 41, 44, 45, 44, 43, 44, 43, 44, 43, 42, 43, 44, 45, 47, 48, 47, 48, 47, 52, 54, 53, 54, 57, 58, 59, 60, 65, 66, 65, 66, 68, 67, 66], [0, 1, 2, 1, 5, 4, 5, 4, 5, 6, 5, 4, 5, 8, 9, 10, 9, 10, 9, 10, 11, 12, 11, 12, 13, 14, 15, 16, 17, 21, 22, 23, 24, 23, 24, 23, 24, 25, 26, 27, 28, 29, 28, 30, 29, 28, 29, 30, 29, 30, 29, 30, 31, 32, 33, 34, 33, 34, 35, 36, 37, 36, 37, 36, 35, 36, 37, 40, 41, 44, 45, 44, 43, 44, 43, 44, 43, 42, 43, 44, 45, 47, 48, 47, 48, 47, 52, 54, 53, 54, 57, 58, 59, 60, 65, 66, 65, 66, 68, 67, 66], [0, 1, 2, 1, 5, 4, 5, 4, 5, 6, 5, 4, 5, 8, 9, 10, 9, 10, 9, 10, 11, 12, 11, 12, 13, 14, 15, 16, 17, 21, 22, 23, 24, 23, 24, 23, 24, 25, 26, 27, 28, 29, 28, 30, 29, 28, 29, 30, 29, 30, 29, 30, 31, 32, 33, 34, 33, 34, 35, 36, 37, 36, 37, 36, 35, 36, 37, 40, 41, 44, 45, 44, 43, 44, 43, 44, 43, 42, 43, 44, 45, 47, 48, 47, 48, 47, 52, 54, 53, 54, 57, 58, 59, 60, 65, 66, 65, 66, 68, 67, 66], [0, 1, 2, 1, 5, 4, 5, 4, 5, 6, 5, 4, 5, 8, 9, 10, 9, 10, 9, 10, 11, 12, 11, 12, 13, 14, 15, 16, 17, 21, 22, 23, 24, 23, 24, 23, 24, 25, 26, 27, 28, 29, 28, 30, 29, 28, 29, 30, 29, 30, 29, 30, 31, 32, 33, 34, 33, 34, 35, 36, 37, 36, 37, 36, 35, 36, 37, 40, 41, 44, 45, 44, 43, 44, 43, 44, 43, 42, 43, 44, 45, 47, 48, 47, 48, 47, 52, 54, 53, 54, 57, 58, 59, 60, 65, 66, 65, 66, 68, 67, 66], [0, 1, 2, 1, 5, 4, 5, 4, 5, 6, 5, 4, 5, 8, 9, 10, 9, 10, 9, 10, 11, 12, 11, 12, 13, 14, 15, 16, 17, 21, 22, 23, 24, 23, 24, 23, 24, 25, 26, 27, 28, 29, 28, 30, 29, 28, 29, 30, 29, 30, 29, 30, 31, 32, 33, 34, 33, 34, 35, 36, 37, 36, 37, 36, 35, 36, 37, 40, 41, 44, 45, 44, 43, 44, 43, 44, 43, 42, 43, 44, 45, 47, 48, 47, 48, 47, 52, 54, 53, 54, 57, 58, 59, 60, 65, 66, 65, 66, 68, 67, 66], [0, 1, 2, 1, 5, 4, 5, 4, 5, 6, 5, 4, 5, 8, 9, 10, 9, 10, 9, 10, 11, 12, 11, 12, 13, 14, 15, 16, 17, 21, 22, 23, 24, 23, 24, 23, 24, 25, 26, 27, 28, 29, 28, 30, 29, 28, 29, 30, 29, 30, 29, 30, 31, 32, 33, 34, 33, 34, 35, 36, 37, 36, 37, 36, 35, 36, 37, 40, 41, 44, 45, 44, 43, 44, 43, 44, 43, 42, 43, 44, 45, 47, 48, 47, 48, 47, 52, 54, 53, 54, 57, 58, 59, 60, 65, 66, 65, 66, 68, 67, 66], [0, 1, 2, 1, 5, 4, 5, 4, 5, 6, 5, 4, 5, 8, 9, 10, 9, 10, 9, 10, 11, 12, 11, 12, 13, 14, 15, 16, 17, 21, 22, 23, 24, 23, 24, 23, 24, 25, 26, 27, 28, 29, 28, 30, 29, 28, 29, 30, 29, 30, 29, 30, 31, 32, 33, 34, 33, 34, 35, 36, 37, 36, 37, 36, 35, 36, 37, 40, 41, 44, 45, 44, 43, 44, 43, 44, 43, 42, 43, 44, 45, 47, 48, 47, 48, 47, 52, 54, 53, 54, 57, 58, 59, 60, 65, 66, 65, 66, 68, 67, 66], [0, 1, 2, 1, 5, 4, 5, 4, 5, 6, 5, 4, 5, 8, 9, 10, 9, 10, 9, 10, 11, 12, 11, 12, 13, 14, 15, 16, 17, 21, 22, 23, 24, 23, 24, 23, 24, 25, 26, 27, 28, 29, 28, 30, 29, 28, 29, 30, 29, 30, 29, 30, 31, 32, 33, 34, 33, 34, 35, 36, 37, 36, 37, 36, 35, 36, 37, 40, 41, 44, 45, 44, 43, 44, 43, 44, 43, 42, 43, 44, 45, 47, 48, 47, 48, 47, 52, 54, 53, 54, 57, 58, 59, 60, 65, 66, 65, 66, 68, 67, 66], [0, 1, 2, 1, 5, 4, 5, 4, 5, 6, 5, 4, 5, 8, 9, 10, 9, 10, 9, 10, 11, 12, 11, 12, 13, 14, 15, 16, 17, 21, 22, 23, 24, 23, 24, 23, 24, 25, 26, 27, 28, 29, 28, 30, 29, 28, 29, 30, 29, 30, 29, 30, 31, 32, 33, 34, 33, 34, 35, 36, 37, 36, 37, 36, 35, 36, 37, 40, 41, 44, 45, 44, 43, 44, 43, 44, 43, 42, 43, 44, 45, 47, 48, 47, 48, 47, 52, 54, 53, 54, 57, 58, 59, 60, 65, 66, 65, 66, 68, 67, 66], [0, 1, 2, 1, 5, 4, 5, 4, 5, 6, 5, 4, 5, 8, 9, 10, 9, 10, 9, 10, 11, 12, 11, 12, 13, 14, 15, 16, 17, 21, 22, 23, 24, 23, 24, 23, 24, 25, 26, 27, 28, 29, 28, 30, 29, 28, 29, 30, 29, 30, 29, 30, 31, 32, 33, 34, 33, 34, 35, 36, 37, 36, 37, 36, 35, 36, 37, 40, 41, 44, 45, 44, 43, 44, 43, 44, 43, 42, 43, 44, 45, 47, 48, 47, 48, 47, 52, 54, 53, 54, 57, 58, 59, 60, 65, 66, 65, 66, 68, 67, 66], [0, 1, 2, 1, 5, 4, 5, 4, 5, 6, 5, 4, 5, 8, 9, 10, 9, 10, 9, 10, 11, 12, 11, 12, 13, 14, 15, 16, 17, 21, 22, 23, 24, 23, 24, 23, 24, 25, 26, 27, 28, 29, 28, 30, 29, 28, 29, 30, 29, 30, 29, 30, 31, 32, 33, 34, 33, 34, 35, 36, 37, 36, 37, 36, 35, 36, 37, 40, 41, 44, 45, 44, 43, 44, 43, 44, 43, 42, 43, 44, 45, 47, 48, 47, 48, 47, 52, 54, 53, 54, 57, 58, 59, 60, 65, 66, 65, 66, 68, 67, 66], [0, 1, 2, 1, 5, 4, 5, 4, 5, 6, 5, 4, 5, 8, 9, 10, 9, 10, 9, 10, 11, 12, 11, 12, 13, 14, 15, 16, 17, 21, 22, 23, 24, 23, 24, 23, 24, 25, 26, 27, 28, 29, 28, 30, 29, 28, 29, 30, 29, 30, 29, 30, 31, 32, 33, 34, 33, 34, 35, 36, 37, 36, 37, 36, 35, 36, 37, 40, 41, 44, 45, 44, 43, 44, 43, 44, 43, 42, 43, 44, 45, 47, 48, 47, 48, 47, 52, 54, 53, 54, 57, 58, 59, 60, 65, 66, 65, 66, 68, 67, 66], [0, 1, 2, 1, 5, 4, 5, 4, 5, 6, 5, 4, 5, 8, 9, 10, 9, 10, 9, 10, 11, 12, 11, 12, 13, 14, 15, 16, 17, 21, 22, 23, 24, 23, 24, 23, 24, 25, 26, 27, 28, 29, 28, 30, 29, 28, 29, 30, 29, 30, 29, 30, 31, 32, 33, 34, 33, 34, 35, 36, 37, 36, 37, 36, 35, 36, 37, 40, 41, 44, 45, 44, 43, 44, 43, 44, 43, 42, 43, 44, 45, 47, 48, 47, 48, 47, 52, 54, 53, 54, 57, 58, 59, 60, 65, 66, 65, 66, 68, 67, 66], [0, 1, 2, 1, 5, 4, 5, 4, 5, 6, 5, 4, 5, 8, 9, 10, 9, 10, 9, 10, 11, 12, 11, 12, 13, 14, 15, 16, 17, 21, 22, 23, 24, 23, 24, 23, 24, 25, 26, 27, 28, 29, 28, 30, 29, 28, 29, 30, 29, 30, 29, 30, 31, 32, 33, 34, 33, 34, 35, 36, 37, 36, 37, 36, 35, 36, 37, 40, 41, 44, 45, 44, 43, 44, 43, 44, 43, 42, 43, 44, 45, 47, 48, 47, 48, 47, 52, 54, 53, 54, 57, 58, 59, 60, 65, 66, 65, 66, 68, 67, 66], [0, 1, 2, 1, 5, 4, 5, 4, 5, 6, 5, 4, 5, 8, 9, 10, 9, 10, 9, 10, 11, 12, 11, 12, 13, 14, 15, 16, 17, 21, 22, 23, 24, 23, 24, 23, 24, 25, 26, 27, 28, 29, 28, 30, 29, 28, 29, 30, 29, 30, 29, 30, 31, 32, 33, 34, 33, 34, 35, 36, 37, 36, 37, 36, 35, 36, 37, 40, 41, 44, 45, 44, 43, 44, 43, 44, 43, 42, 43, 44, 45, 47, 48, 47, 48, 47, 52, 54, 53, 54, 57, 58, 59, 60, 65, 66, 65, 66, 68, 67, 66], [0, 1, 2, 1, 5, 4, 5, 4, 5, 6, 5, 4, 5, 8, 9, 10, 9, 10, 9, 10, 11, 12, 11, 12, 13, 14, 15, 16, 17, 21, 22, 23, 24, 23, 24, 23, 24, 25, 26, 27, 28, 29, 28, 30, 29, 28, 29, 30, 29, 30, 29, 30, 31, 32, 33, 34, 33, 34, 35, 36, 37, 36, 37, 36, 35, 36, 37, 40, 41, 44, 45, 44, 43, 44, 43, 44, 43, 42, 43, 44, 45, 47, 48, 47, 48, 47, 52, 54, 53, 54, 57, 58, 59, 60, 65, 66, 65, 66, 68, 67, 66], [0, 1, 2, 1, 5, 4, 5, 4, 5, 6, 5, 4, 5, 8, 9, 10, 9, 10, 9, 10, 11, 12, 11, 12, 13, 14, 15, 16, 17, 21, 22, 23, 24, 23, 24, 23, 24, 25, 26, 27, 28, 29, 28, 30, 29, 28, 29, 30, 29, 30, 29, 30, 31, 32, 33, 34, 33, 34, 35, 36, 37, 36, 37, 36, 35, 36, 37, 40, 41, 44, 45, 44, 43, 44, 43, 44, 43, 42, 43, 44, 45, 47, 48, 47, 48, 47, 52, 54, 53, 54, 57, 58, 59, 60, 65, 66, 65, 66, 68, 67, 66], [0, 1, 2, 1, 5, 4, 5, 4, 5, 6, 5, 4, 5, 8, 9, 10, 9, 10, 9, 10, 11, 12, 11, 12, 13, 14, 15, 16, 17, 21, 22, 23, 24, 23, 24, 23, 24, 25, 26, 27, 28, 29, 28, 30, 29, 28, 29, 30, 29, 30, 29, 30, 31, 32, 33, 34, 33, 34, 35, 36, 37, 36, 37, 36, 35, 36, 37, 40, 41, 44, 45, 44, 43, 44, 43, 44, 43, 42, 43, 44, 45, 47, 48, 47, 48, 47, 52, 54, 53, 54, 57, 58, 59, 60, 65, 66, 65, 66, 68, 67, 66], [0, 1, 2, 1, 5, 4, 5, 4, 5, 6, 5, 4, 5, 8, 9, 10, 9, 10, 9, 10, 11, 12, 11, 12, 13, 14, 15, 16, 17, 21, 22, 23, 24, 23, 24, 23, 24, 25, 26, 27, 28, 29, 28, 30, 29, 28, 29, 30, 29, 30, 29, 30, 31, 32, 33, 34, 33, 34, 35, 36, 37, 36, 37, 36, 35, 36, 37, 40, 41, 44, 45, 44, 43, 44, 43, 44, 43, 42, 43, 44, 45, 47, 48, 47, 48, 47, 52, 54, 53, 54, 57, 58, 59, 60, 65, 66, 65, 66, 68, 67, 66], [0, 1, 2, 1, 5, 4, 5, 4, 5, 6, 5, 4, 5, 8, 9, 10, 9, 10, 9, 10, 11, 12, 11, 12, 13, 14, 15, 16, 17, 21, 22, 23, 24, 23, 24, 23, 24, 25, 26, 27, 28, 29, 28, 30, 29, 28, 29, 30, 29, 30, 29, 30, 31, 32, 33, 34, 33, 34, 35, 36, 37, 36, 37, 36, 35, 36, 37, 40, 41, 44, 45, 44, 43, 44, 43, 44, 43, 42, 43, 44, 45, 47, 48, 47, 48, 47, 52, 54, 53, 54, 57, 58, 59, 60, 65, 66, 65, 66, 68, 67, 66], [0, 1, 2, 1, 5, 4, 5, 4, 5, 6, 5, 4, 5, 8, 9, 10, 9, 10, 9, 10, 11, 12, 11, 12, 13, 14, 15, 16, 17, 21, 22, 23, 24, 23, 24, 23, 24, 25, 26, 27, 28, 29, 28, 30, 29, 28, 29, 30, 29, 30, 29, 30, 31, 32, 33, 34, 33, 34, 35, 36, 37, 36, 37, 36, 35, 36, 37, 40, 41, 44, 45, 44, 43, 44, 43, 44, 43, 42, 43, 44, 45, 47, 48, 47, 48, 47, 52, 54, 53, 54, 57, 58, 59, 60, 65, 66, 65, 66, 68, 67, 66], [0, 1, 2, 1, 5, 4, 5, 4, 5, 6, 5, 4, 5, 8, 9, 10, 9, 10, 9, 10, 11, 12, 11, 12, 13, 14, 15, 16, 17, 21, 22, 23, 24, 23, 24, 23, 24, 25, 26, 27, 28, 29, 28, 30, 29, 28, 29, 30, 29, 30, 29, 30, 31, 32, 33, 34, 33, 34, 35, 36, 37, 36, 37, 36, 35, 36, 37, 40, 41, 44, 45, 44, 43, 44, 43, 44, 43, 42, 43, 44, 45, 47, 48, 47, 48, 47, 52, 54, 53, 54, 57, 58, 59, 60, 65, 66, 65, 66, 68, 67, 66], [0, 1, 2, 1, 5, 4, 5, 4, 5, 6, 5, 4, 5, 8, 9, 10, 9, 10, 9, 10, 11, 12, 11, 12, 13, 14, 15, 16, 17, 21, 22, 23, 24, 23, 24, 23, 24, 25, 26, 27, 28, 29, 28, 30, 29, 28, 29, 30, 29, 30, 29, 30, 31, 32, 33, 34, 33, 34, 35, 36, 37, 36, 37, 36, 35, 36, 37, 40, 41, 44, 45, 44, 43, 44, 43, 44, 43, 42, 43, 44, 45, 47, 48, 47, 48, 47, 52, 54, 53, 54, 57, 58, 59, 60, 65, 66, 65, 66, 68, 67, 66], [0, 1, 2, 1, 5, 4, 5, 4, 5, 6, 5, 4, 5, 8, 9, 10, 9, 10, 9, 10, 11, 12, 11, 12, 13, 14, 15, 16, 17, 21, 22, 23, 24, 23, 24, 23, 24, 25, 26, 27, 28, 29, 28, 30, 29, 28, 29, 30, 29, 30, 29, 30, 31, 32, 33, 34, 33, 34, 35, 36, 37, 36, 37, 36, 35, 36, 37, 40, 41, 44, 45, 44, 43, 44, 43, 44, 43, 42, 43, 44, 45, 47, 48, 47, 48, 47, 52, 54, 53, 54, 57, 58, 59, 60, 65, 66, 65, 66, 68, 67, 66], [0, 1, 2, 1, 5, 4, 5, 4, 5, 6, 5, 4, 5, 8, 9, 10, 9, 10, 9, 10, 11, 12, 11, 12, 13, 14, 15, 16, 17, 21, 22, 23, 24, 23, 24, 23, 24, 25, 26, 27, 28, 29, 28, 30, 29, 28, 29, 30, 29, 30, 29, 30, 31, 32, 33, 34, 33, 34, 35, 36, 37, 36, 37, 36, 35, 36, 37, 40, 41, 44, 45, 44, 43, 44, 43, 44, 43, 42, 43, 44, 45, 47, 48, 47, 48, 47, 52, 54, 53, 54, 57, 58, 59, 60, 65, 66, 65, 66, 68, 67, 66], [0, 1, 2, 1, 5, 4, 5, 4, 5, 6, 5, 4, 5, 8, 9, 10, 9, 10, 9, 10, 11, 12, 11, 12, 13, 14, 15, 16, 17, 21, 22, 23, 24, 23, 24, 23, 24, 25, 26, 27, 28, 29, 28, 30, 29, 28, 29, 30, 29, 30, 29, 30, 31, 32, 33, 34, 33, 34, 35, 36, 37, 36, 37, 36, 35, 36, 37, 40, 41, 44, 45, 44, 43, 44, 43, 44, 43, 42, 43, 44, 45, 47, 48, 47, 48, 47, 52, 54, 53, 54, 57, 58, 59, 60, 65, 66, 65, 66, 68, 67, 66], [0, 1, 2, 1, 5, 4, 5, 4, 5, 6, 5, 4, 5, 8, 9, 10, 9, 10, 9, 10, 11, 12, 11, 12, 13, 14, 15, 16, 17, 21, 22, 23, 24, 23, 24, 23, 24, 25, 26, 27, 28, 29, 28, 30, 29, 28, 29, 30, 29, 30, 29, 30, 31, 32, 33, 34, 33, 34, 35, 36, 37, 36, 37, 36, 35, 36, 37, 40, 41, 44, 45, 44, 43, 44, 43, 44, 43, 42, 43, 44, 45, 47, 48, 47, 48, 47, 52, 54, 53, 54, 57, 58, 59, 60, 65, 66, 65, 66, 68, 67, 66], [0, 1, 2, 1, 5, 4, 5, 4, 5, 6, 5, 4, 5, 8, 9, 10, 9, 10, 9, 10, 11, 12, 11, 12, 13, 14, 15, 16, 17, 21, 22, 23, 24, 23, 24, 23, 24, 25, 26, 27, 28, 29, 28, 30, 29, 28, 29, 30, 29, 30, 29, 30, 31, 32, 33, 34, 33, 34, 35, 36, 37, 36, 37, 36, 35, 36, 37, 40, 41, 44, 45, 44, 43, 44, 43, 44, 43, 42, 43, 44, 45, 47, 48, 47, 48, 47, 52, 54, 53, 54, 57, 58, 59, 60, 65, 66, 65, 66, 68, 67, 66], [0, 1, 2, 1, 5, 4, 5, 4, 5, 6, 5, 4, 5, 8, 9, 10, 9, 10, 9, 10, 11, 12, 11, 12, 13, 14, 15, 16, 17, 21, 22, 23, 24, 23, 24, 23, 24, 25, 26, 27, 28, 29, 28, 30, 29, 28, 29, 30, 29, 30, 29, 30, 31, 32, 33, 34, 33, 34, 35, 36, 37, 36, 37, 36, 35, 36, 37, 40, 41, 44, 45, 44, 43, 44, 43, 44, 43, 42, 43, 44, 45, 47, 48, 47, 48, 47, 52, 54, 53, 54, 57, 58, 59, 60, 65, 66, 65, 66, 68, 67, 66], [0, 1, 2, 1, 5, 4, 5, 4, 5, 6, 5, 4, 5, 8, 9, 10, 9, 10, 9, 10, 11, 12, 11, 12, 13, 14, 15, 16, 17, 21, 22, 23, 24, 23, 24, 23, 24, 25, 26, 27, 28, 29, 28, 30, 29, 28, 29, 30, 29, 30, 29, 30, 31, 32, 33, 34, 33, 34, 35, 36, 37, 36, 37, 36, 35, 36, 37, 40, 41, 44, 45, 44, 43, 44, 43, 44, 43, 42, 43, 44, 45, 47, 48, 47, 48, 47, 52, 54, 53, 54, 57, 58, 59, 60, 65, 66, 65, 66, 68, 67, 66], [0, 1, 2, 1, 5, 4, 5, 4, 5, 6, 5, 4, 5, 8, 9, 10, 9, 10, 9, 10, 11, 12, 11, 12, 13, 14, 15, 16, 17, 21, 22, 23, 24, 23, 24, 23, 24, 25, 26, 27, 28, 29, 28, 30, 29, 28, 29, 30, 29, 30, 29, 30, 31, 32, 33, 34, 33, 34, 35, 36, 37, 36, 37, 36, 35, 36, 37, 40, 41, 44, 45, 44, 43, 44, 43, 44, 43, 42, 43, 44, 45, 47, 48, 47, 48, 47, 52, 54, 53, 54, 57, 58, 59, 60, 65, 66, 65, 66, 68, 67, 66], [0, 1, 2, 1, 5, 4, 5, 4, 5, 6, 5, 4, 5, 8, 9, 10, 9, 10, 9, 10, 11, 12, 11, 12, 13, 14, 15, 16, 17, 21, 22, 23, 24, 23, 24, 23, 24, 25, 26, 27, 28, 29, 28, 30, 29, 28, 29, 30, 29, 30, 29, 30, 31, 32, 33, 34, 33, 34, 35, 36, 37, 36, 37, 36, 35, 36, 37, 40, 41, 44, 45, 44, 43, 44, 43, 44, 43, 42, 43, 44, 45, 47, 48, 47, 48, 47, 52, 54, 53, 54, 57, 58, 59, 60, 65, 66, 65, 66, 68, 67, 66], [0, 1, 2, 1, 5, 4, 5, 4, 5, 6, 5, 4, 5, 8, 9, 10, 9, 10, 9, 10, 11, 12, 11, 12, 13, 14, 15, 16, 17, 21, 22, 23, 24, 23, 24, 23, 24, 25, 26, 27, 28, 29, 28, 30, 29, 28, 29, 30, 29, 30, 29, 30, 31, 32, 33, 34, 33, 34, 35, 36, 37, 36, 37, 36, 35, 36, 37, 40, 41, 44, 45, 44, 43, 44, 43, 44, 43, 42, 43, 44, 45, 47, 48, 47, 48, 47, 52, 54, 53, 54, 57, 58, 59, 60, 65, 66, 65, 66, 68, 67, 66], [0, 1, 2, 1, 5, 4, 5, 4, 5, 6, 5, 4, 5, 8, 9, 10, 9, 10, 9, 10, 11, 12, 11, 12, 13, 14, 15, 16, 17, 21, 22, 23, 24, 23, 24, 23, 24, 25, 26, 27, 28, 29, 28, 30, 29, 28, 29, 30, 29, 30, 29, 30, 31, 32, 33, 34, 33, 34, 35, 36, 37, 36, 37, 36, 35, 36, 37, 40, 41, 44, 45, 44, 43, 44, 43, 44, 43, 42, 43, 44, 45, 47, 48, 47, 48, 47, 52, 54, 53, 54, 57, 58, 59, 60, 65, 66, 65, 66, 68, 67, 66], [0, 1, 2, 1, 5, 4, 5, 4, 5, 6, 5, 4, 5, 8, 9, 10, 9, 10, 9, 10, 11, 12, 11, 12, 13, 14, 15, 16, 17, 21, 22, 23, 24, 23, 24, 23, 24, 25, 26, 27, 28, 29, 28, 30, 29, 28, 29, 30, 29, 30, 29, 30, 31, 32, 33, 34, 33, 34, 35, 36, 37, 36, 37, 36, 35, 36, 37, 40, 41, 44, 45, 44, 43, 44, 43, 44, 43, 42, 43, 44, 45, 47, 48, 47, 48, 47, 52, 54, 53, 54, 57, 58, 59, 60, 65, 66, 65, 66, 68, 67, 66], [0, 1, 2, 1, 5, 4, 5, 4, 5, 6, 5, 4, 5, 8, 9, 10, 9, 10, 9, 10, 11, 12, 11, 12, 13, 14, 15, 16, 17, 21, 22, 23, 24, 23, 24, 23, 24, 25, 26, 27, 28, 29, 28, 30, 29, 28, 29, 30, 29, 30, 29, 30, 31, 32, 33, 34, 33, 34, 35, 36, 37, 36, 37, 36, 35, 36, 37, 40, 41, 44, 45, 44, 43, 44, 43, 44, 43, 42, 43, 44, 45, 47, 48, 47, 48, 47, 52, 54, 53, 54, 57, 58, 59, 60, 65, 66, 65, 66, 68, 67, 66], [0, 1, 2, 1, 5, 4, 5, 4, 5, 6, 5, 4, 5, 8, 9, 10, 9, 10, 9, 10, 11, 12, 11, 12, 13, 14, 15, 16, 17, 21, 22, 23, 24, 23, 24, 23, 24, 25, 26, 27, 28, 29, 28, 30, 29, 28, 29, 30, 29, 30, 29, 30, 31, 32, 33, 34, 33, 34, 35, 36, 37, 36, 37, 36, 35, 36, 37, 40, 41, 44, 45, 44, 43, 44, 43, 44, 43, 42, 43, 44, 45, 47, 48, 47, 48, 47, 52, 54, 53, 54, 57, 58, 59, 60, 65, 66, 65, 66, 68, 67, 66], [0, 1, 2, 1, 5, 4, 5, 4, 5, 6, 5, 4, 5, 8, 9, 10, 9, 10, 9, 10, 11, 12, 11, 12, 13, 14, 15, 16, 17, 21, 22, 23, 24, 23, 24, 23, 24, 25, 26, 27, 28, 29, 28, 30, 29, 28, 29, 30, 29, 30, 29, 30, 31, 32, 33, 34, 33, 34, 35, 36, 37, 36, 37, 36, 35, 36, 37, 40, 41, 44, 45, 44, 43, 44, 43, 44, 43, 42, 43, 44, 45, 47, 48, 47, 48, 47, 52, 54, 53, 54, 57, 58, 59, 60, 65, 66, 65, 66, 68, 67, 66], [0, 1, 2, 1, 5, 4, 5, 4, 5, 6, 5, 4, 5, 8, 9, 10, 9, 10, 9, 10, 11, 12, 11, 12, 13, 14, 15, 16, 17, 21, 22, 23, 24, 23, 24, 23, 24, 25, 26, 27, 28, 29, 28, 30, 29, 28, 29, 30, 29, 30, 29, 30, 31, 32, 33, 34, 33, 34, 35, 36, 37, 36, 37, 36, 35, 36, 37, 40, 41, 44, 45, 44, 43, 44, 43, 44, 43, 42, 43, 44, 45, 47, 48, 47, 48, 47, 52, 54, 53, 54, 57, 58, 59, 60, 65, 66, 65, 66, 68, 67, 66], [0, 1, 2, 1, 5, 4, 5, 4, 5, 6, 5, 4, 5, 8, 9, 10, 9, 10, 9, 10, 11, 12, 11, 12, 13, 14, 15, 16, 17, 21, 22, 23, 24, 23, 24, 23, 24, 25, 26, 27, 28, 29, 28, 30, 29, 28, 29, 30, 29, 30, 29, 30, 31, 32, 33, 34, 33, 34, 35, 36, 37, 36, 37, 36, 35, 36, 37, 40, 41, 44, 45, 44, 43, 44, 43, 44, 43, 42, 43, 44, 45, 47, 48, 47, 48, 47, 52, 54, 53, 54, 57, 58, 59, 60, 65, 66, 65, 66, 68, 67, 66], [0, 1, 2, 1, 5, 4, 5, 4, 5, 6, 5, 4, 5, 8, 9, 10, 9, 10, 9, 10, 11, 12, 11, 12, 13, 14, 15, 16, 17, 21, 22, 23, 24, 23, 24, 23, 24, 25, 26, 27, 28, 29, 28, 30, 29, 28, 29, 30, 29, 30, 29, 30, 31, 32, 33, 34, 33, 34, 35, 36, 37, 36, 37, 36, 35, 36, 37, 40, 41, 44, 45, 44, 43, 44, 43, 44, 43, 42, 43, 44, 45, 47, 48, 47, 48, 47, 52, 54, 53, 54, 57, 58, 59, 60, 65, 66, 65, 66, 68, 67, 66], [0, 1, 2, 1, 5, 4, 5, 4, 5, 6, 5, 4, 5, 8, 9, 10, 9, 10, 9, 10, 11, 12, 11, 12, 13, 14, 15, 16, 17, 21, 22, 23, 24, 23, 24, 23, 24, 25, 26, 27, 28, 29, 28, 30, 29, 28, 29, 30, 29, 30, 29, 30, 31, 32, 33, 34, 33, 34, 35, 36, 37, 36, 37, 36, 35, 36, 37, 40, 41, 44, 45, 44, 43, 44, 43, 44, 43, 42, 43, 44, 45, 47, 48, 47, 48, 47, 52, 54, 53, 54, 57, 58, 59, 60, 65, 66, 65, 66, 68, 67, 66], [0, 1, 2, 1, 5, 4, 5, 4, 5, 6, 5, 4, 5, 8, 9, 10, 9, 10, 9, 10, 11, 12, 11, 12, 13, 14, 15, 16, 17, 21, 22, 23, 24, 23, 24, 23, 24, 25, 26, 27, 28, 29, 28, 30, 29, 28, 29, 30, 29, 30, 29, 30, 31, 32, 33, 34, 33, 34, 35, 36, 37, 36, 37, 36, 35, 36, 37, 40, 41, 44, 45, 44, 43, 44, 43, 44, 43, 42, 43, 44, 45, 47, 48, 47, 48, 47, 52, 54, 53, 54, 57, 58, 59, 60, 65, 66, 65, 66, 68, 67, 66], [0, 1, 2, 1, 5, 4, 5, 4, 5, 6, 5, 4, 5, 8, 9, 10, 9, 10, 9, 10, 11, 12, 11, 12, 13, 14, 15, 16, 17, 21, 22, 23, 24, 23, 24, 23, 24, 25, 26, 27, 28, 29, 28, 30, 29, 28, 29, 30, 29, 30, 29, 30, 31, 32, 33, 34, 33, 34, 35, 36, 37, 36, 37, 36, 35, 36, 37, 40, 41, 44, 45, 44, 43, 44, 43, 44, 43, 42, 43, 44, 45, 47, 48, 47, 48, 47, 52, 54, 53, 54, 57, 58, 59, 60, 65, 66, 65, 66, 68, 67, 66], [0, 1, 2, 1, 5, 4, 5, 4, 5, 6, 5, 4, 5, 8, 9, 10, 9, 10, 9, 10, 11, 12, 11, 12, 13, 14, 15, 16, 17, 21, 22, 23, 24, 23, 24, 23, 24, 25, 26, 27, 28, 29, 28, 30, 29, 28, 29, 30, 29, 30, 29, 30, 31, 32, 33, 34, 33, 34, 35, 36, 37, 36, 37, 36, 35, 36, 37, 40, 41, 44, 45, 44, 43, 44, 43, 44, 43, 42, 43, 44, 45, 47, 48, 47, 48, 47, 52, 54, 53, 54, 57, 58, 59, 60, 65, 66, 65, 66, 68, 67, 66], [0, 1, 2, 1, 5, 4, 5, 4, 5, 6, 5, 4, 5, 8, 9, 10, 9, 10, 9, 10, 11, 12, 11, 12, 13, 14, 15, 16, 17, 21, 22, 23, 24, 23, 24, 23, 24, 25, 26, 27, 28, 29, 28, 30, 29, 28, 29, 30, 29, 30, 29, 30, 31, 32, 33, 34, 33, 34, 35, 36, 37, 36, 37, 36, 35, 36, 37, 40, 41, 44, 45, 44, 43, 44, 43, 44, 43, 42, 43, 44, 45, 47, 48, 47, 48, 47, 52, 54, 53, 54, 57, 58, 59, 60, 65, 66, 65, 66, 68, 67, 66], [0, 1, 2, 1, 5, 4, 5, 4, 5, 6, 5, 4, 5, 8, 9, 10, 9, 10, 9, 10, 11, 12, 11, 12, 13, 14, 15, 16, 17, 21, 22, 23, 24, 23, 24, 23, 24, 25, 26, 27, 28, 29, 28, 30, 29, 28, 29, 30, 29, 30, 29, 30, 31, 32, 33, 34, 33, 34, 35, 36, 37, 36, 37, 36, 35, 36, 37, 40, 41, 44, 45, 44, 43, 44, 43, 44, 43, 42, 43, 44, 45, 47, 48, 47, 48, 47, 52, 54, 53, 54, 57, 58, 59, 60, 65, 66, 65, 66, 68, 67, 66], [0, 1, 2, 1, 5, 4, 5, 4, 5, 6, 5, 4, 5, 8, 9, 10, 9, 10, 9, 10, 11, 12, 11, 12, 13, 14, 15, 16, 17, 21, 22, 23, 24, 23, 24, 23, 24, 25, 26, 27, 28, 29, 28, 30, 29, 28, 29, 30, 29, 30, 29, 30, 31, 32, 33, 34, 33, 34, 35, 36, 37, 36, 37, 36, 35, 36, 37, 40, 41, 44, 45, 44, 43, 44, 43, 44, 43, 42, 43, 44, 45, 47, 48, 47, 48, 47, 52, 54, 53, 54, 57, 58, 59, 60, 65, 66, 65, 66, 68, 67, 66], [0, 1, 2, 1, 5, 4, 5, 4, 5, 6, 5, 4, 5, 8, 9, 10, 9, 10, 9, 10, 11, 12, 11, 12, 13, 14, 15, 16, 17, 21, 22, 23, 24, 23, 24, 23, 24, 25, 26, 27, 28, 29, 28, 30, 29, 28, 29, 30, 29, 30, 29, 30, 31, 32, 33, 34, 33, 34, 35, 36, 37, 36, 37, 36, 35, 36, 37, 40, 41, 44, 45, 44, 43, 44, 43, 44, 43, 42, 43, 44, 45, 47, 48, 47, 48, 47, 52, 54, 53, 54, 57, 58, 59, 60, 65, 66, 65, 66, 68, 67, 66], [0, 1, 2, 1, 5, 4, 5, 4, 5, 6, 5, 4, 5, 8, 9, 10, 9, 10, 9, 10, 11, 12, 11, 12, 13, 14, 15, 16, 17, 21, 22, 23, 24, 23, 24, 23, 24, 25, 26, 27, 28, 29, 28, 30, 29, 28, 29, 30, 29, 30, 29, 30, 31, 32, 33, 34, 33, 34, 35, 36, 37, 36, 37, 36, 35, 36, 37, 40, 41, 44, 45, 44, 43, 44, 43, 44, 43, 42, 43, 44, 45, 47, 48, 47, 48, 47, 52, 54, 53, 54, 57, 58, 59, 60, 65, 66, 65, 66, 68, 67, 66], [0, 1, 2, 1, 5, 4, 5, 4, 5, 6, 5, 4, 5, 8, 9, 10, 9, 10, 9, 10, 11, 12, 11, 12, 13, 14, 15, 16, 17, 21, 22, 23, 24, 23, 24, 23, 24, 25, 26, 27, 28, 29, 28, 30, 29, 28, 29, 30, 29, 30, 29, 30, 31, 32, 33, 34, 33, 34, 35, 36, 37, 36, 37, 36, 35, 36, 37, 40, 41, 44, 45, 44, 43, 44, 43, 44, 43, 42, 43, 44, 45, 47, 48, 47, 48, 47, 52, 54, 53, 54, 57, 58, 59, 60, 65, 66, 65, 66, 68, 67, 66], [0, 1, 2, 1, 5, 4, 5, 4, 5, 6, 5, 4, 5, 8, 9, 10, 9, 10, 9, 10, 11, 12, 11, 12, 13, 14, 15, 16, 17, 21, 22, 23, 24, 23, 24, 23, 24, 25, 26, 27, 28, 29, 28, 30, 29, 28, 29, 30, 29, 30, 29, 30, 31, 32, 33, 34, 33, 34, 35, 36, 37, 36, 37, 36, 35, 36, 37, 40, 41, 44, 45, 44, 43, 44, 43, 44, 43, 42, 43, 44, 45, 47, 48, 47, 48, 47, 52, 54, 53, 54, 57, 58, 59, 60, 65, 66, 65, 66, 68, 67, 66], [0, 1, 2, 1, 5, 4, 5, 4, 5, 6, 5, 4, 5, 8, 9, 10, 9, 10, 9, 10, 11, 12, 11, 12, 13, 14, 15, 16, 17, 21, 22, 23, 24, 23, 24, 23, 24, 25, 26, 27, 28, 29, 28, 30, 29, 28, 29, 30, 29, 30, 29, 30, 31, 32, 33, 34, 33, 34, 35, 36, 37, 36, 37, 36, 35, 36, 37, 40, 41, 44, 45, 44, 43, 44, 43, 44, 43, 42, 43, 44, 45, 47, 48, 47, 48, 47, 52, 54, 53, 54, 57, 58, 59, 60, 65, 66, 65, 66, 68, 67, 66], [0, 1, 2, 1, 5, 4, 5, 4, 5, 6, 5, 4, 5, 8, 9, 10, 9, 10, 9, 10, 11, 12, 11, 12, 13, 14, 15, 16, 17, 21, 22, 23, 24, 23, 24, 23, 24, 25, 26, 27, 28, 29, 28, 30, 29, 28, 29, 30, 29, 30, 29, 30, 31, 32, 33, 34, 33, 34, 35, 36, 37, 36, 37, 36, 35, 36, 37, 40, 41, 44, 45, 44, 43, 44, 43, 44, 43, 42, 43, 44, 45, 47, 48, 47, 48, 47, 52, 54, 53, 54, 57, 58, 59, 60, 65, 66, 65, 66, 68, 67, 66], [0, 1, 2, 1, 5, 4, 5, 4, 5, 6, 5, 4, 5, 8, 9, 10, 9, 10, 9, 10, 11, 12, 11, 12, 13, 14, 15, 16, 17, 21, 22, 23, 24, 23, 24, 23, 24, 25, 26, 27, 28, 29, 28, 30, 29, 28, 29, 30, 29, 30, 29, 30, 31, 32, 33, 34, 33, 34, 35, 36, 37, 36, 37, 36, 35, 36, 37, 40, 41, 44, 45, 44, 43, 44, 43, 44, 43, 42, 43, 44, 45, 47, 48, 47, 48, 47, 52, 54, 53, 54, 57, 58, 59, 60, 65, 66, 65, 66, 68, 67, 66], [0, 1, 2, 1, 5, 4, 5, 4, 5, 6, 5, 4, 5, 8, 9, 10, 9, 10, 9, 10, 11, 12, 11, 12, 13, 14, 15, 16, 17, 21, 22, 23, 24, 23, 24, 23, 24, 25, 26, 27, 28, 29, 28, 30, 29, 28, 29, 30, 29, 30, 29, 30, 31, 32, 33, 34, 33, 34, 35, 36, 37, 36, 37, 36, 35, 36, 37, 40, 41, 44, 45, 44, 43, 44, 43, 44, 43, 42, 43, 44, 45, 47, 48, 47, 48, 47, 52, 54, 53, 54, 57, 58, 59, 60, 65, 66, 65, 66, 68, 67, 66], [0, 1, 2, 1, 5, 4, 5, 4, 5, 6, 5, 4, 5, 8, 9, 10, 9, 10, 9, 10, 11, 12, 11, 12, 13, 14, 15, 16, 17, 21, 22, 23, 24, 23, 24, 23, 24, 25, 26, 27, 28, 29, 28, 30, 29, 28, 29, 30, 29, 30, 29, 30, 31, 32, 33, 34, 33, 34, 35, 36, 37, 36, 37, 36, 35, 36, 37, 40, 41, 44, 45, 44, 43, 44, 43, 44, 43, 42, 43, 44, 45, 47, 48, 47, 48, 47, 52, 54, 53, 54, 57, 58, 59, 60, 65, 66, 65, 66, 68, 67, 66], [0, 1, 2, 1, 5, 4, 5, 4, 5, 6, 5, 4, 5, 8, 9, 10, 9, 10, 9, 10, 11, 12, 11, 12, 13, 14, 15, 16, 17, 21, 22, 23, 24, 23, 24, 23, 24, 25, 26, 27, 28, 29, 28, 30, 29, 28, 29, 30, 29, 30, 29, 30, 31, 32, 33, 34, 33, 34, 35, 36, 37, 36, 37, 36, 35, 36, 37, 40, 41, 44, 45, 44, 43, 44, 43, 44, 43, 42, 43, 44, 45, 47, 48, 47, 48, 47, 52, 54, 53, 54, 57, 58, 59, 60, 65, 66, 65, 66, 68, 67, 66], [0, 1, 2, 1, 5, 4, 5, 4, 5, 6, 5, 4, 5, 8, 9, 10, 9, 10, 9, 10, 11, 12, 11, 12, 13, 14, 15, 16, 17, 21, 22, 23, 24, 23, 24, 23, 24, 25, 26, 27, 28, 29, 28, 30, 29, 28, 29, 30, 29, 30, 29, 30, 31, 32, 33, 34, 33, 34, 35, 36, 37, 36, 37, 36, 35, 36, 37, 40, 41, 44, 45, 44, 43, 44, 43, 44, 43, 42, 43, 44, 45, 47, 48, 47, 48, 47, 52, 54, 53, 54, 57, 58, 59, 60, 65, 66, 65, 66, 68, 67, 66], [0, 1, 2, 1, 5, 4, 5, 4, 5, 6, 5, 4, 5, 8, 9, 10, 9, 10, 9, 10, 11, 12, 11, 12, 13, 14, 15, 16, 17, 21, 22, 23, 24, 23, 24, 23, 24, 25, 26, 27, 28, 29, 28, 30, 29, 28, 29, 30, 29, 30, 29, 30, 31, 32, 33, 34, 33, 34, 35, 36, 37, 36, 37, 36, 35, 36, 37, 40, 41, 44, 45, 44, 43, 44, 43, 44, 43, 42, 43, 44, 45, 47, 48, 47, 48, 47, 52, 54, 53, 54, 57, 58, 59, 60, 65, 66, 65, 66, 68, 67, 66], [0, 1, 2, 1, 5, 4, 5, 4, 5, 6, 5, 4, 5, 8, 9, 10, 9, 10, 9, 10, 11, 12, 11, 12, 13, 14, 15, 16, 17, 21, 22, 23, 24, 23, 24, 23, 24, 25, 26, 27, 28, 29, 28, 30, 29, 28, 29, 30, 29, 30, 29, 30, 31, 32, 33, 34, 33, 34, 35, 36, 37, 36, 37, 36, 35, 36, 37, 40, 41, 44, 45, 44, 43, 44, 43, 44, 43, 42, 43, 44, 45, 47, 48, 47, 48, 47, 52, 54, 53, 54, 57, 58, 59, 60, 65, 66, 65, 66, 68, 67, 66], [0, 1, 2, 1, 5, 4, 5, 4, 5, 6, 5, 4, 5, 8, 9, 10, 9, 10, 9, 10, 11, 12, 11, 12, 13, 14, 15, 16, 17, 21, 22, 23, 24, 23, 24, 23, 24, 25, 26, 27, 28, 29, 28, 30, 29, 28, 29, 30, 29, 30, 29, 30, 31, 32, 33, 34, 33, 34, 35, 36, 37, 36, 37, 36, 35, 36, 37, 40, 41, 44, 45, 44, 43, 44, 43, 44, 43, 42, 43, 44, 45, 47, 48, 47, 48, 47, 52, 54, 53, 54, 57, 58, 59, 60, 65, 66, 65, 66, 68, 67, 66], [0, 1, 2, 1, 5, 4, 5, 4, 5, 6, 5, 4, 5, 8, 9, 10, 9, 10, 9, 10, 11, 12, 11, 12, 13, 14, 15, 16, 17, 21, 22, 23, 24, 23, 24, 23, 24, 25, 26, 27, 28, 29, 28, 30, 29, 28, 29, 30, 29, 30, 29, 30, 31, 32, 33, 34, 33, 34, 35, 36, 37, 36, 37, 36, 35, 36, 37, 40, 41, 44, 45, 44, 43, 44, 43, 44, 43, 42, 43, 44, 45, 47, 48, 47, 48, 47, 52, 54, 53, 54, 57, 58, 59, 60, 65, 66, 65, 66, 68, 67, 66], [0, 1, 2, 1, 5, 4, 5, 4, 5, 6, 5, 4, 5, 8, 9, 10, 9, 10, 9, 10, 11, 12, 11, 12, 13, 14, 15, 16, 17, 21, 22, 23, 24, 23, 24, 23, 24, 25, 26, 27, 28, 29, 28, 30, 29, 28, 29, 30, 29, 30, 29, 30, 31, 32, 33, 34, 33, 34, 35, 36, 37, 36, 37, 36, 35, 36, 37, 40, 41, 44, 45, 44, 43, 44, 43, 44, 43, 42, 43, 44, 45, 47, 48, 47, 48, 47, 52, 54, 53, 54, 57, 58, 59, 60, 65, 66, 65, 66, 68, 67, 66], [0, 1, 2, 1, 5, 4, 5, 4, 5, 6, 5, 4, 5, 8, 9, 10, 9, 10, 9, 10, 11, 12, 11, 12, 13, 14, 15, 16, 17, 21, 22, 23, 24, 23, 24, 23, 24, 25, 26, 27, 28, 29, 28, 30, 29, 28, 29, 30, 29, 30, 29, 30, 31, 32, 33, 34, 33, 34, 35, 36, 37, 36, 37, 36, 35, 36, 37, 40, 41, 44, 45, 44, 43, 44, 43, 44, 43, 42, 43, 44, 45, 47, 48, 47, 48, 47, 52, 54, 53, 54, 57, 58, 59, 60, 65, 66, 65, 66, 68, 67, 66], [0, 1, 2, 1, 5, 4, 5, 4, 5, 6, 5, 4, 5, 8, 9, 10, 9, 10, 9, 10, 11, 12, 11, 12, 13, 14, 15, 16, 17, 21, 22, 23, 24, 23, 24, 23, 24, 25, 26, 27, 28, 29, 28, 30, 29, 28, 29, 30, 29, 30, 29, 30, 31, 32, 33, 34, 33, 34, 35, 36, 37, 36, 37, 36, 35, 36, 37, 40, 41, 44, 45, 44, 43, 44, 43, 44, 43, 42, 43, 44, 45, 47, 48, 47, 48, 47, 52, 54, 53, 54, 57, 58, 59, 60, 65, 66, 65, 66, 68, 67, 66], [0, 1, 2, 1, 5, 4, 5, 4, 5, 6, 5, 4, 5, 8, 9, 10, 9, 10, 9, 10, 11, 12, 11, 12, 13, 14, 15, 16, 17, 21, 22, 23, 24, 23, 24, 23, 24, 25, 26, 27, 28, 29, 28, 30, 29, 28, 29, 30, 29, 30, 29, 30, 31, 32, 33, 34, 33, 34, 35, 36, 37, 36, 37, 36, 35, 36, 37, 40, 41, 44, 45, 44, 43, 44, 43, 44, 43, 42, 43, 44, 45, 47, 48, 47, 48, 47, 52, 54, 53, 54, 57, 58, 59, 60, 65, 66, 65, 66, 68, 67, 66], [0, 1, 2, 1, 5, 4, 5, 4, 5, 6, 5, 4, 5, 8, 9, 10, 9, 10, 9, 10, 11, 12, 11, 12, 13, 14, 15, 16, 17, 21, 22, 23, 24, 23, 24, 23, 24, 25, 26, 27, 28, 29, 28, 30, 29, 28, 29, 30, 29, 30, 29, 30, 31, 32, 33, 34, 33, 34, 35, 36, 37, 36, 37, 36, 35, 36, 37, 40, 41, 44, 45, 44, 43, 44, 43, 44, 43, 42, 43, 44, 45, 47, 48, 47, 48, 47, 52, 54, 53, 54, 57, 58, 59, 60, 65, 66, 65, 66, 68, 67, 66], [0, 1, 2, 1, 5, 4, 5, 4, 5, 6, 5, 4, 5, 8, 9, 10, 9, 10, 9, 10, 11, 12, 11, 12, 13, 14, 15, 16, 17, 21, 22, 23, 24, 23, 24, 23, 24, 25, 26, 27, 28, 29, 28, 30, 29, 28, 29, 30, 29, 30, 29, 30, 31, 32, 33, 34, 33, 34, 35, 36, 37, 36, 37, 36, 35, 36, 37, 40, 41, 44, 45, 44, 43, 44, 43, 44, 43, 42, 43, 44, 45, 47, 48, 47, 48, 47, 52, 54, 53, 54, 57, 58, 59, 60, 65, 66, 65, 66, 68, 67, 66], [0, 1, 2, 1, 5, 4, 5, 4, 5, 6, 5, 4, 5, 8, 9, 10, 9, 10, 9, 10, 11, 12, 11, 12, 13, 14, 15, 16, 17, 21, 22, 23, 24, 23, 24, 23, 24, 25, 26, 27, 28, 29, 28, 30, 29, 28, 29, 30, 29, 30, 29, 30, 31, 32, 33, 34, 33, 34, 35, 36, 37, 36, 37, 36, 35, 36, 37, 40, 41, 44, 45, 44, 43, 44, 43, 44, 43, 42, 43, 44, 45, 47, 48, 47, 48, 47, 52, 54, 53, 54, 57, 58, 59, 60, 65, 66, 65, 66, 68, 67, 66], [0, 1, 2, 1, 5, 4, 5, 4, 5, 6, 5, 4, 5, 8, 9, 10, 9, 10, 9, 10, 11, 12, 11, 12, 13, 14, 15, 16, 17, 21, 22, 23, 24, 23, 24, 23, 24, 25, 26, 27, 28, 29, 28, 30, 29, 28, 29, 30, 29, 30, 29, 30, 31, 32, 33, 34, 33, 34, 35, 36, 37, 36, 37, 36, 35, 36, 37, 40, 41, 44, 45, 44, 43, 44, 43, 44, 43, 42, 43, 44, 45, 47, 48, 47, 48, 47, 52, 54, 53, 54, 57, 58, 59, 60, 65, 66, 65, 66, 68, 67, 66], [0, 1, 2, 1, 5, 4, 5, 4, 5, 6, 5, 4, 5, 8, 9, 10, 9, 10, 9, 10, 11, 12, 11, 12, 13, 14, 15, 16, 17, 21, 22, 23, 24, 23, 24, 23, 24, 25, 26, 27, 28, 29, 28, 30, 29, 28, 29, 30, 29, 30, 29, 30, 31, 32, 33, 34, 33, 34, 35, 36, 37, 36, 37, 36, 35, 36, 37, 40, 41, 44, 45, 44, 43, 44, 43, 44, 43, 42, 43, 44, 45, 47, 48, 47, 48, 47, 52, 54, 53, 54, 57, 58, 59, 60, 65, 66, 65, 66, 68, 67, 66], [0, 1, 2, 1, 5, 4, 5, 4, 5, 6, 5, 4, 5, 8, 9, 10, 9, 10, 9, 10, 11, 12, 11, 12, 13, 14, 15, 16, 17, 21, 22, 23, 24, 23, 24, 23, 24, 25, 26, 27, 28, 29, 28, 30, 29, 28, 29, 30, 29, 30, 29, 30, 31, 32, 33, 34, 33, 34, 35, 36, 37, 36, 37, 36, 35, 36, 37, 40, 41, 44, 45, 44, 43, 44, 43, 44, 43, 42, 43, 44, 45, 47, 48, 47, 48, 47, 52, 54, 53, 54, 57, 58, 59, 60, 65, 66, 65, 66, 68, 67, 66], [0, 1, 2, 1, 5, 4, 5, 4, 5, 6, 5, 4, 5, 8, 9, 10, 9, 10, 9, 10, 11, 12, 11, 12, 13, 14, 15, 16, 17, 21, 22, 23, 24, 23, 24, 23, 24, 25, 26, 27, 28, 29, 28, 30, 29, 28, 29, 30, 29, 30, 29, 30, 31, 32, 33, 34, 33, 34, 35, 36, 37, 36, 37, 36, 35, 36, 37, 40, 41, 44, 45, 44, 43, 44, 43, 44, 43, 42, 43, 44, 45, 47, 48, 47, 48, 47, 52, 54, 53, 54, 57, 58, 59, 60, 65, 66, 65, 66, 68, 67, 66], [0, 1, 2, 1, 5, 4, 5, 4, 5, 6, 5, 4, 5, 8, 9, 10, 9, 10, 9, 10, 11, 12, 11, 12, 13, 14, 15, 16, 17, 21, 22, 23, 24, 23, 24, 23, 24, 25, 26, 27, 28, 29, 28, 30, 29, 28, 29, 30, 29, 30, 29, 30, 31, 32, 33, 34, 33, 34, 35, 36, 37, 36, 37, 36, 35, 36, 37, 40, 41, 44, 45, 44, 43, 44, 43, 44, 43, 42, 43, 44, 45, 47, 48, 47, 48, 47, 52, 54, 53, 54, 57, 58, 59, 60, 65, 66, 65, 66, 68, 67, 66], [0, 1, 2, 1, 5, 4, 5, 4, 5, 6, 5, 4, 5, 8, 9, 10, 9, 10, 9, 10, 11, 12, 11, 12, 13, 14, 15, 16, 17, 21, 22, 23, 24, 23, 24, 23, 24, 25, 26, 27, 28, 29, 28, 30, 29, 28, 29, 30, 29, 30, 29, 30, 31, 32, 33, 34, 33, 34, 35, 36, 37, 36, 37, 36, 35, 36, 37, 40, 41, 44, 45, 44, 43, 44, 43, 44, 43, 42, 43, 44, 45, 47, 48, 47, 48, 47, 52, 54, 53, 54, 57, 58, 59, 60, 65, 66, 65, 66, 68, 67, 66], [0, 1, 2, 1, 5, 4, 5, 4, 5, 6, 5, 4, 5, 8, 9, 10, 9, 10, 9, 10, 11, 12, 11, 12, 13, 14, 15, 16, 17, 21, 22, 23, 24, 23, 24, 23, 24, 25, 26, 27, 28, 29, 28, 30, 29, 28, 29, 30, 29, 30, 29, 30, 31, 32, 33, 34, 33, 34, 35, 36, 37, 36, 37, 36, 35, 36, 37, 40, 41, 44, 45, 44, 43, 44, 43, 44, 43, 42, 43, 44, 45, 47, 48, 47, 48, 47, 52, 54, 53, 54, 57, 58, 59, 60, 65, 66, 65, 66, 68, 67, 66], [0, 1, 2, 1, 5, 4, 5, 4, 5, 6, 5, 4, 5, 8, 9, 10, 9, 10, 9, 10, 11, 12, 11, 12, 13, 14, 15, 16, 17, 21, 22, 23, 24, 23, 24, 23, 24, 25, 26, 27, 28, 29, 28, 30, 29, 28, 29, 30, 29, 30, 29, 30, 31, 32, 33, 34, 33, 34, 35, 36, 37, 36, 37, 36, 35, 36, 37, 40, 41, 44, 45, 44, 43, 44, 43, 44, 43, 42, 43, 44, 45, 47, 48, 47, 48, 47, 52, 54, 53, 54, 57, 58, 59, 60, 65, 66, 65, 66, 68, 67, 66], [0, 1, 2, 1, 5, 4, 5, 4, 5, 6, 5, 4, 5, 8, 9, 10, 9, 10, 9, 10, 11, 12, 11, 12, 13, 14, 15, 16, 17, 21, 22, 23, 24, 23, 24, 23, 24, 25, 26, 27, 28, 29, 28, 30, 29, 28, 29, 30, 29, 30, 29, 30, 31, 32, 33, 34, 33, 34, 35, 36, 37, 36, 37, 36, 35, 36, 37, 40, 41, 44, 45, 44, 43, 44, 43, 44, 43, 42, 43, 44, 45, 47, 48, 47, 48, 47, 52, 54, 53, 54, 57, 58, 59, 60, 65, 66, 65, 66, 68, 67, 66], [0, 1, 2, 1, 5, 4, 5, 4, 5, 6, 5, 4, 5, 8, 9, 10, 9, 10, 9, 10, 11, 12, 11, 12, 13, 14, 15, 16, 17, 21, 22, 23, 24, 23, 24, 23, 24, 25, 26, 27, 28, 29, 28, 30, 29, 28, 29, 30, 29, 30, 29, 30, 31, 32, 33, 34, 33, 34, 35, 36, 37, 36, 37, 36, 35, 36, 37, 40, 41, 44, 45, 44, 43, 44, 43, 44, 43, 42, 43, 44, 45, 47, 48, 47, 48, 47, 52, 54, 53, 54, 57, 58, 59, 60, 65, 66, 65, 66, 68, 67, 66], [0, 1, 2, 1, 5, 4, 5, 4, 5, 6, 5, 4, 5, 8, 9, 10, 9, 10, 9, 10, 11, 12, 11, 12, 13, 14, 15, 16, 17, 21, 22, 23, 24, 23, 24, 23, 24, 25, 26, 27, 28, 29, 28, 30, 29, 28, 29, 30, 29, 30, 29, 30, 31, 32, 33, 34, 33, 34, 35, 36, 37, 36, 37, 36, 35, 36, 37, 40, 41, 44, 45, 44, 43, 44, 43, 44, 43, 42, 43, 44, 45, 47, 48, 47, 48, 47, 52, 54, 53, 54, 57, 58, 59, 60, 65, 66, 65, 66, 68, 67, 66], [0, 1, 2, 1, 5, 4, 5, 4, 5, 6, 5, 4, 5, 8, 9, 10, 9, 10, 9, 10, 11, 12, 11, 12, 13, 14, 15, 16, 17, 21, 22, 23, 24, 23, 24, 23, 24, 25, 26, 27, 28, 29, 28, 30, 29, 28, 29, 30, 29, 30, 29, 30, 31, 32, 33, 34, 33, 34, 35, 36, 37, 36, 37, 36, 35, 36, 37, 40, 41, 44, 45, 44, 43, 44, 43, 44, 43, 42, 43, 44, 45, 47, 48, 47, 48, 47, 52, 54, 53, 54, 57, 58, 59, 60, 65, 66, 65, 66, 68, 67, 66], [0, 1, 2, 1, 5, 4, 5, 4, 5, 6, 5, 4, 5, 8, 9, 10, 9, 10, 9, 10, 11, 12, 11, 12, 13, 14, 15, 16, 17, 21, 22, 23, 24, 23, 24, 23, 24, 25, 26, 27, 28, 29, 28, 30, 29, 28, 29, 30, 29, 30, 29, 30, 31, 32, 33, 34, 33, 34, 35, 36, 37, 36, 37, 36, 35, 36, 37, 40, 41, 44, 45, 44, 43, 44, 43, 44, 43, 42, 43, 44, 45, 47, 48, 47, 48, 47, 52, 54, 53, 54, 57, 58, 59, 60, 65, 66, 65, 66, 68, 67, 66], [0, 1, 2, 1, 5, 4, 5, 4, 5, 6, 5, 4, 5, 8, 9, 10, 9, 10, 9, 10, 11, 12, 11, 12, 13, 14, 15, 16, 17, 21, 22, 23, 24, 23, 24, 23, 24, 25, 26, 27, 28, 29, 28, 30, 29, 28, 29, 30, 29, 30, 29, 30, 31, 32, 33, 34, 33, 34, 35, 36, 37, 36, 37, 36, 35, 36, 37, 40, 41, 44, 45, 44, 43, 44, 43, 44, 43, 42, 43, 44, 45, 47, 48, 47, 48, 47, 52, 54, 53, 54, 57, 58, 59, 60, 65, 66, 65, 66, 68, 67, 66], [0, 1, 2, 1, 5, 4, 5, 4, 5, 6, 5, 4, 5, 8, 9, 10, 9, 10, 9, 10, 11, 12, 11, 12, 13, 14, 15, 16, 17, 21, 22, 23, 24, 23, 24, 23, 24, 25, 26, 27, 28, 29, 28, 30, 29, 28, 29, 30, 29, 30, 29, 30, 31, 32, 33, 34, 33, 34, 35, 36, 37, 36, 37, 36, 35, 36, 37, 40, 41, 44, 45, 44, 43, 44, 43, 44, 43, 42, 43, 44, 45, 47, 48, 47, 48, 47, 52, 54, 53, 54, 57, 58, 59, 60, 65, 66, 65, 66, 68, 67, 66], [0, 1, 2, 1, 5, 4, 5, 4, 5, 6, 5, 4, 5, 8, 9, 10, 9, 10, 9, 10, 11, 12, 11, 12, 13, 14, 15, 16, 17, 21, 22, 23, 24, 23, 24, 23, 24, 25, 26, 27, 28, 29, 28, 30, 29, 28, 29, 30, 29, 30, 29, 30, 31, 32, 33, 34, 33, 34, 35, 36, 37, 36, 37, 36, 35, 36, 37, 40, 41, 44, 45, 44, 43, 44, 43, 44, 43, 42, 43, 44, 45, 47, 48, 47, 48, 47, 52, 54, 53, 54, 57, 58, 59, 60, 65, 66, 65, 66, 68, 67, 66], [0, 1, 2, 1, 5, 4, 5, 4, 5, 6, 5, 4, 5, 8, 9, 10, 9, 10, 9, 10, 11, 12, 11, 12, 13, 14, 15, 16, 17, 21, 22, 23, 24, 23, 24, 23, 24, 25, 26, 27, 28, 29, 28, 30, 29, 28, 29, 30, 29, 30, 29, 30, 31, 32, 33, 34, 33, 34, 35, 36, 37, 36, 37, 36, 35, 36, 37, 40, 41, 44, 45, 44, 43, 44, 43, 44, 43, 42, 43, 44, 45, 47, 48, 47, 48, 47, 52, 54, 53, 54, 57, 58, 59, 60, 65, 66, 65, 66, 68, 67, 66], [0, 1, 2, 1, 5, 4, 5, 4, 5, 6, 5, 4, 5, 8, 9, 10, 9, 10, 9, 10, 11, 12, 11, 12, 13, 14, 15, 16, 17, 21, 22, 23, 24, 23, 24, 23, 24, 25, 26, 27, 28, 29, 28, 30, 29, 28, 29, 30, 29, 30, 29, 30, 31, 32, 33, 34, 33, 34, 35, 36, 37, 36, 37, 36, 35, 36, 37, 40, 41, 44, 45, 44, 43, 44, 43, 44, 43, 42, 43, 44, 45, 47, 48, 47, 48, 47, 52, 54, 53, 54, 57, 58, 59, 60, 65, 66, 65, 66, 68, 67, 66], [0, 1, 2, 1, 5, 4, 5, 4, 5, 6, 5, 4, 5, 8, 9, 10, 9, 10, 9, 10, 11, 12, 11, 12, 13, 14, 15, 16, 17, 21, 22, 23, 24, 23, 24, 23, 24, 25, 26, 27, 28, 29, 28, 30, 29, 28, 29, 30, 29, 30, 29, 30, 31, 32, 33, 34, 33, 34, 35, 36, 37, 36, 37, 36, 35, 36, 37, 40, 41, 44, 45, 44, 43, 44, 43, 44, 43, 42, 43, 44, 45, 47, 48, 47, 48, 47, 52, 54, 53, 54, 57, 58, 59, 60, 65, 66, 65, 66, 68, 67, 66], [0, 1, 2, 1, 5, 4, 5, 4, 5, 6, 5, 4, 5, 8, 9, 10, 9, 10, 9, 10, 11, 12, 11, 12, 13, 14, 15, 16, 17, 21, 22, 23, 24, 23, 24, 23, 24, 25, 26, 27, 28, 29, 28, 30, 29, 28, 29, 30, 29, 30, 29, 30, 31, 32, 33, 34, 33, 34, 35, 36, 37, 36, 37, 36, 35, 36, 37, 40, 41, 44, 45, 44, 43, 44, 43, 44, 43, 42, 43, 44, 45, 47, 48, 47, 48, 47, 52, 54, 53, 54, 57, 58, 59, 60, 65, 66, 65, 66, 68, 67, 66], [0, 1, 2, 1, 5, 4, 5, 4, 5, 6, 5, 4, 5, 8, 9, 10, 9, 10, 9, 10, 11, 12, 11, 12, 13, 14, 15, 16, 17, 21, 22, 23, 24, 23, 24, 23, 24, 25, 26, 27, 28, 29, 28, 30, 29, 28, 29, 30, 29, 30, 29, 30, 31, 32, 33, 34, 33, 34, 35, 36, 37, 36, 37, 36, 35, 36, 37, 40, 41, 44, 45, 44, 43, 44, 43, 44, 43, 42, 43, 44, 45, 47, 48, 47, 48, 47, 52, 54, 53, 54, 57, 58, 59, 60, 65, 66, 65, 66, 68, 67, 66], [0, 1, 2, 1, 5, 4, 5, 4, 5, 6, 5, 4, 5, 8, 9, 10, 9, 10, 9, 10, 11, 12, 11, 12, 13, 14, 15, 16, 17, 21, 22, 23, 24, 23, 24, 23, 24, 25, 26, 27, 28, 29, 28, 30, 29, 28, 29, 30, 29, 30, 29, 30, 31, 32, 33, 34, 33, 34, 35, 36, 37, 36, 37, 36, 35, 36, 37, 40, 41, 44, 45, 44, 43, 44, 43, 44, 43, 42, 43, 44, 45, 47, 48, 47, 48, 47, 52, 54, 53, 54, 57, 58, 59, 60, 65, 66, 65, 66, 68, 67, 66], [0, 1, 2, 1, 5, 4, 5, 4, 5, 6, 5, 4, 5, 8, 9, 10, 9, 10, 9, 10, 11, 12, 11, 12, 13, 14, 15, 16, 17, 21, 22, 23, 24, 23, 24, 23, 24, 25, 26, 27, 28, 29, 28, 30, 29, 28, 29, 30, 29, 30, 29, 30, 31, 32, 33, 34, 33, 34, 35, 36, 37, 36, 37, 36, 35, 36, 37, 40, 41, 44, 45, 44, 43, 44, 43, 44, 43, 42, 43, 44, 45, 47, 48, 47, 48, 47, 52, 54, 53, 54, 57, 58, 59, 60, 65, 66, 65, 66, 68, 67, 66], [0, 1, 2, 1, 5, 4, 5, 4, 5, 6, 5, 4, 5, 8, 9, 10, 9, 10, 9, 10, 11, 12, 11, 12, 13, 14, 15, 16, 17, 21, 22, 23, 24, 23, 24, 23, 24, 25, 26, 27, 28, 29, 28, 30, 29, 28, 29, 30, 29, 30, 29, 30, 31, 32, 33, 34, 33, 34, 35, 36, 37, 36, 37, 36, 35, 36, 37, 40, 41, 44, 45, 44, 43, 44, 43, 44, 43, 42, 43, 44, 45, 47, 48, 47, 48, 47, 52, 54, 53, 54, 57, 58, 59, 60, 65, 66, 65, 66, 68, 67, 66], [0, 1, 2, 1, 5, 4, 5, 4, 5, 6, 5, 4, 5, 8, 9, 10, 9, 10, 9, 10, 11, 12, 11, 12, 13, 14, 15, 16, 17, 21, 22, 23, 24, 23, 24, 23, 24, 25, 26, 27, 28, 29, 28, 30, 29, 28, 29, 30, 29, 30, 29, 30, 31, 32, 33, 34, 33, 34, 35, 36, 37, 36, 37, 36, 35, 36, 37, 40, 41, 44, 45, 44, 43, 44, 43, 44, 43, 42, 43, 44, 45, 47, 48, 47, 48, 47, 52, 54, 53, 54, 57, 58, 59, 60, 65, 66, 65, 66, 68, 67, 66], [0, 1, 2, 1, 5, 4, 5, 4, 5, 6, 5, 4, 5, 8, 9, 10, 9, 10, 9, 10, 11, 12, 11, 12, 13, 14, 15, 16, 17, 21, 22, 23, 24, 23, 24, 23, 24, 25, 26, 27, 28, 29, 28, 30, 29, 28, 29, 30, 29, 30, 29, 30, 31, 32, 33, 34, 33, 34, 35, 36, 37, 36, 37, 36, 35, 36, 37, 40, 41, 44, 45, 44, 43, 44, 43, 44, 43, 42, 43, 44, 45, 47, 48, 47, 48, 47, 52, 54, 53, 54, 57, 58, 59, 60, 65, 66, 65, 66, 68, 67, 66], [0, 3, 4, 5, 6, 8, 9, 8, 7, 8, 7, 13, 14, 13, 19, 20, 19, 20, 21, 22, 21, 20, 21, 20, 21, 22, 21, 20, 21, 22, 21, 20, 21, 23, 22, 23, 24, 28, 32, 33, 34, 38, 39, 40, 41, 42, 47, 49, 48, 49, 50, 51, 56, 55, 54, 55, 54, 55, 54, 53, 52, 51, 50, 51, 52, 57, 58, 57, 56, 55, 56, 57, 56, 55, 56, 57, 56, 57, 56, 57, 56, 55, 56, 57, 63, 64, 63, 64, 65, 66, 65, 66, 67, 68, 67, 68, 67, 68, 69, 68, 67], [0, 3, 4, 5, 6, 8, 9, 8, 7, 8, 7, 13, 14, 13, 19, 20, 19, 20, 21, 22, 21, 20, 21, 20, 21, 22, 21, 20, 21, 22, 21, 20, 21, 23, 22, 23, 24, 28, 32, 33, 34, 38, 39, 40, 41, 42, 47, 49, 48, 49, 50, 51, 56, 55, 54, 55, 54, 55, 54, 53, 52, 51, 50, 51, 52, 57, 58, 57, 56, 55, 56, 57, 56, 55, 56, 57, 56, 57, 56, 57, 56, 55, 56, 57, 63, 64, 63, 64, 65, 66, 65, 66, 67, 68, 67, 68, 67, 68, 69, 68, 67], [0, 3, 4, 5, 6, 8, 9, 8, 7, 8, 7, 13, 14, 13, 19, 20, 19, 20, 21, 22, 21, 20, 21, 20, 21, 22, 21, 20, 21, 22, 21, 20, 21, 23, 22, 23, 24, 28, 32, 33, 34, 38, 39, 40, 41, 42, 47, 49, 48, 49, 50, 51, 56, 55, 54, 55, 54, 55, 54, 53, 52, 51, 50, 51, 52, 57, 58, 57, 56, 55, 56, 57, 56, 55, 56, 57, 56, 57, 56, 57, 56, 55, 56, 57, 63, 64, 63, 64, 65, 66, 65, 66, 67, 68, 67, 68, 67, 68, 69, 68, 67], [0, 3, 4, 5, 6, 8, 9, 8, 7, 8, 7, 13, 14, 13, 19, 20, 19, 20, 21, 22, 21, 20, 21, 20, 21, 22, 21, 20, 21, 22, 21, 20, 21, 23, 22, 23, 24, 28, 32, 33, 34, 38, 39, 40, 41, 42, 47, 49, 48, 49, 50, 51, 56, 55, 54, 55, 54, 55, 54, 53, 52, 51, 50, 51, 52, 57, 58, 57, 56, 55, 56, 57, 56, 55, 56, 57, 56, 57, 56, 57, 56, 55, 56, 57, 63, 64, 63, 64, 65, 66, 65, 66, 67, 68, 67, 68, 67, 68, 69, 68, 67], [0, 3, 4, 5, 6, 8, 9, 8, 7, 8, 7, 13, 14, 13, 19, 20, 19, 20, 21, 22, 21, 20, 21, 20, 21, 22, 21, 20, 21, 22, 21, 20, 21, 23, 22, 23, 24, 28, 32, 33, 34, 38, 39, 40, 41, 42, 47, 49, 48, 49, 50, 51, 56, 55, 54, 55, 54, 55, 54, 53, 52, 51, 50, 51, 52, 57, 58, 57, 56, 55, 56, 57, 56, 55, 56, 57, 56, 57, 56, 57, 56, 55, 56, 57, 63, 64, 63, 64, 65, 66, 65, 66, 67, 68, 67, 68, 67, 68, 69, 68, 67], [0, 3, 4, 5, 6, 8, 9, 8, 7, 8, 7, 13, 14, 13, 19, 20, 19, 20, 21, 22, 21, 20, 21, 20, 21, 22, 21, 20, 21, 22, 21, 20, 21, 23, 22, 23, 24, 28, 32, 33, 34, 38, 39, 40, 41, 42, 47, 49, 48, 49, 50, 51, 56, 55, 54, 55, 54, 55, 54, 53, 52, 51, 50, 51, 52, 57, 58, 57, 56, 55, 56, 57, 56, 55, 56, 57, 56, 57, 56, 57, 56, 55, 56, 57, 63, 64, 63, 64, 65, 66, 65, 66, 67, 68, 67, 68, 67, 68, 69, 68, 67], [0, 3, 4, 5, 6, 8, 9, 8, 7, 8, 7, 13, 14, 13, 19, 20, 19, 20, 21, 22, 21, 20, 21, 20, 21, 22, 21, 20, 21, 22, 21, 20, 21, 23, 22, 23, 24, 28, 32, 33, 34, 38, 39, 40, 41, 42, 47, 49, 48, 49, 50, 51, 56, 55, 54, 55, 54, 55, 54, 53, 52, 51, 50, 51, 52, 57, 58, 57, 56, 55, 56, 57, 56, 55, 56, 57, 56, 57, 56, 57, 56, 55, 56, 57, 63, 64, 63, 64, 65, 66, 65, 66, 67, 68, 67, 68, 67, 68, 69, 68, 67], [0, 3, 4, 5, 6, 8, 9, 8, 7, 8, 7, 13, 14, 13, 19, 20, 19, 20, 21, 22, 21, 20, 21, 20, 21, 22, 21, 20, 21, 22, 21, 20, 21, 23, 22, 23, 24, 28, 32, 33, 34, 38, 39, 40, 41, 42, 47, 49, 48, 49, 50, 51, 56, 55, 54, 55, 54, 55, 54, 53, 52, 51, 50, 51, 52, 57, 58, 57, 56, 55, 56, 57, 56, 55, 56, 57, 56, 57, 56, 57, 56, 55, 56, 57, 63, 64, 63, 64, 65, 66, 65, 66, 67, 68, 67, 68, 67, 68, 69, 68, 67], [0, 3, 4, 5, 6, 8, 9, 8, 7, 8, 7, 13, 14, 13, 19, 20, 19, 20, 21, 22, 21, 20, 21, 20, 21, 22, 21, 20, 21, 22, 21, 20, 21, 23, 22, 23, 24, 28, 32, 33, 34, 38, 39, 40, 41, 42, 47, 49, 48, 49, 50, 51, 56, 55, 54, 55, 54, 55, 54, 53, 52, 51, 50, 51, 52, 57, 58, 57, 56, 55, 56, 57, 56, 55, 56, 57, 56, 57, 56, 57, 56, 55, 56, 57, 63, 64, 63, 64, 65, 66, 65, 66, 67, 68, 67, 68, 67, 68, 69, 68, 67], [0, 3, 4, 5, 6, 8, 9, 8, 7, 8, 7, 13, 14, 13, 19, 20, 19, 20, 21, 22, 21, 20, 21, 20, 21, 22, 21, 20, 21, 22, 21, 20, 21, 23, 22, 23, 24, 28, 32, 33, 34, 38, 39, 40, 41, 42, 47, 49, 48, 49, 50, 51, 56, 55, 54, 55, 54, 55, 54, 53, 52, 51, 50, 51, 52, 57, 58, 57, 56, 55, 56, 57, 56, 55, 56, 57, 56, 57, 56, 57, 56, 55, 56, 57, 63, 64, 63, 64, 65, 66, 65, 66, 67, 68, 67, 68, 67, 68, 69, 68, 67], [0, 3, 4, 5, 6, 8, 9, 8, 7, 8, 7, 13, 14, 13, 19, 20, 19, 20, 21, 22, 21, 20, 21, 20, 21, 22, 21, 20, 21, 22, 21, 20, 21, 23, 22, 23, 24, 28, 32, 33, 34, 38, 39, 40, 41, 42, 47, 49, 48, 49, 50, 51, 56, 55, 54, 55, 54, 55, 54, 53, 52, 51, 50, 51, 52, 57, 58, 57, 56, 55, 56, 57, 56, 55, 56, 57, 56, 57, 56, 57, 56, 55, 56, 57, 63, 64, 63, 64, 65, 66, 65, 66, 67, 68, 67, 68, 67, 68, 69, 68, 67], [0, 3, 4, 5, 6, 8, 9, 8, 7, 8, 7, 13, 14, 13, 19, 20, 19, 20, 21, 22, 21, 20, 21, 20, 21, 22, 21, 20, 21, 22, 21, 20, 21, 23, 22, 23, 24, 28, 32, 33, 34, 38, 39, 40, 41, 42, 47, 49, 48, 49, 50, 51, 56, 55, 54, 55, 54, 55, 54, 53, 52, 51, 50, 51, 52, 57, 58, 57, 56, 55, 56, 57, 56, 55, 56, 57, 56, 57, 56, 57, 56, 55, 56, 57, 63, 64, 63, 64, 65, 66, 65, 66, 67, 68, 67, 68, 67, 68, 69, 68, 67], [0, 3, 4, 5, 6, 8, 9, 8, 7, 8, 7, 13, 14, 13, 19, 20, 19, 20, 21, 22, 21, 20, 21, 20, 21, 22, 21, 20, 21, 22, 21, 20, 21, 23, 22, 23, 24, 28, 32, 33, 34, 38, 39, 40, 41, 42, 47, 49, 48, 49, 50, 51, 56, 55, 54, 55, 54, 55, 54, 53, 52, 51, 50, 51, 52, 57, 58, 57, 56, 55, 56, 57, 56, 55, 56, 57, 56, 57, 56, 57, 56, 55, 56, 57, 63, 64, 63, 64, 65, 66, 65, 66, 67, 68, 67, 68, 67, 68, 69, 68, 67], [0, 3, 4, 5, 6, 8, 9, 8, 7, 8, 7, 13, 14, 13, 19, 20, 19, 20, 21, 22, 21, 20, 21, 20, 21, 22, 21, 20, 21, 22, 21, 20, 21, 23, 22, 23, 24, 28, 32, 33, 34, 38, 39, 40, 41, 42, 47, 49, 48, 49, 50, 51, 56, 55, 54, 55, 54, 55, 54, 53, 52, 51, 50, 51, 52, 57, 58, 57, 56, 55, 56, 57, 56, 55, 56, 57, 56, 57, 56, 57, 56, 55, 56, 57, 63, 64, 63, 64, 65, 66, 65, 66, 67, 68, 67, 68, 67, 68, 69, 68, 67], [0, 3, 4, 5, 6, 8, 9, 8, 7, 8, 7, 13, 14, 13, 19, 20, 19, 20, 21, 22, 21, 20, 21, 20, 21, 22, 21, 20, 21, 22, 21, 20, 21, 23, 22, 23, 24, 28, 32, 33, 34, 38, 39, 40, 41, 42, 47, 49, 48, 49, 50, 51, 56, 55, 54, 55, 54, 55, 54, 53, 52, 51, 50, 51, 52, 57, 58, 57, 56, 55, 56, 57, 56, 55, 56, 57, 56, 57, 56, 57, 56, 55, 56, 57, 63, 64, 63, 64, 65, 66, 65, 66, 67, 68, 67, 68, 67, 68, 69, 68, 67], [0, 3, 4, 5, 6, 8, 9, 8, 7, 8, 7, 13, 14, 13, 19, 20, 19, 20, 21, 22, 21, 20, 21, 20, 21, 22, 21, 20, 21, 22, 21, 20, 21, 23, 22, 23, 24, 28, 32, 33, 34, 38, 39, 40, 41, 42, 47, 49, 48, 49, 50, 51, 56, 55, 54, 55, 54, 55, 54, 53, 52, 51, 50, 51, 52, 57, 58, 57, 56, 55, 56, 57, 56, 55, 56, 57, 56, 57, 56, 57, 56, 55, 56, 57, 63, 64, 63, 64, 65, 66, 65, 66, 67, 68, 67, 68, 67, 68, 69, 68, 67], [0, 3, 4, 5, 6, 8, 9, 8, 7, 8, 7, 13, 14, 13, 19, 20, 19, 20, 21, 22, 21, 20, 21, 20, 21, 22, 21, 20, 21, 22, 21, 20, 21, 23, 22, 23, 24, 28, 32, 33, 34, 38, 39, 40, 41, 42, 47, 49, 48, 49, 50, 51, 56, 55, 54, 55, 54, 55, 54, 53, 52, 51, 50, 51, 52, 57, 58, 57, 56, 55, 56, 57, 56, 55, 56, 57, 56, 57, 56, 57, 56, 55, 56, 57, 63, 64, 63, 64, 65, 66, 65, 66, 67, 68, 67, 68, 67, 68, 69, 68, 67], [0, 3, 4, 5, 6, 8, 9, 8, 7, 8, 7, 13, 14, 13, 19, 20, 19, 20, 21, 22, 21, 20, 21, 20, 21, 22, 21, 20, 21, 22, 21, 20, 21, 23, 22, 23, 24, 28, 32, 33, 34, 38, 39, 40, 41, 42, 47, 49, 48, 49, 50, 51, 56, 55, 54, 55, 54, 55, 54, 53, 52, 51, 50, 51, 52, 57, 58, 57, 56, 55, 56, 57, 56, 55, 56, 57, 56, 57, 56, 57, 56, 55, 56, 57, 63, 64, 63, 64, 65, 66, 65, 66, 67, 68, 67, 68, 67, 68, 69, 68, 67], [0, 3, 4, 5, 6, 8, 9, 8, 7, 8, 7, 13, 14, 13, 19, 20, 19, 20, 21, 22, 21, 20, 21, 20, 21, 22, 21, 20, 21, 22, 21, 20, 21, 23, 22, 23, 24, 28, 32, 33, 34, 38, 39, 40, 41, 42, 47, 49, 48, 49, 50, 51, 56, 55, 54, 55, 54, 55, 54, 53, 52, 51, 50, 51, 52, 57, 58, 57, 56, 55, 56, 57, 56, 55, 56, 57, 56, 57, 56, 57, 56, 55, 56, 57, 63, 64, 63, 64, 65, 66, 65, 66, 67, 68, 67, 68, 67, 68, 69, 68, 67], [0, 3, 4, 5, 6, 8, 9, 8, 7, 8, 7, 13, 14, 13, 19, 20, 19, 20, 21, 22, 21, 20, 21, 20, 21, 22, 21, 20, 21, 22, 21, 20, 21, 23, 22, 23, 24, 28, 32, 33, 34, 38, 39, 40, 41, 42, 47, 49, 48, 49, 50, 51, 56, 55, 54, 55, 54, 55, 54, 53, 52, 51, 50, 51, 52, 57, 58, 57, 56, 55, 56, 57, 56, 55, 56, 57, 56, 57, 56, 57, 56, 55, 56, 57, 63, 64, 63, 64, 65, 66, 65, 66, 67, 68, 67, 68, 67, 68, 69, 68, 67], [0, 3, 4, 5, 6, 8, 9, 8, 7, 8, 7, 13, 14, 13, 19, 20, 19, 20, 21, 22, 21, 20, 21, 20, 21, 22, 21, 20, 21, 22, 21, 20, 21, 23, 22, 23, 24, 28, 32, 33, 34, 38, 39, 40, 41, 42, 47, 49, 48, 49, 50, 51, 56, 55, 54, 55, 54, 55, 54, 53, 52, 51, 50, 51, 52, 57, 58, 57, 56, 55, 56, 57, 56, 55, 56, 57, 56, 57, 56, 57, 56, 55, 56, 57, 63, 64, 63, 64, 65, 66, 65, 66, 67, 68, 67, 68, 67, 68, 69, 68, 67], [0, 3, 4, 5, 6, 8, 9, 8, 7, 8, 7, 13, 14, 13, 19, 20, 19, 20, 21, 22, 21, 20, 21, 20, 21, 22, 21, 20, 21, 22, 21, 20, 21, 23, 22, 23, 24, 28, 32, 33, 34, 38, 39, 40, 41, 42, 47, 49, 48, 49, 50, 51, 56, 55, 54, 55, 54, 55, 54, 53, 52, 51, 50, 51, 52, 57, 58, 57, 56, 55, 56, 57, 56, 55, 56, 57, 56, 57, 56, 57, 56, 55, 56, 57, 63, 64, 63, 64, 65, 66, 65, 66, 67, 68, 67, 68, 67, 68, 69, 68, 67], [0, 3, 4, 5, 6, 8, 9, 8, 7, 8, 7, 13, 14, 13, 19, 20, 19, 20, 21, 22, 21, 20, 21, 20, 21, 22, 21, 20, 21, 22, 21, 20, 21, 23, 22, 23, 24, 28, 32, 33, 34, 38, 39, 40, 41, 42, 47, 49, 48, 49, 50, 51, 56, 55, 54, 55, 54, 55, 54, 53, 52, 51, 50, 51, 52, 57, 58, 57, 56, 55, 56, 57, 56, 55, 56, 57, 56, 57, 56, 57, 56, 55, 56, 57, 63, 64, 63, 64, 65, 66, 65, 66, 67, 68, 67, 68, 67, 68, 69, 68, 67], [0, 3, 4, 5, 6, 8, 9, 8, 7, 8, 7, 13, 14, 13, 19, 20, 19, 20, 21, 22, 21, 20, 21, 20, 21, 22, 21, 20, 21, 22, 21, 20, 21, 23, 22, 23, 24, 28, 32, 33, 34, 38, 39, 40, 41, 42, 47, 49, 48, 49, 50, 51, 56, 55, 54, 55, 54, 55, 54, 53, 52, 51, 50, 51, 52, 57, 58, 57, 56, 55, 56, 57, 56, 55, 56, 57, 56, 57, 56, 57, 56, 55, 56, 57, 63, 64, 63, 64, 65, 66, 65, 66, 67, 68, 67, 68, 67, 68, 69, 68, 67], [0, 3, 4, 5, 6, 8, 9, 8, 7, 8, 7, 13, 14, 13, 19, 20, 19, 20, 21, 22, 21, 20, 21, 20, 21, 22, 21, 20, 21, 22, 21, 20, 21, 23, 22, 23, 24, 28, 32, 33, 34, 38, 39, 40, 41, 42, 47, 49, 48, 49, 50, 51, 56, 55, 54, 55, 54, 55, 54, 53, 52, 51, 50, 51, 52, 57, 58, 57, 56, 55, 56, 57, 56, 55, 56, 57, 56, 57, 56, 57, 56, 55, 56, 57, 63, 64, 63, 64, 65, 66, 65, 66, 67, 68, 67, 68, 67, 68, 69, 68, 67], [0, 3, 4, 5, 6, 8, 9, 8, 7, 8, 7, 13, 14, 13, 19, 20, 19, 20, 21, 22, 21, 20, 21, 20, 21, 22, 21, 20, 21, 22, 21, 20, 21, 23, 22, 23, 24, 28, 32, 33, 34, 38, 39, 40, 41, 42, 47, 49, 48, 49, 50, 51, 56, 55, 54, 55, 54, 55, 54, 53, 52, 51, 50, 51, 52, 57, 58, 57, 56, 55, 56, 57, 56, 55, 56, 57, 56, 57, 56, 57, 56, 55, 56, 57, 63, 64, 63, 64, 65, 66, 65, 66, 67, 68, 67, 68, 67, 68, 69, 68, 67], [0, 3, 4, 5, 6, 8, 9, 8, 7, 8, 7, 13, 14, 13, 19, 20, 19, 20, 21, 22, 21, 20, 21, 20, 21, 22, 21, 20, 21, 22, 21, 20, 21, 23, 22, 23, 24, 28, 32, 33, 34, 38, 39, 40, 41, 42, 47, 49, 48, 49, 50, 51, 56, 55, 54, 55, 54, 55, 54, 53, 52, 51, 50, 51, 52, 57, 58, 57, 56, 55, 56, 57, 56, 55, 56, 57, 56, 57, 56, 57, 56, 55, 56, 57, 63, 64, 63, 64, 65, 66, 65, 66, 67, 68, 67, 68, 67, 68, 69, 68, 67], [0, 3, 4, 5, 6, 8, 9, 8, 7, 8, 7, 13, 14, 13, 19, 20, 19, 20, 21, 22, 21, 20, 21, 20, 21, 22, 21, 20, 21, 22, 21, 20, 21, 23, 22, 23, 24, 28, 32, 33, 34, 38, 39, 40, 41, 42, 47, 49, 48, 49, 50, 51, 56, 55, 54, 55, 54, 55, 54, 53, 52, 51, 50, 51, 52, 57, 58, 57, 56, 55, 56, 57, 56, 55, 56, 57, 56, 57, 56, 57, 56, 55, 56, 57, 63, 64, 63, 64, 65, 66, 65, 66, 67, 68, 67, 68, 67, 68, 69, 68, 67], [0, 3, 4, 5, 6, 8, 9, 8, 7, 8, 7, 13, 14, 13, 19, 20, 19, 20, 21, 22, 21, 20, 21, 20, 21, 22, 21, 20, 21, 22, 21, 20, 21, 23, 22, 23, 24, 28, 32, 33, 34, 38, 39, 40, 41, 42, 47, 49, 48, 49, 50, 51, 56, 55, 54, 55, 54, 55, 54, 53, 52, 51, 50, 51, 52, 57, 58, 57, 56, 55, 56, 57, 56, 55, 56, 57, 56, 57, 56, 57, 56, 55, 56, 57, 63, 64, 63, 64, 65, 66, 65, 66, 67, 68, 67, 68, 67, 68, 69, 68, 67], [0, 3, 4, 5, 6, 8, 9, 8, 7, 8, 7, 13, 14, 13, 19, 20, 19, 20, 21, 22, 21, 20, 21, 20, 21, 22, 21, 20, 21, 22, 21, 20, 21, 23, 22, 23, 24, 28, 32, 33, 34, 38, 39, 40, 41, 42, 47, 49, 48, 49, 50, 51, 56, 55, 54, 55, 54, 55, 54, 53, 52, 51, 50, 51, 52, 57, 58, 57, 56, 55, 56, 57, 56, 55, 56, 57, 56, 57, 56, 57, 56, 55, 56, 57, 63, 64, 63, 64, 65, 66, 65, 66, 67, 68, 67, 68, 67, 68, 69, 68, 67], [0, 3, 4, 5, 6, 8, 9, 8, 7, 8, 7, 13, 14, 13, 19, 20, 19, 20, 21, 22, 21, 20, 21, 20, 21, 22, 21, 20, 21, 22, 21, 20, 21, 23, 22, 23, 24, 28, 32, 33, 34, 38, 39, 40, 41, 42, 47, 49, 48, 49, 50, 51, 56, 55, 54, 55, 54, 55, 54, 53, 52, 51, 50, 51, 52, 57, 58, 57, 56, 55, 56, 57, 56, 55, 56, 57, 56, 57, 56, 57, 56, 55, 56, 57, 63, 64, 63, 64, 65, 66, 65, 66, 67, 68, 67, 68, 67, 68, 69, 68, 67], [0, 3, 4, 5, 6, 8, 9, 8, 7, 8, 7, 13, 14, 13, 19, 20, 19, 20, 21, 22, 21, 20, 21, 20, 21, 22, 21, 20, 21, 22, 21, 20, 21, 23, 22, 23, 24, 28, 32, 33, 34, 38, 39, 40, 41, 42, 47, 49, 48, 49, 50, 51, 56, 55, 54, 55, 54, 55, 54, 53, 52, 51, 50, 51, 52, 57, 58, 57, 56, 55, 56, 57, 56, 55, 56, 57, 56, 57, 56, 57, 56, 55, 56, 57, 63, 64, 63, 64, 65, 66, 65, 66, 67, 68, 67, 68, 67, 68, 69, 68, 67], [0, 3, 4, 5, 6, 8, 9, 8, 7, 8, 7, 13, 14, 13, 19, 20, 19, 20, 21, 22, 21, 20, 21, 20, 21, 22, 21, 20, 21, 22, 21, 20, 21, 23, 22, 23, 24, 28, 32, 33, 34, 38, 39, 40, 41, 42, 47, 49, 48, 49, 50, 51, 56, 55, 54, 55, 54, 55, 54, 53, 52, 51, 50, 51, 52, 57, 58, 57, 56, 55, 56, 57, 56, 55, 56, 57, 56, 57, 56, 57, 56, 55, 56, 57, 63, 64, 63, 64, 65, 66, 65, 66, 67, 68, 67, 68, 67, 68, 69, 68, 67], [0, 3, 4, 5, 6, 8, 9, 8, 7, 8, 7, 13, 14, 13, 19, 20, 19, 20, 21, 22, 21, 20, 21, 20, 21, 22, 21, 20, 21, 22, 21, 20, 21, 23, 22, 23, 24, 28, 32, 33, 34, 38, 39, 40, 41, 42, 47, 49, 48, 49, 50, 51, 56, 55, 54, 55, 54, 55, 54, 53, 52, 51, 50, 51, 52, 57, 58, 57, 56, 55, 56, 57, 56, 55, 56, 57, 56, 57, 56, 57, 56, 55, 56, 57, 63, 64, 63, 64, 65, 66, 65, 66, 67, 68, 67, 68, 67, 68, 69, 68, 67], [0, 3, 4, 5, 6, 8, 9, 8, 7, 8, 7, 13, 14, 13, 19, 20, 19, 20, 21, 22, 21, 20, 21, 20, 21, 22, 21, 20, 21, 22, 21, 20, 21, 23, 22, 23, 24, 28, 32, 33, 34, 38, 39, 40, 41, 42, 47, 49, 48, 49, 50, 51, 56, 55, 54, 55, 54, 55, 54, 53, 52, 51, 50, 51, 52, 57, 58, 57, 56, 55, 56, 57, 56, 55, 56, 57, 56, 57, 56, 57, 56, 55, 56, 57, 63, 64, 63, 64, 65, 66, 65, 66, 67, 68, 67, 68, 67, 68, 69, 68, 67], [0, 3, 4, 5, 6, 8, 9, 8, 7, 8, 7, 13, 14, 13, 19, 20, 19, 20, 21, 22, 21, 20, 21, 20, 21, 22, 21, 20, 21, 22, 21, 20, 21, 23, 22, 23, 24, 28, 32, 33, 34, 38, 39, 40, 41, 42, 47, 49, 48, 49, 50, 51, 56, 55, 54, 55, 54, 55, 54, 53, 52, 51, 50, 51, 52, 57, 58, 57, 56, 55, 56, 57, 56, 55, 56, 57, 56, 57, 56, 57, 56, 55, 56, 57, 63, 64, 63, 64, 65, 66, 65, 66, 67, 68, 67, 68, 67, 68, 69, 68, 67], [0, 3, 4, 5, 6, 8, 9, 8, 7, 8, 7, 13, 14, 13, 19, 20, 19, 20, 21, 22, 21, 20, 21, 20, 21, 22, 21, 20, 21, 22, 21, 20, 21, 23, 22, 23, 24, 28, 32, 33, 34, 38, 39, 40, 41, 42, 47, 49, 48, 49, 50, 51, 56, 55, 54, 55, 54, 55, 54, 53, 52, 51, 50, 51, 52, 57, 58, 57, 56, 55, 56, 57, 56, 55, 56, 57, 56, 57, 56, 57, 56, 55, 56, 57, 63, 64, 63, 64, 65, 66, 65, 66, 67, 68, 67, 68, 67, 68, 69, 68, 67], [0, 3, 4, 5, 6, 8, 9, 8, 7, 8, 7, 13, 14, 13, 19, 20, 19, 20, 21, 22, 21, 20, 21, 20, 21, 22, 21, 20, 21, 22, 21, 20, 21, 23, 22, 23, 24, 28, 32, 33, 34, 38, 39, 40, 41, 42, 47, 49, 48, 49, 50, 51, 56, 55, 54, 55, 54, 55, 54, 53, 52, 51, 50, 51, 52, 57, 58, 57, 56, 55, 56, 57, 56, 55, 56, 57, 56, 57, 56, 57, 56, 55, 56, 57, 63, 64, 63, 64, 65, 66, 65, 66, 67, 68, 67, 68, 67, 68, 69, 68, 67], [0, 3, 4, 5, 6, 8, 9, 8, 7, 8, 7, 13, 14, 13, 19, 20, 19, 20, 21, 22, 21, 20, 21, 20, 21, 22, 21, 20, 21, 22, 21, 20, 21, 23, 22, 23, 24, 28, 32, 33, 34, 38, 39, 40, 41, 42, 47, 49, 48, 49, 50, 51, 56, 55, 54, 55, 54, 55, 54, 53, 52, 51, 50, 51, 52, 57, 58, 57, 56, 55, 56, 57, 56, 55, 56, 57, 56, 57, 56, 57, 56, 55, 56, 57, 63, 64, 63, 64, 65, 66, 65, 66, 67, 68, 67, 68, 67, 68, 69, 68, 67], [0, 3, 4, 5, 6, 8, 9, 8, 7, 8, 7, 13, 14, 13, 19, 20, 19, 20, 21, 22, 21, 20, 21, 20, 21, 22, 21, 20, 21, 22, 21, 20, 21, 23, 22, 23, 24, 28, 32, 33, 34, 38, 39, 40, 41, 42, 47, 49, 48, 49, 50, 51, 56, 55, 54, 55, 54, 55, 54, 53, 52, 51, 50, 51, 52, 57, 58, 57, 56, 55, 56, 57, 56, 55, 56, 57, 56, 57, 56, 57, 56, 55, 56, 57, 63, 64, 63, 64, 65, 66, 65, 66, 67, 68, 67, 68, 67, 68, 69, 68, 67], [0, 3, 4, 5, 6, 8, 9, 8, 7, 8, 7, 13, 14, 13, 19, 20, 19, 20, 21, 22, 21, 20, 21, 20, 21, 22, 21, 20, 21, 22, 21, 20, 21, 23, 22, 23, 24, 28, 32, 33, 34, 38, 39, 40, 41, 42, 47, 49, 48, 49, 50, 51, 56, 55, 54, 55, 54, 55, 54, 53, 52, 51, 50, 51, 52, 57, 58, 57, 56, 55, 56, 57, 56, 55, 56, 57, 56, 57, 56, 57, 56, 55, 56, 57, 63, 64, 63, 64, 65, 66, 65, 66, 67, 68, 67, 68, 67, 68, 69, 68, 67], [0, 3, 4, 5, 6, 8, 9, 8, 7, 8, 7, 13, 14, 13, 19, 20, 19, 20, 21, 22, 21, 20, 21, 20, 21, 22, 21, 20, 21, 22, 21, 20, 21, 23, 22, 23, 24, 28, 32, 33, 34, 38, 39, 40, 41, 42, 47, 49, 48, 49, 50, 51, 56, 55, 54, 55, 54, 55, 54, 53, 52, 51, 50, 51, 52, 57, 58, 57, 56, 55, 56, 57, 56, 55, 56, 57, 56, 57, 56, 57, 56, 55, 56, 57, 63, 64, 63, 64, 65, 66, 65, 66, 67, 68, 67, 68, 67, 68, 69, 68, 67], [0, 3, 4, 5, 6, 8, 9, 8, 7, 8, 7, 13, 14, 13, 19, 20, 19, 20, 21, 22, 21, 20, 21, 20, 21, 22, 21, 20, 21, 22, 21, 20, 21, 23, 22, 23, 24, 28, 32, 33, 34, 38, 39, 40, 41, 42, 47, 49, 48, 49, 50, 51, 56, 55, 54, 55, 54, 55, 54, 53, 52, 51, 50, 51, 52, 57, 58, 57, 56, 55, 56, 57, 56, 55, 56, 57, 56, 57, 56, 57, 56, 55, 56, 57, 63, 64, 63, 64, 65, 66, 65, 66, 67, 68, 67, 68, 67, 68, 69, 68, 67], [0, 3, 4, 5, 6, 8, 9, 8, 7, 8, 7, 13, 14, 13, 19, 20, 19, 20, 21, 22, 21, 20, 21, 20, 21, 22, 21, 20, 21, 22, 21, 20, 21, 23, 22, 23, 24, 28, 32, 33, 34, 38, 39, 40, 41, 42, 47, 49, 48, 49, 50, 51, 56, 55, 54, 55, 54, 55, 54, 53, 52, 51, 50, 51, 52, 57, 58, 57, 56, 55, 56, 57, 56, 55, 56, 57, 56, 57, 56, 57, 56, 55, 56, 57, 63, 64, 63, 64, 65, 66, 65, 66, 67, 68, 67, 68, 67, 68, 69, 68, 67], [0, 3, 4, 5, 6, 8, 9, 8, 7, 8, 7, 13, 14, 13, 19, 20, 19, 20, 21, 22, 21, 20, 21, 20, 21, 22, 21, 20, 21, 22, 21, 20, 21, 23, 22, 23, 24, 28, 32, 33, 34, 38, 39, 40, 41, 42, 47, 49, 48, 49, 50, 51, 56, 55, 54, 55, 54, 55, 54, 53, 52, 51, 50, 51, 52, 57, 58, 57, 56, 55, 56, 57, 56, 55, 56, 57, 56, 57, 56, 57, 56, 55, 56, 57, 63, 64, 63, 64, 65, 66, 65, 66, 67, 68, 67, 68, 67, 68, 69, 68, 67], [0, 3, 4, 5, 6, 8, 9, 8, 7, 8, 7, 13, 14, 13, 19, 20, 19, 20, 21, 22, 21, 20, 21, 20, 21, 22, 21, 20, 21, 22, 21, 20, 21, 23, 22, 23, 24, 28, 32, 33, 34, 38, 39, 40, 41, 42, 47, 49, 48, 49, 50, 51, 56, 55, 54, 55, 54, 55, 54, 53, 52, 51, 50, 51, 52, 57, 58, 57, 56, 55, 56, 57, 56, 55, 56, 57, 56, 57, 56, 57, 56, 55, 56, 57, 63, 64, 63, 64, 65, 66, 65, 66, 67, 68, 67, 68, 67, 68, 69, 68, 67], [0, 3, 4, 5, 6, 8, 9, 8, 7, 8, 7, 13, 14, 13, 19, 20, 19, 20, 21, 22, 21, 20, 21, 20, 21, 22, 21, 20, 21, 22, 21, 20, 21, 23, 22, 23, 24, 28, 32, 33, 34, 38, 39, 40, 41, 42, 47, 49, 48, 49, 50, 51, 56, 55, 54, 55, 54, 55, 54, 53, 52, 51, 50, 51, 52, 57, 58, 57, 56, 55, 56, 57, 56, 55, 56, 57, 56, 57, 56, 57, 56, 55, 56, 57, 63, 64, 63, 64, 65, 66, 65, 66, 67, 68, 67, 68, 67, 68, 69, 68, 67], [0, 3, 4, 5, 6, 8, 9, 8, 7, 8, 7, 13, 14, 13, 19, 20, 19, 20, 21, 22, 21, 20, 21, 20, 21, 22, 21, 20, 21, 22, 21, 20, 21, 23, 22, 23, 24, 28, 32, 33, 34, 38, 39, 40, 41, 42, 47, 49, 48, 49, 50, 51, 56, 55, 54, 55, 54, 55, 54, 53, 52, 51, 50, 51, 52, 57, 58, 57, 56, 55, 56, 57, 56, 55, 56, 57, 56, 57, 56, 57, 56, 55, 56, 57, 63, 64, 63, 64, 65, 66, 65, 66, 67, 68, 67, 68, 67, 68, 69, 68, 67], [0, 3, 4, 5, 6, 8, 9, 8, 7, 8, 7, 13, 14, 13, 19, 20, 19, 20, 21, 22, 21, 20, 21, 20, 21, 22, 21, 20, 21, 22, 21, 20, 21, 23, 22, 23, 24, 28, 32, 33, 34, 38, 39, 40, 41, 42, 47, 49, 48, 49, 50, 51, 56, 55, 54, 55, 54, 55, 54, 53, 52, 51, 50, 51, 52, 57, 58, 57, 56, 55, 56, 57, 56, 55, 56, 57, 56, 57, 56, 57, 56, 55, 56, 57, 63, 64, 63, 64, 65, 66, 65, 66, 67, 68, 67, 68, 67, 68, 69, 68, 67], [0, 3, 4, 5, 6, 8, 9, 8, 7, 8, 7, 13, 14, 13, 19, 20, 19, 20, 21, 22, 21, 20, 21, 20, 21, 22, 21, 20, 21, 22, 21, 20, 21, 23, 22, 23, 24, 28, 32, 33, 34, 38, 39, 40, 41, 42, 47, 49, 48, 49, 50, 51, 56, 55, 54, 55, 54, 55, 54, 53, 52, 51, 50, 51, 52, 57, 58, 57, 56, 55, 56, 57, 56, 55, 56, 57, 56, 57, 56, 57, 56, 55, 56, 57, 63, 64, 63, 64, 65, 66, 65, 66, 67, 68, 67, 68, 67, 68, 69, 68, 67], [0, 3, 4, 5, 6, 8, 9, 8, 7, 8, 7, 13, 14, 13, 19, 20, 19, 20, 21, 22, 21, 20, 21, 20, 21, 22, 21, 20, 21, 22, 21, 20, 21, 23, 22, 23, 24, 28, 32, 33, 34, 38, 39, 40, 41, 42, 47, 49, 48, 49, 50, 51, 56, 55, 54, 55, 54, 55, 54, 53, 52, 51, 50, 51, 52, 57, 58, 57, 56, 55, 56, 57, 56, 55, 56, 57, 56, 57, 56, 57, 56, 55, 56, 57, 63, 64, 63, 64, 65, 66, 65, 66, 67, 68, 67, 68, 67, 68, 69, 68, 67], [0, 3, 4, 5, 6, 8, 9, 8, 7, 8, 7, 13, 14, 13, 19, 20, 19, 20, 21, 22, 21, 20, 21, 20, 21, 22, 21, 20, 21, 22, 21, 20, 21, 23, 22, 23, 24, 28, 32, 33, 34, 38, 39, 40, 41, 42, 47, 49, 48, 49, 50, 51, 56, 55, 54, 55, 54, 55, 54, 53, 52, 51, 50, 51, 52, 57, 58, 57, 56, 55, 56, 57, 56, 55, 56, 57, 56, 57, 56, 57, 56, 55, 56, 57, 63, 64, 63, 64, 65, 66, 65, 66, 67, 68, 67, 68, 67, 68, 69, 68, 67], [0, 3, 4, 5, 6, 8, 9, 8, 7, 8, 7, 13, 14, 13, 19, 20, 19, 20, 21, 22, 21, 20, 21, 20, 21, 22, 21, 20, 21, 22, 21, 20, 21, 23, 22, 23, 24, 28, 32, 33, 34, 38, 39, 40, 41, 42, 47, 49, 48, 49, 50, 51, 56, 55, 54, 55, 54, 55, 54, 53, 52, 51, 50, 51, 52, 57, 58, 57, 56, 55, 56, 57, 56, 55, 56, 57, 56, 57, 56, 57, 56, 55, 56, 57, 63, 64, 63, 64, 65, 66, 65, 66, 67, 68, 67, 68, 67, 68, 69, 68, 67], [0, 3, 4, 5, 6, 8, 9, 8, 7, 8, 7, 13, 14, 13, 19, 20, 19, 20, 21, 22, 21, 20, 21, 20, 21, 22, 21, 20, 21, 22, 21, 20, 21, 23, 22, 23, 24, 28, 32, 33, 34, 38, 39, 40, 41, 42, 47, 49, 48, 49, 50, 51, 56, 55, 54, 55, 54, 55, 54, 53, 52, 51, 50, 51, 52, 57, 58, 57, 56, 55, 56, 57, 56, 55, 56, 57, 56, 57, 56, 57, 56, 55, 56, 57, 63, 64, 63, 64, 65, 66, 65, 66, 67, 68, 67, 68, 67, 68, 69, 68, 67], [0, 3, 4, 5, 6, 8, 9, 8, 7, 8, 7, 13, 14, 13, 19, 20, 19, 20, 21, 22, 21, 20, 21, 20, 21, 22, 21, 20, 21, 22, 21, 20, 21, 23, 22, 23, 24, 28, 32, 33, 34, 38, 39, 40, 41, 42, 47, 49, 48, 49, 50, 51, 56, 55, 54, 55, 54, 55, 54, 53, 52, 51, 50, 51, 52, 57, 58, 57, 56, 55, 56, 57, 56, 55, 56, 57, 56, 57, 56, 57, 56, 55, 56, 57, 63, 64, 63, 64, 65, 66, 65, 66, 67, 68, 67, 68, 67, 68, 69, 68, 67], [0, 3, 4, 5, 6, 8, 9, 8, 7, 8, 7, 13, 14, 13, 19, 20, 19, 20, 21, 22, 21, 20, 21, 20, 21, 22, 21, 20, 21, 22, 21, 20, 21, 23, 22, 23, 24, 28, 32, 33, 34, 38, 39, 40, 41, 42, 47, 49, 48, 49, 50, 51, 56, 55, 54, 55, 54, 55, 54, 53, 52, 51, 50, 51, 52, 57, 58, 57, 56, 55, 56, 57, 56, 55, 56, 57, 56, 57, 56, 57, 56, 55, 56, 57, 63, 64, 63, 64, 65, 66, 65, 66, 67, 68, 67, 68, 67, 68, 69, 68, 67], [0, 3, 4, 5, 6, 8, 9, 8, 7, 8, 7, 13, 14, 13, 19, 20, 19, 20, 21, 22, 21, 20, 21, 20, 21, 22, 21, 20, 21, 22, 21, 20, 21, 23, 22, 23, 24, 28, 32, 33, 34, 38, 39, 40, 41, 42, 47, 49, 48, 49, 50, 51, 56, 55, 54, 55, 54, 55, 54, 53, 52, 51, 50, 51, 52, 57, 58, 57, 56, 55, 56, 57, 56, 55, 56, 57, 56, 57, 56, 57, 56, 55, 56, 57, 63, 64, 63, 64, 65, 66, 65, 66, 67, 68, 67, 68, 67, 68, 69, 68, 67], [0, 3, 4, 5, 6, 8, 9, 8, 7, 8, 7, 13, 14, 13, 19, 20, 19, 20, 21, 22, 21, 20, 21, 20, 21, 22, 21, 20, 21, 22, 21, 20, 21, 23, 22, 23, 24, 28, 32, 33, 34, 38, 39, 40, 41, 42, 47, 49, 48, 49, 50, 51, 56, 55, 54, 55, 54, 55, 54, 53, 52, 51, 50, 51, 52, 57, 58, 57, 56, 55, 56, 57, 56, 55, 56, 57, 56, 57, 56, 57, 56, 55, 56, 57, 63, 64, 63, 64, 65, 66, 65, 66, 67, 68, 67, 68, 67, 68, 69, 68, 67], [0, 3, 4, 5, 6, 8, 9, 8, 7, 8, 7, 13, 14, 13, 19, 20, 19, 20, 21, 22, 21, 20, 21, 20, 21, 22, 21, 20, 21, 22, 21, 20, 21, 23, 22, 23, 24, 28, 32, 33, 34, 38, 39, 40, 41, 42, 47, 49, 48, 49, 50, 51, 56, 55, 54, 55, 54, 55, 54, 53, 52, 51, 50, 51, 52, 57, 58, 57, 56, 55, 56, 57, 56, 55, 56, 57, 56, 57, 56, 57, 56, 55, 56, 57, 63, 64, 63, 64, 65, 66, 65, 66, 67, 68, 67, 68, 67, 68, 69, 68, 67], [0, 3, 4, 5, 6, 8, 9, 8, 7, 8, 7, 13, 14, 13, 19, 20, 19, 20, 21, 22, 21, 20, 21, 20, 21, 22, 21, 20, 21, 22, 21, 20, 21, 23, 22, 23, 24, 28, 32, 33, 34, 38, 39, 40, 41, 42, 47, 49, 48, 49, 50, 51, 56, 55, 54, 55, 54, 55, 54, 53, 52, 51, 50, 51, 52, 57, 58, 57, 56, 55, 56, 57, 56, 55, 56, 57, 56, 57, 56, 57, 56, 55, 56, 57, 63, 64, 63, 64, 65, 66, 65, 66, 67, 68, 67, 68, 67, 68, 69, 68, 67], [0, 3, 4, 5, 6, 8, 9, 8, 7, 8, 7, 13, 14, 13, 19, 20, 19, 20, 21, 22, 21, 20, 21, 20, 21, 22, 21, 20, 21, 22, 21, 20, 21, 23, 22, 23, 24, 28, 32, 33, 34, 38, 39, 40, 41, 42, 47, 49, 48, 49, 50, 51, 56, 55, 54, 55, 54, 55, 54, 53, 52, 51, 50, 51, 52, 57, 58, 57, 56, 55, 56, 57, 56, 55, 56, 57, 56, 57, 56, 57, 56, 55, 56, 57, 63, 64, 63, 64, 65, 66, 65, 66, 67, 68, 67, 68, 67, 68, 69, 68, 67], [0, 3, 4, 5, 6, 8, 9, 8, 7, 8, 7, 13, 14, 13, 19, 20, 19, 20, 21, 22, 21, 20, 21, 20, 21, 22, 21, 20, 21, 22, 21, 20, 21, 23, 22, 23, 24, 28, 32, 33, 34, 38, 39, 40, 41, 42, 47, 49, 48, 49, 50, 51, 56, 55, 54, 55, 54, 55, 54, 53, 52, 51, 50, 51, 52, 57, 58, 57, 56, 55, 56, 57, 56, 55, 56, 57, 56, 57, 56, 57, 56, 55, 56, 57, 63, 64, 63, 64, 65, 66, 65, 66, 67, 68, 67, 68, 67, 68, 69, 68, 67], [0, 3, 4, 5, 6, 8, 9, 8, 7, 8, 7, 13, 14, 13, 19, 20, 19, 20, 21, 22, 21, 20, 21, 20, 21, 22, 21, 20, 21, 22, 21, 20, 21, 23, 22, 23, 24, 28, 32, 33, 34, 38, 39, 40, 41, 42, 47, 49, 48, 49, 50, 51, 56, 55, 54, 55, 54, 55, 54, 53, 52, 51, 50, 51, 52, 57, 58, 57, 56, 55, 56, 57, 56, 55, 56, 57, 56, 57, 56, 57, 56, 55, 56, 57, 63, 64, 63, 64, 65, 66, 65, 66, 67, 68, 67, 68, 67, 68, 69, 68, 67], [0, 3, 4, 5, 6, 8, 9, 8, 7, 8, 7, 13, 14, 13, 19, 20, 19, 20, 21, 22, 21, 20, 21, 20, 21, 22, 21, 20, 21, 22, 21, 20, 21, 23, 22, 23, 24, 28, 32, 33, 34, 38, 39, 40, 41, 42, 47, 49, 48, 49, 50, 51, 56, 55, 54, 55, 54, 55, 54, 53, 52, 51, 50, 51, 52, 57, 58, 57, 56, 55, 56, 57, 56, 55, 56, 57, 56, 57, 56, 57, 56, 55, 56, 57, 63, 64, 63, 64, 65, 66, 65, 66, 67, 68, 67, 68, 67, 68, 69, 68, 67], [0, 3, 4, 5, 6, 8, 9, 8, 7, 8, 7, 13, 14, 13, 19, 20, 19, 20, 21, 22, 21, 20, 21, 20, 21, 22, 21, 20, 21, 22, 21, 20, 21, 23, 22, 23, 24, 28, 32, 33, 34, 38, 39, 40, 41, 42, 47, 49, 48, 49, 50, 51, 56, 55, 54, 55, 54, 55, 54, 53, 52, 51, 50, 51, 52, 57, 58, 57, 56, 55, 56, 57, 56, 55, 56, 57, 56, 57, 56, 57, 56, 55, 56, 57, 63, 64, 63, 64, 65, 66, 65, 66, 67, 68, 67, 68, 67, 68, 69, 68, 67], [0, 3, 4, 5, 6, 8, 9, 8, 7, 8, 7, 13, 14, 13, 19, 20, 19, 20, 21, 22, 21, 20, 21, 20, 21, 22, 21, 20, 21, 22, 21, 20, 21, 23, 22, 23, 24, 28, 32, 33, 34, 38, 39, 40, 41, 42, 47, 49, 48, 49, 50, 51, 56, 55, 54, 55, 54, 55, 54, 53, 52, 51, 50, 51, 52, 57, 58, 57, 56, 55, 56, 57, 56, 55, 56, 57, 56, 57, 56, 57, 56, 55, 56, 57, 63, 64, 63, 64, 65, 66, 65, 66, 67, 68, 67, 68, 67, 68, 69, 68, 67], [0, 3, 4, 5, 6, 8, 9, 8, 7, 8, 7, 13, 14, 13, 19, 20, 19, 20, 21, 22, 21, 20, 21, 20, 21, 22, 21, 20, 21, 22, 21, 20, 21, 23, 22, 23, 24, 28, 32, 33, 34, 38, 39, 40, 41, 42, 47, 49, 48, 49, 50, 51, 56, 55, 54, 55, 54, 55, 54, 53, 52, 51, 50, 51, 52, 57, 58, 57, 56, 55, 56, 57, 56, 55, 56, 57, 56, 57, 56, 57, 56, 55, 56, 57, 63, 64, 63, 64, 65, 66, 65, 66, 67, 68, 67, 68, 67, 68, 69, 68, 67], [0, 3, 4, 5, 6, 8, 9, 8, 7, 8, 7, 13, 14, 13, 19, 20, 19, 20, 21, 22, 21, 20, 21, 20, 21, 22, 21, 20, 21, 22, 21, 20, 21, 23, 22, 23, 24, 28, 32, 33, 34, 38, 39, 40, 41, 42, 47, 49, 48, 49, 50, 51, 56, 55, 54, 55, 54, 55, 54, 53, 52, 51, 50, 51, 52, 57, 58, 57, 56, 55, 56, 57, 56, 55, 56, 57, 56, 57, 56, 57, 56, 55, 56, 57, 63, 64, 63, 64, 65, 66, 65, 66, 67, 68, 67, 68, 67, 68, 69, 68, 67], [0, 3, 4, 5, 6, 8, 9, 8, 7, 8, 7, 13, 14, 13, 19, 20, 19, 20, 21, 22, 21, 20, 21, 20, 21, 22, 21, 20, 21, 22, 21, 20, 21, 23, 22, 23, 24, 28, 32, 33, 34, 38, 39, 40, 41, 42, 47, 49, 48, 49, 50, 51, 56, 55, 54, 55, 54, 55, 54, 53, 52, 51, 50, 51, 52, 57, 58, 57, 56, 55, 56, 57, 56, 55, 56, 57, 56, 57, 56, 57, 56, 55, 56, 57, 63, 64, 63, 64, 65, 66, 65, 66, 67, 68, 67, 68, 67, 68, 69, 68, 67], [0, 3, 4, 5, 6, 8, 9, 8, 7, 8, 7, 13, 14, 13, 19, 20, 19, 20, 21, 22, 21, 20, 21, 20, 21, 22, 21, 20, 21, 22, 21, 20, 21, 23, 22, 23, 24, 28, 32, 33, 34, 38, 39, 40, 41, 42, 47, 49, 48, 49, 50, 51, 56, 55, 54, 55, 54, 55, 54, 53, 52, 51, 50, 51, 52, 57, 58, 57, 56, 55, 56, 57, 56, 55, 56, 57, 56, 57, 56, 57, 56, 55, 56, 57, 63, 64, 63, 64, 65, 66, 65, 66, 67, 68, 67, 68, 67, 68, 69, 68, 67], [0, 3, 4, 5, 6, 8, 9, 8, 7, 8, 7, 13, 14, 13, 19, 20, 19, 20, 21, 22, 21, 20, 21, 20, 21, 22, 21, 20, 21, 22, 21, 20, 21, 23, 22, 23, 24, 28, 32, 33, 34, 38, 39, 40, 41, 42, 47, 49, 48, 49, 50, 51, 56, 55, 54, 55, 54, 55, 54, 53, 52, 51, 50, 51, 52, 57, 58, 57, 56, 55, 56, 57, 56, 55, 56, 57, 56, 57, 56, 57, 56, 55, 56, 57, 63, 64, 63, 64, 65, 66, 65, 66, 67, 68, 67, 68, 67, 68, 69, 68, 67], [0, 3, 4, 5, 6, 8, 9, 8, 7, 8, 7, 13, 14, 13, 19, 20, 19, 20, 21, 22, 21, 20, 21, 20, 21, 22, 21, 20, 21, 22, 21, 20, 21, 23, 22, 23, 24, 28, 32, 33, 34, 38, 39, 40, 41, 42, 47, 49, 48, 49, 50, 51, 56, 55, 54, 55, 54, 55, 54, 53, 52, 51, 50, 51, 52, 57, 58, 57, 56, 55, 56, 57, 56, 55, 56, 57, 56, 57, 56, 57, 56, 55, 56, 57, 63, 64, 63, 64, 65, 66, 65, 66, 67, 68, 67, 68, 67, 68, 69, 68, 67], [0, 3, 4, 5, 6, 8, 9, 8, 7, 8, 7, 13, 14, 13, 19, 20, 19, 20, 21, 22, 21, 20, 21, 20, 21, 22, 21, 20, 21, 22, 21, 20, 21, 23, 22, 23, 24, 28, 32, 33, 34, 38, 39, 40, 41, 42, 47, 49, 48, 49, 50, 51, 56, 55, 54, 55, 54, 55, 54, 53, 52, 51, 50, 51, 52, 57, 58, 57, 56, 55, 56, 57, 56, 55, 56, 57, 56, 57, 56, 57, 56, 55, 56, 57, 63, 64, 63, 64, 65, 66, 65, 66, 67, 68, 67, 68, 67, 68, 69, 68, 67], [0, 3, 4, 5, 6, 8, 9, 8, 7, 8, 7, 13, 14, 13, 19, 20, 19, 20, 21, 22, 21, 20, 21, 20, 21, 22, 21, 20, 21, 22, 21, 20, 21, 23, 22, 23, 24, 28, 32, 33, 34, 38, 39, 40, 41, 42, 47, 49, 48, 49, 50, 51, 56, 55, 54, 55, 54, 55, 54, 53, 52, 51, 50, 51, 52, 57, 58, 57, 56, 55, 56, 57, 56, 55, 56, 57, 56, 57, 56, 57, 56, 55, 56, 57, 63, 64, 63, 64, 65, 66, 65, 66, 67, 68, 67, 68, 67, 68, 69, 68, 67], [0, 3, 4, 5, 6, 8, 9, 8, 7, 8, 7, 13, 14, 13, 19, 20, 19, 20, 21, 22, 21, 20, 21, 20, 21, 22, 21, 20, 21, 22, 21, 20, 21, 23, 22, 23, 24, 28, 32, 33, 34, 38, 39, 40, 41, 42, 47, 49, 48, 49, 50, 51, 56, 55, 54, 55, 54, 55, 54, 53, 52, 51, 50, 51, 52, 57, 58, 57, 56, 55, 56, 57, 56, 55, 56, 57, 56, 57, 56, 57, 56, 55, 56, 57, 63, 64, 63, 64, 65, 66, 65, 66, 67, 68, 67, 68, 67, 68, 69, 68, 67], [0, 3, 4, 5, 6, 8, 9, 8, 7, 8, 7, 13, 14, 13, 19, 20, 19, 20, 21, 22, 21, 20, 21, 20, 21, 22, 21, 20, 21, 22, 21, 20, 21, 23, 22, 23, 24, 28, 32, 33, 34, 38, 39, 40, 41, 42, 47, 49, 48, 49, 50, 51, 56, 55, 54, 55, 54, 55, 54, 53, 52, 51, 50, 51, 52, 57, 58, 57, 56, 55, 56, 57, 56, 55, 56, 57, 56, 57, 56, 57, 56, 55, 56, 57, 63, 64, 63, 64, 65, 66, 65, 66, 67, 68, 67, 68, 67, 68, 69, 68, 67], [0, 3, 4, 5, 6, 8, 9, 8, 7, 8, 7, 13, 14, 13, 19, 20, 19, 20, 21, 22, 21, 20, 21, 20, 21, 22, 21, 20, 21, 22, 21, 20, 21, 23, 22, 23, 24, 28, 32, 33, 34, 38, 39, 40, 41, 42, 47, 49, 48, 49, 50, 51, 56, 55, 54, 55, 54, 55, 54, 53, 52, 51, 50, 51, 52, 57, 58, 57, 56, 55, 56, 57, 56, 55, 56, 57, 56, 57, 56, 57, 56, 55, 56, 57, 63, 64, 63, 64, 65, 66, 65, 66, 67, 68, 67, 68, 67, 68, 69, 68, 67], [0, 3, 4, 5, 6, 8, 9, 8, 7, 8, 7, 13, 14, 13, 19, 20, 19, 20, 21, 22, 21, 20, 21, 20, 21, 22, 21, 20, 21, 22, 21, 20, 21, 23, 22, 23, 24, 28, 32, 33, 34, 38, 39, 40, 41, 42, 47, 49, 48, 49, 50, 51, 56, 55, 54, 55, 54, 55, 54, 53, 52, 51, 50, 51, 52, 57, 58, 57, 56, 55, 56, 57, 56, 55, 56, 57, 56, 57, 56, 57, 56, 55, 56, 57, 63, 64, 63, 64, 65, 66, 65, 66, 67, 68, 67, 68, 67, 68, 69, 68, 67], [0, 3, 4, 5, 6, 8, 9, 8, 7, 8, 7, 13, 14, 13, 19, 20, 19, 20, 21, 22, 21, 20, 21, 20, 21, 22, 21, 20, 21, 22, 21, 20, 21, 23, 22, 23, 24, 28, 32, 33, 34, 38, 39, 40, 41, 42, 47, 49, 48, 49, 50, 51, 56, 55, 54, 55, 54, 55, 54, 53, 52, 51, 50, 51, 52, 57, 58, 57, 56, 55, 56, 57, 56, 55, 56, 57, 56, 57, 56, 57, 56, 55, 56, 57, 63, 64, 63, 64, 65, 66, 65, 66, 67, 68, 67, 68, 67, 68, 69, 68, 67], [0, 3, 4, 5, 6, 8, 9, 8, 7, 8, 7, 13, 14, 13, 19, 20, 19, 20, 21, 22, 21, 20, 21, 20, 21, 22, 21, 20, 21, 22, 21, 20, 21, 23, 22, 23, 24, 28, 32, 33, 34, 38, 39, 40, 41, 42, 47, 49, 48, 49, 50, 51, 56, 55, 54, 55, 54, 55, 54, 53, 52, 51, 50, 51, 52, 57, 58, 57, 56, 55, 56, 57, 56, 55, 56, 57, 56, 57, 56, 57, 56, 55, 56, 57, 63, 64, 63, 64, 65, 66, 65, 66, 67, 68, 67, 68, 67, 68, 69, 68, 67], [0, 3, 4, 5, 6, 8, 9, 8, 7, 8, 7, 13, 14, 13, 19, 20, 19, 20, 21, 22, 21, 20, 21, 20, 21, 22, 21, 20, 21, 22, 21, 20, 21, 23, 22, 23, 24, 28, 32, 33, 34, 38, 39, 40, 41, 42, 47, 49, 48, 49, 50, 51, 56, 55, 54, 55, 54, 55, 54, 53, 52, 51, 50, 51, 52, 57, 58, 57, 56, 55, 56, 57, 56, 55, 56, 57, 56, 57, 56, 57, 56, 55, 56, 57, 63, 64, 63, 64, 65, 66, 65, 66, 67, 68, 67, 68, 67, 68, 69, 68, 67], [0, 3, 4, 5, 6, 8, 9, 8, 7, 8, 7, 13, 14, 13, 19, 20, 19, 20, 21, 22, 21, 20, 21, 20, 21, 22, 21, 20, 21, 22, 21, 20, 21, 23, 22, 23, 24, 28, 32, 33, 34, 38, 39, 40, 41, 42, 47, 49, 48, 49, 50, 51, 56, 55, 54, 55, 54, 55, 54, 53, 52, 51, 50, 51, 52, 57, 58, 57, 56, 55, 56, 57, 56, 55, 56, 57, 56, 57, 56, 57, 56, 55, 56, 57, 63, 64, 63, 64, 65, 66, 65, 66, 67, 68, 67, 68, 67, 68, 69, 68, 67], [0, 3, 4, 5, 6, 8, 9, 8, 7, 8, 7, 13, 14, 13, 19, 20, 19, 20, 21, 22, 21, 20, 21, 20, 21, 22, 21, 20, 21, 22, 21, 20, 21, 23, 22, 23, 24, 28, 32, 33, 34, 38, 39, 40, 41, 42, 47, 49, 48, 49, 50, 51, 56, 55, 54, 55, 54, 55, 54, 53, 52, 51, 50, 51, 52, 57, 58, 57, 56, 55, 56, 57, 56, 55, 56, 57, 56, 57, 56, 57, 56, 55, 56, 57, 63, 64, 63, 64, 65, 66, 65, 66, 67, 68, 67, 68, 67, 68, 69, 68, 67], [0, 3, 4, 5, 6, 8, 9, 8, 7, 8, 7, 13, 14, 13, 19, 20, 19, 20, 21, 22, 21, 20, 21, 20, 21, 22, 21, 20, 21, 22, 21, 20, 21, 23, 22, 23, 24, 28, 32, 33, 34, 38, 39, 40, 41, 42, 47, 49, 48, 49, 50, 51, 56, 55, 54, 55, 54, 55, 54, 53, 52, 51, 50, 51, 52, 57, 58, 57, 56, 55, 56, 57, 56, 55, 56, 57, 56, 57, 56, 57, 56, 55, 56, 57, 63, 64, 63, 64, 65, 66, 65, 66, 67, 68, 67, 68, 67, 68, 69, 68, 67], [0, 3, 4, 5, 6, 8, 9, 8, 7, 8, 7, 13, 14, 13, 19, 20, 19, 20, 21, 22, 21, 20, 21, 20, 21, 22, 21, 20, 21, 22, 21, 20, 21, 23, 22, 23, 24, 28, 32, 33, 34, 38, 39, 40, 41, 42, 47, 49, 48, 49, 50, 51, 56, 55, 54, 55, 54, 55, 54, 53, 52, 51, 50, 51, 52, 57, 58, 57, 56, 55, 56, 57, 56, 55, 56, 57, 56, 57, 56, 57, 56, 55, 56, 57, 63, 64, 63, 64, 65, 66, 65, 66, 67, 68, 67, 68, 67, 68, 69, 68, 67], [0, 3, 4, 5, 6, 8, 9, 8, 7, 8, 7, 13, 14, 13, 19, 20, 19, 20, 21, 22, 21, 20, 21, 20, 21, 22, 21, 20, 21, 22, 21, 20, 21, 23, 22, 23, 24, 28, 32, 33, 34, 38, 39, 40, 41, 42, 47, 49, 48, 49, 50, 51, 56, 55, 54, 55, 54, 55, 54, 53, 52, 51, 50, 51, 52, 57, 58, 57, 56, 55, 56, 57, 56, 55, 56, 57, 56, 57, 56, 57, 56, 55, 56, 57, 63, 64, 63, 64, 65, 66, 65, 66, 67, 68, 67, 68, 67, 68, 69, 68, 67], [0, 3, 4, 5, 6, 8, 9, 8, 7, 8, 7, 13, 14, 13, 19, 20, 19, 20, 21, 22, 21, 20, 21, 20, 21, 22, 21, 20, 21, 22, 21, 20, 21, 23, 22, 23, 24, 28, 32, 33, 34, 38, 39, 40, 41, 42, 47, 49, 48, 49, 50, 51, 56, 55, 54, 55, 54, 55, 54, 53, 52, 51, 50, 51, 52, 57, 58, 57, 56, 55, 56, 57, 56, 55, 56, 57, 56, 57, 56, 57, 56, 55, 56, 57, 63, 64, 63, 64, 65, 66, 65, 66, 67, 68, 67, 68, 67, 68, 69, 68, 67], [0, 3, 4, 5, 6, 8, 9, 8, 7, 8, 7, 13, 14, 13, 19, 20, 19, 20, 21, 22, 21, 20, 21, 20, 21, 22, 21, 20, 21, 22, 21, 20, 21, 23, 22, 23, 24, 28, 32, 33, 34, 38, 39, 40, 41, 42, 47, 49, 48, 49, 50, 51, 56, 55, 54, 55, 54, 55, 54, 53, 52, 51, 50, 51, 52, 57, 58, 57, 56, 55, 56, 57, 56, 55, 56, 57, 56, 57, 56, 57, 56, 55, 56, 57, 63, 64, 63, 64, 65, 66, 65, 66, 67, 68, 67, 68, 67, 68, 69, 68, 67], [0, 3, 4, 5, 6, 8, 9, 8, 7, 8, 7, 13, 14, 13, 19, 20, 19, 20, 21, 22, 21, 20, 21, 20, 21, 22, 21, 20, 21, 22, 21, 20, 21, 23, 22, 23, 24, 28, 32, 33, 34, 38, 39, 40, 41, 42, 47, 49, 48, 49, 50, 51, 56, 55, 54, 55, 54, 55, 54, 53, 52, 51, 50, 51, 52, 57, 58, 57, 56, 55, 56, 57, 56, 55, 56, 57, 56, 57, 56, 57, 56, 55, 56, 57, 63, 64, 63, 64, 65, 66, 65, 66, 67, 68, 67, 68, 67, 68, 69, 68, 67], [0, 3, 4, 5, 6, 8, 9, 8, 7, 8, 7, 13, 14, 13, 19, 20, 19, 20, 21, 22, 21, 20, 21, 20, 21, 22, 21, 20, 21, 22, 21, 20, 21, 23, 22, 23, 24, 28, 32, 33, 34, 38, 39, 40, 41, 42, 47, 49, 48, 49, 50, 51, 56, 55, 54, 55, 54, 55, 54, 53, 52, 51, 50, 51, 52, 57, 58, 57, 56, 55, 56, 57, 56, 55, 56, 57, 56, 57, 56, 57, 56, 55, 56, 57, 63, 64, 63, 64, 65, 66, 65, 66, 67, 68, 67, 68, 67, 68, 69, 68, 67], [0, 3, 4, 5, 6, 8, 9, 8, 7, 8, 7, 13, 14, 13, 19, 20, 19, 20, 21, 22, 21, 20, 21, 20, 21, 22, 21, 20, 21, 22, 21, 20, 21, 23, 22, 23, 24, 28, 32, 33, 34, 38, 39, 40, 41, 42, 47, 49, 48, 49, 50, 51, 56, 55, 54, 55, 54, 55, 54, 53, 52, 51, 50, 51, 52, 57, 58, 57, 56, 55, 56, 57, 56, 55, 56, 57, 56, 57, 56, 57, 56, 55, 56, 57, 63, 64, 63, 64, 65, 66, 65, 66, 67, 68, 67, 68, 67, 68, 69, 68, 67], [0, 3, 4, 5, 6, 8, 9, 8, 7, 8, 7, 13, 14, 13, 19, 20, 19, 20, 21, 22, 21, 20, 21, 20, 21, 22, 21, 20, 21, 22, 21, 20, 21, 23, 22, 23, 24, 28, 32, 33, 34, 38, 39, 40, 41, 42, 47, 49, 48, 49, 50, 51, 56, 55, 54, 55, 54, 55, 54, 53, 52, 51, 50, 51, 52, 57, 58, 57, 56, 55, 56, 57, 56, 55, 56, 57, 56, 57, 56, 57, 56, 55, 56, 57, 63, 64, 63, 64, 65, 66, 65, 66, 67, 68, 67, 68, 67, 68, 69, 68, 67], [0, 3, 4, 5, 6, 8, 9, 8, 7, 8, 7, 13, 14, 13, 19, 20, 19, 20, 21, 22, 21, 20, 21, 20, 21, 22, 21, 20, 21, 22, 21, 20, 21, 23, 22, 23, 24, 28, 32, 33, 34, 38, 39, 40, 41, 42, 47, 49, 48, 49, 50, 51, 56, 55, 54, 55, 54, 55, 54, 53, 52, 51, 50, 51, 52, 57, 58, 57, 56, 55, 56, 57, 56, 55, 56, 57, 56, 57, 56, 57, 56, 55, 56, 57, 63, 64, 63, 64, 65, 66, 65, 66, 67, 68, 67, 68, 67, 68, 69, 68, 67], [0, 3, 4, 5, 6, 8, 9, 8, 7, 8, 7, 13, 14, 13, 19, 20, 19, 20, 21, 22, 21, 20, 21, 20, 21, 22, 21, 20, 21, 22, 21, 20, 21, 23, 22, 23, 24, 28, 32, 33, 34, 38, 39, 40, 41, 42, 47, 49, 48, 49, 50, 51, 56, 55, 54, 55, 54, 55, 54, 53, 52, 51, 50, 51, 52, 57, 58, 57, 56, 55, 56, 57, 56, 55, 56, 57, 56, 57, 56, 57, 56, 55, 56, 57, 63, 64, 63, 64, 65, 66, 65, 66, 67, 68, 67, 68, 67, 68, 69, 68, 67], [0, 3, 4, 5, 6, 8, 9, 8, 7, 8, 7, 13, 14, 13, 19, 20, 19, 20, 21, 22, 21, 20, 21, 20, 21, 22, 21, 20, 21, 22, 21, 20, 21, 23, 22, 23, 24, 28, 32, 33, 34, 38, 39, 40, 41, 42, 47, 49, 48, 49, 50, 51, 56, 55, 54, 55, 54, 55, 54, 53, 52, 51, 50, 51, 52, 57, 58, 57, 56, 55, 56, 57, 56, 55, 56, 57, 56, 57, 56, 57, 56, 55, 56, 57, 63, 64, 63, 64, 65, 66, 65, 66, 67, 68, 67, 68, 67, 68, 69, 68, 67], [0, 3, 4, 5, 6, 8, 9, 8, 7, 8, 7, 13, 14, 13, 19, 20, 19, 20, 21, 22, 21, 20, 21, 20, 21, 22, 21, 20, 21, 22, 21, 20, 21, 23, 22, 23, 24, 28, 32, 33, 34, 38, 39, 40, 41, 42, 47, 49, 48, 49, 50, 51, 56, 55, 54, 55, 54, 55, 54, 53, 52, 51, 50, 51, 52, 57, 58, 57, 56, 55, 56, 57, 56, 55, 56, 57, 56, 57, 56, 57, 56, 55, 56, 57, 63, 64, 63, 64, 65, 66, 65, 66, 67, 68, 67, 68, 67, 68, 69, 68, 67], [0, 3, 4, 5, 6, 8, 9, 8, 7, 8, 7, 13, 14, 13, 19, 20, 19, 20, 21, 22, 21, 20, 21, 20, 21, 22, 21, 20, 21, 22, 21, 20, 21, 23, 22, 23, 24, 28, 32, 33, 34, 38, 39, 40, 41, 42, 47, 49, 48, 49, 50, 51, 56, 55, 54, 55, 54, 55, 54, 53, 52, 51, 50, 51, 52, 57, 58, 57, 56, 55, 56, 57, 56, 55, 56, 57, 56, 57, 56, 57, 56, 55, 56, 57, 63, 64, 63, 64, 65, 66, 65, 66, 67, 68, 67, 68, 67, 68, 69, 68, 67], [0, 3, 4, 5, 6, 8, 9, 8, 7, 8, 7, 13, 14, 13, 19, 20, 19, 20, 21, 22, 21, 20, 21, 20, 21, 22, 21, 20, 21, 22, 21, 20, 21, 23, 22, 23, 24, 28, 32, 33, 34, 38, 39, 40, 41, 42, 47, 49, 48, 49, 50, 51, 56, 55, 54, 55, 54, 55, 54, 53, 52, 51, 50, 51, 52, 57, 58, 57, 56, 55, 56, 57, 56, 55, 56, 57, 56, 57, 56, 57, 56, 55, 56, 57, 63, 64, 63, 64, 65, 66, 65, 66, 67, 68, 67, 68, 67, 68, 69, 68, 67], [0, 3, 4, 5, 6, 8, 9, 8, 7, 8, 7, 13, 14, 13, 19, 20, 19, 20, 21, 22, 21, 20, 21, 20, 21, 22, 21, 20, 21, 22, 21, 20, 21, 23, 22, 23, 24, 28, 32, 33, 34, 38, 39, 40, 41, 42, 47, 49, 48, 49, 50, 51, 56, 55, 54, 55, 54, 55, 54, 53, 52, 51, 50, 51, 52, 57, 58, 57, 56, 55, 56, 57, 56, 55, 56, 57, 56, 57, 56, 57, 56, 55, 56, 57, 63, 64, 63, 64, 65, 66, 65, 66, 67, 68, 67, 68, 67, 68, 69, 68, 67], [0, 3, 4, 5, 6, 8, 9, 8, 7, 8, 7, 13, 14, 13, 19, 20, 19, 20, 21, 22, 21, 20, 21, 20, 21, 22, 21, 20, 21, 22, 21, 20, 21, 23, 22, 23, 24, 28, 32, 33, 34, 38, 39, 40, 41, 42, 47, 49, 48, 49, 50, 51, 56, 55, 54, 55, 54, 55, 54, 53, 52, 51, 50, 51, 52, 57, 58, 57, 56, 55, 56, 57, 56, 55, 56, 57, 56, 57, 56, 57, 56, 55, 56, 57, 63, 64, 63, 64, 65, 66, 65, 66, 67, 68, 67, 68, 67, 68, 69, 68, 67], [0, 4, 3, 4, 3, 4, 3, 2, 3, 4, 3, 4, 5, 6, 5, 4, 5, 6, 5, 6, 5, 11, 12, 13, 14, 15, 16, 17, 18, 19, 18, 19, 20, 22, 23, 24, 25, 24, 23, 24, 23, 24, 25, 24, 25, 24, 23, 24, 25, 31, 30, 29, 35, 34, 36, 37, 38, 39, 40, 42, 43, 42, 41, 42, 43, 44, 43, 42, 41, 40, 43, 42, 43, 42, 43, 47, 49, 48, 49, 50, 54, 53, 52, 51, 52, 53, 54, 53, 52, 53, 52, 53, 52, 53, 52, 53, 54, 57, 58, 59, 62], [0, 4, 3, 4, 3, 4, 3, 2, 3, 4, 3, 4, 5, 6, 5, 4, 5, 6, 5, 6, 5, 11, 12, 13, 14, 15, 16, 17, 18, 19, 18, 19, 20, 22, 23, 24, 25, 24, 23, 24, 23, 24, 25, 24, 25, 24, 23, 24, 25, 31, 30, 29, 35, 34, 36, 37, 38, 39, 40, 42, 43, 42, 41, 42, 43, 44, 43, 42, 41, 40, 43, 42, 43, 42, 43, 47, 49, 48, 49, 50, 54, 53, 52, 51, 52, 53, 54, 53, 52, 53, 52, 53, 52, 53, 52, 53, 54, 57, 58, 59, 62], [0, 4, 3, 4, 3, 4, 3, 2, 3, 4, 3, 4, 5, 6, 5, 4, 5, 6, 5, 6, 5, 11, 12, 13, 14, 15, 16, 17, 18, 19, 18, 19, 20, 22, 23, 24, 25, 24, 23, 24, 23, 24, 25, 24, 25, 24, 23, 24, 25, 31, 30, 29, 35, 34, 36, 37, 38, 39, 40, 42, 43, 42, 41, 42, 43, 44, 43, 42, 41, 40, 43, 42, 43, 42, 43, 47, 49, 48, 49, 50, 54, 53, 52, 51, 52, 53, 54, 53, 52, 53, 52, 53, 52, 53, 52, 53, 54, 57, 58, 59, 62], [0, 4, 3, 4, 3, 4, 3, 2, 3, 4, 3, 4, 5, 6, 5, 4, 5, 6, 5, 6, 5, 11, 12, 13, 14, 15, 16, 17, 18, 19, 18, 19, 20, 22, 23, 24, 25, 24, 23, 24, 23, 24, 25, 24, 25, 24, 23, 24, 25, 31, 30, 29, 35, 34, 36, 37, 38, 39, 40, 42, 43, 42, 41, 42, 43, 44, 43, 42, 41, 40, 43, 42, 43, 42, 43, 47, 49, 48, 49, 50, 54, 53, 52, 51, 52, 53, 54, 53, 52, 53, 52, 53, 52, 53, 52, 53, 54, 57, 58, 59, 62], [0, 4, 3, 4, 3, 4, 3, 2, 3, 4, 3, 4, 5, 6, 5, 4, 5, 6, 5, 6, 5, 11, 12, 13, 14, 15, 16, 17, 18, 19, 18, 19, 20, 22, 23, 24, 25, 24, 23, 24, 23, 24, 25, 24, 25, 24, 23, 24, 25, 31, 30, 29, 35, 34, 36, 37, 38, 39, 40, 42, 43, 42, 41, 42, 43, 44, 43, 42, 41, 40, 43, 42, 43, 42, 43, 47, 49, 48, 49, 50, 54, 53, 52, 51, 52, 53, 54, 53, 52, 53, 52, 53, 52, 53, 52, 53, 54, 57, 58, 59, 62], [0, 4, 3, 4, 3, 4, 3, 2, 3, 4, 3, 4, 5, 6, 5, 4, 5, 6, 5, 6, 5, 11, 12, 13, 14, 15, 16, 17, 18, 19, 18, 19, 20, 22, 23, 24, 25, 24, 23, 24, 23, 24, 25, 24, 25, 24, 23, 24, 25, 31, 30, 29, 35, 34, 36, 37, 38, 39, 40, 42, 43, 42, 41, 42, 43, 44, 43, 42, 41, 40, 43, 42, 43, 42, 43, 47, 49, 48, 49, 50, 54, 53, 52, 51, 52, 53, 54, 53, 52, 53, 52, 53, 52, 53, 52, 53, 54, 57, 58, 59, 62], [0, 4, 3, 4, 3, 4, 3, 2, 3, 4, 3, 4, 5, 6, 5, 4, 5, 6, 5, 6, 5, 11, 12, 13, 14, 15, 16, 17, 18, 19, 18, 19, 20, 22, 23, 24, 25, 24, 23, 24, 23, 24, 25, 24, 25, 24, 23, 24, 25, 31, 30, 29, 35, 34, 36, 37, 38, 39, 40, 42, 43, 42, 41, 42, 43, 44, 43, 42, 41, 40, 43, 42, 43, 42, 43, 47, 49, 48, 49, 50, 54, 53, 52, 51, 52, 53, 54, 53, 52, 53, 52, 53, 52, 53, 52, 53, 54, 57, 58, 59, 62], [0, 4, 3, 4, 3, 4, 3, 2, 3, 4, 3, 4, 5, 6, 5, 4, 5, 6, 5, 6, 5, 11, 12, 13, 14, 15, 16, 17, 18, 19, 18, 19, 20, 22, 23, 24, 25, 24, 23, 24, 23, 24, 25, 24, 25, 24, 23, 24, 25, 31, 30, 29, 35, 34, 36, 37, 38, 39, 40, 42, 43, 42, 41, 42, 43, 44, 43, 42, 41, 40, 43, 42, 43, 42, 43, 47, 49, 48, 49, 50, 54, 53, 52, 51, 52, 53, 54, 53, 52, 53, 52, 53, 52, 53, 52, 53, 54, 57, 58, 59, 62], [0, 4, 3, 4, 3, 4, 3, 2, 3, 4, 3, 4, 5, 6, 5, 4, 5, 6, 5, 6, 5, 11, 12, 13, 14, 15, 16, 17, 18, 19, 18, 19, 20, 22, 23, 24, 25, 24, 23, 24, 23, 24, 25, 24, 25, 24, 23, 24, 25, 31, 30, 29, 35, 34, 36, 37, 38, 39, 40, 42, 43, 42, 41, 42, 43, 44, 43, 42, 41, 40, 43, 42, 43, 42, 43, 47, 49, 48, 49, 50, 54, 53, 52, 51, 52, 53, 54, 53, 52, 53, 52, 53, 52, 53, 52, 53, 54, 57, 58, 59, 62], [0, 4, 3, 4, 3, 4, 3, 2, 3, 4, 3, 4, 5, 6, 5, 4, 5, 6, 5, 6, 5, 11, 12, 13, 14, 15, 16, 17, 18, 19, 18, 19, 20, 22, 23, 24, 25, 24, 23, 24, 23, 24, 25, 24, 25, 24, 23, 24, 25, 31, 30, 29, 35, 34, 36, 37, 38, 39, 40, 42, 43, 42, 41, 42, 43, 44, 43, 42, 41, 40, 43, 42, 43, 42, 43, 47, 49, 48, 49, 50, 54, 53, 52, 51, 52, 53, 54, 53, 52, 53, 52, 53, 52, 53, 52, 53, 54, 57, 58, 59, 62], [0, 4, 3, 4, 3, 4, 3, 2, 3, 4, 3, 4, 5, 6, 5, 4, 5, 6, 5, 6, 5, 11, 12, 13, 14, 15, 16, 17, 18, 19, 18, 19, 20, 22, 23, 24, 25, 24, 23, 24, 23, 24, 25, 24, 25, 24, 23, 24, 25, 31, 30, 29, 35, 34, 36, 37, 38, 39, 40, 42, 43, 42, 41, 42, 43, 44, 43, 42, 41, 40, 43, 42, 43, 42, 43, 47, 49, 48, 49, 50, 54, 53, 52, 51, 52, 53, 54, 53, 52, 53, 52, 53, 52, 53, 52, 53, 54, 57, 58, 59, 62], [0, 4, 3, 4, 3, 4, 3, 2, 3, 4, 3, 4, 5, 6, 5, 4, 5, 6, 5, 6, 5, 11, 12, 13, 14, 15, 16, 17, 18, 19, 18, 19, 20, 22, 23, 24, 25, 24, 23, 24, 23, 24, 25, 24, 25, 24, 23, 24, 25, 31, 30, 29, 35, 34, 36, 37, 38, 39, 40, 42, 43, 42, 41, 42, 43, 44, 43, 42, 41, 40, 43, 42, 43, 42, 43, 47, 49, 48, 49, 50, 54, 53, 52, 51, 52, 53, 54, 53, 52, 53, 52, 53, 52, 53, 52, 53, 54, 57, 58, 59, 62], [0, 4, 3, 4, 3, 4, 3, 2, 3, 4, 3, 4, 5, 6, 5, 4, 5, 6, 5, 6, 5, 11, 12, 13, 14, 15, 16, 17, 18, 19, 18, 19, 20, 22, 23, 24, 25, 24, 23, 24, 23, 24, 25, 24, 25, 24, 23, 24, 25, 31, 30, 29, 35, 34, 36, 37, 38, 39, 40, 42, 43, 42, 41, 42, 43, 44, 43, 42, 41, 40, 43, 42, 43, 42, 43, 47, 49, 48, 49, 50, 54, 53, 52, 51, 52, 53, 54, 53, 52, 53, 52, 53, 52, 53, 52, 53, 54, 57, 58, 59, 62], [0, 4, 3, 4, 3, 4, 3, 2, 3, 4, 3, 4, 5, 6, 5, 4, 5, 6, 5, 6, 5, 11, 12, 13, 14, 15, 16, 17, 18, 19, 18, 19, 20, 22, 23, 24, 25, 24, 23, 24, 23, 24, 25, 24, 25, 24, 23, 24, 25, 31, 30, 29, 35, 34, 36, 37, 38, 39, 40, 42, 43, 42, 41, 42, 43, 44, 43, 42, 41, 40, 43, 42, 43, 42, 43, 47, 49, 48, 49, 50, 54, 53, 52, 51, 52, 53, 54, 53, 52, 53, 52, 53, 52, 53, 52, 53, 54, 57, 58, 59, 62], [0, 4, 3, 4, 3, 4, 3, 2, 3, 4, 3, 4, 5, 6, 5, 4, 5, 6, 5, 6, 5, 11, 12, 13, 14, 15, 16, 17, 18, 19, 18, 19, 20, 22, 23, 24, 25, 24, 23, 24, 23, 24, 25, 24, 25, 24, 23, 24, 25, 31, 30, 29, 35, 34, 36, 37, 38, 39, 40, 42, 43, 42, 41, 42, 43, 44, 43, 42, 41, 40, 43, 42, 43, 42, 43, 47, 49, 48, 49, 50, 54, 53, 52, 51, 52, 53, 54, 53, 52, 53, 52, 53, 52, 53, 52, 53, 54, 57, 58, 59, 62], [0, 4, 3, 4, 3, 4, 3, 2, 3, 4, 3, 4, 5, 6, 5, 4, 5, 6, 5, 6, 5, 11, 12, 13, 14, 15, 16, 17, 18, 19, 18, 19, 20, 22, 23, 24, 25, 24, 23, 24, 23, 24, 25, 24, 25, 24, 23, 24, 25, 31, 30, 29, 35, 34, 36, 37, 38, 39, 40, 42, 43, 42, 41, 42, 43, 44, 43, 42, 41, 40, 43, 42, 43, 42, 43, 47, 49, 48, 49, 50, 54, 53, 52, 51, 52, 53, 54, 53, 52, 53, 52, 53, 52, 53, 52, 53, 54, 57, 58, 59, 62], [0, 4, 3, 4, 3, 4, 3, 2, 3, 4, 3, 4, 5, 6, 5, 4, 5, 6, 5, 6, 5, 11, 12, 13, 14, 15, 16, 17, 18, 19, 18, 19, 20, 22, 23, 24, 25, 24, 23, 24, 23, 24, 25, 24, 25, 24, 23, 24, 25, 31, 30, 29, 35, 34, 36, 37, 38, 39, 40, 42, 43, 42, 41, 42, 43, 44, 43, 42, 41, 40, 43, 42, 43, 42, 43, 47, 49, 48, 49, 50, 54, 53, 52, 51, 52, 53, 54, 53, 52, 53, 52, 53, 52, 53, 52, 53, 54, 57, 58, 59, 62], [0, 4, 3, 4, 3, 4, 3, 2, 3, 4, 3, 4, 5, 6, 5, 4, 5, 6, 5, 6, 5, 11, 12, 13, 14, 15, 16, 17, 18, 19, 18, 19, 20, 22, 23, 24, 25, 24, 23, 24, 23, 24, 25, 24, 25, 24, 23, 24, 25, 31, 30, 29, 35, 34, 36, 37, 38, 39, 40, 42, 43, 42, 41, 42, 43, 44, 43, 42, 41, 40, 43, 42, 43, 42, 43, 47, 49, 48, 49, 50, 54, 53, 52, 51, 52, 53, 54, 53, 52, 53, 52, 53, 52, 53, 52, 53, 54, 57, 58, 59, 62], [0, 4, 3, 4, 3, 4, 3, 2, 3, 4, 3, 4, 5, 6, 5, 4, 5, 6, 5, 6, 5, 11, 12, 13, 14, 15, 16, 17, 18, 19, 18, 19, 20, 22, 23, 24, 25, 24, 23, 24, 23, 24, 25, 24, 25, 24, 23, 24, 25, 31, 30, 29, 35, 34, 36, 37, 38, 39, 40, 42, 43, 42, 41, 42, 43, 44, 43, 42, 41, 40, 43, 42, 43, 42, 43, 47, 49, 48, 49, 50, 54, 53, 52, 51, 52, 53, 54, 53, 52, 53, 52, 53, 52, 53, 52, 53, 54, 57, 58, 59, 62], [0, 4, 3, 4, 3, 4, 3, 2, 3, 4, 3, 4, 5, 6, 5, 4, 5, 6, 5, 6, 5, 11, 12, 13, 14, 15, 16, 17, 18, 19, 18, 19, 20, 22, 23, 24, 25, 24, 23, 24, 23, 24, 25, 24, 25, 24, 23, 24, 25, 31, 30, 29, 35, 34, 36, 37, 38, 39, 40, 42, 43, 42, 41, 42, 43, 44, 43, 42, 41, 40, 43, 42, 43, 42, 43, 47, 49, 48, 49, 50, 54, 53, 52, 51, 52, 53, 54, 53, 52, 53, 52, 53, 52, 53, 52, 53, 54, 57, 58, 59, 62], [0, 4, 3, 4, 3, 4, 3, 2, 3, 4, 3, 4, 5, 6, 5, 4, 5, 6, 5, 6, 5, 11, 12, 13, 14, 15, 16, 17, 18, 19, 18, 19, 20, 22, 23, 24, 25, 24, 23, 24, 23, 24, 25, 24, 25, 24, 23, 24, 25, 31, 30, 29, 35, 34, 36, 37, 38, 39, 40, 42, 43, 42, 41, 42, 43, 44, 43, 42, 41, 40, 43, 42, 43, 42, 43, 47, 49, 48, 49, 50, 54, 53, 52, 51, 52, 53, 54, 53, 52, 53, 52, 53, 52, 53, 52, 53, 54, 57, 58, 59, 62], [0, 4, 3, 4, 3, 4, 3, 2, 3, 4, 3, 4, 5, 6, 5, 4, 5, 6, 5, 6, 5, 11, 12, 13, 14, 15, 16, 17, 18, 19, 18, 19, 20, 22, 23, 24, 25, 24, 23, 24, 23, 24, 25, 24, 25, 24, 23, 24, 25, 31, 30, 29, 35, 34, 36, 37, 38, 39, 40, 42, 43, 42, 41, 42, 43, 44, 43, 42, 41, 40, 43, 42, 43, 42, 43, 47, 49, 48, 49, 50, 54, 53, 52, 51, 52, 53, 54, 53, 52, 53, 52, 53, 52, 53, 52, 53, 54, 57, 58, 59, 62], [0, 4, 3, 4, 3, 4, 3, 2, 3, 4, 3, 4, 5, 6, 5, 4, 5, 6, 5, 6, 5, 11, 12, 13, 14, 15, 16, 17, 18, 19, 18, 19, 20, 22, 23, 24, 25, 24, 23, 24, 23, 24, 25, 24, 25, 24, 23, 24, 25, 31, 30, 29, 35, 34, 36, 37, 38, 39, 40, 42, 43, 42, 41, 42, 43, 44, 43, 42, 41, 40, 43, 42, 43, 42, 43, 47, 49, 48, 49, 50, 54, 53, 52, 51, 52, 53, 54, 53, 52, 53, 52, 53, 52, 53, 52, 53, 54, 57, 58, 59, 62], [0, 4, 3, 4, 3, 4, 3, 2, 3, 4, 3, 4, 5, 6, 5, 4, 5, 6, 5, 6, 5, 11, 12, 13, 14, 15, 16, 17, 18, 19, 18, 19, 20, 22, 23, 24, 25, 24, 23, 24, 23, 24, 25, 24, 25, 24, 23, 24, 25, 31, 30, 29, 35, 34, 36, 37, 38, 39, 40, 42, 43, 42, 41, 42, 43, 44, 43, 42, 41, 40, 43, 42, 43, 42, 43, 47, 49, 48, 49, 50, 54, 53, 52, 51, 52, 53, 54, 53, 52, 53, 52, 53, 52, 53, 52, 53, 54, 57, 58, 59, 62], [0, 4, 3, 4, 3, 4, 3, 2, 3, 4, 3, 4, 5, 6, 5, 4, 5, 6, 5, 6, 5, 11, 12, 13, 14, 15, 16, 17, 18, 19, 18, 19, 20, 22, 23, 24, 25, 24, 23, 24, 23, 24, 25, 24, 25, 24, 23, 24, 25, 31, 30, 29, 35, 34, 36, 37, 38, 39, 40, 42, 43, 42, 41, 42, 43, 44, 43, 42, 41, 40, 43, 42, 43, 42, 43, 47, 49, 48, 49, 50, 54, 53, 52, 51, 52, 53, 54, 53, 52, 53, 52, 53, 52, 53, 52, 53, 54, 57, 58, 59, 62], [0, 4, 3, 4, 3, 4, 3, 2, 3, 4, 3, 4, 5, 6, 5, 4, 5, 6, 5, 6, 5, 11, 12, 13, 14, 15, 16, 17, 18, 19, 18, 19, 20, 22, 23, 24, 25, 24, 23, 24, 23, 24, 25, 24, 25, 24, 23, 24, 25, 31, 30, 29, 35, 34, 36, 37, 38, 39, 40, 42, 43, 42, 41, 42, 43, 44, 43, 42, 41, 40, 43, 42, 43, 42, 43, 47, 49, 48, 49, 50, 54, 53, 52, 51, 52, 53, 54, 53, 52, 53, 52, 53, 52, 53, 52, 53, 54, 57, 58, 59, 62], [0, 4, 3, 4, 3, 4, 3, 2, 3, 4, 3, 4, 5, 6, 5, 4, 5, 6, 5, 6, 5, 11, 12, 13, 14, 15, 16, 17, 18, 19, 18, 19, 20, 22, 23, 24, 25, 24, 23, 24, 23, 24, 25, 24, 25, 24, 23, 24, 25, 31, 30, 29, 35, 34, 36, 37, 38, 39, 40, 42, 43, 42, 41, 42, 43, 44, 43, 42, 41, 40, 43, 42, 43, 42, 43, 47, 49, 48, 49, 50, 54, 53, 52, 51, 52, 53, 54, 53, 52, 53, 52, 53, 52, 53, 52, 53, 54, 57, 58, 59, 62], [0, 4, 3, 4, 3, 4, 3, 2, 3, 4, 3, 4, 5, 6, 5, 4, 5, 6, 5, 6, 5, 11, 12, 13, 14, 15, 16, 17, 18, 19, 18, 19, 20, 22, 23, 24, 25, 24, 23, 24, 23, 24, 25, 24, 25, 24, 23, 24, 25, 31, 30, 29, 35, 34, 36, 37, 38, 39, 40, 42, 43, 42, 41, 42, 43, 44, 43, 42, 41, 40, 43, 42, 43, 42, 43, 47, 49, 48, 49, 50, 54, 53, 52, 51, 52, 53, 54, 53, 52, 53, 52, 53, 52, 53, 52, 53, 54, 57, 58, 59, 62], [0, 4, 3, 4, 3, 4, 3, 2, 3, 4, 3, 4, 5, 6, 5, 4, 5, 6, 5, 6, 5, 11, 12, 13, 14, 15, 16, 17, 18, 19, 18, 19, 20, 22, 23, 24, 25, 24, 23, 24, 23, 24, 25, 24, 25, 24, 23, 24, 25, 31, 30, 29, 35, 34, 36, 37, 38, 39, 40, 42, 43, 42, 41, 42, 43, 44, 43, 42, 41, 40, 43, 42, 43, 42, 43, 47, 49, 48, 49, 50, 54, 53, 52, 51, 52, 53, 54, 53, 52, 53, 52, 53, 52, 53, 52, 53, 54, 57, 58, 59, 62], [0, 4, 3, 4, 3, 4, 3, 2, 3, 4, 3, 4, 5, 6, 5, 4, 5, 6, 5, 6, 5, 11, 12, 13, 14, 15, 16, 17, 18, 19, 18, 19, 20, 22, 23, 24, 25, 24, 23, 24, 23, 24, 25, 24, 25, 24, 23, 24, 25, 31, 30, 29, 35, 34, 36, 37, 38, 39, 40, 42, 43, 42, 41, 42, 43, 44, 43, 42, 41, 40, 43, 42, 43, 42, 43, 47, 49, 48, 49, 50, 54, 53, 52, 51, 52, 53, 54, 53, 52, 53, 52, 53, 52, 53, 52, 53, 54, 57, 58, 59, 62], [0, 4, 3, 4, 3, 4, 3, 2, 3, 4, 3, 4, 5, 6, 5, 4, 5, 6, 5, 6, 5, 11, 12, 13, 14, 15, 16, 17, 18, 19, 18, 19, 20, 22, 23, 24, 25, 24, 23, 24, 23, 24, 25, 24, 25, 24, 23, 24, 25, 31, 30, 29, 35, 34, 36, 37, 38, 39, 40, 42, 43, 42, 41, 42, 43, 44, 43, 42, 41, 40, 43, 42, 43, 42, 43, 47, 49, 48, 49, 50, 54, 53, 52, 51, 52, 53, 54, 53, 52, 53, 52, 53, 52, 53, 52, 53, 54, 57, 58, 59, 62], [0, 4, 3, 4, 3, 4, 3, 2, 3, 4, 3, 4, 5, 6, 5, 4, 5, 6, 5, 6, 5, 11, 12, 13, 14, 15, 16, 17, 18, 19, 18, 19, 20, 22, 23, 24, 25, 24, 23, 24, 23, 24, 25, 24, 25, 24, 23, 24, 25, 31, 30, 29, 35, 34, 36, 37, 38, 39, 40, 42, 43, 42, 41, 42, 43, 44, 43, 42, 41, 40, 43, 42, 43, 42, 43, 47, 49, 48, 49, 50, 54, 53, 52, 51, 52, 53, 54, 53, 52, 53, 52, 53, 52, 53, 52, 53, 54, 57, 58, 59, 62], [0, 4, 3, 4, 3, 4, 3, 2, 3, 4, 3, 4, 5, 6, 5, 4, 5, 6, 5, 6, 5, 11, 12, 13, 14, 15, 16, 17, 18, 19, 18, 19, 20, 22, 23, 24, 25, 24, 23, 24, 23, 24, 25, 24, 25, 24, 23, 24, 25, 31, 30, 29, 35, 34, 36, 37, 38, 39, 40, 42, 43, 42, 41, 42, 43, 44, 43, 42, 41, 40, 43, 42, 43, 42, 43, 47, 49, 48, 49, 50, 54, 53, 52, 51, 52, 53, 54, 53, 52, 53, 52, 53, 52, 53, 52, 53, 54, 57, 58, 59, 62], [0, 4, 3, 4, 3, 4, 3, 2, 3, 4, 3, 4, 5, 6, 5, 4, 5, 6, 5, 6, 5, 11, 12, 13, 14, 15, 16, 17, 18, 19, 18, 19, 20, 22, 23, 24, 25, 24, 23, 24, 23, 24, 25, 24, 25, 24, 23, 24, 25, 31, 30, 29, 35, 34, 36, 37, 38, 39, 40, 42, 43, 42, 41, 42, 43, 44, 43, 42, 41, 40, 43, 42, 43, 42, 43, 47, 49, 48, 49, 50, 54, 53, 52, 51, 52, 53, 54, 53, 52, 53, 52, 53, 52, 53, 52, 53, 54, 57, 58, 59, 62], [0, 4, 3, 4, 3, 4, 3, 2, 3, 4, 3, 4, 5, 6, 5, 4, 5, 6, 5, 6, 5, 11, 12, 13, 14, 15, 16, 17, 18, 19, 18, 19, 20, 22, 23, 24, 25, 24, 23, 24, 23, 24, 25, 24, 25, 24, 23, 24, 25, 31, 30, 29, 35, 34, 36, 37, 38, 39, 40, 42, 43, 42, 41, 42, 43, 44, 43, 42, 41, 40, 43, 42, 43, 42, 43, 47, 49, 48, 49, 50, 54, 53, 52, 51, 52, 53, 54, 53, 52, 53, 52, 53, 52, 53, 52, 53, 54, 57, 58, 59, 62], [0, 4, 3, 4, 3, 4, 3, 2, 3, 4, 3, 4, 5, 6, 5, 4, 5, 6, 5, 6, 5, 11, 12, 13, 14, 15, 16, 17, 18, 19, 18, 19, 20, 22, 23, 24, 25, 24, 23, 24, 23, 24, 25, 24, 25, 24, 23, 24, 25, 31, 30, 29, 35, 34, 36, 37, 38, 39, 40, 42, 43, 42, 41, 42, 43, 44, 43, 42, 41, 40, 43, 42, 43, 42, 43, 47, 49, 48, 49, 50, 54, 53, 52, 51, 52, 53, 54, 53, 52, 53, 52, 53, 52, 53, 52, 53, 54, 57, 58, 59, 62], [0, 4, 3, 4, 3, 4, 3, 2, 3, 4, 3, 4, 5, 6, 5, 4, 5, 6, 5, 6, 5, 11, 12, 13, 14, 15, 16, 17, 18, 19, 18, 19, 20, 22, 23, 24, 25, 24, 23, 24, 23, 24, 25, 24, 25, 24, 23, 24, 25, 31, 30, 29, 35, 34, 36, 37, 38, 39, 40, 42, 43, 42, 41, 42, 43, 44, 43, 42, 41, 40, 43, 42, 43, 42, 43, 47, 49, 48, 49, 50, 54, 53, 52, 51, 52, 53, 54, 53, 52, 53, 52, 53, 52, 53, 52, 53, 54, 57, 58, 59, 62], [0, 4, 3, 4, 3, 4, 3, 2, 3, 4, 3, 4, 5, 6, 5, 4, 5, 6, 5, 6, 5, 11, 12, 13, 14, 15, 16, 17, 18, 19, 18, 19, 20, 22, 23, 24, 25, 24, 23, 24, 23, 24, 25, 24, 25, 24, 23, 24, 25, 31, 30, 29, 35, 34, 36, 37, 38, 39, 40, 42, 43, 42, 41, 42, 43, 44, 43, 42, 41, 40, 43, 42, 43, 42, 43, 47, 49, 48, 49, 50, 54, 53, 52, 51, 52, 53, 54, 53, 52, 53, 52, 53, 52, 53, 52, 53, 54, 57, 58, 59, 62], [0, 4, 3, 4, 3, 4, 3, 2, 3, 4, 3, 4, 5, 6, 5, 4, 5, 6, 5, 6, 5, 11, 12, 13, 14, 15, 16, 17, 18, 19, 18, 19, 20, 22, 23, 24, 25, 24, 23, 24, 23, 24, 25, 24, 25, 24, 23, 24, 25, 31, 30, 29, 35, 34, 36, 37, 38, 39, 40, 42, 43, 42, 41, 42, 43, 44, 43, 42, 41, 40, 43, 42, 43, 42, 43, 47, 49, 48, 49, 50, 54, 53, 52, 51, 52, 53, 54, 53, 52, 53, 52, 53, 52, 53, 52, 53, 54, 57, 58, 59, 62], [0, 4, 3, 4, 3, 4, 3, 2, 3, 4, 3, 4, 5, 6, 5, 4, 5, 6, 5, 6, 5, 11, 12, 13, 14, 15, 16, 17, 18, 19, 18, 19, 20, 22, 23, 24, 25, 24, 23, 24, 23, 24, 25, 24, 25, 24, 23, 24, 25, 31, 30, 29, 35, 34, 36, 37, 38, 39, 40, 42, 43, 42, 41, 42, 43, 44, 43, 42, 41, 40, 43, 42, 43, 42, 43, 47, 49, 48, 49, 50, 54, 53, 52, 51, 52, 53, 54, 53, 52, 53, 52, 53, 52, 53, 52, 53, 54, 57, 58, 59, 62], [0, 4, 3, 4, 3, 4, 3, 2, 3, 4, 3, 4, 5, 6, 5, 4, 5, 6, 5, 6, 5, 11, 12, 13, 14, 15, 16, 17, 18, 19, 18, 19, 20, 22, 23, 24, 25, 24, 23, 24, 23, 24, 25, 24, 25, 24, 23, 24, 25, 31, 30, 29, 35, 34, 36, 37, 38, 39, 40, 42, 43, 42, 41, 42, 43, 44, 43, 42, 41, 40, 43, 42, 43, 42, 43, 47, 49, 48, 49, 50, 54, 53, 52, 51, 52, 53, 54, 53, 52, 53, 52, 53, 52, 53, 52, 53, 54, 57, 58, 59, 62], [0, 4, 3, 4, 3, 4, 3, 2, 3, 4, 3, 4, 5, 6, 5, 4, 5, 6, 5, 6, 5, 11, 12, 13, 14, 15, 16, 17, 18, 19, 18, 19, 20, 22, 23, 24, 25, 24, 23, 24, 23, 24, 25, 24, 25, 24, 23, 24, 25, 31, 30, 29, 35, 34, 36, 37, 38, 39, 40, 42, 43, 42, 41, 42, 43, 44, 43, 42, 41, 40, 43, 42, 43, 42, 43, 47, 49, 48, 49, 50, 54, 53, 52, 51, 52, 53, 54, 53, 52, 53, 52, 53, 52, 53, 52, 53, 54, 57, 58, 59, 62], [0, 4, 3, 4, 3, 4, 3, 2, 3, 4, 3, 4, 5, 6, 5, 4, 5, 6, 5, 6, 5, 11, 12, 13, 14, 15, 16, 17, 18, 19, 18, 19, 20, 22, 23, 24, 25, 24, 23, 24, 23, 24, 25, 24, 25, 24, 23, 24, 25, 31, 30, 29, 35, 34, 36, 37, 38, 39, 40, 42, 43, 42, 41, 42, 43, 44, 43, 42, 41, 40, 43, 42, 43, 42, 43, 47, 49, 48, 49, 50, 54, 53, 52, 51, 52, 53, 54, 53, 52, 53, 52, 53, 52, 53, 52, 53, 54, 57, 58, 59, 62], [0, 4, 3, 4, 3, 4, 3, 2, 3, 4, 3, 4, 5, 6, 5, 4, 5, 6, 5, 6, 5, 11, 12, 13, 14, 15, 16, 17, 18, 19, 18, 19, 20, 22, 23, 24, 25, 24, 23, 24, 23, 24, 25, 24, 25, 24, 23, 24, 25, 31, 30, 29, 35, 34, 36, 37, 38, 39, 40, 42, 43, 42, 41, 42, 43, 44, 43, 42, 41, 40, 43, 42, 43, 42, 43, 47, 49, 48, 49, 50, 54, 53, 52, 51, 52, 53, 54, 53, 52, 53, 52, 53, 52, 53, 52, 53, 54, 57, 58, 59, 62], [0, 4, 3, 4, 3, 4, 3, 2, 3, 4, 3, 4, 5, 6, 5, 4, 5, 6, 5, 6, 5, 11, 12, 13, 14, 15, 16, 17, 18, 19, 18, 19, 20, 22, 23, 24, 25, 24, 23, 24, 23, 24, 25, 24, 25, 24, 23, 24, 25, 31, 30, 29, 35, 34, 36, 37, 38, 39, 40, 42, 43, 42, 41, 42, 43, 44, 43, 42, 41, 40, 43, 42, 43, 42, 43, 47, 49, 48, 49, 50, 54, 53, 52, 51, 52, 53, 54, 53, 52, 53, 52, 53, 52, 53, 52, 53, 54, 57, 58, 59, 62], [0, 4, 3, 4, 3, 4, 3, 2, 3, 4, 3, 4, 5, 6, 5, 4, 5, 6, 5, 6, 5, 11, 12, 13, 14, 15, 16, 17, 18, 19, 18, 19, 20, 22, 23, 24, 25, 24, 23, 24, 23, 24, 25, 24, 25, 24, 23, 24, 25, 31, 30, 29, 35, 34, 36, 37, 38, 39, 40, 42, 43, 42, 41, 42, 43, 44, 43, 42, 41, 40, 43, 42, 43, 42, 43, 47, 49, 48, 49, 50, 54, 53, 52, 51, 52, 53, 54, 53, 52, 53, 52, 53, 52, 53, 52, 53, 54, 57, 58, 59, 62], [0, 4, 3, 4, 3, 4, 3, 2, 3, 4, 3, 4, 5, 6, 5, 4, 5, 6, 5, 6, 5, 11, 12, 13, 14, 15, 16, 17, 18, 19, 18, 19, 20, 22, 23, 24, 25, 24, 23, 24, 23, 24, 25, 24, 25, 24, 23, 24, 25, 31, 30, 29, 35, 34, 36, 37, 38, 39, 40, 42, 43, 42, 41, 42, 43, 44, 43, 42, 41, 40, 43, 42, 43, 42, 43, 47, 49, 48, 49, 50, 54, 53, 52, 51, 52, 53, 54, 53, 52, 53, 52, 53, 52, 53, 52, 53, 54, 57, 58, 59, 62], [0, 4, 3, 4, 3, 4, 3, 2, 3, 4, 3, 4, 5, 6, 5, 4, 5, 6, 5, 6, 5, 11, 12, 13, 14, 15, 16, 17, 18, 19, 18, 19, 20, 22, 23, 24, 25, 24, 23, 24, 23, 24, 25, 24, 25, 24, 23, 24, 25, 31, 30, 29, 35, 34, 36, 37, 38, 39, 40, 42, 43, 42, 41, 42, 43, 44, 43, 42, 41, 40, 43, 42, 43, 42, 43, 47, 49, 48, 49, 50, 54, 53, 52, 51, 52, 53, 54, 53, 52, 53, 52, 53, 52, 53, 52, 53, 54, 57, 58, 59, 62], [0, 4, 3, 4, 3, 4, 3, 2, 3, 4, 3, 4, 5, 6, 5, 4, 5, 6, 5, 6, 5, 11, 12, 13, 14, 15, 16, 17, 18, 19, 18, 19, 20, 22, 23, 24, 25, 24, 23, 24, 23, 24, 25, 24, 25, 24, 23, 24, 25, 31, 30, 29, 35, 34, 36, 37, 38, 39, 40, 42, 43, 42, 41, 42, 43, 44, 43, 42, 41, 40, 43, 42, 43, 42, 43, 47, 49, 48, 49, 50, 54, 53, 52, 51, 52, 53, 54, 53, 52, 53, 52, 53, 52, 53, 52, 53, 54, 57, 58, 59, 62], [0, 4, 3, 4, 3, 4, 3, 2, 3, 4, 3, 4, 5, 6, 5, 4, 5, 6, 5, 6, 5, 11, 12, 13, 14, 15, 16, 17, 18, 19, 18, 19, 20, 22, 23, 24, 25, 24, 23, 24, 23, 24, 25, 24, 25, 24, 23, 24, 25, 31, 30, 29, 35, 34, 36, 37, 38, 39, 40, 42, 43, 42, 41, 42, 43, 44, 43, 42, 41, 40, 43, 42, 43, 42, 43, 47, 49, 48, 49, 50, 54, 53, 52, 51, 52, 53, 54, 53, 52, 53, 52, 53, 52, 53, 52, 53, 54, 57, 58, 59, 62], [0, 4, 3, 4, 3, 4, 3, 2, 3, 4, 3, 4, 5, 6, 5, 4, 5, 6, 5, 6, 5, 11, 12, 13, 14, 15, 16, 17, 18, 19, 18, 19, 20, 22, 23, 24, 25, 24, 23, 24, 23, 24, 25, 24, 25, 24, 23, 24, 25, 31, 30, 29, 35, 34, 36, 37, 38, 39, 40, 42, 43, 42, 41, 42, 43, 44, 43, 42, 41, 40, 43, 42, 43, 42, 43, 47, 49, 48, 49, 50, 54, 53, 52, 51, 52, 53, 54, 53, 52, 53, 52, 53, 52, 53, 52, 53, 54, 57, 58, 59, 62], [0, 4, 3, 4, 3, 4, 3, 2, 3, 4, 3, 4, 5, 6, 5, 4, 5, 6, 5, 6, 5, 11, 12, 13, 14, 15, 16, 17, 18, 19, 18, 19, 20, 22, 23, 24, 25, 24, 23, 24, 23, 24, 25, 24, 25, 24, 23, 24, 25, 31, 30, 29, 35, 34, 36, 37, 38, 39, 40, 42, 43, 42, 41, 42, 43, 44, 43, 42, 41, 40, 43, 42, 43, 42, 43, 47, 49, 48, 49, 50, 54, 53, 52, 51, 52, 53, 54, 53, 52, 53, 52, 53, 52, 53, 52, 53, 54, 57, 58, 59, 62], [0, 4, 3, 4, 3, 4, 3, 2, 3, 4, 3, 4, 5, 6, 5, 4, 5, 6, 5, 6, 5, 11, 12, 13, 14, 15, 16, 17, 18, 19, 18, 19, 20, 22, 23, 24, 25, 24, 23, 24, 23, 24, 25, 24, 25, 24, 23, 24, 25, 31, 30, 29, 35, 34, 36, 37, 38, 39, 40, 42, 43, 42, 41, 42, 43, 44, 43, 42, 41, 40, 43, 42, 43, 42, 43, 47, 49, 48, 49, 50, 54, 53, 52, 51, 52, 53, 54, 53, 52, 53, 52, 53, 52, 53, 52, 53, 54, 57, 58, 59, 62], [0, 4, 3, 4, 3, 4, 3, 2, 3, 4, 3, 4, 5, 6, 5, 4, 5, 6, 5, 6, 5, 11, 12, 13, 14, 15, 16, 17, 18, 19, 18, 19, 20, 22, 23, 24, 25, 24, 23, 24, 23, 24, 25, 24, 25, 24, 23, 24, 25, 31, 30, 29, 35, 34, 36, 37, 38, 39, 40, 42, 43, 42, 41, 42, 43, 44, 43, 42, 41, 40, 43, 42, 43, 42, 43, 47, 49, 48, 49, 50, 54, 53, 52, 51, 52, 53, 54, 53, 52, 53, 52, 53, 52, 53, 52, 53, 54, 57, 58, 59, 62], [0, 4, 3, 4, 3, 4, 3, 2, 3, 4, 3, 4, 5, 6, 5, 4, 5, 6, 5, 6, 5, 11, 12, 13, 14, 15, 16, 17, 18, 19, 18, 19, 20, 22, 23, 24, 25, 24, 23, 24, 23, 24, 25, 24, 25, 24, 23, 24, 25, 31, 30, 29, 35, 34, 36, 37, 38, 39, 40, 42, 43, 42, 41, 42, 43, 44, 43, 42, 41, 40, 43, 42, 43, 42, 43, 47, 49, 48, 49, 50, 54, 53, 52, 51, 52, 53, 54, 53, 52, 53, 52, 53, 52, 53, 52, 53, 54, 57, 58, 59, 62], [0, 4, 3, 4, 3, 4, 3, 2, 3, 4, 3, 4, 5, 6, 5, 4, 5, 6, 5, 6, 5, 11, 12, 13, 14, 15, 16, 17, 18, 19, 18, 19, 20, 22, 23, 24, 25, 24, 23, 24, 23, 24, 25, 24, 25, 24, 23, 24, 25, 31, 30, 29, 35, 34, 36, 37, 38, 39, 40, 42, 43, 42, 41, 42, 43, 44, 43, 42, 41, 40, 43, 42, 43, 42, 43, 47, 49, 48, 49, 50, 54, 53, 52, 51, 52, 53, 54, 53, 52, 53, 52, 53, 52, 53, 52, 53, 54, 57, 58, 59, 62], [0, 4, 3, 4, 3, 4, 3, 2, 3, 4, 3, 4, 5, 6, 5, 4, 5, 6, 5, 6, 5, 11, 12, 13, 14, 15, 16, 17, 18, 19, 18, 19, 20, 22, 23, 24, 25, 24, 23, 24, 23, 24, 25, 24, 25, 24, 23, 24, 25, 31, 30, 29, 35, 34, 36, 37, 38, 39, 40, 42, 43, 42, 41, 42, 43, 44, 43, 42, 41, 40, 43, 42, 43, 42, 43, 47, 49, 48, 49, 50, 54, 53, 52, 51, 52, 53, 54, 53, 52, 53, 52, 53, 52, 53, 52, 53, 54, 57, 58, 59, 62], [0, 4, 3, 4, 3, 4, 3, 2, 3, 4, 3, 4, 5, 6, 5, 4, 5, 6, 5, 6, 5, 11, 12, 13, 14, 15, 16, 17, 18, 19, 18, 19, 20, 22, 23, 24, 25, 24, 23, 24, 23, 24, 25, 24, 25, 24, 23, 24, 25, 31, 30, 29, 35, 34, 36, 37, 38, 39, 40, 42, 43, 42, 41, 42, 43, 44, 43, 42, 41, 40, 43, 42, 43, 42, 43, 47, 49, 48, 49, 50, 54, 53, 52, 51, 52, 53, 54, 53, 52, 53, 52, 53, 52, 53, 52, 53, 54, 57, 58, 59, 62], [0, 4, 3, 4, 3, 4, 3, 2, 3, 4, 3, 4, 5, 6, 5, 4, 5, 6, 5, 6, 5, 11, 12, 13, 14, 15, 16, 17, 18, 19, 18, 19, 20, 22, 23, 24, 25, 24, 23, 24, 23, 24, 25, 24, 25, 24, 23, 24, 25, 31, 30, 29, 35, 34, 36, 37, 38, 39, 40, 42, 43, 42, 41, 42, 43, 44, 43, 42, 41, 40, 43, 42, 43, 42, 43, 47, 49, 48, 49, 50, 54, 53, 52, 51, 52, 53, 54, 53, 52, 53, 52, 53, 52, 53, 52, 53, 54, 57, 58, 59, 62], [0, 4, 3, 4, 3, 4, 3, 2, 3, 4, 3, 4, 5, 6, 5, 4, 5, 6, 5, 6, 5, 11, 12, 13, 14, 15, 16, 17, 18, 19, 18, 19, 20, 22, 23, 24, 25, 24, 23, 24, 23, 24, 25, 24, 25, 24, 23, 24, 25, 31, 30, 29, 35, 34, 36, 37, 38, 39, 40, 42, 43, 42, 41, 42, 43, 44, 43, 42, 41, 40, 43, 42, 43, 42, 43, 47, 49, 48, 49, 50, 54, 53, 52, 51, 52, 53, 54, 53, 52, 53, 52, 53, 52, 53, 52, 53, 54, 57, 58, 59, 62], [0, 4, 3, 4, 3, 4, 3, 2, 3, 4, 3, 4, 5, 6, 5, 4, 5, 6, 5, 6, 5, 11, 12, 13, 14, 15, 16, 17, 18, 19, 18, 19, 20, 22, 23, 24, 25, 24, 23, 24, 23, 24, 25, 24, 25, 24, 23, 24, 25, 31, 30, 29, 35, 34, 36, 37, 38, 39, 40, 42, 43, 42, 41, 42, 43, 44, 43, 42, 41, 40, 43, 42, 43, 42, 43, 47, 49, 48, 49, 50, 54, 53, 52, 51, 52, 53, 54, 53, 52, 53, 52, 53, 52, 53, 52, 53, 54, 57, 58, 59, 62], [0, 4, 3, 4, 3, 4, 3, 2, 3, 4, 3, 4, 5, 6, 5, 4, 5, 6, 5, 6, 5, 11, 12, 13, 14, 15, 16, 17, 18, 19, 18, 19, 20, 22, 23, 24, 25, 24, 23, 24, 23, 24, 25, 24, 25, 24, 23, 24, 25, 31, 30, 29, 35, 34, 36, 37, 38, 39, 40, 42, 43, 42, 41, 42, 43, 44, 43, 42, 41, 40, 43, 42, 43, 42, 43, 47, 49, 48, 49, 50, 54, 53, 52, 51, 52, 53, 54, 53, 52, 53, 52, 53, 52, 53, 52, 53, 54, 57, 58, 59, 62], [0, 4, 3, 4, 3, 4, 3, 2, 3, 4, 3, 4, 5, 6, 5, 4, 5, 6, 5, 6, 5, 11, 12, 13, 14, 15, 16, 17, 18, 19, 18, 19, 20, 22, 23, 24, 25, 24, 23, 24, 23, 24, 25, 24, 25, 24, 23, 24, 25, 31, 30, 29, 35, 34, 36, 37, 38, 39, 40, 42, 43, 42, 41, 42, 43, 44, 43, 42, 41, 40, 43, 42, 43, 42, 43, 47, 49, 48, 49, 50, 54, 53, 52, 51, 52, 53, 54, 53, 52, 53, 52, 53, 52, 53, 52, 53, 54, 57, 58, 59, 62], [0, 4, 3, 4, 3, 4, 3, 2, 3, 4, 3, 4, 5, 6, 5, 4, 5, 6, 5, 6, 5, 11, 12, 13, 14, 15, 16, 17, 18, 19, 18, 19, 20, 22, 23, 24, 25, 24, 23, 24, 23, 24, 25, 24, 25, 24, 23, 24, 25, 31, 30, 29, 35, 34, 36, 37, 38, 39, 40, 42, 43, 42, 41, 42, 43, 44, 43, 42, 41, 40, 43, 42, 43, 42, 43, 47, 49, 48, 49, 50, 54, 53, 52, 51, 52, 53, 54, 53, 52, 53, 52, 53, 52, 53, 52, 53, 54, 57, 58, 59, 62], [0, 4, 3, 4, 3, 4, 3, 2, 3, 4, 3, 4, 5, 6, 5, 4, 5, 6, 5, 6, 5, 11, 12, 13, 14, 15, 16, 17, 18, 19, 18, 19, 20, 22, 23, 24, 25, 24, 23, 24, 23, 24, 25, 24, 25, 24, 23, 24, 25, 31, 30, 29, 35, 34, 36, 37, 38, 39, 40, 42, 43, 42, 41, 42, 43, 44, 43, 42, 41, 40, 43, 42, 43, 42, 43, 47, 49, 48, 49, 50, 54, 53, 52, 51, 52, 53, 54, 53, 52, 53, 52, 53, 52, 53, 52, 53, 54, 57, 58, 59, 62], [0, 4, 3, 4, 3, 4, 3, 2, 3, 4, 3, 4, 5, 6, 5, 4, 5, 6, 5, 6, 5, 11, 12, 13, 14, 15, 16, 17, 18, 19, 18, 19, 20, 22, 23, 24, 25, 24, 23, 24, 23, 24, 25, 24, 25, 24, 23, 24, 25, 31, 30, 29, 35, 34, 36, 37, 38, 39, 40, 42, 43, 42, 41, 42, 43, 44, 43, 42, 41, 40, 43, 42, 43, 42, 43, 47, 49, 48, 49, 50, 54, 53, 52, 51, 52, 53, 54, 53, 52, 53, 52, 53, 52, 53, 52, 53, 54, 57, 58, 59, 62], [0, 4, 3, 4, 3, 4, 3, 2, 3, 4, 3, 4, 5, 6, 5, 4, 5, 6, 5, 6, 5, 11, 12, 13, 14, 15, 16, 17, 18, 19, 18, 19, 20, 22, 23, 24, 25, 24, 23, 24, 23, 24, 25, 24, 25, 24, 23, 24, 25, 31, 30, 29, 35, 34, 36, 37, 38, 39, 40, 42, 43, 42, 41, 42, 43, 44, 43, 42, 41, 40, 43, 42, 43, 42, 43, 47, 49, 48, 49, 50, 54, 53, 52, 51, 52, 53, 54, 53, 52, 53, 52, 53, 52, 53, 52, 53, 54, 57, 58, 59, 62], [0, 4, 3, 4, 3, 4, 3, 2, 3, 4, 3, 4, 5, 6, 5, 4, 5, 6, 5, 6, 5, 11, 12, 13, 14, 15, 16, 17, 18, 19, 18, 19, 20, 22, 23, 24, 25, 24, 23, 24, 23, 24, 25, 24, 25, 24, 23, 24, 25, 31, 30, 29, 35, 34, 36, 37, 38, 39, 40, 42, 43, 42, 41, 42, 43, 44, 43, 42, 41, 40, 43, 42, 43, 42, 43, 47, 49, 48, 49, 50, 54, 53, 52, 51, 52, 53, 54, 53, 52, 53, 52, 53, 52, 53, 52, 53, 54, 57, 58, 59, 62], [0, 4, 3, 4, 3, 4, 3, 2, 3, 4, 3, 4, 5, 6, 5, 4, 5, 6, 5, 6, 5, 11, 12, 13, 14, 15, 16, 17, 18, 19, 18, 19, 20, 22, 23, 24, 25, 24, 23, 24, 23, 24, 25, 24, 25, 24, 23, 24, 25, 31, 30, 29, 35, 34, 36, 37, 38, 39, 40, 42, 43, 42, 41, 42, 43, 44, 43, 42, 41, 40, 43, 42, 43, 42, 43, 47, 49, 48, 49, 50, 54, 53, 52, 51, 52, 53, 54, 53, 52, 53, 52, 53, 52, 53, 52, 53, 54, 57, 58, 59, 62], [0, 4, 3, 4, 3, 4, 3, 2, 3, 4, 3, 4, 5, 6, 5, 4, 5, 6, 5, 6, 5, 11, 12, 13, 14, 15, 16, 17, 18, 19, 18, 19, 20, 22, 23, 24, 25, 24, 23, 24, 23, 24, 25, 24, 25, 24, 23, 24, 25, 31, 30, 29, 35, 34, 36, 37, 38, 39, 40, 42, 43, 42, 41, 42, 43, 44, 43, 42, 41, 40, 43, 42, 43, 42, 43, 47, 49, 48, 49, 50, 54, 53, 52, 51, 52, 53, 54, 53, 52, 53, 52, 53, 52, 53, 52, 53, 54, 57, 58, 59, 62], [0, 4, 3, 4, 3, 4, 3, 2, 3, 4, 3, 4, 5, 6, 5, 4, 5, 6, 5, 6, 5, 11, 12, 13, 14, 15, 16, 17, 18, 19, 18, 19, 20, 22, 23, 24, 25, 24, 23, 24, 23, 24, 25, 24, 25, 24, 23, 24, 25, 31, 30, 29, 35, 34, 36, 37, 38, 39, 40, 42, 43, 42, 41, 42, 43, 44, 43, 42, 41, 40, 43, 42, 43, 42, 43, 47, 49, 48, 49, 50, 54, 53, 52, 51, 52, 53, 54, 53, 52, 53, 52, 53, 52, 53, 52, 53, 54, 57, 58, 59, 62], [0, 4, 3, 4, 3, 4, 3, 2, 3, 4, 3, 4, 5, 6, 5, 4, 5, 6, 5, 6, 5, 11, 12, 13, 14, 15, 16, 17, 18, 19, 18, 19, 20, 22, 23, 24, 25, 24, 23, 24, 23, 24, 25, 24, 25, 24, 23, 24, 25, 31, 30, 29, 35, 34, 36, 37, 38, 39, 40, 42, 43, 42, 41, 42, 43, 44, 43, 42, 41, 40, 43, 42, 43, 42, 43, 47, 49, 48, 49, 50, 54, 53, 52, 51, 52, 53, 54, 53, 52, 53, 52, 53, 52, 53, 52, 53, 54, 57, 58, 59, 62], [0, 4, 3, 4, 3, 4, 3, 2, 3, 4, 3, 4, 5, 6, 5, 4, 5, 6, 5, 6, 5, 11, 12, 13, 14, 15, 16, 17, 18, 19, 18, 19, 20, 22, 23, 24, 25, 24, 23, 24, 23, 24, 25, 24, 25, 24, 23, 24, 25, 31, 30, 29, 35, 34, 36, 37, 38, 39, 40, 42, 43, 42, 41, 42, 43, 44, 43, 42, 41, 40, 43, 42, 43, 42, 43, 47, 49, 48, 49, 50, 54, 53, 52, 51, 52, 53, 54, 53, 52, 53, 52, 53, 52, 53, 52, 53, 54, 57, 58, 59, 62], [0, 4, 3, 4, 3, 4, 3, 2, 3, 4, 3, 4, 5, 6, 5, 4, 5, 6, 5, 6, 5, 11, 12, 13, 14, 15, 16, 17, 18, 19, 18, 19, 20, 22, 23, 24, 25, 24, 23, 24, 23, 24, 25, 24, 25, 24, 23, 24, 25, 31, 30, 29, 35, 34, 36, 37, 38, 39, 40, 42, 43, 42, 41, 42, 43, 44, 43, 42, 41, 40, 43, 42, 43, 42, 43, 47, 49, 48, 49, 50, 54, 53, 52, 51, 52, 53, 54, 53, 52, 53, 52, 53, 52, 53, 52, 53, 54, 57, 58, 59, 62], [0, 4, 3, 4, 3, 4, 3, 2, 3, 4, 3, 4, 5, 6, 5, 4, 5, 6, 5, 6, 5, 11, 12, 13, 14, 15, 16, 17, 18, 19, 18, 19, 20, 22, 23, 24, 25, 24, 23, 24, 23, 24, 25, 24, 25, 24, 23, 24, 25, 31, 30, 29, 35, 34, 36, 37, 38, 39, 40, 42, 43, 42, 41, 42, 43, 44, 43, 42, 41, 40, 43, 42, 43, 42, 43, 47, 49, 48, 49, 50, 54, 53, 52, 51, 52, 53, 54, 53, 52, 53, 52, 53, 52, 53, 52, 53, 54, 57, 58, 59, 62], [0, 4, 3, 4, 3, 4, 3, 2, 3, 4, 3, 4, 5, 6, 5, 4, 5, 6, 5, 6, 5, 11, 12, 13, 14, 15, 16, 17, 18, 19, 18, 19, 20, 22, 23, 24, 25, 24, 23, 24, 23, 24, 25, 24, 25, 24, 23, 24, 25, 31, 30, 29, 35, 34, 36, 37, 38, 39, 40, 42, 43, 42, 41, 42, 43, 44, 43, 42, 41, 40, 43, 42, 43, 42, 43, 47, 49, 48, 49, 50, 54, 53, 52, 51, 52, 53, 54, 53, 52, 53, 52, 53, 52, 53, 52, 53, 54, 57, 58, 59, 62], [0, 4, 3, 4, 3, 4, 3, 2, 3, 4, 3, 4, 5, 6, 5, 4, 5, 6, 5, 6, 5, 11, 12, 13, 14, 15, 16, 17, 18, 19, 18, 19, 20, 22, 23, 24, 25, 24, 23, 24, 23, 24, 25, 24, 25, 24, 23, 24, 25, 31, 30, 29, 35, 34, 36, 37, 38, 39, 40, 42, 43, 42, 41, 42, 43, 44, 43, 42, 41, 40, 43, 42, 43, 42, 43, 47, 49, 48, 49, 50, 54, 53, 52, 51, 52, 53, 54, 53, 52, 53, 52, 53, 52, 53, 52, 53, 54, 57, 58, 59, 62], [0, 4, 3, 4, 3, 4, 3, 2, 3, 4, 3, 4, 5, 6, 5, 4, 5, 6, 5, 6, 5, 11, 12, 13, 14, 15, 16, 17, 18, 19, 18, 19, 20, 22, 23, 24, 25, 24, 23, 24, 23, 24, 25, 24, 25, 24, 23, 24, 25, 31, 30, 29, 35, 34, 36, 37, 38, 39, 40, 42, 43, 42, 41, 42, 43, 44, 43, 42, 41, 40, 43, 42, 43, 42, 43, 47, 49, 48, 49, 50, 54, 53, 52, 51, 52, 53, 54, 53, 52, 53, 52, 53, 52, 53, 52, 53, 54, 57, 58, 59, 62], [0, 4, 3, 4, 3, 4, 3, 2, 3, 4, 3, 4, 5, 6, 5, 4, 5, 6, 5, 6, 5, 11, 12, 13, 14, 15, 16, 17, 18, 19, 18, 19, 20, 22, 23, 24, 25, 24, 23, 24, 23, 24, 25, 24, 25, 24, 23, 24, 25, 31, 30, 29, 35, 34, 36, 37, 38, 39, 40, 42, 43, 42, 41, 42, 43, 44, 43, 42, 41, 40, 43, 42, 43, 42, 43, 47, 49, 48, 49, 50, 54, 53, 52, 51, 52, 53, 54, 53, 52, 53, 52, 53, 52, 53, 52, 53, 54, 57, 58, 59, 62], [0, 4, 3, 4, 3, 4, 3, 2, 3, 4, 3, 4, 5, 6, 5, 4, 5, 6, 5, 6, 5, 11, 12, 13, 14, 15, 16, 17, 18, 19, 18, 19, 20, 22, 23, 24, 25, 24, 23, 24, 23, 24, 25, 24, 25, 24, 23, 24, 25, 31, 30, 29, 35, 34, 36, 37, 38, 39, 40, 42, 43, 42, 41, 42, 43, 44, 43, 42, 41, 40, 43, 42, 43, 42, 43, 47, 49, 48, 49, 50, 54, 53, 52, 51, 52, 53, 54, 53, 52, 53, 52, 53, 52, 53, 52, 53, 54, 57, 58, 59, 62], [0, 4, 3, 4, 3, 4, 3, 2, 3, 4, 3, 4, 5, 6, 5, 4, 5, 6, 5, 6, 5, 11, 12, 13, 14, 15, 16, 17, 18, 19, 18, 19, 20, 22, 23, 24, 25, 24, 23, 24, 23, 24, 25, 24, 25, 24, 23, 24, 25, 31, 30, 29, 35, 34, 36, 37, 38, 39, 40, 42, 43, 42, 41, 42, 43, 44, 43, 42, 41, 40, 43, 42, 43, 42, 43, 47, 49, 48, 49, 50, 54, 53, 52, 51, 52, 53, 54, 53, 52, 53, 52, 53, 52, 53, 52, 53, 54, 57, 58, 59, 62], [0, 4, 3, 4, 3, 4, 3, 2, 3, 4, 3, 4, 5, 6, 5, 4, 5, 6, 5, 6, 5, 11, 12, 13, 14, 15, 16, 17, 18, 19, 18, 19, 20, 22, 23, 24, 25, 24, 23, 24, 23, 24, 25, 24, 25, 24, 23, 24, 25, 31, 30, 29, 35, 34, 36, 37, 38, 39, 40, 42, 43, 42, 41, 42, 43, 44, 43, 42, 41, 40, 43, 42, 43, 42, 43, 47, 49, 48, 49, 50, 54, 53, 52, 51, 52, 53, 54, 53, 52, 53, 52, 53, 52, 53, 52, 53, 54, 57, 58, 59, 62], [0, 4, 3, 4, 3, 4, 3, 2, 3, 4, 3, 4, 5, 6, 5, 4, 5, 6, 5, 6, 5, 11, 12, 13, 14, 15, 16, 17, 18, 19, 18, 19, 20, 22, 23, 24, 25, 24, 23, 24, 23, 24, 25, 24, 25, 24, 23, 24, 25, 31, 30, 29, 35, 34, 36, 37, 38, 39, 40, 42, 43, 42, 41, 42, 43, 44, 43, 42, 41, 40, 43, 42, 43, 42, 43, 47, 49, 48, 49, 50, 54, 53, 52, 51, 52, 53, 54, 53, 52, 53, 52, 53, 52, 53, 52, 53, 54, 57, 58, 59, 62], [0, 4, 3, 4, 3, 4, 3, 2, 3, 4, 3, 4, 5, 6, 5, 4, 5, 6, 5, 6, 5, 11, 12, 13, 14, 15, 16, 17, 18, 19, 18, 19, 20, 22, 23, 24, 25, 24, 23, 24, 23, 24, 25, 24, 25, 24, 23, 24, 25, 31, 30, 29, 35, 34, 36, 37, 38, 39, 40, 42, 43, 42, 41, 42, 43, 44, 43, 42, 41, 40, 43, 42, 43, 42, 43, 47, 49, 48, 49, 50, 54, 53, 52, 51, 52, 53, 54, 53, 52, 53, 52, 53, 52, 53, 52, 53, 54, 57, 58, 59, 62], [0, 4, 3, 4, 3, 4, 3, 2, 3, 4, 3, 4, 5, 6, 5, 4, 5, 6, 5, 6, 5, 11, 12, 13, 14, 15, 16, 17, 18, 19, 18, 19, 20, 22, 23, 24, 25, 24, 23, 24, 23, 24, 25, 24, 25, 24, 23, 24, 25, 31, 30, 29, 35, 34, 36, 37, 38, 39, 40, 42, 43, 42, 41, 42, 43, 44, 43, 42, 41, 40, 43, 42, 43, 42, 43, 47, 49, 48, 49, 50, 54, 53, 52, 51, 52, 53, 54, 53, 52, 53, 52, 53, 52, 53, 52, 53, 54, 57, 58, 59, 62], [0, 4, 3, 4, 3, 4, 3, 2, 3, 4, 3, 4, 5, 6, 5, 4, 5, 6, 5, 6, 5, 11, 12, 13, 14, 15, 16, 17, 18, 19, 18, 19, 20, 22, 23, 24, 25, 24, 23, 24, 23, 24, 25, 24, 25, 24, 23, 24, 25, 31, 30, 29, 35, 34, 36, 37, 38, 39, 40, 42, 43, 42, 41, 42, 43, 44, 43, 42, 41, 40, 43, 42, 43, 42, 43, 47, 49, 48, 49, 50, 54, 53, 52, 51, 52, 53, 54, 53, 52, 53, 52, 53, 52, 53, 52, 53, 54, 57, 58, 59, 62], [0, 4, 3, 4, 3, 4, 3, 2, 3, 4, 3, 4, 5, 6, 5, 4, 5, 6, 5, 6, 5, 11, 12, 13, 14, 15, 16, 17, 18, 19, 18, 19, 20, 22, 23, 24, 25, 24, 23, 24, 23, 24, 25, 24, 25, 24, 23, 24, 25, 31, 30, 29, 35, 34, 36, 37, 38, 39, 40, 42, 43, 42, 41, 42, 43, 44, 43, 42, 41, 40, 43, 42, 43, 42, 43, 47, 49, 48, 49, 50, 54, 53, 52, 51, 52, 53, 54, 53, 52, 53, 52, 53, 52, 53, 52, 53, 54, 57, 58, 59, 62], [0, 4, 3, 4, 3, 4, 3, 2, 3, 4, 3, 4, 5, 6, 5, 4, 5, 6, 5, 6, 5, 11, 12, 13, 14, 15, 16, 17, 18, 19, 18, 19, 20, 22, 23, 24, 25, 24, 23, 24, 23, 24, 25, 24, 25, 24, 23, 24, 25, 31, 30, 29, 35, 34, 36, 37, 38, 39, 40, 42, 43, 42, 41, 42, 43, 44, 43, 42, 41, 40, 43, 42, 43, 42, 43, 47, 49, 48, 49, 50, 54, 53, 52, 51, 52, 53, 54, 53, 52, 53, 52, 53, 52, 53, 52, 53, 54, 57, 58, 59, 62], [0, 4, 3, 4, 3, 4, 3, 2, 3, 4, 3, 4, 5, 6, 5, 4, 5, 6, 5, 6, 5, 11, 12, 13, 14, 15, 16, 17, 18, 19, 18, 19, 20, 22, 23, 24, 25, 24, 23, 24, 23, 24, 25, 24, 25, 24, 23, 24, 25, 31, 30, 29, 35, 34, 36, 37, 38, 39, 40, 42, 43, 42, 41, 42, 43, 44, 43, 42, 41, 40, 43, 42, 43, 42, 43, 47, 49, 48, 49, 50, 54, 53, 52, 51, 52, 53, 54, 53, 52, 53, 52, 53, 52, 53, 52, 53, 54, 57, 58, 59, 62], [0, 4, 3, 4, 3, 4, 3, 2, 3, 4, 3, 4, 5, 6, 5, 4, 5, 6, 5, 6, 5, 11, 12, 13, 14, 15, 16, 17, 18, 19, 18, 19, 20, 22, 23, 24, 25, 24, 23, 24, 23, 24, 25, 24, 25, 24, 23, 24, 25, 31, 30, 29, 35, 34, 36, 37, 38, 39, 40, 42, 43, 42, 41, 42, 43, 44, 43, 42, 41, 40, 43, 42, 43, 42, 43, 47, 49, 48, 49, 50, 54, 53, 52, 51, 52, 53, 54, 53, 52, 53, 52, 53, 52, 53, 52, 53, 54, 57, 58, 59, 62], [0, 4, 3, 4, 3, 4, 3, 2, 3, 4, 3, 4, 5, 6, 5, 4, 5, 6, 5, 6, 5, 11, 12, 13, 14, 15, 16, 17, 18, 19, 18, 19, 20, 22, 23, 24, 25, 24, 23, 24, 23, 24, 25, 24, 25, 24, 23, 24, 25, 31, 30, 29, 35, 34, 36, 37, 38, 39, 40, 42, 43, 42, 41, 42, 43, 44, 43, 42, 41, 40, 43, 42, 43, 42, 43, 47, 49, 48, 49, 50, 54, 53, 52, 51, 52, 53, 54, 53, 52, 53, 52, 53, 52, 53, 52, 53, 54, 57, 58, 59, 62], [0, 4, 3, 4, 3, 4, 3, 2, 3, 4, 3, 4, 5, 6, 5, 4, 5, 6, 5, 6, 5, 11, 12, 13, 14, 15, 16, 17, 18, 19, 18, 19, 20, 22, 23, 24, 25, 24, 23, 24, 23, 24, 25, 24, 25, 24, 23, 24, 25, 31, 30, 29, 35, 34, 36, 37, 38, 39, 40, 42, 43, 42, 41, 42, 43, 44, 43, 42, 41, 40, 43, 42, 43, 42, 43, 47, 49, 48, 49, 50, 54, 53, 52, 51, 52, 53, 54, 53, 52, 53, 52, 53, 52, 53, 52, 53, 54, 57, 58, 59, 62], [0, 4, 3, 4, 3, 4, 3, 2, 3, 4, 3, 4, 5, 6, 5, 4, 5, 6, 5, 6, 5, 11, 12, 13, 14, 15, 16, 17, 18, 19, 18, 19, 20, 22, 23, 24, 25, 24, 23, 24, 23, 24, 25, 24, 25, 24, 23, 24, 25, 31, 30, 29, 35, 34, 36, 37, 38, 39, 40, 42, 43, 42, 41, 42, 43, 44, 43, 42, 41, 40, 43, 42, 43, 42, 43, 47, 49, 48, 49, 50, 54, 53, 52, 51, 52, 53, 54, 53, 52, 53, 52, 53, 52, 53, 52, 53, 54, 57, 58, 59, 62], [0, 4, 3, 4, 3, 4, 3, 2, 3, 4, 3, 4, 5, 6, 5, 4, 5, 6, 5, 6, 5, 11, 12, 13, 14, 15, 16, 17, 18, 19, 18, 19, 20, 22, 23, 24, 25, 24, 23, 24, 23, 24, 25, 24, 25, 24, 23, 24, 25, 31, 30, 29, 35, 34, 36, 37, 38, 39, 40, 42, 43, 42, 41, 42, 43, 44, 43, 42, 41, 40, 43, 42, 43, 42, 43, 47, 49, 48, 49, 50, 54, 53, 52, 51, 52, 53, 54, 53, 52, 53, 52, 53, 52, 53, 52, 53, 54, 57, 58, 59, 62], [0, 4, 3, 4, 3, 4, 3, 2, 3, 4, 3, 4, 5, 6, 5, 4, 5, 6, 5, 6, 5, 11, 12, 13, 14, 15, 16, 17, 18, 19, 18, 19, 20, 22, 23, 24, 25, 24, 23, 24, 23, 24, 25, 24, 25, 24, 23, 24, 25, 31, 30, 29, 35, 34, 36, 37, 38, 39, 40, 42, 43, 42, 41, 42, 43, 44, 43, 42, 41, 40, 43, 42, 43, 42, 43, 47, 49, 48, 49, 50, 54, 53, 52, 51, 52, 53, 54, 53, 52, 53, 52, 53, 52, 53, 52, 53, 54, 57, 58, 59, 62], [0, 4, 3, 4, 3, 4, 3, 2, 3, 4, 3, 4, 5, 6, 5, 4, 5, 6, 5, 6, 5, 11, 12, 13, 14, 15, 16, 17, 18, 19, 18, 19, 20, 22, 23, 24, 25, 24, 23, 24, 23, 24, 25, 24, 25, 24, 23, 24, 25, 31, 30, 29, 35, 34, 36, 37, 38, 39, 40, 42, 43, 42, 41, 42, 43, 44, 43, 42, 41, 40, 43, 42, 43, 42, 43, 47, 49, 48, 49, 50, 54, 53, 52, 51, 52, 53, 54, 53, 52, 53, 52, 53, 52, 53, 52, 53, 54, 57, 58, 59, 62], [0, 4, 3, 4, 3, 4, 3, 2, 3, 4, 3, 4, 5, 6, 5, 4, 5, 6, 5, 6, 5, 11, 12, 13, 14, 15, 16, 17, 18, 19, 18, 19, 20, 22, 23, 24, 25, 24, 23, 24, 23, 24, 25, 24, 25, 24, 23, 24, 25, 31, 30, 29, 35, 34, 36, 37, 38, 39, 40, 42, 43, 42, 41, 42, 43, 44, 43, 42, 41, 40, 43, 42, 43, 42, 43, 47, 49, 48, 49, 50, 54, 53, 52, 51, 52, 53, 54, 53, 52, 53, 52, 53, 52, 53, 52, 53, 54, 57, 58, 59, 62], [0, 4, 3, 4, 3, 4, 3, 2, 3, 4, 3, 4, 5, 6, 5, 4, 5, 6, 5, 6, 5, 11, 12, 13, 14, 15, 16, 17, 18, 19, 18, 19, 20, 22, 23, 24, 25, 24, 23, 24, 23, 24, 25, 24, 25, 24, 23, 24, 25, 31, 30, 29, 35, 34, 36, 37, 38, 39, 40, 42, 43, 42, 41, 42, 43, 44, 43, 42, 41, 40, 43, 42, 43, 42, 43, 47, 49, 48, 49, 50, 54, 53, 52, 51, 52, 53, 54, 53, 52, 53, 52, 53, 52, 53, 52, 53, 54, 57, 58, 59, 62], [0, 4, 3, 4, 3, 4, 3, 2, 3, 4, 3, 4, 5, 6, 5, 4, 5, 6, 5, 6, 5, 11, 12, 13, 14, 15, 16, 17, 18, 19, 18, 19, 20, 22, 23, 24, 25, 24, 23, 24, 23, 24, 25, 24, 25, 24, 23, 24, 25, 31, 30, 29, 35, 34, 36, 37, 38, 39, 40, 42, 43, 42, 41, 42, 43, 44, 43, 42, 41, 40, 43, 42, 43, 42, 43, 47, 49, 48, 49, 50, 54, 53, 52, 51, 52, 53, 54, 53, 52, 53, 52, 53, 52, 53, 52, 53, 54, 57, 58, 59, 62], [0, 4, 3, 4, 3, 4, 3, 2, 3, 4, 3, 4, 5, 6, 5, 4, 5, 6, 5, 6, 5, 11, 12, 13, 14, 15, 16, 17, 18, 19, 18, 19, 20, 22, 23, 24, 25, 24, 23, 24, 23, 24, 25, 24, 25, 24, 23, 24, 25, 31, 30, 29, 35, 34, 36, 37, 38, 39, 40, 42, 43, 42, 41, 42, 43, 44, 43, 42, 41, 40, 43, 42, 43, 42, 43, 47, 49, 48, 49, 50, 54, 53, 52, 51, 52, 53, 54, 53, 52, 53, 52, 53, 52, 53, 52, 53, 54, 57, 58, 59, 62], [0, 0, 1, 2, 3, 4, 3, 2, 3, 2, 5, 6, 12, 11, 12, 11, 10, 9, 10, 11, 12, 11, 12, 13, 12, 13, 16, 17, 18, 19, 18, 19, 20, 21, 24, 25, 26, 25, 26, 27, 26, 27, 28, 27, 28, 30, 29, 30, 31, 32, 33, 36, 37, 38, 43, 47, 48, 49, 50, 51, 50, 49, 50, 55, 56, 59, 60, 59, 63, 64, 68, 69, 72, 71, 72, 73, 74, 75, 81, 82, 84, 85, 86, 85, 87, 86, 85, 84, 83, 82, 83, 87, 88, 89, 90, 89, 88, 94, 95, 94, 93], [0, 0, 1, 2, 3, 4, 3, 2, 3, 2, 5, 6, 12, 11, 12, 11, 10, 9, 10, 11, 12, 11, 12, 13, 12, 13, 16, 17, 18, 19, 18, 19, 20, 21, 24, 25, 26, 25, 26, 27, 26, 27, 28, 27, 28, 30, 29, 30, 31, 32, 33, 36, 37, 38, 43, 47, 48, 49, 50, 51, 50, 49, 50, 55, 56, 59, 60, 59, 63, 64, 68, 69, 72, 71, 72, 73, 74, 75, 81, 82, 84, 85, 86, 85, 87, 86, 85, 84, 83, 82, 83, 87, 88, 89, 90, 89, 88, 94, 95, 94, 93], [0, 0, 1, 2, 3, 4, 3, 2, 3, 2, 5, 6, 12, 11, 12, 11, 10, 9, 10, 11, 12, 11, 12, 13, 12, 13, 16, 17, 18, 19, 18, 19, 20, 21, 24, 25, 26, 25, 26, 27, 26, 27, 28, 27, 28, 30, 29, 30, 31, 32, 33, 36, 37, 38, 43, 47, 48, 49, 50, 51, 50, 49, 50, 55, 56, 59, 60, 59, 63, 64, 68, 69, 72, 71, 72, 73, 74, 75, 81, 82, 84, 85, 86, 85, 87, 86, 85, 84, 83, 82, 83, 87, 88, 89, 90, 89, 88, 94, 95, 94, 93], [0, 0, 1, 2, 3, 4, 3, 2, 3, 2, 5, 6, 12, 11, 12, 11, 10, 9, 10, 11, 12, 11, 12, 13, 12, 13, 16, 17, 18, 19, 18, 19, 20, 21, 24, 25, 26, 25, 26, 27, 26, 27, 28, 27, 28, 30, 29, 30, 31, 32, 33, 36, 37, 38, 43, 47, 48, 49, 50, 51, 50, 49, 50, 55, 56, 59, 60, 59, 63, 64, 68, 69, 72, 71, 72, 73, 74, 75, 81, 82, 84, 85, 86, 85, 87, 86, 85, 84, 83, 82, 83, 87, 88, 89, 90, 89, 88, 94, 95, 94, 93], [0, 0, 1, 2, 3, 4, 3, 2, 3, 2, 5, 6, 12, 11, 12, 11, 10, 9, 10, 11, 12, 11, 12, 13, 12, 13, 16, 17, 18, 19, 18, 19, 20, 21, 24, 25, 26, 25, 26, 27, 26, 27, 28, 27, 28, 30, 29, 30, 31, 32, 33, 36, 37, 38, 43, 47, 48, 49, 50, 51, 50, 49, 50, 55, 56, 59, 60, 59, 63, 64, 68, 69, 72, 71, 72, 73, 74, 75, 81, 82, 84, 85, 86, 85, 87, 86, 85, 84, 83, 82, 83, 87, 88, 89, 90, 89, 88, 94, 95, 94, 93], [0, 0, 1, 2, 3, 4, 3, 2, 3, 2, 5, 6, 12, 11, 12, 11, 10, 9, 10, 11, 12, 11, 12, 13, 12, 13, 16, 17, 18, 19, 18, 19, 20, 21, 24, 25, 26, 25, 26, 27, 26, 27, 28, 27, 28, 30, 29, 30, 31, 32, 33, 36, 37, 38, 43, 47, 48, 49, 50, 51, 50, 49, 50, 55, 56, 59, 60, 59, 63, 64, 68, 69, 72, 71, 72, 73, 74, 75, 81, 82, 84, 85, 86, 85, 87, 86, 85, 84, 83, 82, 83, 87, 88, 89, 90, 89, 88, 94, 95, 94, 93], [0, 0, 1, 2, 3, 4, 3, 2, 3, 2, 5, 6, 12, 11, 12, 11, 10, 9, 10, 11, 12, 11, 12, 13, 12, 13, 16, 17, 18, 19, 18, 19, 20, 21, 24, 25, 26, 25, 26, 27, 26, 27, 28, 27, 28, 30, 29, 30, 31, 32, 33, 36, 37, 38, 43, 47, 48, 49, 50, 51, 50, 49, 50, 55, 56, 59, 60, 59, 63, 64, 68, 69, 72, 71, 72, 73, 74, 75, 81, 82, 84, 85, 86, 85, 87, 86, 85, 84, 83, 82, 83, 87, 88, 89, 90, 89, 88, 94, 95, 94, 93], [0, 0, 1, 2, 3, 4, 3, 2, 3, 2, 5, 6, 12, 11, 12, 11, 10, 9, 10, 11, 12, 11, 12, 13, 12, 13, 16, 17, 18, 19, 18, 19, 20, 21, 24, 25, 26, 25, 26, 27, 26, 27, 28, 27, 28, 30, 29, 30, 31, 32, 33, 36, 37, 38, 43, 47, 48, 49, 50, 51, 50, 49, 50, 55, 56, 59, 60, 59, 63, 64, 68, 69, 72, 71, 72, 73, 74, 75, 81, 82, 84, 85, 86, 85, 87, 86, 85, 84, 83, 82, 83, 87, 88, 89, 90, 89, 88, 94, 95, 94, 93], [0, 0, 1, 2, 3, 4, 3, 2, 3, 2, 5, 6, 12, 11, 12, 11, 10, 9, 10, 11, 12, 11, 12, 13, 12, 13, 16, 17, 18, 19, 18, 19, 20, 21, 24, 25, 26, 25, 26, 27, 26, 27, 28, 27, 28, 30, 29, 30, 31, 32, 33, 36, 37, 38, 43, 47, 48, 49, 50, 51, 50, 49, 50, 55, 56, 59, 60, 59, 63, 64, 68, 69, 72, 71, 72, 73, 74, 75, 81, 82, 84, 85, 86, 85, 87, 86, 85, 84, 83, 82, 83, 87, 88, 89, 90, 89, 88, 94, 95, 94, 93], [0, 0, 1, 2, 3, 4, 3, 2, 3, 2, 5, 6, 12, 11, 12, 11, 10, 9, 10, 11, 12, 11, 12, 13, 12, 13, 16, 17, 18, 19, 18, 19, 20, 21, 24, 25, 26, 25, 26, 27, 26, 27, 28, 27, 28, 30, 29, 30, 31, 32, 33, 36, 37, 38, 43, 47, 48, 49, 50, 51, 50, 49, 50, 55, 56, 59, 60, 59, 63, 64, 68, 69, 72, 71, 72, 73, 74, 75, 81, 82, 84, 85, 86, 85, 87, 86, 85, 84, 83, 82, 83, 87, 88, 89, 90, 89, 88, 94, 95, 94, 93], [0, 0, 1, 2, 3, 4, 3, 2, 3, 2, 5, 6, 12, 11, 12, 11, 10, 9, 10, 11, 12, 11, 12, 13, 12, 13, 16, 17, 18, 19, 18, 19, 20, 21, 24, 25, 26, 25, 26, 27, 26, 27, 28, 27, 28, 30, 29, 30, 31, 32, 33, 36, 37, 38, 43, 47, 48, 49, 50, 51, 50, 49, 50, 55, 56, 59, 60, 59, 63, 64, 68, 69, 72, 71, 72, 73, 74, 75, 81, 82, 84, 85, 86, 85, 87, 86, 85, 84, 83, 82, 83, 87, 88, 89, 90, 89, 88, 94, 95, 94, 93], [0, 0, 1, 2, 3, 4, 3, 2, 3, 2, 5, 6, 12, 11, 12, 11, 10, 9, 10, 11, 12, 11, 12, 13, 12, 13, 16, 17, 18, 19, 18, 19, 20, 21, 24, 25, 26, 25, 26, 27, 26, 27, 28, 27, 28, 30, 29, 30, 31, 32, 33, 36, 37, 38, 43, 47, 48, 49, 50, 51, 50, 49, 50, 55, 56, 59, 60, 59, 63, 64, 68, 69, 72, 71, 72, 73, 74, 75, 81, 82, 84, 85, 86, 85, 87, 86, 85, 84, 83, 82, 83, 87, 88, 89, 90, 89, 88, 94, 95, 94, 93], [0, 0, 1, 2, 3, 4, 3, 2, 3, 2, 5, 6, 12, 11, 12, 11, 10, 9, 10, 11, 12, 11, 12, 13, 12, 13, 16, 17, 18, 19, 18, 19, 20, 21, 24, 25, 26, 25, 26, 27, 26, 27, 28, 27, 28, 30, 29, 30, 31, 32, 33, 36, 37, 38, 43, 47, 48, 49, 50, 51, 50, 49, 50, 55, 56, 59, 60, 59, 63, 64, 68, 69, 72, 71, 72, 73, 74, 75, 81, 82, 84, 85, 86, 85, 87, 86, 85, 84, 83, 82, 83, 87, 88, 89, 90, 89, 88, 94, 95, 94, 93], [0, 0, 1, 2, 3, 4, 3, 2, 3, 2, 5, 6, 12, 11, 12, 11, 10, 9, 10, 11, 12, 11, 12, 13, 12, 13, 16, 17, 18, 19, 18, 19, 20, 21, 24, 25, 26, 25, 26, 27, 26, 27, 28, 27, 28, 30, 29, 30, 31, 32, 33, 36, 37, 38, 43, 47, 48, 49, 50, 51, 50, 49, 50, 55, 56, 59, 60, 59, 63, 64, 68, 69, 72, 71, 72, 73, 74, 75, 81, 82, 84, 85, 86, 85, 87, 86, 85, 84, 83, 82, 83, 87, 88, 89, 90, 89, 88, 94, 95, 94, 93], [0, 0, 1, 2, 3, 4, 3, 2, 3, 2, 5, 6, 12, 11, 12, 11, 10, 9, 10, 11, 12, 11, 12, 13, 12, 13, 16, 17, 18, 19, 18, 19, 20, 21, 24, 25, 26, 25, 26, 27, 26, 27, 28, 27, 28, 30, 29, 30, 31, 32, 33, 36, 37, 38, 43, 47, 48, 49, 50, 51, 50, 49, 50, 55, 56, 59, 60, 59, 63, 64, 68, 69, 72, 71, 72, 73, 74, 75, 81, 82, 84, 85, 86, 85, 87, 86, 85, 84, 83, 82, 83, 87, 88, 89, 90, 89, 88, 94, 95, 94, 93], [0, 0, 1, 2, 3, 4, 3, 2, 3, 2, 5, 6, 12, 11, 12, 11, 10, 9, 10, 11, 12, 11, 12, 13, 12, 13, 16, 17, 18, 19, 18, 19, 20, 21, 24, 25, 26, 25, 26, 27, 26, 27, 28, 27, 28, 30, 29, 30, 31, 32, 33, 36, 37, 38, 43, 47, 48, 49, 50, 51, 50, 49, 50, 55, 56, 59, 60, 59, 63, 64, 68, 69, 72, 71, 72, 73, 74, 75, 81, 82, 84, 85, 86, 85, 87, 86, 85, 84, 83, 82, 83, 87, 88, 89, 90, 89, 88, 94, 95, 94, 93], [0, 0, 1, 2, 3, 4, 3, 2, 3, 2, 5, 6, 12, 11, 12, 11, 10, 9, 10, 11, 12, 11, 12, 13, 12, 13, 16, 17, 18, 19, 18, 19, 20, 21, 24, 25, 26, 25, 26, 27, 26, 27, 28, 27, 28, 30, 29, 30, 31, 32, 33, 36, 37, 38, 43, 47, 48, 49, 50, 51, 50, 49, 50, 55, 56, 59, 60, 59, 63, 64, 68, 69, 72, 71, 72, 73, 74, 75, 81, 82, 84, 85, 86, 85, 87, 86, 85, 84, 83, 82, 83, 87, 88, 89, 90, 89, 88, 94, 95, 94, 93], [0, 0, 1, 2, 3, 4, 3, 2, 3, 2, 5, 6, 12, 11, 12, 11, 10, 9, 10, 11, 12, 11, 12, 13, 12, 13, 16, 17, 18, 19, 18, 19, 20, 21, 24, 25, 26, 25, 26, 27, 26, 27, 28, 27, 28, 30, 29, 30, 31, 32, 33, 36, 37, 38, 43, 47, 48, 49, 50, 51, 50, 49, 50, 55, 56, 59, 60, 59, 63, 64, 68, 69, 72, 71, 72, 73, 74, 75, 81, 82, 84, 85, 86, 85, 87, 86, 85, 84, 83, 82, 83, 87, 88, 89, 90, 89, 88, 94, 95, 94, 93], [0, 0, 1, 2, 3, 4, 3, 2, 3, 2, 5, 6, 12, 11, 12, 11, 10, 9, 10, 11, 12, 11, 12, 13, 12, 13, 16, 17, 18, 19, 18, 19, 20, 21, 24, 25, 26, 25, 26, 27, 26, 27, 28, 27, 28, 30, 29, 30, 31, 32, 33, 36, 37, 38, 43, 47, 48, 49, 50, 51, 50, 49, 50, 55, 56, 59, 60, 59, 63, 64, 68, 69, 72, 71, 72, 73, 74, 75, 81, 82, 84, 85, 86, 85, 87, 86, 85, 84, 83, 82, 83, 87, 88, 89, 90, 89, 88, 94, 95, 94, 93], [0, 0, 1, 2, 3, 4, 3, 2, 3, 2, 5, 6, 12, 11, 12, 11, 10, 9, 10, 11, 12, 11, 12, 13, 12, 13, 16, 17, 18, 19, 18, 19, 20, 21, 24, 25, 26, 25, 26, 27, 26, 27, 28, 27, 28, 30, 29, 30, 31, 32, 33, 36, 37, 38, 43, 47, 48, 49, 50, 51, 50, 49, 50, 55, 56, 59, 60, 59, 63, 64, 68, 69, 72, 71, 72, 73, 74, 75, 81, 82, 84, 85, 86, 85, 87, 86, 85, 84, 83, 82, 83, 87, 88, 89, 90, 89, 88, 94, 95, 94, 93], [0, 0, 1, 2, 3, 4, 3, 2, 3, 2, 5, 6, 12, 11, 12, 11, 10, 9, 10, 11, 12, 11, 12, 13, 12, 13, 16, 17, 18, 19, 18, 19, 20, 21, 24, 25, 26, 25, 26, 27, 26, 27, 28, 27, 28, 30, 29, 30, 31, 32, 33, 36, 37, 38, 43, 47, 48, 49, 50, 51, 50, 49, 50, 55, 56, 59, 60, 59, 63, 64, 68, 69, 72, 71, 72, 73, 74, 75, 81, 82, 84, 85, 86, 85, 87, 86, 85, 84, 83, 82, 83, 87, 88, 89, 90, 89, 88, 94, 95, 94, 93], [0, 0, 1, 2, 3, 4, 3, 2, 3, 2, 5, 6, 12, 11, 12, 11, 10, 9, 10, 11, 12, 11, 12, 13, 12, 13, 16, 17, 18, 19, 18, 19, 20, 21, 24, 25, 26, 25, 26, 27, 26, 27, 28, 27, 28, 30, 29, 30, 31, 32, 33, 36, 37, 38, 43, 47, 48, 49, 50, 51, 50, 49, 50, 55, 56, 59, 60, 59, 63, 64, 68, 69, 72, 71, 72, 73, 74, 75, 81, 82, 84, 85, 86, 85, 87, 86, 85, 84, 83, 82, 83, 87, 88, 89, 90, 89, 88, 94, 95, 94, 93], [0, 0, 1, 2, 3, 4, 3, 2, 3, 2, 5, 6, 12, 11, 12, 11, 10, 9, 10, 11, 12, 11, 12, 13, 12, 13, 16, 17, 18, 19, 18, 19, 20, 21, 24, 25, 26, 25, 26, 27, 26, 27, 28, 27, 28, 30, 29, 30, 31, 32, 33, 36, 37, 38, 43, 47, 48, 49, 50, 51, 50, 49, 50, 55, 56, 59, 60, 59, 63, 64, 68, 69, 72, 71, 72, 73, 74, 75, 81, 82, 84, 85, 86, 85, 87, 86, 85, 84, 83, 82, 83, 87, 88, 89, 90, 89, 88, 94, 95, 94, 93], [0, 0, 1, 2, 3, 4, 3, 2, 3, 2, 5, 6, 12, 11, 12, 11, 10, 9, 10, 11, 12, 11, 12, 13, 12, 13, 16, 17, 18, 19, 18, 19, 20, 21, 24, 25, 26, 25, 26, 27, 26, 27, 28, 27, 28, 30, 29, 30, 31, 32, 33, 36, 37, 38, 43, 47, 48, 49, 50, 51, 50, 49, 50, 55, 56, 59, 60, 59, 63, 64, 68, 69, 72, 71, 72, 73, 74, 75, 81, 82, 84, 85, 86, 85, 87, 86, 85, 84, 83, 82, 83, 87, 88, 89, 90, 89, 88, 94, 95, 94, 93], [0, 0, 1, 2, 3, 4, 3, 2, 3, 2, 5, 6, 12, 11, 12, 11, 10, 9, 10, 11, 12, 11, 12, 13, 12, 13, 16, 17, 18, 19, 18, 19, 20, 21, 24, 25, 26, 25, 26, 27, 26, 27, 28, 27, 28, 30, 29, 30, 31, 32, 33, 36, 37, 38, 43, 47, 48, 49, 50, 51, 50, 49, 50, 55, 56, 59, 60, 59, 63, 64, 68, 69, 72, 71, 72, 73, 74, 75, 81, 82, 84, 85, 86, 85, 87, 86, 85, 84, 83, 82, 83, 87, 88, 89, 90, 89, 88, 94, 95, 94, 93], [0, 0, 1, 2, 3, 4, 3, 2, 3, 2, 5, 6, 12, 11, 12, 11, 10, 9, 10, 11, 12, 11, 12, 13, 12, 13, 16, 17, 18, 19, 18, 19, 20, 21, 24, 25, 26, 25, 26, 27, 26, 27, 28, 27, 28, 30, 29, 30, 31, 32, 33, 36, 37, 38, 43, 47, 48, 49, 50, 51, 50, 49, 50, 55, 56, 59, 60, 59, 63, 64, 68, 69, 72, 71, 72, 73, 74, 75, 81, 82, 84, 85, 86, 85, 87, 86, 85, 84, 83, 82, 83, 87, 88, 89, 90, 89, 88, 94, 95, 94, 93], [0, 0, 1, 2, 3, 4, 3, 2, 3, 2, 5, 6, 12, 11, 12, 11, 10, 9, 10, 11, 12, 11, 12, 13, 12, 13, 16, 17, 18, 19, 18, 19, 20, 21, 24, 25, 26, 25, 26, 27, 26, 27, 28, 27, 28, 30, 29, 30, 31, 32, 33, 36, 37, 38, 43, 47, 48, 49, 50, 51, 50, 49, 50, 55, 56, 59, 60, 59, 63, 64, 68, 69, 72, 71, 72, 73, 74, 75, 81, 82, 84, 85, 86, 85, 87, 86, 85, 84, 83, 82, 83, 87, 88, 89, 90, 89, 88, 94, 95, 94, 93], [0, 0, 1, 2, 3, 4, 3, 2, 3, 2, 5, 6, 12, 11, 12, 11, 10, 9, 10, 11, 12, 11, 12, 13, 12, 13, 16, 17, 18, 19, 18, 19, 20, 21, 24, 25, 26, 25, 26, 27, 26, 27, 28, 27, 28, 30, 29, 30, 31, 32, 33, 36, 37, 38, 43, 47, 48, 49, 50, 51, 50, 49, 50, 55, 56, 59, 60, 59, 63, 64, 68, 69, 72, 71, 72, 73, 74, 75, 81, 82, 84, 85, 86, 85, 87, 86, 85, 84, 83, 82, 83, 87, 88, 89, 90, 89, 88, 94, 95, 94, 93], [0, 0, 1, 2, 3, 4, 3, 2, 3, 2, 5, 6, 12, 11, 12, 11, 10, 9, 10, 11, 12, 11, 12, 13, 12, 13, 16, 17, 18, 19, 18, 19, 20, 21, 24, 25, 26, 25, 26, 27, 26, 27, 28, 27, 28, 30, 29, 30, 31, 32, 33, 36, 37, 38, 43, 47, 48, 49, 50, 51, 50, 49, 50, 55, 56, 59, 60, 59, 63, 64, 68, 69, 72, 71, 72, 73, 74, 75, 81, 82, 84, 85, 86, 85, 87, 86, 85, 84, 83, 82, 83, 87, 88, 89, 90, 89, 88, 94, 95, 94, 93], [0, 0, 1, 2, 3, 4, 3, 2, 3, 2, 5, 6, 12, 11, 12, 11, 10, 9, 10, 11, 12, 11, 12, 13, 12, 13, 16, 17, 18, 19, 18, 19, 20, 21, 24, 25, 26, 25, 26, 27, 26, 27, 28, 27, 28, 30, 29, 30, 31, 32, 33, 36, 37, 38, 43, 47, 48, 49, 50, 51, 50, 49, 50, 55, 56, 59, 60, 59, 63, 64, 68, 69, 72, 71, 72, 73, 74, 75, 81, 82, 84, 85, 86, 85, 87, 86, 85, 84, 83, 82, 83, 87, 88, 89, 90, 89, 88, 94, 95, 94, 93], [0, 0, 1, 2, 3, 4, 3, 2, 3, 2, 5, 6, 12, 11, 12, 11, 10, 9, 10, 11, 12, 11, 12, 13, 12, 13, 16, 17, 18, 19, 18, 19, 20, 21, 24, 25, 26, 25, 26, 27, 26, 27, 28, 27, 28, 30, 29, 30, 31, 32, 33, 36, 37, 38, 43, 47, 48, 49, 50, 51, 50, 49, 50, 55, 56, 59, 60, 59, 63, 64, 68, 69, 72, 71, 72, 73, 74, 75, 81, 82, 84, 85, 86, 85, 87, 86, 85, 84, 83, 82, 83, 87, 88, 89, 90, 89, 88, 94, 95, 94, 93], [0, 0, 1, 2, 3, 4, 3, 2, 3, 2, 5, 6, 12, 11, 12, 11, 10, 9, 10, 11, 12, 11, 12, 13, 12, 13, 16, 17, 18, 19, 18, 19, 20, 21, 24, 25, 26, 25, 26, 27, 26, 27, 28, 27, 28, 30, 29, 30, 31, 32, 33, 36, 37, 38, 43, 47, 48, 49, 50, 51, 50, 49, 50, 55, 56, 59, 60, 59, 63, 64, 68, 69, 72, 71, 72, 73, 74, 75, 81, 82, 84, 85, 86, 85, 87, 86, 85, 84, 83, 82, 83, 87, 88, 89, 90, 89, 88, 94, 95, 94, 93], [0, 0, 1, 2, 3, 4, 3, 2, 3, 2, 5, 6, 12, 11, 12, 11, 10, 9, 10, 11, 12, 11, 12, 13, 12, 13, 16, 17, 18, 19, 18, 19, 20, 21, 24, 25, 26, 25, 26, 27, 26, 27, 28, 27, 28, 30, 29, 30, 31, 32, 33, 36, 37, 38, 43, 47, 48, 49, 50, 51, 50, 49, 50, 55, 56, 59, 60, 59, 63, 64, 68, 69, 72, 71, 72, 73, 74, 75, 81, 82, 84, 85, 86, 85, 87, 86, 85, 84, 83, 82, 83, 87, 88, 89, 90, 89, 88, 94, 95, 94, 93], [0, 0, 1, 2, 3, 4, 3, 2, 3, 2, 5, 6, 12, 11, 12, 11, 10, 9, 10, 11, 12, 11, 12, 13, 12, 13, 16, 17, 18, 19, 18, 19, 20, 21, 24, 25, 26, 25, 26, 27, 26, 27, 28, 27, 28, 30, 29, 30, 31, 32, 33, 36, 37, 38, 43, 47, 48, 49, 50, 51, 50, 49, 50, 55, 56, 59, 60, 59, 63, 64, 68, 69, 72, 71, 72, 73, 74, 75, 81, 82, 84, 85, 86, 85, 87, 86, 85, 84, 83, 82, 83, 87, 88, 89, 90, 89, 88, 94, 95, 94, 93], [0, 0, 1, 2, 3, 4, 3, 2, 3, 2, 5, 6, 12, 11, 12, 11, 10, 9, 10, 11, 12, 11, 12, 13, 12, 13, 16, 17, 18, 19, 18, 19, 20, 21, 24, 25, 26, 25, 26, 27, 26, 27, 28, 27, 28, 30, 29, 30, 31, 32, 33, 36, 37, 38, 43, 47, 48, 49, 50, 51, 50, 49, 50, 55, 56, 59, 60, 59, 63, 64, 68, 69, 72, 71, 72, 73, 74, 75, 81, 82, 84, 85, 86, 85, 87, 86, 85, 84, 83, 82, 83, 87, 88, 89, 90, 89, 88, 94, 95, 94, 93], [0, 0, 1, 2, 3, 4, 3, 2, 3, 2, 5, 6, 12, 11, 12, 11, 10, 9, 10, 11, 12, 11, 12, 13, 12, 13, 16, 17, 18, 19, 18, 19, 20, 21, 24, 25, 26, 25, 26, 27, 26, 27, 28, 27, 28, 30, 29, 30, 31, 32, 33, 36, 37, 38, 43, 47, 48, 49, 50, 51, 50, 49, 50, 55, 56, 59, 60, 59, 63, 64, 68, 69, 72, 71, 72, 73, 74, 75, 81, 82, 84, 85, 86, 85, 87, 86, 85, 84, 83, 82, 83, 87, 88, 89, 90, 89, 88, 94, 95, 94, 93], [0, 0, 1, 2, 3, 4, 3, 2, 3, 2, 5, 6, 12, 11, 12, 11, 10, 9, 10, 11, 12, 11, 12, 13, 12, 13, 16, 17, 18, 19, 18, 19, 20, 21, 24, 25, 26, 25, 26, 27, 26, 27, 28, 27, 28, 30, 29, 30, 31, 32, 33, 36, 37, 38, 43, 47, 48, 49, 50, 51, 50, 49, 50, 55, 56, 59, 60, 59, 63, 64, 68, 69, 72, 71, 72, 73, 74, 75, 81, 82, 84, 85, 86, 85, 87, 86, 85, 84, 83, 82, 83, 87, 88, 89, 90, 89, 88, 94, 95, 94, 93], [0, 0, 1, 2, 3, 4, 3, 2, 3, 2, 5, 6, 12, 11, 12, 11, 10, 9, 10, 11, 12, 11, 12, 13, 12, 13, 16, 17, 18, 19, 18, 19, 20, 21, 24, 25, 26, 25, 26, 27, 26, 27, 28, 27, 28, 30, 29, 30, 31, 32, 33, 36, 37, 38, 43, 47, 48, 49, 50, 51, 50, 49, 50, 55, 56, 59, 60, 59, 63, 64, 68, 69, 72, 71, 72, 73, 74, 75, 81, 82, 84, 85, 86, 85, 87, 86, 85, 84, 83, 82, 83, 87, 88, 89, 90, 89, 88, 94, 95, 94, 93], [0, 0, 1, 2, 3, 4, 3, 2, 3, 2, 5, 6, 12, 11, 12, 11, 10, 9, 10, 11, 12, 11, 12, 13, 12, 13, 16, 17, 18, 19, 18, 19, 20, 21, 24, 25, 26, 25, 26, 27, 26, 27, 28, 27, 28, 30, 29, 30, 31, 32, 33, 36, 37, 38, 43, 47, 48, 49, 50, 51, 50, 49, 50, 55, 56, 59, 60, 59, 63, 64, 68, 69, 72, 71, 72, 73, 74, 75, 81, 82, 84, 85, 86, 85, 87, 86, 85, 84, 83, 82, 83, 87, 88, 89, 90, 89, 88, 94, 95, 94, 93], [0, 0, 1, 2, 3, 4, 3, 2, 3, 2, 5, 6, 12, 11, 12, 11, 10, 9, 10, 11, 12, 11, 12, 13, 12, 13, 16, 17, 18, 19, 18, 19, 20, 21, 24, 25, 26, 25, 26, 27, 26, 27, 28, 27, 28, 30, 29, 30, 31, 32, 33, 36, 37, 38, 43, 47, 48, 49, 50, 51, 50, 49, 50, 55, 56, 59, 60, 59, 63, 64, 68, 69, 72, 71, 72, 73, 74, 75, 81, 82, 84, 85, 86, 85, 87, 86, 85, 84, 83, 82, 83, 87, 88, 89, 90, 89, 88, 94, 95, 94, 93], [0, 0, 1, 2, 3, 4, 3, 2, 3, 2, 5, 6, 12, 11, 12, 11, 10, 9, 10, 11, 12, 11, 12, 13, 12, 13, 16, 17, 18, 19, 18, 19, 20, 21, 24, 25, 26, 25, 26, 27, 26, 27, 28, 27, 28, 30, 29, 30, 31, 32, 33, 36, 37, 38, 43, 47, 48, 49, 50, 51, 50, 49, 50, 55, 56, 59, 60, 59, 63, 64, 68, 69, 72, 71, 72, 73, 74, 75, 81, 82, 84, 85, 86, 85, 87, 86, 85, 84, 83, 82, 83, 87, 88, 89, 90, 89, 88, 94, 95, 94, 93], [0, 0, 1, 2, 3, 4, 3, 2, 3, 2, 5, 6, 12, 11, 12, 11, 10, 9, 10, 11, 12, 11, 12, 13, 12, 13, 16, 17, 18, 19, 18, 19, 20, 21, 24, 25, 26, 25, 26, 27, 26, 27, 28, 27, 28, 30, 29, 30, 31, 32, 33, 36, 37, 38, 43, 47, 48, 49, 50, 51, 50, 49, 50, 55, 56, 59, 60, 59, 63, 64, 68, 69, 72, 71, 72, 73, 74, 75, 81, 82, 84, 85, 86, 85, 87, 86, 85, 84, 83, 82, 83, 87, 88, 89, 90, 89, 88, 94, 95, 94, 93], [0, 0, 1, 2, 3, 4, 3, 2, 3, 2, 5, 6, 12, 11, 12, 11, 10, 9, 10, 11, 12, 11, 12, 13, 12, 13, 16, 17, 18, 19, 18, 19, 20, 21, 24, 25, 26, 25, 26, 27, 26, 27, 28, 27, 28, 30, 29, 30, 31, 32, 33, 36, 37, 38, 43, 47, 48, 49, 50, 51, 50, 49, 50, 55, 56, 59, 60, 59, 63, 64, 68, 69, 72, 71, 72, 73, 74, 75, 81, 82, 84, 85, 86, 85, 87, 86, 85, 84, 83, 82, 83, 87, 88, 89, 90, 89, 88, 94, 95, 94, 93], [0, 0, 1, 2, 3, 4, 3, 2, 3, 2, 5, 6, 12, 11, 12, 11, 10, 9, 10, 11, 12, 11, 12, 13, 12, 13, 16, 17, 18, 19, 18, 19, 20, 21, 24, 25, 26, 25, 26, 27, 26, 27, 28, 27, 28, 30, 29, 30, 31, 32, 33, 36, 37, 38, 43, 47, 48, 49, 50, 51, 50, 49, 50, 55, 56, 59, 60, 59, 63, 64, 68, 69, 72, 71, 72, 73, 74, 75, 81, 82, 84, 85, 86, 85, 87, 86, 85, 84, 83, 82, 83, 87, 88, 89, 90, 89, 88, 94, 95, 94, 93], [0, 0, 1, 2, 3, 4, 3, 2, 3, 2, 5, 6, 12, 11, 12, 11, 10, 9, 10, 11, 12, 11, 12, 13, 12, 13, 16, 17, 18, 19, 18, 19, 20, 21, 24, 25, 26, 25, 26, 27, 26, 27, 28, 27, 28, 30, 29, 30, 31, 32, 33, 36, 37, 38, 43, 47, 48, 49, 50, 51, 50, 49, 50, 55, 56, 59, 60, 59, 63, 64, 68, 69, 72, 71, 72, 73, 74, 75, 81, 82, 84, 85, 86, 85, 87, 86, 85, 84, 83, 82, 83, 87, 88, 89, 90, 89, 88, 94, 95, 94, 93], [0, 0, 1, 2, 3, 4, 3, 2, 3, 2, 5, 6, 12, 11, 12, 11, 10, 9, 10, 11, 12, 11, 12, 13, 12, 13, 16, 17, 18, 19, 18, 19, 20, 21, 24, 25, 26, 25, 26, 27, 26, 27, 28, 27, 28, 30, 29, 30, 31, 32, 33, 36, 37, 38, 43, 47, 48, 49, 50, 51, 50, 49, 50, 55, 56, 59, 60, 59, 63, 64, 68, 69, 72, 71, 72, 73, 74, 75, 81, 82, 84, 85, 86, 85, 87, 86, 85, 84, 83, 82, 83, 87, 88, 89, 90, 89, 88, 94, 95, 94, 93], [0, 0, 1, 2, 3, 4, 3, 2, 3, 2, 5, 6, 12, 11, 12, 11, 10, 9, 10, 11, 12, 11, 12, 13, 12, 13, 16, 17, 18, 19, 18, 19, 20, 21, 24, 25, 26, 25, 26, 27, 26, 27, 28, 27, 28, 30, 29, 30, 31, 32, 33, 36, 37, 38, 43, 47, 48, 49, 50, 51, 50, 49, 50, 55, 56, 59, 60, 59, 63, 64, 68, 69, 72, 71, 72, 73, 74, 75, 81, 82, 84, 85, 86, 85, 87, 86, 85, 84, 83, 82, 83, 87, 88, 89, 90, 89, 88, 94, 95, 94, 93], [0, 0, 1, 2, 3, 4, 3, 2, 3, 2, 5, 6, 12, 11, 12, 11, 10, 9, 10, 11, 12, 11, 12, 13, 12, 13, 16, 17, 18, 19, 18, 19, 20, 21, 24, 25, 26, 25, 26, 27, 26, 27, 28, 27, 28, 30, 29, 30, 31, 32, 33, 36, 37, 38, 43, 47, 48, 49, 50, 51, 50, 49, 50, 55, 56, 59, 60, 59, 63, 64, 68, 69, 72, 71, 72, 73, 74, 75, 81, 82, 84, 85, 86, 85, 87, 86, 85, 84, 83, 82, 83, 87, 88, 89, 90, 89, 88, 94, 95, 94, 93], [0, 0, 1, 2, 3, 4, 3, 2, 3, 2, 5, 6, 12, 11, 12, 11, 10, 9, 10, 11, 12, 11, 12, 13, 12, 13, 16, 17, 18, 19, 18, 19, 20, 21, 24, 25, 26, 25, 26, 27, 26, 27, 28, 27, 28, 30, 29, 30, 31, 32, 33, 36, 37, 38, 43, 47, 48, 49, 50, 51, 50, 49, 50, 55, 56, 59, 60, 59, 63, 64, 68, 69, 72, 71, 72, 73, 74, 75, 81, 82, 84, 85, 86, 85, 87, 86, 85, 84, 83, 82, 83, 87, 88, 89, 90, 89, 88, 94, 95, 94, 93], [0, 0, 1, 2, 3, 4, 3, 2, 3, 2, 5, 6, 12, 11, 12, 11, 10, 9, 10, 11, 12, 11, 12, 13, 12, 13, 16, 17, 18, 19, 18, 19, 20, 21, 24, 25, 26, 25, 26, 27, 26, 27, 28, 27, 28, 30, 29, 30, 31, 32, 33, 36, 37, 38, 43, 47, 48, 49, 50, 51, 50, 49, 50, 55, 56, 59, 60, 59, 63, 64, 68, 69, 72, 71, 72, 73, 74, 75, 81, 82, 84, 85, 86, 85, 87, 86, 85, 84, 83, 82, 83, 87, 88, 89, 90, 89, 88, 94, 95, 94, 93], [0, 0, 1, 2, 3, 4, 3, 2, 3, 2, 5, 6, 12, 11, 12, 11, 10, 9, 10, 11, 12, 11, 12, 13, 12, 13, 16, 17, 18, 19, 18, 19, 20, 21, 24, 25, 26, 25, 26, 27, 26, 27, 28, 27, 28, 30, 29, 30, 31, 32, 33, 36, 37, 38, 43, 47, 48, 49, 50, 51, 50, 49, 50, 55, 56, 59, 60, 59, 63, 64, 68, 69, 72, 71, 72, 73, 74, 75, 81, 82, 84, 85, 86, 85, 87, 86, 85, 84, 83, 82, 83, 87, 88, 89, 90, 89, 88, 94, 95, 94, 93], [0, 0, 1, 2, 3, 4, 3, 2, 3, 2, 5, 6, 12, 11, 12, 11, 10, 9, 10, 11, 12, 11, 12, 13, 12, 13, 16, 17, 18, 19, 18, 19, 20, 21, 24, 25, 26, 25, 26, 27, 26, 27, 28, 27, 28, 30, 29, 30, 31, 32, 33, 36, 37, 38, 43, 47, 48, 49, 50, 51, 50, 49, 50, 55, 56, 59, 60, 59, 63, 64, 68, 69, 72, 71, 72, 73, 74, 75, 81, 82, 84, 85, 86, 85, 87, 86, 85, 84, 83, 82, 83, 87, 88, 89, 90, 89, 88, 94, 95, 94, 93], [0, 0, 1, 2, 3, 4, 3, 2, 3, 2, 5, 6, 12, 11, 12, 11, 10, 9, 10, 11, 12, 11, 12, 13, 12, 13, 16, 17, 18, 19, 18, 19, 20, 21, 24, 25, 26, 25, 26, 27, 26, 27, 28, 27, 28, 30, 29, 30, 31, 32, 33, 36, 37, 38, 43, 47, 48, 49, 50, 51, 50, 49, 50, 55, 56, 59, 60, 59, 63, 64, 68, 69, 72, 71, 72, 73, 74, 75, 81, 82, 84, 85, 86, 85, 87, 86, 85, 84, 83, 82, 83, 87, 88, 89, 90, 89, 88, 94, 95, 94, 93], [0, 0, 1, 2, 3, 4, 3, 2, 3, 2, 5, 6, 12, 11, 12, 11, 10, 9, 10, 11, 12, 11, 12, 13, 12, 13, 16, 17, 18, 19, 18, 19, 20, 21, 24, 25, 26, 25, 26, 27, 26, 27, 28, 27, 28, 30, 29, 30, 31, 32, 33, 36, 37, 38, 43, 47, 48, 49, 50, 51, 50, 49, 50, 55, 56, 59, 60, 59, 63, 64, 68, 69, 72, 71, 72, 73, 74, 75, 81, 82, 84, 85, 86, 85, 87, 86, 85, 84, 83, 82, 83, 87, 88, 89, 90, 89, 88, 94, 95, 94, 93], [0, 0, 1, 2, 3, 4, 3, 2, 3, 2, 5, 6, 12, 11, 12, 11, 10, 9, 10, 11, 12, 11, 12, 13, 12, 13, 16, 17, 18, 19, 18, 19, 20, 21, 24, 25, 26, 25, 26, 27, 26, 27, 28, 27, 28, 30, 29, 30, 31, 32, 33, 36, 37, 38, 43, 47, 48, 49, 50, 51, 50, 49, 50, 55, 56, 59, 60, 59, 63, 64, 68, 69, 72, 71, 72, 73, 74, 75, 81, 82, 84, 85, 86, 85, 87, 86, 85, 84, 83, 82, 83, 87, 88, 89, 90, 89, 88, 94, 95, 94, 93], [0, 0, 1, 2, 3, 4, 3, 2, 3, 2, 5, 6, 12, 11, 12, 11, 10, 9, 10, 11, 12, 11, 12, 13, 12, 13, 16, 17, 18, 19, 18, 19, 20, 21, 24, 25, 26, 25, 26, 27, 26, 27, 28, 27, 28, 30, 29, 30, 31, 32, 33, 36, 37, 38, 43, 47, 48, 49, 50, 51, 50, 49, 50, 55, 56, 59, 60, 59, 63, 64, 68, 69, 72, 71, 72, 73, 74, 75, 81, 82, 84, 85, 86, 85, 87, 86, 85, 84, 83, 82, 83, 87, 88, 89, 90, 89, 88, 94, 95, 94, 93], [0, 0, 1, 2, 3, 4, 3, 2, 3, 2, 5, 6, 12, 11, 12, 11, 10, 9, 10, 11, 12, 11, 12, 13, 12, 13, 16, 17, 18, 19, 18, 19, 20, 21, 24, 25, 26, 25, 26, 27, 26, 27, 28, 27, 28, 30, 29, 30, 31, 32, 33, 36, 37, 38, 43, 47, 48, 49, 50, 51, 50, 49, 50, 55, 56, 59, 60, 59, 63, 64, 68, 69, 72, 71, 72, 73, 74, 75, 81, 82, 84, 85, 86, 85, 87, 86, 85, 84, 83, 82, 83, 87, 88, 89, 90, 89, 88, 94, 95, 94, 93], [0, 0, 1, 2, 3, 4, 3, 2, 3, 2, 5, 6, 12, 11, 12, 11, 10, 9, 10, 11, 12, 11, 12, 13, 12, 13, 16, 17, 18, 19, 18, 19, 20, 21, 24, 25, 26, 25, 26, 27, 26, 27, 28, 27, 28, 30, 29, 30, 31, 32, 33, 36, 37, 38, 43, 47, 48, 49, 50, 51, 50, 49, 50, 55, 56, 59, 60, 59, 63, 64, 68, 69, 72, 71, 72, 73, 74, 75, 81, 82, 84, 85, 86, 85, 87, 86, 85, 84, 83, 82, 83, 87, 88, 89, 90, 89, 88, 94, 95, 94, 93], [0, 0, 1, 2, 3, 4, 3, 2, 3, 2, 5, 6, 12, 11, 12, 11, 10, 9, 10, 11, 12, 11, 12, 13, 12, 13, 16, 17, 18, 19, 18, 19, 20, 21, 24, 25, 26, 25, 26, 27, 26, 27, 28, 27, 28, 30, 29, 30, 31, 32, 33, 36, 37, 38, 43, 47, 48, 49, 50, 51, 50, 49, 50, 55, 56, 59, 60, 59, 63, 64, 68, 69, 72, 71, 72, 73, 74, 75, 81, 82, 84, 85, 86, 85, 87, 86, 85, 84, 83, 82, 83, 87, 88, 89, 90, 89, 88, 94, 95, 94, 93], [0, 0, 1, 2, 3, 4, 3, 2, 3, 2, 5, 6, 12, 11, 12, 11, 10, 9, 10, 11, 12, 11, 12, 13, 12, 13, 16, 17, 18, 19, 18, 19, 20, 21, 24, 25, 26, 25, 26, 27, 26, 27, 28, 27, 28, 30, 29, 30, 31, 32, 33, 36, 37, 38, 43, 47, 48, 49, 50, 51, 50, 49, 50, 55, 56, 59, 60, 59, 63, 64, 68, 69, 72, 71, 72, 73, 74, 75, 81, 82, 84, 85, 86, 85, 87, 86, 85, 84, 83, 82, 83, 87, 88, 89, 90, 89, 88, 94, 95, 94, 93], [0, 0, 1, 2, 3, 4, 3, 2, 3, 2, 5, 6, 12, 11, 12, 11, 10, 9, 10, 11, 12, 11, 12, 13, 12, 13, 16, 17, 18, 19, 18, 19, 20, 21, 24, 25, 26, 25, 26, 27, 26, 27, 28, 27, 28, 30, 29, 30, 31, 32, 33, 36, 37, 38, 43, 47, 48, 49, 50, 51, 50, 49, 50, 55, 56, 59, 60, 59, 63, 64, 68, 69, 72, 71, 72, 73, 74, 75, 81, 82, 84, 85, 86, 85, 87, 86, 85, 84, 83, 82, 83, 87, 88, 89, 90, 89, 88, 94, 95, 94, 93], [0, 0, 1, 2, 3, 4, 3, 2, 3, 2, 5, 6, 12, 11, 12, 11, 10, 9, 10, 11, 12, 11, 12, 13, 12, 13, 16, 17, 18, 19, 18, 19, 20, 21, 24, 25, 26, 25, 26, 27, 26, 27, 28, 27, 28, 30, 29, 30, 31, 32, 33, 36, 37, 38, 43, 47, 48, 49, 50, 51, 50, 49, 50, 55, 56, 59, 60, 59, 63, 64, 68, 69, 72, 71, 72, 73, 74, 75, 81, 82, 84, 85, 86, 85, 87, 86, 85, 84, 83, 82, 83, 87, 88, 89, 90, 89, 88, 94, 95, 94, 93], [0, 0, 1, 2, 3, 4, 3, 2, 3, 2, 5, 6, 12, 11, 12, 11, 10, 9, 10, 11, 12, 11, 12, 13, 12, 13, 16, 17, 18, 19, 18, 19, 20, 21, 24, 25, 26, 25, 26, 27, 26, 27, 28, 27, 28, 30, 29, 30, 31, 32, 33, 36, 37, 38, 43, 47, 48, 49, 50, 51, 50, 49, 50, 55, 56, 59, 60, 59, 63, 64, 68, 69, 72, 71, 72, 73, 74, 75, 81, 82, 84, 85, 86, 85, 87, 86, 85, 84, 83, 82, 83, 87, 88, 89, 90, 89, 88, 94, 95, 94, 93], [0, 0, 1, 2, 3, 4, 3, 2, 3, 2, 5, 6, 12, 11, 12, 11, 10, 9, 10, 11, 12, 11, 12, 13, 12, 13, 16, 17, 18, 19, 18, 19, 20, 21, 24, 25, 26, 25, 26, 27, 26, 27, 28, 27, 28, 30, 29, 30, 31, 32, 33, 36, 37, 38, 43, 47, 48, 49, 50, 51, 50, 49, 50, 55, 56, 59, 60, 59, 63, 64, 68, 69, 72, 71, 72, 73, 74, 75, 81, 82, 84, 85, 86, 85, 87, 86, 85, 84, 83, 82, 83, 87, 88, 89, 90, 89, 88, 94, 95, 94, 93], [0, 0, 1, 2, 3, 4, 3, 2, 3, 2, 5, 6, 12, 11, 12, 11, 10, 9, 10, 11, 12, 11, 12, 13, 12, 13, 16, 17, 18, 19, 18, 19, 20, 21, 24, 25, 26, 25, 26, 27, 26, 27, 28, 27, 28, 30, 29, 30, 31, 32, 33, 36, 37, 38, 43, 47, 48, 49, 50, 51, 50, 49, 50, 55, 56, 59, 60, 59, 63, 64, 68, 69, 72, 71, 72, 73, 74, 75, 81, 82, 84, 85, 86, 85, 87, 86, 85, 84, 83, 82, 83, 87, 88, 89, 90, 89, 88, 94, 95, 94, 93], [0, 0, 1, 2, 3, 4, 3, 2, 3, 2, 5, 6, 12, 11, 12, 11, 10, 9, 10, 11, 12, 11, 12, 13, 12, 13, 16, 17, 18, 19, 18, 19, 20, 21, 24, 25, 26, 25, 26, 27, 26, 27, 28, 27, 28, 30, 29, 30, 31, 32, 33, 36, 37, 38, 43, 47, 48, 49, 50, 51, 50, 49, 50, 55, 56, 59, 60, 59, 63, 64, 68, 69, 72, 71, 72, 73, 74, 75, 81, 82, 84, 85, 86, 85, 87, 86, 85, 84, 83, 82, 83, 87, 88, 89, 90, 89, 88, 94, 95, 94, 93], [0, 0, 1, 2, 3, 4, 3, 2, 3, 2, 5, 6, 12, 11, 12, 11, 10, 9, 10, 11, 12, 11, 12, 13, 12, 13, 16, 17, 18, 19, 18, 19, 20, 21, 24, 25, 26, 25, 26, 27, 26, 27, 28, 27, 28, 30, 29, 30, 31, 32, 33, 36, 37, 38, 43, 47, 48, 49, 50, 51, 50, 49, 50, 55, 56, 59, 60, 59, 63, 64, 68, 69, 72, 71, 72, 73, 74, 75, 81, 82, 84, 85, 86, 85, 87, 86, 85, 84, 83, 82, 83, 87, 88, 89, 90, 89, 88, 94, 95, 94, 93], [0, 0, 1, 2, 3, 4, 3, 2, 3, 2, 5, 6, 12, 11, 12, 11, 10, 9, 10, 11, 12, 11, 12, 13, 12, 13, 16, 17, 18, 19, 18, 19, 20, 21, 24, 25, 26, 25, 26, 27, 26, 27, 28, 27, 28, 30, 29, 30, 31, 32, 33, 36, 37, 38, 43, 47, 48, 49, 50, 51, 50, 49, 50, 55, 56, 59, 60, 59, 63, 64, 68, 69, 72, 71, 72, 73, 74, 75, 81, 82, 84, 85, 86, 85, 87, 86, 85, 84, 83, 82, 83, 87, 88, 89, 90, 89, 88, 94, 95, 94, 93], [0, 0, 1, 2, 3, 4, 3, 2, 3, 2, 5, 6, 12, 11, 12, 11, 10, 9, 10, 11, 12, 11, 12, 13, 12, 13, 16, 17, 18, 19, 18, 19, 20, 21, 24, 25, 26, 25, 26, 27, 26, 27, 28, 27, 28, 30, 29, 30, 31, 32, 33, 36, 37, 38, 43, 47, 48, 49, 50, 51, 50, 49, 50, 55, 56, 59, 60, 59, 63, 64, 68, 69, 72, 71, 72, 73, 74, 75, 81, 82, 84, 85, 86, 85, 87, 86, 85, 84, 83, 82, 83, 87, 88, 89, 90, 89, 88, 94, 95, 94, 93], [0, 0, 1, 2, 3, 4, 3, 2, 3, 2, 5, 6, 12, 11, 12, 11, 10, 9, 10, 11, 12, 11, 12, 13, 12, 13, 16, 17, 18, 19, 18, 19, 20, 21, 24, 25, 26, 25, 26, 27, 26, 27, 28, 27, 28, 30, 29, 30, 31, 32, 33, 36, 37, 38, 43, 47, 48, 49, 50, 51, 50, 49, 50, 55, 56, 59, 60, 59, 63, 64, 68, 69, 72, 71, 72, 73, 74, 75, 81, 82, 84, 85, 86, 85, 87, 86, 85, 84, 83, 82, 83, 87, 88, 89, 90, 89, 88, 94, 95, 94, 93], [0, 0, 1, 2, 3, 4, 3, 2, 3, 2, 5, 6, 12, 11, 12, 11, 10, 9, 10, 11, 12, 11, 12, 13, 12, 13, 16, 17, 18, 19, 18, 19, 20, 21, 24, 25, 26, 25, 26, 27, 26, 27, 28, 27, 28, 30, 29, 30, 31, 32, 33, 36, 37, 38, 43, 47, 48, 49, 50, 51, 50, 49, 50, 55, 56, 59, 60, 59, 63, 64, 68, 69, 72, 71, 72, 73, 74, 75, 81, 82, 84, 85, 86, 85, 87, 86, 85, 84, 83, 82, 83, 87, 88, 89, 90, 89, 88, 94, 95, 94, 93], [0, 0, 1, 2, 3, 4, 3, 2, 3, 2, 5, 6, 12, 11, 12, 11, 10, 9, 10, 11, 12, 11, 12, 13, 12, 13, 16, 17, 18, 19, 18, 19, 20, 21, 24, 25, 26, 25, 26, 27, 26, 27, 28, 27, 28, 30, 29, 30, 31, 32, 33, 36, 37, 38, 43, 47, 48, 49, 50, 51, 50, 49, 50, 55, 56, 59, 60, 59, 63, 64, 68, 69, 72, 71, 72, 73, 74, 75, 81, 82, 84, 85, 86, 85, 87, 86, 85, 84, 83, 82, 83, 87, 88, 89, 90, 89, 88, 94, 95, 94, 93], [0, 0, 1, 2, 3, 4, 3, 2, 3, 2, 5, 6, 12, 11, 12, 11, 10, 9, 10, 11, 12, 11, 12, 13, 12, 13, 16, 17, 18, 19, 18, 19, 20, 21, 24, 25, 26, 25, 26, 27, 26, 27, 28, 27, 28, 30, 29, 30, 31, 32, 33, 36, 37, 38, 43, 47, 48, 49, 50, 51, 50, 49, 50, 55, 56, 59, 60, 59, 63, 64, 68, 69, 72, 71, 72, 73, 74, 75, 81, 82, 84, 85, 86, 85, 87, 86, 85, 84, 83, 82, 83, 87, 88, 89, 90, 89, 88, 94, 95, 94, 93], [0, 0, 1, 2, 3, 4, 3, 2, 3, 2, 5, 6, 12, 11, 12, 11, 10, 9, 10, 11, 12, 11, 12, 13, 12, 13, 16, 17, 18, 19, 18, 19, 20, 21, 24, 25, 26, 25, 26, 27, 26, 27, 28, 27, 28, 30, 29, 30, 31, 32, 33, 36, 37, 38, 43, 47, 48, 49, 50, 51, 50, 49, 50, 55, 56, 59, 60, 59, 63, 64, 68, 69, 72, 71, 72, 73, 74, 75, 81, 82, 84, 85, 86, 85, 87, 86, 85, 84, 83, 82, 83, 87, 88, 89, 90, 89, 88, 94, 95, 94, 93], [0, 0, 1, 2, 3, 4, 3, 2, 3, 2, 5, 6, 12, 11, 12, 11, 10, 9, 10, 11, 12, 11, 12, 13, 12, 13, 16, 17, 18, 19, 18, 19, 20, 21, 24, 25, 26, 25, 26, 27, 26, 27, 28, 27, 28, 30, 29, 30, 31, 32, 33, 36, 37, 38, 43, 47, 48, 49, 50, 51, 50, 49, 50, 55, 56, 59, 60, 59, 63, 64, 68, 69, 72, 71, 72, 73, 74, 75, 81, 82, 84, 85, 86, 85, 87, 86, 85, 84, 83, 82, 83, 87, 88, 89, 90, 89, 88, 94, 95, 94, 93], [0, 0, 1, 2, 3, 4, 3, 2, 3, 2, 5, 6, 12, 11, 12, 11, 10, 9, 10, 11, 12, 11, 12, 13, 12, 13, 16, 17, 18, 19, 18, 19, 20, 21, 24, 25, 26, 25, 26, 27, 26, 27, 28, 27, 28, 30, 29, 30, 31, 32, 33, 36, 37, 38, 43, 47, 48, 49, 50, 51, 50, 49, 50, 55, 56, 59, 60, 59, 63, 64, 68, 69, 72, 71, 72, 73, 74, 75, 81, 82, 84, 85, 86, 85, 87, 86, 85, 84, 83, 82, 83, 87, 88, 89, 90, 89, 88, 94, 95, 94, 93], [0, 0, 1, 2, 3, 4, 3, 2, 3, 2, 5, 6, 12, 11, 12, 11, 10, 9, 10, 11, 12, 11, 12, 13, 12, 13, 16, 17, 18, 19, 18, 19, 20, 21, 24, 25, 26, 25, 26, 27, 26, 27, 28, 27, 28, 30, 29, 30, 31, 32, 33, 36, 37, 38, 43, 47, 48, 49, 50, 51, 50, 49, 50, 55, 56, 59, 60, 59, 63, 64, 68, 69, 72, 71, 72, 73, 74, 75, 81, 82, 84, 85, 86, 85, 87, 86, 85, 84, 83, 82, 83, 87, 88, 89, 90, 89, 88, 94, 95, 94, 93], [0, 0, 1, 2, 3, 4, 3, 2, 3, 2, 5, 6, 12, 11, 12, 11, 10, 9, 10, 11, 12, 11, 12, 13, 12, 13, 16, 17, 18, 19, 18, 19, 20, 21, 24, 25, 26, 25, 26, 27, 26, 27, 28, 27, 28, 30, 29, 30, 31, 32, 33, 36, 37, 38, 43, 47, 48, 49, 50, 51, 50, 49, 50, 55, 56, 59, 60, 59, 63, 64, 68, 69, 72, 71, 72, 73, 74, 75, 81, 82, 84, 85, 86, 85, 87, 86, 85, 84, 83, 82, 83, 87, 88, 89, 90, 89, 88, 94, 95, 94, 93], [0, 0, 1, 2, 3, 4, 3, 2, 3, 2, 5, 6, 12, 11, 12, 11, 10, 9, 10, 11, 12, 11, 12, 13, 12, 13, 16, 17, 18, 19, 18, 19, 20, 21, 24, 25, 26, 25, 26, 27, 26, 27, 28, 27, 28, 30, 29, 30, 31, 32, 33, 36, 37, 38, 43, 47, 48, 49, 50, 51, 50, 49, 50, 55, 56, 59, 60, 59, 63, 64, 68, 69, 72, 71, 72, 73, 74, 75, 81, 82, 84, 85, 86, 85, 87, 86, 85, 84, 83, 82, 83, 87, 88, 89, 90, 89, 88, 94, 95, 94, 93], [0, 0, 1, 2, 3, 4, 3, 2, 3, 2, 5, 6, 12, 11, 12, 11, 10, 9, 10, 11, 12, 11, 12, 13, 12, 13, 16, 17, 18, 19, 18, 19, 20, 21, 24, 25, 26, 25, 26, 27, 26, 27, 28, 27, 28, 30, 29, 30, 31, 32, 33, 36, 37, 38, 43, 47, 48, 49, 50, 51, 50, 49, 50, 55, 56, 59, 60, 59, 63, 64, 68, 69, 72, 71, 72, 73, 74, 75, 81, 82, 84, 85, 86, 85, 87, 86, 85, 84, 83, 82, 83, 87, 88, 89, 90, 89, 88, 94, 95, 94, 93], [0, 0, 1, 2, 3, 4, 3, 2, 3, 2, 5, 6, 12, 11, 12, 11, 10, 9, 10, 11, 12, 11, 12, 13, 12, 13, 16, 17, 18, 19, 18, 19, 20, 21, 24, 25, 26, 25, 26, 27, 26, 27, 28, 27, 28, 30, 29, 30, 31, 32, 33, 36, 37, 38, 43, 47, 48, 49, 50, 51, 50, 49, 50, 55, 56, 59, 60, 59, 63, 64, 68, 69, 72, 71, 72, 73, 74, 75, 81, 82, 84, 85, 86, 85, 87, 86, 85, 84, 83, 82, 83, 87, 88, 89, 90, 89, 88, 94, 95, 94, 93], [0, 0, 1, 2, 3, 4, 3, 2, 3, 2, 5, 6, 12, 11, 12, 11, 10, 9, 10, 11, 12, 11, 12, 13, 12, 13, 16, 17, 18, 19, 18, 19, 20, 21, 24, 25, 26, 25, 26, 27, 26, 27, 28, 27, 28, 30, 29, 30, 31, 32, 33, 36, 37, 38, 43, 47, 48, 49, 50, 51, 50, 49, 50, 55, 56, 59, 60, 59, 63, 64, 68, 69, 72, 71, 72, 73, 74, 75, 81, 82, 84, 85, 86, 85, 87, 86, 85, 84, 83, 82, 83, 87, 88, 89, 90, 89, 88, 94, 95, 94, 93], [0, 0, 1, 2, 3, 4, 3, 2, 3, 2, 5, 6, 12, 11, 12, 11, 10, 9, 10, 11, 12, 11, 12, 13, 12, 13, 16, 17, 18, 19, 18, 19, 20, 21, 24, 25, 26, 25, 26, 27, 26, 27, 28, 27, 28, 30, 29, 30, 31, 32, 33, 36, 37, 38, 43, 47, 48, 49, 50, 51, 50, 49, 50, 55, 56, 59, 60, 59, 63, 64, 68, 69, 72, 71, 72, 73, 74, 75, 81, 82, 84, 85, 86, 85, 87, 86, 85, 84, 83, 82, 83, 87, 88, 89, 90, 89, 88, 94, 95, 94, 93], [0, 0, 1, 2, 3, 4, 3, 2, 3, 2, 5, 6, 12, 11, 12, 11, 10, 9, 10, 11, 12, 11, 12, 13, 12, 13, 16, 17, 18, 19, 18, 19, 20, 21, 24, 25, 26, 25, 26, 27, 26, 27, 28, 27, 28, 30, 29, 30, 31, 32, 33, 36, 37, 38, 43, 47, 48, 49, 50, 51, 50, 49, 50, 55, 56, 59, 60, 59, 63, 64, 68, 69, 72, 71, 72, 73, 74, 75, 81, 82, 84, 85, 86, 85, 87, 86, 85, 84, 83, 82, 83, 87, 88, 89, 90, 89, 88, 94, 95, 94, 93], [0, 0, 1, 2, 3, 4, 3, 2, 3, 2, 5, 6, 12, 11, 12, 11, 10, 9, 10, 11, 12, 11, 12, 13, 12, 13, 16, 17, 18, 19, 18, 19, 20, 21, 24, 25, 26, 25, 26, 27, 26, 27, 28, 27, 28, 30, 29, 30, 31, 32, 33, 36, 37, 38, 43, 47, 48, 49, 50, 51, 50, 49, 50, 55, 56, 59, 60, 59, 63, 64, 68, 69, 72, 71, 72, 73, 74, 75, 81, 82, 84, 85, 86, 85, 87, 86, 85, 84, 83, 82, 83, 87, 88, 89, 90, 89, 88, 94, 95, 94, 93], [0, 0, 1, 2, 3, 4, 3, 2, 3, 2, 5, 6, 12, 11, 12, 11, 10, 9, 10, 11, 12, 11, 12, 13, 12, 13, 16, 17, 18, 19, 18, 19, 20, 21, 24, 25, 26, 25, 26, 27, 26, 27, 28, 27, 28, 30, 29, 30, 31, 32, 33, 36, 37, 38, 43, 47, 48, 49, 50, 51, 50, 49, 50, 55, 56, 59, 60, 59, 63, 64, 68, 69, 72, 71, 72, 73, 74, 75, 81, 82, 84, 85, 86, 85, 87, 86, 85, 84, 83, 82, 83, 87, 88, 89, 90, 89, 88, 94, 95, 94, 93], [0, 0, 1, 2, 3, 4, 3, 2, 3, 2, 5, 6, 12, 11, 12, 11, 10, 9, 10, 11, 12, 11, 12, 13, 12, 13, 16, 17, 18, 19, 18, 19, 20, 21, 24, 25, 26, 25, 26, 27, 26, 27, 28, 27, 28, 30, 29, 30, 31, 32, 33, 36, 37, 38, 43, 47, 48, 49, 50, 51, 50, 49, 50, 55, 56, 59, 60, 59, 63, 64, 68, 69, 72, 71, 72, 73, 74, 75, 81, 82, 84, 85, 86, 85, 87, 86, 85, 84, 83, 82, 83, 87, 88, 89, 90, 89, 88, 94, 95, 94, 93], [0, 0, 1, 2, 3, 4, 3, 2, 3, 2, 5, 6, 12, 11, 12, 11, 10, 9, 10, 11, 12, 11, 12, 13, 12, 13, 16, 17, 18, 19, 18, 19, 20, 21, 24, 25, 26, 25, 26, 27, 26, 27, 28, 27, 28, 30, 29, 30, 31, 32, 33, 36, 37, 38, 43, 47, 48, 49, 50, 51, 50, 49, 50, 55, 56, 59, 60, 59, 63, 64, 68, 69, 72, 71, 72, 73, 74, 75, 81, 82, 84, 85, 86, 85, 87, 86, 85, 84, 83, 82, 83, 87, 88, 89, 90, 89, 88, 94, 95, 94, 93], [0, 0, 1, 2, 3, 4, 3, 2, 3, 2, 5, 6, 12, 11, 12, 11, 10, 9, 10, 11, 12, 11, 12, 13, 12, 13, 16, 17, 18, 19, 18, 19, 20, 21, 24, 25, 26, 25, 26, 27, 26, 27, 28, 27, 28, 30, 29, 30, 31, 32, 33, 36, 37, 38, 43, 47, 48, 49, 50, 51, 50, 49, 50, 55, 56, 59, 60, 59, 63, 64, 68, 69, 72, 71, 72, 73, 74, 75, 81, 82, 84, 85, 86, 85, 87, 86, 85, 84, 83, 82, 83, 87, 88, 89, 90, 89, 88, 94, 95, 94, 93], [0, 0, 1, 2, 3, 4, 3, 2, 3, 2, 5, 6, 12, 11, 12, 11, 10, 9, 10, 11, 12, 11, 12, 13, 12, 13, 16, 17, 18, 19, 18, 19, 20, 21, 24, 25, 26, 25, 26, 27, 26, 27, 28, 27, 28, 30, 29, 30, 31, 32, 33, 36, 37, 38, 43, 47, 48, 49, 50, 51, 50, 49, 50, 55, 56, 59, 60, 59, 63, 64, 68, 69, 72, 71, 72, 73, 74, 75, 81, 82, 84, 85, 86, 85, 87, 86, 85, 84, 83, 82, 83, 87, 88, 89, 90, 89, 88, 94, 95, 94, 93], [0, 0, 1, 2, 3, 4, 3, 2, 3, 2, 5, 6, 12, 11, 12, 11, 10, 9, 10, 11, 12, 11, 12, 13, 12, 13, 16, 17, 18, 19, 18, 19, 20, 21, 24, 25, 26, 25, 26, 27, 26, 27, 28, 27, 28, 30, 29, 30, 31, 32, 33, 36, 37, 38, 43, 47, 48, 49, 50, 51, 50, 49, 50, 55, 56, 59, 60, 59, 63, 64, 68, 69, 72, 71, 72, 73, 74, 75, 81, 82, 84, 85, 86, 85, 87, 86, 85, 84, 83, 82, 83, 87, 88, 89, 90, 89, 88, 94, 95, 94, 93], [0, 0, 1, 2, 3, 4, 3, 2, 3, 2, 5, 6, 12, 11, 12, 11, 10, 9, 10, 11, 12, 11, 12, 13, 12, 13, 16, 17, 18, 19, 18, 19, 20, 21, 24, 25, 26, 25, 26, 27, 26, 27, 28, 27, 28, 30, 29, 30, 31, 32, 33, 36, 37, 38, 43, 47, 48, 49, 50, 51, 50, 49, 50, 55, 56, 59, 60, 59, 63, 64, 68, 69, 72, 71, 72, 73, 74, 75, 81, 82, 84, 85, 86, 85, 87, 86, 85, 84, 83, 82, 83, 87, 88, 89, 90, 89, 88, 94, 95, 94, 93], [0, 0, 1, 2, 3, 4, 3, 2, 3, 2, 5, 6, 12, 11, 12, 11, 10, 9, 10, 11, 12, 11, 12, 13, 12, 13, 16, 17, 18, 19, 18, 19, 20, 21, 24, 25, 26, 25, 26, 27, 26, 27, 28, 27, 28, 30, 29, 30, 31, 32, 33, 36, 37, 38, 43, 47, 48, 49, 50, 51, 50, 49, 50, 55, 56, 59, 60, 59, 63, 64, 68, 69, 72, 71, 72, 73, 74, 75, 81, 82, 84, 85, 86, 85, 87, 86, 85, 84, 83, 82, 83, 87, 88, 89, 90, 89, 88, 94, 95, 94, 93], [0, 0, 1, 2, 3, 4, 3, 2, 3, 2, 5, 6, 12, 11, 12, 11, 10, 9, 10, 11, 12, 11, 12, 13, 12, 13, 16, 17, 18, 19, 18, 19, 20, 21, 24, 25, 26, 25, 26, 27, 26, 27, 28, 27, 28, 30, 29, 30, 31, 32, 33, 36, 37, 38, 43, 47, 48, 49, 50, 51, 50, 49, 50, 55, 56, 59, 60, 59, 63, 64, 68, 69, 72, 71, 72, 73, 74, 75, 81, 82, 84, 85, 86, 85, 87, 86, 85, 84, 83, 82, 83, 87, 88, 89, 90, 89, 88, 94, 95, 94, 93], [0, 0, 1, 2, 3, 4, 3, 2, 3, 2, 5, 6, 12, 11, 12, 11, 10, 9, 10, 11, 12, 11, 12, 13, 12, 13, 16, 17, 18, 19, 18, 19, 20, 21, 24, 25, 26, 25, 26, 27, 26, 27, 28, 27, 28, 30, 29, 30, 31, 32, 33, 36, 37, 38, 43, 47, 48, 49, 50, 51, 50, 49, 50, 55, 56, 59, 60, 59, 63, 64, 68, 69, 72, 71, 72, 73, 74, 75, 81, 82, 84, 85, 86, 85, 87, 86, 85, 84, 83, 82, 83, 87, 88, 89, 90, 89, 88, 94, 95, 94, 93], [0, 0, 1, 2, 3, 4, 3, 2, 3, 2, 5, 6, 12, 11, 12, 11, 10, 9, 10, 11, 12, 11, 12, 13, 12, 13, 16, 17, 18, 19, 18, 19, 20, 21, 24, 25, 26, 25, 26, 27, 26, 27, 28, 27, 28, 30, 29, 30, 31, 32, 33, 36, 37, 38, 43, 47, 48, 49, 50, 51, 50, 49, 50, 55, 56, 59, 60, 59, 63, 64, 68, 69, 72, 71, 72, 73, 74, 75, 81, 82, 84, 85, 86, 85, 87, 86, 85, 84, 83, 82, 83, 87, 88, 89, 90, 89, 88, 94, 95, 94, 93], [0, 0, 1, 2, 3, 4, 3, 2, 3, 2, 5, 6, 12, 11, 12, 11, 10, 9, 10, 11, 12, 11, 12, 13, 12, 13, 16, 17, 18, 19, 18, 19, 20, 21, 24, 25, 26, 25, 26, 27, 26, 27, 28, 27, 28, 30, 29, 30, 31, 32, 33, 36, 37, 38, 43, 47, 48, 49, 50, 51, 50, 49, 50, 55, 56, 59, 60, 59, 63, 64, 68, 69, 72, 71, 72, 73, 74, 75, 81, 82, 84, 85, 86, 85, 87, 86, 85, 84, 83, 82, 83, 87, 88, 89, 90, 89, 88, 94, 95, 94, 93], [0, 0, 1, 2, 3, 4, 3, 2, 3, 2, 5, 6, 12, 11, 12, 11, 10, 9, 10, 11, 12, 11, 12, 13, 12, 13, 16, 17, 18, 19, 18, 19, 20, 21, 24, 25, 26, 25, 26, 27, 26, 27, 28, 27, 28, 30, 29, 30, 31, 32, 33, 36, 37, 38, 43, 47, 48, 49, 50, 51, 50, 49, 50, 55, 56, 59, 60, 59, 63, 64, 68, 69, 72, 71, 72, 73, 74, 75, 81, 82, 84, 85, 86, 85, 87, 86, 85, 84, 83, 82, 83, 87, 88, 89, 90, 89, 88, 94, 95, 94, 93], [0, 0, 1, 2, 3, 4, 3, 2, 3, 2, 5, 6, 12, 11, 12, 11, 10, 9, 10, 11, 12, 11, 12, 13, 12, 13, 16, 17, 18, 19, 18, 19, 20, 21, 24, 25, 26, 25, 26, 27, 26, 27, 28, 27, 28, 30, 29, 30, 31, 32, 33, 36, 37, 38, 43, 47, 48, 49, 50, 51, 50, 49, 50, 55, 56, 59, 60, 59, 63, 64, 68, 69, 72, 71, 72, 73, 74, 75, 81, 82, 84, 85, 86, 85, 87, 86, 85, 84, 83, 82, 83, 87, 88, 89, 90, 89, 88, 94, 95, 94, 93], [0, 0, 1, 2, 3, 4, 3, 2, 3, 2, 5, 6, 12, 11, 12, 11, 10, 9, 10, 11, 12, 11, 12, 13, 12, 13, 16, 17, 18, 19, 18, 19, 20, 21, 24, 25, 26, 25, 26, 27, 26, 27, 28, 27, 28, 30, 29, 30, 31, 32, 33, 36, 37, 38, 43, 47, 48, 49, 50, 51, 50, 49, 50, 55, 56, 59, 60, 59, 63, 64, 68, 69, 72, 71, 72, 73, 74, 75, 81, 82, 84, 85, 86, 85, 87, 86, 85, 84, 83, 82, 83, 87, 88, 89, 90, 89, 88, 94, 95, 94, 93], [0, 4, 5, 6, 7, 6, 5, 6, 10, 9, 10, 11, 12, 11, 12, 13, 14, 13, 18, 17, 20, 19, 18, 19, 20, 19, 20, 21, 22, 23, 24, 28, 30, 31, 32, 33, 32, 38, 39, 40, 41, 42, 41, 42, 43, 44, 43, 42, 41, 47, 48, 49, 51, 50, 49, 53, 52, 53, 56, 60, 61, 60, 61, 66, 67, 68, 69, 68, 69, 68, 69, 70, 71, 72, 73, 74, 73, 74, 75, 76, 77, 83, 84, 83, 84, 85, 84, 85, 86, 87, 86, 87, 86, 87, 88, 87, 88, 89, 90, 92, 93], [0, 4, 5, 6, 7, 6, 5, 6, 10, 9, 10, 11, 12, 11, 12, 13, 14, 13, 18, 17, 20, 19, 18, 19, 20, 19, 20, 21, 22, 23, 24, 28, 30, 31, 32, 33, 32, 38, 39, 40, 41, 42, 41, 42, 43, 44, 43, 42, 41, 47, 48, 49, 51, 50, 49, 53, 52, 53, 56, 60, 61, 60, 61, 66, 67, 68, 69, 68, 69, 68, 69, 70, 71, 72, 73, 74, 73, 74, 75, 76, 77, 83, 84, 83, 84, 85, 84, 85, 86, 87, 86, 87, 86, 87, 88, 87, 88, 89, 90, 92, 93], [0, 4, 5, 6, 7, 6, 5, 6, 10, 9, 10, 11, 12, 11, 12, 13, 14, 13, 18, 17, 20, 19, 18, 19, 20, 19, 20, 21, 22, 23, 24, 28, 30, 31, 32, 33, 32, 38, 39, 40, 41, 42, 41, 42, 43, 44, 43, 42, 41, 47, 48, 49, 51, 50, 49, 53, 52, 53, 56, 60, 61, 60, 61, 66, 67, 68, 69, 68, 69, 68, 69, 70, 71, 72, 73, 74, 73, 74, 75, 76, 77, 83, 84, 83, 84, 85, 84, 85, 86, 87, 86, 87, 86, 87, 88, 87, 88, 89, 90, 92, 93], [0, 4, 5, 6, 7, 6, 5, 6, 10, 9, 10, 11, 12, 11, 12, 13, 14, 13, 18, 17, 20, 19, 18, 19, 20, 19, 20, 21, 22, 23, 24, 28, 30, 31, 32, 33, 32, 38, 39, 40, 41, 42, 41, 42, 43, 44, 43, 42, 41, 47, 48, 49, 51, 50, 49, 53, 52, 53, 56, 60, 61, 60, 61, 66, 67, 68, 69, 68, 69, 68, 69, 70, 71, 72, 73, 74, 73, 74, 75, 76, 77, 83, 84, 83, 84, 85, 84, 85, 86, 87, 86, 87, 86, 87, 88, 87, 88, 89, 90, 92, 93], [0, 4, 5, 6, 7, 6, 5, 6, 10, 9, 10, 11, 12, 11, 12, 13, 14, 13, 18, 17, 20, 19, 18, 19, 20, 19, 20, 21, 22, 23, 24, 28, 30, 31, 32, 33, 32, 38, 39, 40, 41, 42, 41, 42, 43, 44, 43, 42, 41, 47, 48, 49, 51, 50, 49, 53, 52, 53, 56, 60, 61, 60, 61, 66, 67, 68, 69, 68, 69, 68, 69, 70, 71, 72, 73, 74, 73, 74, 75, 76, 77, 83, 84, 83, 84, 85, 84, 85, 86, 87, 86, 87, 86, 87, 88, 87, 88, 89, 90, 92, 93], [0, 4, 5, 6, 7, 6, 5, 6, 10, 9, 10, 11, 12, 11, 12, 13, 14, 13, 18, 17, 20, 19, 18, 19, 20, 19, 20, 21, 22, 23, 24, 28, 30, 31, 32, 33, 32, 38, 39, 40, 41, 42, 41, 42, 43, 44, 43, 42, 41, 47, 48, 49, 51, 50, 49, 53, 52, 53, 56, 60, 61, 60, 61, 66, 67, 68, 69, 68, 69, 68, 69, 70, 71, 72, 73, 74, 73, 74, 75, 76, 77, 83, 84, 83, 84, 85, 84, 85, 86, 87, 86, 87, 86, 87, 88, 87, 88, 89, 90, 92, 93], [0, 4, 5, 6, 7, 6, 5, 6, 10, 9, 10, 11, 12, 11, 12, 13, 14, 13, 18, 17, 20, 19, 18, 19, 20, 19, 20, 21, 22, 23, 24, 28, 30, 31, 32, 33, 32, 38, 39, 40, 41, 42, 41, 42, 43, 44, 43, 42, 41, 47, 48, 49, 51, 50, 49, 53, 52, 53, 56, 60, 61, 60, 61, 66, 67, 68, 69, 68, 69, 68, 69, 70, 71, 72, 73, 74, 73, 74, 75, 76, 77, 83, 84, 83, 84, 85, 84, 85, 86, 87, 86, 87, 86, 87, 88, 87, 88, 89, 90, 92, 93], [0, 4, 5, 6, 7, 6, 5, 6, 10, 9, 10, 11, 12, 11, 12, 13, 14, 13, 18, 17, 20, 19, 18, 19, 20, 19, 20, 21, 22, 23, 24, 28, 30, 31, 32, 33, 32, 38, 39, 40, 41, 42, 41, 42, 43, 44, 43, 42, 41, 47, 48, 49, 51, 50, 49, 53, 52, 53, 56, 60, 61, 60, 61, 66, 67, 68, 69, 68, 69, 68, 69, 70, 71, 72, 73, 74, 73, 74, 75, 76, 77, 83, 84, 83, 84, 85, 84, 85, 86, 87, 86, 87, 86, 87, 88, 87, 88, 89, 90, 92, 93], [0, 4, 5, 6, 7, 6, 5, 6, 10, 9, 10, 11, 12, 11, 12, 13, 14, 13, 18, 17, 20, 19, 18, 19, 20, 19, 20, 21, 22, 23, 24, 28, 30, 31, 32, 33, 32, 38, 39, 40, 41, 42, 41, 42, 43, 44, 43, 42, 41, 47, 48, 49, 51, 50, 49, 53, 52, 53, 56, 60, 61, 60, 61, 66, 67, 68, 69, 68, 69, 68, 69, 70, 71, 72, 73, 74, 73, 74, 75, 76, 77, 83, 84, 83, 84, 85, 84, 85, 86, 87, 86, 87, 86, 87, 88, 87, 88, 89, 90, 92, 93], [0, 4, 5, 6, 7, 6, 5, 6, 10, 9, 10, 11, 12, 11, 12, 13, 14, 13, 18, 17, 20, 19, 18, 19, 20, 19, 20, 21, 22, 23, 24, 28, 30, 31, 32, 33, 32, 38, 39, 40, 41, 42, 41, 42, 43, 44, 43, 42, 41, 47, 48, 49, 51, 50, 49, 53, 52, 53, 56, 60, 61, 60, 61, 66, 67, 68, 69, 68, 69, 68, 69, 70, 71, 72, 73, 74, 73, 74, 75, 76, 77, 83, 84, 83, 84, 85, 84, 85, 86, 87, 86, 87, 86, 87, 88, 87, 88, 89, 90, 92, 93], [0, 4, 5, 6, 7, 6, 5, 6, 10, 9, 10, 11, 12, 11, 12, 13, 14, 13, 18, 17, 20, 19, 18, 19, 20, 19, 20, 21, 22, 23, 24, 28, 30, 31, 32, 33, 32, 38, 39, 40, 41, 42, 41, 42, 43, 44, 43, 42, 41, 47, 48, 49, 51, 50, 49, 53, 52, 53, 56, 60, 61, 60, 61, 66, 67, 68, 69, 68, 69, 68, 69, 70, 71, 72, 73, 74, 73, 74, 75, 76, 77, 83, 84, 83, 84, 85, 84, 85, 86, 87, 86, 87, 86, 87, 88, 87, 88, 89, 90, 92, 93], [0, 4, 5, 6, 7, 6, 5, 6, 10, 9, 10, 11, 12, 11, 12, 13, 14, 13, 18, 17, 20, 19, 18, 19, 20, 19, 20, 21, 22, 23, 24, 28, 30, 31, 32, 33, 32, 38, 39, 40, 41, 42, 41, 42, 43, 44, 43, 42, 41, 47, 48, 49, 51, 50, 49, 53, 52, 53, 56, 60, 61, 60, 61, 66, 67, 68, 69, 68, 69, 68, 69, 70, 71, 72, 73, 74, 73, 74, 75, 76, 77, 83, 84, 83, 84, 85, 84, 85, 86, 87, 86, 87, 86, 87, 88, 87, 88, 89, 90, 92, 93], [0, 4, 5, 6, 7, 6, 5, 6, 10, 9, 10, 11, 12, 11, 12, 13, 14, 13, 18, 17, 20, 19, 18, 19, 20, 19, 20, 21, 22, 23, 24, 28, 30, 31, 32, 33, 32, 38, 39, 40, 41, 42, 41, 42, 43, 44, 43, 42, 41, 47, 48, 49, 51, 50, 49, 53, 52, 53, 56, 60, 61, 60, 61, 66, 67, 68, 69, 68, 69, 68, 69, 70, 71, 72, 73, 74, 73, 74, 75, 76, 77, 83, 84, 83, 84, 85, 84, 85, 86, 87, 86, 87, 86, 87, 88, 87, 88, 89, 90, 92, 93], [0, 4, 5, 6, 7, 6, 5, 6, 10, 9, 10, 11, 12, 11, 12, 13, 14, 13, 18, 17, 20, 19, 18, 19, 20, 19, 20, 21, 22, 23, 24, 28, 30, 31, 32, 33, 32, 38, 39, 40, 41, 42, 41, 42, 43, 44, 43, 42, 41, 47, 48, 49, 51, 50, 49, 53, 52, 53, 56, 60, 61, 60, 61, 66, 67, 68, 69, 68, 69, 68, 69, 70, 71, 72, 73, 74, 73, 74, 75, 76, 77, 83, 84, 83, 84, 85, 84, 85, 86, 87, 86, 87, 86, 87, 88, 87, 88, 89, 90, 92, 93], [0, 4, 5, 6, 7, 6, 5, 6, 10, 9, 10, 11, 12, 11, 12, 13, 14, 13, 18, 17, 20, 19, 18, 19, 20, 19, 20, 21, 22, 23, 24, 28, 30, 31, 32, 33, 32, 38, 39, 40, 41, 42, 41, 42, 43, 44, 43, 42, 41, 47, 48, 49, 51, 50, 49, 53, 52, 53, 56, 60, 61, 60, 61, 66, 67, 68, 69, 68, 69, 68, 69, 70, 71, 72, 73, 74, 73, 74, 75, 76, 77, 83, 84, 83, 84, 85, 84, 85, 86, 87, 86, 87, 86, 87, 88, 87, 88, 89, 90, 92, 93], [0, 4, 5, 6, 7, 6, 5, 6, 10, 9, 10, 11, 12, 11, 12, 13, 14, 13, 18, 17, 20, 19, 18, 19, 20, 19, 20, 21, 22, 23, 24, 28, 30, 31, 32, 33, 32, 38, 39, 40, 41, 42, 41, 42, 43, 44, 43, 42, 41, 47, 48, 49, 51, 50, 49, 53, 52, 53, 56, 60, 61, 60, 61, 66, 67, 68, 69, 68, 69, 68, 69, 70, 71, 72, 73, 74, 73, 74, 75, 76, 77, 83, 84, 83, 84, 85, 84, 85, 86, 87, 86, 87, 86, 87, 88, 87, 88, 89, 90, 92, 93], [0, 4, 5, 6, 7, 6, 5, 6, 10, 9, 10, 11, 12, 11, 12, 13, 14, 13, 18, 17, 20, 19, 18, 19, 20, 19, 20, 21, 22, 23, 24, 28, 30, 31, 32, 33, 32, 38, 39, 40, 41, 42, 41, 42, 43, 44, 43, 42, 41, 47, 48, 49, 51, 50, 49, 53, 52, 53, 56, 60, 61, 60, 61, 66, 67, 68, 69, 68, 69, 68, 69, 70, 71, 72, 73, 74, 73, 74, 75, 76, 77, 83, 84, 83, 84, 85, 84, 85, 86, 87, 86, 87, 86, 87, 88, 87, 88, 89, 90, 92, 93], [0, 4, 5, 6, 7, 6, 5, 6, 10, 9, 10, 11, 12, 11, 12, 13, 14, 13, 18, 17, 20, 19, 18, 19, 20, 19, 20, 21, 22, 23, 24, 28, 30, 31, 32, 33, 32, 38, 39, 40, 41, 42, 41, 42, 43, 44, 43, 42, 41, 47, 48, 49, 51, 50, 49, 53, 52, 53, 56, 60, 61, 60, 61, 66, 67, 68, 69, 68, 69, 68, 69, 70, 71, 72, 73, 74, 73, 74, 75, 76, 77, 83, 84, 83, 84, 85, 84, 85, 86, 87, 86, 87, 86, 87, 88, 87, 88, 89, 90, 92, 93], [0, 4, 5, 6, 7, 6, 5, 6, 10, 9, 10, 11, 12, 11, 12, 13, 14, 13, 18, 17, 20, 19, 18, 19, 20, 19, 20, 21, 22, 23, 24, 28, 30, 31, 32, 33, 32, 38, 39, 40, 41, 42, 41, 42, 43, 44, 43, 42, 41, 47, 48, 49, 51, 50, 49, 53, 52, 53, 56, 60, 61, 60, 61, 66, 67, 68, 69, 68, 69, 68, 69, 70, 71, 72, 73, 74, 73, 74, 75, 76, 77, 83, 84, 83, 84, 85, 84, 85, 86, 87, 86, 87, 86, 87, 88, 87, 88, 89, 90, 92, 93], [0, 4, 5, 6, 7, 6, 5, 6, 10, 9, 10, 11, 12, 11, 12, 13, 14, 13, 18, 17, 20, 19, 18, 19, 20, 19, 20, 21, 22, 23, 24, 28, 30, 31, 32, 33, 32, 38, 39, 40, 41, 42, 41, 42, 43, 44, 43, 42, 41, 47, 48, 49, 51, 50, 49, 53, 52, 53, 56, 60, 61, 60, 61, 66, 67, 68, 69, 68, 69, 68, 69, 70, 71, 72, 73, 74, 73, 74, 75, 76, 77, 83, 84, 83, 84, 85, 84, 85, 86, 87, 86, 87, 86, 87, 88, 87, 88, 89, 90, 92, 93], [0, 4, 5, 6, 7, 6, 5, 6, 10, 9, 10, 11, 12, 11, 12, 13, 14, 13, 18, 17, 20, 19, 18, 19, 20, 19, 20, 21, 22, 23, 24, 28, 30, 31, 32, 33, 32, 38, 39, 40, 41, 42, 41, 42, 43, 44, 43, 42, 41, 47, 48, 49, 51, 50, 49, 53, 52, 53, 56, 60, 61, 60, 61, 66, 67, 68, 69, 68, 69, 68, 69, 70, 71, 72, 73, 74, 73, 74, 75, 76, 77, 83, 84, 83, 84, 85, 84, 85, 86, 87, 86, 87, 86, 87, 88, 87, 88, 89, 90, 92, 93], [0, 4, 5, 6, 7, 6, 5, 6, 10, 9, 10, 11, 12, 11, 12, 13, 14, 13, 18, 17, 20, 19, 18, 19, 20, 19, 20, 21, 22, 23, 24, 28, 30, 31, 32, 33, 32, 38, 39, 40, 41, 42, 41, 42, 43, 44, 43, 42, 41, 47, 48, 49, 51, 50, 49, 53, 52, 53, 56, 60, 61, 60, 61, 66, 67, 68, 69, 68, 69, 68, 69, 70, 71, 72, 73, 74, 73, 74, 75, 76, 77, 83, 84, 83, 84, 85, 84, 85, 86, 87, 86, 87, 86, 87, 88, 87, 88, 89, 90, 92, 93], [0, 4, 5, 6, 7, 6, 5, 6, 10, 9, 10, 11, 12, 11, 12, 13, 14, 13, 18, 17, 20, 19, 18, 19, 20, 19, 20, 21, 22, 23, 24, 28, 30, 31, 32, 33, 32, 38, 39, 40, 41, 42, 41, 42, 43, 44, 43, 42, 41, 47, 48, 49, 51, 50, 49, 53, 52, 53, 56, 60, 61, 60, 61, 66, 67, 68, 69, 68, 69, 68, 69, 70, 71, 72, 73, 74, 73, 74, 75, 76, 77, 83, 84, 83, 84, 85, 84, 85, 86, 87, 86, 87, 86, 87, 88, 87, 88, 89, 90, 92, 93], [0, 4, 5, 6, 7, 6, 5, 6, 10, 9, 10, 11, 12, 11, 12, 13, 14, 13, 18, 17, 20, 19, 18, 19, 20, 19, 20, 21, 22, 23, 24, 28, 30, 31, 32, 33, 32, 38, 39, 40, 41, 42, 41, 42, 43, 44, 43, 42, 41, 47, 48, 49, 51, 50, 49, 53, 52, 53, 56, 60, 61, 60, 61, 66, 67, 68, 69, 68, 69, 68, 69, 70, 71, 72, 73, 74, 73, 74, 75, 76, 77, 83, 84, 83, 84, 85, 84, 85, 86, 87, 86, 87, 86, 87, 88, 87, 88, 89, 90, 92, 93], [0, 4, 5, 6, 7, 6, 5, 6, 10, 9, 10, 11, 12, 11, 12, 13, 14, 13, 18, 17, 20, 19, 18, 19, 20, 19, 20, 21, 22, 23, 24, 28, 30, 31, 32, 33, 32, 38, 39, 40, 41, 42, 41, 42, 43, 44, 43, 42, 41, 47, 48, 49, 51, 50, 49, 53, 52, 53, 56, 60, 61, 60, 61, 66, 67, 68, 69, 68, 69, 68, 69, 70, 71, 72, 73, 74, 73, 74, 75, 76, 77, 83, 84, 83, 84, 85, 84, 85, 86, 87, 86, 87, 86, 87, 88, 87, 88, 89, 90, 92, 93], [0, 4, 5, 6, 7, 6, 5, 6, 10, 9, 10, 11, 12, 11, 12, 13, 14, 13, 18, 17, 20, 19, 18, 19, 20, 19, 20, 21, 22, 23, 24, 28, 30, 31, 32, 33, 32, 38, 39, 40, 41, 42, 41, 42, 43, 44, 43, 42, 41, 47, 48, 49, 51, 50, 49, 53, 52, 53, 56, 60, 61, 60, 61, 66, 67, 68, 69, 68, 69, 68, 69, 70, 71, 72, 73, 74, 73, 74, 75, 76, 77, 83, 84, 83, 84, 85, 84, 85, 86, 87, 86, 87, 86, 87, 88, 87, 88, 89, 90, 92, 93], [0, 4, 5, 6, 7, 6, 5, 6, 10, 9, 10, 11, 12, 11, 12, 13, 14, 13, 18, 17, 20, 19, 18, 19, 20, 19, 20, 21, 22, 23, 24, 28, 30, 31, 32, 33, 32, 38, 39, 40, 41, 42, 41, 42, 43, 44, 43, 42, 41, 47, 48, 49, 51, 50, 49, 53, 52, 53, 56, 60, 61, 60, 61, 66, 67, 68, 69, 68, 69, 68, 69, 70, 71, 72, 73, 74, 73, 74, 75, 76, 77, 83, 84, 83, 84, 85, 84, 85, 86, 87, 86, 87, 86, 87, 88, 87, 88, 89, 90, 92, 93], [0, 4, 5, 6, 7, 6, 5, 6, 10, 9, 10, 11, 12, 11, 12, 13, 14, 13, 18, 17, 20, 19, 18, 19, 20, 19, 20, 21, 22, 23, 24, 28, 30, 31, 32, 33, 32, 38, 39, 40, 41, 42, 41, 42, 43, 44, 43, 42, 41, 47, 48, 49, 51, 50, 49, 53, 52, 53, 56, 60, 61, 60, 61, 66, 67, 68, 69, 68, 69, 68, 69, 70, 71, 72, 73, 74, 73, 74, 75, 76, 77, 83, 84, 83, 84, 85, 84, 85, 86, 87, 86, 87, 86, 87, 88, 87, 88, 89, 90, 92, 93], [0, 4, 5, 6, 7, 6, 5, 6, 10, 9, 10, 11, 12, 11, 12, 13, 14, 13, 18, 17, 20, 19, 18, 19, 20, 19, 20, 21, 22, 23, 24, 28, 30, 31, 32, 33, 32, 38, 39, 40, 41, 42, 41, 42, 43, 44, 43, 42, 41, 47, 48, 49, 51, 50, 49, 53, 52, 53, 56, 60, 61, 60, 61, 66, 67, 68, 69, 68, 69, 68, 69, 70, 71, 72, 73, 74, 73, 74, 75, 76, 77, 83, 84, 83, 84, 85, 84, 85, 86, 87, 86, 87, 86, 87, 88, 87, 88, 89, 90, 92, 93], [0, 4, 5, 6, 7, 6, 5, 6, 10, 9, 10, 11, 12, 11, 12, 13, 14, 13, 18, 17, 20, 19, 18, 19, 20, 19, 20, 21, 22, 23, 24, 28, 30, 31, 32, 33, 32, 38, 39, 40, 41, 42, 41, 42, 43, 44, 43, 42, 41, 47, 48, 49, 51, 50, 49, 53, 52, 53, 56, 60, 61, 60, 61, 66, 67, 68, 69, 68, 69, 68, 69, 70, 71, 72, 73, 74, 73, 74, 75, 76, 77, 83, 84, 83, 84, 85, 84, 85, 86, 87, 86, 87, 86, 87, 88, 87, 88, 89, 90, 92, 93], [0, 4, 5, 6, 7, 6, 5, 6, 10, 9, 10, 11, 12, 11, 12, 13, 14, 13, 18, 17, 20, 19, 18, 19, 20, 19, 20, 21, 22, 23, 24, 28, 30, 31, 32, 33, 32, 38, 39, 40, 41, 42, 41, 42, 43, 44, 43, 42, 41, 47, 48, 49, 51, 50, 49, 53, 52, 53, 56, 60, 61, 60, 61, 66, 67, 68, 69, 68, 69, 68, 69, 70, 71, 72, 73, 74, 73, 74, 75, 76, 77, 83, 84, 83, 84, 85, 84, 85, 86, 87, 86, 87, 86, 87, 88, 87, 88, 89, 90, 92, 93], [0, 4, 5, 6, 7, 6, 5, 6, 10, 9, 10, 11, 12, 11, 12, 13, 14, 13, 18, 17, 20, 19, 18, 19, 20, 19, 20, 21, 22, 23, 24, 28, 30, 31, 32, 33, 32, 38, 39, 40, 41, 42, 41, 42, 43, 44, 43, 42, 41, 47, 48, 49, 51, 50, 49, 53, 52, 53, 56, 60, 61, 60, 61, 66, 67, 68, 69, 68, 69, 68, 69, 70, 71, 72, 73, 74, 73, 74, 75, 76, 77, 83, 84, 83, 84, 85, 84, 85, 86, 87, 86, 87, 86, 87, 88, 87, 88, 89, 90, 92, 93], [0, 4, 5, 6, 7, 6, 5, 6, 10, 9, 10, 11, 12, 11, 12, 13, 14, 13, 18, 17, 20, 19, 18, 19, 20, 19, 20, 21, 22, 23, 24, 28, 30, 31, 32, 33, 32, 38, 39, 40, 41, 42, 41, 42, 43, 44, 43, 42, 41, 47, 48, 49, 51, 50, 49, 53, 52, 53, 56, 60, 61, 60, 61, 66, 67, 68, 69, 68, 69, 68, 69, 70, 71, 72, 73, 74, 73, 74, 75, 76, 77, 83, 84, 83, 84, 85, 84, 85, 86, 87, 86, 87, 86, 87, 88, 87, 88, 89, 90, 92, 93], [0, 4, 5, 6, 7, 6, 5, 6, 10, 9, 10, 11, 12, 11, 12, 13, 14, 13, 18, 17, 20, 19, 18, 19, 20, 19, 20, 21, 22, 23, 24, 28, 30, 31, 32, 33, 32, 38, 39, 40, 41, 42, 41, 42, 43, 44, 43, 42, 41, 47, 48, 49, 51, 50, 49, 53, 52, 53, 56, 60, 61, 60, 61, 66, 67, 68, 69, 68, 69, 68, 69, 70, 71, 72, 73, 74, 73, 74, 75, 76, 77, 83, 84, 83, 84, 85, 84, 85, 86, 87, 86, 87, 86, 87, 88, 87, 88, 89, 90, 92, 93], [0, 4, 5, 6, 7, 6, 5, 6, 10, 9, 10, 11, 12, 11, 12, 13, 14, 13, 18, 17, 20, 19, 18, 19, 20, 19, 20, 21, 22, 23, 24, 28, 30, 31, 32, 33, 32, 38, 39, 40, 41, 42, 41, 42, 43, 44, 43, 42, 41, 47, 48, 49, 51, 50, 49, 53, 52, 53, 56, 60, 61, 60, 61, 66, 67, 68, 69, 68, 69, 68, 69, 70, 71, 72, 73, 74, 73, 74, 75, 76, 77, 83, 84, 83, 84, 85, 84, 85, 86, 87, 86, 87, 86, 87, 88, 87, 88, 89, 90, 92, 93], [0, 4, 5, 6, 7, 6, 5, 6, 10, 9, 10, 11, 12, 11, 12, 13, 14, 13, 18, 17, 20, 19, 18, 19, 20, 19, 20, 21, 22, 23, 24, 28, 30, 31, 32, 33, 32, 38, 39, 40, 41, 42, 41, 42, 43, 44, 43, 42, 41, 47, 48, 49, 51, 50, 49, 53, 52, 53, 56, 60, 61, 60, 61, 66, 67, 68, 69, 68, 69, 68, 69, 70, 71, 72, 73, 74, 73, 74, 75, 76, 77, 83, 84, 83, 84, 85, 84, 85, 86, 87, 86, 87, 86, 87, 88, 87, 88, 89, 90, 92, 93], [0, 4, 5, 6, 7, 6, 5, 6, 10, 9, 10, 11, 12, 11, 12, 13, 14, 13, 18, 17, 20, 19, 18, 19, 20, 19, 20, 21, 22, 23, 24, 28, 30, 31, 32, 33, 32, 38, 39, 40, 41, 42, 41, 42, 43, 44, 43, 42, 41, 47, 48, 49, 51, 50, 49, 53, 52, 53, 56, 60, 61, 60, 61, 66, 67, 68, 69, 68, 69, 68, 69, 70, 71, 72, 73, 74, 73, 74, 75, 76, 77, 83, 84, 83, 84, 85, 84, 85, 86, 87, 86, 87, 86, 87, 88, 87, 88, 89, 90, 92, 93], [0, 4, 5, 6, 7, 6, 5, 6, 10, 9, 10, 11, 12, 11, 12, 13, 14, 13, 18, 17, 20, 19, 18, 19, 20, 19, 20, 21, 22, 23, 24, 28, 30, 31, 32, 33, 32, 38, 39, 40, 41, 42, 41, 42, 43, 44, 43, 42, 41, 47, 48, 49, 51, 50, 49, 53, 52, 53, 56, 60, 61, 60, 61, 66, 67, 68, 69, 68, 69, 68, 69, 70, 71, 72, 73, 74, 73, 74, 75, 76, 77, 83, 84, 83, 84, 85, 84, 85, 86, 87, 86, 87, 86, 87, 88, 87, 88, 89, 90, 92, 93], [0, 4, 5, 6, 7, 6, 5, 6, 10, 9, 10, 11, 12, 11, 12, 13, 14, 13, 18, 17, 20, 19, 18, 19, 20, 19, 20, 21, 22, 23, 24, 28, 30, 31, 32, 33, 32, 38, 39, 40, 41, 42, 41, 42, 43, 44, 43, 42, 41, 47, 48, 49, 51, 50, 49, 53, 52, 53, 56, 60, 61, 60, 61, 66, 67, 68, 69, 68, 69, 68, 69, 70, 71, 72, 73, 74, 73, 74, 75, 76, 77, 83, 84, 83, 84, 85, 84, 85, 86, 87, 86, 87, 86, 87, 88, 87, 88, 89, 90, 92, 93], [0, 4, 5, 6, 7, 6, 5, 6, 10, 9, 10, 11, 12, 11, 12, 13, 14, 13, 18, 17, 20, 19, 18, 19, 20, 19, 20, 21, 22, 23, 24, 28, 30, 31, 32, 33, 32, 38, 39, 40, 41, 42, 41, 42, 43, 44, 43, 42, 41, 47, 48, 49, 51, 50, 49, 53, 52, 53, 56, 60, 61, 60, 61, 66, 67, 68, 69, 68, 69, 68, 69, 70, 71, 72, 73, 74, 73, 74, 75, 76, 77, 83, 84, 83, 84, 85, 84, 85, 86, 87, 86, 87, 86, 87, 88, 87, 88, 89, 90, 92, 93], [0, 4, 5, 6, 7, 6, 5, 6, 10, 9, 10, 11, 12, 11, 12, 13, 14, 13, 18, 17, 20, 19, 18, 19, 20, 19, 20, 21, 22, 23, 24, 28, 30, 31, 32, 33, 32, 38, 39, 40, 41, 42, 41, 42, 43, 44, 43, 42, 41, 47, 48, 49, 51, 50, 49, 53, 52, 53, 56, 60, 61, 60, 61, 66, 67, 68, 69, 68, 69, 68, 69, 70, 71, 72, 73, 74, 73, 74, 75, 76, 77, 83, 84, 83, 84, 85, 84, 85, 86, 87, 86, 87, 86, 87, 88, 87, 88, 89, 90, 92, 93], [0, 4, 5, 6, 7, 6, 5, 6, 10, 9, 10, 11, 12, 11, 12, 13, 14, 13, 18, 17, 20, 19, 18, 19, 20, 19, 20, 21, 22, 23, 24, 28, 30, 31, 32, 33, 32, 38, 39, 40, 41, 42, 41, 42, 43, 44, 43, 42, 41, 47, 48, 49, 51, 50, 49, 53, 52, 53, 56, 60, 61, 60, 61, 66, 67, 68, 69, 68, 69, 68, 69, 70, 71, 72, 73, 74, 73, 74, 75, 76, 77, 83, 84, 83, 84, 85, 84, 85, 86, 87, 86, 87, 86, 87, 88, 87, 88, 89, 90, 92, 93], [0, 4, 5, 6, 7, 6, 5, 6, 10, 9, 10, 11, 12, 11, 12, 13, 14, 13, 18, 17, 20, 19, 18, 19, 20, 19, 20, 21, 22, 23, 24, 28, 30, 31, 32, 33, 32, 38, 39, 40, 41, 42, 41, 42, 43, 44, 43, 42, 41, 47, 48, 49, 51, 50, 49, 53, 52, 53, 56, 60, 61, 60, 61, 66, 67, 68, 69, 68, 69, 68, 69, 70, 71, 72, 73, 74, 73, 74, 75, 76, 77, 83, 84, 83, 84, 85, 84, 85, 86, 87, 86, 87, 86, 87, 88, 87, 88, 89, 90, 92, 93], [0, 4, 5, 6, 7, 6, 5, 6, 10, 9, 10, 11, 12, 11, 12, 13, 14, 13, 18, 17, 20, 19, 18, 19, 20, 19, 20, 21, 22, 23, 24, 28, 30, 31, 32, 33, 32, 38, 39, 40, 41, 42, 41, 42, 43, 44, 43, 42, 41, 47, 48, 49, 51, 50, 49, 53, 52, 53, 56, 60, 61, 60, 61, 66, 67, 68, 69, 68, 69, 68, 69, 70, 71, 72, 73, 74, 73, 74, 75, 76, 77, 83, 84, 83, 84, 85, 84, 85, 86, 87, 86, 87, 86, 87, 88, 87, 88, 89, 90, 92, 93], [0, 4, 5, 6, 7, 6, 5, 6, 10, 9, 10, 11, 12, 11, 12, 13, 14, 13, 18, 17, 20, 19, 18, 19, 20, 19, 20, 21, 22, 23, 24, 28, 30, 31, 32, 33, 32, 38, 39, 40, 41, 42, 41, 42, 43, 44, 43, 42, 41, 47, 48, 49, 51, 50, 49, 53, 52, 53, 56, 60, 61, 60, 61, 66, 67, 68, 69, 68, 69, 68, 69, 70, 71, 72, 73, 74, 73, 74, 75, 76, 77, 83, 84, 83, 84, 85, 84, 85, 86, 87, 86, 87, 86, 87, 88, 87, 88, 89, 90, 92, 93], [0, 4, 5, 6, 7, 6, 5, 6, 10, 9, 10, 11, 12, 11, 12, 13, 14, 13, 18, 17, 20, 19, 18, 19, 20, 19, 20, 21, 22, 23, 24, 28, 30, 31, 32, 33, 32, 38, 39, 40, 41, 42, 41, 42, 43, 44, 43, 42, 41, 47, 48, 49, 51, 50, 49, 53, 52, 53, 56, 60, 61, 60, 61, 66, 67, 68, 69, 68, 69, 68, 69, 70, 71, 72, 73, 74, 73, 74, 75, 76, 77, 83, 84, 83, 84, 85, 84, 85, 86, 87, 86, 87, 86, 87, 88, 87, 88, 89, 90, 92, 93], [0, 4, 5, 6, 7, 6, 5, 6, 10, 9, 10, 11, 12, 11, 12, 13, 14, 13, 18, 17, 20, 19, 18, 19, 20, 19, 20, 21, 22, 23, 24, 28, 30, 31, 32, 33, 32, 38, 39, 40, 41, 42, 41, 42, 43, 44, 43, 42, 41, 47, 48, 49, 51, 50, 49, 53, 52, 53, 56, 60, 61, 60, 61, 66, 67, 68, 69, 68, 69, 68, 69, 70, 71, 72, 73, 74, 73, 74, 75, 76, 77, 83, 84, 83, 84, 85, 84, 85, 86, 87, 86, 87, 86, 87, 88, 87, 88, 89, 90, 92, 93], [0, 4, 5, 6, 7, 6, 5, 6, 10, 9, 10, 11, 12, 11, 12, 13, 14, 13, 18, 17, 20, 19, 18, 19, 20, 19, 20, 21, 22, 23, 24, 28, 30, 31, 32, 33, 32, 38, 39, 40, 41, 42, 41, 42, 43, 44, 43, 42, 41, 47, 48, 49, 51, 50, 49, 53, 52, 53, 56, 60, 61, 60, 61, 66, 67, 68, 69, 68, 69, 68, 69, 70, 71, 72, 73, 74, 73, 74, 75, 76, 77, 83, 84, 83, 84, 85, 84, 85, 86, 87, 86, 87, 86, 87, 88, 87, 88, 89, 90, 92, 93], [0, 4, 5, 6, 7, 6, 5, 6, 10, 9, 10, 11, 12, 11, 12, 13, 14, 13, 18, 17, 20, 19, 18, 19, 20, 19, 20, 21, 22, 23, 24, 28, 30, 31, 32, 33, 32, 38, 39, 40, 41, 42, 41, 42, 43, 44, 43, 42, 41, 47, 48, 49, 51, 50, 49, 53, 52, 53, 56, 60, 61, 60, 61, 66, 67, 68, 69, 68, 69, 68, 69, 70, 71, 72, 73, 74, 73, 74, 75, 76, 77, 83, 84, 83, 84, 85, 84, 85, 86, 87, 86, 87, 86, 87, 88, 87, 88, 89, 90, 92, 93], [0, 4, 5, 6, 7, 6, 5, 6, 10, 9, 10, 11, 12, 11, 12, 13, 14, 13, 18, 17, 20, 19, 18, 19, 20, 19, 20, 21, 22, 23, 24, 28, 30, 31, 32, 33, 32, 38, 39, 40, 41, 42, 41, 42, 43, 44, 43, 42, 41, 47, 48, 49, 51, 50, 49, 53, 52, 53, 56, 60, 61, 60, 61, 66, 67, 68, 69, 68, 69, 68, 69, 70, 71, 72, 73, 74, 73, 74, 75, 76, 77, 83, 84, 83, 84, 85, 84, 85, 86, 87, 86, 87, 86, 87, 88, 87, 88, 89, 90, 92, 93], [0, 4, 5, 6, 7, 6, 5, 6, 10, 9, 10, 11, 12, 11, 12, 13, 14, 13, 18, 17, 20, 19, 18, 19, 20, 19, 20, 21, 22, 23, 24, 28, 30, 31, 32, 33, 32, 38, 39, 40, 41, 42, 41, 42, 43, 44, 43, 42, 41, 47, 48, 49, 51, 50, 49, 53, 52, 53, 56, 60, 61, 60, 61, 66, 67, 68, 69, 68, 69, 68, 69, 70, 71, 72, 73, 74, 73, 74, 75, 76, 77, 83, 84, 83, 84, 85, 84, 85, 86, 87, 86, 87, 86, 87, 88, 87, 88, 89, 90, 92, 93], [0, 4, 5, 6, 7, 6, 5, 6, 10, 9, 10, 11, 12, 11, 12, 13, 14, 13, 18, 17, 20, 19, 18, 19, 20, 19, 20, 21, 22, 23, 24, 28, 30, 31, 32, 33, 32, 38, 39, 40, 41, 42, 41, 42, 43, 44, 43, 42, 41, 47, 48, 49, 51, 50, 49, 53, 52, 53, 56, 60, 61, 60, 61, 66, 67, 68, 69, 68, 69, 68, 69, 70, 71, 72, 73, 74, 73, 74, 75, 76, 77, 83, 84, 83, 84, 85, 84, 85, 86, 87, 86, 87, 86, 87, 88, 87, 88, 89, 90, 92, 93], [0, 4, 5, 6, 7, 6, 5, 6, 10, 9, 10, 11, 12, 11, 12, 13, 14, 13, 18, 17, 20, 19, 18, 19, 20, 19, 20, 21, 22, 23, 24, 28, 30, 31, 32, 33, 32, 38, 39, 40, 41, 42, 41, 42, 43, 44, 43, 42, 41, 47, 48, 49, 51, 50, 49, 53, 52, 53, 56, 60, 61, 60, 61, 66, 67, 68, 69, 68, 69, 68, 69, 70, 71, 72, 73, 74, 73, 74, 75, 76, 77, 83, 84, 83, 84, 85, 84, 85, 86, 87, 86, 87, 86, 87, 88, 87, 88, 89, 90, 92, 93], [0, 4, 5, 6, 7, 6, 5, 6, 10, 9, 10, 11, 12, 11, 12, 13, 14, 13, 18, 17, 20, 19, 18, 19, 20, 19, 20, 21, 22, 23, 24, 28, 30, 31, 32, 33, 32, 38, 39, 40, 41, 42, 41, 42, 43, 44, 43, 42, 41, 47, 48, 49, 51, 50, 49, 53, 52, 53, 56, 60, 61, 60, 61, 66, 67, 68, 69, 68, 69, 68, 69, 70, 71, 72, 73, 74, 73, 74, 75, 76, 77, 83, 84, 83, 84, 85, 84, 85, 86, 87, 86, 87, 86, 87, 88, 87, 88, 89, 90, 92, 93], [0, 4, 5, 6, 7, 6, 5, 6, 10, 9, 10, 11, 12, 11, 12, 13, 14, 13, 18, 17, 20, 19, 18, 19, 20, 19, 20, 21, 22, 23, 24, 28, 30, 31, 32, 33, 32, 38, 39, 40, 41, 42, 41, 42, 43, 44, 43, 42, 41, 47, 48, 49, 51, 50, 49, 53, 52, 53, 56, 60, 61, 60, 61, 66, 67, 68, 69, 68, 69, 68, 69, 70, 71, 72, 73, 74, 73, 74, 75, 76, 77, 83, 84, 83, 84, 85, 84, 85, 86, 87, 86, 87, 86, 87, 88, 87, 88, 89, 90, 92, 93], [0, 4, 5, 6, 7, 6, 5, 6, 10, 9, 10, 11, 12, 11, 12, 13, 14, 13, 18, 17, 20, 19, 18, 19, 20, 19, 20, 21, 22, 23, 24, 28, 30, 31, 32, 33, 32, 38, 39, 40, 41, 42, 41, 42, 43, 44, 43, 42, 41, 47, 48, 49, 51, 50, 49, 53, 52, 53, 56, 60, 61, 60, 61, 66, 67, 68, 69, 68, 69, 68, 69, 70, 71, 72, 73, 74, 73, 74, 75, 76, 77, 83, 84, 83, 84, 85, 84, 85, 86, 87, 86, 87, 86, 87, 88, 87, 88, 89, 90, 92, 93], [0, 4, 5, 6, 7, 6, 5, 6, 10, 9, 10, 11, 12, 11, 12, 13, 14, 13, 18, 17, 20, 19, 18, 19, 20, 19, 20, 21, 22, 23, 24, 28, 30, 31, 32, 33, 32, 38, 39, 40, 41, 42, 41, 42, 43, 44, 43, 42, 41, 47, 48, 49, 51, 50, 49, 53, 52, 53, 56, 60, 61, 60, 61, 66, 67, 68, 69, 68, 69, 68, 69, 70, 71, 72, 73, 74, 73, 74, 75, 76, 77, 83, 84, 83, 84, 85, 84, 85, 86, 87, 86, 87, 86, 87, 88, 87, 88, 89, 90, 92, 93], [0, 4, 5, 6, 7, 6, 5, 6, 10, 9, 10, 11, 12, 11, 12, 13, 14, 13, 18, 17, 20, 19, 18, 19, 20, 19, 20, 21, 22, 23, 24, 28, 30, 31, 32, 33, 32, 38, 39, 40, 41, 42, 41, 42, 43, 44, 43, 42, 41, 47, 48, 49, 51, 50, 49, 53, 52, 53, 56, 60, 61, 60, 61, 66, 67, 68, 69, 68, 69, 68, 69, 70, 71, 72, 73, 74, 73, 74, 75, 76, 77, 83, 84, 83, 84, 85, 84, 85, 86, 87, 86, 87, 86, 87, 88, 87, 88, 89, 90, 92, 93], [0, 4, 5, 6, 7, 6, 5, 6, 10, 9, 10, 11, 12, 11, 12, 13, 14, 13, 18, 17, 20, 19, 18, 19, 20, 19, 20, 21, 22, 23, 24, 28, 30, 31, 32, 33, 32, 38, 39, 40, 41, 42, 41, 42, 43, 44, 43, 42, 41, 47, 48, 49, 51, 50, 49, 53, 52, 53, 56, 60, 61, 60, 61, 66, 67, 68, 69, 68, 69, 68, 69, 70, 71, 72, 73, 74, 73, 74, 75, 76, 77, 83, 84, 83, 84, 85, 84, 85, 86, 87, 86, 87, 86, 87, 88, 87, 88, 89, 90, 92, 93], [0, 4, 5, 6, 7, 6, 5, 6, 10, 9, 10, 11, 12, 11, 12, 13, 14, 13, 18, 17, 20, 19, 18, 19, 20, 19, 20, 21, 22, 23, 24, 28, 30, 31, 32, 33, 32, 38, 39, 40, 41, 42, 41, 42, 43, 44, 43, 42, 41, 47, 48, 49, 51, 50, 49, 53, 52, 53, 56, 60, 61, 60, 61, 66, 67, 68, 69, 68, 69, 68, 69, 70, 71, 72, 73, 74, 73, 74, 75, 76, 77, 83, 84, 83, 84, 85, 84, 85, 86, 87, 86, 87, 86, 87, 88, 87, 88, 89, 90, 92, 93], [0, 4, 5, 6, 7, 6, 5, 6, 10, 9, 10, 11, 12, 11, 12, 13, 14, 13, 18, 17, 20, 19, 18, 19, 20, 19, 20, 21, 22, 23, 24, 28, 30, 31, 32, 33, 32, 38, 39, 40, 41, 42, 41, 42, 43, 44, 43, 42, 41, 47, 48, 49, 51, 50, 49, 53, 52, 53, 56, 60, 61, 60, 61, 66, 67, 68, 69, 68, 69, 68, 69, 70, 71, 72, 73, 74, 73, 74, 75, 76, 77, 83, 84, 83, 84, 85, 84, 85, 86, 87, 86, 87, 86, 87, 88, 87, 88, 89, 90, 92, 93], [0, 4, 5, 6, 7, 6, 5, 6, 10, 9, 10, 11, 12, 11, 12, 13, 14, 13, 18, 17, 20, 19, 18, 19, 20, 19, 20, 21, 22, 23, 24, 28, 30, 31, 32, 33, 32, 38, 39, 40, 41, 42, 41, 42, 43, 44, 43, 42, 41, 47, 48, 49, 51, 50, 49, 53, 52, 53, 56, 60, 61, 60, 61, 66, 67, 68, 69, 68, 69, 68, 69, 70, 71, 72, 73, 74, 73, 74, 75, 76, 77, 83, 84, 83, 84, 85, 84, 85, 86, 87, 86, 87, 86, 87, 88, 87, 88, 89, 90, 92, 93], [0, 4, 5, 6, 7, 6, 5, 6, 10, 9, 10, 11, 12, 11, 12, 13, 14, 13, 18, 17, 20, 19, 18, 19, 20, 19, 20, 21, 22, 23, 24, 28, 30, 31, 32, 33, 32, 38, 39, 40, 41, 42, 41, 42, 43, 44, 43, 42, 41, 47, 48, 49, 51, 50, 49, 53, 52, 53, 56, 60, 61, 60, 61, 66, 67, 68, 69, 68, 69, 68, 69, 70, 71, 72, 73, 74, 73, 74, 75, 76, 77, 83, 84, 83, 84, 85, 84, 85, 86, 87, 86, 87, 86, 87, 88, 87, 88, 89, 90, 92, 93], [0, 4, 5, 6, 7, 6, 5, 6, 10, 9, 10, 11, 12, 11, 12, 13, 14, 13, 18, 17, 20, 19, 18, 19, 20, 19, 20, 21, 22, 23, 24, 28, 30, 31, 32, 33, 32, 38, 39, 40, 41, 42, 41, 42, 43, 44, 43, 42, 41, 47, 48, 49, 51, 50, 49, 53, 52, 53, 56, 60, 61, 60, 61, 66, 67, 68, 69, 68, 69, 68, 69, 70, 71, 72, 73, 74, 73, 74, 75, 76, 77, 83, 84, 83, 84, 85, 84, 85, 86, 87, 86, 87, 86, 87, 88, 87, 88, 89, 90, 92, 93], [0, 4, 5, 6, 7, 6, 5, 6, 10, 9, 10, 11, 12, 11, 12, 13, 14, 13, 18, 17, 20, 19, 18, 19, 20, 19, 20, 21, 22, 23, 24, 28, 30, 31, 32, 33, 32, 38, 39, 40, 41, 42, 41, 42, 43, 44, 43, 42, 41, 47, 48, 49, 51, 50, 49, 53, 52, 53, 56, 60, 61, 60, 61, 66, 67, 68, 69, 68, 69, 68, 69, 70, 71, 72, 73, 74, 73, 74, 75, 76, 77, 83, 84, 83, 84, 85, 84, 85, 86, 87, 86, 87, 86, 87, 88, 87, 88, 89, 90, 92, 93], [0, 4, 5, 6, 7, 6, 5, 6, 10, 9, 10, 11, 12, 11, 12, 13, 14, 13, 18, 17, 20, 19, 18, 19, 20, 19, 20, 21, 22, 23, 24, 28, 30, 31, 32, 33, 32, 38, 39, 40, 41, 42, 41, 42, 43, 44, 43, 42, 41, 47, 48, 49, 51, 50, 49, 53, 52, 53, 56, 60, 61, 60, 61, 66, 67, 68, 69, 68, 69, 68, 69, 70, 71, 72, 73, 74, 73, 74, 75, 76, 77, 83, 84, 83, 84, 85, 84, 85, 86, 87, 86, 87, 86, 87, 88, 87, 88, 89, 90, 92, 93], [0, 4, 5, 6, 7, 6, 5, 6, 10, 9, 10, 11, 12, 11, 12, 13, 14, 13, 18, 17, 20, 19, 18, 19, 20, 19, 20, 21, 22, 23, 24, 28, 30, 31, 32, 33, 32, 38, 39, 40, 41, 42, 41, 42, 43, 44, 43, 42, 41, 47, 48, 49, 51, 50, 49, 53, 52, 53, 56, 60, 61, 60, 61, 66, 67, 68, 69, 68, 69, 68, 69, 70, 71, 72, 73, 74, 73, 74, 75, 76, 77, 83, 84, 83, 84, 85, 84, 85, 86, 87, 86, 87, 86, 87, 88, 87, 88, 89, 90, 92, 93], [0, 4, 5, 6, 7, 6, 5, 6, 10, 9, 10, 11, 12, 11, 12, 13, 14, 13, 18, 17, 20, 19, 18, 19, 20, 19, 20, 21, 22, 23, 24, 28, 30, 31, 32, 33, 32, 38, 39, 40, 41, 42, 41, 42, 43, 44, 43, 42, 41, 47, 48, 49, 51, 50, 49, 53, 52, 53, 56, 60, 61, 60, 61, 66, 67, 68, 69, 68, 69, 68, 69, 70, 71, 72, 73, 74, 73, 74, 75, 76, 77, 83, 84, 83, 84, 85, 84, 85, 86, 87, 86, 87, 86, 87, 88, 87, 88, 89, 90, 92, 93], [0, 4, 5, 6, 7, 6, 5, 6, 10, 9, 10, 11, 12, 11, 12, 13, 14, 13, 18, 17, 20, 19, 18, 19, 20, 19, 20, 21, 22, 23, 24, 28, 30, 31, 32, 33, 32, 38, 39, 40, 41, 42, 41, 42, 43, 44, 43, 42, 41, 47, 48, 49, 51, 50, 49, 53, 52, 53, 56, 60, 61, 60, 61, 66, 67, 68, 69, 68, 69, 68, 69, 70, 71, 72, 73, 74, 73, 74, 75, 76, 77, 83, 84, 83, 84, 85, 84, 85, 86, 87, 86, 87, 86, 87, 88, 87, 88, 89, 90, 92, 93], [0, 4, 5, 6, 7, 6, 5, 6, 10, 9, 10, 11, 12, 11, 12, 13, 14, 13, 18, 17, 20, 19, 18, 19, 20, 19, 20, 21, 22, 23, 24, 28, 30, 31, 32, 33, 32, 38, 39, 40, 41, 42, 41, 42, 43, 44, 43, 42, 41, 47, 48, 49, 51, 50, 49, 53, 52, 53, 56, 60, 61, 60, 61, 66, 67, 68, 69, 68, 69, 68, 69, 70, 71, 72, 73, 74, 73, 74, 75, 76, 77, 83, 84, 83, 84, 85, 84, 85, 86, 87, 86, 87, 86, 87, 88, 87, 88, 89, 90, 92, 93], [0, 4, 5, 6, 7, 6, 5, 6, 10, 9, 10, 11, 12, 11, 12, 13, 14, 13, 18, 17, 20, 19, 18, 19, 20, 19, 20, 21, 22, 23, 24, 28, 30, 31, 32, 33, 32, 38, 39, 40, 41, 42, 41, 42, 43, 44, 43, 42, 41, 47, 48, 49, 51, 50, 49, 53, 52, 53, 56, 60, 61, 60, 61, 66, 67, 68, 69, 68, 69, 68, 69, 70, 71, 72, 73, 74, 73, 74, 75, 76, 77, 83, 84, 83, 84, 85, 84, 85, 86, 87, 86, 87, 86, 87, 88, 87, 88, 89, 90, 92, 93], [0, 4, 5, 6, 7, 6, 5, 6, 10, 9, 10, 11, 12, 11, 12, 13, 14, 13, 18, 17, 20, 19, 18, 19, 20, 19, 20, 21, 22, 23, 24, 28, 30, 31, 32, 33, 32, 38, 39, 40, 41, 42, 41, 42, 43, 44, 43, 42, 41, 47, 48, 49, 51, 50, 49, 53, 52, 53, 56, 60, 61, 60, 61, 66, 67, 68, 69, 68, 69, 68, 69, 70, 71, 72, 73, 74, 73, 74, 75, 76, 77, 83, 84, 83, 84, 85, 84, 85, 86, 87, 86, 87, 86, 87, 88, 87, 88, 89, 90, 92, 93], [0, 4, 5, 6, 7, 6, 5, 6, 10, 9, 10, 11, 12, 11, 12, 13, 14, 13, 18, 17, 20, 19, 18, 19, 20, 19, 20, 21, 22, 23, 24, 28, 30, 31, 32, 33, 32, 38, 39, 40, 41, 42, 41, 42, 43, 44, 43, 42, 41, 47, 48, 49, 51, 50, 49, 53, 52, 53, 56, 60, 61, 60, 61, 66, 67, 68, 69, 68, 69, 68, 69, 70, 71, 72, 73, 74, 73, 74, 75, 76, 77, 83, 84, 83, 84, 85, 84, 85, 86, 87, 86, 87, 86, 87, 88, 87, 88, 89, 90, 92, 93], [0, 4, 5, 6, 7, 6, 5, 6, 10, 9, 10, 11, 12, 11, 12, 13, 14, 13, 18, 17, 20, 19, 18, 19, 20, 19, 20, 21, 22, 23, 24, 28, 30, 31, 32, 33, 32, 38, 39, 40, 41, 42, 41, 42, 43, 44, 43, 42, 41, 47, 48, 49, 51, 50, 49, 53, 52, 53, 56, 60, 61, 60, 61, 66, 67, 68, 69, 68, 69, 68, 69, 70, 71, 72, 73, 74, 73, 74, 75, 76, 77, 83, 84, 83, 84, 85, 84, 85, 86, 87, 86, 87, 86, 87, 88, 87, 88, 89, 90, 92, 93], [0, 4, 5, 6, 7, 6, 5, 6, 10, 9, 10, 11, 12, 11, 12, 13, 14, 13, 18, 17, 20, 19, 18, 19, 20, 19, 20, 21, 22, 23, 24, 28, 30, 31, 32, 33, 32, 38, 39, 40, 41, 42, 41, 42, 43, 44, 43, 42, 41, 47, 48, 49, 51, 50, 49, 53, 52, 53, 56, 60, 61, 60, 61, 66, 67, 68, 69, 68, 69, 68, 69, 70, 71, 72, 73, 74, 73, 74, 75, 76, 77, 83, 84, 83, 84, 85, 84, 85, 86, 87, 86, 87, 86, 87, 88, 87, 88, 89, 90, 92, 93], [0, 4, 5, 6, 7, 6, 5, 6, 10, 9, 10, 11, 12, 11, 12, 13, 14, 13, 18, 17, 20, 19, 18, 19, 20, 19, 20, 21, 22, 23, 24, 28, 30, 31, 32, 33, 32, 38, 39, 40, 41, 42, 41, 42, 43, 44, 43, 42, 41, 47, 48, 49, 51, 50, 49, 53, 52, 53, 56, 60, 61, 60, 61, 66, 67, 68, 69, 68, 69, 68, 69, 70, 71, 72, 73, 74, 73, 74, 75, 76, 77, 83, 84, 83, 84, 85, 84, 85, 86, 87, 86, 87, 86, 87, 88, 87, 88, 89, 90, 92, 93], [0, 4, 5, 6, 7, 6, 5, 6, 10, 9, 10, 11, 12, 11, 12, 13, 14, 13, 18, 17, 20, 19, 18, 19, 20, 19, 20, 21, 22, 23, 24, 28, 30, 31, 32, 33, 32, 38, 39, 40, 41, 42, 41, 42, 43, 44, 43, 42, 41, 47, 48, 49, 51, 50, 49, 53, 52, 53, 56, 60, 61, 60, 61, 66, 67, 68, 69, 68, 69, 68, 69, 70, 71, 72, 73, 74, 73, 74, 75, 76, 77, 83, 84, 83, 84, 85, 84, 85, 86, 87, 86, 87, 86, 87, 88, 87, 88, 89, 90, 92, 93], [0, 4, 5, 6, 7, 6, 5, 6, 10, 9, 10, 11, 12, 11, 12, 13, 14, 13, 18, 17, 20, 19, 18, 19, 20, 19, 20, 21, 22, 23, 24, 28, 30, 31, 32, 33, 32, 38, 39, 40, 41, 42, 41, 42, 43, 44, 43, 42, 41, 47, 48, 49, 51, 50, 49, 53, 52, 53, 56, 60, 61, 60, 61, 66, 67, 68, 69, 68, 69, 68, 69, 70, 71, 72, 73, 74, 73, 74, 75, 76, 77, 83, 84, 83, 84, 85, 84, 85, 86, 87, 86, 87, 86, 87, 88, 87, 88, 89, 90, 92, 93], [0, 4, 5, 6, 7, 6, 5, 6, 10, 9, 10, 11, 12, 11, 12, 13, 14, 13, 18, 17, 20, 19, 18, 19, 20, 19, 20, 21, 22, 23, 24, 28, 30, 31, 32, 33, 32, 38, 39, 40, 41, 42, 41, 42, 43, 44, 43, 42, 41, 47, 48, 49, 51, 50, 49, 53, 52, 53, 56, 60, 61, 60, 61, 66, 67, 68, 69, 68, 69, 68, 69, 70, 71, 72, 73, 74, 73, 74, 75, 76, 77, 83, 84, 83, 84, 85, 84, 85, 86, 87, 86, 87, 86, 87, 88, 87, 88, 89, 90, 92, 93], [0, 4, 5, 6, 7, 6, 5, 6, 10, 9, 10, 11, 12, 11, 12, 13, 14, 13, 18, 17, 20, 19, 18, 19, 20, 19, 20, 21, 22, 23, 24, 28, 30, 31, 32, 33, 32, 38, 39, 40, 41, 42, 41, 42, 43, 44, 43, 42, 41, 47, 48, 49, 51, 50, 49, 53, 52, 53, 56, 60, 61, 60, 61, 66, 67, 68, 69, 68, 69, 68, 69, 70, 71, 72, 73, 74, 73, 74, 75, 76, 77, 83, 84, 83, 84, 85, 84, 85, 86, 87, 86, 87, 86, 87, 88, 87, 88, 89, 90, 92, 93], [0, 4, 5, 6, 7, 6, 5, 6, 10, 9, 10, 11, 12, 11, 12, 13, 14, 13, 18, 17, 20, 19, 18, 19, 20, 19, 20, 21, 22, 23, 24, 28, 30, 31, 32, 33, 32, 38, 39, 40, 41, 42, 41, 42, 43, 44, 43, 42, 41, 47, 48, 49, 51, 50, 49, 53, 52, 53, 56, 60, 61, 60, 61, 66, 67, 68, 69, 68, 69, 68, 69, 70, 71, 72, 73, 74, 73, 74, 75, 76, 77, 83, 84, 83, 84, 85, 84, 85, 86, 87, 86, 87, 86, 87, 88, 87, 88, 89, 90, 92, 93], [0, 4, 5, 6, 7, 6, 5, 6, 10, 9, 10, 11, 12, 11, 12, 13, 14, 13, 18, 17, 20, 19, 18, 19, 20, 19, 20, 21, 22, 23, 24, 28, 30, 31, 32, 33, 32, 38, 39, 40, 41, 42, 41, 42, 43, 44, 43, 42, 41, 47, 48, 49, 51, 50, 49, 53, 52, 53, 56, 60, 61, 60, 61, 66, 67, 68, 69, 68, 69, 68, 69, 70, 71, 72, 73, 74, 73, 74, 75, 76, 77, 83, 84, 83, 84, 85, 84, 85, 86, 87, 86, 87, 86, 87, 88, 87, 88, 89, 90, 92, 93], [0, 4, 5, 6, 7, 6, 5, 6, 10, 9, 10, 11, 12, 11, 12, 13, 14, 13, 18, 17, 20, 19, 18, 19, 20, 19, 20, 21, 22, 23, 24, 28, 30, 31, 32, 33, 32, 38, 39, 40, 41, 42, 41, 42, 43, 44, 43, 42, 41, 47, 48, 49, 51, 50, 49, 53, 52, 53, 56, 60, 61, 60, 61, 66, 67, 68, 69, 68, 69, 68, 69, 70, 71, 72, 73, 74, 73, 74, 75, 76, 77, 83, 84, 83, 84, 85, 84, 85, 86, 87, 86, 87, 86, 87, 88, 87, 88, 89, 90, 92, 93], [0, 4, 5, 6, 7, 6, 5, 6, 10, 9, 10, 11, 12, 11, 12, 13, 14, 13, 18, 17, 20, 19, 18, 19, 20, 19, 20, 21, 22, 23, 24, 28, 30, 31, 32, 33, 32, 38, 39, 40, 41, 42, 41, 42, 43, 44, 43, 42, 41, 47, 48, 49, 51, 50, 49, 53, 52, 53, 56, 60, 61, 60, 61, 66, 67, 68, 69, 68, 69, 68, 69, 70, 71, 72, 73, 74, 73, 74, 75, 76, 77, 83, 84, 83, 84, 85, 84, 85, 86, 87, 86, 87, 86, 87, 88, 87, 88, 89, 90, 92, 93], [0, 4, 5, 6, 7, 6, 5, 6, 10, 9, 10, 11, 12, 11, 12, 13, 14, 13, 18, 17, 20, 19, 18, 19, 20, 19, 20, 21, 22, 23, 24, 28, 30, 31, 32, 33, 32, 38, 39, 40, 41, 42, 41, 42, 43, 44, 43, 42, 41, 47, 48, 49, 51, 50, 49, 53, 52, 53, 56, 60, 61, 60, 61, 66, 67, 68, 69, 68, 69, 68, 69, 70, 71, 72, 73, 74, 73, 74, 75, 76, 77, 83, 84, 83, 84, 85, 84, 85, 86, 87, 86, 87, 86, 87, 88, 87, 88, 89, 90, 92, 93], [0, 4, 5, 6, 7, 6, 5, 6, 10, 9, 10, 11, 12, 11, 12, 13, 14, 13, 18, 17, 20, 19, 18, 19, 20, 19, 20, 21, 22, 23, 24, 28, 30, 31, 32, 33, 32, 38, 39, 40, 41, 42, 41, 42, 43, 44, 43, 42, 41, 47, 48, 49, 51, 50, 49, 53, 52, 53, 56, 60, 61, 60, 61, 66, 67, 68, 69, 68, 69, 68, 69, 70, 71, 72, 73, 74, 73, 74, 75, 76, 77, 83, 84, 83, 84, 85, 84, 85, 86, 87, 86, 87, 86, 87, 88, 87, 88, 89, 90, 92, 93], [0, 4, 5, 6, 7, 6, 5, 6, 10, 9, 10, 11, 12, 11, 12, 13, 14, 13, 18, 17, 20, 19, 18, 19, 20, 19, 20, 21, 22, 23, 24, 28, 30, 31, 32, 33, 32, 38, 39, 40, 41, 42, 41, 42, 43, 44, 43, 42, 41, 47, 48, 49, 51, 50, 49, 53, 52, 53, 56, 60, 61, 60, 61, 66, 67, 68, 69, 68, 69, 68, 69, 70, 71, 72, 73, 74, 73, 74, 75, 76, 77, 83, 84, 83, 84, 85, 84, 85, 86, 87, 86, 87, 86, 87, 88, 87, 88, 89, 90, 92, 93], [0, 4, 5, 6, 7, 6, 5, 6, 10, 9, 10, 11, 12, 11, 12, 13, 14, 13, 18, 17, 20, 19, 18, 19, 20, 19, 20, 21, 22, 23, 24, 28, 30, 31, 32, 33, 32, 38, 39, 40, 41, 42, 41, 42, 43, 44, 43, 42, 41, 47, 48, 49, 51, 50, 49, 53, 52, 53, 56, 60, 61, 60, 61, 66, 67, 68, 69, 68, 69, 68, 69, 70, 71, 72, 73, 74, 73, 74, 75, 76, 77, 83, 84, 83, 84, 85, 84, 85, 86, 87, 86, 87, 86, 87, 88, 87, 88, 89, 90, 92, 93], [0, 4, 5, 6, 7, 6, 5, 6, 10, 9, 10, 11, 12, 11, 12, 13, 14, 13, 18, 17, 20, 19, 18, 19, 20, 19, 20, 21, 22, 23, 24, 28, 30, 31, 32, 33, 32, 38, 39, 40, 41, 42, 41, 42, 43, 44, 43, 42, 41, 47, 48, 49, 51, 50, 49, 53, 52, 53, 56, 60, 61, 60, 61, 66, 67, 68, 69, 68, 69, 68, 69, 70, 71, 72, 73, 74, 73, 74, 75, 76, 77, 83, 84, 83, 84, 85, 84, 85, 86, 87, 86, 87, 86, 87, 88, 87, 88, 89, 90, 92, 93], [0, 4, 5, 6, 7, 6, 5, 6, 10, 9, 10, 11, 12, 11, 12, 13, 14, 13, 18, 17, 20, 19, 18, 19, 20, 19, 20, 21, 22, 23, 24, 28, 30, 31, 32, 33, 32, 38, 39, 40, 41, 42, 41, 42, 43, 44, 43, 42, 41, 47, 48, 49, 51, 50, 49, 53, 52, 53, 56, 60, 61, 60, 61, 66, 67, 68, 69, 68, 69, 68, 69, 70, 71, 72, 73, 74, 73, 74, 75, 76, 77, 83, 84, 83, 84, 85, 84, 85, 86, 87, 86, 87, 86, 87, 88, 87, 88, 89, 90, 92, 93], [0, 4, 5, 6, 7, 6, 5, 6, 10, 9, 10, 11, 12, 11, 12, 13, 14, 13, 18, 17, 20, 19, 18, 19, 20, 19, 20, 21, 22, 23, 24, 28, 30, 31, 32, 33, 32, 38, 39, 40, 41, 42, 41, 42, 43, 44, 43, 42, 41, 47, 48, 49, 51, 50, 49, 53, 52, 53, 56, 60, 61, 60, 61, 66, 67, 68, 69, 68, 69, 68, 69, 70, 71, 72, 73, 74, 73, 74, 75, 76, 77, 83, 84, 83, 84, 85, 84, 85, 86, 87, 86, 87, 86, 87, 88, 87, 88, 89, 90, 92, 93], [0, 4, 5, 6, 7, 6, 5, 6, 10, 9, 10, 11, 12, 11, 12, 13, 14, 13, 18, 17, 20, 19, 18, 19, 20, 19, 20, 21, 22, 23, 24, 28, 30, 31, 32, 33, 32, 38, 39, 40, 41, 42, 41, 42, 43, 44, 43, 42, 41, 47, 48, 49, 51, 50, 49, 53, 52, 53, 56, 60, 61, 60, 61, 66, 67, 68, 69, 68, 69, 68, 69, 70, 71, 72, 73, 74, 73, 74, 75, 76, 77, 83, 84, 83, 84, 85, 84, 85, 86, 87, 86, 87, 86, 87, 88, 87, 88, 89, 90, 92, 93], [0, 4, 5, 6, 7, 6, 5, 6, 10, 9, 10, 11, 12, 11, 12, 13, 14, 13, 18, 17, 20, 19, 18, 19, 20, 19, 20, 21, 22, 23, 24, 28, 30, 31, 32, 33, 32, 38, 39, 40, 41, 42, 41, 42, 43, 44, 43, 42, 41, 47, 48, 49, 51, 50, 49, 53, 52, 53, 56, 60, 61, 60, 61, 66, 67, 68, 69, 68, 69, 68, 69, 70, 71, 72, 73, 74, 73, 74, 75, 76, 77, 83, 84, 83, 84, 85, 84, 85, 86, 87, 86, 87, 86, 87, 88, 87, 88, 89, 90, 92, 93], [0, 4, 5, 6, 7, 6, 5, 6, 10, 9, 10, 11, 12, 11, 12, 13, 14, 13, 18, 17, 20, 19, 18, 19, 20, 19, 20, 21, 22, 23, 24, 28, 30, 31, 32, 33, 32, 38, 39, 40, 41, 42, 41, 42, 43, 44, 43, 42, 41, 47, 48, 49, 51, 50, 49, 53, 52, 53, 56, 60, 61, 60, 61, 66, 67, 68, 69, 68, 69, 68, 69, 70, 71, 72, 73, 74, 73, 74, 75, 76, 77, 83, 84, 83, 84, 85, 84, 85, 86, 87, 86, 87, 86, 87, 88, 87, 88, 89, 90, 92, 93], [0, 4, 5, 6, 7, 6, 5, 6, 10, 9, 10, 11, 12, 11, 12, 13, 14, 13, 18, 17, 20, 19, 18, 19, 20, 19, 20, 21, 22, 23, 24, 28, 30, 31, 32, 33, 32, 38, 39, 40, 41, 42, 41, 42, 43, 44, 43, 42, 41, 47, 48, 49, 51, 50, 49, 53, 52, 53, 56, 60, 61, 60, 61, 66, 67, 68, 69, 68, 69, 68, 69, 70, 71, 72, 73, 74, 73, 74, 75, 76, 77, 83, 84, 83, 84, 85, 84, 85, 86, 87, 86, 87, 86, 87, 88, 87, 88, 89, 90, 92, 93], [0, 4, 5, 6, 7, 6, 5, 6, 10, 9, 10, 11, 12, 11, 12, 13, 14, 13, 18, 17, 20, 19, 18, 19, 20, 19, 20, 21, 22, 23, 24, 28, 30, 31, 32, 33, 32, 38, 39, 40, 41, 42, 41, 42, 43, 44, 43, 42, 41, 47, 48, 49, 51, 50, 49, 53, 52, 53, 56, 60, 61, 60, 61, 66, 67, 68, 69, 68, 69, 68, 69, 70, 71, 72, 73, 74, 73, 74, 75, 76, 77, 83, 84, 83, 84, 85, 84, 85, 86, 87, 86, 87, 86, 87, 88, 87, 88, 89, 90, 92, 93], [0, 4, 5, 6, 7, 6, 5, 6, 10, 9, 10, 11, 12, 11, 12, 13, 14, 13, 18, 17, 20, 19, 18, 19, 20, 19, 20, 21, 22, 23, 24, 28, 30, 31, 32, 33, 32, 38, 39, 40, 41, 42, 41, 42, 43, 44, 43, 42, 41, 47, 48, 49, 51, 50, 49, 53, 52, 53, 56, 60, 61, 60, 61, 66, 67, 68, 69, 68, 69, 68, 69, 70, 71, 72, 73, 74, 73, 74, 75, 76, 77, 83, 84, 83, 84, 85, 84, 85, 86, 87, 86, 87, 86, 87, 88, 87, 88, 89, 90, 92, 93], [0, 4, 5, 6, 7, 6, 5, 6, 10, 9, 10, 11, 12, 11, 12, 13, 14, 13, 18, 17, 20, 19, 18, 19, 20, 19, 20, 21, 22, 23, 24, 28, 30, 31, 32, 33, 32, 38, 39, 40, 41, 42, 41, 42, 43, 44, 43, 42, 41, 47, 48, 49, 51, 50, 49, 53, 52, 53, 56, 60, 61, 60, 61, 66, 67, 68, 69, 68, 69, 68, 69, 70, 71, 72, 73, 74, 73, 74, 75, 76, 77, 83, 84, 83, 84, 85, 84, 85, 86, 87, 86, 87, 86, 87, 88, 87, 88, 89, 90, 92, 93], [0, 4, 5, 6, 7, 6, 5, 6, 10, 9, 10, 11, 12, 11, 12, 13, 14, 13, 18, 17, 20, 19, 18, 19, 20, 19, 20, 21, 22, 23, 24, 28, 30, 31, 32, 33, 32, 38, 39, 40, 41, 42, 41, 42, 43, 44, 43, 42, 41, 47, 48, 49, 51, 50, 49, 53, 52, 53, 56, 60, 61, 60, 61, 66, 67, 68, 69, 68, 69, 68, 69, 70, 71, 72, 73, 74, 73, 74, 75, 76, 77, 83, 84, 83, 84, 85, 84, 85, 86, 87, 86, 87, 86, 87, 88, 87, 88, 89, 90, 92, 93], [0, 4, 5, 6, 7, 6, 5, 6, 10, 9, 10, 11, 12, 11, 12, 13, 14, 13, 18, 17, 20, 19, 18, 19, 20, 19, 20, 21, 22, 23, 24, 28, 30, 31, 32, 33, 32, 38, 39, 40, 41, 42, 41, 42, 43, 44, 43, 42, 41, 47, 48, 49, 51, 50, 49, 53, 52, 53, 56, 60, 61, 60, 61, 66, 67, 68, 69, 68, 69, 68, 69, 70, 71, 72, 73, 74, 73, 74, 75, 76, 77, 83, 84, 83, 84, 85, 84, 85, 86, 87, 86, 87, 86, 87, 88, 87, 88, 89, 90, 92, 93], [0, 1, 0, 0, 1, 2, 3, 4, 3, 4, 5, 6, 7, 11, 10, 11, 12, 13, 12, 13, 12, 13, 14, 15, 19, 20, 19, 25, 26, 28, 27, 26, 27, 28, 27, 28, 29, 28, 33, 32, 31, 32, 33, 34, 35, 41, 40, 41, 47, 48, 47, 48, 47, 46, 45, 46, 47, 53, 54, 53, 54, 53, 54, 55, 54, 55, 56, 55, 54, 53, 52, 53, 52, 55, 54, 55, 56, 57, 58, 59, 60, 62, 61, 66, 67, 69, 70, 69, 70, 71, 72, 71, 72, 71, 70, 75, 76, 75, 76, 77, 78], [0, 1, 0, 0, 1, 2, 3, 4, 3, 4, 5, 6, 7, 11, 10, 11, 12, 13, 12, 13, 12, 13, 14, 15, 19, 20, 19, 25, 26, 28, 27, 26, 27, 28, 27, 28, 29, 28, 33, 32, 31, 32, 33, 34, 35, 41, 40, 41, 47, 48, 47, 48, 47, 46, 45, 46, 47, 53, 54, 53, 54, 53, 54, 55, 54, 55, 56, 55, 54, 53, 52, 53, 52, 55, 54, 55, 56, 57, 58, 59, 60, 62, 61, 66, 67, 69, 70, 69, 70, 71, 72, 71, 72, 71, 70, 75, 76, 75, 76, 77, 78], [0, 1, 0, 0, 1, 2, 3, 4, 3, 4, 5, 6, 7, 11, 10, 11, 12, 13, 12, 13, 12, 13, 14, 15, 19, 20, 19, 25, 26, 28, 27, 26, 27, 28, 27, 28, 29, 28, 33, 32, 31, 32, 33, 34, 35, 41, 40, 41, 47, 48, 47, 48, 47, 46, 45, 46, 47, 53, 54, 53, 54, 53, 54, 55, 54, 55, 56, 55, 54, 53, 52, 53, 52, 55, 54, 55, 56, 57, 58, 59, 60, 62, 61, 66, 67, 69, 70, 69, 70, 71, 72, 71, 72, 71, 70, 75, 76, 75, 76, 77, 78], [0, 1, 0, 0, 1, 2, 3, 4, 3, 4, 5, 6, 7, 11, 10, 11, 12, 13, 12, 13, 12, 13, 14, 15, 19, 20, 19, 25, 26, 28, 27, 26, 27, 28, 27, 28, 29, 28, 33, 32, 31, 32, 33, 34, 35, 41, 40, 41, 47, 48, 47, 48, 47, 46, 45, 46, 47, 53, 54, 53, 54, 53, 54, 55, 54, 55, 56, 55, 54, 53, 52, 53, 52, 55, 54, 55, 56, 57, 58, 59, 60, 62, 61, 66, 67, 69, 70, 69, 70, 71, 72, 71, 72, 71, 70, 75, 76, 75, 76, 77, 78], [0, 1, 0, 0, 1, 2, 3, 4, 3, 4, 5, 6, 7, 11, 10, 11, 12, 13, 12, 13, 12, 13, 14, 15, 19, 20, 19, 25, 26, 28, 27, 26, 27, 28, 27, 28, 29, 28, 33, 32, 31, 32, 33, 34, 35, 41, 40, 41, 47, 48, 47, 48, 47, 46, 45, 46, 47, 53, 54, 53, 54, 53, 54, 55, 54, 55, 56, 55, 54, 53, 52, 53, 52, 55, 54, 55, 56, 57, 58, 59, 60, 62, 61, 66, 67, 69, 70, 69, 70, 71, 72, 71, 72, 71, 70, 75, 76, 75, 76, 77, 78], [0, 1, 0, 0, 1, 2, 3, 4, 3, 4, 5, 6, 7, 11, 10, 11, 12, 13, 12, 13, 12, 13, 14, 15, 19, 20, 19, 25, 26, 28, 27, 26, 27, 28, 27, 28, 29, 28, 33, 32, 31, 32, 33, 34, 35, 41, 40, 41, 47, 48, 47, 48, 47, 46, 45, 46, 47, 53, 54, 53, 54, 53, 54, 55, 54, 55, 56, 55, 54, 53, 52, 53, 52, 55, 54, 55, 56, 57, 58, 59, 60, 62, 61, 66, 67, 69, 70, 69, 70, 71, 72, 71, 72, 71, 70, 75, 76, 75, 76, 77, 78], [0, 1, 0, 0, 1, 2, 3, 4, 3, 4, 5, 6, 7, 11, 10, 11, 12, 13, 12, 13, 12, 13, 14, 15, 19, 20, 19, 25, 26, 28, 27, 26, 27, 28, 27, 28, 29, 28, 33, 32, 31, 32, 33, 34, 35, 41, 40, 41, 47, 48, 47, 48, 47, 46, 45, 46, 47, 53, 54, 53, 54, 53, 54, 55, 54, 55, 56, 55, 54, 53, 52, 53, 52, 55, 54, 55, 56, 57, 58, 59, 60, 62, 61, 66, 67, 69, 70, 69, 70, 71, 72, 71, 72, 71, 70, 75, 76, 75, 76, 77, 78], [0, 1, 0, 0, 1, 2, 3, 4, 3, 4, 5, 6, 7, 11, 10, 11, 12, 13, 12, 13, 12, 13, 14, 15, 19, 20, 19, 25, 26, 28, 27, 26, 27, 28, 27, 28, 29, 28, 33, 32, 31, 32, 33, 34, 35, 41, 40, 41, 47, 48, 47, 48, 47, 46, 45, 46, 47, 53, 54, 53, 54, 53, 54, 55, 54, 55, 56, 55, 54, 53, 52, 53, 52, 55, 54, 55, 56, 57, 58, 59, 60, 62, 61, 66, 67, 69, 70, 69, 70, 71, 72, 71, 72, 71, 70, 75, 76, 75, 76, 77, 78], [0, 1, 0, 0, 1, 2, 3, 4, 3, 4, 5, 6, 7, 11, 10, 11, 12, 13, 12, 13, 12, 13, 14, 15, 19, 20, 19, 25, 26, 28, 27, 26, 27, 28, 27, 28, 29, 28, 33, 32, 31, 32, 33, 34, 35, 41, 40, 41, 47, 48, 47, 48, 47, 46, 45, 46, 47, 53, 54, 53, 54, 53, 54, 55, 54, 55, 56, 55, 54, 53, 52, 53, 52, 55, 54, 55, 56, 57, 58, 59, 60, 62, 61, 66, 67, 69, 70, 69, 70, 71, 72, 71, 72, 71, 70, 75, 76, 75, 76, 77, 78], [0, 1, 0, 0, 1, 2, 3, 4, 3, 4, 5, 6, 7, 11, 10, 11, 12, 13, 12, 13, 12, 13, 14, 15, 19, 20, 19, 25, 26, 28, 27, 26, 27, 28, 27, 28, 29, 28, 33, 32, 31, 32, 33, 34, 35, 41, 40, 41, 47, 48, 47, 48, 47, 46, 45, 46, 47, 53, 54, 53, 54, 53, 54, 55, 54, 55, 56, 55, 54, 53, 52, 53, 52, 55, 54, 55, 56, 57, 58, 59, 60, 62, 61, 66, 67, 69, 70, 69, 70, 71, 72, 71, 72, 71, 70, 75, 76, 75, 76, 77, 78], [0, 1, 0, 0, 1, 2, 3, 4, 3, 4, 5, 6, 7, 11, 10, 11, 12, 13, 12, 13, 12, 13, 14, 15, 19, 20, 19, 25, 26, 28, 27, 26, 27, 28, 27, 28, 29, 28, 33, 32, 31, 32, 33, 34, 35, 41, 40, 41, 47, 48, 47, 48, 47, 46, 45, 46, 47, 53, 54, 53, 54, 53, 54, 55, 54, 55, 56, 55, 54, 53, 52, 53, 52, 55, 54, 55, 56, 57, 58, 59, 60, 62, 61, 66, 67, 69, 70, 69, 70, 71, 72, 71, 72, 71, 70, 75, 76, 75, 76, 77, 78], [0, 1, 0, 0, 1, 2, 3, 4, 3, 4, 5, 6, 7, 11, 10, 11, 12, 13, 12, 13, 12, 13, 14, 15, 19, 20, 19, 25, 26, 28, 27, 26, 27, 28, 27, 28, 29, 28, 33, 32, 31, 32, 33, 34, 35, 41, 40, 41, 47, 48, 47, 48, 47, 46, 45, 46, 47, 53, 54, 53, 54, 53, 54, 55, 54, 55, 56, 55, 54, 53, 52, 53, 52, 55, 54, 55, 56, 57, 58, 59, 60, 62, 61, 66, 67, 69, 70, 69, 70, 71, 72, 71, 72, 71, 70, 75, 76, 75, 76, 77, 78], [0, 1, 0, 0, 1, 2, 3, 4, 3, 4, 5, 6, 7, 11, 10, 11, 12, 13, 12, 13, 12, 13, 14, 15, 19, 20, 19, 25, 26, 28, 27, 26, 27, 28, 27, 28, 29, 28, 33, 32, 31, 32, 33, 34, 35, 41, 40, 41, 47, 48, 47, 48, 47, 46, 45, 46, 47, 53, 54, 53, 54, 53, 54, 55, 54, 55, 56, 55, 54, 53, 52, 53, 52, 55, 54, 55, 56, 57, 58, 59, 60, 62, 61, 66, 67, 69, 70, 69, 70, 71, 72, 71, 72, 71, 70, 75, 76, 75, 76, 77, 78], [0, 1, 0, 0, 1, 2, 3, 4, 3, 4, 5, 6, 7, 11, 10, 11, 12, 13, 12, 13, 12, 13, 14, 15, 19, 20, 19, 25, 26, 28, 27, 26, 27, 28, 27, 28, 29, 28, 33, 32, 31, 32, 33, 34, 35, 41, 40, 41, 47, 48, 47, 48, 47, 46, 45, 46, 47, 53, 54, 53, 54, 53, 54, 55, 54, 55, 56, 55, 54, 53, 52, 53, 52, 55, 54, 55, 56, 57, 58, 59, 60, 62, 61, 66, 67, 69, 70, 69, 70, 71, 72, 71, 72, 71, 70, 75, 76, 75, 76, 77, 78], [0, 1, 0, 0, 1, 2, 3, 4, 3, 4, 5, 6, 7, 11, 10, 11, 12, 13, 12, 13, 12, 13, 14, 15, 19, 20, 19, 25, 26, 28, 27, 26, 27, 28, 27, 28, 29, 28, 33, 32, 31, 32, 33, 34, 35, 41, 40, 41, 47, 48, 47, 48, 47, 46, 45, 46, 47, 53, 54, 53, 54, 53, 54, 55, 54, 55, 56, 55, 54, 53, 52, 53, 52, 55, 54, 55, 56, 57, 58, 59, 60, 62, 61, 66, 67, 69, 70, 69, 70, 71, 72, 71, 72, 71, 70, 75, 76, 75, 76, 77, 78], [0, 1, 0, 0, 1, 2, 3, 4, 3, 4, 5, 6, 7, 11, 10, 11, 12, 13, 12, 13, 12, 13, 14, 15, 19, 20, 19, 25, 26, 28, 27, 26, 27, 28, 27, 28, 29, 28, 33, 32, 31, 32, 33, 34, 35, 41, 40, 41, 47, 48, 47, 48, 47, 46, 45, 46, 47, 53, 54, 53, 54, 53, 54, 55, 54, 55, 56, 55, 54, 53, 52, 53, 52, 55, 54, 55, 56, 57, 58, 59, 60, 62, 61, 66, 67, 69, 70, 69, 70, 71, 72, 71, 72, 71, 70, 75, 76, 75, 76, 77, 78], [0, 1, 0, 0, 1, 2, 3, 4, 3, 4, 5, 6, 7, 11, 10, 11, 12, 13, 12, 13, 12, 13, 14, 15, 19, 20, 19, 25, 26, 28, 27, 26, 27, 28, 27, 28, 29, 28, 33, 32, 31, 32, 33, 34, 35, 41, 40, 41, 47, 48, 47, 48, 47, 46, 45, 46, 47, 53, 54, 53, 54, 53, 54, 55, 54, 55, 56, 55, 54, 53, 52, 53, 52, 55, 54, 55, 56, 57, 58, 59, 60, 62, 61, 66, 67, 69, 70, 69, 70, 71, 72, 71, 72, 71, 70, 75, 76, 75, 76, 77, 78], [0, 1, 0, 0, 1, 2, 3, 4, 3, 4, 5, 6, 7, 11, 10, 11, 12, 13, 12, 13, 12, 13, 14, 15, 19, 20, 19, 25, 26, 28, 27, 26, 27, 28, 27, 28, 29, 28, 33, 32, 31, 32, 33, 34, 35, 41, 40, 41, 47, 48, 47, 48, 47, 46, 45, 46, 47, 53, 54, 53, 54, 53, 54, 55, 54, 55, 56, 55, 54, 53, 52, 53, 52, 55, 54, 55, 56, 57, 58, 59, 60, 62, 61, 66, 67, 69, 70, 69, 70, 71, 72, 71, 72, 71, 70, 75, 76, 75, 76, 77, 78], [0, 1, 0, 0, 1, 2, 3, 4, 3, 4, 5, 6, 7, 11, 10, 11, 12, 13, 12, 13, 12, 13, 14, 15, 19, 20, 19, 25, 26, 28, 27, 26, 27, 28, 27, 28, 29, 28, 33, 32, 31, 32, 33, 34, 35, 41, 40, 41, 47, 48, 47, 48, 47, 46, 45, 46, 47, 53, 54, 53, 54, 53, 54, 55, 54, 55, 56, 55, 54, 53, 52, 53, 52, 55, 54, 55, 56, 57, 58, 59, 60, 62, 61, 66, 67, 69, 70, 69, 70, 71, 72, 71, 72, 71, 70, 75, 76, 75, 76, 77, 78], [0, 1, 0, 0, 1, 2, 3, 4, 3, 4, 5, 6, 7, 11, 10, 11, 12, 13, 12, 13, 12, 13, 14, 15, 19, 20, 19, 25, 26, 28, 27, 26, 27, 28, 27, 28, 29, 28, 33, 32, 31, 32, 33, 34, 35, 41, 40, 41, 47, 48, 47, 48, 47, 46, 45, 46, 47, 53, 54, 53, 54, 53, 54, 55, 54, 55, 56, 55, 54, 53, 52, 53, 52, 55, 54, 55, 56, 57, 58, 59, 60, 62, 61, 66, 67, 69, 70, 69, 70, 71, 72, 71, 72, 71, 70, 75, 76, 75, 76, 77, 78], [0, 1, 0, 0, 1, 2, 3, 4, 3, 4, 5, 6, 7, 11, 10, 11, 12, 13, 12, 13, 12, 13, 14, 15, 19, 20, 19, 25, 26, 28, 27, 26, 27, 28, 27, 28, 29, 28, 33, 32, 31, 32, 33, 34, 35, 41, 40, 41, 47, 48, 47, 48, 47, 46, 45, 46, 47, 53, 54, 53, 54, 53, 54, 55, 54, 55, 56, 55, 54, 53, 52, 53, 52, 55, 54, 55, 56, 57, 58, 59, 60, 62, 61, 66, 67, 69, 70, 69, 70, 71, 72, 71, 72, 71, 70, 75, 76, 75, 76, 77, 78], [0, 1, 0, 0, 1, 2, 3, 4, 3, 4, 5, 6, 7, 11, 10, 11, 12, 13, 12, 13, 12, 13, 14, 15, 19, 20, 19, 25, 26, 28, 27, 26, 27, 28, 27, 28, 29, 28, 33, 32, 31, 32, 33, 34, 35, 41, 40, 41, 47, 48, 47, 48, 47, 46, 45, 46, 47, 53, 54, 53, 54, 53, 54, 55, 54, 55, 56, 55, 54, 53, 52, 53, 52, 55, 54, 55, 56, 57, 58, 59, 60, 62, 61, 66, 67, 69, 70, 69, 70, 71, 72, 71, 72, 71, 70, 75, 76, 75, 76, 77, 78], [0, 1, 0, 0, 1, 2, 3, 4, 3, 4, 5, 6, 7, 11, 10, 11, 12, 13, 12, 13, 12, 13, 14, 15, 19, 20, 19, 25, 26, 28, 27, 26, 27, 28, 27, 28, 29, 28, 33, 32, 31, 32, 33, 34, 35, 41, 40, 41, 47, 48, 47, 48, 47, 46, 45, 46, 47, 53, 54, 53, 54, 53, 54, 55, 54, 55, 56, 55, 54, 53, 52, 53, 52, 55, 54, 55, 56, 57, 58, 59, 60, 62, 61, 66, 67, 69, 70, 69, 70, 71, 72, 71, 72, 71, 70, 75, 76, 75, 76, 77, 78], [0, 1, 0, 0, 1, 2, 3, 4, 3, 4, 5, 6, 7, 11, 10, 11, 12, 13, 12, 13, 12, 13, 14, 15, 19, 20, 19, 25, 26, 28, 27, 26, 27, 28, 27, 28, 29, 28, 33, 32, 31, 32, 33, 34, 35, 41, 40, 41, 47, 48, 47, 48, 47, 46, 45, 46, 47, 53, 54, 53, 54, 53, 54, 55, 54, 55, 56, 55, 54, 53, 52, 53, 52, 55, 54, 55, 56, 57, 58, 59, 60, 62, 61, 66, 67, 69, 70, 69, 70, 71, 72, 71, 72, 71, 70, 75, 76, 75, 76, 77, 78], [0, 1, 0, 0, 1, 2, 3, 4, 3, 4, 5, 6, 7, 11, 10, 11, 12, 13, 12, 13, 12, 13, 14, 15, 19, 20, 19, 25, 26, 28, 27, 26, 27, 28, 27, 28, 29, 28, 33, 32, 31, 32, 33, 34, 35, 41, 40, 41, 47, 48, 47, 48, 47, 46, 45, 46, 47, 53, 54, 53, 54, 53, 54, 55, 54, 55, 56, 55, 54, 53, 52, 53, 52, 55, 54, 55, 56, 57, 58, 59, 60, 62, 61, 66, 67, 69, 70, 69, 70, 71, 72, 71, 72, 71, 70, 75, 76, 75, 76, 77, 78], [0, 1, 0, 0, 1, 2, 3, 4, 3, 4, 5, 6, 7, 11, 10, 11, 12, 13, 12, 13, 12, 13, 14, 15, 19, 20, 19, 25, 26, 28, 27, 26, 27, 28, 27, 28, 29, 28, 33, 32, 31, 32, 33, 34, 35, 41, 40, 41, 47, 48, 47, 48, 47, 46, 45, 46, 47, 53, 54, 53, 54, 53, 54, 55, 54, 55, 56, 55, 54, 53, 52, 53, 52, 55, 54, 55, 56, 57, 58, 59, 60, 62, 61, 66, 67, 69, 70, 69, 70, 71, 72, 71, 72, 71, 70, 75, 76, 75, 76, 77, 78], [0, 1, 0, 0, 1, 2, 3, 4, 3, 4, 5, 6, 7, 11, 10, 11, 12, 13, 12, 13, 12, 13, 14, 15, 19, 20, 19, 25, 26, 28, 27, 26, 27, 28, 27, 28, 29, 28, 33, 32, 31, 32, 33, 34, 35, 41, 40, 41, 47, 48, 47, 48, 47, 46, 45, 46, 47, 53, 54, 53, 54, 53, 54, 55, 54, 55, 56, 55, 54, 53, 52, 53, 52, 55, 54, 55, 56, 57, 58, 59, 60, 62, 61, 66, 67, 69, 70, 69, 70, 71, 72, 71, 72, 71, 70, 75, 76, 75, 76, 77, 78], [0, 1, 0, 0, 1, 2, 3, 4, 3, 4, 5, 6, 7, 11, 10, 11, 12, 13, 12, 13, 12, 13, 14, 15, 19, 20, 19, 25, 26, 28, 27, 26, 27, 28, 27, 28, 29, 28, 33, 32, 31, 32, 33, 34, 35, 41, 40, 41, 47, 48, 47, 48, 47, 46, 45, 46, 47, 53, 54, 53, 54, 53, 54, 55, 54, 55, 56, 55, 54, 53, 52, 53, 52, 55, 54, 55, 56, 57, 58, 59, 60, 62, 61, 66, 67, 69, 70, 69, 70, 71, 72, 71, 72, 71, 70, 75, 76, 75, 76, 77, 78], [0, 1, 0, 0, 1, 2, 3, 4, 3, 4, 5, 6, 7, 11, 10, 11, 12, 13, 12, 13, 12, 13, 14, 15, 19, 20, 19, 25, 26, 28, 27, 26, 27, 28, 27, 28, 29, 28, 33, 32, 31, 32, 33, 34, 35, 41, 40, 41, 47, 48, 47, 48, 47, 46, 45, 46, 47, 53, 54, 53, 54, 53, 54, 55, 54, 55, 56, 55, 54, 53, 52, 53, 52, 55, 54, 55, 56, 57, 58, 59, 60, 62, 61, 66, 67, 69, 70, 69, 70, 71, 72, 71, 72, 71, 70, 75, 76, 75, 76, 77, 78], [0, 1, 0, 0, 1, 2, 3, 4, 3, 4, 5, 6, 7, 11, 10, 11, 12, 13, 12, 13, 12, 13, 14, 15, 19, 20, 19, 25, 26, 28, 27, 26, 27, 28, 27, 28, 29, 28, 33, 32, 31, 32, 33, 34, 35, 41, 40, 41, 47, 48, 47, 48, 47, 46, 45, 46, 47, 53, 54, 53, 54, 53, 54, 55, 54, 55, 56, 55, 54, 53, 52, 53, 52, 55, 54, 55, 56, 57, 58, 59, 60, 62, 61, 66, 67, 69, 70, 69, 70, 71, 72, 71, 72, 71, 70, 75, 76, 75, 76, 77, 78], [0, 1, 0, 0, 1, 2, 3, 4, 3, 4, 5, 6, 7, 11, 10, 11, 12, 13, 12, 13, 12, 13, 14, 15, 19, 20, 19, 25, 26, 28, 27, 26, 27, 28, 27, 28, 29, 28, 33, 32, 31, 32, 33, 34, 35, 41, 40, 41, 47, 48, 47, 48, 47, 46, 45, 46, 47, 53, 54, 53, 54, 53, 54, 55, 54, 55, 56, 55, 54, 53, 52, 53, 52, 55, 54, 55, 56, 57, 58, 59, 60, 62, 61, 66, 67, 69, 70, 69, 70, 71, 72, 71, 72, 71, 70, 75, 76, 75, 76, 77, 78], [0, 1, 0, 0, 1, 2, 3, 4, 3, 4, 5, 6, 7, 11, 10, 11, 12, 13, 12, 13, 12, 13, 14, 15, 19, 20, 19, 25, 26, 28, 27, 26, 27, 28, 27, 28, 29, 28, 33, 32, 31, 32, 33, 34, 35, 41, 40, 41, 47, 48, 47, 48, 47, 46, 45, 46, 47, 53, 54, 53, 54, 53, 54, 55, 54, 55, 56, 55, 54, 53, 52, 53, 52, 55, 54, 55, 56, 57, 58, 59, 60, 62, 61, 66, 67, 69, 70, 69, 70, 71, 72, 71, 72, 71, 70, 75, 76, 75, 76, 77, 78], [0, 1, 0, 0, 1, 2, 3, 4, 3, 4, 5, 6, 7, 11, 10, 11, 12, 13, 12, 13, 12, 13, 14, 15, 19, 20, 19, 25, 26, 28, 27, 26, 27, 28, 27, 28, 29, 28, 33, 32, 31, 32, 33, 34, 35, 41, 40, 41, 47, 48, 47, 48, 47, 46, 45, 46, 47, 53, 54, 53, 54, 53, 54, 55, 54, 55, 56, 55, 54, 53, 52, 53, 52, 55, 54, 55, 56, 57, 58, 59, 60, 62, 61, 66, 67, 69, 70, 69, 70, 71, 72, 71, 72, 71, 70, 75, 76, 75, 76, 77, 78], [0, 1, 0, 0, 1, 2, 3, 4, 3, 4, 5, 6, 7, 11, 10, 11, 12, 13, 12, 13, 12, 13, 14, 15, 19, 20, 19, 25, 26, 28, 27, 26, 27, 28, 27, 28, 29, 28, 33, 32, 31, 32, 33, 34, 35, 41, 40, 41, 47, 48, 47, 48, 47, 46, 45, 46, 47, 53, 54, 53, 54, 53, 54, 55, 54, 55, 56, 55, 54, 53, 52, 53, 52, 55, 54, 55, 56, 57, 58, 59, 60, 62, 61, 66, 67, 69, 70, 69, 70, 71, 72, 71, 72, 71, 70, 75, 76, 75, 76, 77, 78], [0, 1, 0, 0, 1, 2, 3, 4, 3, 4, 5, 6, 7, 11, 10, 11, 12, 13, 12, 13, 12, 13, 14, 15, 19, 20, 19, 25, 26, 28, 27, 26, 27, 28, 27, 28, 29, 28, 33, 32, 31, 32, 33, 34, 35, 41, 40, 41, 47, 48, 47, 48, 47, 46, 45, 46, 47, 53, 54, 53, 54, 53, 54, 55, 54, 55, 56, 55, 54, 53, 52, 53, 52, 55, 54, 55, 56, 57, 58, 59, 60, 62, 61, 66, 67, 69, 70, 69, 70, 71, 72, 71, 72, 71, 70, 75, 76, 75, 76, 77, 78], [0, 1, 0, 0, 1, 2, 3, 4, 3, 4, 5, 6, 7, 11, 10, 11, 12, 13, 12, 13, 12, 13, 14, 15, 19, 20, 19, 25, 26, 28, 27, 26, 27, 28, 27, 28, 29, 28, 33, 32, 31, 32, 33, 34, 35, 41, 40, 41, 47, 48, 47, 48, 47, 46, 45, 46, 47, 53, 54, 53, 54, 53, 54, 55, 54, 55, 56, 55, 54, 53, 52, 53, 52, 55, 54, 55, 56, 57, 58, 59, 60, 62, 61, 66, 67, 69, 70, 69, 70, 71, 72, 71, 72, 71, 70, 75, 76, 75, 76, 77, 78], [0, 1, 0, 0, 1, 2, 3, 4, 3, 4, 5, 6, 7, 11, 10, 11, 12, 13, 12, 13, 12, 13, 14, 15, 19, 20, 19, 25, 26, 28, 27, 26, 27, 28, 27, 28, 29, 28, 33, 32, 31, 32, 33, 34, 35, 41, 40, 41, 47, 48, 47, 48, 47, 46, 45, 46, 47, 53, 54, 53, 54, 53, 54, 55, 54, 55, 56, 55, 54, 53, 52, 53, 52, 55, 54, 55, 56, 57, 58, 59, 60, 62, 61, 66, 67, 69, 70, 69, 70, 71, 72, 71, 72, 71, 70, 75, 76, 75, 76, 77, 78], [0, 1, 0, 0, 1, 2, 3, 4, 3, 4, 5, 6, 7, 11, 10, 11, 12, 13, 12, 13, 12, 13, 14, 15, 19, 20, 19, 25, 26, 28, 27, 26, 27, 28, 27, 28, 29, 28, 33, 32, 31, 32, 33, 34, 35, 41, 40, 41, 47, 48, 47, 48, 47, 46, 45, 46, 47, 53, 54, 53, 54, 53, 54, 55, 54, 55, 56, 55, 54, 53, 52, 53, 52, 55, 54, 55, 56, 57, 58, 59, 60, 62, 61, 66, 67, 69, 70, 69, 70, 71, 72, 71, 72, 71, 70, 75, 76, 75, 76, 77, 78], [0, 1, 0, 0, 1, 2, 3, 4, 3, 4, 5, 6, 7, 11, 10, 11, 12, 13, 12, 13, 12, 13, 14, 15, 19, 20, 19, 25, 26, 28, 27, 26, 27, 28, 27, 28, 29, 28, 33, 32, 31, 32, 33, 34, 35, 41, 40, 41, 47, 48, 47, 48, 47, 46, 45, 46, 47, 53, 54, 53, 54, 53, 54, 55, 54, 55, 56, 55, 54, 53, 52, 53, 52, 55, 54, 55, 56, 57, 58, 59, 60, 62, 61, 66, 67, 69, 70, 69, 70, 71, 72, 71, 72, 71, 70, 75, 76, 75, 76, 77, 78], [0, 1, 0, 0, 1, 2, 3, 4, 3, 4, 5, 6, 7, 11, 10, 11, 12, 13, 12, 13, 12, 13, 14, 15, 19, 20, 19, 25, 26, 28, 27, 26, 27, 28, 27, 28, 29, 28, 33, 32, 31, 32, 33, 34, 35, 41, 40, 41, 47, 48, 47, 48, 47, 46, 45, 46, 47, 53, 54, 53, 54, 53, 54, 55, 54, 55, 56, 55, 54, 53, 52, 53, 52, 55, 54, 55, 56, 57, 58, 59, 60, 62, 61, 66, 67, 69, 70, 69, 70, 71, 72, 71, 72, 71, 70, 75, 76, 75, 76, 77, 78], [0, 1, 0, 0, 1, 2, 3, 4, 3, 4, 5, 6, 7, 11, 10, 11, 12, 13, 12, 13, 12, 13, 14, 15, 19, 20, 19, 25, 26, 28, 27, 26, 27, 28, 27, 28, 29, 28, 33, 32, 31, 32, 33, 34, 35, 41, 40, 41, 47, 48, 47, 48, 47, 46, 45, 46, 47, 53, 54, 53, 54, 53, 54, 55, 54, 55, 56, 55, 54, 53, 52, 53, 52, 55, 54, 55, 56, 57, 58, 59, 60, 62, 61, 66, 67, 69, 70, 69, 70, 71, 72, 71, 72, 71, 70, 75, 76, 75, 76, 77, 78], [0, 1, 0, 0, 1, 2, 3, 4, 3, 4, 5, 6, 7, 11, 10, 11, 12, 13, 12, 13, 12, 13, 14, 15, 19, 20, 19, 25, 26, 28, 27, 26, 27, 28, 27, 28, 29, 28, 33, 32, 31, 32, 33, 34, 35, 41, 40, 41, 47, 48, 47, 48, 47, 46, 45, 46, 47, 53, 54, 53, 54, 53, 54, 55, 54, 55, 56, 55, 54, 53, 52, 53, 52, 55, 54, 55, 56, 57, 58, 59, 60, 62, 61, 66, 67, 69, 70, 69, 70, 71, 72, 71, 72, 71, 70, 75, 76, 75, 76, 77, 78], [0, 1, 0, 0, 1, 2, 3, 4, 3, 4, 5, 6, 7, 11, 10, 11, 12, 13, 12, 13, 12, 13, 14, 15, 19, 20, 19, 25, 26, 28, 27, 26, 27, 28, 27, 28, 29, 28, 33, 32, 31, 32, 33, 34, 35, 41, 40, 41, 47, 48, 47, 48, 47, 46, 45, 46, 47, 53, 54, 53, 54, 53, 54, 55, 54, 55, 56, 55, 54, 53, 52, 53, 52, 55, 54, 55, 56, 57, 58, 59, 60, 62, 61, 66, 67, 69, 70, 69, 70, 71, 72, 71, 72, 71, 70, 75, 76, 75, 76, 77, 78], [0, 1, 0, 0, 1, 2, 3, 4, 3, 4, 5, 6, 7, 11, 10, 11, 12, 13, 12, 13, 12, 13, 14, 15, 19, 20, 19, 25, 26, 28, 27, 26, 27, 28, 27, 28, 29, 28, 33, 32, 31, 32, 33, 34, 35, 41, 40, 41, 47, 48, 47, 48, 47, 46, 45, 46, 47, 53, 54, 53, 54, 53, 54, 55, 54, 55, 56, 55, 54, 53, 52, 53, 52, 55, 54, 55, 56, 57, 58, 59, 60, 62, 61, 66, 67, 69, 70, 69, 70, 71, 72, 71, 72, 71, 70, 75, 76, 75, 76, 77, 78], [0, 1, 0, 0, 1, 2, 3, 4, 3, 4, 5, 6, 7, 11, 10, 11, 12, 13, 12, 13, 12, 13, 14, 15, 19, 20, 19, 25, 26, 28, 27, 26, 27, 28, 27, 28, 29, 28, 33, 32, 31, 32, 33, 34, 35, 41, 40, 41, 47, 48, 47, 48, 47, 46, 45, 46, 47, 53, 54, 53, 54, 53, 54, 55, 54, 55, 56, 55, 54, 53, 52, 53, 52, 55, 54, 55, 56, 57, 58, 59, 60, 62, 61, 66, 67, 69, 70, 69, 70, 71, 72, 71, 72, 71, 70, 75, 76, 75, 76, 77, 78], [0, 1, 0, 0, 1, 2, 3, 4, 3, 4, 5, 6, 7, 11, 10, 11, 12, 13, 12, 13, 12, 13, 14, 15, 19, 20, 19, 25, 26, 28, 27, 26, 27, 28, 27, 28, 29, 28, 33, 32, 31, 32, 33, 34, 35, 41, 40, 41, 47, 48, 47, 48, 47, 46, 45, 46, 47, 53, 54, 53, 54, 53, 54, 55, 54, 55, 56, 55, 54, 53, 52, 53, 52, 55, 54, 55, 56, 57, 58, 59, 60, 62, 61, 66, 67, 69, 70, 69, 70, 71, 72, 71, 72, 71, 70, 75, 76, 75, 76, 77, 78], [0, 1, 0, 0, 1, 2, 3, 4, 3, 4, 5, 6, 7, 11, 10, 11, 12, 13, 12, 13, 12, 13, 14, 15, 19, 20, 19, 25, 26, 28, 27, 26, 27, 28, 27, 28, 29, 28, 33, 32, 31, 32, 33, 34, 35, 41, 40, 41, 47, 48, 47, 48, 47, 46, 45, 46, 47, 53, 54, 53, 54, 53, 54, 55, 54, 55, 56, 55, 54, 53, 52, 53, 52, 55, 54, 55, 56, 57, 58, 59, 60, 62, 61, 66, 67, 69, 70, 69, 70, 71, 72, 71, 72, 71, 70, 75, 76, 75, 76, 77, 78], [0, 1, 0, 0, 1, 2, 3, 4, 3, 4, 5, 6, 7, 11, 10, 11, 12, 13, 12, 13, 12, 13, 14, 15, 19, 20, 19, 25, 26, 28, 27, 26, 27, 28, 27, 28, 29, 28, 33, 32, 31, 32, 33, 34, 35, 41, 40, 41, 47, 48, 47, 48, 47, 46, 45, 46, 47, 53, 54, 53, 54, 53, 54, 55, 54, 55, 56, 55, 54, 53, 52, 53, 52, 55, 54, 55, 56, 57, 58, 59, 60, 62, 61, 66, 67, 69, 70, 69, 70, 71, 72, 71, 72, 71, 70, 75, 76, 75, 76, 77, 78], [0, 1, 0, 0, 1, 2, 3, 4, 3, 4, 5, 6, 7, 11, 10, 11, 12, 13, 12, 13, 12, 13, 14, 15, 19, 20, 19, 25, 26, 28, 27, 26, 27, 28, 27, 28, 29, 28, 33, 32, 31, 32, 33, 34, 35, 41, 40, 41, 47, 48, 47, 48, 47, 46, 45, 46, 47, 53, 54, 53, 54, 53, 54, 55, 54, 55, 56, 55, 54, 53, 52, 53, 52, 55, 54, 55, 56, 57, 58, 59, 60, 62, 61, 66, 67, 69, 70, 69, 70, 71, 72, 71, 72, 71, 70, 75, 76, 75, 76, 77, 78], [0, 1, 0, 0, 1, 2, 3, 4, 3, 4, 5, 6, 7, 11, 10, 11, 12, 13, 12, 13, 12, 13, 14, 15, 19, 20, 19, 25, 26, 28, 27, 26, 27, 28, 27, 28, 29, 28, 33, 32, 31, 32, 33, 34, 35, 41, 40, 41, 47, 48, 47, 48, 47, 46, 45, 46, 47, 53, 54, 53, 54, 53, 54, 55, 54, 55, 56, 55, 54, 53, 52, 53, 52, 55, 54, 55, 56, 57, 58, 59, 60, 62, 61, 66, 67, 69, 70, 69, 70, 71, 72, 71, 72, 71, 70, 75, 76, 75, 76, 77, 78], [0, 1, 0, 0, 1, 2, 3, 4, 3, 4, 5, 6, 7, 11, 10, 11, 12, 13, 12, 13, 12, 13, 14, 15, 19, 20, 19, 25, 26, 28, 27, 26, 27, 28, 27, 28, 29, 28, 33, 32, 31, 32, 33, 34, 35, 41, 40, 41, 47, 48, 47, 48, 47, 46, 45, 46, 47, 53, 54, 53, 54, 53, 54, 55, 54, 55, 56, 55, 54, 53, 52, 53, 52, 55, 54, 55, 56, 57, 58, 59, 60, 62, 61, 66, 67, 69, 70, 69, 70, 71, 72, 71, 72, 71, 70, 75, 76, 75, 76, 77, 78], [0, 1, 0, 0, 1, 2, 3, 4, 3, 4, 5, 6, 7, 11, 10, 11, 12, 13, 12, 13, 12, 13, 14, 15, 19, 20, 19, 25, 26, 28, 27, 26, 27, 28, 27, 28, 29, 28, 33, 32, 31, 32, 33, 34, 35, 41, 40, 41, 47, 48, 47, 48, 47, 46, 45, 46, 47, 53, 54, 53, 54, 53, 54, 55, 54, 55, 56, 55, 54, 53, 52, 53, 52, 55, 54, 55, 56, 57, 58, 59, 60, 62, 61, 66, 67, 69, 70, 69, 70, 71, 72, 71, 72, 71, 70, 75, 76, 75, 76, 77, 78], [0, 1, 0, 0, 1, 2, 3, 4, 3, 4, 5, 6, 7, 11, 10, 11, 12, 13, 12, 13, 12, 13, 14, 15, 19, 20, 19, 25, 26, 28, 27, 26, 27, 28, 27, 28, 29, 28, 33, 32, 31, 32, 33, 34, 35, 41, 40, 41, 47, 48, 47, 48, 47, 46, 45, 46, 47, 53, 54, 53, 54, 53, 54, 55, 54, 55, 56, 55, 54, 53, 52, 53, 52, 55, 54, 55, 56, 57, 58, 59, 60, 62, 61, 66, 67, 69, 70, 69, 70, 71, 72, 71, 72, 71, 70, 75, 76, 75, 76, 77, 78], [0, 1, 0, 0, 1, 2, 3, 4, 3, 4, 5, 6, 7, 11, 10, 11, 12, 13, 12, 13, 12, 13, 14, 15, 19, 20, 19, 25, 26, 28, 27, 26, 27, 28, 27, 28, 29, 28, 33, 32, 31, 32, 33, 34, 35, 41, 40, 41, 47, 48, 47, 48, 47, 46, 45, 46, 47, 53, 54, 53, 54, 53, 54, 55, 54, 55, 56, 55, 54, 53, 52, 53, 52, 55, 54, 55, 56, 57, 58, 59, 60, 62, 61, 66, 67, 69, 70, 69, 70, 71, 72, 71, 72, 71, 70, 75, 76, 75, 76, 77, 78], [0, 1, 0, 0, 1, 2, 3, 4, 3, 4, 5, 6, 7, 11, 10, 11, 12, 13, 12, 13, 12, 13, 14, 15, 19, 20, 19, 25, 26, 28, 27, 26, 27, 28, 27, 28, 29, 28, 33, 32, 31, 32, 33, 34, 35, 41, 40, 41, 47, 48, 47, 48, 47, 46, 45, 46, 47, 53, 54, 53, 54, 53, 54, 55, 54, 55, 56, 55, 54, 53, 52, 53, 52, 55, 54, 55, 56, 57, 58, 59, 60, 62, 61, 66, 67, 69, 70, 69, 70, 71, 72, 71, 72, 71, 70, 75, 76, 75, 76, 77, 78], [0, 1, 0, 0, 1, 2, 3, 4, 3, 4, 5, 6, 7, 11, 10, 11, 12, 13, 12, 13, 12, 13, 14, 15, 19, 20, 19, 25, 26, 28, 27, 26, 27, 28, 27, 28, 29, 28, 33, 32, 31, 32, 33, 34, 35, 41, 40, 41, 47, 48, 47, 48, 47, 46, 45, 46, 47, 53, 54, 53, 54, 53, 54, 55, 54, 55, 56, 55, 54, 53, 52, 53, 52, 55, 54, 55, 56, 57, 58, 59, 60, 62, 61, 66, 67, 69, 70, 69, 70, 71, 72, 71, 72, 71, 70, 75, 76, 75, 76, 77, 78], [0, 1, 0, 0, 1, 2, 3, 4, 3, 4, 5, 6, 7, 11, 10, 11, 12, 13, 12, 13, 12, 13, 14, 15, 19, 20, 19, 25, 26, 28, 27, 26, 27, 28, 27, 28, 29, 28, 33, 32, 31, 32, 33, 34, 35, 41, 40, 41, 47, 48, 47, 48, 47, 46, 45, 46, 47, 53, 54, 53, 54, 53, 54, 55, 54, 55, 56, 55, 54, 53, 52, 53, 52, 55, 54, 55, 56, 57, 58, 59, 60, 62, 61, 66, 67, 69, 70, 69, 70, 71, 72, 71, 72, 71, 70, 75, 76, 75, 76, 77, 78], [0, 1, 0, 0, 1, 2, 3, 4, 3, 4, 5, 6, 7, 11, 10, 11, 12, 13, 12, 13, 12, 13, 14, 15, 19, 20, 19, 25, 26, 28, 27, 26, 27, 28, 27, 28, 29, 28, 33, 32, 31, 32, 33, 34, 35, 41, 40, 41, 47, 48, 47, 48, 47, 46, 45, 46, 47, 53, 54, 53, 54, 53, 54, 55, 54, 55, 56, 55, 54, 53, 52, 53, 52, 55, 54, 55, 56, 57, 58, 59, 60, 62, 61, 66, 67, 69, 70, 69, 70, 71, 72, 71, 72, 71, 70, 75, 76, 75, 76, 77, 78], [0, 1, 0, 0, 1, 2, 3, 4, 3, 4, 5, 6, 7, 11, 10, 11, 12, 13, 12, 13, 12, 13, 14, 15, 19, 20, 19, 25, 26, 28, 27, 26, 27, 28, 27, 28, 29, 28, 33, 32, 31, 32, 33, 34, 35, 41, 40, 41, 47, 48, 47, 48, 47, 46, 45, 46, 47, 53, 54, 53, 54, 53, 54, 55, 54, 55, 56, 55, 54, 53, 52, 53, 52, 55, 54, 55, 56, 57, 58, 59, 60, 62, 61, 66, 67, 69, 70, 69, 70, 71, 72, 71, 72, 71, 70, 75, 76, 75, 76, 77, 78], [0, 1, 0, 0, 1, 2, 3, 4, 3, 4, 5, 6, 7, 11, 10, 11, 12, 13, 12, 13, 12, 13, 14, 15, 19, 20, 19, 25, 26, 28, 27, 26, 27, 28, 27, 28, 29, 28, 33, 32, 31, 32, 33, 34, 35, 41, 40, 41, 47, 48, 47, 48, 47, 46, 45, 46, 47, 53, 54, 53, 54, 53, 54, 55, 54, 55, 56, 55, 54, 53, 52, 53, 52, 55, 54, 55, 56, 57, 58, 59, 60, 62, 61, 66, 67, 69, 70, 69, 70, 71, 72, 71, 72, 71, 70, 75, 76, 75, 76, 77, 78], [0, 1, 0, 0, 1, 2, 3, 4, 3, 4, 5, 6, 7, 11, 10, 11, 12, 13, 12, 13, 12, 13, 14, 15, 19, 20, 19, 25, 26, 28, 27, 26, 27, 28, 27, 28, 29, 28, 33, 32, 31, 32, 33, 34, 35, 41, 40, 41, 47, 48, 47, 48, 47, 46, 45, 46, 47, 53, 54, 53, 54, 53, 54, 55, 54, 55, 56, 55, 54, 53, 52, 53, 52, 55, 54, 55, 56, 57, 58, 59, 60, 62, 61, 66, 67, 69, 70, 69, 70, 71, 72, 71, 72, 71, 70, 75, 76, 75, 76, 77, 78], [0, 1, 0, 0, 1, 2, 3, 4, 3, 4, 5, 6, 7, 11, 10, 11, 12, 13, 12, 13, 12, 13, 14, 15, 19, 20, 19, 25, 26, 28, 27, 26, 27, 28, 27, 28, 29, 28, 33, 32, 31, 32, 33, 34, 35, 41, 40, 41, 47, 48, 47, 48, 47, 46, 45, 46, 47, 53, 54, 53, 54, 53, 54, 55, 54, 55, 56, 55, 54, 53, 52, 53, 52, 55, 54, 55, 56, 57, 58, 59, 60, 62, 61, 66, 67, 69, 70, 69, 70, 71, 72, 71, 72, 71, 70, 75, 76, 75, 76, 77, 78], [0, 1, 0, 0, 1, 2, 3, 4, 3, 4, 5, 6, 7, 11, 10, 11, 12, 13, 12, 13, 12, 13, 14, 15, 19, 20, 19, 25, 26, 28, 27, 26, 27, 28, 27, 28, 29, 28, 33, 32, 31, 32, 33, 34, 35, 41, 40, 41, 47, 48, 47, 48, 47, 46, 45, 46, 47, 53, 54, 53, 54, 53, 54, 55, 54, 55, 56, 55, 54, 53, 52, 53, 52, 55, 54, 55, 56, 57, 58, 59, 60, 62, 61, 66, 67, 69, 70, 69, 70, 71, 72, 71, 72, 71, 70, 75, 76, 75, 76, 77, 78], [0, 1, 0, 0, 1, 2, 3, 4, 3, 4, 5, 6, 7, 11, 10, 11, 12, 13, 12, 13, 12, 13, 14, 15, 19, 20, 19, 25, 26, 28, 27, 26, 27, 28, 27, 28, 29, 28, 33, 32, 31, 32, 33, 34, 35, 41, 40, 41, 47, 48, 47, 48, 47, 46, 45, 46, 47, 53, 54, 53, 54, 53, 54, 55, 54, 55, 56, 55, 54, 53, 52, 53, 52, 55, 54, 55, 56, 57, 58, 59, 60, 62, 61, 66, 67, 69, 70, 69, 70, 71, 72, 71, 72, 71, 70, 75, 76, 75, 76, 77, 78], [0, 1, 0, 0, 1, 2, 3, 4, 3, 4, 5, 6, 7, 11, 10, 11, 12, 13, 12, 13, 12, 13, 14, 15, 19, 20, 19, 25, 26, 28, 27, 26, 27, 28, 27, 28, 29, 28, 33, 32, 31, 32, 33, 34, 35, 41, 40, 41, 47, 48, 47, 48, 47, 46, 45, 46, 47, 53, 54, 53, 54, 53, 54, 55, 54, 55, 56, 55, 54, 53, 52, 53, 52, 55, 54, 55, 56, 57, 58, 59, 60, 62, 61, 66, 67, 69, 70, 69, 70, 71, 72, 71, 72, 71, 70, 75, 76, 75, 76, 77, 78], [0, 1, 0, 0, 1, 2, 3, 4, 3, 4, 5, 6, 7, 11, 10, 11, 12, 13, 12, 13, 12, 13, 14, 15, 19, 20, 19, 25, 26, 28, 27, 26, 27, 28, 27, 28, 29, 28, 33, 32, 31, 32, 33, 34, 35, 41, 40, 41, 47, 48, 47, 48, 47, 46, 45, 46, 47, 53, 54, 53, 54, 53, 54, 55, 54, 55, 56, 55, 54, 53, 52, 53, 52, 55, 54, 55, 56, 57, 58, 59, 60, 62, 61, 66, 67, 69, 70, 69, 70, 71, 72, 71, 72, 71, 70, 75, 76, 75, 76, 77, 78], [0, 1, 0, 0, 1, 2, 3, 4, 3, 4, 5, 6, 7, 11, 10, 11, 12, 13, 12, 13, 12, 13, 14, 15, 19, 20, 19, 25, 26, 28, 27, 26, 27, 28, 27, 28, 29, 28, 33, 32, 31, 32, 33, 34, 35, 41, 40, 41, 47, 48, 47, 48, 47, 46, 45, 46, 47, 53, 54, 53, 54, 53, 54, 55, 54, 55, 56, 55, 54, 53, 52, 53, 52, 55, 54, 55, 56, 57, 58, 59, 60, 62, 61, 66, 67, 69, 70, 69, 70, 71, 72, 71, 72, 71, 70, 75, 76, 75, 76, 77, 78], [0, 1, 0, 0, 1, 2, 3, 4, 3, 4, 5, 6, 7, 11, 10, 11, 12, 13, 12, 13, 12, 13, 14, 15, 19, 20, 19, 25, 26, 28, 27, 26, 27, 28, 27, 28, 29, 28, 33, 32, 31, 32, 33, 34, 35, 41, 40, 41, 47, 48, 47, 48, 47, 46, 45, 46, 47, 53, 54, 53, 54, 53, 54, 55, 54, 55, 56, 55, 54, 53, 52, 53, 52, 55, 54, 55, 56, 57, 58, 59, 60, 62, 61, 66, 67, 69, 70, 69, 70, 71, 72, 71, 72, 71, 70, 75, 76, 75, 76, 77, 78], [0, 1, 0, 0, 1, 2, 3, 4, 3, 4, 5, 6, 7, 11, 10, 11, 12, 13, 12, 13, 12, 13, 14, 15, 19, 20, 19, 25, 26, 28, 27, 26, 27, 28, 27, 28, 29, 28, 33, 32, 31, 32, 33, 34, 35, 41, 40, 41, 47, 48, 47, 48, 47, 46, 45, 46, 47, 53, 54, 53, 54, 53, 54, 55, 54, 55, 56, 55, 54, 53, 52, 53, 52, 55, 54, 55, 56, 57, 58, 59, 60, 62, 61, 66, 67, 69, 70, 69, 70, 71, 72, 71, 72, 71, 70, 75, 76, 75, 76, 77, 78], [0, 1, 0, 0, 1, 2, 3, 4, 3, 4, 5, 6, 7, 11, 10, 11, 12, 13, 12, 13, 12, 13, 14, 15, 19, 20, 19, 25, 26, 28, 27, 26, 27, 28, 27, 28, 29, 28, 33, 32, 31, 32, 33, 34, 35, 41, 40, 41, 47, 48, 47, 48, 47, 46, 45, 46, 47, 53, 54, 53, 54, 53, 54, 55, 54, 55, 56, 55, 54, 53, 52, 53, 52, 55, 54, 55, 56, 57, 58, 59, 60, 62, 61, 66, 67, 69, 70, 69, 70, 71, 72, 71, 72, 71, 70, 75, 76, 75, 76, 77, 78], [0, 1, 0, 0, 1, 2, 3, 4, 3, 4, 5, 6, 7, 11, 10, 11, 12, 13, 12, 13, 12, 13, 14, 15, 19, 20, 19, 25, 26, 28, 27, 26, 27, 28, 27, 28, 29, 28, 33, 32, 31, 32, 33, 34, 35, 41, 40, 41, 47, 48, 47, 48, 47, 46, 45, 46, 47, 53, 54, 53, 54, 53, 54, 55, 54, 55, 56, 55, 54, 53, 52, 53, 52, 55, 54, 55, 56, 57, 58, 59, 60, 62, 61, 66, 67, 69, 70, 69, 70, 71, 72, 71, 72, 71, 70, 75, 76, 75, 76, 77, 78], [0, 1, 0, 0, 1, 2, 3, 4, 3, 4, 5, 6, 7, 11, 10, 11, 12, 13, 12, 13, 12, 13, 14, 15, 19, 20, 19, 25, 26, 28, 27, 26, 27, 28, 27, 28, 29, 28, 33, 32, 31, 32, 33, 34, 35, 41, 40, 41, 47, 48, 47, 48, 47, 46, 45, 46, 47, 53, 54, 53, 54, 53, 54, 55, 54, 55, 56, 55, 54, 53, 52, 53, 52, 55, 54, 55, 56, 57, 58, 59, 60, 62, 61, 66, 67, 69, 70, 69, 70, 71, 72, 71, 72, 71, 70, 75, 76, 75, 76, 77, 78], [0, 1, 0, 0, 1, 2, 3, 4, 3, 4, 5, 6, 7, 11, 10, 11, 12, 13, 12, 13, 12, 13, 14, 15, 19, 20, 19, 25, 26, 28, 27, 26, 27, 28, 27, 28, 29, 28, 33, 32, 31, 32, 33, 34, 35, 41, 40, 41, 47, 48, 47, 48, 47, 46, 45, 46, 47, 53, 54, 53, 54, 53, 54, 55, 54, 55, 56, 55, 54, 53, 52, 53, 52, 55, 54, 55, 56, 57, 58, 59, 60, 62, 61, 66, 67, 69, 70, 69, 70, 71, 72, 71, 72, 71, 70, 75, 76, 75, 76, 77, 78], [0, 1, 0, 0, 1, 2, 3, 4, 3, 4, 5, 6, 7, 11, 10, 11, 12, 13, 12, 13, 12, 13, 14, 15, 19, 20, 19, 25, 26, 28, 27, 26, 27, 28, 27, 28, 29, 28, 33, 32, 31, 32, 33, 34, 35, 41, 40, 41, 47, 48, 47, 48, 47, 46, 45, 46, 47, 53, 54, 53, 54, 53, 54, 55, 54, 55, 56, 55, 54, 53, 52, 53, 52, 55, 54, 55, 56, 57, 58, 59, 60, 62, 61, 66, 67, 69, 70, 69, 70, 71, 72, 71, 72, 71, 70, 75, 76, 75, 76, 77, 78], [0, 1, 0, 0, 1, 2, 3, 4, 3, 4, 5, 6, 7, 11, 10, 11, 12, 13, 12, 13, 12, 13, 14, 15, 19, 20, 19, 25, 26, 28, 27, 26, 27, 28, 27, 28, 29, 28, 33, 32, 31, 32, 33, 34, 35, 41, 40, 41, 47, 48, 47, 48, 47, 46, 45, 46, 47, 53, 54, 53, 54, 53, 54, 55, 54, 55, 56, 55, 54, 53, 52, 53, 52, 55, 54, 55, 56, 57, 58, 59, 60, 62, 61, 66, 67, 69, 70, 69, 70, 71, 72, 71, 72, 71, 70, 75, 76, 75, 76, 77, 78], [0, 1, 0, 0, 1, 2, 3, 4, 3, 4, 5, 6, 7, 11, 10, 11, 12, 13, 12, 13, 12, 13, 14, 15, 19, 20, 19, 25, 26, 28, 27, 26, 27, 28, 27, 28, 29, 28, 33, 32, 31, 32, 33, 34, 35, 41, 40, 41, 47, 48, 47, 48, 47, 46, 45, 46, 47, 53, 54, 53, 54, 53, 54, 55, 54, 55, 56, 55, 54, 53, 52, 53, 52, 55, 54, 55, 56, 57, 58, 59, 60, 62, 61, 66, 67, 69, 70, 69, 70, 71, 72, 71, 72, 71, 70, 75, 76, 75, 76, 77, 78], [0, 1, 0, 0, 1, 2, 3, 4, 3, 4, 5, 6, 7, 11, 10, 11, 12, 13, 12, 13, 12, 13, 14, 15, 19, 20, 19, 25, 26, 28, 27, 26, 27, 28, 27, 28, 29, 28, 33, 32, 31, 32, 33, 34, 35, 41, 40, 41, 47, 48, 47, 48, 47, 46, 45, 46, 47, 53, 54, 53, 54, 53, 54, 55, 54, 55, 56, 55, 54, 53, 52, 53, 52, 55, 54, 55, 56, 57, 58, 59, 60, 62, 61, 66, 67, 69, 70, 69, 70, 71, 72, 71, 72, 71, 70, 75, 76, 75, 76, 77, 78], [0, 1, 0, 0, 1, 2, 3, 4, 3, 4, 5, 6, 7, 11, 10, 11, 12, 13, 12, 13, 12, 13, 14, 15, 19, 20, 19, 25, 26, 28, 27, 26, 27, 28, 27, 28, 29, 28, 33, 32, 31, 32, 33, 34, 35, 41, 40, 41, 47, 48, 47, 48, 47, 46, 45, 46, 47, 53, 54, 53, 54, 53, 54, 55, 54, 55, 56, 55, 54, 53, 52, 53, 52, 55, 54, 55, 56, 57, 58, 59, 60, 62, 61, 66, 67, 69, 70, 69, 70, 71, 72, 71, 72, 71, 70, 75, 76, 75, 76, 77, 78], [0, 1, 0, 0, 1, 2, 3, 4, 3, 4, 5, 6, 7, 11, 10, 11, 12, 13, 12, 13, 12, 13, 14, 15, 19, 20, 19, 25, 26, 28, 27, 26, 27, 28, 27, 28, 29, 28, 33, 32, 31, 32, 33, 34, 35, 41, 40, 41, 47, 48, 47, 48, 47, 46, 45, 46, 47, 53, 54, 53, 54, 53, 54, 55, 54, 55, 56, 55, 54, 53, 52, 53, 52, 55, 54, 55, 56, 57, 58, 59, 60, 62, 61, 66, 67, 69, 70, 69, 70, 71, 72, 71, 72, 71, 70, 75, 76, 75, 76, 77, 78], [0, 1, 0, 0, 1, 2, 3, 4, 3, 4, 5, 6, 7, 11, 10, 11, 12, 13, 12, 13, 12, 13, 14, 15, 19, 20, 19, 25, 26, 28, 27, 26, 27, 28, 27, 28, 29, 28, 33, 32, 31, 32, 33, 34, 35, 41, 40, 41, 47, 48, 47, 48, 47, 46, 45, 46, 47, 53, 54, 53, 54, 53, 54, 55, 54, 55, 56, 55, 54, 53, 52, 53, 52, 55, 54, 55, 56, 57, 58, 59, 60, 62, 61, 66, 67, 69, 70, 69, 70, 71, 72, 71, 72, 71, 70, 75, 76, 75, 76, 77, 78], [0, 1, 0, 0, 1, 2, 3, 4, 3, 4, 5, 6, 7, 11, 10, 11, 12, 13, 12, 13, 12, 13, 14, 15, 19, 20, 19, 25, 26, 28, 27, 26, 27, 28, 27, 28, 29, 28, 33, 32, 31, 32, 33, 34, 35, 41, 40, 41, 47, 48, 47, 48, 47, 46, 45, 46, 47, 53, 54, 53, 54, 53, 54, 55, 54, 55, 56, 55, 54, 53, 52, 53, 52, 55, 54, 55, 56, 57, 58, 59, 60, 62, 61, 66, 67, 69, 70, 69, 70, 71, 72, 71, 72, 71, 70, 75, 76, 75, 76, 77, 78], [0, 1, 0, 0, 1, 2, 3, 4, 3, 4, 5, 6, 7, 11, 10, 11, 12, 13, 12, 13, 12, 13, 14, 15, 19, 20, 19, 25, 26, 28, 27, 26, 27, 28, 27, 28, 29, 28, 33, 32, 31, 32, 33, 34, 35, 41, 40, 41, 47, 48, 47, 48, 47, 46, 45, 46, 47, 53, 54, 53, 54, 53, 54, 55, 54, 55, 56, 55, 54, 53, 52, 53, 52, 55, 54, 55, 56, 57, 58, 59, 60, 62, 61, 66, 67, 69, 70, 69, 70, 71, 72, 71, 72, 71, 70, 75, 76, 75, 76, 77, 78], [0, 1, 0, 0, 1, 2, 3, 4, 3, 4, 5, 6, 7, 11, 10, 11, 12, 13, 12, 13, 12, 13, 14, 15, 19, 20, 19, 25, 26, 28, 27, 26, 27, 28, 27, 28, 29, 28, 33, 32, 31, 32, 33, 34, 35, 41, 40, 41, 47, 48, 47, 48, 47, 46, 45, 46, 47, 53, 54, 53, 54, 53, 54, 55, 54, 55, 56, 55, 54, 53, 52, 53, 52, 55, 54, 55, 56, 57, 58, 59, 60, 62, 61, 66, 67, 69, 70, 69, 70, 71, 72, 71, 72, 71, 70, 75, 76, 75, 76, 77, 78], [0, 1, 0, 0, 1, 2, 3, 4, 3, 4, 5, 6, 7, 11, 10, 11, 12, 13, 12, 13, 12, 13, 14, 15, 19, 20, 19, 25, 26, 28, 27, 26, 27, 28, 27, 28, 29, 28, 33, 32, 31, 32, 33, 34, 35, 41, 40, 41, 47, 48, 47, 48, 47, 46, 45, 46, 47, 53, 54, 53, 54, 53, 54, 55, 54, 55, 56, 55, 54, 53, 52, 53, 52, 55, 54, 55, 56, 57, 58, 59, 60, 62, 61, 66, 67, 69, 70, 69, 70, 71, 72, 71, 72, 71, 70, 75, 76, 75, 76, 77, 78], [0, 1, 0, 0, 1, 2, 3, 4, 3, 4, 5, 6, 7, 11, 10, 11, 12, 13, 12, 13, 12, 13, 14, 15, 19, 20, 19, 25, 26, 28, 27, 26, 27, 28, 27, 28, 29, 28, 33, 32, 31, 32, 33, 34, 35, 41, 40, 41, 47, 48, 47, 48, 47, 46, 45, 46, 47, 53, 54, 53, 54, 53, 54, 55, 54, 55, 56, 55, 54, 53, 52, 53, 52, 55, 54, 55, 56, 57, 58, 59, 60, 62, 61, 66, 67, 69, 70, 69, 70, 71, 72, 71, 72, 71, 70, 75, 76, 75, 76, 77, 78], [0, 1, 0, 0, 1, 2, 3, 4, 3, 4, 5, 6, 7, 11, 10, 11, 12, 13, 12, 13, 12, 13, 14, 15, 19, 20, 19, 25, 26, 28, 27, 26, 27, 28, 27, 28, 29, 28, 33, 32, 31, 32, 33, 34, 35, 41, 40, 41, 47, 48, 47, 48, 47, 46, 45, 46, 47, 53, 54, 53, 54, 53, 54, 55, 54, 55, 56, 55, 54, 53, 52, 53, 52, 55, 54, 55, 56, 57, 58, 59, 60, 62, 61, 66, 67, 69, 70, 69, 70, 71, 72, 71, 72, 71, 70, 75, 76, 75, 76, 77, 78], [0, 1, 0, 0, 1, 2, 3, 4, 3, 4, 5, 6, 7, 11, 10, 11, 12, 13, 12, 13, 12, 13, 14, 15, 19, 20, 19, 25, 26, 28, 27, 26, 27, 28, 27, 28, 29, 28, 33, 32, 31, 32, 33, 34, 35, 41, 40, 41, 47, 48, 47, 48, 47, 46, 45, 46, 47, 53, 54, 53, 54, 53, 54, 55, 54, 55, 56, 55, 54, 53, 52, 53, 52, 55, 54, 55, 56, 57, 58, 59, 60, 62, 61, 66, 67, 69, 70, 69, 70, 71, 72, 71, 72, 71, 70, 75, 76, 75, 76, 77, 78], [0, 1, 0, 0, 1, 2, 3, 4, 3, 4, 5, 6, 7, 11, 10, 11, 12, 13, 12, 13, 12, 13, 14, 15, 19, 20, 19, 25, 26, 28, 27, 26, 27, 28, 27, 28, 29, 28, 33, 32, 31, 32, 33, 34, 35, 41, 40, 41, 47, 48, 47, 48, 47, 46, 45, 46, 47, 53, 54, 53, 54, 53, 54, 55, 54, 55, 56, 55, 54, 53, 52, 53, 52, 55, 54, 55, 56, 57, 58, 59, 60, 62, 61, 66, 67, 69, 70, 69, 70, 71, 72, 71, 72, 71, 70, 75, 76, 75, 76, 77, 78], [0, 1, 0, 0, 1, 2, 3, 4, 3, 4, 5, 6, 7, 11, 10, 11, 12, 13, 12, 13, 12, 13, 14, 15, 19, 20, 19, 25, 26, 28, 27, 26, 27, 28, 27, 28, 29, 28, 33, 32, 31, 32, 33, 34, 35, 41, 40, 41, 47, 48, 47, 48, 47, 46, 45, 46, 47, 53, 54, 53, 54, 53, 54, 55, 54, 55, 56, 55, 54, 53, 52, 53, 52, 55, 54, 55, 56, 57, 58, 59, 60, 62, 61, 66, 67, 69, 70, 69, 70, 71, 72, 71, 72, 71, 70, 75, 76, 75, 76, 77, 78], [0, 1, 0, 0, 1, 2, 3, 4, 3, 4, 5, 6, 7, 11, 10, 11, 12, 13, 12, 13, 12, 13, 14, 15, 19, 20, 19, 25, 26, 28, 27, 26, 27, 28, 27, 28, 29, 28, 33, 32, 31, 32, 33, 34, 35, 41, 40, 41, 47, 48, 47, 48, 47, 46, 45, 46, 47, 53, 54, 53, 54, 53, 54, 55, 54, 55, 56, 55, 54, 53, 52, 53, 52, 55, 54, 55, 56, 57, 58, 59, 60, 62, 61, 66, 67, 69, 70, 69, 70, 71, 72, 71, 72, 71, 70, 75, 76, 75, 76, 77, 78], [0, 1, 0, 0, 1, 2, 3, 4, 3, 4, 5, 6, 7, 11, 10, 11, 12, 13, 12, 13, 12, 13, 14, 15, 19, 20, 19, 25, 26, 28, 27, 26, 27, 28, 27, 28, 29, 28, 33, 32, 31, 32, 33, 34, 35, 41, 40, 41, 47, 48, 47, 48, 47, 46, 45, 46, 47, 53, 54, 53, 54, 53, 54, 55, 54, 55, 56, 55, 54, 53, 52, 53, 52, 55, 54, 55, 56, 57, 58, 59, 60, 62, 61, 66, 67, 69, 70, 69, 70, 71, 72, 71, 72, 71, 70, 75, 76, 75, 76, 77, 78], [0, 1, 0, 0, 1, 2, 3, 4, 3, 4, 5, 6, 7, 11, 10, 11, 12, 13, 12, 13, 12, 13, 14, 15, 19, 20, 19, 25, 26, 28, 27, 26, 27, 28, 27, 28, 29, 28, 33, 32, 31, 32, 33, 34, 35, 41, 40, 41, 47, 48, 47, 48, 47, 46, 45, 46, 47, 53, 54, 53, 54, 53, 54, 55, 54, 55, 56, 55, 54, 53, 52, 53, 52, 55, 54, 55, 56, 57, 58, 59, 60, 62, 61, 66, 67, 69, 70, 69, 70, 71, 72, 71, 72, 71, 70, 75, 76, 75, 76, 77, 78], [0, 1, 0, 0, 1, 2, 3, 4, 3, 4, 5, 6, 7, 11, 10, 11, 12, 13, 12, 13, 12, 13, 14, 15, 19, 20, 19, 25, 26, 28, 27, 26, 27, 28, 27, 28, 29, 28, 33, 32, 31, 32, 33, 34, 35, 41, 40, 41, 47, 48, 47, 48, 47, 46, 45, 46, 47, 53, 54, 53, 54, 53, 54, 55, 54, 55, 56, 55, 54, 53, 52, 53, 52, 55, 54, 55, 56, 57, 58, 59, 60, 62, 61, 66, 67, 69, 70, 69, 70, 71, 72, 71, 72, 71, 70, 75, 76, 75, 76, 77, 78], [0, 1, 0, 0, 1, 2, 3, 4, 3, 4, 5, 6, 7, 11, 10, 11, 12, 13, 12, 13, 12, 13, 14, 15, 19, 20, 19, 25, 26, 28, 27, 26, 27, 28, 27, 28, 29, 28, 33, 32, 31, 32, 33, 34, 35, 41, 40, 41, 47, 48, 47, 48, 47, 46, 45, 46, 47, 53, 54, 53, 54, 53, 54, 55, 54, 55, 56, 55, 54, 53, 52, 53, 52, 55, 54, 55, 56, 57, 58, 59, 60, 62, 61, 66, 67, 69, 70, 69, 70, 71, 72, 71, 72, 71, 70, 75, 76, 75, 76, 77, 78], [0, 1, 0, 0, 1, 2, 3, 4, 3, 4, 5, 6, 7, 11, 10, 11, 12, 13, 12, 13, 12, 13, 14, 15, 19, 20, 19, 25, 26, 28, 27, 26, 27, 28, 27, 28, 29, 28, 33, 32, 31, 32, 33, 34, 35, 41, 40, 41, 47, 48, 47, 48, 47, 46, 45, 46, 47, 53, 54, 53, 54, 53, 54, 55, 54, 55, 56, 55, 54, 53, 52, 53, 52, 55, 54, 55, 56, 57, 58, 59, 60, 62, 61, 66, 67, 69, 70, 69, 70, 71, 72, 71, 72, 71, 70, 75, 76, 75, 76, 77, 78], [0, 1, 0, 0, 1, 2, 3, 4, 3, 4, 5, 6, 7, 11, 10, 11, 12, 13, 12, 13, 12, 13, 14, 15, 19, 20, 19, 25, 26, 28, 27, 26, 27, 28, 27, 28, 29, 28, 33, 32, 31, 32, 33, 34, 35, 41, 40, 41, 47, 48, 47, 48, 47, 46, 45, 46, 47, 53, 54, 53, 54, 53, 54, 55, 54, 55, 56, 55, 54, 53, 52, 53, 52, 55, 54, 55, 56, 57, 58, 59, 60, 62, 61, 66, 67, 69, 70, 69, 70, 71, 72, 71, 72, 71, 70, 75, 76, 75, 76, 77, 78], [0, 1, 0, 0, 1, 2, 3, 4, 3, 4, 5, 6, 7, 11, 10, 11, 12, 13, 12, 13, 12, 13, 14, 15, 19, 20, 19, 25, 26, 28, 27, 26, 27, 28, 27, 28, 29, 28, 33, 32, 31, 32, 33, 34, 35, 41, 40, 41, 47, 48, 47, 48, 47, 46, 45, 46, 47, 53, 54, 53, 54, 53, 54, 55, 54, 55, 56, 55, 54, 53, 52, 53, 52, 55, 54, 55, 56, 57, 58, 59, 60, 62, 61, 66, 67, 69, 70, 69, 70, 71, 72, 71, 72, 71, 70, 75, 76, 75, 76, 77, 78], [0, 1, 0, 0, 1, 2, 3, 4, 3, 4, 5, 6, 7, 11, 10, 11, 12, 13, 12, 13, 12, 13, 14, 15, 19, 20, 19, 25, 26, 28, 27, 26, 27, 28, 27, 28, 29, 28, 33, 32, 31, 32, 33, 34, 35, 41, 40, 41, 47, 48, 47, 48, 47, 46, 45, 46, 47, 53, 54, 53, 54, 53, 54, 55, 54, 55, 56, 55, 54, 53, 52, 53, 52, 55, 54, 55, 56, 57, 58, 59, 60, 62, 61, 66, 67, 69, 70, 69, 70, 71, 72, 71, 72, 71, 70, 75, 76, 75, 76, 77, 78], [0, 1, 0, 0, 1, 2, 3, 4, 3, 4, 5, 6, 7, 11, 10, 11, 12, 13, 12, 13, 12, 13, 14, 15, 19, 20, 19, 25, 26, 28, 27, 26, 27, 28, 27, 28, 29, 28, 33, 32, 31, 32, 33, 34, 35, 41, 40, 41, 47, 48, 47, 48, 47, 46, 45, 46, 47, 53, 54, 53, 54, 53, 54, 55, 54, 55, 56, 55, 54, 53, 52, 53, 52, 55, 54, 55, 56, 57, 58, 59, 60, 62, 61, 66, 67, 69, 70, 69, 70, 71, 72, 71, 72, 71, 70, 75, 76, 75, 76, 77, 78], [0, 1, 0, 0, 1, 2, 3, 4, 3, 4, 5, 6, 7, 11, 10, 11, 12, 13, 12, 13, 12, 13, 14, 15, 19, 20, 19, 25, 26, 28, 27, 26, 27, 28, 27, 28, 29, 28, 33, 32, 31, 32, 33, 34, 35, 41, 40, 41, 47, 48, 47, 48, 47, 46, 45, 46, 47, 53, 54, 53, 54, 53, 54, 55, 54, 55, 56, 55, 54, 53, 52, 53, 52, 55, 54, 55, 56, 57, 58, 59, 60, 62, 61, 66, 67, 69, 70, 69, 70, 71, 72, 71, 72, 71, 70, 75, 76, 75, 76, 77, 78], [0, 1, 0, 6, 7, 8, 9, 10, 11, 16, 17, 21, 24, 25, 24, 25, 26, 27, 28, 29, 28, 29, 30, 29, 30, 31, 32, 31, 32, 37, 36, 37, 36, 37, 38, 37, 38, 37, 38, 42, 43, 42, 43, 42, 44, 43, 44, 43, 44, 43, 42, 41, 40, 39, 43, 48, 47, 46, 45, 46, 47, 52, 53, 54, 55, 58, 59, 58, 59, 60, 61, 60, 61, 60, 61, 62, 65, 66, 67, 68, 73, 74, 75, 76, 77, 78, 79, 78, 79, 80, 81, 82, 83, 84, 85, 86, 85, 84, 85, 84, 83], [0, 1, 0, 6, 7, 8, 9, 10, 11, 16, 17, 21, 24, 25, 24, 25, 26, 27, 28, 29, 28, 29, 30, 29, 30, 31, 32, 31, 32, 37, 36, 37, 36, 37, 38, 37, 38, 37, 38, 42, 43, 42, 43, 42, 44, 43, 44, 43, 44, 43, 42, 41, 40, 39, 43, 48, 47, 46, 45, 46, 47, 52, 53, 54, 55, 58, 59, 58, 59, 60, 61, 60, 61, 60, 61, 62, 65, 66, 67, 68, 73, 74, 75, 76, 77, 78, 79, 78, 79, 80, 81, 82, 83, 84, 85, 86, 85, 84, 85, 84, 83], [0, 1, 0, 6, 7, 8, 9, 10, 11, 16, 17, 21, 24, 25, 24, 25, 26, 27, 28, 29, 28, 29, 30, 29, 30, 31, 32, 31, 32, 37, 36, 37, 36, 37, 38, 37, 38, 37, 38, 42, 43, 42, 43, 42, 44, 43, 44, 43, 44, 43, 42, 41, 40, 39, 43, 48, 47, 46, 45, 46, 47, 52, 53, 54, 55, 58, 59, 58, 59, 60, 61, 60, 61, 60, 61, 62, 65, 66, 67, 68, 73, 74, 75, 76, 77, 78, 79, 78, 79, 80, 81, 82, 83, 84, 85, 86, 85, 84, 85, 84, 83], [0, 1, 0, 6, 7, 8, 9, 10, 11, 16, 17, 21, 24, 25, 24, 25, 26, 27, 28, 29, 28, 29, 30, 29, 30, 31, 32, 31, 32, 37, 36, 37, 36, 37, 38, 37, 38, 37, 38, 42, 43, 42, 43, 42, 44, 43, 44, 43, 44, 43, 42, 41, 40, 39, 43, 48, 47, 46, 45, 46, 47, 52, 53, 54, 55, 58, 59, 58, 59, 60, 61, 60, 61, 60, 61, 62, 65, 66, 67, 68, 73, 74, 75, 76, 77, 78, 79, 78, 79, 80, 81, 82, 83, 84, 85, 86, 85, 84, 85, 84, 83], [0, 1, 0, 6, 7, 8, 9, 10, 11, 16, 17, 21, 24, 25, 24, 25, 26, 27, 28, 29, 28, 29, 30, 29, 30, 31, 32, 31, 32, 37, 36, 37, 36, 37, 38, 37, 38, 37, 38, 42, 43, 42, 43, 42, 44, 43, 44, 43, 44, 43, 42, 41, 40, 39, 43, 48, 47, 46, 45, 46, 47, 52, 53, 54, 55, 58, 59, 58, 59, 60, 61, 60, 61, 60, 61, 62, 65, 66, 67, 68, 73, 74, 75, 76, 77, 78, 79, 78, 79, 80, 81, 82, 83, 84, 85, 86, 85, 84, 85, 84, 83], [0, 1, 0, 6, 7, 8, 9, 10, 11, 16, 17, 21, 24, 25, 24, 25, 26, 27, 28, 29, 28, 29, 30, 29, 30, 31, 32, 31, 32, 37, 36, 37, 36, 37, 38, 37, 38, 37, 38, 42, 43, 42, 43, 42, 44, 43, 44, 43, 44, 43, 42, 41, 40, 39, 43, 48, 47, 46, 45, 46, 47, 52, 53, 54, 55, 58, 59, 58, 59, 60, 61, 60, 61, 60, 61, 62, 65, 66, 67, 68, 73, 74, 75, 76, 77, 78, 79, 78, 79, 80, 81, 82, 83, 84, 85, 86, 85, 84, 85, 84, 83], [0, 1, 0, 6, 7, 8, 9, 10, 11, 16, 17, 21, 24, 25, 24, 25, 26, 27, 28, 29, 28, 29, 30, 29, 30, 31, 32, 31, 32, 37, 36, 37, 36, 37, 38, 37, 38, 37, 38, 42, 43, 42, 43, 42, 44, 43, 44, 43, 44, 43, 42, 41, 40, 39, 43, 48, 47, 46, 45, 46, 47, 52, 53, 54, 55, 58, 59, 58, 59, 60, 61, 60, 61, 60, 61, 62, 65, 66, 67, 68, 73, 74, 75, 76, 77, 78, 79, 78, 79, 80, 81, 82, 83, 84, 85, 86, 85, 84, 85, 84, 83], [0, 1, 0, 6, 7, 8, 9, 10, 11, 16, 17, 21, 24, 25, 24, 25, 26, 27, 28, 29, 28, 29, 30, 29, 30, 31, 32, 31, 32, 37, 36, 37, 36, 37, 38, 37, 38, 37, 38, 42, 43, 42, 43, 42, 44, 43, 44, 43, 44, 43, 42, 41, 40, 39, 43, 48, 47, 46, 45, 46, 47, 52, 53, 54, 55, 58, 59, 58, 59, 60, 61, 60, 61, 60, 61, 62, 65, 66, 67, 68, 73, 74, 75, 76, 77, 78, 79, 78, 79, 80, 81, 82, 83, 84, 85, 86, 85, 84, 85, 84, 83], [0, 1, 0, 6, 7, 8, 9, 10, 11, 16, 17, 21, 24, 25, 24, 25, 26, 27, 28, 29, 28, 29, 30, 29, 30, 31, 32, 31, 32, 37, 36, 37, 36, 37, 38, 37, 38, 37, 38, 42, 43, 42, 43, 42, 44, 43, 44, 43, 44, 43, 42, 41, 40, 39, 43, 48, 47, 46, 45, 46, 47, 52, 53, 54, 55, 58, 59, 58, 59, 60, 61, 60, 61, 60, 61, 62, 65, 66, 67, 68, 73, 74, 75, 76, 77, 78, 79, 78, 79, 80, 81, 82, 83, 84, 85, 86, 85, 84, 85, 84, 83], [0, 1, 0, 6, 7, 8, 9, 10, 11, 16, 17, 21, 24, 25, 24, 25, 26, 27, 28, 29, 28, 29, 30, 29, 30, 31, 32, 31, 32, 37, 36, 37, 36, 37, 38, 37, 38, 37, 38, 42, 43, 42, 43, 42, 44, 43, 44, 43, 44, 43, 42, 41, 40, 39, 43, 48, 47, 46, 45, 46, 47, 52, 53, 54, 55, 58, 59, 58, 59, 60, 61, 60, 61, 60, 61, 62, 65, 66, 67, 68, 73, 74, 75, 76, 77, 78, 79, 78, 79, 80, 81, 82, 83, 84, 85, 86, 85, 84, 85, 84, 83], [0, 1, 0, 6, 7, 8, 9, 10, 11, 16, 17, 21, 24, 25, 24, 25, 26, 27, 28, 29, 28, 29, 30, 29, 30, 31, 32, 31, 32, 37, 36, 37, 36, 37, 38, 37, 38, 37, 38, 42, 43, 42, 43, 42, 44, 43, 44, 43, 44, 43, 42, 41, 40, 39, 43, 48, 47, 46, 45, 46, 47, 52, 53, 54, 55, 58, 59, 58, 59, 60, 61, 60, 61, 60, 61, 62, 65, 66, 67, 68, 73, 74, 75, 76, 77, 78, 79, 78, 79, 80, 81, 82, 83, 84, 85, 86, 85, 84, 85, 84, 83], [0, 1, 0, 6, 7, 8, 9, 10, 11, 16, 17, 21, 24, 25, 24, 25, 26, 27, 28, 29, 28, 29, 30, 29, 30, 31, 32, 31, 32, 37, 36, 37, 36, 37, 38, 37, 38, 37, 38, 42, 43, 42, 43, 42, 44, 43, 44, 43, 44, 43, 42, 41, 40, 39, 43, 48, 47, 46, 45, 46, 47, 52, 53, 54, 55, 58, 59, 58, 59, 60, 61, 60, 61, 60, 61, 62, 65, 66, 67, 68, 73, 74, 75, 76, 77, 78, 79, 78, 79, 80, 81, 82, 83, 84, 85, 86, 85, 84, 85, 84, 83], [0, 1, 0, 6, 7, 8, 9, 10, 11, 16, 17, 21, 24, 25, 24, 25, 26, 27, 28, 29, 28, 29, 30, 29, 30, 31, 32, 31, 32, 37, 36, 37, 36, 37, 38, 37, 38, 37, 38, 42, 43, 42, 43, 42, 44, 43, 44, 43, 44, 43, 42, 41, 40, 39, 43, 48, 47, 46, 45, 46, 47, 52, 53, 54, 55, 58, 59, 58, 59, 60, 61, 60, 61, 60, 61, 62, 65, 66, 67, 68, 73, 74, 75, 76, 77, 78, 79, 78, 79, 80, 81, 82, 83, 84, 85, 86, 85, 84, 85, 84, 83], [0, 1, 0, 6, 7, 8, 9, 10, 11, 16, 17, 21, 24, 25, 24, 25, 26, 27, 28, 29, 28, 29, 30, 29, 30, 31, 32, 31, 32, 37, 36, 37, 36, 37, 38, 37, 38, 37, 38, 42, 43, 42, 43, 42, 44, 43, 44, 43, 44, 43, 42, 41, 40, 39, 43, 48, 47, 46, 45, 46, 47, 52, 53, 54, 55, 58, 59, 58, 59, 60, 61, 60, 61, 60, 61, 62, 65, 66, 67, 68, 73, 74, 75, 76, 77, 78, 79, 78, 79, 80, 81, 82, 83, 84, 85, 86, 85, 84, 85, 84, 83], [0, 1, 0, 6, 7, 8, 9, 10, 11, 16, 17, 21, 24, 25, 24, 25, 26, 27, 28, 29, 28, 29, 30, 29, 30, 31, 32, 31, 32, 37, 36, 37, 36, 37, 38, 37, 38, 37, 38, 42, 43, 42, 43, 42, 44, 43, 44, 43, 44, 43, 42, 41, 40, 39, 43, 48, 47, 46, 45, 46, 47, 52, 53, 54, 55, 58, 59, 58, 59, 60, 61, 60, 61, 60, 61, 62, 65, 66, 67, 68, 73, 74, 75, 76, 77, 78, 79, 78, 79, 80, 81, 82, 83, 84, 85, 86, 85, 84, 85, 84, 83], [0, 1, 0, 6, 7, 8, 9, 10, 11, 16, 17, 21, 24, 25, 24, 25, 26, 27, 28, 29, 28, 29, 30, 29, 30, 31, 32, 31, 32, 37, 36, 37, 36, 37, 38, 37, 38, 37, 38, 42, 43, 42, 43, 42, 44, 43, 44, 43, 44, 43, 42, 41, 40, 39, 43, 48, 47, 46, 45, 46, 47, 52, 53, 54, 55, 58, 59, 58, 59, 60, 61, 60, 61, 60, 61, 62, 65, 66, 67, 68, 73, 74, 75, 76, 77, 78, 79, 78, 79, 80, 81, 82, 83, 84, 85, 86, 85, 84, 85, 84, 83], [0, 1, 0, 6, 7, 8, 9, 10, 11, 16, 17, 21, 24, 25, 24, 25, 26, 27, 28, 29, 28, 29, 30, 29, 30, 31, 32, 31, 32, 37, 36, 37, 36, 37, 38, 37, 38, 37, 38, 42, 43, 42, 43, 42, 44, 43, 44, 43, 44, 43, 42, 41, 40, 39, 43, 48, 47, 46, 45, 46, 47, 52, 53, 54, 55, 58, 59, 58, 59, 60, 61, 60, 61, 60, 61, 62, 65, 66, 67, 68, 73, 74, 75, 76, 77, 78, 79, 78, 79, 80, 81, 82, 83, 84, 85, 86, 85, 84, 85, 84, 83], [0, 1, 0, 6, 7, 8, 9, 10, 11, 16, 17, 21, 24, 25, 24, 25, 26, 27, 28, 29, 28, 29, 30, 29, 30, 31, 32, 31, 32, 37, 36, 37, 36, 37, 38, 37, 38, 37, 38, 42, 43, 42, 43, 42, 44, 43, 44, 43, 44, 43, 42, 41, 40, 39, 43, 48, 47, 46, 45, 46, 47, 52, 53, 54, 55, 58, 59, 58, 59, 60, 61, 60, 61, 60, 61, 62, 65, 66, 67, 68, 73, 74, 75, 76, 77, 78, 79, 78, 79, 80, 81, 82, 83, 84, 85, 86, 85, 84, 85, 84, 83], [0, 1, 0, 6, 7, 8, 9, 10, 11, 16, 17, 21, 24, 25, 24, 25, 26, 27, 28, 29, 28, 29, 30, 29, 30, 31, 32, 31, 32, 37, 36, 37, 36, 37, 38, 37, 38, 37, 38, 42, 43, 42, 43, 42, 44, 43, 44, 43, 44, 43, 42, 41, 40, 39, 43, 48, 47, 46, 45, 46, 47, 52, 53, 54, 55, 58, 59, 58, 59, 60, 61, 60, 61, 60, 61, 62, 65, 66, 67, 68, 73, 74, 75, 76, 77, 78, 79, 78, 79, 80, 81, 82, 83, 84, 85, 86, 85, 84, 85, 84, 83], [0, 1, 0, 6, 7, 8, 9, 10, 11, 16, 17, 21, 24, 25, 24, 25, 26, 27, 28, 29, 28, 29, 30, 29, 30, 31, 32, 31, 32, 37, 36, 37, 36, 37, 38, 37, 38, 37, 38, 42, 43, 42, 43, 42, 44, 43, 44, 43, 44, 43, 42, 41, 40, 39, 43, 48, 47, 46, 45, 46, 47, 52, 53, 54, 55, 58, 59, 58, 59, 60, 61, 60, 61, 60, 61, 62, 65, 66, 67, 68, 73, 74, 75, 76, 77, 78, 79, 78, 79, 80, 81, 82, 83, 84, 85, 86, 85, 84, 85, 84, 83], [0, 1, 0, 6, 7, 8, 9, 10, 11, 16, 17, 21, 24, 25, 24, 25, 26, 27, 28, 29, 28, 29, 30, 29, 30, 31, 32, 31, 32, 37, 36, 37, 36, 37, 38, 37, 38, 37, 38, 42, 43, 42, 43, 42, 44, 43, 44, 43, 44, 43, 42, 41, 40, 39, 43, 48, 47, 46, 45, 46, 47, 52, 53, 54, 55, 58, 59, 58, 59, 60, 61, 60, 61, 60, 61, 62, 65, 66, 67, 68, 73, 74, 75, 76, 77, 78, 79, 78, 79, 80, 81, 82, 83, 84, 85, 86, 85, 84, 85, 84, 83], [0, 1, 0, 6, 7, 8, 9, 10, 11, 16, 17, 21, 24, 25, 24, 25, 26, 27, 28, 29, 28, 29, 30, 29, 30, 31, 32, 31, 32, 37, 36, 37, 36, 37, 38, 37, 38, 37, 38, 42, 43, 42, 43, 42, 44, 43, 44, 43, 44, 43, 42, 41, 40, 39, 43, 48, 47, 46, 45, 46, 47, 52, 53, 54, 55, 58, 59, 58, 59, 60, 61, 60, 61, 60, 61, 62, 65, 66, 67, 68, 73, 74, 75, 76, 77, 78, 79, 78, 79, 80, 81, 82, 83, 84, 85, 86, 85, 84, 85, 84, 83], [0, 1, 0, 6, 7, 8, 9, 10, 11, 16, 17, 21, 24, 25, 24, 25, 26, 27, 28, 29, 28, 29, 30, 29, 30, 31, 32, 31, 32, 37, 36, 37, 36, 37, 38, 37, 38, 37, 38, 42, 43, 42, 43, 42, 44, 43, 44, 43, 44, 43, 42, 41, 40, 39, 43, 48, 47, 46, 45, 46, 47, 52, 53, 54, 55, 58, 59, 58, 59, 60, 61, 60, 61, 60, 61, 62, 65, 66, 67, 68, 73, 74, 75, 76, 77, 78, 79, 78, 79, 80, 81, 82, 83, 84, 85, 86, 85, 84, 85, 84, 83], [0, 1, 0, 6, 7, 8, 9, 10, 11, 16, 17, 21, 24, 25, 24, 25, 26, 27, 28, 29, 28, 29, 30, 29, 30, 31, 32, 31, 32, 37, 36, 37, 36, 37, 38, 37, 38, 37, 38, 42, 43, 42, 43, 42, 44, 43, 44, 43, 44, 43, 42, 41, 40, 39, 43, 48, 47, 46, 45, 46, 47, 52, 53, 54, 55, 58, 59, 58, 59, 60, 61, 60, 61, 60, 61, 62, 65, 66, 67, 68, 73, 74, 75, 76, 77, 78, 79, 78, 79, 80, 81, 82, 83, 84, 85, 86, 85, 84, 85, 84, 83], [0, 1, 0, 6, 7, 8, 9, 10, 11, 16, 17, 21, 24, 25, 24, 25, 26, 27, 28, 29, 28, 29, 30, 29, 30, 31, 32, 31, 32, 37, 36, 37, 36, 37, 38, 37, 38, 37, 38, 42, 43, 42, 43, 42, 44, 43, 44, 43, 44, 43, 42, 41, 40, 39, 43, 48, 47, 46, 45, 46, 47, 52, 53, 54, 55, 58, 59, 58, 59, 60, 61, 60, 61, 60, 61, 62, 65, 66, 67, 68, 73, 74, 75, 76, 77, 78, 79, 78, 79, 80, 81, 82, 83, 84, 85, 86, 85, 84, 85, 84, 83], [0, 1, 0, 6, 7, 8, 9, 10, 11, 16, 17, 21, 24, 25, 24, 25, 26, 27, 28, 29, 28, 29, 30, 29, 30, 31, 32, 31, 32, 37, 36, 37, 36, 37, 38, 37, 38, 37, 38, 42, 43, 42, 43, 42, 44, 43, 44, 43, 44, 43, 42, 41, 40, 39, 43, 48, 47, 46, 45, 46, 47, 52, 53, 54, 55, 58, 59, 58, 59, 60, 61, 60, 61, 60, 61, 62, 65, 66, 67, 68, 73, 74, 75, 76, 77, 78, 79, 78, 79, 80, 81, 82, 83, 84, 85, 86, 85, 84, 85, 84, 83], [0, 1, 0, 6, 7, 8, 9, 10, 11, 16, 17, 21, 24, 25, 24, 25, 26, 27, 28, 29, 28, 29, 30, 29, 30, 31, 32, 31, 32, 37, 36, 37, 36, 37, 38, 37, 38, 37, 38, 42, 43, 42, 43, 42, 44, 43, 44, 43, 44, 43, 42, 41, 40, 39, 43, 48, 47, 46, 45, 46, 47, 52, 53, 54, 55, 58, 59, 58, 59, 60, 61, 60, 61, 60, 61, 62, 65, 66, 67, 68, 73, 74, 75, 76, 77, 78, 79, 78, 79, 80, 81, 82, 83, 84, 85, 86, 85, 84, 85, 84, 83], [0, 1, 0, 6, 7, 8, 9, 10, 11, 16, 17, 21, 24, 25, 24, 25, 26, 27, 28, 29, 28, 29, 30, 29, 30, 31, 32, 31, 32, 37, 36, 37, 36, 37, 38, 37, 38, 37, 38, 42, 43, 42, 43, 42, 44, 43, 44, 43, 44, 43, 42, 41, 40, 39, 43, 48, 47, 46, 45, 46, 47, 52, 53, 54, 55, 58, 59, 58, 59, 60, 61, 60, 61, 60, 61, 62, 65, 66, 67, 68, 73, 74, 75, 76, 77, 78, 79, 78, 79, 80, 81, 82, 83, 84, 85, 86, 85, 84, 85, 84, 83], [0, 1, 0, 6, 7, 8, 9, 10, 11, 16, 17, 21, 24, 25, 24, 25, 26, 27, 28, 29, 28, 29, 30, 29, 30, 31, 32, 31, 32, 37, 36, 37, 36, 37, 38, 37, 38, 37, 38, 42, 43, 42, 43, 42, 44, 43, 44, 43, 44, 43, 42, 41, 40, 39, 43, 48, 47, 46, 45, 46, 47, 52, 53, 54, 55, 58, 59, 58, 59, 60, 61, 60, 61, 60, 61, 62, 65, 66, 67, 68, 73, 74, 75, 76, 77, 78, 79, 78, 79, 80, 81, 82, 83, 84, 85, 86, 85, 84, 85, 84, 83], [0, 1, 0, 6, 7, 8, 9, 10, 11, 16, 17, 21, 24, 25, 24, 25, 26, 27, 28, 29, 28, 29, 30, 29, 30, 31, 32, 31, 32, 37, 36, 37, 36, 37, 38, 37, 38, 37, 38, 42, 43, 42, 43, 42, 44, 43, 44, 43, 44, 43, 42, 41, 40, 39, 43, 48, 47, 46, 45, 46, 47, 52, 53, 54, 55, 58, 59, 58, 59, 60, 61, 60, 61, 60, 61, 62, 65, 66, 67, 68, 73, 74, 75, 76, 77, 78, 79, 78, 79, 80, 81, 82, 83, 84, 85, 86, 85, 84, 85, 84, 83], [0, 1, 0, 6, 7, 8, 9, 10, 11, 16, 17, 21, 24, 25, 24, 25, 26, 27, 28, 29, 28, 29, 30, 29, 30, 31, 32, 31, 32, 37, 36, 37, 36, 37, 38, 37, 38, 37, 38, 42, 43, 42, 43, 42, 44, 43, 44, 43, 44, 43, 42, 41, 40, 39, 43, 48, 47, 46, 45, 46, 47, 52, 53, 54, 55, 58, 59, 58, 59, 60, 61, 60, 61, 60, 61, 62, 65, 66, 67, 68, 73, 74, 75, 76, 77, 78, 79, 78, 79, 80, 81, 82, 83, 84, 85, 86, 85, 84, 85, 84, 83], [0, 1, 0, 6, 7, 8, 9, 10, 11, 16, 17, 21, 24, 25, 24, 25, 26, 27, 28, 29, 28, 29, 30, 29, 30, 31, 32, 31, 32, 37, 36, 37, 36, 37, 38, 37, 38, 37, 38, 42, 43, 42, 43, 42, 44, 43, 44, 43, 44, 43, 42, 41, 40, 39, 43, 48, 47, 46, 45, 46, 47, 52, 53, 54, 55, 58, 59, 58, 59, 60, 61, 60, 61, 60, 61, 62, 65, 66, 67, 68, 73, 74, 75, 76, 77, 78, 79, 78, 79, 80, 81, 82, 83, 84, 85, 86, 85, 84, 85, 84, 83], [0, 1, 0, 6, 7, 8, 9, 10, 11, 16, 17, 21, 24, 25, 24, 25, 26, 27, 28, 29, 28, 29, 30, 29, 30, 31, 32, 31, 32, 37, 36, 37, 36, 37, 38, 37, 38, 37, 38, 42, 43, 42, 43, 42, 44, 43, 44, 43, 44, 43, 42, 41, 40, 39, 43, 48, 47, 46, 45, 46, 47, 52, 53, 54, 55, 58, 59, 58, 59, 60, 61, 60, 61, 60, 61, 62, 65, 66, 67, 68, 73, 74, 75, 76, 77, 78, 79, 78, 79, 80, 81, 82, 83, 84, 85, 86, 85, 84, 85, 84, 83], [0, 1, 0, 6, 7, 8, 9, 10, 11, 16, 17, 21, 24, 25, 24, 25, 26, 27, 28, 29, 28, 29, 30, 29, 30, 31, 32, 31, 32, 37, 36, 37, 36, 37, 38, 37, 38, 37, 38, 42, 43, 42, 43, 42, 44, 43, 44, 43, 44, 43, 42, 41, 40, 39, 43, 48, 47, 46, 45, 46, 47, 52, 53, 54, 55, 58, 59, 58, 59, 60, 61, 60, 61, 60, 61, 62, 65, 66, 67, 68, 73, 74, 75, 76, 77, 78, 79, 78, 79, 80, 81, 82, 83, 84, 85, 86, 85, 84, 85, 84, 83], [0, 1, 0, 6, 7, 8, 9, 10, 11, 16, 17, 21, 24, 25, 24, 25, 26, 27, 28, 29, 28, 29, 30, 29, 30, 31, 32, 31, 32, 37, 36, 37, 36, 37, 38, 37, 38, 37, 38, 42, 43, 42, 43, 42, 44, 43, 44, 43, 44, 43, 42, 41, 40, 39, 43, 48, 47, 46, 45, 46, 47, 52, 53, 54, 55, 58, 59, 58, 59, 60, 61, 60, 61, 60, 61, 62, 65, 66, 67, 68, 73, 74, 75, 76, 77, 78, 79, 78, 79, 80, 81, 82, 83, 84, 85, 86, 85, 84, 85, 84, 83], [0, 1, 0, 6, 7, 8, 9, 10, 11, 16, 17, 21, 24, 25, 24, 25, 26, 27, 28, 29, 28, 29, 30, 29, 30, 31, 32, 31, 32, 37, 36, 37, 36, 37, 38, 37, 38, 37, 38, 42, 43, 42, 43, 42, 44, 43, 44, 43, 44, 43, 42, 41, 40, 39, 43, 48, 47, 46, 45, 46, 47, 52, 53, 54, 55, 58, 59, 58, 59, 60, 61, 60, 61, 60, 61, 62, 65, 66, 67, 68, 73, 74, 75, 76, 77, 78, 79, 78, 79, 80, 81, 82, 83, 84, 85, 86, 85, 84, 85, 84, 83], [0, 1, 0, 6, 7, 8, 9, 10, 11, 16, 17, 21, 24, 25, 24, 25, 26, 27, 28, 29, 28, 29, 30, 29, 30, 31, 32, 31, 32, 37, 36, 37, 36, 37, 38, 37, 38, 37, 38, 42, 43, 42, 43, 42, 44, 43, 44, 43, 44, 43, 42, 41, 40, 39, 43, 48, 47, 46, 45, 46, 47, 52, 53, 54, 55, 58, 59, 58, 59, 60, 61, 60, 61, 60, 61, 62, 65, 66, 67, 68, 73, 74, 75, 76, 77, 78, 79, 78, 79, 80, 81, 82, 83, 84, 85, 86, 85, 84, 85, 84, 83], [0, 1, 0, 6, 7, 8, 9, 10, 11, 16, 17, 21, 24, 25, 24, 25, 26, 27, 28, 29, 28, 29, 30, 29, 30, 31, 32, 31, 32, 37, 36, 37, 36, 37, 38, 37, 38, 37, 38, 42, 43, 42, 43, 42, 44, 43, 44, 43, 44, 43, 42, 41, 40, 39, 43, 48, 47, 46, 45, 46, 47, 52, 53, 54, 55, 58, 59, 58, 59, 60, 61, 60, 61, 60, 61, 62, 65, 66, 67, 68, 73, 74, 75, 76, 77, 78, 79, 78, 79, 80, 81, 82, 83, 84, 85, 86, 85, 84, 85, 84, 83], [0, 1, 0, 6, 7, 8, 9, 10, 11, 16, 17, 21, 24, 25, 24, 25, 26, 27, 28, 29, 28, 29, 30, 29, 30, 31, 32, 31, 32, 37, 36, 37, 36, 37, 38, 37, 38, 37, 38, 42, 43, 42, 43, 42, 44, 43, 44, 43, 44, 43, 42, 41, 40, 39, 43, 48, 47, 46, 45, 46, 47, 52, 53, 54, 55, 58, 59, 58, 59, 60, 61, 60, 61, 60, 61, 62, 65, 66, 67, 68, 73, 74, 75, 76, 77, 78, 79, 78, 79, 80, 81, 82, 83, 84, 85, 86, 85, 84, 85, 84, 83], [0, 1, 0, 6, 7, 8, 9, 10, 11, 16, 17, 21, 24, 25, 24, 25, 26, 27, 28, 29, 28, 29, 30, 29, 30, 31, 32, 31, 32, 37, 36, 37, 36, 37, 38, 37, 38, 37, 38, 42, 43, 42, 43, 42, 44, 43, 44, 43, 44, 43, 42, 41, 40, 39, 43, 48, 47, 46, 45, 46, 47, 52, 53, 54, 55, 58, 59, 58, 59, 60, 61, 60, 61, 60, 61, 62, 65, 66, 67, 68, 73, 74, 75, 76, 77, 78, 79, 78, 79, 80, 81, 82, 83, 84, 85, 86, 85, 84, 85, 84, 83], [0, 1, 0, 6, 7, 8, 9, 10, 11, 16, 17, 21, 24, 25, 24, 25, 26, 27, 28, 29, 28, 29, 30, 29, 30, 31, 32, 31, 32, 37, 36, 37, 36, 37, 38, 37, 38, 37, 38, 42, 43, 42, 43, 42, 44, 43, 44, 43, 44, 43, 42, 41, 40, 39, 43, 48, 47, 46, 45, 46, 47, 52, 53, 54, 55, 58, 59, 58, 59, 60, 61, 60, 61, 60, 61, 62, 65, 66, 67, 68, 73, 74, 75, 76, 77, 78, 79, 78, 79, 80, 81, 82, 83, 84, 85, 86, 85, 84, 85, 84, 83], [0, 1, 0, 6, 7, 8, 9, 10, 11, 16, 17, 21, 24, 25, 24, 25, 26, 27, 28, 29, 28, 29, 30, 29, 30, 31, 32, 31, 32, 37, 36, 37, 36, 37, 38, 37, 38, 37, 38, 42, 43, 42, 43, 42, 44, 43, 44, 43, 44, 43, 42, 41, 40, 39, 43, 48, 47, 46, 45, 46, 47, 52, 53, 54, 55, 58, 59, 58, 59, 60, 61, 60, 61, 60, 61, 62, 65, 66, 67, 68, 73, 74, 75, 76, 77, 78, 79, 78, 79, 80, 81, 82, 83, 84, 85, 86, 85, 84, 85, 84, 83], [0, 1, 0, 6, 7, 8, 9, 10, 11, 16, 17, 21, 24, 25, 24, 25, 26, 27, 28, 29, 28, 29, 30, 29, 30, 31, 32, 31, 32, 37, 36, 37, 36, 37, 38, 37, 38, 37, 38, 42, 43, 42, 43, 42, 44, 43, 44, 43, 44, 43, 42, 41, 40, 39, 43, 48, 47, 46, 45, 46, 47, 52, 53, 54, 55, 58, 59, 58, 59, 60, 61, 60, 61, 60, 61, 62, 65, 66, 67, 68, 73, 74, 75, 76, 77, 78, 79, 78, 79, 80, 81, 82, 83, 84, 85, 86, 85, 84, 85, 84, 83], [0, 1, 0, 6, 7, 8, 9, 10, 11, 16, 17, 21, 24, 25, 24, 25, 26, 27, 28, 29, 28, 29, 30, 29, 30, 31, 32, 31, 32, 37, 36, 37, 36, 37, 38, 37, 38, 37, 38, 42, 43, 42, 43, 42, 44, 43, 44, 43, 44, 43, 42, 41, 40, 39, 43, 48, 47, 46, 45, 46, 47, 52, 53, 54, 55, 58, 59, 58, 59, 60, 61, 60, 61, 60, 61, 62, 65, 66, 67, 68, 73, 74, 75, 76, 77, 78, 79, 78, 79, 80, 81, 82, 83, 84, 85, 86, 85, 84, 85, 84, 83], [0, 1, 0, 6, 7, 8, 9, 10, 11, 16, 17, 21, 24, 25, 24, 25, 26, 27, 28, 29, 28, 29, 30, 29, 30, 31, 32, 31, 32, 37, 36, 37, 36, 37, 38, 37, 38, 37, 38, 42, 43, 42, 43, 42, 44, 43, 44, 43, 44, 43, 42, 41, 40, 39, 43, 48, 47, 46, 45, 46, 47, 52, 53, 54, 55, 58, 59, 58, 59, 60, 61, 60, 61, 60, 61, 62, 65, 66, 67, 68, 73, 74, 75, 76, 77, 78, 79, 78, 79, 80, 81, 82, 83, 84, 85, 86, 85, 84, 85, 84, 83], [0, 1, 0, 6, 7, 8, 9, 10, 11, 16, 17, 21, 24, 25, 24, 25, 26, 27, 28, 29, 28, 29, 30, 29, 30, 31, 32, 31, 32, 37, 36, 37, 36, 37, 38, 37, 38, 37, 38, 42, 43, 42, 43, 42, 44, 43, 44, 43, 44, 43, 42, 41, 40, 39, 43, 48, 47, 46, 45, 46, 47, 52, 53, 54, 55, 58, 59, 58, 59, 60, 61, 60, 61, 60, 61, 62, 65, 66, 67, 68, 73, 74, 75, 76, 77, 78, 79, 78, 79, 80, 81, 82, 83, 84, 85, 86, 85, 84, 85, 84, 83], [0, 1, 0, 6, 7, 8, 9, 10, 11, 16, 17, 21, 24, 25, 24, 25, 26, 27, 28, 29, 28, 29, 30, 29, 30, 31, 32, 31, 32, 37, 36, 37, 36, 37, 38, 37, 38, 37, 38, 42, 43, 42, 43, 42, 44, 43, 44, 43, 44, 43, 42, 41, 40, 39, 43, 48, 47, 46, 45, 46, 47, 52, 53, 54, 55, 58, 59, 58, 59, 60, 61, 60, 61, 60, 61, 62, 65, 66, 67, 68, 73, 74, 75, 76, 77, 78, 79, 78, 79, 80, 81, 82, 83, 84, 85, 86, 85, 84, 85, 84, 83], [0, 1, 0, 6, 7, 8, 9, 10, 11, 16, 17, 21, 24, 25, 24, 25, 26, 27, 28, 29, 28, 29, 30, 29, 30, 31, 32, 31, 32, 37, 36, 37, 36, 37, 38, 37, 38, 37, 38, 42, 43, 42, 43, 42, 44, 43, 44, 43, 44, 43, 42, 41, 40, 39, 43, 48, 47, 46, 45, 46, 47, 52, 53, 54, 55, 58, 59, 58, 59, 60, 61, 60, 61, 60, 61, 62, 65, 66, 67, 68, 73, 74, 75, 76, 77, 78, 79, 78, 79, 80, 81, 82, 83, 84, 85, 86, 85, 84, 85, 84, 83], [0, 1, 0, 6, 7, 8, 9, 10, 11, 16, 17, 21, 24, 25, 24, 25, 26, 27, 28, 29, 28, 29, 30, 29, 30, 31, 32, 31, 32, 37, 36, 37, 36, 37, 38, 37, 38, 37, 38, 42, 43, 42, 43, 42, 44, 43, 44, 43, 44, 43, 42, 41, 40, 39, 43, 48, 47, 46, 45, 46, 47, 52, 53, 54, 55, 58, 59, 58, 59, 60, 61, 60, 61, 60, 61, 62, 65, 66, 67, 68, 73, 74, 75, 76, 77, 78, 79, 78, 79, 80, 81, 82, 83, 84, 85, 86, 85, 84, 85, 84, 83], [0, 1, 0, 6, 7, 8, 9, 10, 11, 16, 17, 21, 24, 25, 24, 25, 26, 27, 28, 29, 28, 29, 30, 29, 30, 31, 32, 31, 32, 37, 36, 37, 36, 37, 38, 37, 38, 37, 38, 42, 43, 42, 43, 42, 44, 43, 44, 43, 44, 43, 42, 41, 40, 39, 43, 48, 47, 46, 45, 46, 47, 52, 53, 54, 55, 58, 59, 58, 59, 60, 61, 60, 61, 60, 61, 62, 65, 66, 67, 68, 73, 74, 75, 76, 77, 78, 79, 78, 79, 80, 81, 82, 83, 84, 85, 86, 85, 84, 85, 84, 83], [0, 1, 0, 6, 7, 8, 9, 10, 11, 16, 17, 21, 24, 25, 24, 25, 26, 27, 28, 29, 28, 29, 30, 29, 30, 31, 32, 31, 32, 37, 36, 37, 36, 37, 38, 37, 38, 37, 38, 42, 43, 42, 43, 42, 44, 43, 44, 43, 44, 43, 42, 41, 40, 39, 43, 48, 47, 46, 45, 46, 47, 52, 53, 54, 55, 58, 59, 58, 59, 60, 61, 60, 61, 60, 61, 62, 65, 66, 67, 68, 73, 74, 75, 76, 77, 78, 79, 78, 79, 80, 81, 82, 83, 84, 85, 86, 85, 84, 85, 84, 83], [0, 1, 0, 6, 7, 8, 9, 10, 11, 16, 17, 21, 24, 25, 24, 25, 26, 27, 28, 29, 28, 29, 30, 29, 30, 31, 32, 31, 32, 37, 36, 37, 36, 37, 38, 37, 38, 37, 38, 42, 43, 42, 43, 42, 44, 43, 44, 43, 44, 43, 42, 41, 40, 39, 43, 48, 47, 46, 45, 46, 47, 52, 53, 54, 55, 58, 59, 58, 59, 60, 61, 60, 61, 60, 61, 62, 65, 66, 67, 68, 73, 74, 75, 76, 77, 78, 79, 78, 79, 80, 81, 82, 83, 84, 85, 86, 85, 84, 85, 84, 83], [0, 1, 0, 6, 7, 8, 9, 10, 11, 16, 17, 21, 24, 25, 24, 25, 26, 27, 28, 29, 28, 29, 30, 29, 30, 31, 32, 31, 32, 37, 36, 37, 36, 37, 38, 37, 38, 37, 38, 42, 43, 42, 43, 42, 44, 43, 44, 43, 44, 43, 42, 41, 40, 39, 43, 48, 47, 46, 45, 46, 47, 52, 53, 54, 55, 58, 59, 58, 59, 60, 61, 60, 61, 60, 61, 62, 65, 66, 67, 68, 73, 74, 75, 76, 77, 78, 79, 78, 79, 80, 81, 82, 83, 84, 85, 86, 85, 84, 85, 84, 83], [0, 1, 0, 6, 7, 8, 9, 10, 11, 16, 17, 21, 24, 25, 24, 25, 26, 27, 28, 29, 28, 29, 30, 29, 30, 31, 32, 31, 32, 37, 36, 37, 36, 37, 38, 37, 38, 37, 38, 42, 43, 42, 43, 42, 44, 43, 44, 43, 44, 43, 42, 41, 40, 39, 43, 48, 47, 46, 45, 46, 47, 52, 53, 54, 55, 58, 59, 58, 59, 60, 61, 60, 61, 60, 61, 62, 65, 66, 67, 68, 73, 74, 75, 76, 77, 78, 79, 78, 79, 80, 81, 82, 83, 84, 85, 86, 85, 84, 85, 84, 83], [0, 1, 0, 6, 7, 8, 9, 10, 11, 16, 17, 21, 24, 25, 24, 25, 26, 27, 28, 29, 28, 29, 30, 29, 30, 31, 32, 31, 32, 37, 36, 37, 36, 37, 38, 37, 38, 37, 38, 42, 43, 42, 43, 42, 44, 43, 44, 43, 44, 43, 42, 41, 40, 39, 43, 48, 47, 46, 45, 46, 47, 52, 53, 54, 55, 58, 59, 58, 59, 60, 61, 60, 61, 60, 61, 62, 65, 66, 67, 68, 73, 74, 75, 76, 77, 78, 79, 78, 79, 80, 81, 82, 83, 84, 85, 86, 85, 84, 85, 84, 83], [0, 1, 0, 6, 7, 8, 9, 10, 11, 16, 17, 21, 24, 25, 24, 25, 26, 27, 28, 29, 28, 29, 30, 29, 30, 31, 32, 31, 32, 37, 36, 37, 36, 37, 38, 37, 38, 37, 38, 42, 43, 42, 43, 42, 44, 43, 44, 43, 44, 43, 42, 41, 40, 39, 43, 48, 47, 46, 45, 46, 47, 52, 53, 54, 55, 58, 59, 58, 59, 60, 61, 60, 61, 60, 61, 62, 65, 66, 67, 68, 73, 74, 75, 76, 77, 78, 79, 78, 79, 80, 81, 82, 83, 84, 85, 86, 85, 84, 85, 84, 83], [0, 1, 0, 6, 7, 8, 9, 10, 11, 16, 17, 21, 24, 25, 24, 25, 26, 27, 28, 29, 28, 29, 30, 29, 30, 31, 32, 31, 32, 37, 36, 37, 36, 37, 38, 37, 38, 37, 38, 42, 43, 42, 43, 42, 44, 43, 44, 43, 44, 43, 42, 41, 40, 39, 43, 48, 47, 46, 45, 46, 47, 52, 53, 54, 55, 58, 59, 58, 59, 60, 61, 60, 61, 60, 61, 62, 65, 66, 67, 68, 73, 74, 75, 76, 77, 78, 79, 78, 79, 80, 81, 82, 83, 84, 85, 86, 85, 84, 85, 84, 83], [0, 1, 0, 6, 7, 8, 9, 10, 11, 16, 17, 21, 24, 25, 24, 25, 26, 27, 28, 29, 28, 29, 30, 29, 30, 31, 32, 31, 32, 37, 36, 37, 36, 37, 38, 37, 38, 37, 38, 42, 43, 42, 43, 42, 44, 43, 44, 43, 44, 43, 42, 41, 40, 39, 43, 48, 47, 46, 45, 46, 47, 52, 53, 54, 55, 58, 59, 58, 59, 60, 61, 60, 61, 60, 61, 62, 65, 66, 67, 68, 73, 74, 75, 76, 77, 78, 79, 78, 79, 80, 81, 82, 83, 84, 85, 86, 85, 84, 85, 84, 83], [0, 1, 0, 6, 7, 8, 9, 10, 11, 16, 17, 21, 24, 25, 24, 25, 26, 27, 28, 29, 28, 29, 30, 29, 30, 31, 32, 31, 32, 37, 36, 37, 36, 37, 38, 37, 38, 37, 38, 42, 43, 42, 43, 42, 44, 43, 44, 43, 44, 43, 42, 41, 40, 39, 43, 48, 47, 46, 45, 46, 47, 52, 53, 54, 55, 58, 59, 58, 59, 60, 61, 60, 61, 60, 61, 62, 65, 66, 67, 68, 73, 74, 75, 76, 77, 78, 79, 78, 79, 80, 81, 82, 83, 84, 85, 86, 85, 84, 85, 84, 83], [0, 1, 0, 6, 7, 8, 9, 10, 11, 16, 17, 21, 24, 25, 24, 25, 26, 27, 28, 29, 28, 29, 30, 29, 30, 31, 32, 31, 32, 37, 36, 37, 36, 37, 38, 37, 38, 37, 38, 42, 43, 42, 43, 42, 44, 43, 44, 43, 44, 43, 42, 41, 40, 39, 43, 48, 47, 46, 45, 46, 47, 52, 53, 54, 55, 58, 59, 58, 59, 60, 61, 60, 61, 60, 61, 62, 65, 66, 67, 68, 73, 74, 75, 76, 77, 78, 79, 78, 79, 80, 81, 82, 83, 84, 85, 86, 85, 84, 85, 84, 83], [0, 1, 0, 6, 7, 8, 9, 10, 11, 16, 17, 21, 24, 25, 24, 25, 26, 27, 28, 29, 28, 29, 30, 29, 30, 31, 32, 31, 32, 37, 36, 37, 36, 37, 38, 37, 38, 37, 38, 42, 43, 42, 43, 42, 44, 43, 44, 43, 44, 43, 42, 41, 40, 39, 43, 48, 47, 46, 45, 46, 47, 52, 53, 54, 55, 58, 59, 58, 59, 60, 61, 60, 61, 60, 61, 62, 65, 66, 67, 68, 73, 74, 75, 76, 77, 78, 79, 78, 79, 80, 81, 82, 83, 84, 85, 86, 85, 84, 85, 84, 83], [0, 1, 0, 6, 7, 8, 9, 10, 11, 16, 17, 21, 24, 25, 24, 25, 26, 27, 28, 29, 28, 29, 30, 29, 30, 31, 32, 31, 32, 37, 36, 37, 36, 37, 38, 37, 38, 37, 38, 42, 43, 42, 43, 42, 44, 43, 44, 43, 44, 43, 42, 41, 40, 39, 43, 48, 47, 46, 45, 46, 47, 52, 53, 54, 55, 58, 59, 58, 59, 60, 61, 60, 61, 60, 61, 62, 65, 66, 67, 68, 73, 74, 75, 76, 77, 78, 79, 78, 79, 80, 81, 82, 83, 84, 85, 86, 85, 84, 85, 84, 83], [0, 1, 0, 6, 7, 8, 9, 10, 11, 16, 17, 21, 24, 25, 24, 25, 26, 27, 28, 29, 28, 29, 30, 29, 30, 31, 32, 31, 32, 37, 36, 37, 36, 37, 38, 37, 38, 37, 38, 42, 43, 42, 43, 42, 44, 43, 44, 43, 44, 43, 42, 41, 40, 39, 43, 48, 47, 46, 45, 46, 47, 52, 53, 54, 55, 58, 59, 58, 59, 60, 61, 60, 61, 60, 61, 62, 65, 66, 67, 68, 73, 74, 75, 76, 77, 78, 79, 78, 79, 80, 81, 82, 83, 84, 85, 86, 85, 84, 85, 84, 83], [0, 1, 0, 6, 7, 8, 9, 10, 11, 16, 17, 21, 24, 25, 24, 25, 26, 27, 28, 29, 28, 29, 30, 29, 30, 31, 32, 31, 32, 37, 36, 37, 36, 37, 38, 37, 38, 37, 38, 42, 43, 42, 43, 42, 44, 43, 44, 43, 44, 43, 42, 41, 40, 39, 43, 48, 47, 46, 45, 46, 47, 52, 53, 54, 55, 58, 59, 58, 59, 60, 61, 60, 61, 60, 61, 62, 65, 66, 67, 68, 73, 74, 75, 76, 77, 78, 79, 78, 79, 80, 81, 82, 83, 84, 85, 86, 85, 84, 85, 84, 83], [0, 1, 0, 6, 7, 8, 9, 10, 11, 16, 17, 21, 24, 25, 24, 25, 26, 27, 28, 29, 28, 29, 30, 29, 30, 31, 32, 31, 32, 37, 36, 37, 36, 37, 38, 37, 38, 37, 38, 42, 43, 42, 43, 42, 44, 43, 44, 43, 44, 43, 42, 41, 40, 39, 43, 48, 47, 46, 45, 46, 47, 52, 53, 54, 55, 58, 59, 58, 59, 60, 61, 60, 61, 60, 61, 62, 65, 66, 67, 68, 73, 74, 75, 76, 77, 78, 79, 78, 79, 80, 81, 82, 83, 84, 85, 86, 85, 84, 85, 84, 83], [0, 1, 0, 6, 7, 8, 9, 10, 11, 16, 17, 21, 24, 25, 24, 25, 26, 27, 28, 29, 28, 29, 30, 29, 30, 31, 32, 31, 32, 37, 36, 37, 36, 37, 38, 37, 38, 37, 38, 42, 43, 42, 43, 42, 44, 43, 44, 43, 44, 43, 42, 41, 40, 39, 43, 48, 47, 46, 45, 46, 47, 52, 53, 54, 55, 58, 59, 58, 59, 60, 61, 60, 61, 60, 61, 62, 65, 66, 67, 68, 73, 74, 75, 76, 77, 78, 79, 78, 79, 80, 81, 82, 83, 84, 85, 86, 85, 84, 85, 84, 83], [0, 1, 0, 6, 7, 8, 9, 10, 11, 16, 17, 21, 24, 25, 24, 25, 26, 27, 28, 29, 28, 29, 30, 29, 30, 31, 32, 31, 32, 37, 36, 37, 36, 37, 38, 37, 38, 37, 38, 42, 43, 42, 43, 42, 44, 43, 44, 43, 44, 43, 42, 41, 40, 39, 43, 48, 47, 46, 45, 46, 47, 52, 53, 54, 55, 58, 59, 58, 59, 60, 61, 60, 61, 60, 61, 62, 65, 66, 67, 68, 73, 74, 75, 76, 77, 78, 79, 78, 79, 80, 81, 82, 83, 84, 85, 86, 85, 84, 85, 84, 83], [0, 1, 0, 6, 7, 8, 9, 10, 11, 16, 17, 21, 24, 25, 24, 25, 26, 27, 28, 29, 28, 29, 30, 29, 30, 31, 32, 31, 32, 37, 36, 37, 36, 37, 38, 37, 38, 37, 38, 42, 43, 42, 43, 42, 44, 43, 44, 43, 44, 43, 42, 41, 40, 39, 43, 48, 47, 46, 45, 46, 47, 52, 53, 54, 55, 58, 59, 58, 59, 60, 61, 60, 61, 60, 61, 62, 65, 66, 67, 68, 73, 74, 75, 76, 77, 78, 79, 78, 79, 80, 81, 82, 83, 84, 85, 86, 85, 84, 85, 84, 83], [0, 1, 0, 6, 7, 8, 9, 10, 11, 16, 17, 21, 24, 25, 24, 25, 26, 27, 28, 29, 28, 29, 30, 29, 30, 31, 32, 31, 32, 37, 36, 37, 36, 37, 38, 37, 38, 37, 38, 42, 43, 42, 43, 42, 44, 43, 44, 43, 44, 43, 42, 41, 40, 39, 43, 48, 47, 46, 45, 46, 47, 52, 53, 54, 55, 58, 59, 58, 59, 60, 61, 60, 61, 60, 61, 62, 65, 66, 67, 68, 73, 74, 75, 76, 77, 78, 79, 78, 79, 80, 81, 82, 83, 84, 85, 86, 85, 84, 85, 84, 83], [0, 1, 0, 6, 7, 8, 9, 10, 11, 16, 17, 21, 24, 25, 24, 25, 26, 27, 28, 29, 28, 29, 30, 29, 30, 31, 32, 31, 32, 37, 36, 37, 36, 37, 38, 37, 38, 37, 38, 42, 43, 42, 43, 42, 44, 43, 44, 43, 44, 43, 42, 41, 40, 39, 43, 48, 47, 46, 45, 46, 47, 52, 53, 54, 55, 58, 59, 58, 59, 60, 61, 60, 61, 60, 61, 62, 65, 66, 67, 68, 73, 74, 75, 76, 77, 78, 79, 78, 79, 80, 81, 82, 83, 84, 85, 86, 85, 84, 85, 84, 83], [0, 1, 0, 6, 7, 8, 9, 10, 11, 16, 17, 21, 24, 25, 24, 25, 26, 27, 28, 29, 28, 29, 30, 29, 30, 31, 32, 31, 32, 37, 36, 37, 36, 37, 38, 37, 38, 37, 38, 42, 43, 42, 43, 42, 44, 43, 44, 43, 44, 43, 42, 41, 40, 39, 43, 48, 47, 46, 45, 46, 47, 52, 53, 54, 55, 58, 59, 58, 59, 60, 61, 60, 61, 60, 61, 62, 65, 66, 67, 68, 73, 74, 75, 76, 77, 78, 79, 78, 79, 80, 81, 82, 83, 84, 85, 86, 85, 84, 85, 84, 83], [0, 1, 0, 6, 7, 8, 9, 10, 11, 16, 17, 21, 24, 25, 24, 25, 26, 27, 28, 29, 28, 29, 30, 29, 30, 31, 32, 31, 32, 37, 36, 37, 36, 37, 38, 37, 38, 37, 38, 42, 43, 42, 43, 42, 44, 43, 44, 43, 44, 43, 42, 41, 40, 39, 43, 48, 47, 46, 45, 46, 47, 52, 53, 54, 55, 58, 59, 58, 59, 60, 61, 60, 61, 60, 61, 62, 65, 66, 67, 68, 73, 74, 75, 76, 77, 78, 79, 78, 79, 80, 81, 82, 83, 84, 85, 86, 85, 84, 85, 84, 83], [0, 1, 0, 6, 7, 8, 9, 10, 11, 16, 17, 21, 24, 25, 24, 25, 26, 27, 28, 29, 28, 29, 30, 29, 30, 31, 32, 31, 32, 37, 36, 37, 36, 37, 38, 37, 38, 37, 38, 42, 43, 42, 43, 42, 44, 43, 44, 43, 44, 43, 42, 41, 40, 39, 43, 48, 47, 46, 45, 46, 47, 52, 53, 54, 55, 58, 59, 58, 59, 60, 61, 60, 61, 60, 61, 62, 65, 66, 67, 68, 73, 74, 75, 76, 77, 78, 79, 78, 79, 80, 81, 82, 83, 84, 85, 86, 85, 84, 85, 84, 83], [0, 1, 0, 6, 7, 8, 9, 10, 11, 16, 17, 21, 24, 25, 24, 25, 26, 27, 28, 29, 28, 29, 30, 29, 30, 31, 32, 31, 32, 37, 36, 37, 36, 37, 38, 37, 38, 37, 38, 42, 43, 42, 43, 42, 44, 43, 44, 43, 44, 43, 42, 41, 40, 39, 43, 48, 47, 46, 45, 46, 47, 52, 53, 54, 55, 58, 59, 58, 59, 60, 61, 60, 61, 60, 61, 62, 65, 66, 67, 68, 73, 74, 75, 76, 77, 78, 79, 78, 79, 80, 81, 82, 83, 84, 85, 86, 85, 84, 85, 84, 83], [0, 1, 0, 6, 7, 8, 9, 10, 11, 16, 17, 21, 24, 25, 24, 25, 26, 27, 28, 29, 28, 29, 30, 29, 30, 31, 32, 31, 32, 37, 36, 37, 36, 37, 38, 37, 38, 37, 38, 42, 43, 42, 43, 42, 44, 43, 44, 43, 44, 43, 42, 41, 40, 39, 43, 48, 47, 46, 45, 46, 47, 52, 53, 54, 55, 58, 59, 58, 59, 60, 61, 60, 61, 60, 61, 62, 65, 66, 67, 68, 73, 74, 75, 76, 77, 78, 79, 78, 79, 80, 81, 82, 83, 84, 85, 86, 85, 84, 85, 84, 83], [0, 1, 0, 6, 7, 8, 9, 10, 11, 16, 17, 21, 24, 25, 24, 25, 26, 27, 28, 29, 28, 29, 30, 29, 30, 31, 32, 31, 32, 37, 36, 37, 36, 37, 38, 37, 38, 37, 38, 42, 43, 42, 43, 42, 44, 43, 44, 43, 44, 43, 42, 41, 40, 39, 43, 48, 47, 46, 45, 46, 47, 52, 53, 54, 55, 58, 59, 58, 59, 60, 61, 60, 61, 60, 61, 62, 65, 66, 67, 68, 73, 74, 75, 76, 77, 78, 79, 78, 79, 80, 81, 82, 83, 84, 85, 86, 85, 84, 85, 84, 83], [0, 1, 0, 6, 7, 8, 9, 10, 11, 16, 17, 21, 24, 25, 24, 25, 26, 27, 28, 29, 28, 29, 30, 29, 30, 31, 32, 31, 32, 37, 36, 37, 36, 37, 38, 37, 38, 37, 38, 42, 43, 42, 43, 42, 44, 43, 44, 43, 44, 43, 42, 41, 40, 39, 43, 48, 47, 46, 45, 46, 47, 52, 53, 54, 55, 58, 59, 58, 59, 60, 61, 60, 61, 60, 61, 62, 65, 66, 67, 68, 73, 74, 75, 76, 77, 78, 79, 78, 79, 80, 81, 82, 83, 84, 85, 86, 85, 84, 85, 84, 83], [0, 1, 0, 6, 7, 8, 9, 10, 11, 16, 17, 21, 24, 25, 24, 25, 26, 27, 28, 29, 28, 29, 30, 29, 30, 31, 32, 31, 32, 37, 36, 37, 36, 37, 38, 37, 38, 37, 38, 42, 43, 42, 43, 42, 44, 43, 44, 43, 44, 43, 42, 41, 40, 39, 43, 48, 47, 46, 45, 46, 47, 52, 53, 54, 55, 58, 59, 58, 59, 60, 61, 60, 61, 60, 61, 62, 65, 66, 67, 68, 73, 74, 75, 76, 77, 78, 79, 78, 79, 80, 81, 82, 83, 84, 85, 86, 85, 84, 85, 84, 83], [0, 1, 0, 6, 7, 8, 9, 10, 11, 16, 17, 21, 24, 25, 24, 25, 26, 27, 28, 29, 28, 29, 30, 29, 30, 31, 32, 31, 32, 37, 36, 37, 36, 37, 38, 37, 38, 37, 38, 42, 43, 42, 43, 42, 44, 43, 44, 43, 44, 43, 42, 41, 40, 39, 43, 48, 47, 46, 45, 46, 47, 52, 53, 54, 55, 58, 59, 58, 59, 60, 61, 60, 61, 60, 61, 62, 65, 66, 67, 68, 73, 74, 75, 76, 77, 78, 79, 78, 79, 80, 81, 82, 83, 84, 85, 86, 85, 84, 85, 84, 83], [0, 1, 0, 6, 7, 8, 9, 10, 11, 16, 17, 21, 24, 25, 24, 25, 26, 27, 28, 29, 28, 29, 30, 29, 30, 31, 32, 31, 32, 37, 36, 37, 36, 37, 38, 37, 38, 37, 38, 42, 43, 42, 43, 42, 44, 43, 44, 43, 44, 43, 42, 41, 40, 39, 43, 48, 47, 46, 45, 46, 47, 52, 53, 54, 55, 58, 59, 58, 59, 60, 61, 60, 61, 60, 61, 62, 65, 66, 67, 68, 73, 74, 75, 76, 77, 78, 79, 78, 79, 80, 81, 82, 83, 84, 85, 86, 85, 84, 85, 84, 83], [0, 1, 0, 6, 7, 8, 9, 10, 11, 16, 17, 21, 24, 25, 24, 25, 26, 27, 28, 29, 28, 29, 30, 29, 30, 31, 32, 31, 32, 37, 36, 37, 36, 37, 38, 37, 38, 37, 38, 42, 43, 42, 43, 42, 44, 43, 44, 43, 44, 43, 42, 41, 40, 39, 43, 48, 47, 46, 45, 46, 47, 52, 53, 54, 55, 58, 59, 58, 59, 60, 61, 60, 61, 60, 61, 62, 65, 66, 67, 68, 73, 74, 75, 76, 77, 78, 79, 78, 79, 80, 81, 82, 83, 84, 85, 86, 85, 84, 85, 84, 83], [0, 1, 0, 6, 7, 8, 9, 10, 11, 16, 17, 21, 24, 25, 24, 25, 26, 27, 28, 29, 28, 29, 30, 29, 30, 31, 32, 31, 32, 37, 36, 37, 36, 37, 38, 37, 38, 37, 38, 42, 43, 42, 43, 42, 44, 43, 44, 43, 44, 43, 42, 41, 40, 39, 43, 48, 47, 46, 45, 46, 47, 52, 53, 54, 55, 58, 59, 58, 59, 60, 61, 60, 61, 60, 61, 62, 65, 66, 67, 68, 73, 74, 75, 76, 77, 78, 79, 78, 79, 80, 81, 82, 83, 84, 85, 86, 85, 84, 85, 84, 83], [0, 1, 0, 6, 7, 8, 9, 10, 11, 16, 17, 21, 24, 25, 24, 25, 26, 27, 28, 29, 28, 29, 30, 29, 30, 31, 32, 31, 32, 37, 36, 37, 36, 37, 38, 37, 38, 37, 38, 42, 43, 42, 43, 42, 44, 43, 44, 43, 44, 43, 42, 41, 40, 39, 43, 48, 47, 46, 45, 46, 47, 52, 53, 54, 55, 58, 59, 58, 59, 60, 61, 60, 61, 60, 61, 62, 65, 66, 67, 68, 73, 74, 75, 76, 77, 78, 79, 78, 79, 80, 81, 82, 83, 84, 85, 86, 85, 84, 85, 84, 83], [0, 1, 0, 6, 7, 8, 9, 10, 11, 16, 17, 21, 24, 25, 24, 25, 26, 27, 28, 29, 28, 29, 30, 29, 30, 31, 32, 31, 32, 37, 36, 37, 36, 37, 38, 37, 38, 37, 38, 42, 43, 42, 43, 42, 44, 43, 44, 43, 44, 43, 42, 41, 40, 39, 43, 48, 47, 46, 45, 46, 47, 52, 53, 54, 55, 58, 59, 58, 59, 60, 61, 60, 61, 60, 61, 62, 65, 66, 67, 68, 73, 74, 75, 76, 77, 78, 79, 78, 79, 80, 81, 82, 83, 84, 85, 86, 85, 84, 85, 84, 83], [0, 1, 0, 6, 7, 8, 9, 10, 11, 16, 17, 21, 24, 25, 24, 25, 26, 27, 28, 29, 28, 29, 30, 29, 30, 31, 32, 31, 32, 37, 36, 37, 36, 37, 38, 37, 38, 37, 38, 42, 43, 42, 43, 42, 44, 43, 44, 43, 44, 43, 42, 41, 40, 39, 43, 48, 47, 46, 45, 46, 47, 52, 53, 54, 55, 58, 59, 58, 59, 60, 61, 60, 61, 60, 61, 62, 65, 66, 67, 68, 73, 74, 75, 76, 77, 78, 79, 78, 79, 80, 81, 82, 83, 84, 85, 86, 85, 84, 85, 84, 83], [0, 1, 0, 6, 7, 8, 9, 10, 11, 16, 17, 21, 24, 25, 24, 25, 26, 27, 28, 29, 28, 29, 30, 29, 30, 31, 32, 31, 32, 37, 36, 37, 36, 37, 38, 37, 38, 37, 38, 42, 43, 42, 43, 42, 44, 43, 44, 43, 44, 43, 42, 41, 40, 39, 43, 48, 47, 46, 45, 46, 47, 52, 53, 54, 55, 58, 59, 58, 59, 60, 61, 60, 61, 60, 61, 62, 65, 66, 67, 68, 73, 74, 75, 76, 77, 78, 79, 78, 79, 80, 81, 82, 83, 84, 85, 86, 85, 84, 85, 84, 83], [0, 1, 0, 6, 7, 8, 9, 10, 11, 16, 17, 21, 24, 25, 24, 25, 26, 27, 28, 29, 28, 29, 30, 29, 30, 31, 32, 31, 32, 37, 36, 37, 36, 37, 38, 37, 38, 37, 38, 42, 43, 42, 43, 42, 44, 43, 44, 43, 44, 43, 42, 41, 40, 39, 43, 48, 47, 46, 45, 46, 47, 52, 53, 54, 55, 58, 59, 58, 59, 60, 61, 60, 61, 60, 61, 62, 65, 66, 67, 68, 73, 74, 75, 76, 77, 78, 79, 78, 79, 80, 81, 82, 83, 84, 85, 86, 85, 84, 85, 84, 83], [0, 1, 0, 6, 7, 8, 9, 10, 11, 16, 17, 21, 24, 25, 24, 25, 26, 27, 28, 29, 28, 29, 30, 29, 30, 31, 32, 31, 32, 37, 36, 37, 36, 37, 38, 37, 38, 37, 38, 42, 43, 42, 43, 42, 44, 43, 44, 43, 44, 43, 42, 41, 40, 39, 43, 48, 47, 46, 45, 46, 47, 52, 53, 54, 55, 58, 59, 58, 59, 60, 61, 60, 61, 60, 61, 62, 65, 66, 67, 68, 73, 74, 75, 76, 77, 78, 79, 78, 79, 80, 81, 82, 83, 84, 85, 86, 85, 84, 85, 84, 83], [0, 1, 0, 6, 7, 8, 9, 10, 11, 16, 17, 21, 24, 25, 24, 25, 26, 27, 28, 29, 28, 29, 30, 29, 30, 31, 32, 31, 32, 37, 36, 37, 36, 37, 38, 37, 38, 37, 38, 42, 43, 42, 43, 42, 44, 43, 44, 43, 44, 43, 42, 41, 40, 39, 43, 48, 47, 46, 45, 46, 47, 52, 53, 54, 55, 58, 59, 58, 59, 60, 61, 60, 61, 60, 61, 62, 65, 66, 67, 68, 73, 74, 75, 76, 77, 78, 79, 78, 79, 80, 81, 82, 83, 84, 85, 86, 85, 84, 85, 84, 83], [0, 1, 0, 6, 7, 8, 9, 10, 11, 16, 17, 21, 24, 25, 24, 25, 26, 27, 28, 29, 28, 29, 30, 29, 30, 31, 32, 31, 32, 37, 36, 37, 36, 37, 38, 37, 38, 37, 38, 42, 43, 42, 43, 42, 44, 43, 44, 43, 44, 43, 42, 41, 40, 39, 43, 48, 47, 46, 45, 46, 47, 52, 53, 54, 55, 58, 59, 58, 59, 60, 61, 60, 61, 60, 61, 62, 65, 66, 67, 68, 73, 74, 75, 76, 77, 78, 79, 78, 79, 80, 81, 82, 83, 84, 85, 86, 85, 84, 85, 84, 83], [0, 1, 0, 6, 7, 8, 9, 10, 11, 16, 17, 21, 24, 25, 24, 25, 26, 27, 28, 29, 28, 29, 30, 29, 30, 31, 32, 31, 32, 37, 36, 37, 36, 37, 38, 37, 38, 37, 38, 42, 43, 42, 43, 42, 44, 43, 44, 43, 44, 43, 42, 41, 40, 39, 43, 48, 47, 46, 45, 46, 47, 52, 53, 54, 55, 58, 59, 58, 59, 60, 61, 60, 61, 60, 61, 62, 65, 66, 67, 68, 73, 74, 75, 76, 77, 78, 79, 78, 79, 80, 81, 82, 83, 84, 85, 86, 85, 84, 85, 84, 83], [0, 1, 0, 6, 7, 8, 9, 10, 11, 16, 17, 21, 24, 25, 24, 25, 26, 27, 28, 29, 28, 29, 30, 29, 30, 31, 32, 31, 32, 37, 36, 37, 36, 37, 38, 37, 38, 37, 38, 42, 43, 42, 43, 42, 44, 43, 44, 43, 44, 43, 42, 41, 40, 39, 43, 48, 47, 46, 45, 46, 47, 52, 53, 54, 55, 58, 59, 58, 59, 60, 61, 60, 61, 60, 61, 62, 65, 66, 67, 68, 73, 74, 75, 76, 77, 78, 79, 78, 79, 80, 81, 82, 83, 84, 85, 86, 85, 84, 85, 84, 83], [0, 1, 0, 6, 7, 8, 9, 10, 11, 16, 17, 21, 24, 25, 24, 25, 26, 27, 28, 29, 28, 29, 30, 29, 30, 31, 32, 31, 32, 37, 36, 37, 36, 37, 38, 37, 38, 37, 38, 42, 43, 42, 43, 42, 44, 43, 44, 43, 44, 43, 42, 41, 40, 39, 43, 48, 47, 46, 45, 46, 47, 52, 53, 54, 55, 58, 59, 58, 59, 60, 61, 60, 61, 60, 61, 62, 65, 66, 67, 68, 73, 74, 75, 76, 77, 78, 79, 78, 79, 80, 81, 82, 83, 84, 85, 86, 85, 84, 85, 84, 83], [0, 1, 0, 6, 7, 8, 9, 10, 11, 16, 17, 21, 24, 25, 24, 25, 26, 27, 28, 29, 28, 29, 30, 29, 30, 31, 32, 31, 32, 37, 36, 37, 36, 37, 38, 37, 38, 37, 38, 42, 43, 42, 43, 42, 44, 43, 44, 43, 44, 43, 42, 41, 40, 39, 43, 48, 47, 46, 45, 46, 47, 52, 53, 54, 55, 58, 59, 58, 59, 60, 61, 60, 61, 60, 61, 62, 65, 66, 67, 68, 73, 74, 75, 76, 77, 78, 79, 78, 79, 80, 81, 82, 83, 84, 85, 86, 85, 84, 85, 84, 83], [0, 1, 0, 6, 7, 8, 9, 10, 11, 16, 17, 21, 24, 25, 24, 25, 26, 27, 28, 29, 28, 29, 30, 29, 30, 31, 32, 31, 32, 37, 36, 37, 36, 37, 38, 37, 38, 37, 38, 42, 43, 42, 43, 42, 44, 43, 44, 43, 44, 43, 42, 41, 40, 39, 43, 48, 47, 46, 45, 46, 47, 52, 53, 54, 55, 58, 59, 58, 59, 60, 61, 60, 61, 60, 61, 62, 65, 66, 67, 68, 73, 74, 75, 76, 77, 78, 79, 78, 79, 80, 81, 82, 83, 84, 85, 86, 85, 84, 85, 84, 83], [0, 1, 0, 6, 7, 8, 9, 10, 11, 16, 17, 21, 24, 25, 24, 25, 26, 27, 28, 29, 28, 29, 30, 29, 30, 31, 32, 31, 32, 37, 36, 37, 36, 37, 38, 37, 38, 37, 38, 42, 43, 42, 43, 42, 44, 43, 44, 43, 44, 43, 42, 41, 40, 39, 43, 48, 47, 46, 45, 46, 47, 52, 53, 54, 55, 58, 59, 58, 59, 60, 61, 60, 61, 60, 61, 62, 65, 66, 67, 68, 73, 74, 75, 76, 77, 78, 79, 78, 79, 80, 81, 82, 83, 84, 85, 86, 85, 84, 85, 84, 83], [0, 1, 0, 6, 7, 8, 9, 10, 11, 16, 17, 21, 24, 25, 24, 25, 26, 27, 28, 29, 28, 29, 30, 29, 30, 31, 32, 31, 32, 37, 36, 37, 36, 37, 38, 37, 38, 37, 38, 42, 43, 42, 43, 42, 44, 43, 44, 43, 44, 43, 42, 41, 40, 39, 43, 48, 47, 46, 45, 46, 47, 52, 53, 54, 55, 58, 59, 58, 59, 60, 61, 60, 61, 60, 61, 62, 65, 66, 67, 68, 73, 74, 75, 76, 77, 78, 79, 78, 79, 80, 81, 82, 83, 84, 85, 86, 85, 84, 85, 84, 83], [0, 1, 0, 6, 7, 8, 9, 10, 11, 16, 17, 21, 24, 25, 24, 25, 26, 27, 28, 29, 28, 29, 30, 29, 30, 31, 32, 31, 32, 37, 36, 37, 36, 37, 38, 37, 38, 37, 38, 42, 43, 42, 43, 42, 44, 43, 44, 43, 44, 43, 42, 41, 40, 39, 43, 48, 47, 46, 45, 46, 47, 52, 53, 54, 55, 58, 59, 58, 59, 60, 61, 60, 61, 60, 61, 62, 65, 66, 67, 68, 73, 74, 75, 76, 77, 78, 79, 78, 79, 80, 81, 82, 83, 84, 85, 86, 85, 84, 85, 84, 83], [0, 1, 0, 6, 7, 8, 9, 10, 11, 16, 17, 21, 24, 25, 24, 25, 26, 27, 28, 29, 28, 29, 30, 29, 30, 31, 32, 31, 32, 37, 36, 37, 36, 37, 38, 37, 38, 37, 38, 42, 43, 42, 43, 42, 44, 43, 44, 43, 44, 43, 42, 41, 40, 39, 43, 48, 47, 46, 45, 46, 47, 52, 53, 54, 55, 58, 59, 58, 59, 60, 61, 60, 61, 60, 61, 62, 65, 66, 67, 68, 73, 74, 75, 76, 77, 78, 79, 78, 79, 80, 81, 82, 83, 84, 85, 86, 85, 84, 85, 84, 83], [0, 1, 0, 6, 7, 8, 9, 10, 11, 16, 17, 21, 24, 25, 24, 25, 26, 27, 28, 29, 28, 29, 30, 29, 30, 31, 32, 31, 32, 37, 36, 37, 36, 37, 38, 37, 38, 37, 38, 42, 43, 42, 43, 42, 44, 43, 44, 43, 44, 43, 42, 41, 40, 39, 43, 48, 47, 46, 45, 46, 47, 52, 53, 54, 55, 58, 59, 58, 59, 60, 61, 60, 61, 60, 61, 62, 65, 66, 67, 68, 73, 74, 75, 76, 77, 78, 79, 78, 79, 80, 81, 82, 83, 84, 85, 86, 85, 84, 85, 84, 83], [0, 1, 0, 1, 2, 1, 4, 3, 2, 7, 9, 10, 13, 14, 15, 16, 22, 23, 22, 21, 22, 23, 29, 28, 27, 28, 34, 35, 36, 35, 34, 35, 36, 37, 36, 35, 36, 38, 39, 40, 41, 42, 43, 44, 43, 48, 49, 48, 54, 55, 56, 58, 59, 60, 61, 65, 66, 67, 68, 69, 74, 75, 76, 77, 83, 84, 83, 84, 83, 82, 81, 82, 83, 84, 85, 86, 87, 86, 85, 84, 85, 84, 85, 91, 92, 91, 92, 96, 97, 101, 102, 103, 104, 105, 106, 107, 106, 105, 106, 111, 112], [0, 1, 0, 1, 2, 1, 4, 3, 2, 7, 9, 10, 13, 14, 15, 16, 22, 23, 22, 21, 22, 23, 29, 28, 27, 28, 34, 35, 36, 35, 34, 35, 36, 37, 36, 35, 36, 38, 39, 40, 41, 42, 43, 44, 43, 48, 49, 48, 54, 55, 56, 58, 59, 60, 61, 65, 66, 67, 68, 69, 74, 75, 76, 77, 83, 84, 83, 84, 83, 82, 81, 82, 83, 84, 85, 86, 87, 86, 85, 84, 85, 84, 85, 91, 92, 91, 92, 96, 97, 101, 102, 103, 104, 105, 106, 107, 106, 105, 106, 111, 112], [0, 1, 0, 1, 2, 1, 4, 3, 2, 7, 9, 10, 13, 14, 15, 16, 22, 23, 22, 21, 22, 23, 29, 28, 27, 28, 34, 35, 36, 35, 34, 35, 36, 37, 36, 35, 36, 38, 39, 40, 41, 42, 43, 44, 43, 48, 49, 48, 54, 55, 56, 58, 59, 60, 61, 65, 66, 67, 68, 69, 74, 75, 76, 77, 83, 84, 83, 84, 83, 82, 81, 82, 83, 84, 85, 86, 87, 86, 85, 84, 85, 84, 85, 91, 92, 91, 92, 96, 97, 101, 102, 103, 104, 105, 106, 107, 106, 105, 106, 111, 112], [0, 1, 0, 1, 2, 1, 4, 3, 2, 7, 9, 10, 13, 14, 15, 16, 22, 23, 22, 21, 22, 23, 29, 28, 27, 28, 34, 35, 36, 35, 34, 35, 36, 37, 36, 35, 36, 38, 39, 40, 41, 42, 43, 44, 43, 48, 49, 48, 54, 55, 56, 58, 59, 60, 61, 65, 66, 67, 68, 69, 74, 75, 76, 77, 83, 84, 83, 84, 83, 82, 81, 82, 83, 84, 85, 86, 87, 86, 85, 84, 85, 84, 85, 91, 92, 91, 92, 96, 97, 101, 102, 103, 104, 105, 106, 107, 106, 105, 106, 111, 112], [0, 1, 0, 1, 2, 1, 4, 3, 2, 7, 9, 10, 13, 14, 15, 16, 22, 23, 22, 21, 22, 23, 29, 28, 27, 28, 34, 35, 36, 35, 34, 35, 36, 37, 36, 35, 36, 38, 39, 40, 41, 42, 43, 44, 43, 48, 49, 48, 54, 55, 56, 58, 59, 60, 61, 65, 66, 67, 68, 69, 74, 75, 76, 77, 83, 84, 83, 84, 83, 82, 81, 82, 83, 84, 85, 86, 87, 86, 85, 84, 85, 84, 85, 91, 92, 91, 92, 96, 97, 101, 102, 103, 104, 105, 106, 107, 106, 105, 106, 111, 112], [0, 1, 0, 1, 2, 1, 4, 3, 2, 7, 9, 10, 13, 14, 15, 16, 22, 23, 22, 21, 22, 23, 29, 28, 27, 28, 34, 35, 36, 35, 34, 35, 36, 37, 36, 35, 36, 38, 39, 40, 41, 42, 43, 44, 43, 48, 49, 48, 54, 55, 56, 58, 59, 60, 61, 65, 66, 67, 68, 69, 74, 75, 76, 77, 83, 84, 83, 84, 83, 82, 81, 82, 83, 84, 85, 86, 87, 86, 85, 84, 85, 84, 85, 91, 92, 91, 92, 96, 97, 101, 102, 103, 104, 105, 106, 107, 106, 105, 106, 111, 112], [0, 1, 0, 1, 2, 1, 4, 3, 2, 7, 9, 10, 13, 14, 15, 16, 22, 23, 22, 21, 22, 23, 29, 28, 27, 28, 34, 35, 36, 35, 34, 35, 36, 37, 36, 35, 36, 38, 39, 40, 41, 42, 43, 44, 43, 48, 49, 48, 54, 55, 56, 58, 59, 60, 61, 65, 66, 67, 68, 69, 74, 75, 76, 77, 83, 84, 83, 84, 83, 82, 81, 82, 83, 84, 85, 86, 87, 86, 85, 84, 85, 84, 85, 91, 92, 91, 92, 96, 97, 101, 102, 103, 104, 105, 106, 107, 106, 105, 106, 111, 112], [0, 1, 0, 1, 2, 1, 4, 3, 2, 7, 9, 10, 13, 14, 15, 16, 22, 23, 22, 21, 22, 23, 29, 28, 27, 28, 34, 35, 36, 35, 34, 35, 36, 37, 36, 35, 36, 38, 39, 40, 41, 42, 43, 44, 43, 48, 49, 48, 54, 55, 56, 58, 59, 60, 61, 65, 66, 67, 68, 69, 74, 75, 76, 77, 83, 84, 83, 84, 83, 82, 81, 82, 83, 84, 85, 86, 87, 86, 85, 84, 85, 84, 85, 91, 92, 91, 92, 96, 97, 101, 102, 103, 104, 105, 106, 107, 106, 105, 106, 111, 112], [0, 1, 0, 1, 2, 1, 4, 3, 2, 7, 9, 10, 13, 14, 15, 16, 22, 23, 22, 21, 22, 23, 29, 28, 27, 28, 34, 35, 36, 35, 34, 35, 36, 37, 36, 35, 36, 38, 39, 40, 41, 42, 43, 44, 43, 48, 49, 48, 54, 55, 56, 58, 59, 60, 61, 65, 66, 67, 68, 69, 74, 75, 76, 77, 83, 84, 83, 84, 83, 82, 81, 82, 83, 84, 85, 86, 87, 86, 85, 84, 85, 84, 85, 91, 92, 91, 92, 96, 97, 101, 102, 103, 104, 105, 106, 107, 106, 105, 106, 111, 112], [0, 1, 0, 1, 2, 1, 4, 3, 2, 7, 9, 10, 13, 14, 15, 16, 22, 23, 22, 21, 22, 23, 29, 28, 27, 28, 34, 35, 36, 35, 34, 35, 36, 37, 36, 35, 36, 38, 39, 40, 41, 42, 43, 44, 43, 48, 49, 48, 54, 55, 56, 58, 59, 60, 61, 65, 66, 67, 68, 69, 74, 75, 76, 77, 83, 84, 83, 84, 83, 82, 81, 82, 83, 84, 85, 86, 87, 86, 85, 84, 85, 84, 85, 91, 92, 91, 92, 96, 97, 101, 102, 103, 104, 105, 106, 107, 106, 105, 106, 111, 112], [0, 1, 0, 1, 2, 1, 4, 3, 2, 7, 9, 10, 13, 14, 15, 16, 22, 23, 22, 21, 22, 23, 29, 28, 27, 28, 34, 35, 36, 35, 34, 35, 36, 37, 36, 35, 36, 38, 39, 40, 41, 42, 43, 44, 43, 48, 49, 48, 54, 55, 56, 58, 59, 60, 61, 65, 66, 67, 68, 69, 74, 75, 76, 77, 83, 84, 83, 84, 83, 82, 81, 82, 83, 84, 85, 86, 87, 86, 85, 84, 85, 84, 85, 91, 92, 91, 92, 96, 97, 101, 102, 103, 104, 105, 106, 107, 106, 105, 106, 111, 112], [0, 1, 0, 1, 2, 1, 4, 3, 2, 7, 9, 10, 13, 14, 15, 16, 22, 23, 22, 21, 22, 23, 29, 28, 27, 28, 34, 35, 36, 35, 34, 35, 36, 37, 36, 35, 36, 38, 39, 40, 41, 42, 43, 44, 43, 48, 49, 48, 54, 55, 56, 58, 59, 60, 61, 65, 66, 67, 68, 69, 74, 75, 76, 77, 83, 84, 83, 84, 83, 82, 81, 82, 83, 84, 85, 86, 87, 86, 85, 84, 85, 84, 85, 91, 92, 91, 92, 96, 97, 101, 102, 103, 104, 105, 106, 107, 106, 105, 106, 111, 112], [0, 1, 0, 1, 2, 1, 4, 3, 2, 7, 9, 10, 13, 14, 15, 16, 22, 23, 22, 21, 22, 23, 29, 28, 27, 28, 34, 35, 36, 35, 34, 35, 36, 37, 36, 35, 36, 38, 39, 40, 41, 42, 43, 44, 43, 48, 49, 48, 54, 55, 56, 58, 59, 60, 61, 65, 66, 67, 68, 69, 74, 75, 76, 77, 83, 84, 83, 84, 83, 82, 81, 82, 83, 84, 85, 86, 87, 86, 85, 84, 85, 84, 85, 91, 92, 91, 92, 96, 97, 101, 102, 103, 104, 105, 106, 107, 106, 105, 106, 111, 112], [0, 1, 0, 1, 2, 1, 4, 3, 2, 7, 9, 10, 13, 14, 15, 16, 22, 23, 22, 21, 22, 23, 29, 28, 27, 28, 34, 35, 36, 35, 34, 35, 36, 37, 36, 35, 36, 38, 39, 40, 41, 42, 43, 44, 43, 48, 49, 48, 54, 55, 56, 58, 59, 60, 61, 65, 66, 67, 68, 69, 74, 75, 76, 77, 83, 84, 83, 84, 83, 82, 81, 82, 83, 84, 85, 86, 87, 86, 85, 84, 85, 84, 85, 91, 92, 91, 92, 96, 97, 101, 102, 103, 104, 105, 106, 107, 106, 105, 106, 111, 112], [0, 1, 0, 1, 2, 1, 4, 3, 2, 7, 9, 10, 13, 14, 15, 16, 22, 23, 22, 21, 22, 23, 29, 28, 27, 28, 34, 35, 36, 35, 34, 35, 36, 37, 36, 35, 36, 38, 39, 40, 41, 42, 43, 44, 43, 48, 49, 48, 54, 55, 56, 58, 59, 60, 61, 65, 66, 67, 68, 69, 74, 75, 76, 77, 83, 84, 83, 84, 83, 82, 81, 82, 83, 84, 85, 86, 87, 86, 85, 84, 85, 84, 85, 91, 92, 91, 92, 96, 97, 101, 102, 103, 104, 105, 106, 107, 106, 105, 106, 111, 112], [0, 1, 0, 1, 2, 1, 4, 3, 2, 7, 9, 10, 13, 14, 15, 16, 22, 23, 22, 21, 22, 23, 29, 28, 27, 28, 34, 35, 36, 35, 34, 35, 36, 37, 36, 35, 36, 38, 39, 40, 41, 42, 43, 44, 43, 48, 49, 48, 54, 55, 56, 58, 59, 60, 61, 65, 66, 67, 68, 69, 74, 75, 76, 77, 83, 84, 83, 84, 83, 82, 81, 82, 83, 84, 85, 86, 87, 86, 85, 84, 85, 84, 85, 91, 92, 91, 92, 96, 97, 101, 102, 103, 104, 105, 106, 107, 106, 105, 106, 111, 112], [0, 1, 0, 1, 2, 1, 4, 3, 2, 7, 9, 10, 13, 14, 15, 16, 22, 23, 22, 21, 22, 23, 29, 28, 27, 28, 34, 35, 36, 35, 34, 35, 36, 37, 36, 35, 36, 38, 39, 40, 41, 42, 43, 44, 43, 48, 49, 48, 54, 55, 56, 58, 59, 60, 61, 65, 66, 67, 68, 69, 74, 75, 76, 77, 83, 84, 83, 84, 83, 82, 81, 82, 83, 84, 85, 86, 87, 86, 85, 84, 85, 84, 85, 91, 92, 91, 92, 96, 97, 101, 102, 103, 104, 105, 106, 107, 106, 105, 106, 111, 112], [0, 1, 0, 1, 2, 1, 4, 3, 2, 7, 9, 10, 13, 14, 15, 16, 22, 23, 22, 21, 22, 23, 29, 28, 27, 28, 34, 35, 36, 35, 34, 35, 36, 37, 36, 35, 36, 38, 39, 40, 41, 42, 43, 44, 43, 48, 49, 48, 54, 55, 56, 58, 59, 60, 61, 65, 66, 67, 68, 69, 74, 75, 76, 77, 83, 84, 83, 84, 83, 82, 81, 82, 83, 84, 85, 86, 87, 86, 85, 84, 85, 84, 85, 91, 92, 91, 92, 96, 97, 101, 102, 103, 104, 105, 106, 107, 106, 105, 106, 111, 112], [0, 1, 0, 1, 2, 1, 4, 3, 2, 7, 9, 10, 13, 14, 15, 16, 22, 23, 22, 21, 22, 23, 29, 28, 27, 28, 34, 35, 36, 35, 34, 35, 36, 37, 36, 35, 36, 38, 39, 40, 41, 42, 43, 44, 43, 48, 49, 48, 54, 55, 56, 58, 59, 60, 61, 65, 66, 67, 68, 69, 74, 75, 76, 77, 83, 84, 83, 84, 83, 82, 81, 82, 83, 84, 85, 86, 87, 86, 85, 84, 85, 84, 85, 91, 92, 91, 92, 96, 97, 101, 102, 103, 104, 105, 106, 107, 106, 105, 106, 111, 112], [0, 1, 0, 1, 2, 1, 4, 3, 2, 7, 9, 10, 13, 14, 15, 16, 22, 23, 22, 21, 22, 23, 29, 28, 27, 28, 34, 35, 36, 35, 34, 35, 36, 37, 36, 35, 36, 38, 39, 40, 41, 42, 43, 44, 43, 48, 49, 48, 54, 55, 56, 58, 59, 60, 61, 65, 66, 67, 68, 69, 74, 75, 76, 77, 83, 84, 83, 84, 83, 82, 81, 82, 83, 84, 85, 86, 87, 86, 85, 84, 85, 84, 85, 91, 92, 91, 92, 96, 97, 101, 102, 103, 104, 105, 106, 107, 106, 105, 106, 111, 112], [0, 1, 0, 1, 2, 1, 4, 3, 2, 7, 9, 10, 13, 14, 15, 16, 22, 23, 22, 21, 22, 23, 29, 28, 27, 28, 34, 35, 36, 35, 34, 35, 36, 37, 36, 35, 36, 38, 39, 40, 41, 42, 43, 44, 43, 48, 49, 48, 54, 55, 56, 58, 59, 60, 61, 65, 66, 67, 68, 69, 74, 75, 76, 77, 83, 84, 83, 84, 83, 82, 81, 82, 83, 84, 85, 86, 87, 86, 85, 84, 85, 84, 85, 91, 92, 91, 92, 96, 97, 101, 102, 103, 104, 105, 106, 107, 106, 105, 106, 111, 112], [0, 1, 0, 1, 2, 1, 4, 3, 2, 7, 9, 10, 13, 14, 15, 16, 22, 23, 22, 21, 22, 23, 29, 28, 27, 28, 34, 35, 36, 35, 34, 35, 36, 37, 36, 35, 36, 38, 39, 40, 41, 42, 43, 44, 43, 48, 49, 48, 54, 55, 56, 58, 59, 60, 61, 65, 66, 67, 68, 69, 74, 75, 76, 77, 83, 84, 83, 84, 83, 82, 81, 82, 83, 84, 85, 86, 87, 86, 85, 84, 85, 84, 85, 91, 92, 91, 92, 96, 97, 101, 102, 103, 104, 105, 106, 107, 106, 105, 106, 111, 112], [0, 1, 0, 1, 2, 1, 4, 3, 2, 7, 9, 10, 13, 14, 15, 16, 22, 23, 22, 21, 22, 23, 29, 28, 27, 28, 34, 35, 36, 35, 34, 35, 36, 37, 36, 35, 36, 38, 39, 40, 41, 42, 43, 44, 43, 48, 49, 48, 54, 55, 56, 58, 59, 60, 61, 65, 66, 67, 68, 69, 74, 75, 76, 77, 83, 84, 83, 84, 83, 82, 81, 82, 83, 84, 85, 86, 87, 86, 85, 84, 85, 84, 85, 91, 92, 91, 92, 96, 97, 101, 102, 103, 104, 105, 106, 107, 106, 105, 106, 111, 112], [0, 1, 0, 1, 2, 1, 4, 3, 2, 7, 9, 10, 13, 14, 15, 16, 22, 23, 22, 21, 22, 23, 29, 28, 27, 28, 34, 35, 36, 35, 34, 35, 36, 37, 36, 35, 36, 38, 39, 40, 41, 42, 43, 44, 43, 48, 49, 48, 54, 55, 56, 58, 59, 60, 61, 65, 66, 67, 68, 69, 74, 75, 76, 77, 83, 84, 83, 84, 83, 82, 81, 82, 83, 84, 85, 86, 87, 86, 85, 84, 85, 84, 85, 91, 92, 91, 92, 96, 97, 101, 102, 103, 104, 105, 106, 107, 106, 105, 106, 111, 112], [0, 1, 0, 1, 2, 1, 4, 3, 2, 7, 9, 10, 13, 14, 15, 16, 22, 23, 22, 21, 22, 23, 29, 28, 27, 28, 34, 35, 36, 35, 34, 35, 36, 37, 36, 35, 36, 38, 39, 40, 41, 42, 43, 44, 43, 48, 49, 48, 54, 55, 56, 58, 59, 60, 61, 65, 66, 67, 68, 69, 74, 75, 76, 77, 83, 84, 83, 84, 83, 82, 81, 82, 83, 84, 85, 86, 87, 86, 85, 84, 85, 84, 85, 91, 92, 91, 92, 96, 97, 101, 102, 103, 104, 105, 106, 107, 106, 105, 106, 111, 112], [0, 1, 0, 1, 2, 1, 4, 3, 2, 7, 9, 10, 13, 14, 15, 16, 22, 23, 22, 21, 22, 23, 29, 28, 27, 28, 34, 35, 36, 35, 34, 35, 36, 37, 36, 35, 36, 38, 39, 40, 41, 42, 43, 44, 43, 48, 49, 48, 54, 55, 56, 58, 59, 60, 61, 65, 66, 67, 68, 69, 74, 75, 76, 77, 83, 84, 83, 84, 83, 82, 81, 82, 83, 84, 85, 86, 87, 86, 85, 84, 85, 84, 85, 91, 92, 91, 92, 96, 97, 101, 102, 103, 104, 105, 106, 107, 106, 105, 106, 111, 112], [0, 1, 0, 1, 2, 1, 4, 3, 2, 7, 9, 10, 13, 14, 15, 16, 22, 23, 22, 21, 22, 23, 29, 28, 27, 28, 34, 35, 36, 35, 34, 35, 36, 37, 36, 35, 36, 38, 39, 40, 41, 42, 43, 44, 43, 48, 49, 48, 54, 55, 56, 58, 59, 60, 61, 65, 66, 67, 68, 69, 74, 75, 76, 77, 83, 84, 83, 84, 83, 82, 81, 82, 83, 84, 85, 86, 87, 86, 85, 84, 85, 84, 85, 91, 92, 91, 92, 96, 97, 101, 102, 103, 104, 105, 106, 107, 106, 105, 106, 111, 112], [0, 1, 0, 1, 2, 1, 4, 3, 2, 7, 9, 10, 13, 14, 15, 16, 22, 23, 22, 21, 22, 23, 29, 28, 27, 28, 34, 35, 36, 35, 34, 35, 36, 37, 36, 35, 36, 38, 39, 40, 41, 42, 43, 44, 43, 48, 49, 48, 54, 55, 56, 58, 59, 60, 61, 65, 66, 67, 68, 69, 74, 75, 76, 77, 83, 84, 83, 84, 83, 82, 81, 82, 83, 84, 85, 86, 87, 86, 85, 84, 85, 84, 85, 91, 92, 91, 92, 96, 97, 101, 102, 103, 104, 105, 106, 107, 106, 105, 106, 111, 112], [0, 1, 0, 1, 2, 1, 4, 3, 2, 7, 9, 10, 13, 14, 15, 16, 22, 23, 22, 21, 22, 23, 29, 28, 27, 28, 34, 35, 36, 35, 34, 35, 36, 37, 36, 35, 36, 38, 39, 40, 41, 42, 43, 44, 43, 48, 49, 48, 54, 55, 56, 58, 59, 60, 61, 65, 66, 67, 68, 69, 74, 75, 76, 77, 83, 84, 83, 84, 83, 82, 81, 82, 83, 84, 85, 86, 87, 86, 85, 84, 85, 84, 85, 91, 92, 91, 92, 96, 97, 101, 102, 103, 104, 105, 106, 107, 106, 105, 106, 111, 112], [0, 1, 0, 1, 2, 1, 4, 3, 2, 7, 9, 10, 13, 14, 15, 16, 22, 23, 22, 21, 22, 23, 29, 28, 27, 28, 34, 35, 36, 35, 34, 35, 36, 37, 36, 35, 36, 38, 39, 40, 41, 42, 43, 44, 43, 48, 49, 48, 54, 55, 56, 58, 59, 60, 61, 65, 66, 67, 68, 69, 74, 75, 76, 77, 83, 84, 83, 84, 83, 82, 81, 82, 83, 84, 85, 86, 87, 86, 85, 84, 85, 84, 85, 91, 92, 91, 92, 96, 97, 101, 102, 103, 104, 105, 106, 107, 106, 105, 106, 111, 112], [0, 1, 0, 1, 2, 1, 4, 3, 2, 7, 9, 10, 13, 14, 15, 16, 22, 23, 22, 21, 22, 23, 29, 28, 27, 28, 34, 35, 36, 35, 34, 35, 36, 37, 36, 35, 36, 38, 39, 40, 41, 42, 43, 44, 43, 48, 49, 48, 54, 55, 56, 58, 59, 60, 61, 65, 66, 67, 68, 69, 74, 75, 76, 77, 83, 84, 83, 84, 83, 82, 81, 82, 83, 84, 85, 86, 87, 86, 85, 84, 85, 84, 85, 91, 92, 91, 92, 96, 97, 101, 102, 103, 104, 105, 106, 107, 106, 105, 106, 111, 112], [0, 1, 0, 1, 2, 1, 4, 3, 2, 7, 9, 10, 13, 14, 15, 16, 22, 23, 22, 21, 22, 23, 29, 28, 27, 28, 34, 35, 36, 35, 34, 35, 36, 37, 36, 35, 36, 38, 39, 40, 41, 42, 43, 44, 43, 48, 49, 48, 54, 55, 56, 58, 59, 60, 61, 65, 66, 67, 68, 69, 74, 75, 76, 77, 83, 84, 83, 84, 83, 82, 81, 82, 83, 84, 85, 86, 87, 86, 85, 84, 85, 84, 85, 91, 92, 91, 92, 96, 97, 101, 102, 103, 104, 105, 106, 107, 106, 105, 106, 111, 112], [0, 1, 0, 1, 2, 1, 4, 3, 2, 7, 9, 10, 13, 14, 15, 16, 22, 23, 22, 21, 22, 23, 29, 28, 27, 28, 34, 35, 36, 35, 34, 35, 36, 37, 36, 35, 36, 38, 39, 40, 41, 42, 43, 44, 43, 48, 49, 48, 54, 55, 56, 58, 59, 60, 61, 65, 66, 67, 68, 69, 74, 75, 76, 77, 83, 84, 83, 84, 83, 82, 81, 82, 83, 84, 85, 86, 87, 86, 85, 84, 85, 84, 85, 91, 92, 91, 92, 96, 97, 101, 102, 103, 104, 105, 106, 107, 106, 105, 106, 111, 112], [0, 1, 0, 1, 2, 1, 4, 3, 2, 7, 9, 10, 13, 14, 15, 16, 22, 23, 22, 21, 22, 23, 29, 28, 27, 28, 34, 35, 36, 35, 34, 35, 36, 37, 36, 35, 36, 38, 39, 40, 41, 42, 43, 44, 43, 48, 49, 48, 54, 55, 56, 58, 59, 60, 61, 65, 66, 67, 68, 69, 74, 75, 76, 77, 83, 84, 83, 84, 83, 82, 81, 82, 83, 84, 85, 86, 87, 86, 85, 84, 85, 84, 85, 91, 92, 91, 92, 96, 97, 101, 102, 103, 104, 105, 106, 107, 106, 105, 106, 111, 112], [0, 1, 0, 1, 2, 1, 4, 3, 2, 7, 9, 10, 13, 14, 15, 16, 22, 23, 22, 21, 22, 23, 29, 28, 27, 28, 34, 35, 36, 35, 34, 35, 36, 37, 36, 35, 36, 38, 39, 40, 41, 42, 43, 44, 43, 48, 49, 48, 54, 55, 56, 58, 59, 60, 61, 65, 66, 67, 68, 69, 74, 75, 76, 77, 83, 84, 83, 84, 83, 82, 81, 82, 83, 84, 85, 86, 87, 86, 85, 84, 85, 84, 85, 91, 92, 91, 92, 96, 97, 101, 102, 103, 104, 105, 106, 107, 106, 105, 106, 111, 112], [0, 1, 0, 1, 2, 1, 4, 3, 2, 7, 9, 10, 13, 14, 15, 16, 22, 23, 22, 21, 22, 23, 29, 28, 27, 28, 34, 35, 36, 35, 34, 35, 36, 37, 36, 35, 36, 38, 39, 40, 41, 42, 43, 44, 43, 48, 49, 48, 54, 55, 56, 58, 59, 60, 61, 65, 66, 67, 68, 69, 74, 75, 76, 77, 83, 84, 83, 84, 83, 82, 81, 82, 83, 84, 85, 86, 87, 86, 85, 84, 85, 84, 85, 91, 92, 91, 92, 96, 97, 101, 102, 103, 104, 105, 106, 107, 106, 105, 106, 111, 112], [0, 1, 0, 1, 2, 1, 4, 3, 2, 7, 9, 10, 13, 14, 15, 16, 22, 23, 22, 21, 22, 23, 29, 28, 27, 28, 34, 35, 36, 35, 34, 35, 36, 37, 36, 35, 36, 38, 39, 40, 41, 42, 43, 44, 43, 48, 49, 48, 54, 55, 56, 58, 59, 60, 61, 65, 66, 67, 68, 69, 74, 75, 76, 77, 83, 84, 83, 84, 83, 82, 81, 82, 83, 84, 85, 86, 87, 86, 85, 84, 85, 84, 85, 91, 92, 91, 92, 96, 97, 101, 102, 103, 104, 105, 106, 107, 106, 105, 106, 111, 112], [0, 1, 0, 1, 2, 1, 4, 3, 2, 7, 9, 10, 13, 14, 15, 16, 22, 23, 22, 21, 22, 23, 29, 28, 27, 28, 34, 35, 36, 35, 34, 35, 36, 37, 36, 35, 36, 38, 39, 40, 41, 42, 43, 44, 43, 48, 49, 48, 54, 55, 56, 58, 59, 60, 61, 65, 66, 67, 68, 69, 74, 75, 76, 77, 83, 84, 83, 84, 83, 82, 81, 82, 83, 84, 85, 86, 87, 86, 85, 84, 85, 84, 85, 91, 92, 91, 92, 96, 97, 101, 102, 103, 104, 105, 106, 107, 106, 105, 106, 111, 112], [0, 1, 0, 1, 2, 1, 4, 3, 2, 7, 9, 10, 13, 14, 15, 16, 22, 23, 22, 21, 22, 23, 29, 28, 27, 28, 34, 35, 36, 35, 34, 35, 36, 37, 36, 35, 36, 38, 39, 40, 41, 42, 43, 44, 43, 48, 49, 48, 54, 55, 56, 58, 59, 60, 61, 65, 66, 67, 68, 69, 74, 75, 76, 77, 83, 84, 83, 84, 83, 82, 81, 82, 83, 84, 85, 86, 87, 86, 85, 84, 85, 84, 85, 91, 92, 91, 92, 96, 97, 101, 102, 103, 104, 105, 106, 107, 106, 105, 106, 111, 112], [0, 1, 0, 1, 2, 1, 4, 3, 2, 7, 9, 10, 13, 14, 15, 16, 22, 23, 22, 21, 22, 23, 29, 28, 27, 28, 34, 35, 36, 35, 34, 35, 36, 37, 36, 35, 36, 38, 39, 40, 41, 42, 43, 44, 43, 48, 49, 48, 54, 55, 56, 58, 59, 60, 61, 65, 66, 67, 68, 69, 74, 75, 76, 77, 83, 84, 83, 84, 83, 82, 81, 82, 83, 84, 85, 86, 87, 86, 85, 84, 85, 84, 85, 91, 92, 91, 92, 96, 97, 101, 102, 103, 104, 105, 106, 107, 106, 105, 106, 111, 112], [0, 1, 0, 1, 2, 1, 4, 3, 2, 7, 9, 10, 13, 14, 15, 16, 22, 23, 22, 21, 22, 23, 29, 28, 27, 28, 34, 35, 36, 35, 34, 35, 36, 37, 36, 35, 36, 38, 39, 40, 41, 42, 43, 44, 43, 48, 49, 48, 54, 55, 56, 58, 59, 60, 61, 65, 66, 67, 68, 69, 74, 75, 76, 77, 83, 84, 83, 84, 83, 82, 81, 82, 83, 84, 85, 86, 87, 86, 85, 84, 85, 84, 85, 91, 92, 91, 92, 96, 97, 101, 102, 103, 104, 105, 106, 107, 106, 105, 106, 111, 112], [0, 1, 0, 1, 2, 1, 4, 3, 2, 7, 9, 10, 13, 14, 15, 16, 22, 23, 22, 21, 22, 23, 29, 28, 27, 28, 34, 35, 36, 35, 34, 35, 36, 37, 36, 35, 36, 38, 39, 40, 41, 42, 43, 44, 43, 48, 49, 48, 54, 55, 56, 58, 59, 60, 61, 65, 66, 67, 68, 69, 74, 75, 76, 77, 83, 84, 83, 84, 83, 82, 81, 82, 83, 84, 85, 86, 87, 86, 85, 84, 85, 84, 85, 91, 92, 91, 92, 96, 97, 101, 102, 103, 104, 105, 106, 107, 106, 105, 106, 111, 112], [0, 1, 0, 1, 2, 1, 4, 3, 2, 7, 9, 10, 13, 14, 15, 16, 22, 23, 22, 21, 22, 23, 29, 28, 27, 28, 34, 35, 36, 35, 34, 35, 36, 37, 36, 35, 36, 38, 39, 40, 41, 42, 43, 44, 43, 48, 49, 48, 54, 55, 56, 58, 59, 60, 61, 65, 66, 67, 68, 69, 74, 75, 76, 77, 83, 84, 83, 84, 83, 82, 81, 82, 83, 84, 85, 86, 87, 86, 85, 84, 85, 84, 85, 91, 92, 91, 92, 96, 97, 101, 102, 103, 104, 105, 106, 107, 106, 105, 106, 111, 112], [0, 1, 0, 1, 2, 1, 4, 3, 2, 7, 9, 10, 13, 14, 15, 16, 22, 23, 22, 21, 22, 23, 29, 28, 27, 28, 34, 35, 36, 35, 34, 35, 36, 37, 36, 35, 36, 38, 39, 40, 41, 42, 43, 44, 43, 48, 49, 48, 54, 55, 56, 58, 59, 60, 61, 65, 66, 67, 68, 69, 74, 75, 76, 77, 83, 84, 83, 84, 83, 82, 81, 82, 83, 84, 85, 86, 87, 86, 85, 84, 85, 84, 85, 91, 92, 91, 92, 96, 97, 101, 102, 103, 104, 105, 106, 107, 106, 105, 106, 111, 112], [0, 1, 0, 1, 2, 1, 4, 3, 2, 7, 9, 10, 13, 14, 15, 16, 22, 23, 22, 21, 22, 23, 29, 28, 27, 28, 34, 35, 36, 35, 34, 35, 36, 37, 36, 35, 36, 38, 39, 40, 41, 42, 43, 44, 43, 48, 49, 48, 54, 55, 56, 58, 59, 60, 61, 65, 66, 67, 68, 69, 74, 75, 76, 77, 83, 84, 83, 84, 83, 82, 81, 82, 83, 84, 85, 86, 87, 86, 85, 84, 85, 84, 85, 91, 92, 91, 92, 96, 97, 101, 102, 103, 104, 105, 106, 107, 106, 105, 106, 111, 112], [0, 1, 0, 1, 2, 1, 4, 3, 2, 7, 9, 10, 13, 14, 15, 16, 22, 23, 22, 21, 22, 23, 29, 28, 27, 28, 34, 35, 36, 35, 34, 35, 36, 37, 36, 35, 36, 38, 39, 40, 41, 42, 43, 44, 43, 48, 49, 48, 54, 55, 56, 58, 59, 60, 61, 65, 66, 67, 68, 69, 74, 75, 76, 77, 83, 84, 83, 84, 83, 82, 81, 82, 83, 84, 85, 86, 87, 86, 85, 84, 85, 84, 85, 91, 92, 91, 92, 96, 97, 101, 102, 103, 104, 105, 106, 107, 106, 105, 106, 111, 112], [0, 1, 0, 1, 2, 1, 4, 3, 2, 7, 9, 10, 13, 14, 15, 16, 22, 23, 22, 21, 22, 23, 29, 28, 27, 28, 34, 35, 36, 35, 34, 35, 36, 37, 36, 35, 36, 38, 39, 40, 41, 42, 43, 44, 43, 48, 49, 48, 54, 55, 56, 58, 59, 60, 61, 65, 66, 67, 68, 69, 74, 75, 76, 77, 83, 84, 83, 84, 83, 82, 81, 82, 83, 84, 85, 86, 87, 86, 85, 84, 85, 84, 85, 91, 92, 91, 92, 96, 97, 101, 102, 103, 104, 105, 106, 107, 106, 105, 106, 111, 112], [0, 1, 0, 1, 2, 1, 4, 3, 2, 7, 9, 10, 13, 14, 15, 16, 22, 23, 22, 21, 22, 23, 29, 28, 27, 28, 34, 35, 36, 35, 34, 35, 36, 37, 36, 35, 36, 38, 39, 40, 41, 42, 43, 44, 43, 48, 49, 48, 54, 55, 56, 58, 59, 60, 61, 65, 66, 67, 68, 69, 74, 75, 76, 77, 83, 84, 83, 84, 83, 82, 81, 82, 83, 84, 85, 86, 87, 86, 85, 84, 85, 84, 85, 91, 92, 91, 92, 96, 97, 101, 102, 103, 104, 105, 106, 107, 106, 105, 106, 111, 112], [0, 1, 0, 1, 2, 1, 4, 3, 2, 7, 9, 10, 13, 14, 15, 16, 22, 23, 22, 21, 22, 23, 29, 28, 27, 28, 34, 35, 36, 35, 34, 35, 36, 37, 36, 35, 36, 38, 39, 40, 41, 42, 43, 44, 43, 48, 49, 48, 54, 55, 56, 58, 59, 60, 61, 65, 66, 67, 68, 69, 74, 75, 76, 77, 83, 84, 83, 84, 83, 82, 81, 82, 83, 84, 85, 86, 87, 86, 85, 84, 85, 84, 85, 91, 92, 91, 92, 96, 97, 101, 102, 103, 104, 105, 106, 107, 106, 105, 106, 111, 112], [0, 1, 0, 1, 2, 1, 4, 3, 2, 7, 9, 10, 13, 14, 15, 16, 22, 23, 22, 21, 22, 23, 29, 28, 27, 28, 34, 35, 36, 35, 34, 35, 36, 37, 36, 35, 36, 38, 39, 40, 41, 42, 43, 44, 43, 48, 49, 48, 54, 55, 56, 58, 59, 60, 61, 65, 66, 67, 68, 69, 74, 75, 76, 77, 83, 84, 83, 84, 83, 82, 81, 82, 83, 84, 85, 86, 87, 86, 85, 84, 85, 84, 85, 91, 92, 91, 92, 96, 97, 101, 102, 103, 104, 105, 106, 107, 106, 105, 106, 111, 112], [0, 1, 0, 1, 2, 1, 4, 3, 2, 7, 9, 10, 13, 14, 15, 16, 22, 23, 22, 21, 22, 23, 29, 28, 27, 28, 34, 35, 36, 35, 34, 35, 36, 37, 36, 35, 36, 38, 39, 40, 41, 42, 43, 44, 43, 48, 49, 48, 54, 55, 56, 58, 59, 60, 61, 65, 66, 67, 68, 69, 74, 75, 76, 77, 83, 84, 83, 84, 83, 82, 81, 82, 83, 84, 85, 86, 87, 86, 85, 84, 85, 84, 85, 91, 92, 91, 92, 96, 97, 101, 102, 103, 104, 105, 106, 107, 106, 105, 106, 111, 112], [0, 1, 0, 1, 2, 1, 4, 3, 2, 7, 9, 10, 13, 14, 15, 16, 22, 23, 22, 21, 22, 23, 29, 28, 27, 28, 34, 35, 36, 35, 34, 35, 36, 37, 36, 35, 36, 38, 39, 40, 41, 42, 43, 44, 43, 48, 49, 48, 54, 55, 56, 58, 59, 60, 61, 65, 66, 67, 68, 69, 74, 75, 76, 77, 83, 84, 83, 84, 83, 82, 81, 82, 83, 84, 85, 86, 87, 86, 85, 84, 85, 84, 85, 91, 92, 91, 92, 96, 97, 101, 102, 103, 104, 105, 106, 107, 106, 105, 106, 111, 112], [0, 1, 0, 1, 2, 1, 4, 3, 2, 7, 9, 10, 13, 14, 15, 16, 22, 23, 22, 21, 22, 23, 29, 28, 27, 28, 34, 35, 36, 35, 34, 35, 36, 37, 36, 35, 36, 38, 39, 40, 41, 42, 43, 44, 43, 48, 49, 48, 54, 55, 56, 58, 59, 60, 61, 65, 66, 67, 68, 69, 74, 75, 76, 77, 83, 84, 83, 84, 83, 82, 81, 82, 83, 84, 85, 86, 87, 86, 85, 84, 85, 84, 85, 91, 92, 91, 92, 96, 97, 101, 102, 103, 104, 105, 106, 107, 106, 105, 106, 111, 112], [0, 1, 0, 1, 2, 1, 4, 3, 2, 7, 9, 10, 13, 14, 15, 16, 22, 23, 22, 21, 22, 23, 29, 28, 27, 28, 34, 35, 36, 35, 34, 35, 36, 37, 36, 35, 36, 38, 39, 40, 41, 42, 43, 44, 43, 48, 49, 48, 54, 55, 56, 58, 59, 60, 61, 65, 66, 67, 68, 69, 74, 75, 76, 77, 83, 84, 83, 84, 83, 82, 81, 82, 83, 84, 85, 86, 87, 86, 85, 84, 85, 84, 85, 91, 92, 91, 92, 96, 97, 101, 102, 103, 104, 105, 106, 107, 106, 105, 106, 111, 112], [0, 1, 0, 1, 2, 1, 4, 3, 2, 7, 9, 10, 13, 14, 15, 16, 22, 23, 22, 21, 22, 23, 29, 28, 27, 28, 34, 35, 36, 35, 34, 35, 36, 37, 36, 35, 36, 38, 39, 40, 41, 42, 43, 44, 43, 48, 49, 48, 54, 55, 56, 58, 59, 60, 61, 65, 66, 67, 68, 69, 74, 75, 76, 77, 83, 84, 83, 84, 83, 82, 81, 82, 83, 84, 85, 86, 87, 86, 85, 84, 85, 84, 85, 91, 92, 91, 92, 96, 97, 101, 102, 103, 104, 105, 106, 107, 106, 105, 106, 111, 112], [0, 1, 0, 1, 2, 1, 4, 3, 2, 7, 9, 10, 13, 14, 15, 16, 22, 23, 22, 21, 22, 23, 29, 28, 27, 28, 34, 35, 36, 35, 34, 35, 36, 37, 36, 35, 36, 38, 39, 40, 41, 42, 43, 44, 43, 48, 49, 48, 54, 55, 56, 58, 59, 60, 61, 65, 66, 67, 68, 69, 74, 75, 76, 77, 83, 84, 83, 84, 83, 82, 81, 82, 83, 84, 85, 86, 87, 86, 85, 84, 85, 84, 85, 91, 92, 91, 92, 96, 97, 101, 102, 103, 104, 105, 106, 107, 106, 105, 106, 111, 112], [0, 1, 0, 1, 2, 1, 4, 3, 2, 7, 9, 10, 13, 14, 15, 16, 22, 23, 22, 21, 22, 23, 29, 28, 27, 28, 34, 35, 36, 35, 34, 35, 36, 37, 36, 35, 36, 38, 39, 40, 41, 42, 43, 44, 43, 48, 49, 48, 54, 55, 56, 58, 59, 60, 61, 65, 66, 67, 68, 69, 74, 75, 76, 77, 83, 84, 83, 84, 83, 82, 81, 82, 83, 84, 85, 86, 87, 86, 85, 84, 85, 84, 85, 91, 92, 91, 92, 96, 97, 101, 102, 103, 104, 105, 106, 107, 106, 105, 106, 111, 112], [0, 1, 0, 1, 2, 1, 4, 3, 2, 7, 9, 10, 13, 14, 15, 16, 22, 23, 22, 21, 22, 23, 29, 28, 27, 28, 34, 35, 36, 35, 34, 35, 36, 37, 36, 35, 36, 38, 39, 40, 41, 42, 43, 44, 43, 48, 49, 48, 54, 55, 56, 58, 59, 60, 61, 65, 66, 67, 68, 69, 74, 75, 76, 77, 83, 84, 83, 84, 83, 82, 81, 82, 83, 84, 85, 86, 87, 86, 85, 84, 85, 84, 85, 91, 92, 91, 92, 96, 97, 101, 102, 103, 104, 105, 106, 107, 106, 105, 106, 111, 112], [0, 1, 0, 1, 2, 1, 4, 3, 2, 7, 9, 10, 13, 14, 15, 16, 22, 23, 22, 21, 22, 23, 29, 28, 27, 28, 34, 35, 36, 35, 34, 35, 36, 37, 36, 35, 36, 38, 39, 40, 41, 42, 43, 44, 43, 48, 49, 48, 54, 55, 56, 58, 59, 60, 61, 65, 66, 67, 68, 69, 74, 75, 76, 77, 83, 84, 83, 84, 83, 82, 81, 82, 83, 84, 85, 86, 87, 86, 85, 84, 85, 84, 85, 91, 92, 91, 92, 96, 97, 101, 102, 103, 104, 105, 106, 107, 106, 105, 106, 111, 112], [0, 1, 0, 1, 2, 1, 4, 3, 2, 7, 9, 10, 13, 14, 15, 16, 22, 23, 22, 21, 22, 23, 29, 28, 27, 28, 34, 35, 36, 35, 34, 35, 36, 37, 36, 35, 36, 38, 39, 40, 41, 42, 43, 44, 43, 48, 49, 48, 54, 55, 56, 58, 59, 60, 61, 65, 66, 67, 68, 69, 74, 75, 76, 77, 83, 84, 83, 84, 83, 82, 81, 82, 83, 84, 85, 86, 87, 86, 85, 84, 85, 84, 85, 91, 92, 91, 92, 96, 97, 101, 102, 103, 104, 105, 106, 107, 106, 105, 106, 111, 112], [0, 1, 0, 1, 2, 1, 4, 3, 2, 7, 9, 10, 13, 14, 15, 16, 22, 23, 22, 21, 22, 23, 29, 28, 27, 28, 34, 35, 36, 35, 34, 35, 36, 37, 36, 35, 36, 38, 39, 40, 41, 42, 43, 44, 43, 48, 49, 48, 54, 55, 56, 58, 59, 60, 61, 65, 66, 67, 68, 69, 74, 75, 76, 77, 83, 84, 83, 84, 83, 82, 81, 82, 83, 84, 85, 86, 87, 86, 85, 84, 85, 84, 85, 91, 92, 91, 92, 96, 97, 101, 102, 103, 104, 105, 106, 107, 106, 105, 106, 111, 112], [0, 1, 0, 1, 2, 1, 4, 3, 2, 7, 9, 10, 13, 14, 15, 16, 22, 23, 22, 21, 22, 23, 29, 28, 27, 28, 34, 35, 36, 35, 34, 35, 36, 37, 36, 35, 36, 38, 39, 40, 41, 42, 43, 44, 43, 48, 49, 48, 54, 55, 56, 58, 59, 60, 61, 65, 66, 67, 68, 69, 74, 75, 76, 77, 83, 84, 83, 84, 83, 82, 81, 82, 83, 84, 85, 86, 87, 86, 85, 84, 85, 84, 85, 91, 92, 91, 92, 96, 97, 101, 102, 103, 104, 105, 106, 107, 106, 105, 106, 111, 112], [0, 1, 0, 1, 2, 1, 4, 3, 2, 7, 9, 10, 13, 14, 15, 16, 22, 23, 22, 21, 22, 23, 29, 28, 27, 28, 34, 35, 36, 35, 34, 35, 36, 37, 36, 35, 36, 38, 39, 40, 41, 42, 43, 44, 43, 48, 49, 48, 54, 55, 56, 58, 59, 60, 61, 65, 66, 67, 68, 69, 74, 75, 76, 77, 83, 84, 83, 84, 83, 82, 81, 82, 83, 84, 85, 86, 87, 86, 85, 84, 85, 84, 85, 91, 92, 91, 92, 96, 97, 101, 102, 103, 104, 105, 106, 107, 106, 105, 106, 111, 112], [0, 1, 0, 1, 2, 1, 4, 3, 2, 7, 9, 10, 13, 14, 15, 16, 22, 23, 22, 21, 22, 23, 29, 28, 27, 28, 34, 35, 36, 35, 34, 35, 36, 37, 36, 35, 36, 38, 39, 40, 41, 42, 43, 44, 43, 48, 49, 48, 54, 55, 56, 58, 59, 60, 61, 65, 66, 67, 68, 69, 74, 75, 76, 77, 83, 84, 83, 84, 83, 82, 81, 82, 83, 84, 85, 86, 87, 86, 85, 84, 85, 84, 85, 91, 92, 91, 92, 96, 97, 101, 102, 103, 104, 105, 106, 107, 106, 105, 106, 111, 112], [0, 1, 0, 1, 2, 1, 4, 3, 2, 7, 9, 10, 13, 14, 15, 16, 22, 23, 22, 21, 22, 23, 29, 28, 27, 28, 34, 35, 36, 35, 34, 35, 36, 37, 36, 35, 36, 38, 39, 40, 41, 42, 43, 44, 43, 48, 49, 48, 54, 55, 56, 58, 59, 60, 61, 65, 66, 67, 68, 69, 74, 75, 76, 77, 83, 84, 83, 84, 83, 82, 81, 82, 83, 84, 85, 86, 87, 86, 85, 84, 85, 84, 85, 91, 92, 91, 92, 96, 97, 101, 102, 103, 104, 105, 106, 107, 106, 105, 106, 111, 112], [0, 1, 0, 1, 2, 1, 4, 3, 2, 7, 9, 10, 13, 14, 15, 16, 22, 23, 22, 21, 22, 23, 29, 28, 27, 28, 34, 35, 36, 35, 34, 35, 36, 37, 36, 35, 36, 38, 39, 40, 41, 42, 43, 44, 43, 48, 49, 48, 54, 55, 56, 58, 59, 60, 61, 65, 66, 67, 68, 69, 74, 75, 76, 77, 83, 84, 83, 84, 83, 82, 81, 82, 83, 84, 85, 86, 87, 86, 85, 84, 85, 84, 85, 91, 92, 91, 92, 96, 97, 101, 102, 103, 104, 105, 106, 107, 106, 105, 106, 111, 112], [0, 1, 0, 1, 2, 1, 4, 3, 2, 7, 9, 10, 13, 14, 15, 16, 22, 23, 22, 21, 22, 23, 29, 28, 27, 28, 34, 35, 36, 35, 34, 35, 36, 37, 36, 35, 36, 38, 39, 40, 41, 42, 43, 44, 43, 48, 49, 48, 54, 55, 56, 58, 59, 60, 61, 65, 66, 67, 68, 69, 74, 75, 76, 77, 83, 84, 83, 84, 83, 82, 81, 82, 83, 84, 85, 86, 87, 86, 85, 84, 85, 84, 85, 91, 92, 91, 92, 96, 97, 101, 102, 103, 104, 105, 106, 107, 106, 105, 106, 111, 112], [0, 1, 0, 1, 2, 1, 4, 3, 2, 7, 9, 10, 13, 14, 15, 16, 22, 23, 22, 21, 22, 23, 29, 28, 27, 28, 34, 35, 36, 35, 34, 35, 36, 37, 36, 35, 36, 38, 39, 40, 41, 42, 43, 44, 43, 48, 49, 48, 54, 55, 56, 58, 59, 60, 61, 65, 66, 67, 68, 69, 74, 75, 76, 77, 83, 84, 83, 84, 83, 82, 81, 82, 83, 84, 85, 86, 87, 86, 85, 84, 85, 84, 85, 91, 92, 91, 92, 96, 97, 101, 102, 103, 104, 105, 106, 107, 106, 105, 106, 111, 112], [0, 1, 0, 1, 2, 1, 4, 3, 2, 7, 9, 10, 13, 14, 15, 16, 22, 23, 22, 21, 22, 23, 29, 28, 27, 28, 34, 35, 36, 35, 34, 35, 36, 37, 36, 35, 36, 38, 39, 40, 41, 42, 43, 44, 43, 48, 49, 48, 54, 55, 56, 58, 59, 60, 61, 65, 66, 67, 68, 69, 74, 75, 76, 77, 83, 84, 83, 84, 83, 82, 81, 82, 83, 84, 85, 86, 87, 86, 85, 84, 85, 84, 85, 91, 92, 91, 92, 96, 97, 101, 102, 103, 104, 105, 106, 107, 106, 105, 106, 111, 112], [0, 1, 0, 1, 2, 1, 4, 3, 2, 7, 9, 10, 13, 14, 15, 16, 22, 23, 22, 21, 22, 23, 29, 28, 27, 28, 34, 35, 36, 35, 34, 35, 36, 37, 36, 35, 36, 38, 39, 40, 41, 42, 43, 44, 43, 48, 49, 48, 54, 55, 56, 58, 59, 60, 61, 65, 66, 67, 68, 69, 74, 75, 76, 77, 83, 84, 83, 84, 83, 82, 81, 82, 83, 84, 85, 86, 87, 86, 85, 84, 85, 84, 85, 91, 92, 91, 92, 96, 97, 101, 102, 103, 104, 105, 106, 107, 106, 105, 106, 111, 112], [0, 1, 0, 1, 2, 1, 4, 3, 2, 7, 9, 10, 13, 14, 15, 16, 22, 23, 22, 21, 22, 23, 29, 28, 27, 28, 34, 35, 36, 35, 34, 35, 36, 37, 36, 35, 36, 38, 39, 40, 41, 42, 43, 44, 43, 48, 49, 48, 54, 55, 56, 58, 59, 60, 61, 65, 66, 67, 68, 69, 74, 75, 76, 77, 83, 84, 83, 84, 83, 82, 81, 82, 83, 84, 85, 86, 87, 86, 85, 84, 85, 84, 85, 91, 92, 91, 92, 96, 97, 101, 102, 103, 104, 105, 106, 107, 106, 105, 106, 111, 112], [0, 1, 0, 1, 2, 1, 4, 3, 2, 7, 9, 10, 13, 14, 15, 16, 22, 23, 22, 21, 22, 23, 29, 28, 27, 28, 34, 35, 36, 35, 34, 35, 36, 37, 36, 35, 36, 38, 39, 40, 41, 42, 43, 44, 43, 48, 49, 48, 54, 55, 56, 58, 59, 60, 61, 65, 66, 67, 68, 69, 74, 75, 76, 77, 83, 84, 83, 84, 83, 82, 81, 82, 83, 84, 85, 86, 87, 86, 85, 84, 85, 84, 85, 91, 92, 91, 92, 96, 97, 101, 102, 103, 104, 105, 106, 107, 106, 105, 106, 111, 112], [0, 1, 0, 1, 2, 1, 4, 3, 2, 7, 9, 10, 13, 14, 15, 16, 22, 23, 22, 21, 22, 23, 29, 28, 27, 28, 34, 35, 36, 35, 34, 35, 36, 37, 36, 35, 36, 38, 39, 40, 41, 42, 43, 44, 43, 48, 49, 48, 54, 55, 56, 58, 59, 60, 61, 65, 66, 67, 68, 69, 74, 75, 76, 77, 83, 84, 83, 84, 83, 82, 81, 82, 83, 84, 85, 86, 87, 86, 85, 84, 85, 84, 85, 91, 92, 91, 92, 96, 97, 101, 102, 103, 104, 105, 106, 107, 106, 105, 106, 111, 112], [0, 1, 0, 1, 2, 1, 4, 3, 2, 7, 9, 10, 13, 14, 15, 16, 22, 23, 22, 21, 22, 23, 29, 28, 27, 28, 34, 35, 36, 35, 34, 35, 36, 37, 36, 35, 36, 38, 39, 40, 41, 42, 43, 44, 43, 48, 49, 48, 54, 55, 56, 58, 59, 60, 61, 65, 66, 67, 68, 69, 74, 75, 76, 77, 83, 84, 83, 84, 83, 82, 81, 82, 83, 84, 85, 86, 87, 86, 85, 84, 85, 84, 85, 91, 92, 91, 92, 96, 97, 101, 102, 103, 104, 105, 106, 107, 106, 105, 106, 111, 112], [0, 1, 0, 1, 2, 1, 4, 3, 2, 7, 9, 10, 13, 14, 15, 16, 22, 23, 22, 21, 22, 23, 29, 28, 27, 28, 34, 35, 36, 35, 34, 35, 36, 37, 36, 35, 36, 38, 39, 40, 41, 42, 43, 44, 43, 48, 49, 48, 54, 55, 56, 58, 59, 60, 61, 65, 66, 67, 68, 69, 74, 75, 76, 77, 83, 84, 83, 84, 83, 82, 81, 82, 83, 84, 85, 86, 87, 86, 85, 84, 85, 84, 85, 91, 92, 91, 92, 96, 97, 101, 102, 103, 104, 105, 106, 107, 106, 105, 106, 111, 112], [0, 1, 0, 1, 2, 1, 4, 3, 2, 7, 9, 10, 13, 14, 15, 16, 22, 23, 22, 21, 22, 23, 29, 28, 27, 28, 34, 35, 36, 35, 34, 35, 36, 37, 36, 35, 36, 38, 39, 40, 41, 42, 43, 44, 43, 48, 49, 48, 54, 55, 56, 58, 59, 60, 61, 65, 66, 67, 68, 69, 74, 75, 76, 77, 83, 84, 83, 84, 83, 82, 81, 82, 83, 84, 85, 86, 87, 86, 85, 84, 85, 84, 85, 91, 92, 91, 92, 96, 97, 101, 102, 103, 104, 105, 106, 107, 106, 105, 106, 111, 112], [0, 1, 0, 1, 2, 1, 4, 3, 2, 7, 9, 10, 13, 14, 15, 16, 22, 23, 22, 21, 22, 23, 29, 28, 27, 28, 34, 35, 36, 35, 34, 35, 36, 37, 36, 35, 36, 38, 39, 40, 41, 42, 43, 44, 43, 48, 49, 48, 54, 55, 56, 58, 59, 60, 61, 65, 66, 67, 68, 69, 74, 75, 76, 77, 83, 84, 83, 84, 83, 82, 81, 82, 83, 84, 85, 86, 87, 86, 85, 84, 85, 84, 85, 91, 92, 91, 92, 96, 97, 101, 102, 103, 104, 105, 106, 107, 106, 105, 106, 111, 112], [0, 1, 0, 1, 2, 1, 4, 3, 2, 7, 9, 10, 13, 14, 15, 16, 22, 23, 22, 21, 22, 23, 29, 28, 27, 28, 34, 35, 36, 35, 34, 35, 36, 37, 36, 35, 36, 38, 39, 40, 41, 42, 43, 44, 43, 48, 49, 48, 54, 55, 56, 58, 59, 60, 61, 65, 66, 67, 68, 69, 74, 75, 76, 77, 83, 84, 83, 84, 83, 82, 81, 82, 83, 84, 85, 86, 87, 86, 85, 84, 85, 84, 85, 91, 92, 91, 92, 96, 97, 101, 102, 103, 104, 105, 106, 107, 106, 105, 106, 111, 112], [0, 1, 0, 1, 2, 1, 4, 3, 2, 7, 9, 10, 13, 14, 15, 16, 22, 23, 22, 21, 22, 23, 29, 28, 27, 28, 34, 35, 36, 35, 34, 35, 36, 37, 36, 35, 36, 38, 39, 40, 41, 42, 43, 44, 43, 48, 49, 48, 54, 55, 56, 58, 59, 60, 61, 65, 66, 67, 68, 69, 74, 75, 76, 77, 83, 84, 83, 84, 83, 82, 81, 82, 83, 84, 85, 86, 87, 86, 85, 84, 85, 84, 85, 91, 92, 91, 92, 96, 97, 101, 102, 103, 104, 105, 106, 107, 106, 105, 106, 111, 112], [0, 1, 0, 1, 2, 1, 4, 3, 2, 7, 9, 10, 13, 14, 15, 16, 22, 23, 22, 21, 22, 23, 29, 28, 27, 28, 34, 35, 36, 35, 34, 35, 36, 37, 36, 35, 36, 38, 39, 40, 41, 42, 43, 44, 43, 48, 49, 48, 54, 55, 56, 58, 59, 60, 61, 65, 66, 67, 68, 69, 74, 75, 76, 77, 83, 84, 83, 84, 83, 82, 81, 82, 83, 84, 85, 86, 87, 86, 85, 84, 85, 84, 85, 91, 92, 91, 92, 96, 97, 101, 102, 103, 104, 105, 106, 107, 106, 105, 106, 111, 112], [0, 1, 0, 1, 2, 1, 4, 3, 2, 7, 9, 10, 13, 14, 15, 16, 22, 23, 22, 21, 22, 23, 29, 28, 27, 28, 34, 35, 36, 35, 34, 35, 36, 37, 36, 35, 36, 38, 39, 40, 41, 42, 43, 44, 43, 48, 49, 48, 54, 55, 56, 58, 59, 60, 61, 65, 66, 67, 68, 69, 74, 75, 76, 77, 83, 84, 83, 84, 83, 82, 81, 82, 83, 84, 85, 86, 87, 86, 85, 84, 85, 84, 85, 91, 92, 91, 92, 96, 97, 101, 102, 103, 104, 105, 106, 107, 106, 105, 106, 111, 112], [0, 1, 0, 1, 2, 1, 4, 3, 2, 7, 9, 10, 13, 14, 15, 16, 22, 23, 22, 21, 22, 23, 29, 28, 27, 28, 34, 35, 36, 35, 34, 35, 36, 37, 36, 35, 36, 38, 39, 40, 41, 42, 43, 44, 43, 48, 49, 48, 54, 55, 56, 58, 59, 60, 61, 65, 66, 67, 68, 69, 74, 75, 76, 77, 83, 84, 83, 84, 83, 82, 81, 82, 83, 84, 85, 86, 87, 86, 85, 84, 85, 84, 85, 91, 92, 91, 92, 96, 97, 101, 102, 103, 104, 105, 106, 107, 106, 105, 106, 111, 112], [0, 1, 0, 1, 2, 1, 4, 3, 2, 7, 9, 10, 13, 14, 15, 16, 22, 23, 22, 21, 22, 23, 29, 28, 27, 28, 34, 35, 36, 35, 34, 35, 36, 37, 36, 35, 36, 38, 39, 40, 41, 42, 43, 44, 43, 48, 49, 48, 54, 55, 56, 58, 59, 60, 61, 65, 66, 67, 68, 69, 74, 75, 76, 77, 83, 84, 83, 84, 83, 82, 81, 82, 83, 84, 85, 86, 87, 86, 85, 84, 85, 84, 85, 91, 92, 91, 92, 96, 97, 101, 102, 103, 104, 105, 106, 107, 106, 105, 106, 111, 112], [0, 1, 0, 1, 2, 1, 4, 3, 2, 7, 9, 10, 13, 14, 15, 16, 22, 23, 22, 21, 22, 23, 29, 28, 27, 28, 34, 35, 36, 35, 34, 35, 36, 37, 36, 35, 36, 38, 39, 40, 41, 42, 43, 44, 43, 48, 49, 48, 54, 55, 56, 58, 59, 60, 61, 65, 66, 67, 68, 69, 74, 75, 76, 77, 83, 84, 83, 84, 83, 82, 81, 82, 83, 84, 85, 86, 87, 86, 85, 84, 85, 84, 85, 91, 92, 91, 92, 96, 97, 101, 102, 103, 104, 105, 106, 107, 106, 105, 106, 111, 112], [0, 1, 0, 1, 2, 1, 4, 3, 2, 7, 9, 10, 13, 14, 15, 16, 22, 23, 22, 21, 22, 23, 29, 28, 27, 28, 34, 35, 36, 35, 34, 35, 36, 37, 36, 35, 36, 38, 39, 40, 41, 42, 43, 44, 43, 48, 49, 48, 54, 55, 56, 58, 59, 60, 61, 65, 66, 67, 68, 69, 74, 75, 76, 77, 83, 84, 83, 84, 83, 82, 81, 82, 83, 84, 85, 86, 87, 86, 85, 84, 85, 84, 85, 91, 92, 91, 92, 96, 97, 101, 102, 103, 104, 105, 106, 107, 106, 105, 106, 111, 112], [0, 1, 0, 1, 2, 1, 4, 3, 2, 7, 9, 10, 13, 14, 15, 16, 22, 23, 22, 21, 22, 23, 29, 28, 27, 28, 34, 35, 36, 35, 34, 35, 36, 37, 36, 35, 36, 38, 39, 40, 41, 42, 43, 44, 43, 48, 49, 48, 54, 55, 56, 58, 59, 60, 61, 65, 66, 67, 68, 69, 74, 75, 76, 77, 83, 84, 83, 84, 83, 82, 81, 82, 83, 84, 85, 86, 87, 86, 85, 84, 85, 84, 85, 91, 92, 91, 92, 96, 97, 101, 102, 103, 104, 105, 106, 107, 106, 105, 106, 111, 112], [0, 1, 0, 1, 2, 1, 4, 3, 2, 7, 9, 10, 13, 14, 15, 16, 22, 23, 22, 21, 22, 23, 29, 28, 27, 28, 34, 35, 36, 35, 34, 35, 36, 37, 36, 35, 36, 38, 39, 40, 41, 42, 43, 44, 43, 48, 49, 48, 54, 55, 56, 58, 59, 60, 61, 65, 66, 67, 68, 69, 74, 75, 76, 77, 83, 84, 83, 84, 83, 82, 81, 82, 83, 84, 85, 86, 87, 86, 85, 84, 85, 84, 85, 91, 92, 91, 92, 96, 97, 101, 102, 103, 104, 105, 106, 107, 106, 105, 106, 111, 112], [0, 1, 0, 1, 2, 1, 4, 3, 2, 7, 9, 10, 13, 14, 15, 16, 22, 23, 22, 21, 22, 23, 29, 28, 27, 28, 34, 35, 36, 35, 34, 35, 36, 37, 36, 35, 36, 38, 39, 40, 41, 42, 43, 44, 43, 48, 49, 48, 54, 55, 56, 58, 59, 60, 61, 65, 66, 67, 68, 69, 74, 75, 76, 77, 83, 84, 83, 84, 83, 82, 81, 82, 83, 84, 85, 86, 87, 86, 85, 84, 85, 84, 85, 91, 92, 91, 92, 96, 97, 101, 102, 103, 104, 105, 106, 107, 106, 105, 106, 111, 112], [0, 1, 0, 1, 2, 1, 4, 3, 2, 7, 9, 10, 13, 14, 15, 16, 22, 23, 22, 21, 22, 23, 29, 28, 27, 28, 34, 35, 36, 35, 34, 35, 36, 37, 36, 35, 36, 38, 39, 40, 41, 42, 43, 44, 43, 48, 49, 48, 54, 55, 56, 58, 59, 60, 61, 65, 66, 67, 68, 69, 74, 75, 76, 77, 83, 84, 83, 84, 83, 82, 81, 82, 83, 84, 85, 86, 87, 86, 85, 84, 85, 84, 85, 91, 92, 91, 92, 96, 97, 101, 102, 103, 104, 105, 106, 107, 106, 105, 106, 111, 112], [0, 1, 0, 1, 2, 1, 4, 3, 2, 7, 9, 10, 13, 14, 15, 16, 22, 23, 22, 21, 22, 23, 29, 28, 27, 28, 34, 35, 36, 35, 34, 35, 36, 37, 36, 35, 36, 38, 39, 40, 41, 42, 43, 44, 43, 48, 49, 48, 54, 55, 56, 58, 59, 60, 61, 65, 66, 67, 68, 69, 74, 75, 76, 77, 83, 84, 83, 84, 83, 82, 81, 82, 83, 84, 85, 86, 87, 86, 85, 84, 85, 84, 85, 91, 92, 91, 92, 96, 97, 101, 102, 103, 104, 105, 106, 107, 106, 105, 106, 111, 112], [0, 1, 0, 1, 2, 1, 4, 3, 2, 7, 9, 10, 13, 14, 15, 16, 22, 23, 22, 21, 22, 23, 29, 28, 27, 28, 34, 35, 36, 35, 34, 35, 36, 37, 36, 35, 36, 38, 39, 40, 41, 42, 43, 44, 43, 48, 49, 48, 54, 55, 56, 58, 59, 60, 61, 65, 66, 67, 68, 69, 74, 75, 76, 77, 83, 84, 83, 84, 83, 82, 81, 82, 83, 84, 85, 86, 87, 86, 85, 84, 85, 84, 85, 91, 92, 91, 92, 96, 97, 101, 102, 103, 104, 105, 106, 107, 106, 105, 106, 111, 112], [0, 1, 0, 1, 2, 1, 4, 3, 2, 7, 9, 10, 13, 14, 15, 16, 22, 23, 22, 21, 22, 23, 29, 28, 27, 28, 34, 35, 36, 35, 34, 35, 36, 37, 36, 35, 36, 38, 39, 40, 41, 42, 43, 44, 43, 48, 49, 48, 54, 55, 56, 58, 59, 60, 61, 65, 66, 67, 68, 69, 74, 75, 76, 77, 83, 84, 83, 84, 83, 82, 81, 82, 83, 84, 85, 86, 87, 86, 85, 84, 85, 84, 85, 91, 92, 91, 92, 96, 97, 101, 102, 103, 104, 105, 106, 107, 106, 105, 106, 111, 112], [0, 1, 0, 1, 2, 1, 4, 3, 2, 7, 9, 10, 13, 14, 15, 16, 22, 23, 22, 21, 22, 23, 29, 28, 27, 28, 34, 35, 36, 35, 34, 35, 36, 37, 36, 35, 36, 38, 39, 40, 41, 42, 43, 44, 43, 48, 49, 48, 54, 55, 56, 58, 59, 60, 61, 65, 66, 67, 68, 69, 74, 75, 76, 77, 83, 84, 83, 84, 83, 82, 81, 82, 83, 84, 85, 86, 87, 86, 85, 84, 85, 84, 85, 91, 92, 91, 92, 96, 97, 101, 102, 103, 104, 105, 106, 107, 106, 105, 106, 111, 112], [0, 1, 0, 1, 2, 1, 4, 3, 2, 7, 9, 10, 13, 14, 15, 16, 22, 23, 22, 21, 22, 23, 29, 28, 27, 28, 34, 35, 36, 35, 34, 35, 36, 37, 36, 35, 36, 38, 39, 40, 41, 42, 43, 44, 43, 48, 49, 48, 54, 55, 56, 58, 59, 60, 61, 65, 66, 67, 68, 69, 74, 75, 76, 77, 83, 84, 83, 84, 83, 82, 81, 82, 83, 84, 85, 86, 87, 86, 85, 84, 85, 84, 85, 91, 92, 91, 92, 96, 97, 101, 102, 103, 104, 105, 106, 107, 106, 105, 106, 111, 112], [0, 1, 0, 1, 2, 1, 4, 3, 2, 7, 9, 10, 13, 14, 15, 16, 22, 23, 22, 21, 22, 23, 29, 28, 27, 28, 34, 35, 36, 35, 34, 35, 36, 37, 36, 35, 36, 38, 39, 40, 41, 42, 43, 44, 43, 48, 49, 48, 54, 55, 56, 58, 59, 60, 61, 65, 66, 67, 68, 69, 74, 75, 76, 77, 83, 84, 83, 84, 83, 82, 81, 82, 83, 84, 85, 86, 87, 86, 85, 84, 85, 84, 85, 91, 92, 91, 92, 96, 97, 101, 102, 103, 104, 105, 106, 107, 106, 105, 106, 111, 112], [0, 1, 0, 1, 2, 1, 4, 3, 2, 7, 9, 10, 13, 14, 15, 16, 22, 23, 22, 21, 22, 23, 29, 28, 27, 28, 34, 35, 36, 35, 34, 35, 36, 37, 36, 35, 36, 38, 39, 40, 41, 42, 43, 44, 43, 48, 49, 48, 54, 55, 56, 58, 59, 60, 61, 65, 66, 67, 68, 69, 74, 75, 76, 77, 83, 84, 83, 84, 83, 82, 81, 82, 83, 84, 85, 86, 87, 86, 85, 84, 85, 84, 85, 91, 92, 91, 92, 96, 97, 101, 102, 103, 104, 105, 106, 107, 106, 105, 106, 111, 112], [0, 1, 0, 1, 2, 1, 4, 3, 2, 7, 9, 10, 13, 14, 15, 16, 22, 23, 22, 21, 22, 23, 29, 28, 27, 28, 34, 35, 36, 35, 34, 35, 36, 37, 36, 35, 36, 38, 39, 40, 41, 42, 43, 44, 43, 48, 49, 48, 54, 55, 56, 58, 59, 60, 61, 65, 66, 67, 68, 69, 74, 75, 76, 77, 83, 84, 83, 84, 83, 82, 81, 82, 83, 84, 85, 86, 87, 86, 85, 84, 85, 84, 85, 91, 92, 91, 92, 96, 97, 101, 102, 103, 104, 105, 106, 107, 106, 105, 106, 111, 112], [0, 1, 0, 1, 2, 1, 4, 3, 2, 7, 9, 10, 13, 14, 15, 16, 22, 23, 22, 21, 22, 23, 29, 28, 27, 28, 34, 35, 36, 35, 34, 35, 36, 37, 36, 35, 36, 38, 39, 40, 41, 42, 43, 44, 43, 48, 49, 48, 54, 55, 56, 58, 59, 60, 61, 65, 66, 67, 68, 69, 74, 75, 76, 77, 83, 84, 83, 84, 83, 82, 81, 82, 83, 84, 85, 86, 87, 86, 85, 84, 85, 84, 85, 91, 92, 91, 92, 96, 97, 101, 102, 103, 104, 105, 106, 107, 106, 105, 106, 111, 112], [0, 1, 0, 1, 2, 1, 4, 3, 2, 7, 9, 10, 13, 14, 15, 16, 22, 23, 22, 21, 22, 23, 29, 28, 27, 28, 34, 35, 36, 35, 34, 35, 36, 37, 36, 35, 36, 38, 39, 40, 41, 42, 43, 44, 43, 48, 49, 48, 54, 55, 56, 58, 59, 60, 61, 65, 66, 67, 68, 69, 74, 75, 76, 77, 83, 84, 83, 84, 83, 82, 81, 82, 83, 84, 85, 86, 87, 86, 85, 84, 85, 84, 85, 91, 92, 91, 92, 96, 97, 101, 102, 103, 104, 105, 106, 107, 106, 105, 106, 111, 112], [0, 1, 0, 1, 2, 1, 4, 3, 2, 7, 9, 10, 13, 14, 15, 16, 22, 23, 22, 21, 22, 23, 29, 28, 27, 28, 34, 35, 36, 35, 34, 35, 36, 37, 36, 35, 36, 38, 39, 40, 41, 42, 43, 44, 43, 48, 49, 48, 54, 55, 56, 58, 59, 60, 61, 65, 66, 67, 68, 69, 74, 75, 76, 77, 83, 84, 83, 84, 83, 82, 81, 82, 83, 84, 85, 86, 87, 86, 85, 84, 85, 84, 85, 91, 92, 91, 92, 96, 97, 101, 102, 103, 104, 105, 106, 107, 106, 105, 106, 111, 112]]\n"
          ],
          "name": "stdout"
        }
      ]
    },
    {
      "cell_type": "markdown",
      "metadata": {
        "id": "kOoU-Pop3GPT"
      },
      "source": []
    }
  ]
}